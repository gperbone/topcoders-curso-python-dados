{
 "cells": [
  {
   "cell_type": "markdown",
   "metadata": {},
   "source": [
    "# Aula 2 - Fundamentos da aprendizagem supervisionada\n",
    "\n",
    "____________"
   ]
  },
  {
   "cell_type": "markdown",
   "metadata": {},
   "source": [
    "Conforme vimos anteriormente, dividimos ML em 3 grandes abordagens:\n",
    "\n",
    "<img src=\"https://i.pinimg.com/originals/67/70/5d/67705d8c7aee0c6b601c16548076e924.png\" width=600>\n",
    "\n",
    "Neste curso, trataremos sobre a aprendizagem supervisionada e não supervisionada.\n",
    "\n",
    "Inicialmente, vamos introduzir e explorar a fundo a **aprendizagem supervisionada**. \n",
    "\n",
    "Após seus conceitos e técnicas estarem bem fundamentados, veremos que a aprendizagem não-supervisionada será bem facilmente compreendida, o que faremos nos módulos seguintes."
   ]
  },
  {
   "cell_type": "markdown",
   "metadata": {},
   "source": [
    "Vamos apresentar a aprendizagem supervisionada segundo a seguinte figura:\n",
    "\n",
    "<img src=https://s3-sa-east-1.amazonaws.com/lcpi/dfc2968c-b9a9-43a9-a531-e24e34c2e270.png>"
   ]
  },
  {
   "cell_type": "markdown",
   "metadata": {},
   "source": [
    "Podemos resumir a informação acima no seguinte diagrama:\n",
    "\n",
    "<img src=https://s3-sa-east-1.amazonaws.com/lcpi/70da0385-e3fc-4fda-ba15-0004cc3b68ae.PNG>"
   ]
  },
  {
   "cell_type": "markdown",
   "metadata": {},
   "source": [
    "Esquematicamente, vamos dividir cada \"passada no ciclo\" de modelagem em dois grandes passos:"
   ]
  },
  {
   "cell_type": "markdown",
   "metadata": {},
   "source": [
    "## Passo 1: construção do modelo\n",
    "\n",
    "<img src=https://s3-sa-east-1.amazonaws.com/lcpi/23769bcb-a364-4d7b-a68f-04b3dfcde684.png>"
   ]
  },
  {
   "cell_type": "markdown",
   "metadata": {},
   "source": [
    "## Passo 2: avaliação do modelo\n",
    "\n",
    "<img src=https://s3-sa-east-1.amazonaws.com/lcpi/8de84cf0-adb1-4203-921c-bc8dec07df55.png>"
   ]
  },
  {
   "cell_type": "markdown",
   "metadata": {},
   "source": [
    "Agora que temos estas noções claras, vamos concretizar, nas próximas aulas, as etapas do ciclo de modelagem (passos de 1) a 7)):\n",
    "\n",
    "- 0) Conhecer os dados com os quais estamos trabalhando --- fazer todo o processo de EDA, etc., etc.\n",
    "\n",
    "\n",
    "- 1) Importar a **classe do estimador que se deseja treinar** - escolher a hipótese!\n",
    "    - Usaremos a biblioteca [scikit-learn](https://scikit-learn.org/stable/)\n",
    "  \n",
    "  \n",
    "- 2) Instanciar a classe do estimador, **escolhendo os hiperparâmetros desejados**\n",
    "    - Para a primeira versão do modelo, pode ser uma boa escolha utilizar os parâmetros default;\n",
    "    - Veremos mais pra frente como escolher os hiperparâmetros adequadamente;\n",
    "   \n",
    "   \n",
    "- 3) Separe os dados em **dados de treino** e **dados de teste**.\n",
    "    - Em alguns casos, pode ser interessante criar também um conjunto de **dados de validação**\n",
    "    - Para fazer a separação, usamos o [train-test split](https://scikit-learn.org/stable/modules/generated/sklearn.model_selection.train_test_split.html)\n",
    "    \n",
    "    \n",
    "- 4) Treine o modelo, usando **os dados de treino**\n",
    "\n",
    "\n",
    "- 5) Use o modelo treinado para **fazer previsões** usando os **dados de teste** (ou **de validação**)\n",
    "\n",
    "\n",
    "- 6) **Avalie a performance do modelo com base nas previsões acima**\n",
    "\n",
    "\n",
    "- 7) Se necessário, reinicie o ciclo!\n",
    "\n",
    "\n",
    "- 8) Quando o modelo estiver suficientemente bom, faça o **deploy**"
   ]
  },
  {
   "cell_type": "markdown",
   "metadata": {},
   "source": [
    "### Um exemplo de medida erro..."
   ]
  },
  {
   "cell_type": "code",
   "execution_count": 1,
   "metadata": {},
   "outputs": [],
   "source": [
    "import warnings\n",
    "warnings.filterwarnings('ignore')"
   ]
  },
  {
   "cell_type": "code",
   "execution_count": 2,
   "metadata": {},
   "outputs": [],
   "source": [
    "import pandas as pd\n",
    "import numpy as np"
   ]
  },
  {
   "cell_type": "code",
   "execution_count": 3,
   "metadata": {},
   "outputs": [
    {
     "data": {
      "text/html": [
       "<div>\n",
       "<style scoped>\n",
       "    .dataframe tbody tr th:only-of-type {\n",
       "        vertical-align: middle;\n",
       "    }\n",
       "\n",
       "    .dataframe tbody tr th {\n",
       "        vertical-align: top;\n",
       "    }\n",
       "\n",
       "    .dataframe thead th {\n",
       "        text-align: right;\n",
       "    }\n",
       "</style>\n",
       "<table border=\"1\" class=\"dataframe\">\n",
       "  <thead>\n",
       "    <tr style=\"text-align: right;\">\n",
       "      <th></th>\n",
       "      <th>altura</th>\n",
       "      <th>peso</th>\n",
       "    </tr>\n",
       "  </thead>\n",
       "  <tbody>\n",
       "    <tr>\n",
       "      <th>0</th>\n",
       "      <td>154</td>\n",
       "      <td>45</td>\n",
       "    </tr>\n",
       "    <tr>\n",
       "      <th>1</th>\n",
       "      <td>156</td>\n",
       "      <td>50</td>\n",
       "    </tr>\n",
       "    <tr>\n",
       "      <th>2</th>\n",
       "      <td>165</td>\n",
       "      <td>60</td>\n",
       "    </tr>\n",
       "    <tr>\n",
       "      <th>3</th>\n",
       "      <td>160</td>\n",
       "      <td>55</td>\n",
       "    </tr>\n",
       "    <tr>\n",
       "      <th>4</th>\n",
       "      <td>165</td>\n",
       "      <td>58</td>\n",
       "    </tr>\n",
       "  </tbody>\n",
       "</table>\n",
       "</div>"
      ],
      "text/plain": [
       "   altura  peso\n",
       "0     154    45\n",
       "1     156    50\n",
       "2     165    60\n",
       "3     160    55\n",
       "4     165    58"
      ]
     },
     "execution_count": 3,
     "metadata": {},
     "output_type": "execute_result"
    }
   ],
   "source": [
    "df = pd.read_csv('dados_modelos/altura_peso.csv')\n",
    "df.head()"
   ]
  },
  {
   "cell_type": "code",
   "execution_count": 4,
   "metadata": {},
   "outputs": [
    {
     "data": {
      "text/plain": [
       "(8, 2)"
      ]
     },
     "execution_count": 4,
     "metadata": {},
     "output_type": "execute_result"
    }
   ],
   "source": [
    "df.shape"
   ]
  },
  {
   "cell_type": "code",
   "execution_count": 5,
   "metadata": {},
   "outputs": [
    {
     "data": {
      "text/plain": [
       "altura    int64\n",
       "peso      int64\n",
       "dtype: object"
      ]
     },
     "execution_count": 5,
     "metadata": {},
     "output_type": "execute_result"
    }
   ],
   "source": [
    "df.dtypes"
   ]
  },
  {
   "cell_type": "code",
   "execution_count": 6,
   "metadata": {},
   "outputs": [],
   "source": [
    "import seaborn as sns"
   ]
  },
  {
   "cell_type": "code",
   "execution_count": 7,
   "metadata": {},
   "outputs": [
    {
     "data": {
      "image/png": "[encoded data removed]",
      "text/plain": [
       "<Figure size 432x288 with 1 Axes>"
      ]
     },
     "metadata": {
      "needs_background": "light"
     },
     "output_type": "display_data"
    }
   ],
   "source": [
    "_ = sns.scatterplot(x='altura', y='peso', data=df)"
   ]
  },
  {
   "cell_type": "markdown",
   "metadata": {},
   "source": [
    "Predizendo pesos..."
   ]
  },
  {
   "cell_type": "code",
   "execution_count": 8,
   "metadata": {},
   "outputs": [
    {
     "data": {
      "text/plain": [
       "[155, 161, 165]"
      ]
     },
     "execution_count": 8,
     "metadata": {},
     "output_type": "execute_result"
    }
   ],
   "source": [
    "alturas = [155, 161, 165]\n",
    "alturas"
   ]
  },
  {
   "cell_type": "code",
   "execution_count": 9,
   "metadata": {},
   "outputs": [
    {
     "data": {
      "text/plain": [
       "array([155, 161, 165])"
      ]
     },
     "execution_count": 9,
     "metadata": {},
     "output_type": "execute_result"
    }
   ],
   "source": [
    "np.array(alturas)"
   ]
  },
  {
   "cell_type": "code",
   "execution_count": 10,
   "metadata": {},
   "outputs": [
    {
     "data": {
      "text/plain": [
       "array([[155],\n",
       "       [161],\n",
       "       [165]])"
      ]
     },
     "execution_count": 10,
     "metadata": {},
     "output_type": "execute_result"
    }
   ],
   "source": [
    "alturas_array = np.array(alturas).reshape(-1, 1)\n",
    "alturas_array"
   ]
  },
  {
   "cell_type": "code",
   "execution_count": 11,
   "metadata": {},
   "outputs": [],
   "source": [
    "import pickle"
   ]
  },
  {
   "cell_type": "code",
   "execution_count": 12,
   "metadata": {
    "scrolled": true
   },
   "outputs": [],
   "source": [
    "with open('dados_modelos/estimador_reg_lin.pickle', 'rb') as f:\n",
    "    estimador = pickle.load(f)"
   ]
  },
  {
   "cell_type": "code",
   "execution_count": 13,
   "metadata": {},
   "outputs": [
    {
     "data": {
      "text/plain": [
       "array([47.13362069, 54.32327586, 59.11637931])"
      ]
     },
     "execution_count": 13,
     "metadata": {},
     "output_type": "execute_result"
    }
   ],
   "source": [
    "pesos_estimados = estimador.predict(alturas_array)\n",
    "pesos_estimados"
   ]
  },
  {
   "cell_type": "code",
   "execution_count": 14,
   "metadata": {},
   "outputs": [
    {
     "data": {
      "image/png": "[encoded data removed]",
      "text/plain": [
       "<Figure size 432x288 with 1 Axes>"
      ]
     },
     "metadata": {
      "needs_background": "light"
     },
     "output_type": "display_data"
    }
   ],
   "source": [
    "_ = sns.scatterplot(x='altura', y='peso', data=df)\n",
    "_ = sns.scatterplot(x=alturas, y=pesos_estimados)"
   ]
  },
  {
   "cell_type": "code",
   "execution_count": 15,
   "metadata": {},
   "outputs": [
    {
     "data": {
      "text/plain": [
       "array([1.19827586])"
      ]
     },
     "execution_count": 15,
     "metadata": {},
     "output_type": "execute_result"
    }
   ],
   "source": [
    "estimador.coef_"
   ]
  },
  {
   "cell_type": "code",
   "execution_count": 16,
   "metadata": {},
   "outputs": [
    {
     "data": {
      "text/plain": [
       "-138.59913793103445"
      ]
     },
     "execution_count": 16,
     "metadata": {},
     "output_type": "execute_result"
    }
   ],
   "source": [
    "estimador.intercept_"
   ]
  },
  {
   "cell_type": "code",
   "execution_count": 17,
   "metadata": {},
   "outputs": [
    {
     "data": {
      "text/plain": [
       "47.13362036896555"
      ]
     },
     "execution_count": 17,
     "metadata": {},
     "output_type": "execute_result"
    }
   ],
   "source": [
    "# a * x + b\n",
    "155 * 1.19827586 + (-138.59913793103445)"
   ]
  },
  {
   "cell_type": "markdown",
   "metadata": {},
   "source": [
    "Qual foi o erro?\n",
    "<img src=\" data:image/png;base64,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\" >"
   ]
  },
  {
   "cell_type": "code",
   "execution_count": 18,
   "metadata": {},
   "outputs": [
    {
     "data": {
      "image/png": "[encoded data removed]",
      "text/plain": [
       "<Figure size 432x288 with 1 Axes>"
      ]
     },
     "metadata": {
      "needs_background": "light"
     },
     "output_type": "display_data"
    }
   ],
   "source": [
    "_ = sns.scatterplot(x='altura', y='peso', data=df)\n",
    "_ = sns.scatterplot(x=alturas, y=pesos_estimados)\n",
    "_ = sns.lineplot(x=alturas, y=pesos_estimados)"
   ]
  },
  {
   "cell_type": "code",
   "execution_count": 19,
   "metadata": {},
   "outputs": [],
   "source": [
    "altura_real = 160\n",
    "peso_real = 55"
   ]
  },
  {
   "cell_type": "code",
   "execution_count": 20,
   "metadata": {},
   "outputs": [
    {
     "data": {
      "text/plain": [
       "53.12499966896556"
      ]
     },
     "execution_count": 20,
     "metadata": {},
     "output_type": "execute_result"
    }
   ],
   "source": [
    "# Previsao\n",
    "160 * 1.19827586 + (-138.59913793103445)"
   ]
  },
  {
   "cell_type": "code",
   "execution_count": 21,
   "metadata": {},
   "outputs": [
    {
     "data": {
      "text/plain": [
       "array([53.125])"
      ]
     },
     "execution_count": 21,
     "metadata": {},
     "output_type": "execute_result"
    }
   ],
   "source": [
    "# Previsao\n",
    "peso_predito = estimador.predict([[160]])\n",
    "peso_predito"
   ]
  },
  {
   "cell_type": "code",
   "execution_count": 22,
   "metadata": {},
   "outputs": [
    {
     "data": {
      "text/plain": [
       "array([1.875])"
      ]
     },
     "execution_count": 22,
     "metadata": {},
     "output_type": "execute_result"
    }
   ],
   "source": [
    "erro_uma_previsao = peso_real - peso_predito\n",
    "erro_uma_previsao"
   ]
  },
  {
   "cell_type": "markdown",
   "metadata": {},
   "source": [
    "Validação"
   ]
  },
  {
   "cell_type": "code",
   "execution_count": 23,
   "metadata": {},
   "outputs": [
    {
     "data": {
      "text/html": [
       "<div>\n",
       "<style scoped>\n",
       "    .dataframe tbody tr th:only-of-type {\n",
       "        vertical-align: middle;\n",
       "    }\n",
       "\n",
       "    .dataframe tbody tr th {\n",
       "        vertical-align: top;\n",
       "    }\n",
       "\n",
       "    .dataframe thead th {\n",
       "        text-align: right;\n",
       "    }\n",
       "</style>\n",
       "<table border=\"1\" class=\"dataframe\">\n",
       "  <thead>\n",
       "    <tr style=\"text-align: right;\">\n",
       "      <th></th>\n",
       "      <th>altura</th>\n",
       "      <th>peso</th>\n",
       "    </tr>\n",
       "  </thead>\n",
       "  <tbody>\n",
       "    <tr>\n",
       "      <th>0</th>\n",
       "      <td>154</td>\n",
       "      <td>45</td>\n",
       "    </tr>\n",
       "    <tr>\n",
       "      <th>1</th>\n",
       "      <td>156</td>\n",
       "      <td>50</td>\n",
       "    </tr>\n",
       "    <tr>\n",
       "      <th>2</th>\n",
       "      <td>165</td>\n",
       "      <td>60</td>\n",
       "    </tr>\n",
       "    <tr>\n",
       "      <th>3</th>\n",
       "      <td>160</td>\n",
       "      <td>55</td>\n",
       "    </tr>\n",
       "    <tr>\n",
       "      <th>4</th>\n",
       "      <td>165</td>\n",
       "      <td>58</td>\n",
       "    </tr>\n",
       "  </tbody>\n",
       "</table>\n",
       "</div>"
      ],
      "text/plain": [
       "   altura  peso\n",
       "0     154    45\n",
       "1     156    50\n",
       "2     165    60\n",
       "3     160    55\n",
       "4     165    58"
      ]
     },
     "execution_count": 23,
     "metadata": {},
     "output_type": "execute_result"
    }
   ],
   "source": [
    "# Exemplo filtro\n",
    "df_temp = df.head().copy()\n",
    "df_temp"
   ]
  },
  {
   "cell_type": "code",
   "execution_count": 24,
   "metadata": {},
   "outputs": [
    {
     "data": {
      "text/plain": [
       "0     True\n",
       "1    False\n",
       "2    False\n",
       "3    False\n",
       "4    False\n",
       "Name: altura, dtype: bool"
      ]
     },
     "execution_count": 24,
     "metadata": {},
     "output_type": "execute_result"
    }
   ],
   "source": [
    "df_temp['altura'] == 154"
   ]
  },
  {
   "cell_type": "code",
   "execution_count": 25,
   "metadata": {},
   "outputs": [
    {
     "data": {
      "text/html": [
       "<div>\n",
       "<style scoped>\n",
       "    .dataframe tbody tr th:only-of-type {\n",
       "        vertical-align: middle;\n",
       "    }\n",
       "\n",
       "    .dataframe tbody tr th {\n",
       "        vertical-align: top;\n",
       "    }\n",
       "\n",
       "    .dataframe thead th {\n",
       "        text-align: right;\n",
       "    }\n",
       "</style>\n",
       "<table border=\"1\" class=\"dataframe\">\n",
       "  <thead>\n",
       "    <tr style=\"text-align: right;\">\n",
       "      <th></th>\n",
       "      <th>altura</th>\n",
       "      <th>peso</th>\n",
       "    </tr>\n",
       "  </thead>\n",
       "  <tbody>\n",
       "    <tr>\n",
       "      <th>0</th>\n",
       "      <td>154</td>\n",
       "      <td>45</td>\n",
       "    </tr>\n",
       "  </tbody>\n",
       "</table>\n",
       "</div>"
      ],
      "text/plain": [
       "   altura  peso\n",
       "0     154    45"
      ]
     },
     "execution_count": 25,
     "metadata": {},
     "output_type": "execute_result"
    }
   ],
   "source": [
    "df_temp[df_temp['altura'] == 154]"
   ]
  },
  {
   "cell_type": "code",
   "execution_count": 26,
   "metadata": {},
   "outputs": [
    {
     "data": {
      "text/plain": [
       "array([0.70143651, 0.76031095, 0.88028546, 0.30091493, 0.11293266,\n",
       "       0.50640262, 0.17870017, 0.91867881])"
      ]
     },
     "execution_count": 26,
     "metadata": {},
     "output_type": "execute_result"
    }
   ],
   "source": [
    "# Randomizando True e False\n",
    "np.random.rand(len(df))"
   ]
  },
  {
   "cell_type": "code",
   "execution_count": 27,
   "metadata": {},
   "outputs": [
    {
     "data": {
      "text/plain": [
       "array([False, False, False, False, False, False,  True, False])"
      ]
     },
     "execution_count": 27,
     "metadata": {},
     "output_type": "execute_result"
    }
   ],
   "source": [
    "np.random.rand(len(df)) < 0.1 # 10% serao True"
   ]
  },
  {
   "cell_type": "code",
   "execution_count": null,
   "metadata": {},
   "outputs": [],
   "source": [
    "# Criando um modelo\n",
    "# 1) Dividindo os dados em treino e teste"
   ]
  },
  {
   "cell_type": "code",
   "execution_count": 28,
   "metadata": {},
   "outputs": [
    {
     "data": {
      "text/plain": [
       "array([ True,  True,  True,  True, False, False, False,  True])"
      ]
     },
     "execution_count": 28,
     "metadata": {},
     "output_type": "execute_result"
    }
   ],
   "source": [
    "filtro = np.random.rand(len(df)) < 0.7\n",
    "filtro"
   ]
  },
  {
   "cell_type": "code",
   "execution_count": 29,
   "metadata": {},
   "outputs": [
    {
     "data": {
      "text/html": [
       "<div>\n",
       "<style scoped>\n",
       "    .dataframe tbody tr th:only-of-type {\n",
       "        vertical-align: middle;\n",
       "    }\n",
       "\n",
       "    .dataframe tbody tr th {\n",
       "        vertical-align: top;\n",
       "    }\n",
       "\n",
       "    .dataframe thead th {\n",
       "        text-align: right;\n",
       "    }\n",
       "</style>\n",
       "<table border=\"1\" class=\"dataframe\">\n",
       "  <thead>\n",
       "    <tr style=\"text-align: right;\">\n",
       "      <th></th>\n",
       "      <th>altura</th>\n",
       "      <th>peso</th>\n",
       "    </tr>\n",
       "  </thead>\n",
       "  <tbody>\n",
       "    <tr>\n",
       "      <th>0</th>\n",
       "      <td>154</td>\n",
       "      <td>45</td>\n",
       "    </tr>\n",
       "    <tr>\n",
       "      <th>1</th>\n",
       "      <td>156</td>\n",
       "      <td>50</td>\n",
       "    </tr>\n",
       "    <tr>\n",
       "      <th>2</th>\n",
       "      <td>165</td>\n",
       "      <td>60</td>\n",
       "    </tr>\n",
       "    <tr>\n",
       "      <th>3</th>\n",
       "      <td>160</td>\n",
       "      <td>55</td>\n",
       "    </tr>\n",
       "    <tr>\n",
       "      <th>7</th>\n",
       "      <td>159</td>\n",
       "      <td>53</td>\n",
       "    </tr>\n",
       "  </tbody>\n",
       "</table>\n",
       "</div>"
      ],
      "text/plain": [
       "   altura  peso\n",
       "0     154    45\n",
       "1     156    50\n",
       "2     165    60\n",
       "3     160    55\n",
       "7     159    53"
      ]
     },
     "execution_count": 29,
     "metadata": {},
     "output_type": "execute_result"
    }
   ],
   "source": [
    "df_treino = df[filtro]\n",
    "df_treino"
   ]
  },
  {
   "cell_type": "code",
   "execution_count": 30,
   "metadata": {},
   "outputs": [
    {
     "data": {
      "text/html": [
       "<div>\n",
       "<style scoped>\n",
       "    .dataframe tbody tr th:only-of-type {\n",
       "        vertical-align: middle;\n",
       "    }\n",
       "\n",
       "    .dataframe tbody tr th {\n",
       "        vertical-align: top;\n",
       "    }\n",
       "\n",
       "    .dataframe thead th {\n",
       "        text-align: right;\n",
       "    }\n",
       "</style>\n",
       "<table border=\"1\" class=\"dataframe\">\n",
       "  <thead>\n",
       "    <tr style=\"text-align: right;\">\n",
       "      <th></th>\n",
       "      <th>altura</th>\n",
       "      <th>peso</th>\n",
       "    </tr>\n",
       "  </thead>\n",
       "  <tbody>\n",
       "    <tr>\n",
       "      <th>4</th>\n",
       "      <td>165</td>\n",
       "      <td>58</td>\n",
       "    </tr>\n",
       "    <tr>\n",
       "      <th>5</th>\n",
       "      <td>163</td>\n",
       "      <td>56</td>\n",
       "    </tr>\n",
       "    <tr>\n",
       "      <th>6</th>\n",
       "      <td>158</td>\n",
       "      <td>48</td>\n",
       "    </tr>\n",
       "  </tbody>\n",
       "</table>\n",
       "</div>"
      ],
      "text/plain": [
       "   altura  peso\n",
       "4     165    58\n",
       "5     163    56\n",
       "6     158    48"
      ]
     },
     "execution_count": 30,
     "metadata": {},
     "output_type": "execute_result"
    }
   ],
   "source": [
    "df_teste = df[~filtro]\n",
    "df_teste"
   ]
  },
  {
   "cell_type": "code",
   "execution_count": null,
   "metadata": {},
   "outputs": [],
   "source": [
    "# 2) Treinando modelo, tenho que fornecer o X e o y\n",
    "# X são as features\n",
    "# y é o target"
   ]
  },
  {
   "cell_type": "code",
   "execution_count": 31,
   "metadata": {},
   "outputs": [
    {
     "data": {
      "text/html": [
       "<div>\n",
       "<style scoped>\n",
       "    .dataframe tbody tr th:only-of-type {\n",
       "        vertical-align: middle;\n",
       "    }\n",
       "\n",
       "    .dataframe tbody tr th {\n",
       "        vertical-align: top;\n",
       "    }\n",
       "\n",
       "    .dataframe thead th {\n",
       "        text-align: right;\n",
       "    }\n",
       "</style>\n",
       "<table border=\"1\" class=\"dataframe\">\n",
       "  <thead>\n",
       "    <tr style=\"text-align: right;\">\n",
       "      <th></th>\n",
       "      <th>altura</th>\n",
       "    </tr>\n",
       "  </thead>\n",
       "  <tbody>\n",
       "    <tr>\n",
       "      <th>0</th>\n",
       "      <td>154</td>\n",
       "    </tr>\n",
       "    <tr>\n",
       "      <th>1</th>\n",
       "      <td>156</td>\n",
       "    </tr>\n",
       "    <tr>\n",
       "      <th>2</th>\n",
       "      <td>165</td>\n",
       "    </tr>\n",
       "    <tr>\n",
       "      <th>3</th>\n",
       "      <td>160</td>\n",
       "    </tr>\n",
       "    <tr>\n",
       "      <th>7</th>\n",
       "      <td>159</td>\n",
       "    </tr>\n",
       "  </tbody>\n",
       "</table>\n",
       "</div>"
      ],
      "text/plain": [
       "   altura\n",
       "0     154\n",
       "1     156\n",
       "2     165\n",
       "3     160\n",
       "7     159"
      ]
     },
     "execution_count": 31,
     "metadata": {},
     "output_type": "execute_result"
    }
   ],
   "source": [
    "X_treino = df_treino.drop(['peso'], axis=1)\n",
    "X_treino"
   ]
  },
  {
   "cell_type": "code",
   "execution_count": 32,
   "metadata": {},
   "outputs": [
    {
     "data": {
      "text/plain": [
       "0    45\n",
       "1    50\n",
       "2    60\n",
       "3    55\n",
       "7    53\n",
       "Name: peso, dtype: int64"
      ]
     },
     "execution_count": 32,
     "metadata": {},
     "output_type": "execute_result"
    }
   ],
   "source": [
    "y_treino = df_treino['peso']\n",
    "y_treino"
   ]
  },
  {
   "cell_type": "code",
   "execution_count": 33,
   "metadata": {},
   "outputs": [
    {
     "data": {
      "text/html": [
       "<div>\n",
       "<style scoped>\n",
       "    .dataframe tbody tr th:only-of-type {\n",
       "        vertical-align: middle;\n",
       "    }\n",
       "\n",
       "    .dataframe tbody tr th {\n",
       "        vertical-align: top;\n",
       "    }\n",
       "\n",
       "    .dataframe thead th {\n",
       "        text-align: right;\n",
       "    }\n",
       "</style>\n",
       "<table border=\"1\" class=\"dataframe\">\n",
       "  <thead>\n",
       "    <tr style=\"text-align: right;\">\n",
       "      <th></th>\n",
       "      <th>altura</th>\n",
       "    </tr>\n",
       "  </thead>\n",
       "  <tbody>\n",
       "    <tr>\n",
       "      <th>4</th>\n",
       "      <td>165</td>\n",
       "    </tr>\n",
       "    <tr>\n",
       "      <th>5</th>\n",
       "      <td>163</td>\n",
       "    </tr>\n",
       "    <tr>\n",
       "      <th>6</th>\n",
       "      <td>158</td>\n",
       "    </tr>\n",
       "  </tbody>\n",
       "</table>\n",
       "</div>"
      ],
      "text/plain": [
       "   altura\n",
       "4     165\n",
       "5     163\n",
       "6     158"
      ]
     },
     "execution_count": 33,
     "metadata": {},
     "output_type": "execute_result"
    }
   ],
   "source": [
    "X_teste = df_teste.drop(['peso'], axis=1)\n",
    "X_teste"
   ]
  },
  {
   "cell_type": "code",
   "execution_count": 34,
   "metadata": {},
   "outputs": [
    {
     "data": {
      "text/plain": [
       "4    58\n",
       "5    56\n",
       "6    48\n",
       "Name: peso, dtype: int64"
      ]
     },
     "execution_count": 34,
     "metadata": {},
     "output_type": "execute_result"
    }
   ],
   "source": [
    "y_teste = df_teste['peso']\n",
    "y_teste"
   ]
  },
  {
   "cell_type": "code",
   "execution_count": 35,
   "metadata": {},
   "outputs": [],
   "source": [
    "# Aqui a gente faria o treino, também chamado de fit\n",
    "# E assim nasce o estimador (modelo)\n",
    "with open('dados_modelos/estimador_reg_lin.pickle', 'rb') as f:\n",
    "    estimador = pickle.load(f)"
   ]
  },
  {
   "cell_type": "code",
   "execution_count": 36,
   "metadata": {},
   "outputs": [
    {
     "data": {
      "image/png": "[encoded data removed]",
      "text/plain": [
       "<Figure size 432x288 with 1 Axes>"
      ]
     },
     "metadata": {
      "needs_background": "light"
     },
     "output_type": "display_data"
    }
   ],
   "source": [
    "# Dentro do treino ele faz a \"validação\"\n",
    "# Metrica de erro no treino\n",
    "# TODO faltaria separar os dados de Treino e Validação para o momento do treino\n",
    "\n",
    "y_predito_treino = estimador.predict(X_treino)\n",
    "y_predito_treino\n",
    "_ = sns.scatterplot(x='altura', y='peso', data=df_treino)\n",
    "_ = sns.scatterplot(x=X_treino['altura'], y=y_predito_treino)"
   ]
  },
  {
   "cell_type": "code",
   "execution_count": 37,
   "metadata": {},
   "outputs": [
    {
     "data": {
      "text/plain": [
       "3.5"
      ]
     },
     "execution_count": 37,
     "metadata": {},
     "output_type": "execute_result"
    }
   ],
   "source": [
    "# Media absoluta de erro = (erro primeiro ponto + erro segundo ponto) / 2\n",
    "(abs(-2) + abs(5)) / 2"
   ]
  },
  {
   "cell_type": "markdown",
   "metadata": {},
   "source": [
    "Tipos de Erros, parte 1\n",
    "\n",
    "<img src=\" data:image/png;base64,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\" >"
   ]
  },
  {
   "cell_type": "code",
   "execution_count": 38,
   "metadata": {},
   "outputs": [
    {
     "name": "stdout",
     "output_type": "stream",
     "text": [
      "Valor esperado 45\n",
      "Valor predito 45.93534482758622\n",
      "Erro -0.9353448275862206\n",
      "Erro absoluto 0.9353448275862206\n",
      "\n",
      "Valor esperado 50\n",
      "Valor predito 48.33189655172413\n",
      "Erro 1.6681034482758719\n",
      "Erro absoluto 1.6681034482758719\n",
      "\n",
      "Valor esperado 60\n",
      "Valor predito 59.116379310344826\n",
      "Erro 0.8836206896551744\n",
      "Erro absoluto 0.8836206896551744\n",
      "\n",
      "Valor esperado 55\n",
      "Valor predito 53.125\n",
      "Erro 1.875\n",
      "Erro absoluto 1.875\n",
      "\n",
      "Valor esperado 53\n",
      "Valor predito 51.926724137931046\n",
      "Erro 1.0732758620689538\n",
      "Erro absoluto 1.0732758620689538\n",
      "\n",
      "MAE 1.287068965517244\n"
     ]
    }
   ],
   "source": [
    "erro = 0\n",
    "soma_erro_absoluto = 0\n",
    "qtde_pontos = len(y_predito_treino)\n",
    "\n",
    "for i in range(qtde_pontos):\n",
    "    print(f'Valor esperado {y_treino.values[i]}')\n",
    "    print(f'Valor predito {y_predito_treino[i]}')\n",
    "    \n",
    "    erro = y_treino.values[i] - y_predito_treino[i]\n",
    "    erro_absoluto = abs(erro)\n",
    "    soma_erro_absoluto += erro_absoluto\n",
    "    \n",
    "    print(f'Erro {erro}')\n",
    "    print(f'Erro absoluto {erro_absoluto}')\n",
    "    print()\n",
    "\n",
    "media_erro_absoluto = soma_erro_absoluto / qtde_pontos\n",
    "\n",
    "print(f'MAE {media_erro_absoluto}')"
   ]
  },
  {
   "cell_type": "code",
   "execution_count": 39,
   "metadata": {},
   "outputs": [],
   "source": [
    "from sklearn.metrics import mean_absolute_error"
   ]
  },
  {
   "cell_type": "code",
   "execution_count": 40,
   "metadata": {},
   "outputs": [
    {
     "data": {
      "text/plain": [
       "1.287068965517244"
      ]
     },
     "execution_count": 40,
     "metadata": {},
     "output_type": "execute_result"
    }
   ],
   "source": [
    "mean_absolute_error(y_treino.values, y_predito_treino)"
   ]
  },
  {
   "cell_type": "markdown",
   "metadata": {},
   "source": [
    "Teste"
   ]
  },
  {
   "cell_type": "code",
   "execution_count": null,
   "metadata": {},
   "outputs": [],
   "source": []
  }
 ],
 "metadata": {
  "kernelspec": {
   "display_name": "Python 3.9.12 ('base')",
   "language": "python",
   "name": "python3"
  },
  "language_info": {
   "codemirror_mode": {
    "name": "ipython",
    "version": 3
   },
   "file_extension": ".py",
   "mimetype": "text/x-python",
   "name": "python",
   "nbconvert_exporter": "python",
   "pygments_lexer": "ipython3",
   "version": "3.9.12"
  },
  "vscode": {
   "interpreter": {
    "hash": "cea1ecbc9060237308d6f43d2a8f2f7ecb9842b1b44e6cce898a5c7b51f4cadd"
   }
  }
 },
 "nbformat": 4,
 "nbformat_minor": 4
}
