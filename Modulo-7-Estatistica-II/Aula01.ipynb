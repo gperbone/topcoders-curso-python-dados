{
 "cells": [
  {
   "cell_type": "markdown",
   "metadata": {},
   "source": [
    "# Aula 1 - Machine Learning - Introdução\n",
    "\n",
    "____________"
   ]
  },
  {
   "cell_type": "markdown",
   "metadata": {},
   "source": [
    "A partir da aula de hoje, iniciaremos nossos estudos em Machine Learning.\n",
    "\n",
    "Antes de começarmos, vamos dar uma olhada novamente em alguns conceitos, e no que vamos aprender neste módulo!\n",
    "\n",
    "_______________"
   ]
  },
  {
   "cell_type": "markdown",
   "metadata": {},
   "source": [
    "Anteriormente, vimos qual é a jornada de um projeto de data science:\n",
    "\n",
    "<img src=\"https://www.abgconsultoria.com.br/blog/wp-content/uploads/img33-768x242.png\" width=700>"
   ]
  },
  {
   "cell_type": "markdown",
   "metadata": {},
   "source": [
    "## O que é \"modelagem\"?\n",
    "\n",
    "Já vimos anteriormente do que se trata machine learning, em um sentido mais amplo.\n",
    "\n",
    "Agora, o que exatamente é a \"modelagem\"? Ou melhor, **o que queremos alcançar ao construir um modelo?** \n",
    "\n",
    "Ou ainda, **o que um modelo representa?**\n",
    "\n",
    "Em linhas gerais, construímos um modelo com o objetivo de **representar a realidade** de maneira quantitativa e matemática.\n",
    "\n",
    "> Um modelo é uma descrição matemática/quantitativa de algum aspecto do problema que desejamos resolver"
   ]
  },
  {
   "cell_type": "markdown",
   "metadata": {},
   "source": [
    "Muitas vezes, nos interessa **descobrir relações** em nosso universo de interesse, como, por exemplo, como as variáveis **se relacionam para produzir determinado resultado** ou **como elas estão estruturadas**.\n",
    "\n",
    "> É possível descobrir essas relações e estruturas partindo de uma **teoria**, em uma abordagem que chama-se **theory-driven**. Neste caso, partimos de **princípios fundamentais** para explicar o universo de interesse.\n",
    "\n",
    "> Como a abordagem acima é quase sempre extremamente complexa ou inpraticável, partimos para a aboragem **data-driven**, na qual **coletamos amostras do universo de interesse**, e essa amostra é utilizada para que tiremos conclusões, descubramos relações, etc.\n",
    "\n",
    "Observação: muitas vezes, **ambas as abordagens são utilizadas simultaneamente!** Elas não são excludentes!\n",
    "\n",
    "Ambas as abordagens resultam em **um modelo** para descrever a realidade.\n",
    "\n",
    "Mas, a segunda abordagem é **muito mais dependente da estatística**, para que seja possível avaliar **o quanto você pode confiar no modelo que você construiu**, ou ainda, **o quão útil ele é**.\n",
    "\n",
    "## <i>\"All models are wrong. But some are useful.\"\n",
    "\n",
    "\n",
    "_______"
   ]
  },
  {
   "cell_type": "markdown",
   "metadata": {},
   "source": [
    "Quando utilizamos **Machine Learning** para construir um modelo, os detalhes desta representação são **determinados (“aprendidos”)** a partir de dados, empiricamente, em contraste a uma abordagem theory-driven.\n",
    "\n",
    "Em geral, resolver um problema utilizando técnicas de ML é uma boa ideia se:\n",
    "\n",
    "    • Há dados disponíveis sobre o problema em questão;\n",
    "\n",
    "    • Existe um padrão que é refletido nos dados;\n",
    "\n",
    "    • Uma descrição teórica não é praticável."
   ]
  },
  {
   "cell_type": "markdown",
   "metadata": {},
   "source": [
    "No fim, todo modelo será representado **por uma equação matemática**.\n",
    "\n",
    "No entanto, essa equação pode ser extremamente complexa, de modo que raramente seremos capazes de escrever a equação completa. Mas não se preocupe com isso!\n",
    "\n",
    "<img src=\"https://miro.medium.com/max/2404/1*yLvf2jr_TNkEe9PKYOBDkA.png\" width=500>\n",
    "\n",
    "<img src=\"https://st3.ning.com/topology/rest/1.0/file/get/2808372468?profile=original\" width=500>\n",
    "\n",
    "____"
   ]
  },
  {
   "cell_type": "markdown",
   "metadata": {},
   "source": [
    "Muitas vezes, um modelo complexo não é necessário. \n",
    "\n",
    "Há problemas que são resolvidos com uma simples média!!\n",
    "\n",
    "Então, é muito importante que você como cientista de dados **foque em resolver o problema**, não importa como você fará isso. **Não tente matar uma mosca com um canhão!**\n",
    "\n",
    "É importante, sim, que você **tenha conhecimentos amplos** sobre o maior número possível de técnicas e ferramentas!\n",
    "\n",
    "\n",
    "Mas isso não quer dizer que você **precisa** de machine learning sempre! \n",
    "\n",
    "Então, novamente: foco no problema, não na técnica pela técnica com fim em si mesma!\n",
    "\n",
    "____"
   ]
  },
  {
   "cell_type": "markdown",
   "metadata": {},
   "source": [
    "Vamos focar agora um pouco mais no **ciclo de modelagem** e alguns de seus elementos importantes:"
   ]
  },
  {
   "cell_type": "markdown",
   "metadata": {},
   "source": [
    "<!-- <img src=\"https://techblog.cdiscount.com/assets/images/DataScience/automl/ML_process.png\" width=650> -->\n",
    "\n",
    "<img src=\"https://miro.medium.com/max/656/0*FKrWuLRbB_MiEIKh\">"
   ]
  },
  {
   "cell_type": "markdown",
   "metadata": {},
   "source": [
    "- **Conjunto de dados de treino**: são os dados utilizados para a construção do modelo, os dados que o modelo utilizará \"para aprender\"\n",
    "\n",
    "\n",
    "- **Treinamento do modelo/aprendizagem**: é a etapa em que cálculos matemáticos são feitos para que a equação que descreve o modelo seja criada! É assim que \"o modelo aprende!\". Não se preocupe: usaremos bibliotecas para fazer isso!\n",
    "\n",
    "\n",
    "- **Conjunto de dados de teste**: conjunto de dados utilizado para testar o modelo após ele ter sido treinado.\n",
    "\n",
    "\n",
    "- **Avaliação do modelo**: forma de avaliar a performance do modelo. Há várias métricas e formas diferentes de avaliação, que conheceremos melhor mais tarde."
   ]
  },
  {
   "cell_type": "markdown",
   "metadata": {},
   "source": [
    "Além dos elementos discutidos acima, há dois conceitos importantes, que veremos em maiores detalhes mais adiante no curso:\n",
    "\n",
    "- **Conjunto de dados de validação**: conjunto de dados usados para testar o modelo ainda em desenvolvimento, sobretudo com o objetivo de otimização de hiperparâmetros. Vamos discutir melhor sua importância quando falarmos de validação cruzada.\n",
    "\n",
    "- **Seleção de hiperparâmetros/seleção de modelo**: etapa em que os hiperperâmetros que constituem o modelo são selecionados. Aqui, técnicas como **grid search** e **cross validation** são muito importantes! Falaremos disso mais tarde.\n",
    "\n",
    "\n",
    "<img src=\"https://cdn-images-1.medium.com/max/1000/1*ZiYvylk60EY2XG7ck1lqJA.png\" width=400>\n",
    "\n",
    "___________"
   ]
  },
  {
   "cell_type": "markdown",
   "metadata": {},
   "source": [
    "No esquema acima, fica evidente que há duas grandes etapas no **ciclo de modelagem**:\n",
    "\n",
    "### Passo 1: construção do modelo\n",
    "\n",
    "### Passo 2: avaliação do modelo\n",
    "\n",
    "No decorrer do curso, vamos entender a fundo cada uma destas etapas, e as ferramentas associadas a cada uma delas!\n",
    "\n",
    "___________"
   ]
  },
  {
   "cell_type": "markdown",
   "metadata": {},
   "source": [
    "Nas aulas seguintes vamos estudar exemplos específicos de como iterar no ciclo de machine learning.\n",
    "\n",
    "Veremos que, de forma geral, o processo consiste em:\n",
    "\n",
    "- 0) Conhecer os dados com os quais estamos trabalhando --- fazer todo o processo de EDA, etc., etc.\n",
    "\n",
    "\n",
    "- 1) Importar a **classe do estimador que se deseja treinar** - escolher a hipótese!\n",
    "    - Usaremos a biblioteca [scikit-learn](https://scikit-learn.org/stable/)\n",
    "  \n",
    "  \n",
    "- 2) Instanciar a classe do estimador, **escolhendo os hiperparâmetros desejados**\n",
    "    - Para a primeira versão do modelo, pode ser uma boa escolha utilizar os hiperparâmetros default;\n",
    "    - Veremos mais pra frente como escolher os hiperparâmetros adequadamente;\n",
    "   \n",
    "   \n",
    "- 3) Separe os dados em **dados de treino** e **dados de teste**.\n",
    "    - Em alguns casos, pode ser interessante criar também um conjunto de **dados de validação**\n",
    "    - Para fazer a separação, usamos o [train-test split](https://scikit-learn.org/stable/modules/generated/sklearn.model_selection.train_test_split.html)\n",
    "    \n",
    "    \n",
    "- 4) Treine o modelo, usando **os dados de treino**\n",
    "\n",
    "\n",
    "- 5) Use o modelo treinado para **fazer previsões** usando os **dados de teste** (ou **de validação**)\n",
    "\n",
    "\n",
    "- 6) **Avalie a performance do modelo com base nas previsões acima**\n",
    "\n",
    "\n",
    "- 7) Se necessário, reinicie o ciclo!\n",
    "\n",
    "\n",
    "- 8) Quando o modelo estiver suficientemente bom, faça o **deploy**"
   ]
  },
  {
   "cell_type": "markdown",
   "metadata": {},
   "source": [
    "<img src=\" data:image/png;base64,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\" >"
   ]
  },
  {
   "cell_type": "markdown",
   "metadata": {},
   "source": [
    "_____"
   ]
  },
  {
   "cell_type": "markdown",
   "metadata": {},
   "source": [
    "Antes de criarmos qualquer modelo, precisamos nos perguntar: **que tipo de problema estou querendo resolver?**\n",
    "\n",
    "Pois o algoritmo de ML que você vai utilizar depende diretamente do tipo de problema que você deseja resolver!\n",
    "\n",
    "Como um guia inicial, a imagem a seguir é muitíssimo útil:"
   ]
  },
  {
   "cell_type": "markdown",
   "metadata": {},
   "source": [
    "<img src=\"https://scikit-learn.org/stable/_static/ml_map.png\" width=900>\n",
    "\n",
    "[Clique Aqui](https://scikit-learn.org/stable/tutorial/machine_learning_map/index.html) para a versão interativa online com links para as páginas de cada estimador!"
   ]
  },
  {
   "cell_type": "markdown",
   "metadata": {},
   "source": [
    "___________\n",
    "\n",
    "Inicialmente, focaremos em métodos de **aprendizagem supervisionada**, que nos auxiliarão a endereçar problemas de **regressão** e **classificação**, que se diferem de maneira muito simples:\n",
    "\n",
    "> Um problema de regressão tem **target contínuo**;\n",
    "\n",
    "> Um problema de classificação **tem target discreto**;\n",
    "\n",
    "<img src=https://static.javatpoint.com/tutorial/machine-learning/images/regression-vs-classification-in-machine-learning.png width=400>\n",
    "\n",
    "<img src=https://miro.medium.com/max/1400/1*wH09k0DhF4JQhVMymtVQHQ.jpeg width=400>\n",
    "\n",
    "A diferenciação entre problemas de classificação e regressão é muito importante (e muito simples de fazer, conforme indicado acima!), sendo nosso principal guia para a determinação dos métodos a serem utilizados tanto na construção quanto na avaliação de um modelo!"
   ]
  },
  {
   "cell_type": "markdown",
   "metadata": {},
   "source": [
    "____\n",
    "\n",
    "Nas próximas aulas, vamos ver exemplos específicos de algoritmos e problemas que eles resolvem.\n",
    "\n",
    "Nossa abordagem será prática e direta. Falaremos brevemente da teoria, mas evitaremos detalhes matemáticos desnecessariamente profundos.\n",
    "\n",
    "Para quem tiver interessado em descobrir mais a fundo sobre os modelos que vamos discutir, recomendo [este livro](https://www.statlearning.com/) para uma primeira exposição, e [este livro](https://web.stanford.edu/~hastie/ElemStatLearn/) para uma abordagem ainda mais profunda e detalhada!\n",
    "\n",
    "Durante as aulas, tocaremos em alguns conceitos da chamada **teoria de aprendizagem estatística**, que é a teoria matemática que fundamenta o que é feito em ML. Aos interessados em maior formalização matemática, indico [este curso](https://work.caltech.edu/telecourse), para uma introdução com rigor matemático, mas acessível; e indico [este livro](https://cs.nyu.edu/~mohri/mlbook/) para quem quiser se aprofundar mais na matemática."
   ]
  },
  {
   "cell_type": "markdown",
   "metadata": {},
   "source": [
    "______\n",
    "\n",
    "E para quem quiser descobir um pouco mais sobre estatística, inferência, e as bases para ML, recomendo alguns dos livros [deste site](https://www.openintro.org/book/stat/). O site também tem ótimos tutoriais e um fórum!"
   ]
  },
  {
   "cell_type": "markdown",
   "metadata": {},
   "source": [
    "### E esse módulo em si...  \n",
    "  \n",
    "19-09 - Introdução Aprendizagem  \n",
    "21-09 - Métricas e Metodologias de avaliação  \n",
    "23-09 - Regressao Linear Simples  \n",
    "  \n",
    "26-09 - Regressao Linear Múltipla  \n",
    "28-09 - Regressao Logística  \n",
    "30-09 - Pequeno Projeto  \n",
    "  \n",
    "03-10 - Regularização  \n",
    "05-10 - Generalização de métodos lineares com features polinomais  \n",
    "07-10 - Avaliação / Projeto  \n",
    "  \n",
    "#### Avaliação?"
   ]
  }
 ],
 "metadata": {
  "kernelspec": {
   "display_name": "Python 3.9.6 64-bit",
   "language": "python",
   "name": "python3"
  },
  "language_info": {
   "codemirror_mode": {
    "name": "ipython",
    "version": 3
   },
   "file_extension": ".py",
   "mimetype": "text/x-python",
   "name": "python",
   "nbconvert_exporter": "python",
   "pygments_lexer": "ipython3",
   "version": "3.9.6"
  },
  "vscode": {
   "interpreter": {
    "hash": "31f2aee4e71d21fbe5cf8b01ff0e069b9275f58929596ceb00d14d90e3e16cd6"
   }
  }
 },
 "nbformat": 4,
 "nbformat_minor": 4
}
