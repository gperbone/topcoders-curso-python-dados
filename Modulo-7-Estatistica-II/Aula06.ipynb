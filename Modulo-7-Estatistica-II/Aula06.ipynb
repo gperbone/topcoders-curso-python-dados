{
 "cells": [
  {
   "cell_type": "markdown",
   "id": "29dc85e0",
   "metadata": {},
   "source": [
    "# Aula 6"
   ]
  },
  {
   "cell_type": "code",
   "execution_count": 1,
   "id": "5e5b2552",
   "metadata": {},
   "outputs": [],
   "source": [
    "import pandas as pd\n",
    "import numpy as np\n",
    "\n",
    "from sklearn.model_selection import train_test_split\n",
    "from sklearn.linear_model import LinearRegression\n",
    "from sklearn.metrics import r2_score\n",
    "from sklearn.metrics import mean_absolute_error\n",
    "\n",
    "import seaborn as sns\n",
    "from matplotlib import pyplot as plt"
   ]
  },
  {
   "cell_type": "code",
   "execution_count": 2,
   "id": "36e9a2c9",
   "metadata": {},
   "outputs": [],
   "source": [
    "df = pd.read_csv('dados_modelos/house_prices.csv')\n",
    "\n",
    "X = df.drop(columns=['Id', 'SalePrice'])\n",
    "y = df['SalePrice']"
   ]
  },
  {
   "cell_type": "code",
   "execution_count": 3,
   "id": "8e3dfef1",
   "metadata": {},
   "outputs": [],
   "source": [
    "X_train, X_test, y_train, y_test = train_test_split(X, y, test_size=0.2, random_state=42)"
   ]
  },
  {
   "cell_type": "code",
   "execution_count": 4,
   "id": "c89ab8f1",
   "metadata": {},
   "outputs": [],
   "source": [
    "X_train_model = X_train.select_dtypes(include=np.number).dropna(axis='columns')\n",
    "\n",
    "X_test_model = X_test[X_train_model.columns]"
   ]
  },
  {
   "cell_type": "code",
   "execution_count": 5,
   "id": "5f850639",
   "metadata": {},
   "outputs": [
    {
     "data": {
      "text/plain": [
       "SalePrice        1.000000\n",
       "OverallQual      0.785555\n",
       "GrLivArea        0.695652\n",
       "GarageCars       0.640991\n",
       "GarageArea       0.624139\n",
       "TotalBsmtSF      0.597766\n",
       "1stFlrSF         0.587883\n",
       "FullBath         0.552546\n",
       "TotRmsAbvGrd     0.520388\n",
       "YearBuilt        0.516501\n",
       "YearRemodAdd     0.508593\n",
       "Fireplaces       0.457549\n",
       "BsmtFinSF1       0.359460\n",
       "WoodDeckSF       0.329843\n",
       "2ndFlrSF         0.314030\n",
       "OpenPorchSF      0.299969\n",
       "HalfBath         0.280481\n",
       "LotArea          0.266204\n",
       "BsmtFullBath     0.226346\n",
       "BsmtUnfSF        0.222487\n",
       "BedroomAbvGr     0.156211\n",
       "EnclosedPorch    0.149532\n",
       "KitchenAbvGr     0.142785\n",
       "ScreenPorch      0.119172\n",
       "PoolArea         0.115630\n",
       "MSSubClass       0.088081\n",
       "OverallCond      0.074391\n",
       "3SsnPorch        0.051532\n",
       "BsmtHalfBath     0.048346\n",
       "MoSold           0.041890\n",
       "MiscVal          0.020179\n",
       "LowQualFinSF     0.011189\n",
       "YrSold           0.009099\n",
       "BsmtFinSF2       0.005731\n",
       "Name: SalePrice, dtype: float64"
      ]
     },
     "execution_count": 5,
     "metadata": {},
     "output_type": "execute_result"
    }
   ],
   "source": [
    "correlacoes_ordenadas = pd.concat([X_train_model, y_train], axis=1).corr()['SalePrice'].abs().sort_values(ascending=False)\n",
    "correlacoes_ordenadas"
   ]
  },
  {
   "cell_type": "code",
   "execution_count": 6,
   "id": "20981e9a",
   "metadata": {},
   "outputs": [
    {
     "data": {
      "text/plain": [
       "Index(['OverallQual', 'GrLivArea', 'GarageCars', 'GarageArea', 'TotalBsmtSF',\n",
       "       '1stFlrSF', 'FullBath', 'TotRmsAbvGrd', 'YearBuilt', 'YearRemodAdd',\n",
       "       'Fireplaces', 'BsmtFinSF1', 'WoodDeckSF', '2ndFlrSF', 'OpenPorchSF',\n",
       "       'HalfBath', 'LotArea', 'BsmtFullBath', 'BsmtUnfSF', 'BedroomAbvGr',\n",
       "       'EnclosedPorch', 'KitchenAbvGr', 'ScreenPorch', 'PoolArea',\n",
       "       'MSSubClass', 'OverallCond', '3SsnPorch', 'BsmtHalfBath', 'MoSold',\n",
       "       'MiscVal', 'LowQualFinSF', 'YrSold', 'BsmtFinSF2'],\n",
       "      dtype='object')"
      ]
     },
     "execution_count": 6,
     "metadata": {},
     "output_type": "execute_result"
    }
   ],
   "source": [
    "features_ordenadas = correlacoes_ordenadas.index[1:]\n",
    "features_ordenadas"
   ]
  },
  {
   "cell_type": "code",
   "execution_count": 7,
   "id": "3897b56b",
   "metadata": {},
   "outputs": [],
   "source": [
    "def treino_avaliacao_test(X_train, y_train, X_test, y_test):\n",
    "    estimador = LinearRegression()\n",
    "    estimador.fit(X_train, y_train)\n",
    "\n",
    "    # aqui deveriamos ter um cross validation\n",
    "    y_pred_train = estimador.predict(X_train)\n",
    "    erro_train = mean_absolute_error(y_train, y_pred_train)\n",
    "    \n",
    "    y_pred_test = estimador.predict(X_test)\n",
    "    erro_test = mean_absolute_error(y_test, y_pred_test)\n",
    "    \n",
    "    r2 = r2_score(y_test, y_pred_test)\n",
    "    \n",
    "    return erro_train, erro_test, r2"
   ]
  },
  {
   "cell_type": "code",
   "execution_count": 8,
   "id": "53029377",
   "metadata": {},
   "outputs": [
    {
     "data": {
      "text/plain": [
       "33"
      ]
     },
     "execution_count": 8,
     "metadata": {},
     "output_type": "execute_result"
    }
   ],
   "source": [
    "qtde_features = len(features_ordenadas)\n",
    "qtde_features"
   ]
  },
  {
   "cell_type": "code",
   "execution_count": 9,
   "id": "49cefcab",
   "metadata": {},
   "outputs": [
    {
     "data": {
      "text/html": [
       "<div>\n",
       "<style scoped>\n",
       "    .dataframe tbody tr th:only-of-type {\n",
       "        vertical-align: middle;\n",
       "    }\n",
       "\n",
       "    .dataframe tbody tr th {\n",
       "        vertical-align: top;\n",
       "    }\n",
       "\n",
       "    .dataframe thead th {\n",
       "        text-align: right;\n",
       "    }\n",
       "</style>\n",
       "<table border=\"1\" class=\"dataframe\">\n",
       "  <thead>\n",
       "    <tr style=\"text-align: right;\">\n",
       "      <th></th>\n",
       "      <th>OverallQual</th>\n",
       "      <th>GrLivArea</th>\n",
       "    </tr>\n",
       "  </thead>\n",
       "  <tbody>\n",
       "    <tr>\n",
       "      <th>254</th>\n",
       "      <td>5</td>\n",
       "      <td>1314</td>\n",
       "    </tr>\n",
       "    <tr>\n",
       "      <th>1066</th>\n",
       "      <td>6</td>\n",
       "      <td>1571</td>\n",
       "    </tr>\n",
       "    <tr>\n",
       "      <th>638</th>\n",
       "      <td>5</td>\n",
       "      <td>796</td>\n",
       "    </tr>\n",
       "    <tr>\n",
       "      <th>799</th>\n",
       "      <td>5</td>\n",
       "      <td>1768</td>\n",
       "    </tr>\n",
       "    <tr>\n",
       "      <th>380</th>\n",
       "      <td>5</td>\n",
       "      <td>1691</td>\n",
       "    </tr>\n",
       "    <tr>\n",
       "      <th>...</th>\n",
       "      <td>...</td>\n",
       "      <td>...</td>\n",
       "    </tr>\n",
       "    <tr>\n",
       "      <th>1095</th>\n",
       "      <td>6</td>\n",
       "      <td>1314</td>\n",
       "    </tr>\n",
       "    <tr>\n",
       "      <th>1130</th>\n",
       "      <td>4</td>\n",
       "      <td>1981</td>\n",
       "    </tr>\n",
       "    <tr>\n",
       "      <th>1294</th>\n",
       "      <td>5</td>\n",
       "      <td>864</td>\n",
       "    </tr>\n",
       "    <tr>\n",
       "      <th>860</th>\n",
       "      <td>7</td>\n",
       "      <td>1426</td>\n",
       "    </tr>\n",
       "    <tr>\n",
       "      <th>1126</th>\n",
       "      <td>7</td>\n",
       "      <td>1555</td>\n",
       "    </tr>\n",
       "  </tbody>\n",
       "</table>\n",
       "<p>1168 rows × 2 columns</p>\n",
       "</div>"
      ],
      "text/plain": [
       "      OverallQual  GrLivArea\n",
       "254             5       1314\n",
       "1066            6       1571\n",
       "638             5        796\n",
       "799             5       1768\n",
       "380             5       1691\n",
       "...           ...        ...\n",
       "1095            6       1314\n",
       "1130            4       1981\n",
       "1294            5        864\n",
       "860             7       1426\n",
       "1126            7       1555\n",
       "\n",
       "[1168 rows x 2 columns]"
      ]
     },
     "execution_count": 9,
     "metadata": {},
     "output_type": "execute_result"
    }
   ],
   "source": [
    "# estimador.fit(???????)\n",
    "X_train_model[features_ordenadas[:2]]"
   ]
  },
  {
   "cell_type": "code",
   "execution_count": 10,
   "id": "6ee91097",
   "metadata": {},
   "outputs": [],
   "source": [
    "resultados_treinos = []\n",
    "\n",
    "for i in range(1, qtde_features+1):\n",
    "    resultados_treinos.append(\n",
    "        treino_avaliacao_test(\n",
    "            X_train_model[features_ordenadas[:i]],\n",
    "            y_train,\n",
    "            X_test_model[features_ordenadas[:i]],\n",
    "            y_test\n",
    "        )\n",
    "    )\n",
    "\n",
    "df_resultados_treinos = pd.DataFrame(resultados_treinos, columns=['erro_train', 'erro_test', 'r2'])"
   ]
  },
  {
   "cell_type": "code",
   "execution_count": 11,
   "id": "26c4dbbc",
   "metadata": {},
   "outputs": [
    {
     "data": {
      "text/html": [
       "<div>\n",
       "<style scoped>\n",
       "    .dataframe tbody tr th:only-of-type {\n",
       "        vertical-align: middle;\n",
       "    }\n",
       "\n",
       "    .dataframe tbody tr th {\n",
       "        vertical-align: top;\n",
       "    }\n",
       "\n",
       "    .dataframe thead th {\n",
       "        text-align: right;\n",
       "    }\n",
       "</style>\n",
       "<table border=\"1\" class=\"dataframe\">\n",
       "  <thead>\n",
       "    <tr style=\"text-align: right;\">\n",
       "      <th></th>\n",
       "      <th>erro_train</th>\n",
       "      <th>erro_test</th>\n",
       "      <th>r2</th>\n",
       "    </tr>\n",
       "  </thead>\n",
       "  <tbody>\n",
       "    <tr>\n",
       "      <th>0</th>\n",
       "      <td>33628.123707</td>\n",
       "      <td>33343.242087</td>\n",
       "      <td>0.650468</td>\n",
       "    </tr>\n",
       "    <tr>\n",
       "      <th>1</th>\n",
       "      <td>28595.641353</td>\n",
       "      <td>28555.249976</td>\n",
       "      <td>0.745764</td>\n",
       "    </tr>\n",
       "    <tr>\n",
       "      <th>2</th>\n",
       "      <td>27161.035279</td>\n",
       "      <td>28121.524152</td>\n",
       "      <td>0.758581</td>\n",
       "    </tr>\n",
       "    <tr>\n",
       "      <th>3</th>\n",
       "      <td>26726.101027</td>\n",
       "      <td>27542.043018</td>\n",
       "      <td>0.762493</td>\n",
       "    </tr>\n",
       "    <tr>\n",
       "      <th>4</th>\n",
       "      <td>24992.037680</td>\n",
       "      <td>25284.809689</td>\n",
       "      <td>0.791618</td>\n",
       "    </tr>\n",
       "  </tbody>\n",
       "</table>\n",
       "</div>"
      ],
      "text/plain": [
       "     erro_train     erro_test        r2\n",
       "0  33628.123707  33343.242087  0.650468\n",
       "1  28595.641353  28555.249976  0.745764\n",
       "2  27161.035279  28121.524152  0.758581\n",
       "3  26726.101027  27542.043018  0.762493\n",
       "4  24992.037680  25284.809689  0.791618"
      ]
     },
     "execution_count": 11,
     "metadata": {},
     "output_type": "execute_result"
    }
   ],
   "source": [
    "df_resultados_treinos.head()"
   ]
  },
  {
   "cell_type": "code",
   "execution_count": 12,
   "id": "1e0b8a1d",
   "metadata": {},
   "outputs": [
    {
     "data": {
      "text/plain": [
       "<AxesSubplot:>"
      ]
     },
     "execution_count": 12,
     "metadata": {},
     "output_type": "execute_result"
    },
    {
     "data": {
      "image/png": "[encoded data removed]",
      "text/plain": [
       "<Figure size 720x360 with 1 Axes>"
      ]
     },
     "metadata": {},
     "output_type": "display_data"
    }
   ],
   "source": [
    "sns.set_theme(style='darkgrid')\n",
    "plt.figure(figsize=(10, 5))\n",
    "plt.xticks(df_resultados_treinos.index)\n",
    "sns.lineplot(data=df_resultados_treinos[['erro_train', 'erro_test']])"
   ]
  },
  {
   "cell_type": "code",
   "execution_count": 13,
   "id": "9654f455",
   "metadata": {},
   "outputs": [
    {
     "data": {
      "text/plain": [
       "<AxesSubplot:>"
      ]
     },
     "execution_count": 13,
     "metadata": {},
     "output_type": "execute_result"
    },
    {
     "data": {
      "image/png": "[encoded data removed]",
      "text/plain": [
       "<Figure size 720x360 with 1 Axes>"
      ]
     },
     "metadata": {},
     "output_type": "display_data"
    }
   ],
   "source": [
    "sns.set_theme(style='darkgrid')\n",
    "plt.figure(figsize=(10, 5))\n",
    "plt.xticks(df_resultados_treinos.index)\n",
    "sns.lineplot(data=df_resultados_treinos['erro_test'] - df_resultados_treinos['erro_train'])"
   ]
  },
  {
   "cell_type": "code",
   "execution_count": 14,
   "id": "c34ec98e",
   "metadata": {},
   "outputs": [
    {
     "data": {
      "text/plain": [
       "<AxesSubplot:>"
      ]
     },
     "execution_count": 14,
     "metadata": {},
     "output_type": "execute_result"
    },
    {
     "data": {
      "image/png": "[encoded data removed]",
      "text/plain": [
       "<Figure size 720x360 with 1 Axes>"
      ]
     },
     "metadata": {},
     "output_type": "display_data"
    }
   ],
   "source": [
    "sns.set_theme(style='darkgrid')\n",
    "plt.figure(figsize=(10, 5))\n",
    "plt.xticks(df_resultados_treinos.index)\n",
    "sns.lineplot(data=df_resultados_treinos[['r2']])"
   ]
  },
  {
   "cell_type": "code",
   "execution_count": 15,
   "id": "290eb1c7",
   "metadata": {},
   "outputs": [],
   "source": [
    "def treino_avaliacao_test(X_train, y_train, X_test, y_test):\n",
    "    estimador = LinearRegression()\n",
    "    estimador.fit(X_train, y_train)\n",
    "\n",
    "    # aqui deveriamos ter um cross validation\n",
    "    y_pred_train = estimador.predict(X_train)\n",
    "    erro_train = mean_absolute_error(y_train, y_pred_train)\n",
    "    \n",
    "    y_pred_test = estimador.predict(X_test)\n",
    "    erro_test = mean_absolute_error(y_test, y_pred_test)\n",
    "    \n",
    "    r2 = r2_score(y_test, y_pred_test)\n",
    "    r2_ajustado = 1 - (1-r2) * (len(y_test) - 1) / (len(y_test) - X_test.shape[1] - 1)\n",
    "    \n",
    "    return erro_train, erro_test, r2, r2_ajustado"
   ]
  },
  {
   "cell_type": "code",
   "execution_count": 16,
   "id": "c90e33ab",
   "metadata": {},
   "outputs": [],
   "source": [
    "resultados_treinos = []\n",
    "\n",
    "for i in range(1, qtde_features+1):\n",
    "    resultados_treinos.append(\n",
    "        treino_avaliacao_test(\n",
    "            X_train_model[features_ordenadas[:i]],\n",
    "            y_train,\n",
    "            X_test_model[features_ordenadas[:i]],\n",
    "            y_test\n",
    "        )\n",
    "    )\n",
    "\n",
    "df_resultados_treinos = pd.DataFrame(resultados_treinos, columns=['erro_train', 'erro_test', 'r2', 'r2a'])"
   ]
  },
  {
   "cell_type": "code",
   "execution_count": 17,
   "id": "c547ba8f",
   "metadata": {},
   "outputs": [
    {
     "data": {
      "text/html": [
       "<div>\n",
       "<style scoped>\n",
       "    .dataframe tbody tr th:only-of-type {\n",
       "        vertical-align: middle;\n",
       "    }\n",
       "\n",
       "    .dataframe tbody tr th {\n",
       "        vertical-align: top;\n",
       "    }\n",
       "\n",
       "    .dataframe thead th {\n",
       "        text-align: right;\n",
       "    }\n",
       "</style>\n",
       "<table border=\"1\" class=\"dataframe\">\n",
       "  <thead>\n",
       "    <tr style=\"text-align: right;\">\n",
       "      <th></th>\n",
       "      <th>erro_train</th>\n",
       "      <th>erro_test</th>\n",
       "      <th>r2</th>\n",
       "      <th>r2a</th>\n",
       "    </tr>\n",
       "  </thead>\n",
       "  <tbody>\n",
       "    <tr>\n",
       "      <th>0</th>\n",
       "      <td>33628.123707</td>\n",
       "      <td>33343.242087</td>\n",
       "      <td>0.650468</td>\n",
       "      <td>0.649262</td>\n",
       "    </tr>\n",
       "    <tr>\n",
       "      <th>1</th>\n",
       "      <td>28595.641353</td>\n",
       "      <td>28555.249976</td>\n",
       "      <td>0.745764</td>\n",
       "      <td>0.744005</td>\n",
       "    </tr>\n",
       "    <tr>\n",
       "      <th>2</th>\n",
       "      <td>27161.035279</td>\n",
       "      <td>28121.524152</td>\n",
       "      <td>0.758581</td>\n",
       "      <td>0.756066</td>\n",
       "    </tr>\n",
       "    <tr>\n",
       "      <th>3</th>\n",
       "      <td>26726.101027</td>\n",
       "      <td>27542.043018</td>\n",
       "      <td>0.762493</td>\n",
       "      <td>0.759183</td>\n",
       "    </tr>\n",
       "    <tr>\n",
       "      <th>4</th>\n",
       "      <td>24992.037680</td>\n",
       "      <td>25284.809689</td>\n",
       "      <td>0.791618</td>\n",
       "      <td>0.787975</td>\n",
       "    </tr>\n",
       "  </tbody>\n",
       "</table>\n",
       "</div>"
      ],
      "text/plain": [
       "     erro_train     erro_test        r2       r2a\n",
       "0  33628.123707  33343.242087  0.650468  0.649262\n",
       "1  28595.641353  28555.249976  0.745764  0.744005\n",
       "2  27161.035279  28121.524152  0.758581  0.756066\n",
       "3  26726.101027  27542.043018  0.762493  0.759183\n",
       "4  24992.037680  25284.809689  0.791618  0.787975"
      ]
     },
     "execution_count": 17,
     "metadata": {},
     "output_type": "execute_result"
    }
   ],
   "source": [
    "df_resultados_treinos.head()"
   ]
  },
  {
   "cell_type": "code",
   "execution_count": 18,
   "id": "99524e58",
   "metadata": {},
   "outputs": [
    {
     "data": {
      "text/plain": [
       "<AxesSubplot:>"
      ]
     },
     "execution_count": 18,
     "metadata": {},
     "output_type": "execute_result"
    },
    {
     "data": {
      "image/png": "[encoded data removed]",
      "text/plain": [
       "<Figure size 720x360 with 1 Axes>"
      ]
     },
     "metadata": {},
     "output_type": "display_data"
    }
   ],
   "source": [
    "sns.set_theme(style='darkgrid')\n",
    "plt.figure(figsize=(10, 5))\n",
    "plt.xticks(df_resultados_treinos.index)\n",
    "sns.lineplot(data=df_resultados_treinos[['r2', 'r2a']])"
   ]
  }
 ],
 "metadata": {
  "kernelspec": {
   "display_name": "Python 3.9.12 ('base')",
   "language": "python",
   "name": "python3"
  },
  "language_info": {
   "codemirror_mode": {
    "name": "ipython",
    "version": 3
   },
   "file_extension": ".py",
   "mimetype": "text/x-python",
   "name": "python",
   "nbconvert_exporter": "python",
   "pygments_lexer": "ipython3",
   "version": "3.9.12"
  },
  "vscode": {
   "interpreter": {
    "hash": "cea1ecbc9060237308d6f43d2a8f2f7ecb9842b1b44e6cce898a5c7b51f4cadd"
   }
  }
 },
 "nbformat": 4,
 "nbformat_minor": 5
}
