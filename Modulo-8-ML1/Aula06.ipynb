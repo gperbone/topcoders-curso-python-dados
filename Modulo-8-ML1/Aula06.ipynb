{
 "cells": [
  {
   "cell_type": "markdown",
   "metadata": {
    "id": "DBjsuuG1pr3g"
   },
   "source": [
    "# KNN - K-nearest neighbors\n",
    "\n",
    "- KNN - Regressão."
   ]
  },
  {
   "cell_type": "markdown",
   "metadata": {
    "id": "wYrzOoJRpr3k"
   },
   "source": [
    "<img src=\"https://www.researchgate.net/profile/Mohammed-Badawy/publication/331424423/figure/fig1/AS:732056359297024@1551547245072/Example-on-KNN-classifier.png\" width=600>"
   ]
  },
  {
   "cell_type": "markdown",
   "metadata": {
    "id": "7Yce7GlOpr3l"
   },
   "source": [
    "###  "
   ]
  },
  {
   "cell_type": "markdown",
   "metadata": {
    "id": "G6hq2NuYpr33"
   },
   "source": [
    "## KNN como Regressão"
   ]
  },
  {
   "cell_type": "markdown",
   "metadata": {
    "id": "MmFcA0Qlpr33"
   },
   "source": [
    "Podemos aplicar da mesma forma que em Árvores de Regressão, para o modelo de __KNN__, temos uma versão com __Regressão__:"
   ]
  },
  {
   "cell_type": "code",
   "execution_count": 1,
   "metadata": {},
   "outputs": [],
   "source": [
    "import pandas as pd\n",
    "import numpy as np\n",
    "\n",
    "import seaborn as sns"
   ]
  },
  {
   "cell_type": "code",
   "execution_count": 2,
   "metadata": {},
   "outputs": [],
   "source": [
    "from sklearn.neighbors import KNeighborsRegressor"
   ]
  },
  {
   "cell_type": "code",
   "execution_count": 3,
   "metadata": {},
   "outputs": [
    {
     "data": {
      "text/html": [
       "<div>\n",
       "<style scoped>\n",
       "    .dataframe tbody tr th:only-of-type {\n",
       "        vertical-align: middle;\n",
       "    }\n",
       "\n",
       "    .dataframe tbody tr th {\n",
       "        vertical-align: top;\n",
       "    }\n",
       "\n",
       "    .dataframe thead th {\n",
       "        text-align: right;\n",
       "    }\n",
       "</style>\n",
       "<table border=\"1\" class=\"dataframe\">\n",
       "  <thead>\n",
       "    <tr style=\"text-align: right;\">\n",
       "      <th></th>\n",
       "      <th>species</th>\n",
       "      <th>island</th>\n",
       "      <th>bill_length_mm</th>\n",
       "      <th>bill_depth_mm</th>\n",
       "      <th>flipper_length_mm</th>\n",
       "      <th>body_mass_g</th>\n",
       "      <th>sex</th>\n",
       "    </tr>\n",
       "  </thead>\n",
       "  <tbody>\n",
       "    <tr>\n",
       "      <th>0</th>\n",
       "      <td>Adelie</td>\n",
       "      <td>Torgersen</td>\n",
       "      <td>39.1</td>\n",
       "      <td>18.7</td>\n",
       "      <td>181.0</td>\n",
       "      <td>3750.0</td>\n",
       "      <td>Male</td>\n",
       "    </tr>\n",
       "    <tr>\n",
       "      <th>1</th>\n",
       "      <td>Adelie</td>\n",
       "      <td>Torgersen</td>\n",
       "      <td>39.5</td>\n",
       "      <td>17.4</td>\n",
       "      <td>186.0</td>\n",
       "      <td>3800.0</td>\n",
       "      <td>Female</td>\n",
       "    </tr>\n",
       "    <tr>\n",
       "      <th>2</th>\n",
       "      <td>Adelie</td>\n",
       "      <td>Torgersen</td>\n",
       "      <td>40.3</td>\n",
       "      <td>18.0</td>\n",
       "      <td>195.0</td>\n",
       "      <td>3250.0</td>\n",
       "      <td>Female</td>\n",
       "    </tr>\n",
       "    <tr>\n",
       "      <th>3</th>\n",
       "      <td>Adelie</td>\n",
       "      <td>Torgersen</td>\n",
       "      <td>NaN</td>\n",
       "      <td>NaN</td>\n",
       "      <td>NaN</td>\n",
       "      <td>NaN</td>\n",
       "      <td>NaN</td>\n",
       "    </tr>\n",
       "    <tr>\n",
       "      <th>4</th>\n",
       "      <td>Adelie</td>\n",
       "      <td>Torgersen</td>\n",
       "      <td>36.7</td>\n",
       "      <td>19.3</td>\n",
       "      <td>193.0</td>\n",
       "      <td>3450.0</td>\n",
       "      <td>Female</td>\n",
       "    </tr>\n",
       "  </tbody>\n",
       "</table>\n",
       "</div>"
      ],
      "text/plain": [
       "  species     island  bill_length_mm  bill_depth_mm  flipper_length_mm  \\\n",
       "0  Adelie  Torgersen            39.1           18.7              181.0   \n",
       "1  Adelie  Torgersen            39.5           17.4              186.0   \n",
       "2  Adelie  Torgersen            40.3           18.0              195.0   \n",
       "3  Adelie  Torgersen             NaN            NaN                NaN   \n",
       "4  Adelie  Torgersen            36.7           19.3              193.0   \n",
       "\n",
       "   body_mass_g     sex  \n",
       "0       3750.0    Male  \n",
       "1       3800.0  Female  \n",
       "2       3250.0  Female  \n",
       "3          NaN     NaN  \n",
       "4       3450.0  Female  "
      ]
     },
     "execution_count": 3,
     "metadata": {},
     "output_type": "execute_result"
    }
   ],
   "source": [
    "df = sns.load_dataset('penguins')\n",
    "df.head()"
   ]
  },
  {
   "cell_type": "code",
   "execution_count": 4,
   "metadata": {},
   "outputs": [
    {
     "name": "stdout",
     "output_type": "stream",
     "text": [
      "<class 'pandas.core.frame.DataFrame'>\n",
      "RangeIndex: 344 entries, 0 to 343\n",
      "Data columns (total 7 columns):\n",
      " #   Column             Non-Null Count  Dtype  \n",
      "---  ------             --------------  -----  \n",
      " 0   species            344 non-null    object \n",
      " 1   island             344 non-null    object \n",
      " 2   bill_length_mm     342 non-null    float64\n",
      " 3   bill_depth_mm      342 non-null    float64\n",
      " 4   flipper_length_mm  342 non-null    float64\n",
      " 5   body_mass_g        342 non-null    float64\n",
      " 6   sex                333 non-null    object \n",
      "dtypes: float64(4), object(3)\n",
      "memory usage: 18.9+ KB\n"
     ]
    }
   ],
   "source": [
    "df.info()"
   ]
  },
  {
   "cell_type": "code",
   "execution_count": 5,
   "metadata": {},
   "outputs": [
    {
     "data": {
      "text/plain": [
       "(333, 7)"
      ]
     },
     "execution_count": 5,
     "metadata": {},
     "output_type": "execute_result"
    }
   ],
   "source": [
    "df.dropna(inplace=True)\n",
    "df.shape"
   ]
  },
  {
   "cell_type": "markdown",
   "metadata": {},
   "source": [
    "E as outras categóricas?"
   ]
  },
  {
   "cell_type": "code",
   "execution_count": 6,
   "metadata": {
    "id": "PIxtRwm0pr36",
    "outputId": "fe9f16de-259f-446a-b00e-315c40cea86b"
   },
   "outputs": [
    {
     "data": {
      "text/plain": [
       "Adelie       0.438438\n",
       "Gentoo       0.357357\n",
       "Chinstrap    0.204204\n",
       "Name: species, dtype: float64"
      ]
     },
     "execution_count": 6,
     "metadata": {},
     "output_type": "execute_result"
    }
   ],
   "source": [
    "df['species'].value_counts(normalize=True)"
   ]
  },
  {
   "cell_type": "code",
   "execution_count": 7,
   "metadata": {},
   "outputs": [
    {
     "data": {
      "text/plain": [
       "Biscoe       0.489489\n",
       "Dream        0.369369\n",
       "Torgersen    0.141141\n",
       "Name: island, dtype: float64"
      ]
     },
     "execution_count": 7,
     "metadata": {},
     "output_type": "execute_result"
    }
   ],
   "source": [
    "df['island'].value_counts(normalize=True)"
   ]
  },
  {
   "cell_type": "code",
   "execution_count": 8,
   "metadata": {},
   "outputs": [],
   "source": [
    "df['sex'] = np.where(df['sex'] == 'Female', 1, 0)"
   ]
  },
  {
   "cell_type": "code",
   "execution_count": 9,
   "metadata": {},
   "outputs": [],
   "source": [
    "df_dummies = pd.get_dummies(df, columns=['species', 'island'], drop_first=True)"
   ]
  },
  {
   "cell_type": "code",
   "execution_count": 11,
   "metadata": {},
   "outputs": [
    {
     "data": {
      "text/html": [
       "<div>\n",
       "<style scoped>\n",
       "    .dataframe tbody tr th:only-of-type {\n",
       "        vertical-align: middle;\n",
       "    }\n",
       "\n",
       "    .dataframe tbody tr th {\n",
       "        vertical-align: top;\n",
       "    }\n",
       "\n",
       "    .dataframe thead th {\n",
       "        text-align: right;\n",
       "    }\n",
       "</style>\n",
       "<table border=\"1\" class=\"dataframe\">\n",
       "  <thead>\n",
       "    <tr style=\"text-align: right;\">\n",
       "      <th></th>\n",
       "      <th>bill_length_mm</th>\n",
       "      <th>bill_depth_mm</th>\n",
       "      <th>flipper_length_mm</th>\n",
       "      <th>body_mass_g</th>\n",
       "      <th>sex</th>\n",
       "      <th>species_Chinstrap</th>\n",
       "      <th>species_Gentoo</th>\n",
       "      <th>island_Dream</th>\n",
       "      <th>island_Torgersen</th>\n",
       "    </tr>\n",
       "  </thead>\n",
       "  <tbody>\n",
       "    <tr>\n",
       "      <th>0</th>\n",
       "      <td>39.1</td>\n",
       "      <td>18.7</td>\n",
       "      <td>181.0</td>\n",
       "      <td>3750.0</td>\n",
       "      <td>0</td>\n",
       "      <td>0</td>\n",
       "      <td>0</td>\n",
       "      <td>0</td>\n",
       "      <td>1</td>\n",
       "    </tr>\n",
       "    <tr>\n",
       "      <th>1</th>\n",
       "      <td>39.5</td>\n",
       "      <td>17.4</td>\n",
       "      <td>186.0</td>\n",
       "      <td>3800.0</td>\n",
       "      <td>1</td>\n",
       "      <td>0</td>\n",
       "      <td>0</td>\n",
       "      <td>0</td>\n",
       "      <td>1</td>\n",
       "    </tr>\n",
       "    <tr>\n",
       "      <th>2</th>\n",
       "      <td>40.3</td>\n",
       "      <td>18.0</td>\n",
       "      <td>195.0</td>\n",
       "      <td>3250.0</td>\n",
       "      <td>1</td>\n",
       "      <td>0</td>\n",
       "      <td>0</td>\n",
       "      <td>0</td>\n",
       "      <td>1</td>\n",
       "    </tr>\n",
       "    <tr>\n",
       "      <th>4</th>\n",
       "      <td>36.7</td>\n",
       "      <td>19.3</td>\n",
       "      <td>193.0</td>\n",
       "      <td>3450.0</td>\n",
       "      <td>1</td>\n",
       "      <td>0</td>\n",
       "      <td>0</td>\n",
       "      <td>0</td>\n",
       "      <td>1</td>\n",
       "    </tr>\n",
       "    <tr>\n",
       "      <th>5</th>\n",
       "      <td>39.3</td>\n",
       "      <td>20.6</td>\n",
       "      <td>190.0</td>\n",
       "      <td>3650.0</td>\n",
       "      <td>0</td>\n",
       "      <td>0</td>\n",
       "      <td>0</td>\n",
       "      <td>0</td>\n",
       "      <td>1</td>\n",
       "    </tr>\n",
       "  </tbody>\n",
       "</table>\n",
       "</div>"
      ],
      "text/plain": [
       "   bill_length_mm  bill_depth_mm  flipper_length_mm  body_mass_g  sex  \\\n",
       "0            39.1           18.7              181.0       3750.0    0   \n",
       "1            39.5           17.4              186.0       3800.0    1   \n",
       "2            40.3           18.0              195.0       3250.0    1   \n",
       "4            36.7           19.3              193.0       3450.0    1   \n",
       "5            39.3           20.6              190.0       3650.0    0   \n",
       "\n",
       "   species_Chinstrap  species_Gentoo  island_Dream  island_Torgersen  \n",
       "0                  0               0             0                 1  \n",
       "1                  0               0             0                 1  \n",
       "2                  0               0             0                 1  \n",
       "4                  0               0             0                 1  \n",
       "5                  0               0             0                 1  "
      ]
     },
     "execution_count": 11,
     "metadata": {},
     "output_type": "execute_result"
    }
   ],
   "source": [
    "df_dummies.head()"
   ]
  },
  {
   "cell_type": "code",
   "execution_count": 12,
   "metadata": {},
   "outputs": [],
   "source": [
    "X = df_dummies.drop(columns=['body_mass_g'])\n",
    "y = df_dummies['body_mass_g']"
   ]
  },
  {
   "cell_type": "markdown",
   "metadata": {
    "id": "tvy7mRntpr37"
   },
   "source": [
    "# Sim, treino, validação e teste  \n",
    "https://machinelearningmastery.com/difference-test-validation-datasets/"
   ]
  },
  {
   "cell_type": "markdown",
   "metadata": {},
   "source": [
    "---\n",
    "### Exemplo"
   ]
  },
  {
   "cell_type": "code",
   "execution_count": 13,
   "metadata": {},
   "outputs": [],
   "source": [
    "import numpy as np"
   ]
  },
  {
   "cell_type": "code",
   "execution_count": 14,
   "metadata": {},
   "outputs": [],
   "source": [
    "numeros = np.linspace(1, 100, 100)"
   ]
  },
  {
   "cell_type": "code",
   "execution_count": 15,
   "metadata": {},
   "outputs": [
    {
     "data": {
      "text/plain": [
       "0.1"
      ]
     },
     "execution_count": 15,
     "metadata": {},
     "output_type": "execute_result"
    }
   ],
   "source": [
    "train_size = 0.6\n",
    "val_size = 0.3\n",
    "test_size = round(1 - train_size - val_size, 1)\n",
    "test_size"
   ]
  },
  {
   "cell_type": "code",
   "execution_count": 16,
   "metadata": {},
   "outputs": [],
   "source": [
    "# 100 >>> train=60, val=30 e test=10"
   ]
  },
  {
   "cell_type": "code",
   "execution_count": 17,
   "metadata": {},
   "outputs": [],
   "source": [
    "from sklearn.model_selection import train_test_split"
   ]
  },
  {
   "cell_type": "code",
   "execution_count": 18,
   "metadata": {},
   "outputs": [
    {
     "name": "stdout",
     "output_type": "stream",
     "text": [
      "60 40\n"
     ]
    }
   ],
   "source": [
    "X_train, X_val_test = train_test_split(numeros, train_size=train_size)\n",
    "\n",
    "print(len(X_train), len(X_val_test))"
   ]
  },
  {
   "cell_type": "code",
   "execution_count": 19,
   "metadata": {},
   "outputs": [
    {
     "data": {
      "text/plain": [
       "0.75"
      ]
     },
     "execution_count": 19,
     "metadata": {},
     "output_type": "execute_result"
    }
   ],
   "source": [
    "razao_val_test = round(val_size / (val_size + test_size), 2)\n",
    "razao_val_test"
   ]
  },
  {
   "cell_type": "code",
   "execution_count": 20,
   "metadata": {},
   "outputs": [
    {
     "data": {
      "text/plain": [
       "30.0"
      ]
     },
     "execution_count": 20,
     "metadata": {},
     "output_type": "execute_result"
    }
   ],
   "source": [
    "40*0.75"
   ]
  },
  {
   "cell_type": "code",
   "execution_count": 21,
   "metadata": {},
   "outputs": [],
   "source": [
    "X_val, X_test = train_test_split(X_val_test, train_size=razao_val_test)"
   ]
  },
  {
   "cell_type": "code",
   "execution_count": 22,
   "metadata": {},
   "outputs": [
    {
     "name": "stdout",
     "output_type": "stream",
     "text": [
      "30 10\n"
     ]
    }
   ],
   "source": [
    "print(len(X_val), len(X_test))"
   ]
  },
  {
   "cell_type": "markdown",
   "metadata": {},
   "source": [
    "-----"
   ]
  },
  {
   "cell_type": "code",
   "execution_count": 23,
   "metadata": {},
   "outputs": [],
   "source": [
    "def split_train_validation_test(X, y, train_size=0.7, val_size=0.2):\n",
    "    test_size = round((1 - train_size - val_size), 1)\n",
    "\n",
    "    razao_val_test = round(val_size / (val_size + test_size), 2)\n",
    "    \n",
    "    X_train, X_val_test, y_train, y_val_test = train_test_split(X, y, train_size=train_size)\n",
    "    \n",
    "    X_val, X_test, y_val, y_test = train_test_split(X_val_test, y_val_test, train_size=razao_val_test)\n",
    "    \n",
    "    return X_train, X_val, X_test, y_train, y_val, y_test"
   ]
  },
  {
   "cell_type": "code",
   "execution_count": 24,
   "metadata": {},
   "outputs": [],
   "source": [
    "X_train, X_val, X_test, y_train, y_val, y_test = split_train_validation_test(X, y, train_size=0.7, val_size=0.2)"
   ]
  },
  {
   "cell_type": "code",
   "execution_count": 25,
   "metadata": {},
   "outputs": [
    {
     "data": {
      "text/plain": [
       "233"
      ]
     },
     "execution_count": 25,
     "metadata": {},
     "output_type": "execute_result"
    }
   ],
   "source": [
    "len(X_train)"
   ]
  },
  {
   "cell_type": "code",
   "execution_count": 26,
   "metadata": {},
   "outputs": [
    {
     "data": {
      "text/plain": [
       "67"
      ]
     },
     "execution_count": 26,
     "metadata": {},
     "output_type": "execute_result"
    }
   ],
   "source": [
    "len(X_val)"
   ]
  },
  {
   "cell_type": "code",
   "execution_count": 27,
   "metadata": {},
   "outputs": [
    {
     "data": {
      "text/plain": [
       "33"
      ]
     },
     "execution_count": 27,
     "metadata": {},
     "output_type": "execute_result"
    }
   ],
   "source": [
    "len(X_test)"
   ]
  },
  {
   "cell_type": "markdown",
   "metadata": {},
   "source": [
    "Vamos usar o conceito de split com scaling"
   ]
  },
  {
   "cell_type": "code",
   "execution_count": 28,
   "metadata": {},
   "outputs": [],
   "source": [
    "from sklearn.preprocessing import MinMaxScaler"
   ]
  },
  {
   "cell_type": "markdown",
   "metadata": {},
   "source": [
    "<img src=\" data:image/png;base64,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\" >"
   ]
  },
  {
   "cell_type": "code",
   "execution_count": 29,
   "metadata": {},
   "outputs": [],
   "source": [
    "data = [[0, 0], [1, 50], [2, 100]]\n",
    "\n",
    "scaler = MinMaxScaler()"
   ]
  },
  {
   "cell_type": "code",
   "execution_count": 30,
   "metadata": {},
   "outputs": [
    {
     "data": {
      "text/plain": [
       "MinMaxScaler()"
      ]
     },
     "execution_count": 30,
     "metadata": {},
     "output_type": "execute_result"
    }
   ],
   "source": [
    "scaler.fit(data)"
   ]
  },
  {
   "cell_type": "code",
   "execution_count": 31,
   "metadata": {},
   "outputs": [
    {
     "name": "stdout",
     "output_type": "stream",
     "text": [
      "[0. 0.] [  2. 100.]\n"
     ]
    }
   ],
   "source": [
    "print(scaler.data_min_, scaler.data_max_)"
   ]
  },
  {
   "cell_type": "code",
   "execution_count": 32,
   "metadata": {},
   "outputs": [
    {
     "data": {
      "text/plain": [
       "array([[0. , 0. ],\n",
       "       [0.5, 0.5],\n",
       "       [1. , 1. ]])"
      ]
     },
     "execution_count": 32,
     "metadata": {},
     "output_type": "execute_result"
    }
   ],
   "source": [
    "scaler.transform(data)"
   ]
  },
  {
   "cell_type": "code",
   "execution_count": 33,
   "metadata": {},
   "outputs": [
    {
     "data": {
      "text/plain": [
       "array([[0.25, 0.75]])"
      ]
     },
     "execution_count": 33,
     "metadata": {},
     "output_type": "execute_result"
    }
   ],
   "source": [
    "scaler.transform([[0.5, 75]])"
   ]
  },
  {
   "cell_type": "markdown",
   "metadata": {},
   "source": [
    "E se eu usar fit_transform?"
   ]
  },
  {
   "cell_type": "code",
   "execution_count": 34,
   "metadata": {},
   "outputs": [],
   "source": [
    "scaler1 = MinMaxScaler()"
   ]
  },
  {
   "cell_type": "code",
   "execution_count": 35,
   "metadata": {},
   "outputs": [
    {
     "data": {
      "text/plain": [
       "array([[0. , 0. ],\n",
       "       [0.5, 0.5],\n",
       "       [1. , 1. ]])"
      ]
     },
     "execution_count": 35,
     "metadata": {},
     "output_type": "execute_result"
    }
   ],
   "source": [
    "scaler1.fit_transform(data)"
   ]
  },
  {
   "cell_type": "code",
   "execution_count": 36,
   "metadata": {},
   "outputs": [
    {
     "data": {
      "text/plain": [
       "array([0., 0.])"
      ]
     },
     "execution_count": 36,
     "metadata": {},
     "output_type": "execute_result"
    }
   ],
   "source": [
    "scaler1.data_min_"
   ]
  },
  {
   "cell_type": "code",
   "execution_count": 37,
   "metadata": {},
   "outputs": [],
   "source": [
    "from sklearn.model_selection import train_test_split"
   ]
  },
  {
   "cell_type": "code",
   "execution_count": 38,
   "metadata": {},
   "outputs": [],
   "source": [
    "X_train, X_test, y_train, y_test = train_test_split(X, y, train_size=0.7, random_state=42)"
   ]
  },
  {
   "cell_type": "code",
   "execution_count": 39,
   "metadata": {},
   "outputs": [],
   "source": [
    "X_train_sc = MinMaxScaler().fit_transform(X_train)\n",
    "X_test_sc = MinMaxScaler().fit_transform(X_test)"
   ]
  },
  {
   "cell_type": "code",
   "execution_count": 40,
   "metadata": {},
   "outputs": [
    {
     "data": {
      "text/plain": [
       "0.8477295831798262"
      ]
     },
     "execution_count": 40,
     "metadata": {},
     "output_type": "execute_result"
    }
   ],
   "source": [
    "# Framework basico\n",
    "from sklearn.metrics import r2_score\n",
    "\n",
    "estimador = KNeighborsRegressor()\n",
    "estimador.fit(X_train_sc, y_train)\n",
    "\n",
    "y_pred = estimador.predict(X_test_sc)\n",
    "\n",
    "r2_score(y_test, y_pred)"
   ]
  },
  {
   "cell_type": "code",
   "execution_count": 42,
   "metadata": {},
   "outputs": [],
   "source": [
    "# for numero_vizinho in lista_variacoes_numeros_vizinhos: # escolha_k()\n",
    "#     for numero_k in lista_variacoes_tamanho_kold: # Kuma chutou\n",
    "#         for qtde_observacoes in variacoes_numero_observacoes_no_treino: # linear curve\n",
    "#             for quais_feature in variacoes_combinacao_features:"
   ]
  },
  {
   "cell_type": "code",
   "execution_count": 43,
   "metadata": {},
   "outputs": [],
   "source": [
    "from sklearn.model_selection import KFold\n",
    "from sklearn.model_selection import cross_validate\n",
    "import matplotlib.pyplot as plt\n",
    "\n",
    "def escolha_k(k_list, X_train, y_train):\n",
    "    training_error = []\n",
    "    validation_error = []\n",
    "\n",
    "    for k in k_list:\n",
    "        kf = KFold(n_splits=15)\n",
    "\n",
    "        estimador = KNeighborsRegressor(n_neighbors=k)\n",
    "\n",
    "        cv_scores = cross_validate(estimator=estimador, X=X_train, y=y_train,\n",
    "                                   scoring='neg_mean_absolute_error',\n",
    "                                    cv=kf, return_train_score=True)\n",
    "        \n",
    "        training_error.append(-1*np.mean(cv_scores['train_score']))\n",
    "        validation_error.append(-1*np.mean(cv_scores['test_score']))\n",
    "        \n",
    "        \n",
    "    plt.plot(k_list, training_error)\n",
    "    plt.plot(k_list, validation_error)\n",
    "    \n",
    "    plt.title('Erros de treino e validação em função de K')\n",
    "    plt.ylabel('Erro médio absoluto')\n",
    "    plt.xlabel('K')\n",
    "    plt.legend(['Treinamento', 'Validação'])"
   ]
  },
  {
   "cell_type": "code",
   "execution_count": 44,
   "metadata": {},
   "outputs": [
    {
     "data": {
      "image/png": "[encoded data removed]",
      "text/plain": [
       "<Figure size 432x288 with 1 Axes>"
      ]
     },
     "metadata": {
      "needs_background": "light"
     },
     "output_type": "display_data"
    }
   ],
   "source": [
    "escolha_k(range(5, 50), X_train_sc, y_train)"
   ]
  },
  {
   "cell_type": "markdown",
   "metadata": {},
   "source": [
    "E a quantidade de dados no train?"
   ]
  },
  {
   "cell_type": "code",
   "execution_count": 45,
   "metadata": {},
   "outputs": [],
   "source": [
    "from sklearn.model_selection import learning_curve"
   ]
  },
  {
   "cell_type": "code",
   "execution_count": 46,
   "metadata": {},
   "outputs": [],
   "source": [
    "estimador = KNeighborsRegressor(n_neighbors=22)"
   ]
  },
  {
   "cell_type": "code",
   "execution_count": 47,
   "metadata": {},
   "outputs": [
    {
     "data": {
      "text/plain": [
       "array([ 69.9       ,  88.02222222, 106.14444444, 124.26666667,\n",
       "       142.38888889, 160.51111111, 178.63333333, 196.75555556,\n",
       "       214.87777778, 233.        ])"
      ]
     },
     "execution_count": 47,
     "metadata": {},
     "output_type": "execute_result"
    }
   ],
   "source": [
    "np.linspace(0.3, 1, 10) * len(X_train)"
   ]
  },
  {
   "cell_type": "code",
   "execution_count": 48,
   "metadata": {},
   "outputs": [],
   "source": [
    "train_sizes, train_scores, test_scores = learning_curve(\n",
    "    estimator=estimador,\n",
    "    X=X_train_sc,\n",
    "    y=y_train,\n",
    "    train_sizes=np.linspace(0.3, 1, 10),\n",
    "    scoring='neg_mean_absolute_error',\n",
    "    cv=15\n",
    ")"
   ]
  },
  {
   "cell_type": "code",
   "execution_count": 52,
   "metadata": {},
   "outputs": [
    {
     "data": {
      "image/png": "[encoded data removed]",
      "text/plain": [
       "<Figure size 432x288 with 1 Axes>"
      ]
     },
     "metadata": {
      "needs_background": "light"
     },
     "output_type": "display_data"
    }
   ],
   "source": [
    "plt.plot(train_sizes, -train_scores.mean(1), '--o', color='g')\n",
    "plt.plot(train_sizes, -test_scores.mean(1), '--o', color='r')\n",
    "\n",
    "plt.show()\n"
   ]
  },
  {
   "cell_type": "code",
   "execution_count": 53,
   "metadata": {},
   "outputs": [
    {
     "data": {
      "text/plain": [
       "233"
      ]
     },
     "execution_count": 53,
     "metadata": {},
     "output_type": "execute_result"
    }
   ],
   "source": [
    "X_train.shape[0]"
   ]
  },
  {
   "cell_type": "code",
   "execution_count": 54,
   "metadata": {},
   "outputs": [
    {
     "data": {
      "text/plain": [
       "0.6008583690987125"
      ]
     },
     "execution_count": 54,
     "metadata": {},
     "output_type": "execute_result"
    }
   ],
   "source": [
    "140 / 233"
   ]
  },
  {
   "cell_type": "code",
   "execution_count": 55,
   "metadata": {},
   "outputs": [
    {
     "data": {
      "text/plain": [
       "0.7502679528403001"
      ]
     },
     "execution_count": 55,
     "metadata": {},
     "output_type": "execute_result"
    }
   ],
   "source": [
    "140 / (233 - (232*0.2)) "
   ]
  },
  {
   "cell_type": "markdown",
   "metadata": {},
   "source": [
    "Enfim..."
   ]
  },
  {
   "cell_type": "code",
   "execution_count": 87,
   "metadata": {},
   "outputs": [],
   "source": [
    "estimador = KNeighborsRegressor(n_neighbors=22)\n",
    "train_size = 0.75"
   ]
  },
  {
   "cell_type": "code",
   "execution_count": 88,
   "metadata": {},
   "outputs": [],
   "source": [
    "X_train, X_test, y_train, y_test = train_test_split(X, y, train_size=train_size, random_state=42)"
   ]
  },
  {
   "cell_type": "code",
   "execution_count": 89,
   "metadata": {},
   "outputs": [
    {
     "data": {
      "text/plain": [
       "(249, 8)"
      ]
     },
     "execution_count": 89,
     "metadata": {},
     "output_type": "execute_result"
    }
   ],
   "source": [
    "X_train.shape"
   ]
  },
  {
   "cell_type": "code",
   "execution_count": 90,
   "metadata": {},
   "outputs": [],
   "source": [
    "X_train_sc = MinMaxScaler().fit_transform(X_train)\n",
    "X_test_sc = MinMaxScaler().fit_transform(X_test)"
   ]
  },
  {
   "cell_type": "code",
   "execution_count": 91,
   "metadata": {},
   "outputs": [
    {
     "data": {
      "text/plain": [
       "KNeighborsRegressor(n_neighbors=22)"
      ]
     },
     "execution_count": 91,
     "metadata": {},
     "output_type": "execute_result"
    }
   ],
   "source": [
    "estimador.fit(X_train_sc, y_train)"
   ]
  },
  {
   "cell_type": "code",
   "execution_count": 92,
   "metadata": {},
   "outputs": [],
   "source": [
    "y_pred = estimador.predict(X_test_sc)"
   ]
  },
  {
   "cell_type": "code",
   "execution_count": 93,
   "metadata": {},
   "outputs": [
    {
     "data": {
      "text/plain": [
       "0.8739419601390669"
      ]
     },
     "execution_count": 93,
     "metadata": {},
     "output_type": "execute_result"
    }
   ],
   "source": [
    "r2_score(y_test, y_pred)"
   ]
  },
  {
   "cell_type": "markdown",
   "metadata": {},
   "source": [
    "Como ele faz o cáculo?"
   ]
  },
  {
   "cell_type": "markdown",
   "metadata": {},
   "source": [
    "https://scikit-learn.org/stable/auto_examples/neighbors/plot_regression.html#sphx-glr-auto-examples-neighbors-plot-regression-py"
   ]
  }
 ],
 "metadata": {
  "colab": {
   "name": "Aula 3.1 - KNN.ipynb",
   "provenance": []
  },
  "kernelspec": {
   "display_name": "Python 3.9.6 64-bit",
   "language": "python",
   "name": "python3"
  },
  "language_info": {
   "codemirror_mode": {
    "name": "ipython",
    "version": 3
   },
   "file_extension": ".py",
   "mimetype": "text/x-python",
   "name": "python",
   "nbconvert_exporter": "python",
   "pygments_lexer": "ipython3",
   "version": "3.9.6"
  },
  "vscode": {
   "interpreter": {
    "hash": "31f2aee4e71d21fbe5cf8b01ff0e069b9275f58929596ceb00d14d90e3e16cd6"
   }
  }
 },
 "nbformat": 4,
 "nbformat_minor": 1
}
