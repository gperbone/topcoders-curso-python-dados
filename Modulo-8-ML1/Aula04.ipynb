{
 "cells": [
  {
   "cell_type": "markdown",
   "metadata": {
    "id": "DBjsuuG1pr3g"
   },
   "source": [
    "# KNN - K-nearest neighbors\n",
    "\n",
    "Nessa aula, iremos tratar dos seguintes conteúdos:\n",
    "- KNN - Classificador;\n",
    "- KNN - Regressão."
   ]
  },
  {
   "cell_type": "markdown",
   "metadata": {
    "id": "wYrzOoJRpr3k"
   },
   "source": [
    "<img src=\"https://www.researchgate.net/profile/Mohammed-Badawy/publication/331424423/figure/fig1/AS:732056359297024@1551547245072/Example-on-KNN-classifier.png\" width=600>"
   ]
  },
  {
   "cell_type": "markdown",
   "metadata": {
    "id": "7Yce7GlOpr3l"
   },
   "source": [
    "###  "
   ]
  },
  {
   "cell_type": "markdown",
   "metadata": {
    "id": "EfUqCYDFpr3l"
   },
   "source": [
    "## K-Nearest Neighbors ou K-Vizinhos"
   ]
  },
  {
   "cell_type": "markdown",
   "metadata": {
    "id": "yADvR3nlpr3m"
   },
   "source": [
    "O modelo K-Nearest Neighbors (KNN), ou K-Vizinhos, é um modelo de classificação bem simples, cuja ideia de aplicação é: iremos definir se um dado pertence ou não a uma classe - ou no caso multi classes para qual das classes irá pertencer -, a partir de cálculos de **distâncias!** <br><br>\n",
    "\n",
    "A cada observação nova que devemos classificar, será feito o cálculo de distância das $K$ observações mais próximas em relação ao elemento a ser classificado e, de acordo com a classificação desses vizinhos próximos, será definida a classe da observação: \n",
    "\n",
    "<img src=\"https://res.cloudinary.com/dyd911kmh/image/upload/f_auto,q_auto:best/v1531424125/KNN_final1_ibdm8a.png\" width=600>\n",
    "\n",
    "É importante ressaltar que o modelo KNN é **bem simples** de rodar e tem um **custo computacional mais baixo** em relação a outros modelos. Entretanto, **ele não aprende** com os dados já observados, ou seja: toda vez que tivermos novos dados, serão calculadas todas as ditâncias para definir os elementos mais próximos e, assim, conseguir classificá-lo.<br><br>\n",
    "\n",
    "Existem vários tipos de distâncias que podemos utilizar no KNN; por exemplo: [Euclidiana](https://en.wikipedia.org/wiki/Euclidean_distance), [Minkowski](https://en.wikipedia.org/wiki/Minkowski_distance), [Cosseno](https://cmry.github.io/notes/euclidean-v-cosine) e [Pearson](https://en.wikipedia.org/wiki/Pearson_correlation_coefficient).<br><br>\n",
    "\n",
    "A distância Euclidiana é a que geralmente estamos mais habituados; é aquela a qual costumamos atribuir o sentido de \"distância em linha reta\". A figura abaixo ilustra o cálculo para a distância Euclidiana entre dois pontos quaisquer em um espaço x-y (podemos pensar nesses pontos, por exemplo, como correspondendo a duas observações distintas de um vetor de atributos).\n",
    "\n",
    "<img src=\"https://rosalind.info/media/Euclidean_distance.png\" width=300>"
   ]
  },
  {
   "cell_type": "markdown",
   "metadata": {},
   "source": [
    "Em suma, o processo de modelagem para o KNN engloba usualmente as seguintes etapas:\n",
    "\n",
    "1. Recebe um dado não classificado;\n",
    "2. Mede sua distância (Euclidiana, Manhattan, Minkowski ou Ponderada) a cada um dos elementos da base de treino;\n",
    "3. Obtém um *ranking* das distâncias, em ordem decrescente;\n",
    "4. Verifica a classe de cada uma das *K* observações que tiveram a menor distância, e conta a quantidade correspondente a cada classe;\n",
    "5. Toma como resultado a classe que mais apareceu dentre os dados que tiveram as menores distâncias;\n",
    "6. Classifica o novo dado com a classe tomada como resultado da classificação.\n",
    "\n",
    "Mas sempre que olhamos para o nosso processo de modelagem (como o exemplo acima), a primeira dúvida que vem na cabeça é:\n",
    "\n",
    "> Qual é o número de vizinhos adequados: i.e., **como escolher $k$?**\n",
    "\n",
    "Essa é uma escolha particularmente importante, pois escolhas diferentes de $k$ podem facilmente levar a classificações diferentes:\n",
    "\n",
    "<img src=\"https://helloacm.com/wp-content/uploads/2016/03/2012-10-26-knn-concept.png\" width=400>"
   ]
  },
  {
   "cell_type": "markdown",
   "metadata": {},
   "source": [
    "### Exemplo com um dataset fictício"
   ]
  },
  {
   "cell_type": "markdown",
   "metadata": {},
   "source": [
    "Vamos trabalhar com um conjunto de dados simulado, com 300 observações divididas em três classes de dados, e uma matriz de atributos bidimensional (i.e., dois atributos)."
   ]
  },
  {
   "cell_type": "code",
   "execution_count": 100,
   "metadata": {},
   "outputs": [],
   "source": [
    "n_exemplos = 300\n",
    "centroides = [(-2,2), (0,2), (0,-1)]"
   ]
  },
  {
   "cell_type": "code",
   "execution_count": 101,
   "metadata": {},
   "outputs": [],
   "source": [
    "import sklearn.datasets as skdata\n",
    "\n",
    "X, y = skdata.make_blobs(n_samples = n_exemplos,\n",
    "                        n_features = 2,\n",
    "                        cluster_std = 1.0,\n",
    "                        centers = centroides,\n",
    "                        shuffle = False,\n",
    "                        random_state = 42)"
   ]
  },
  {
   "cell_type": "code",
   "execution_count": 102,
   "metadata": {},
   "outputs": [
    {
     "name": "stdout",
     "output_type": "stream",
     "text": [
      "[[-1.50328585e+00  1.86173570e+00]\n",
      " [-1.35231146e+00  3.52302986e+00]\n",
      " [-2.23415337e+00  1.76586304e+00]\n",
      " [-4.20787184e-01  2.76743473e+00]\n",
      " [-2.46947439e+00  2.54256004e+00]\n",
      " [-2.46341769e+00  1.53427025e+00]\n",
      " [-1.75803773e+00  8.67197553e-02]\n",
      " [-3.72491783e+00  1.43771247e+00]\n",
      " [-3.01283112e+00  2.31424733e+00]\n",
      " [-2.90802408e+00  5.87696299e-01]\n",
      " [-5.34351231e-01  1.77422370e+00]\n",
      " [-1.93247180e+00  5.75251814e-01]\n",
      " [-2.54438272e+00  2.11092259e+00]\n",
      " [-3.15099358e+00  2.37569802e+00]\n",
      " [-2.60063869e+00  1.70830625e+00]\n",
      " [-2.60170661e+00  3.85227818e+00]\n",
      " [-2.01349722e+00  9.42289071e-01]\n",
      " [-1.17745509e+00  7.79156350e-01]\n",
      " [-1.79113640e+00  4.03298761e-02]\n",
      " [-3.32818605e+00  2.19686124e+00]\n",
      " [-1.26153342e+00  2.17136828e+00]\n",
      " [-2.11564828e+00  1.69889630e+00]\n",
      " [-3.47852199e+00  1.28015579e+00]\n",
      " [-2.46063877e+00  3.05712223e+00]\n",
      " [-1.65638171e+00  2.36959845e-01]\n",
      " [-1.67591603e+00  1.61491772e+00]\n",
      " [-2.67692200e+00  2.61167629e+00]\n",
      " [-9.69000478e-01  2.93128012e+00]\n",
      " [-2.83921752e+00  1.69078762e+00]\n",
      " [-1.66873657e+00  2.97554513e+00]\n",
      " [-2.47917424e+00  1.81434102e+00]\n",
      " [-3.10633497e+00  8.03793376e-01]\n",
      " [-1.18747418e+00  3.35624003e+00]\n",
      " [-2.07201012e+00  3.00353290e+00]\n",
      " [-1.63836397e+00  1.35488025e+00]\n",
      " [-1.63860439e+00  3.53803657e+00]\n",
      " [-2.03582604e+00  3.56464366e+00]\n",
      " [-4.61974510e+00  2.82190250e+00]\n",
      " [-1.91295293e+00  1.70099265e+00]\n",
      " [-1.90823922e+00  1.24310854e-02]\n",
      " [-2.21967189e+00  2.35711257e+00]\n",
      " [-5.22105955e-01  1.48172978e+00]\n",
      " [-2.80849360e+00  1.49824296e+00]\n",
      " [-1.08459788e+00  2.32875111e+00]\n",
      " [-2.52976020e+00  2.51326743e+00]\n",
      " [-1.90292245e+00  2.96864499e+00]\n",
      " [-2.70205309e+00  1.67233785e+00]\n",
      " [-2.39210815e+00  5.36485052e-01]\n",
      " [-1.70387972e+00  2.26105527e+00]\n",
      " [-1.99488654e+00  1.76541287e+00]\n",
      " [-3.41537074e+00  1.57935468e+00]\n",
      " [-2.34271452e+00  1.19772273e+00]\n",
      " [-2.16128571e+00  2.40405086e+00]\n",
      " [-1.13814099e-01  2.17457781e+00]\n",
      " [-1.74244961e+00  1.92555408e+00]\n",
      " [-3.91877122e+00  1.97348612e+00]\n",
      " [-1.93976979e+00  4.46324211e+00]\n",
      " [-2.19236096e+00  2.30154734e+00]\n",
      " [-2.03471177e+00  8.31321962e-01]\n",
      " [-8.57177185e-01  2.75193303e+00]\n",
      " [-1.20896805e+00  1.09061255e+00]\n",
      " [-5.97205689e-01  5.98148937e-01]\n",
      " [-1.41314291e+00  4.19045563e+00]\n",
      " [-2.99053633e+00  1.43370227e+00]\n",
      " [-1.90034863e+00  1.49652435e+00]\n",
      " [-3.55066343e+00  2.06856297e+00]\n",
      " [-3.06230371e+00  2.47359243e+00]\n",
      " [-2.91942423e+00  3.54993441e+00]\n",
      " [-2.78325329e+00  1.67793848e+00]\n",
      " [-1.18648278e+00  7.69135684e-01]\n",
      " [-1.77254007e+00  3.30714275e+00]\n",
      " [-3.60748323e+00  2.18463386e+00]\n",
      " [-1.74011721e+00  2.78182287e+00]\n",
      " [-3.23695071e+00  6.79543387e-01]\n",
      " [-1.47805843e+00  2.29698467e+00]\n",
      " [-1.74950715e+00  2.34644821e+00]\n",
      " [-2.68002472e+00  2.23225370e+00]\n",
      " [-1.70692753e+00  1.28564858e+00]\n",
      " [-1.34225489e-01  2.47383292e+00]\n",
      " [-3.19130350e+00  2.65655361e+00]\n",
      " [-2.97468167e+00  2.78708460e+00]\n",
      " [-8.41404421e-01  1.17931768e+00]\n",
      " [-1.03662387e+00  2.41278093e+00]\n",
      " [-1.17793984e+00  3.89679298e+00]\n",
      " [-2.24538812e+00  1.24626384e+00]\n",
      " [-2.88951443e+00  1.18418972e+00]\n",
      " [-2.07710171e+00  2.34115197e+00]\n",
      " [-1.72330920e+00  2.82718325e+00]\n",
      " [-1.98699811e+00  3.45353408e+00]\n",
      " [-2.26465683e+00  4.72016917e+00]\n",
      " [-1.37433265e+00  1.14284244e+00]\n",
      " [-3.07089250e+00  2.48247242e+00]\n",
      " [-2.22346279e+00  2.71400049e+00]\n",
      " [-1.52676238e+00  1.92717109e+00]\n",
      " [-2.84679372e+00  4.85152775e-01]\n",
      " [-2.44651495e+00  2.85639879e+00]\n",
      " [-1.78590626e+00  7.54261221e-01]\n",
      " [-1.82681907e+00  2.38531738e+00]\n",
      " [-2.88385744e+00  2.15372511e+00]\n",
      " [-1.94179128e+00  8.57029702e-01]\n",
      " [ 3.57787360e-01  2.56078453e+00]\n",
      " [ 1.08305124e+00  3.05380205e+00]\n",
      " [-1.37766937e+00  1.06217496e+00]\n",
      " [ 5.15035267e-01  2.51378595e+00]\n",
      " [ 5.15047686e-01  5.85273149e+00]\n",
      " [ 5.70890511e-01  3.13556564e+00]\n",
      " [ 9.54001763e-01  2.65139125e+00]\n",
      " [-3.15269245e-01  2.75896922e+00]\n",
      " [-7.72825215e-01  1.76318139e+00]\n",
      " [-4.85363548e-01  2.08187414e+00]\n",
      " [ 2.31465857e+00  1.32734807e-01]\n",
      " [ 6.86260190e-01  3.87284129e-01]\n",
      " [-4.71931866e-01  3.08895060e+00]\n",
      " [ 6.42800191e-02  9.22255222e-01]\n",
      " [-7.15303709e-01  2.67959775e+00]\n",
      " [-7.30366632e-01  2.21645859e+00]\n",
      " [ 4.55718399e-02  1.34839965e+00]\n",
      " [ 2.14394409e+00  2.63391902e+00]\n",
      " [-2.02514259e+00  2.18645431e+00]\n",
      " [-6.61786465e-01  2.85243333e+00]\n",
      " [-7.92520738e-01  1.88526356e+00]\n",
      " [ 5.04987279e-01  2.86575519e+00]\n",
      " [-1.20029641e+00  1.66549876e+00]\n",
      " [-4.74945311e-01  1.34667077e+00]\n",
      " [ 1.76545424e+00  2.40498171e+00]\n",
      " [-1.26088395e+00  2.91786195e+00]\n",
      " [ 2.12215620e+00  3.03246526e+00]\n",
      " [-1.51936997e+00  1.51576593e+00]\n",
      " [ 1.26691115e+00  1.29233053e+00]\n",
      " [ 4.43819428e-01  2.77463405e+00]\n",
      " [-9.26930472e-01  1.94047464e+00]\n",
      " [-3.24126734e+00  9.75612359e-01]\n",
      " [-2.52568151e-01  7.52216818e-01]\n",
      " [ 1.63241130e+00  5.69858622e-01]\n",
      " [-4.40044487e-01  2.13074058e+00]\n",
      " [ 1.44127329e+00  5.64137849e-01]\n",
      " [ 1.16316375e+00  2.01023306e+00]\n",
      " [-9.81508651e-01  2.46210347e+00]\n",
      " [ 1.99059696e-01  1.39978312e+00]\n",
      " [ 6.98020850e-02  1.61468640e+00]\n",
      " [ 1.13517345e-01  2.66213067e+00]\n",
      " [ 1.58601682e+00  7.62184501e-01]\n",
      " [ 2.13303337e+00  4.79122005e-02]\n",
      " [-1.51785095e-01  2.58831721e+00]\n",
      " [ 2.80991868e-01  1.37730048e+00]\n",
      " [-2.08122250e-01  1.50699907e+00]\n",
      " [-5.89364757e-01  2.84960210e+00]\n",
      " [ 3.57015486e-01  1.30709040e+00]\n",
      " [ 8.99599875e-01  2.30729952e+00]\n",
      " [ 8.12862119e-01  2.62962884e+00]\n",
      " [-8.28995011e-01  1.43981896e+00]\n",
      " [ 7.47293605e-01  2.61037027e+00]\n",
      " [-2.09015940e-02  2.11732738e+00]\n",
      " [ 1.27766490e+00  1.40842861e+00]\n",
      " [ 5.47097381e-01  1.79780735e+00]\n",
      " [-2.17681203e-01  3.09877685e+00]\n",
      " [ 8.25416349e-01  2.81350964e+00]\n",
      " [ 1.30547881e+00  2.02100384e+00]\n",
      " [ 6.81952971e-01  1.68973324e+00]\n",
      " [ 3.24166352e-01  1.86985695e+00]\n",
      " [ 9.69959650e-02  2.59515703e+00]\n",
      " [-8.18220683e-01  4.09238728e+00]\n",
      " [-1.00601738e+00  7.85811387e-01]\n",
      " [ 1.15811087e+00  2.79166269e+00]\n",
      " [ 6.24119817e-01  2.62834551e+00]\n",
      " [-1.22467728e-02  1.10274563e+00]\n",
      " [ 7.58045582e-02  1.32283829e+00]\n",
      " [ 9.75119733e-01  1.85294262e+00]\n",
      " [-8.25497197e-01  1.67861416e+00]\n",
      " [ 4.12931454e-01  1.43627545e+00]\n",
      " [-8.22220396e-01  2.24368721e+00]\n",
      " [ 2.44966571e-01  1.49305682e+00]\n",
      " [-4.71038306e-01  2.23204994e+00]\n",
      " [-1.44808434e+00  5.92536226e-01]\n",
      " [-7.18444221e-01  1.78655285e+00]\n",
      " [ 3.10907566e-01  3.47535622e+00]\n",
      " [ 8.57659623e-01  1.84006147e+00]\n",
      " [-1.90162079e-02  9.97470635e-01]\n",
      " [-1.85131360e-02  1.71134136e+00]\n",
      " [ 3.22718560e-01  1.17276906e+00]\n",
      " [ 5.19346514e-01  3.53273891e+00]\n",
      " [-1.08760148e-01  2.40171172e+00]\n",
      " [ 6.90143992e-01  1.59877953e+00]\n",
      " [ 2.24092482e-01  2.01259240e+00]\n",
      " [ 9.76760985e-02  1.22699022e+00]\n",
      " [ 2.45101743e-02  2.49799829e+00]\n",
      " [ 1.45114361e+00  2.95927083e+00]\n",
      " [ 2.15318246e+00  1.23265244e+00]\n",
      " [ 8.72320637e-01  2.18334201e+00]\n",
      " [ 2.18980293e+00  1.19170171e+00]\n",
      " [-8.39721842e-01  1.40060735e+00]\n",
      " [-2.12389572e+00  1.47424498e+00]\n",
      " [-7.59132662e-01  2.15039379e+00]\n",
      " [ 3.41755976e-01  3.87617084e+00]\n",
      " [ 9.50423838e-01  1.42309634e+00]\n",
      " [-8.98414671e-01  2.49191917e+00]\n",
      " [-1.32023321e+00  3.83145877e+00]\n",
      " [ 1.17944012e+00  1.53082435e+00]\n",
      " [-1.71313453e+00  3.35387237e+00]\n",
      " [-1.14539845e-01  3.23781631e+00]\n",
      " [-1.59442766e+00 -1.59937502e+00]\n",
      " [ 5.24369972e-03 -9.53019406e-01]\n",
      " [-4.50065471e-01 -3.77150068e-01]\n",
      " [-1.06762043e+00 -1.14237949e+00]\n",
      " [ 1.20295632e-01 -4.85561166e-01]\n",
      " [ 7.11614878e-01 -2.12464209e+00]\n",
      " [-1.53411417e+00  2.77676822e-01]\n",
      " [ 3.32314012e-01 -1.74848654e+00]\n",
      " [ 1.55115198e+00 -8.84325366e-01]\n",
      " [ 1.17929718e+00 -9.32481519e-01]\n",
      " [ 2.06074792e+00  7.55340842e-01]\n",
      " [-2.48964148e-01 -2.84290490e-02]\n",
      " [ 6.45375950e-01  3.68631558e-01]\n",
      " [-9.64923461e-01 -3.13948540e-01]\n",
      " [ 1.05842449e+00 -2.75873949e+00]\n",
      " [-1.18325851e+00 -3.03923218e+00]\n",
      " [-2.69406834e-01 -2.82457744e-01]\n",
      " [ 1.50235705e+00 -9.25905220e-01]\n",
      " [ 1.62861555e+00 -2.38010146e+00]\n",
      " [-1.70338244e+00 -1.05554770e+00]\n",
      " [ 3.84065449e-01 -1.03269475e+00]\n",
      " [-2.06744210e+00 -1.08912004e+00]\n",
      " [-1.30446950e+00 -3.30327451e-01]\n",
      " [ 3.66598246e-01 -1.93987979e+00]\n",
      " [-5.13866917e-01 -2.05921352e+00]\n",
      " [-6.26790973e-02 -4.48576795e-02]\n",
      " [-9.85726046e-01 -4.95953484e-01]\n",
      " [-5.30257618e-01 -1.79287283e+00]\n",
      " [-1.07030360e-01 -2.03524232e+00]\n",
      " [-5.53649305e-01 -2.19787789e+00]\n",
      " [ 1.96472513e+00 -9.64736448e-01]\n",
      " [-6.99725508e-01 -7.86020089e-01]\n",
      " [-1.12328050e-01 -1.22096960e+00]\n",
      " [ 6.14166700e-01 -2.42492290e-01]\n",
      " [-5.30501148e-01 -1.57581824e+00]\n",
      " [-2.75051697e-01 -3.30192116e+00]\n",
      " [-1.51519106e+00  3.66874267e-01]\n",
      " [ 1.64496771e+00 -1.24903604e+00]\n",
      " [ 5.76556963e-01 -6.88749845e-01]\n",
      " [ 3.07888081e+00  1.19574911e-01]\n",
      " [-1.27917591e-01 -1.95554044e+00]\n",
      " [-1.60644632e+00 -7.96536364e-01]\n",
      " [-7.56350745e-01 -2.42225371e+00]\n",
      " [-6.46572884e-01 -2.08154800e+00]\n",
      " [ 1.68714164e+00 -1.18360243e-01]\n",
      " [-7.97264132e-03  4.79944139e-01]\n",
      " [ 7.73683076e-02 -1.86128420e+00]\n",
      " [ 1.52312408e+00 -4.61089956e-01]\n",
      " [-1.03724615e+00 -1.19033868e+00]\n",
      " [-8.75618253e-01 -2.38279973e+00]\n",
      " [ 9.26177548e-01  9.09416640e-01]\n",
      " [-1.39856757e+00 -4.37030763e-01]\n",
      " [-6.50642569e-01 -1.48712538e+00]\n",
      " [-5.92393924e-01 -1.86399077e+00]\n",
      " [ 4.85216279e-02 -1.83095012e+00]\n",
      " [ 2.70456826e-01 -1.05023811e+00]\n",
      " [-2.38948047e-01 -1.90756366e+00]\n",
      " [-5.76771331e-01 -2.44608774e-01]\n",
      " [ 5.00917188e-01 -1.97755524e+00]\n",
      " [ 9.93323054e-02 -2.48612877e-01]\n",
      " [-1.66940528e+00 -4.56639808e-01]\n",
      " [-6.62623759e-01 -4.29401331e-01]\n",
      " [-7.63259157e-01 -2.80488210e+00]\n",
      " [-1.62754244e+00 -9.51915053e-01]\n",
      " [ 2.59722502e-01 -1.90431663e+00]\n",
      " [ 6.38592459e-01 -2.66152006e+00]\n",
      " [-6.60797986e-02 -2.21101620e+00]\n",
      " [-6.51836108e-01 -9.52601329e-01]\n",
      " [-8.60413365e-01 -1.38455554e+00]\n",
      " [ 1.00629281e+00 -1.57689187e+00]\n",
      " [ 8.35692112e-01 -2.12970685e+00]\n",
      " [ 5.29804178e-01  4.41568621e-01]\n",
      " [-2.47164450e+00 -1.79689526e+00]\n",
      " [ 5.77072127e-01 -1.20304539e+00]\n",
      " [ 3.71145873e-01 -1.60398519e+00]\n",
      " [ 8.65897875e-02 -1.15567724e+00]\n",
      " [ 1.16778206e+00 -7.45579157e-01]\n",
      " [ 3.37602662e-01 -1.41187697e+00]\n",
      " [-4.87606224e-01 -1.43255819e+00]\n",
      " [ 3.94452142e-01 -1.42098448e+00]\n",
      " [ 2.89774857e-01  1.07540080e+00]\n",
      " [ 8.71124703e-01 -1.32602353e+00]\n",
      " [ 1.20121392e+00 -1.40807537e+00]\n",
      " [-2.03812454e+00 -2.00808631e+00]\n",
      " [-1.87079192e+00 -1.35151348e+00]\n",
      " [ 1.84183792e-02  6.76437312e-01]\n",
      " [ 3.26927374e-01 -1.21910053e+00]\n",
      " [ 8.29405581e-01 -3.21113531e+00]\n",
      " [ 2.35614558e-01 -2.29134806e-01]\n",
      " [-1.47858625e+00  1.43754043e-01]\n",
      " [ 3.38496407e-01 -1.41528791e+00]\n",
      " [ 6.32781866e-01  1.27069286e+00]\n",
      " [ 1.81866255e-01 -7.51779414e-01]\n",
      " [-4.59360900e-01 -1.84984437e+00]\n",
      " [ 8.30335817e-01 -1.85608383e+00]\n",
      " [ 7.15662372e-02 -1.47765745e+00]\n",
      " [ 4.78979826e-01 -6.66337895e-01]\n",
      " [ 1.03753994e+00 -1.51001640e+00]\n",
      " [-2.69874935e-01 -1.97876372e+00]\n",
      " [-4.44293260e-01 -6.22699507e-01]]\n"
     ]
    }
   ],
   "source": [
    "print(X)"
   ]
  },
  {
   "cell_type": "markdown",
   "metadata": {},
   "source": [
    "Verifiquemos os labels atribuídos em 'y' e o número de observações em cada classe."
   ]
  },
  {
   "cell_type": "code",
   "execution_count": 103,
   "metadata": {},
   "outputs": [
    {
     "data": {
      "text/plain": [
       "(array([0, 1, 2]), array([100, 100, 100]))"
      ]
     },
     "execution_count": 103,
     "metadata": {},
     "output_type": "execute_result"
    }
   ],
   "source": [
    "import numpy as np\n",
    "np.unique(y, return_counts = True)"
   ]
  },
  {
   "cell_type": "markdown",
   "metadata": {},
   "source": [
    "Vamos, agora, graficar o espaço destes dados"
   ]
  },
  {
   "cell_type": "code",
   "execution_count": 104,
   "metadata": {},
   "outputs": [
    {
     "data": {
      "text/plain": [
       "[(-2, 2), (0, 2), (0, -1)]"
      ]
     },
     "execution_count": 104,
     "metadata": {},
     "output_type": "execute_result"
    },
    {
     "data": {
      "image/png": "[encoded data removed]",
      "text/plain": [
       "<Figure size 720x432 with 1 Axes>"
      ]
     },
     "metadata": {
      "needs_background": "light"
     },
     "output_type": "display_data"
    }
   ],
   "source": [
    "import matplotlib.pyplot as plt\n",
    "\n",
    "# Definir vetor com as cores\n",
    "colors = ['r', 'b', 'g']\n",
    "\n",
    "# rótulos das classes de dados\n",
    "class_labels = np.unique(y)\n",
    "\n",
    "aux = 0\n",
    "plt.figure(figsize = (10,6))\n",
    "\n",
    "for c in class_labels:\n",
    "    indices_to_plot = np.where(y == c)\n",
    "    plt.scatter(X[indices_to_plot,0], X[indices_to_plot,1], color = colors[aux], label = c)\n",
    "    aux += 1\n",
    "\n",
    "plt.title('Distribuição dos atributos')\n",
    "plt.xlabel('X1')\n",
    "plt.ylabel('X2')\n",
    "plt.legend([0,1,2])\n",
    "\n",
    "[(-2,2), (0,2), (0,-1)]"
   ]
  },
  {
   "cell_type": "markdown",
   "metadata": {},
   "source": [
    "Agora, vamos utilizar o algoritmo do KNN para visualizar **curvas de decisão** entre as três classes de dados. Estas curvas nos indicarão a que classe de dados uma nova amostra pertence, a partir de sua posição no espaço de fase gerado pelos atributos X1 e X2."
   ]
  },
  {
   "cell_type": "code",
   "execution_count": 105,
   "metadata": {},
   "outputs": [
    {
     "name": "stdout",
     "output_type": "stream",
     "text": [
      "[[-1.50328585e+00  1.86173570e+00  0.00000000e+00]\n",
      " [-1.35231146e+00  3.52302986e+00  0.00000000e+00]\n",
      " [-2.23415337e+00  1.76586304e+00  0.00000000e+00]\n",
      " [-4.20787184e-01  2.76743473e+00  0.00000000e+00]\n",
      " [-2.46947439e+00  2.54256004e+00  0.00000000e+00]\n",
      " [-2.46341769e+00  1.53427025e+00  0.00000000e+00]\n",
      " [-1.75803773e+00  8.67197553e-02  0.00000000e+00]\n",
      " [-3.72491783e+00  1.43771247e+00  0.00000000e+00]\n",
      " [-3.01283112e+00  2.31424733e+00  0.00000000e+00]\n",
      " [-2.90802408e+00  5.87696299e-01  0.00000000e+00]\n",
      " [-5.34351231e-01  1.77422370e+00  0.00000000e+00]\n",
      " [-1.93247180e+00  5.75251814e-01  0.00000000e+00]\n",
      " [-2.54438272e+00  2.11092259e+00  0.00000000e+00]\n",
      " [-3.15099358e+00  2.37569802e+00  0.00000000e+00]\n",
      " [-2.60063869e+00  1.70830625e+00  0.00000000e+00]\n",
      " [-2.60170661e+00  3.85227818e+00  0.00000000e+00]\n",
      " [-2.01349722e+00  9.42289071e-01  0.00000000e+00]\n",
      " [-1.17745509e+00  7.79156350e-01  0.00000000e+00]\n",
      " [-1.79113640e+00  4.03298761e-02  0.00000000e+00]\n",
      " [-3.32818605e+00  2.19686124e+00  0.00000000e+00]\n",
      " [-1.26153342e+00  2.17136828e+00  0.00000000e+00]\n",
      " [-2.11564828e+00  1.69889630e+00  0.00000000e+00]\n",
      " [-3.47852199e+00  1.28015579e+00  0.00000000e+00]\n",
      " [-2.46063877e+00  3.05712223e+00  0.00000000e+00]\n",
      " [-1.65638171e+00  2.36959845e-01  0.00000000e+00]\n",
      " [-1.67591603e+00  1.61491772e+00  0.00000000e+00]\n",
      " [-2.67692200e+00  2.61167629e+00  0.00000000e+00]\n",
      " [-9.69000478e-01  2.93128012e+00  0.00000000e+00]\n",
      " [-2.83921752e+00  1.69078762e+00  0.00000000e+00]\n",
      " [-1.66873657e+00  2.97554513e+00  0.00000000e+00]\n",
      " [-2.47917424e+00  1.81434102e+00  0.00000000e+00]\n",
      " [-3.10633497e+00  8.03793376e-01  0.00000000e+00]\n",
      " [-1.18747418e+00  3.35624003e+00  0.00000000e+00]\n",
      " [-2.07201012e+00  3.00353290e+00  0.00000000e+00]\n",
      " [-1.63836397e+00  1.35488025e+00  0.00000000e+00]\n",
      " [-1.63860439e+00  3.53803657e+00  0.00000000e+00]\n",
      " [-2.03582604e+00  3.56464366e+00  0.00000000e+00]\n",
      " [-4.61974510e+00  2.82190250e+00  0.00000000e+00]\n",
      " [-1.91295293e+00  1.70099265e+00  0.00000000e+00]\n",
      " [-1.90823922e+00  1.24310854e-02  0.00000000e+00]\n",
      " [-2.21967189e+00  2.35711257e+00  0.00000000e+00]\n",
      " [-5.22105955e-01  1.48172978e+00  0.00000000e+00]\n",
      " [-2.80849360e+00  1.49824296e+00  0.00000000e+00]\n",
      " [-1.08459788e+00  2.32875111e+00  0.00000000e+00]\n",
      " [-2.52976020e+00  2.51326743e+00  0.00000000e+00]\n",
      " [-1.90292245e+00  2.96864499e+00  0.00000000e+00]\n",
      " [-2.70205309e+00  1.67233785e+00  0.00000000e+00]\n",
      " [-2.39210815e+00  5.36485052e-01  0.00000000e+00]\n",
      " [-1.70387972e+00  2.26105527e+00  0.00000000e+00]\n",
      " [-1.99488654e+00  1.76541287e+00  0.00000000e+00]\n",
      " [-3.41537074e+00  1.57935468e+00  0.00000000e+00]\n",
      " [-2.34271452e+00  1.19772273e+00  0.00000000e+00]\n",
      " [-2.16128571e+00  2.40405086e+00  0.00000000e+00]\n",
      " [-1.13814099e-01  2.17457781e+00  0.00000000e+00]\n",
      " [-1.74244961e+00  1.92555408e+00  0.00000000e+00]\n",
      " [-3.91877122e+00  1.97348612e+00  0.00000000e+00]\n",
      " [-1.93976979e+00  4.46324211e+00  0.00000000e+00]\n",
      " [-2.19236096e+00  2.30154734e+00  0.00000000e+00]\n",
      " [-2.03471177e+00  8.31321962e-01  0.00000000e+00]\n",
      " [-8.57177185e-01  2.75193303e+00  0.00000000e+00]\n",
      " [-1.20896805e+00  1.09061255e+00  0.00000000e+00]\n",
      " [-5.97205689e-01  5.98148937e-01  0.00000000e+00]\n",
      " [-1.41314291e+00  4.19045563e+00  0.00000000e+00]\n",
      " [-2.99053633e+00  1.43370227e+00  0.00000000e+00]\n",
      " [-1.90034863e+00  1.49652435e+00  0.00000000e+00]\n",
      " [-3.55066343e+00  2.06856297e+00  0.00000000e+00]\n",
      " [-3.06230371e+00  2.47359243e+00  0.00000000e+00]\n",
      " [-2.91942423e+00  3.54993441e+00  0.00000000e+00]\n",
      " [-2.78325329e+00  1.67793848e+00  0.00000000e+00]\n",
      " [-1.18648278e+00  7.69135684e-01  0.00000000e+00]\n",
      " [-1.77254007e+00  3.30714275e+00  0.00000000e+00]\n",
      " [-3.60748323e+00  2.18463386e+00  0.00000000e+00]\n",
      " [-1.74011721e+00  2.78182287e+00  0.00000000e+00]\n",
      " [-3.23695071e+00  6.79543387e-01  0.00000000e+00]\n",
      " [-1.47805843e+00  2.29698467e+00  0.00000000e+00]\n",
      " [-1.74950715e+00  2.34644821e+00  0.00000000e+00]\n",
      " [-2.68002472e+00  2.23225370e+00  0.00000000e+00]\n",
      " [-1.70692753e+00  1.28564858e+00  0.00000000e+00]\n",
      " [-1.34225489e-01  2.47383292e+00  0.00000000e+00]\n",
      " [-3.19130350e+00  2.65655361e+00  0.00000000e+00]\n",
      " [-2.97468167e+00  2.78708460e+00  0.00000000e+00]\n",
      " [-8.41404421e-01  1.17931768e+00  0.00000000e+00]\n",
      " [-1.03662387e+00  2.41278093e+00  0.00000000e+00]\n",
      " [-1.17793984e+00  3.89679298e+00  0.00000000e+00]\n",
      " [-2.24538812e+00  1.24626384e+00  0.00000000e+00]\n",
      " [-2.88951443e+00  1.18418972e+00  0.00000000e+00]\n",
      " [-2.07710171e+00  2.34115197e+00  0.00000000e+00]\n",
      " [-1.72330920e+00  2.82718325e+00  0.00000000e+00]\n",
      " [-1.98699811e+00  3.45353408e+00  0.00000000e+00]\n",
      " [-2.26465683e+00  4.72016917e+00  0.00000000e+00]\n",
      " [-1.37433265e+00  1.14284244e+00  0.00000000e+00]\n",
      " [-3.07089250e+00  2.48247242e+00  0.00000000e+00]\n",
      " [-2.22346279e+00  2.71400049e+00  0.00000000e+00]\n",
      " [-1.52676238e+00  1.92717109e+00  0.00000000e+00]\n",
      " [-2.84679372e+00  4.85152775e-01  0.00000000e+00]\n",
      " [-2.44651495e+00  2.85639879e+00  0.00000000e+00]\n",
      " [-1.78590626e+00  7.54261221e-01  0.00000000e+00]\n",
      " [-1.82681907e+00  2.38531738e+00  0.00000000e+00]\n",
      " [-2.88385744e+00  2.15372511e+00  0.00000000e+00]\n",
      " [-1.94179128e+00  8.57029702e-01  0.00000000e+00]\n",
      " [ 3.57787360e-01  2.56078453e+00  1.00000000e+00]\n",
      " [ 1.08305124e+00  3.05380205e+00  1.00000000e+00]\n",
      " [-1.37766937e+00  1.06217496e+00  1.00000000e+00]\n",
      " [ 5.15035267e-01  2.51378595e+00  1.00000000e+00]\n",
      " [ 5.15047686e-01  5.85273149e+00  1.00000000e+00]\n",
      " [ 5.70890511e-01  3.13556564e+00  1.00000000e+00]\n",
      " [ 9.54001763e-01  2.65139125e+00  1.00000000e+00]\n",
      " [-3.15269245e-01  2.75896922e+00  1.00000000e+00]\n",
      " [-7.72825215e-01  1.76318139e+00  1.00000000e+00]\n",
      " [-4.85363548e-01  2.08187414e+00  1.00000000e+00]\n",
      " [ 2.31465857e+00  1.32734807e-01  1.00000000e+00]\n",
      " [ 6.86260190e-01  3.87284129e-01  1.00000000e+00]\n",
      " [-4.71931866e-01  3.08895060e+00  1.00000000e+00]\n",
      " [ 6.42800191e-02  9.22255222e-01  1.00000000e+00]\n",
      " [-7.15303709e-01  2.67959775e+00  1.00000000e+00]\n",
      " [-7.30366632e-01  2.21645859e+00  1.00000000e+00]\n",
      " [ 4.55718399e-02  1.34839965e+00  1.00000000e+00]\n",
      " [ 2.14394409e+00  2.63391902e+00  1.00000000e+00]\n",
      " [-2.02514259e+00  2.18645431e+00  1.00000000e+00]\n",
      " [-6.61786465e-01  2.85243333e+00  1.00000000e+00]\n",
      " [-7.92520738e-01  1.88526356e+00  1.00000000e+00]\n",
      " [ 5.04987279e-01  2.86575519e+00  1.00000000e+00]\n",
      " [-1.20029641e+00  1.66549876e+00  1.00000000e+00]\n",
      " [-4.74945311e-01  1.34667077e+00  1.00000000e+00]\n",
      " [ 1.76545424e+00  2.40498171e+00  1.00000000e+00]\n",
      " [-1.26088395e+00  2.91786195e+00  1.00000000e+00]\n",
      " [ 2.12215620e+00  3.03246526e+00  1.00000000e+00]\n",
      " [-1.51936997e+00  1.51576593e+00  1.00000000e+00]\n",
      " [ 1.26691115e+00  1.29233053e+00  1.00000000e+00]\n",
      " [ 4.43819428e-01  2.77463405e+00  1.00000000e+00]\n",
      " [-9.26930472e-01  1.94047464e+00  1.00000000e+00]\n",
      " [-3.24126734e+00  9.75612359e-01  1.00000000e+00]\n",
      " [-2.52568151e-01  7.52216818e-01  1.00000000e+00]\n",
      " [ 1.63241130e+00  5.69858622e-01  1.00000000e+00]\n",
      " [-4.40044487e-01  2.13074058e+00  1.00000000e+00]\n",
      " [ 1.44127329e+00  5.64137849e-01  1.00000000e+00]\n",
      " [ 1.16316375e+00  2.01023306e+00  1.00000000e+00]\n",
      " [-9.81508651e-01  2.46210347e+00  1.00000000e+00]\n",
      " [ 1.99059696e-01  1.39978312e+00  1.00000000e+00]\n",
      " [ 6.98020850e-02  1.61468640e+00  1.00000000e+00]\n",
      " [ 1.13517345e-01  2.66213067e+00  1.00000000e+00]\n",
      " [ 1.58601682e+00  7.62184501e-01  1.00000000e+00]\n",
      " [ 2.13303337e+00  4.79122005e-02  1.00000000e+00]\n",
      " [-1.51785095e-01  2.58831721e+00  1.00000000e+00]\n",
      " [ 2.80991868e-01  1.37730048e+00  1.00000000e+00]\n",
      " [-2.08122250e-01  1.50699907e+00  1.00000000e+00]\n",
      " [-5.89364757e-01  2.84960210e+00  1.00000000e+00]\n",
      " [ 3.57015486e-01  1.30709040e+00  1.00000000e+00]\n",
      " [ 8.99599875e-01  2.30729952e+00  1.00000000e+00]\n",
      " [ 8.12862119e-01  2.62962884e+00  1.00000000e+00]\n",
      " [-8.28995011e-01  1.43981896e+00  1.00000000e+00]\n",
      " [ 7.47293605e-01  2.61037027e+00  1.00000000e+00]\n",
      " [-2.09015940e-02  2.11732738e+00  1.00000000e+00]\n",
      " [ 1.27766490e+00  1.40842861e+00  1.00000000e+00]\n",
      " [ 5.47097381e-01  1.79780735e+00  1.00000000e+00]\n",
      " [-2.17681203e-01  3.09877685e+00  1.00000000e+00]\n",
      " [ 8.25416349e-01  2.81350964e+00  1.00000000e+00]\n",
      " [ 1.30547881e+00  2.02100384e+00  1.00000000e+00]\n",
      " [ 6.81952971e-01  1.68973324e+00  1.00000000e+00]\n",
      " [ 3.24166352e-01  1.86985695e+00  1.00000000e+00]\n",
      " [ 9.69959650e-02  2.59515703e+00  1.00000000e+00]\n",
      " [-8.18220683e-01  4.09238728e+00  1.00000000e+00]\n",
      " [-1.00601738e+00  7.85811387e-01  1.00000000e+00]\n",
      " [ 1.15811087e+00  2.79166269e+00  1.00000000e+00]\n",
      " [ 6.24119817e-01  2.62834551e+00  1.00000000e+00]\n",
      " [-1.22467728e-02  1.10274563e+00  1.00000000e+00]\n",
      " [ 7.58045582e-02  1.32283829e+00  1.00000000e+00]\n",
      " [ 9.75119733e-01  1.85294262e+00  1.00000000e+00]\n",
      " [-8.25497197e-01  1.67861416e+00  1.00000000e+00]\n",
      " [ 4.12931454e-01  1.43627545e+00  1.00000000e+00]\n",
      " [-8.22220396e-01  2.24368721e+00  1.00000000e+00]\n",
      " [ 2.44966571e-01  1.49305682e+00  1.00000000e+00]\n",
      " [-4.71038306e-01  2.23204994e+00  1.00000000e+00]\n",
      " [-1.44808434e+00  5.92536226e-01  1.00000000e+00]\n",
      " [-7.18444221e-01  1.78655285e+00  1.00000000e+00]\n",
      " [ 3.10907566e-01  3.47535622e+00  1.00000000e+00]\n",
      " [ 8.57659623e-01  1.84006147e+00  1.00000000e+00]\n",
      " [-1.90162079e-02  9.97470635e-01  1.00000000e+00]\n",
      " [-1.85131360e-02  1.71134136e+00  1.00000000e+00]\n",
      " [ 3.22718560e-01  1.17276906e+00  1.00000000e+00]\n",
      " [ 5.19346514e-01  3.53273891e+00  1.00000000e+00]\n",
      " [-1.08760148e-01  2.40171172e+00  1.00000000e+00]\n",
      " [ 6.90143992e-01  1.59877953e+00  1.00000000e+00]\n",
      " [ 2.24092482e-01  2.01259240e+00  1.00000000e+00]\n",
      " [ 9.76760985e-02  1.22699022e+00  1.00000000e+00]\n",
      " [ 2.45101743e-02  2.49799829e+00  1.00000000e+00]\n",
      " [ 1.45114361e+00  2.95927083e+00  1.00000000e+00]\n",
      " [ 2.15318246e+00  1.23265244e+00  1.00000000e+00]\n",
      " [ 8.72320637e-01  2.18334201e+00  1.00000000e+00]\n",
      " [ 2.18980293e+00  1.19170171e+00  1.00000000e+00]\n",
      " [-8.39721842e-01  1.40060735e+00  1.00000000e+00]\n",
      " [-2.12389572e+00  1.47424498e+00  1.00000000e+00]\n",
      " [-7.59132662e-01  2.15039379e+00  1.00000000e+00]\n",
      " [ 3.41755976e-01  3.87617084e+00  1.00000000e+00]\n",
      " [ 9.50423838e-01  1.42309634e+00  1.00000000e+00]\n",
      " [-8.98414671e-01  2.49191917e+00  1.00000000e+00]\n",
      " [-1.32023321e+00  3.83145877e+00  1.00000000e+00]\n",
      " [ 1.17944012e+00  1.53082435e+00  1.00000000e+00]\n",
      " [-1.71313453e+00  3.35387237e+00  1.00000000e+00]\n",
      " [-1.14539845e-01  3.23781631e+00  1.00000000e+00]\n",
      " [-1.59442766e+00 -1.59937502e+00  2.00000000e+00]\n",
      " [ 5.24369972e-03 -9.53019406e-01  2.00000000e+00]\n",
      " [-4.50065471e-01 -3.77150068e-01  2.00000000e+00]\n",
      " [-1.06762043e+00 -1.14237949e+00  2.00000000e+00]\n",
      " [ 1.20295632e-01 -4.85561166e-01  2.00000000e+00]\n",
      " [ 7.11614878e-01 -2.12464209e+00  2.00000000e+00]\n",
      " [-1.53411417e+00  2.77676822e-01  2.00000000e+00]\n",
      " [ 3.32314012e-01 -1.74848654e+00  2.00000000e+00]\n",
      " [ 1.55115198e+00 -8.84325366e-01  2.00000000e+00]\n",
      " [ 1.17929718e+00 -9.32481519e-01  2.00000000e+00]\n",
      " [ 2.06074792e+00  7.55340842e-01  2.00000000e+00]\n",
      " [-2.48964148e-01 -2.84290490e-02  2.00000000e+00]\n",
      " [ 6.45375950e-01  3.68631558e-01  2.00000000e+00]\n",
      " [-9.64923461e-01 -3.13948540e-01  2.00000000e+00]\n",
      " [ 1.05842449e+00 -2.75873949e+00  2.00000000e+00]\n",
      " [-1.18325851e+00 -3.03923218e+00  2.00000000e+00]\n",
      " [-2.69406834e-01 -2.82457744e-01  2.00000000e+00]\n",
      " [ 1.50235705e+00 -9.25905220e-01  2.00000000e+00]\n",
      " [ 1.62861555e+00 -2.38010146e+00  2.00000000e+00]\n",
      " [-1.70338244e+00 -1.05554770e+00  2.00000000e+00]\n",
      " [ 3.84065449e-01 -1.03269475e+00  2.00000000e+00]\n",
      " [-2.06744210e+00 -1.08912004e+00  2.00000000e+00]\n",
      " [-1.30446950e+00 -3.30327451e-01  2.00000000e+00]\n",
      " [ 3.66598246e-01 -1.93987979e+00  2.00000000e+00]\n",
      " [-5.13866917e-01 -2.05921352e+00  2.00000000e+00]\n",
      " [-6.26790973e-02 -4.48576795e-02  2.00000000e+00]\n",
      " [-9.85726046e-01 -4.95953484e-01  2.00000000e+00]\n",
      " [-5.30257618e-01 -1.79287283e+00  2.00000000e+00]\n",
      " [-1.07030360e-01 -2.03524232e+00  2.00000000e+00]\n",
      " [-5.53649305e-01 -2.19787789e+00  2.00000000e+00]\n",
      " [ 1.96472513e+00 -9.64736448e-01  2.00000000e+00]\n",
      " [-6.99725508e-01 -7.86020089e-01  2.00000000e+00]\n",
      " [-1.12328050e-01 -1.22096960e+00  2.00000000e+00]\n",
      " [ 6.14166700e-01 -2.42492290e-01  2.00000000e+00]\n",
      " [-5.30501148e-01 -1.57581824e+00  2.00000000e+00]\n",
      " [-2.75051697e-01 -3.30192116e+00  2.00000000e+00]\n",
      " [-1.51519106e+00  3.66874267e-01  2.00000000e+00]\n",
      " [ 1.64496771e+00 -1.24903604e+00  2.00000000e+00]\n",
      " [ 5.76556963e-01 -6.88749845e-01  2.00000000e+00]\n",
      " [ 3.07888081e+00  1.19574911e-01  2.00000000e+00]\n",
      " [-1.27917591e-01 -1.95554044e+00  2.00000000e+00]\n",
      " [-1.60644632e+00 -7.96536364e-01  2.00000000e+00]\n",
      " [-7.56350745e-01 -2.42225371e+00  2.00000000e+00]\n",
      " [-6.46572884e-01 -2.08154800e+00  2.00000000e+00]\n",
      " [ 1.68714164e+00 -1.18360243e-01  2.00000000e+00]\n",
      " [-7.97264132e-03  4.79944139e-01  2.00000000e+00]\n",
      " [ 7.73683076e-02 -1.86128420e+00  2.00000000e+00]\n",
      " [ 1.52312408e+00 -4.61089956e-01  2.00000000e+00]\n",
      " [-1.03724615e+00 -1.19033868e+00  2.00000000e+00]\n",
      " [-8.75618253e-01 -2.38279973e+00  2.00000000e+00]\n",
      " [ 9.26177548e-01  9.09416640e-01  2.00000000e+00]\n",
      " [-1.39856757e+00 -4.37030763e-01  2.00000000e+00]\n",
      " [-6.50642569e-01 -1.48712538e+00  2.00000000e+00]\n",
      " [-5.92393924e-01 -1.86399077e+00  2.00000000e+00]\n",
      " [ 4.85216279e-02 -1.83095012e+00  2.00000000e+00]\n",
      " [ 2.70456826e-01 -1.05023811e+00  2.00000000e+00]\n",
      " [-2.38948047e-01 -1.90756366e+00  2.00000000e+00]\n",
      " [-5.76771331e-01 -2.44608774e-01  2.00000000e+00]\n",
      " [ 5.00917188e-01 -1.97755524e+00  2.00000000e+00]\n",
      " [ 9.93323054e-02 -2.48612877e-01  2.00000000e+00]\n",
      " [-1.66940528e+00 -4.56639808e-01  2.00000000e+00]\n",
      " [-6.62623759e-01 -4.29401331e-01  2.00000000e+00]\n",
      " [-7.63259157e-01 -2.80488210e+00  2.00000000e+00]\n",
      " [-1.62754244e+00 -9.51915053e-01  2.00000000e+00]\n",
      " [ 2.59722502e-01 -1.90431663e+00  2.00000000e+00]\n",
      " [ 6.38592459e-01 -2.66152006e+00  2.00000000e+00]\n",
      " [-6.60797986e-02 -2.21101620e+00  2.00000000e+00]\n",
      " [-6.51836108e-01 -9.52601329e-01  2.00000000e+00]\n",
      " [-8.60413365e-01 -1.38455554e+00  2.00000000e+00]\n",
      " [ 1.00629281e+00 -1.57689187e+00  2.00000000e+00]\n",
      " [ 8.35692112e-01 -2.12970685e+00  2.00000000e+00]\n",
      " [ 5.29804178e-01  4.41568621e-01  2.00000000e+00]\n",
      " [-2.47164450e+00 -1.79689526e+00  2.00000000e+00]\n",
      " [ 5.77072127e-01 -1.20304539e+00  2.00000000e+00]\n",
      " [ 3.71145873e-01 -1.60398519e+00  2.00000000e+00]\n",
      " [ 8.65897875e-02 -1.15567724e+00  2.00000000e+00]\n",
      " [ 1.16778206e+00 -7.45579157e-01  2.00000000e+00]\n",
      " [ 3.37602662e-01 -1.41187697e+00  2.00000000e+00]\n",
      " [-4.87606224e-01 -1.43255819e+00  2.00000000e+00]\n",
      " [ 3.94452142e-01 -1.42098448e+00  2.00000000e+00]\n",
      " [ 2.89774857e-01  1.07540080e+00  2.00000000e+00]\n",
      " [ 8.71124703e-01 -1.32602353e+00  2.00000000e+00]\n",
      " [ 1.20121392e+00 -1.40807537e+00  2.00000000e+00]\n",
      " [-2.03812454e+00 -2.00808631e+00  2.00000000e+00]\n",
      " [-1.87079192e+00 -1.35151348e+00  2.00000000e+00]\n",
      " [ 1.84183792e-02  6.76437312e-01  2.00000000e+00]\n",
      " [ 3.26927374e-01 -1.21910053e+00  2.00000000e+00]\n",
      " [ 8.29405581e-01 -3.21113531e+00  2.00000000e+00]\n",
      " [ 2.35614558e-01 -2.29134806e-01  2.00000000e+00]\n",
      " [-1.47858625e+00  1.43754043e-01  2.00000000e+00]\n",
      " [ 3.38496407e-01 -1.41528791e+00  2.00000000e+00]\n",
      " [ 6.32781866e-01  1.27069286e+00  2.00000000e+00]\n",
      " [ 1.81866255e-01 -7.51779414e-01  2.00000000e+00]\n",
      " [-4.59360900e-01 -1.84984437e+00  2.00000000e+00]\n",
      " [ 8.30335817e-01 -1.85608383e+00  2.00000000e+00]\n",
      " [ 7.15662372e-02 -1.47765745e+00  2.00000000e+00]\n",
      " [ 4.78979826e-01 -6.66337895e-01  2.00000000e+00]\n",
      " [ 1.03753994e+00 -1.51001640e+00  2.00000000e+00]\n",
      " [-2.69874935e-01 -1.97876372e+00  2.00000000e+00]\n",
      " [-4.44293260e-01 -6.22699507e-01  2.00000000e+00]]\n"
     ]
    }
   ],
   "source": [
    "d = np.column_stack((X,np.transpose(y)))\n",
    "print(d)"
   ]
  },
  {
   "cell_type": "code",
   "execution_count": 106,
   "metadata": {
    "colab": {
     "base_uri": "https://localhost:8080/",
     "height": 1000
    },
    "executionInfo": {
     "elapsed": 55173,
     "status": "ok",
     "timestamp": 1639833060624,
     "user": {
      "displayName": "Alexandre Lima Santiago de Pinho",
      "photoUrl": "https://lh3.googleusercontent.com/a/default-user=s64",
      "userId": "08604687895817407219"
     },
     "user_tz": 180
    },
    "id": "b5Op8-5dpr3n",
    "outputId": "999c2706-bfb4-4232-d241-fe4e23192829",
    "scrolled": false
   },
   "outputs": [
    {
     "data": {
      "image/png": "[encoded data removed]",
      "text/plain": [
       "<Figure size 720x432 with 1 Axes>"
      ]
     },
     "metadata": {
      "needs_background": "light"
     },
     "output_type": "display_data"
    },
    {
     "data": {
      "image/png": "[encoded data removed]",
      "text/plain": [
       "<Figure size 720x432 with 1 Axes>"
      ]
     },
     "metadata": {
      "needs_background": "light"
     },
     "output_type": "display_data"
    },
    {
     "data": {
      "image/png": "[encoded data removed]",
      "text/plain": [
       "<Figure size 720x432 with 1 Axes>"
      ]
     },
     "metadata": {
      "needs_background": "light"
     },
     "output_type": "display_data"
    },
    {
     "data": {
      "image/png": "[encoded data removed]",
      "text/plain": [
       "<Figure size 720x432 with 1 Axes>"
      ]
     },
     "metadata": {
      "needs_background": "light"
     },
     "output_type": "display_data"
    }
   ],
   "source": [
    "from mlxtend.plotting import plot_decision_regions\n",
    "from sklearn import datasets\n",
    "from sklearn.neighbors import KNeighborsClassifier\n",
    "import sklearn.datasets as skdata\n",
    "from pandas import DataFrame\n",
    "\n",
    "d = np.column_stack((X,np.transpose(y)))\n",
    "\n",
    "# Montamos a matriz de atributos\n",
    "data = DataFrame(data = d, columns = ['X1', 'X2', 'y'])\n",
    "feature_names = ['X1', 'X2']\n",
    "\n",
    "# mostra as regiões de separação para diversos valores de k\n",
    "vk = [1, 4, 8, 12]\n",
    "\n",
    "for k in vk:\n",
    "    # modelo classificador KNN\n",
    "    model = KNeighborsClassifier(n_neighbors = k, metric = 'euclidean')\n",
    "\n",
    "    # fit dos dados\n",
    "    model.fit(X, y)\n",
    "\n",
    "    # Desenhar as regiões de decisão\n",
    "    plt.figure(figsize = (10,6))\n",
    "    plot_decision_regions(X, y, clf = model, legend = 2)\n",
    "\n",
    "    plt.xlabel('X1')\n",
    "    plt.ylabel('X2')\n",
    "    plt.title(f'Distribuição com separação k = {k}')\n",
    "\n",
    "    plt.show()"
   ]
  },
  {
   "cell_type": "markdown",
   "metadata": {},
   "source": [
    "Vale ressaltar a diferença nas superfícies de separação conforme variamos o valor de *k* a ser utilizado (veja, por exemplo, as proximidades do ponto (0,-2)."
   ]
  },
  {
   "cell_type": "markdown",
   "metadata": {
    "id": "u26Jteetpr3r"
   },
   "source": [
    "## Exemplo Prático"
   ]
  },
  {
   "cell_type": "markdown",
   "metadata": {},
   "source": [
    "Passemos, agora, a um dataset contendo características para identificar câncer de mama."
   ]
  },
  {
   "cell_type": "code",
   "execution_count": 107,
   "metadata": {
    "ExecuteTime": {
     "end_time": "2020-02-09T00:40:04.388432Z",
     "start_time": "2020-02-09T00:39:59.943818Z"
    },
    "id": "KWPbTCTrpr3s"
   },
   "outputs": [],
   "source": [
    "# importe as principais bibliotecas\n",
    "import numpy as np\n",
    "import pandas as pd\n",
    "\n",
    "import matplotlib.pyplot as plt\n",
    "import seaborn as sns"
   ]
  },
  {
   "cell_type": "markdown",
   "metadata": {
    "id": "joSwE73xpr3s"
   },
   "source": [
    "#### Lendo conjunto de dados\n",
    "\n",
    "Como exemplo, vamos utilizar dados de Câncer de Mama, esses dados estão disponiveis também no [UCI](https://archive.ics.uci.edu/ml/datasets/Breast+Cancer+Wisconsin+(Diagnostic)) ou pelo site do [Kaggle](https://www.kaggle.com/uciml/breast-cancer-wisconsin-data). \n",
    "\n",
    "A ideia é que consigamos construir um modelo classificador entre câncer maligno e benigno."
   ]
  },
  {
   "cell_type": "code",
   "execution_count": 108,
   "metadata": {
    "id": "FtyB345Apr3t"
   },
   "outputs": [],
   "source": [
    "# leia a base de \"../datasets/breast_cancer.csv\"\n",
    "\n",
    "df = pd.read_csv(\"./dados_modelo/breast_cancer.csv\")"
   ]
  },
  {
   "cell_type": "code",
   "execution_count": 109,
   "metadata": {
    "id": "M_mOF8dCpr3t",
    "outputId": "10f0b616-0c6e-4425-c1e4-5a336d2bc0a7",
    "scrolled": true
   },
   "outputs": [
    {
     "data": {
      "text/html": [
       "<div>\n",
       "<style scoped>\n",
       "    .dataframe tbody tr th:only-of-type {\n",
       "        vertical-align: middle;\n",
       "    }\n",
       "\n",
       "    .dataframe tbody tr th {\n",
       "        vertical-align: top;\n",
       "    }\n",
       "\n",
       "    .dataframe thead th {\n",
       "        text-align: right;\n",
       "    }\n",
       "</style>\n",
       "<table border=\"1\" class=\"dataframe\">\n",
       "  <thead>\n",
       "    <tr style=\"text-align: right;\">\n",
       "      <th></th>\n",
       "      <th>id</th>\n",
       "      <th>diagnosis</th>\n",
       "      <th>radius_mean</th>\n",
       "      <th>texture_mean</th>\n",
       "      <th>perimeter_mean</th>\n",
       "      <th>area_mean</th>\n",
       "      <th>smoothness_mean</th>\n",
       "      <th>compactness_mean</th>\n",
       "      <th>concavity_mean</th>\n",
       "      <th>concave points_mean</th>\n",
       "      <th>...</th>\n",
       "      <th>radius_worst</th>\n",
       "      <th>texture_worst</th>\n",
       "      <th>perimeter_worst</th>\n",
       "      <th>area_worst</th>\n",
       "      <th>smoothness_worst</th>\n",
       "      <th>compactness_worst</th>\n",
       "      <th>concavity_worst</th>\n",
       "      <th>concave points_worst</th>\n",
       "      <th>symmetry_worst</th>\n",
       "      <th>fractal_dimension_worst</th>\n",
       "    </tr>\n",
       "  </thead>\n",
       "  <tbody>\n",
       "    <tr>\n",
       "      <th>0</th>\n",
       "      <td>842302</td>\n",
       "      <td>M</td>\n",
       "      <td>17.99</td>\n",
       "      <td>10.38</td>\n",
       "      <td>122.80</td>\n",
       "      <td>1001.0</td>\n",
       "      <td>0.11840</td>\n",
       "      <td>0.27760</td>\n",
       "      <td>0.3001</td>\n",
       "      <td>0.14710</td>\n",
       "      <td>...</td>\n",
       "      <td>25.38</td>\n",
       "      <td>17.33</td>\n",
       "      <td>184.60</td>\n",
       "      <td>2019.0</td>\n",
       "      <td>0.1622</td>\n",
       "      <td>0.6656</td>\n",
       "      <td>0.7119</td>\n",
       "      <td>0.2654</td>\n",
       "      <td>0.4601</td>\n",
       "      <td>0.11890</td>\n",
       "    </tr>\n",
       "    <tr>\n",
       "      <th>1</th>\n",
       "      <td>842517</td>\n",
       "      <td>M</td>\n",
       "      <td>20.57</td>\n",
       "      <td>17.77</td>\n",
       "      <td>132.90</td>\n",
       "      <td>1326.0</td>\n",
       "      <td>0.08474</td>\n",
       "      <td>0.07864</td>\n",
       "      <td>0.0869</td>\n",
       "      <td>0.07017</td>\n",
       "      <td>...</td>\n",
       "      <td>24.99</td>\n",
       "      <td>23.41</td>\n",
       "      <td>158.80</td>\n",
       "      <td>1956.0</td>\n",
       "      <td>0.1238</td>\n",
       "      <td>0.1866</td>\n",
       "      <td>0.2416</td>\n",
       "      <td>0.1860</td>\n",
       "      <td>0.2750</td>\n",
       "      <td>0.08902</td>\n",
       "    </tr>\n",
       "    <tr>\n",
       "      <th>2</th>\n",
       "      <td>84300903</td>\n",
       "      <td>M</td>\n",
       "      <td>19.69</td>\n",
       "      <td>21.25</td>\n",
       "      <td>130.00</td>\n",
       "      <td>1203.0</td>\n",
       "      <td>0.10960</td>\n",
       "      <td>0.15990</td>\n",
       "      <td>0.1974</td>\n",
       "      <td>0.12790</td>\n",
       "      <td>...</td>\n",
       "      <td>23.57</td>\n",
       "      <td>25.53</td>\n",
       "      <td>152.50</td>\n",
       "      <td>1709.0</td>\n",
       "      <td>0.1444</td>\n",
       "      <td>0.4245</td>\n",
       "      <td>0.4504</td>\n",
       "      <td>0.2430</td>\n",
       "      <td>0.3613</td>\n",
       "      <td>0.08758</td>\n",
       "    </tr>\n",
       "    <tr>\n",
       "      <th>3</th>\n",
       "      <td>84348301</td>\n",
       "      <td>M</td>\n",
       "      <td>11.42</td>\n",
       "      <td>20.38</td>\n",
       "      <td>77.58</td>\n",
       "      <td>386.1</td>\n",
       "      <td>0.14250</td>\n",
       "      <td>0.28390</td>\n",
       "      <td>0.2414</td>\n",
       "      <td>0.10520</td>\n",
       "      <td>...</td>\n",
       "      <td>14.91</td>\n",
       "      <td>26.50</td>\n",
       "      <td>98.87</td>\n",
       "      <td>567.7</td>\n",
       "      <td>0.2098</td>\n",
       "      <td>0.8663</td>\n",
       "      <td>0.6869</td>\n",
       "      <td>0.2575</td>\n",
       "      <td>0.6638</td>\n",
       "      <td>0.17300</td>\n",
       "    </tr>\n",
       "    <tr>\n",
       "      <th>4</th>\n",
       "      <td>84358402</td>\n",
       "      <td>M</td>\n",
       "      <td>20.29</td>\n",
       "      <td>14.34</td>\n",
       "      <td>135.10</td>\n",
       "      <td>1297.0</td>\n",
       "      <td>0.10030</td>\n",
       "      <td>0.13280</td>\n",
       "      <td>0.1980</td>\n",
       "      <td>0.10430</td>\n",
       "      <td>...</td>\n",
       "      <td>22.54</td>\n",
       "      <td>16.67</td>\n",
       "      <td>152.20</td>\n",
       "      <td>1575.0</td>\n",
       "      <td>0.1374</td>\n",
       "      <td>0.2050</td>\n",
       "      <td>0.4000</td>\n",
       "      <td>0.1625</td>\n",
       "      <td>0.2364</td>\n",
       "      <td>0.07678</td>\n",
       "    </tr>\n",
       "  </tbody>\n",
       "</table>\n",
       "<p>5 rows × 32 columns</p>\n",
       "</div>"
      ],
      "text/plain": [
       "         id diagnosis  radius_mean  texture_mean  perimeter_mean  area_mean  \\\n",
       "0    842302         M        17.99         10.38          122.80     1001.0   \n",
       "1    842517         M        20.57         17.77          132.90     1326.0   \n",
       "2  84300903         M        19.69         21.25          130.00     1203.0   \n",
       "3  84348301         M        11.42         20.38           77.58      386.1   \n",
       "4  84358402         M        20.29         14.34          135.10     1297.0   \n",
       "\n",
       "   smoothness_mean  compactness_mean  concavity_mean  concave points_mean  \\\n",
       "0          0.11840           0.27760          0.3001              0.14710   \n",
       "1          0.08474           0.07864          0.0869              0.07017   \n",
       "2          0.10960           0.15990          0.1974              0.12790   \n",
       "3          0.14250           0.28390          0.2414              0.10520   \n",
       "4          0.10030           0.13280          0.1980              0.10430   \n",
       "\n",
       "   ...  radius_worst  texture_worst  perimeter_worst  area_worst  \\\n",
       "0  ...         25.38          17.33           184.60      2019.0   \n",
       "1  ...         24.99          23.41           158.80      1956.0   \n",
       "2  ...         23.57          25.53           152.50      1709.0   \n",
       "3  ...         14.91          26.50            98.87       567.7   \n",
       "4  ...         22.54          16.67           152.20      1575.0   \n",
       "\n",
       "   smoothness_worst  compactness_worst  concavity_worst  concave points_worst  \\\n",
       "0            0.1622             0.6656           0.7119                0.2654   \n",
       "1            0.1238             0.1866           0.2416                0.1860   \n",
       "2            0.1444             0.4245           0.4504                0.2430   \n",
       "3            0.2098             0.8663           0.6869                0.2575   \n",
       "4            0.1374             0.2050           0.4000                0.1625   \n",
       "\n",
       "   symmetry_worst  fractal_dimension_worst  \n",
       "0          0.4601                  0.11890  \n",
       "1          0.2750                  0.08902  \n",
       "2          0.3613                  0.08758  \n",
       "3          0.6638                  0.17300  \n",
       "4          0.2364                  0.07678  \n",
       "\n",
       "[5 rows x 32 columns]"
      ]
     },
     "execution_count": 109,
     "metadata": {},
     "output_type": "execute_result"
    }
   ],
   "source": [
    "# explorando o dataset\n",
    "df.head()"
   ]
  },
  {
   "cell_type": "code",
   "execution_count": 110,
   "metadata": {
    "id": "EZaY4sU4pr3t",
    "outputId": "9ddb3e30-370f-49ed-daff-ea6bcf3719f6"
   },
   "outputs": [
    {
     "data": {
      "text/plain": [
       "(569, 32)"
      ]
     },
     "execution_count": 110,
     "metadata": {},
     "output_type": "execute_result"
    }
   ],
   "source": [
    "df.shape"
   ]
  },
  {
   "cell_type": "code",
   "execution_count": 111,
   "metadata": {
    "id": "fX0jrKWspr3u",
    "outputId": "12151c3d-3754-4e45-9ef1-79eac154d781"
   },
   "outputs": [
    {
     "name": "stdout",
     "output_type": "stream",
     "text": [
      "<class 'pandas.core.frame.DataFrame'>\n",
      "RangeIndex: 569 entries, 0 to 568\n",
      "Data columns (total 32 columns):\n",
      " #   Column                   Non-Null Count  Dtype  \n",
      "---  ------                   --------------  -----  \n",
      " 0   id                       569 non-null    int64  \n",
      " 1   diagnosis                569 non-null    object \n",
      " 2   radius_mean              569 non-null    float64\n",
      " 3   texture_mean             569 non-null    float64\n",
      " 4   perimeter_mean           569 non-null    float64\n",
      " 5   area_mean                569 non-null    float64\n",
      " 6   smoothness_mean          569 non-null    float64\n",
      " 7   compactness_mean         569 non-null    float64\n",
      " 8   concavity_mean           569 non-null    float64\n",
      " 9   concave points_mean      569 non-null    float64\n",
      " 10  symmetry_mean            569 non-null    float64\n",
      " 11  fractal_dimension_mean   569 non-null    float64\n",
      " 12  radius_se                569 non-null    float64\n",
      " 13  texture_se               569 non-null    float64\n",
      " 14  perimeter_se             569 non-null    float64\n",
      " 15  area_se                  569 non-null    float64\n",
      " 16  smoothness_se            569 non-null    float64\n",
      " 17  compactness_se           569 non-null    float64\n",
      " 18  concavity_se             569 non-null    float64\n",
      " 19  concave points_se        569 non-null    float64\n",
      " 20  symmetry_se              569 non-null    float64\n",
      " 21  fractal_dimension_se     569 non-null    float64\n",
      " 22  radius_worst             569 non-null    float64\n",
      " 23  texture_worst            569 non-null    float64\n",
      " 24  perimeter_worst          569 non-null    float64\n",
      " 25  area_worst               569 non-null    float64\n",
      " 26  smoothness_worst         569 non-null    float64\n",
      " 27  compactness_worst        569 non-null    float64\n",
      " 28  concavity_worst          569 non-null    float64\n",
      " 29  concave points_worst     569 non-null    float64\n",
      " 30  symmetry_worst           569 non-null    float64\n",
      " 31  fractal_dimension_worst  569 non-null    float64\n",
      "dtypes: float64(30), int64(1), object(1)\n",
      "memory usage: 142.4+ KB\n"
     ]
    }
   ],
   "source": [
    "df.info()"
   ]
  },
  {
   "cell_type": "code",
   "execution_count": 112,
   "metadata": {
    "id": "ibpnrkkjpr3v"
   },
   "outputs": [],
   "source": [
    "# drop da coluna de id\n",
    "df = df.drop(columns = \"id\")"
   ]
  },
  {
   "cell_type": "code",
   "execution_count": 113,
   "metadata": {
    "id": "Fa0UovqHpr3v",
    "outputId": "5c0cb052-27f7-4ac8-c53e-c92b388ddf5a",
    "scrolled": true
   },
   "outputs": [
    {
     "data": {
      "text/html": [
       "<div>\n",
       "<style scoped>\n",
       "    .dataframe tbody tr th:only-of-type {\n",
       "        vertical-align: middle;\n",
       "    }\n",
       "\n",
       "    .dataframe tbody tr th {\n",
       "        vertical-align: top;\n",
       "    }\n",
       "\n",
       "    .dataframe thead th {\n",
       "        text-align: right;\n",
       "    }\n",
       "</style>\n",
       "<table border=\"1\" class=\"dataframe\">\n",
       "  <thead>\n",
       "    <tr style=\"text-align: right;\">\n",
       "      <th></th>\n",
       "      <th>diagnosis</th>\n",
       "      <th>radius_mean</th>\n",
       "      <th>texture_mean</th>\n",
       "      <th>perimeter_mean</th>\n",
       "      <th>area_mean</th>\n",
       "      <th>smoothness_mean</th>\n",
       "      <th>compactness_mean</th>\n",
       "      <th>concavity_mean</th>\n",
       "      <th>concave points_mean</th>\n",
       "      <th>symmetry_mean</th>\n",
       "      <th>...</th>\n",
       "      <th>radius_worst</th>\n",
       "      <th>texture_worst</th>\n",
       "      <th>perimeter_worst</th>\n",
       "      <th>area_worst</th>\n",
       "      <th>smoothness_worst</th>\n",
       "      <th>compactness_worst</th>\n",
       "      <th>concavity_worst</th>\n",
       "      <th>concave points_worst</th>\n",
       "      <th>symmetry_worst</th>\n",
       "      <th>fractal_dimension_worst</th>\n",
       "    </tr>\n",
       "  </thead>\n",
       "  <tbody>\n",
       "    <tr>\n",
       "      <th>0</th>\n",
       "      <td>M</td>\n",
       "      <td>17.99</td>\n",
       "      <td>10.38</td>\n",
       "      <td>122.80</td>\n",
       "      <td>1001.0</td>\n",
       "      <td>0.11840</td>\n",
       "      <td>0.27760</td>\n",
       "      <td>0.30010</td>\n",
       "      <td>0.14710</td>\n",
       "      <td>0.2419</td>\n",
       "      <td>...</td>\n",
       "      <td>25.380</td>\n",
       "      <td>17.33</td>\n",
       "      <td>184.60</td>\n",
       "      <td>2019.0</td>\n",
       "      <td>0.16220</td>\n",
       "      <td>0.66560</td>\n",
       "      <td>0.7119</td>\n",
       "      <td>0.2654</td>\n",
       "      <td>0.4601</td>\n",
       "      <td>0.11890</td>\n",
       "    </tr>\n",
       "    <tr>\n",
       "      <th>1</th>\n",
       "      <td>M</td>\n",
       "      <td>20.57</td>\n",
       "      <td>17.77</td>\n",
       "      <td>132.90</td>\n",
       "      <td>1326.0</td>\n",
       "      <td>0.08474</td>\n",
       "      <td>0.07864</td>\n",
       "      <td>0.08690</td>\n",
       "      <td>0.07017</td>\n",
       "      <td>0.1812</td>\n",
       "      <td>...</td>\n",
       "      <td>24.990</td>\n",
       "      <td>23.41</td>\n",
       "      <td>158.80</td>\n",
       "      <td>1956.0</td>\n",
       "      <td>0.12380</td>\n",
       "      <td>0.18660</td>\n",
       "      <td>0.2416</td>\n",
       "      <td>0.1860</td>\n",
       "      <td>0.2750</td>\n",
       "      <td>0.08902</td>\n",
       "    </tr>\n",
       "    <tr>\n",
       "      <th>2</th>\n",
       "      <td>M</td>\n",
       "      <td>19.69</td>\n",
       "      <td>21.25</td>\n",
       "      <td>130.00</td>\n",
       "      <td>1203.0</td>\n",
       "      <td>0.10960</td>\n",
       "      <td>0.15990</td>\n",
       "      <td>0.19740</td>\n",
       "      <td>0.12790</td>\n",
       "      <td>0.2069</td>\n",
       "      <td>...</td>\n",
       "      <td>23.570</td>\n",
       "      <td>25.53</td>\n",
       "      <td>152.50</td>\n",
       "      <td>1709.0</td>\n",
       "      <td>0.14440</td>\n",
       "      <td>0.42450</td>\n",
       "      <td>0.4504</td>\n",
       "      <td>0.2430</td>\n",
       "      <td>0.3613</td>\n",
       "      <td>0.08758</td>\n",
       "    </tr>\n",
       "    <tr>\n",
       "      <th>3</th>\n",
       "      <td>M</td>\n",
       "      <td>11.42</td>\n",
       "      <td>20.38</td>\n",
       "      <td>77.58</td>\n",
       "      <td>386.1</td>\n",
       "      <td>0.14250</td>\n",
       "      <td>0.28390</td>\n",
       "      <td>0.24140</td>\n",
       "      <td>0.10520</td>\n",
       "      <td>0.2597</td>\n",
       "      <td>...</td>\n",
       "      <td>14.910</td>\n",
       "      <td>26.50</td>\n",
       "      <td>98.87</td>\n",
       "      <td>567.7</td>\n",
       "      <td>0.20980</td>\n",
       "      <td>0.86630</td>\n",
       "      <td>0.6869</td>\n",
       "      <td>0.2575</td>\n",
       "      <td>0.6638</td>\n",
       "      <td>0.17300</td>\n",
       "    </tr>\n",
       "    <tr>\n",
       "      <th>4</th>\n",
       "      <td>M</td>\n",
       "      <td>20.29</td>\n",
       "      <td>14.34</td>\n",
       "      <td>135.10</td>\n",
       "      <td>1297.0</td>\n",
       "      <td>0.10030</td>\n",
       "      <td>0.13280</td>\n",
       "      <td>0.19800</td>\n",
       "      <td>0.10430</td>\n",
       "      <td>0.1809</td>\n",
       "      <td>...</td>\n",
       "      <td>22.540</td>\n",
       "      <td>16.67</td>\n",
       "      <td>152.20</td>\n",
       "      <td>1575.0</td>\n",
       "      <td>0.13740</td>\n",
       "      <td>0.20500</td>\n",
       "      <td>0.4000</td>\n",
       "      <td>0.1625</td>\n",
       "      <td>0.2364</td>\n",
       "      <td>0.07678</td>\n",
       "    </tr>\n",
       "    <tr>\n",
       "      <th>...</th>\n",
       "      <td>...</td>\n",
       "      <td>...</td>\n",
       "      <td>...</td>\n",
       "      <td>...</td>\n",
       "      <td>...</td>\n",
       "      <td>...</td>\n",
       "      <td>...</td>\n",
       "      <td>...</td>\n",
       "      <td>...</td>\n",
       "      <td>...</td>\n",
       "      <td>...</td>\n",
       "      <td>...</td>\n",
       "      <td>...</td>\n",
       "      <td>...</td>\n",
       "      <td>...</td>\n",
       "      <td>...</td>\n",
       "      <td>...</td>\n",
       "      <td>...</td>\n",
       "      <td>...</td>\n",
       "      <td>...</td>\n",
       "      <td>...</td>\n",
       "    </tr>\n",
       "    <tr>\n",
       "      <th>564</th>\n",
       "      <td>M</td>\n",
       "      <td>21.56</td>\n",
       "      <td>22.39</td>\n",
       "      <td>142.00</td>\n",
       "      <td>1479.0</td>\n",
       "      <td>0.11100</td>\n",
       "      <td>0.11590</td>\n",
       "      <td>0.24390</td>\n",
       "      <td>0.13890</td>\n",
       "      <td>0.1726</td>\n",
       "      <td>...</td>\n",
       "      <td>25.450</td>\n",
       "      <td>26.40</td>\n",
       "      <td>166.10</td>\n",
       "      <td>2027.0</td>\n",
       "      <td>0.14100</td>\n",
       "      <td>0.21130</td>\n",
       "      <td>0.4107</td>\n",
       "      <td>0.2216</td>\n",
       "      <td>0.2060</td>\n",
       "      <td>0.07115</td>\n",
       "    </tr>\n",
       "    <tr>\n",
       "      <th>565</th>\n",
       "      <td>M</td>\n",
       "      <td>20.13</td>\n",
       "      <td>28.25</td>\n",
       "      <td>131.20</td>\n",
       "      <td>1261.0</td>\n",
       "      <td>0.09780</td>\n",
       "      <td>0.10340</td>\n",
       "      <td>0.14400</td>\n",
       "      <td>0.09791</td>\n",
       "      <td>0.1752</td>\n",
       "      <td>...</td>\n",
       "      <td>23.690</td>\n",
       "      <td>38.25</td>\n",
       "      <td>155.00</td>\n",
       "      <td>1731.0</td>\n",
       "      <td>0.11660</td>\n",
       "      <td>0.19220</td>\n",
       "      <td>0.3215</td>\n",
       "      <td>0.1628</td>\n",
       "      <td>0.2572</td>\n",
       "      <td>0.06637</td>\n",
       "    </tr>\n",
       "    <tr>\n",
       "      <th>566</th>\n",
       "      <td>M</td>\n",
       "      <td>16.60</td>\n",
       "      <td>28.08</td>\n",
       "      <td>108.30</td>\n",
       "      <td>858.1</td>\n",
       "      <td>0.08455</td>\n",
       "      <td>0.10230</td>\n",
       "      <td>0.09251</td>\n",
       "      <td>0.05302</td>\n",
       "      <td>0.1590</td>\n",
       "      <td>...</td>\n",
       "      <td>18.980</td>\n",
       "      <td>34.12</td>\n",
       "      <td>126.70</td>\n",
       "      <td>1124.0</td>\n",
       "      <td>0.11390</td>\n",
       "      <td>0.30940</td>\n",
       "      <td>0.3403</td>\n",
       "      <td>0.1418</td>\n",
       "      <td>0.2218</td>\n",
       "      <td>0.07820</td>\n",
       "    </tr>\n",
       "    <tr>\n",
       "      <th>567</th>\n",
       "      <td>M</td>\n",
       "      <td>20.60</td>\n",
       "      <td>29.33</td>\n",
       "      <td>140.10</td>\n",
       "      <td>1265.0</td>\n",
       "      <td>0.11780</td>\n",
       "      <td>0.27700</td>\n",
       "      <td>0.35140</td>\n",
       "      <td>0.15200</td>\n",
       "      <td>0.2397</td>\n",
       "      <td>...</td>\n",
       "      <td>25.740</td>\n",
       "      <td>39.42</td>\n",
       "      <td>184.60</td>\n",
       "      <td>1821.0</td>\n",
       "      <td>0.16500</td>\n",
       "      <td>0.86810</td>\n",
       "      <td>0.9387</td>\n",
       "      <td>0.2650</td>\n",
       "      <td>0.4087</td>\n",
       "      <td>0.12400</td>\n",
       "    </tr>\n",
       "    <tr>\n",
       "      <th>568</th>\n",
       "      <td>B</td>\n",
       "      <td>7.76</td>\n",
       "      <td>24.54</td>\n",
       "      <td>47.92</td>\n",
       "      <td>181.0</td>\n",
       "      <td>0.05263</td>\n",
       "      <td>0.04362</td>\n",
       "      <td>0.00000</td>\n",
       "      <td>0.00000</td>\n",
       "      <td>0.1587</td>\n",
       "      <td>...</td>\n",
       "      <td>9.456</td>\n",
       "      <td>30.37</td>\n",
       "      <td>59.16</td>\n",
       "      <td>268.6</td>\n",
       "      <td>0.08996</td>\n",
       "      <td>0.06444</td>\n",
       "      <td>0.0000</td>\n",
       "      <td>0.0000</td>\n",
       "      <td>0.2871</td>\n",
       "      <td>0.07039</td>\n",
       "    </tr>\n",
       "  </tbody>\n",
       "</table>\n",
       "<p>569 rows × 31 columns</p>\n",
       "</div>"
      ],
      "text/plain": [
       "    diagnosis  radius_mean  texture_mean  perimeter_mean  area_mean  \\\n",
       "0           M        17.99         10.38          122.80     1001.0   \n",
       "1           M        20.57         17.77          132.90     1326.0   \n",
       "2           M        19.69         21.25          130.00     1203.0   \n",
       "3           M        11.42         20.38           77.58      386.1   \n",
       "4           M        20.29         14.34          135.10     1297.0   \n",
       "..        ...          ...           ...             ...        ...   \n",
       "564         M        21.56         22.39          142.00     1479.0   \n",
       "565         M        20.13         28.25          131.20     1261.0   \n",
       "566         M        16.60         28.08          108.30      858.1   \n",
       "567         M        20.60         29.33          140.10     1265.0   \n",
       "568         B         7.76         24.54           47.92      181.0   \n",
       "\n",
       "     smoothness_mean  compactness_mean  concavity_mean  concave points_mean  \\\n",
       "0            0.11840           0.27760         0.30010              0.14710   \n",
       "1            0.08474           0.07864         0.08690              0.07017   \n",
       "2            0.10960           0.15990         0.19740              0.12790   \n",
       "3            0.14250           0.28390         0.24140              0.10520   \n",
       "4            0.10030           0.13280         0.19800              0.10430   \n",
       "..               ...               ...             ...                  ...   \n",
       "564          0.11100           0.11590         0.24390              0.13890   \n",
       "565          0.09780           0.10340         0.14400              0.09791   \n",
       "566          0.08455           0.10230         0.09251              0.05302   \n",
       "567          0.11780           0.27700         0.35140              0.15200   \n",
       "568          0.05263           0.04362         0.00000              0.00000   \n",
       "\n",
       "     symmetry_mean  ...  radius_worst  texture_worst  perimeter_worst  \\\n",
       "0           0.2419  ...        25.380          17.33           184.60   \n",
       "1           0.1812  ...        24.990          23.41           158.80   \n",
       "2           0.2069  ...        23.570          25.53           152.50   \n",
       "3           0.2597  ...        14.910          26.50            98.87   \n",
       "4           0.1809  ...        22.540          16.67           152.20   \n",
       "..             ...  ...           ...            ...              ...   \n",
       "564         0.1726  ...        25.450          26.40           166.10   \n",
       "565         0.1752  ...        23.690          38.25           155.00   \n",
       "566         0.1590  ...        18.980          34.12           126.70   \n",
       "567         0.2397  ...        25.740          39.42           184.60   \n",
       "568         0.1587  ...         9.456          30.37            59.16   \n",
       "\n",
       "     area_worst  smoothness_worst  compactness_worst  concavity_worst  \\\n",
       "0        2019.0           0.16220            0.66560           0.7119   \n",
       "1        1956.0           0.12380            0.18660           0.2416   \n",
       "2        1709.0           0.14440            0.42450           0.4504   \n",
       "3         567.7           0.20980            0.86630           0.6869   \n",
       "4        1575.0           0.13740            0.20500           0.4000   \n",
       "..          ...               ...                ...              ...   \n",
       "564      2027.0           0.14100            0.21130           0.4107   \n",
       "565      1731.0           0.11660            0.19220           0.3215   \n",
       "566      1124.0           0.11390            0.30940           0.3403   \n",
       "567      1821.0           0.16500            0.86810           0.9387   \n",
       "568       268.6           0.08996            0.06444           0.0000   \n",
       "\n",
       "     concave points_worst  symmetry_worst  fractal_dimension_worst  \n",
       "0                  0.2654          0.4601                  0.11890  \n",
       "1                  0.1860          0.2750                  0.08902  \n",
       "2                  0.2430          0.3613                  0.08758  \n",
       "3                  0.2575          0.6638                  0.17300  \n",
       "4                  0.1625          0.2364                  0.07678  \n",
       "..                    ...             ...                      ...  \n",
       "564                0.2216          0.2060                  0.07115  \n",
       "565                0.1628          0.2572                  0.06637  \n",
       "566                0.1418          0.2218                  0.07820  \n",
       "567                0.2650          0.4087                  0.12400  \n",
       "568                0.0000          0.2871                  0.07039  \n",
       "\n",
       "[569 rows x 31 columns]"
      ]
     },
     "execution_count": 113,
     "metadata": {},
     "output_type": "execute_result"
    }
   ],
   "source": [
    "# dataframe sem coluna 'id'\n",
    "df"
   ]
  },
  {
   "cell_type": "markdown",
   "metadata": {},
   "source": [
    "### Análise exploratória"
   ]
  },
  {
   "cell_type": "markdown",
   "metadata": {},
   "source": [
    "Mapa de correlação"
   ]
  },
  {
   "cell_type": "code",
   "execution_count": 114,
   "metadata": {},
   "outputs": [
    {
     "data": {
      "text/plain": [
       "<AxesSubplot:>"
      ]
     },
     "execution_count": 114,
     "metadata": {},
     "output_type": "execute_result"
    },
    {
     "data": {
      "image/png": "[encoded data removed]",
      "text/plain": [
       "<Figure size 432x288 with 2 Axes>"
      ]
     },
     "metadata": {
      "needs_background": "light"
     },
     "output_type": "display_data"
    }
   ],
   "source": [
    "sns.heatmap(df.corr())"
   ]
  },
  {
   "cell_type": "code",
   "execution_count": 115,
   "metadata": {
    "id": "xr9UW9CYpr3v",
    "outputId": "ec6eaa82-daec-4796-e6c6-441862c384ef"
   },
   "outputs": [
    {
     "data": {
      "text/plain": [
       "<seaborn.axisgrid.JointGrid at 0x291128be0>"
      ]
     },
     "execution_count": 115,
     "metadata": {},
     "output_type": "execute_result"
    },
    {
     "data": {
      "image/png": "[encoded data removed]",
      "text/plain": [
       "<Figure size 432x432 with 3 Axes>"
      ]
     },
     "metadata": {
      "needs_background": "light"
     },
     "output_type": "display_data"
    }
   ],
   "source": [
    "# visualizando a relação entre as colnas x='texture_mean' e y='radius_mean'\n",
    "sns.jointplot(data = df, x = 'texture_mean', y = 'radius_mean', hue = 'diagnosis')"
   ]
  },
  {
   "cell_type": "markdown",
   "metadata": {
    "id": "_bV81uJNpr3w"
   },
   "source": [
    "Uma pergunta é muitíssimo importante:"
   ]
  },
  {
   "cell_type": "code",
   "execution_count": 116,
   "metadata": {
    "ExecuteTime": {
     "end_time": "2020-02-09T00:41:00.092890Z",
     "start_time": "2020-02-09T00:40:59.906239Z"
    },
    "id": "b1cxZPRrpr3w",
    "outputId": "f029148f-ae10-4289-f92a-7aeb1891af9a"
   },
   "outputs": [
    {
     "data": {
      "text/plain": [
       "B    0.627417\n",
       "M    0.372583\n",
       "Name: diagnosis, dtype: float64"
      ]
     },
     "execution_count": 116,
     "metadata": {},
     "output_type": "execute_result"
    }
   ],
   "source": [
    "# os dados são balanceados com relação ao target?\n",
    "df[\"diagnosis\"].value_counts(normalize = True)"
   ]
  },
  {
   "cell_type": "markdown",
   "metadata": {
    "id": "0JyGd1F4pr3x"
   },
   "source": [
    "Apesar de termos dados desbalanceados, neste caso, não temos uma única classe muito predominante (>80-90% dos dados), de modo que o desbalanceamento não é um grande agravante. Então continuaremos a usar os dados sem grandes tratamentos, mas no percorrer do curso aprenderemos algumas técnicas para lidar com dados desbalanceados."
   ]
  },
  {
   "cell_type": "markdown",
   "metadata": {},
   "source": [
    "Vamos separar os dados em treinamento e teste."
   ]
  },
  {
   "cell_type": "code",
   "execution_count": 117,
   "metadata": {
    "id": "Q3l-bfiXpr3x"
   },
   "outputs": [],
   "source": [
    "X = df.drop(columns = \"diagnosis\")\n",
    "y = df['diagnosis']"
   ]
  },
  {
   "cell_type": "code",
   "execution_count": 118,
   "metadata": {
    "id": "Sj5VM8yBpr3x"
   },
   "outputs": [],
   "source": [
    "from sklearn.model_selection import train_test_split\n",
    "\n",
    "X_train, X_test, y_train, y_test = train_test_split(X, y, test_size = 0.3, random_state = 42,stratify = y)"
   ]
  },
  {
   "cell_type": "markdown",
   "metadata": {
    "id": "ca0kyM9jpr3y"
   },
   "source": [
    "Usando o *stratify* no *train_test_split* é uma das formas de lidarmos com dados desbalanceados. O objetivo de passarmos esse parâmetros é que na separação das bases, que seja mantido a proporcionalidade entre as classes:"
   ]
  },
  {
   "cell_type": "code",
   "execution_count": 119,
   "metadata": {
    "id": "cnL8SXmUpr3y",
    "outputId": "f5280c6e-69eb-4975-b4b8-e91a85840193"
   },
   "outputs": [
    {
     "data": {
      "text/plain": [
       "B    0.627417\n",
       "M    0.372583\n",
       "Name: diagnosis, dtype: float64"
      ]
     },
     "execution_count": 119,
     "metadata": {},
     "output_type": "execute_result"
    }
   ],
   "source": [
    "y.value_counts(normalize = True)"
   ]
  },
  {
   "cell_type": "code",
   "execution_count": 120,
   "metadata": {
    "id": "ndDlK2N-pr3y",
    "outputId": "d6f9aa70-7ca9-480b-f819-f0f46015f4b6"
   },
   "outputs": [
    {
     "data": {
      "text/plain": [
       "B    0.628141\n",
       "M    0.371859\n",
       "Name: diagnosis, dtype: float64"
      ]
     },
     "execution_count": 120,
     "metadata": {},
     "output_type": "execute_result"
    }
   ],
   "source": [
    "y_train.value_counts(normalize = True)"
   ]
  },
  {
   "cell_type": "code",
   "execution_count": 121,
   "metadata": {
    "id": "G7ubdHrvpr3y",
    "outputId": "52dd06fc-e12b-4716-e786-8c0c44478aa5",
    "scrolled": false
   },
   "outputs": [
    {
     "data": {
      "text/plain": [
       "B    0.625731\n",
       "M    0.374269\n",
       "Name: diagnosis, dtype: float64"
      ]
     },
     "execution_count": 121,
     "metadata": {},
     "output_type": "execute_result"
    }
   ],
   "source": [
    "y_test.value_counts(normalize = True)"
   ]
  },
  {
   "cell_type": "markdown",
   "metadata": {
    "id": "OI3aPtQspr3z"
   },
   "source": [
    "#### Transformações dos Dados"
   ]
  },
  {
   "cell_type": "markdown",
   "metadata": {
    "id": "F2nVBzHhpr3z"
   },
   "source": [
    "Em alguns modelos de classificação, principalmente em modelos baseados em distâncias, é **sempre importante transformarmos nossos dados para escalas parecidas**. Isso é necessário pois dependendo da ordem de grandeza de cada um das variáveis isso pode influenciar nos cálculos do nosso modelo. As transformações mais comuns são [StandardScaler](https://scikit-learn.org/stable/modules/generated/sklearn.preprocessing.StandardScaler.html?highlight=standardscaler#sklearn.preprocessing.StandardScaler) e [MinMaxScaler](https://scikit-learn.org/stable/modules/generated/sklearn.preprocessing.MinMaxScaler.html?highlight=minmaxscaler#sklearn.preprocessing.MinMaxScaler). Vamos utilizar o _StandardScaler_ a seguir."
   ]
  },
  {
   "cell_type": "markdown",
   "metadata": {},
   "source": [
    "A ideia da normalização do *StandardScaler* é subtrair, de cada observação, a média da distribuição, e dividir pelo desvio-padrão:\n",
    "\n",
    "$z = \\frac{x - \\mu}{\\sigma}$.\n",
    "\n",
    "Isso normaliza a distribuição dos dados no sentido de mudar sua escala e a deixar com média 0 e desvio-padrão unitário (ao menos aproximadamente). Isso faz com que as distribuições fiquem mais diretamente comparáveis entre si.\n",
    "\n",
    "<img src=\"https://miro.medium.com/max/992/1*dZlwWGNhFco5bmpfwYyLCQ.png\" width=500>\n",
    "\n",
    "Já o *MinMaxScaler* normaliza os valores para que o resultado fique compreendido, por padrão, no intervalo [0,1] (este intervalo pode ser especificado como entrada da função), conforme ilustrado na figura abaixo. Neste caso, a normalização que fazemos é:\n",
    "\n",
    "$x_{scaled} = \\frac{x - x_{min}}{x_{max} - x_{min}}.$\n",
    "\n",
    "<img src=\"https://sofapirate.github.io/Plaquette/_images/Plaquette-MinMaxScaler.png\" width=500>"
   ]
  },
  {
   "cell_type": "markdown",
   "metadata": {},
   "source": [
    "#### Exemplo do processo com números quaisquer"
   ]
  },
  {
   "cell_type": "code",
   "execution_count": 122,
   "metadata": {},
   "outputs": [
    {
     "name": "stdout",
     "output_type": "stream",
     "text": [
      "[14.14213562  0.8660254 ]\n",
      "[60.   2.5]\n",
      "[[ 0.         -0.57735027]\n",
      " [-1.41421356 -0.57735027]\n",
      " [ 0.          1.73205081]\n",
      " [ 1.41421356 -0.57735027]]\n"
     ]
    }
   ],
   "source": [
    "import numpy as np\n",
    "data = [[60, 2], [40, 2], [60, 4], [80, 2]]\n",
    "a = np.array(data)\n",
    "\n",
    "print(np.std(a, axis=0))\n",
    "\n",
    "print(np.mean(a, axis=0))\n",
    "\n",
    "from sklearn.preprocessing import StandardScaler\n",
    "scaler = StandardScaler()\n",
    "scaler.fit(data)\n",
    "\n",
    "# um escore-z (ou escore padrão) de uma observação é o \n",
    "# número de desvios padrão acima \n",
    "#  ou abaixo da média da população\n",
    "z = scaler.transform(data)\n",
    "print(z)"
   ]
  },
  {
   "cell_type": "code",
   "execution_count": 123,
   "metadata": {},
   "outputs": [
    {
     "data": {
      "text/plain": [
       "1.4142135627461903"
      ]
     },
     "execution_count": 123,
     "metadata": {},
     "output_type": "execute_result"
    }
   ],
   "source": [
    "(80 - 60) / 14.14213562"
   ]
  },
  {
   "cell_type": "code",
   "execution_count": 124,
   "metadata": {},
   "outputs": [
    {
     "data": {
      "text/plain": [
       "1.7320508151377547"
      ]
     },
     "execution_count": 124,
     "metadata": {},
     "output_type": "execute_result"
    }
   ],
   "source": [
    "(4 - 2.5) / 0.8660254"
   ]
  },
  {
   "cell_type": "markdown",
   "metadata": {},
   "source": [
    "#### Continuando com o *scaling* dos nossos dados:"
   ]
  },
  {
   "cell_type": "code",
   "execution_count": 125,
   "metadata": {},
   "outputs": [
    {
     "data": {
      "text/html": [
       "<div>\n",
       "<style scoped>\n",
       "    .dataframe tbody tr th:only-of-type {\n",
       "        vertical-align: middle;\n",
       "    }\n",
       "\n",
       "    .dataframe tbody tr th {\n",
       "        vertical-align: top;\n",
       "    }\n",
       "\n",
       "    .dataframe thead th {\n",
       "        text-align: right;\n",
       "    }\n",
       "</style>\n",
       "<table border=\"1\" class=\"dataframe\">\n",
       "  <thead>\n",
       "    <tr style=\"text-align: right;\">\n",
       "      <th></th>\n",
       "      <th>radius_mean</th>\n",
       "      <th>texture_mean</th>\n",
       "      <th>perimeter_mean</th>\n",
       "      <th>area_mean</th>\n",
       "      <th>smoothness_mean</th>\n",
       "      <th>compactness_mean</th>\n",
       "      <th>concavity_mean</th>\n",
       "      <th>concave points_mean</th>\n",
       "      <th>symmetry_mean</th>\n",
       "      <th>fractal_dimension_mean</th>\n",
       "      <th>...</th>\n",
       "      <th>radius_worst</th>\n",
       "      <th>texture_worst</th>\n",
       "      <th>perimeter_worst</th>\n",
       "      <th>area_worst</th>\n",
       "      <th>smoothness_worst</th>\n",
       "      <th>compactness_worst</th>\n",
       "      <th>concavity_worst</th>\n",
       "      <th>concave points_worst</th>\n",
       "      <th>symmetry_worst</th>\n",
       "      <th>fractal_dimension_worst</th>\n",
       "    </tr>\n",
       "  </thead>\n",
       "  <tbody>\n",
       "    <tr>\n",
       "      <th>78</th>\n",
       "      <td>20.18</td>\n",
       "      <td>23.97</td>\n",
       "      <td>143.70</td>\n",
       "      <td>1245.0</td>\n",
       "      <td>0.12860</td>\n",
       "      <td>0.34540</td>\n",
       "      <td>0.37540</td>\n",
       "      <td>0.16040</td>\n",
       "      <td>0.2906</td>\n",
       "      <td>0.08142</td>\n",
       "      <td>...</td>\n",
       "      <td>23.37</td>\n",
       "      <td>31.72</td>\n",
       "      <td>170.30</td>\n",
       "      <td>1623.0</td>\n",
       "      <td>0.16390</td>\n",
       "      <td>0.61640</td>\n",
       "      <td>0.76810</td>\n",
       "      <td>0.25080</td>\n",
       "      <td>0.5440</td>\n",
       "      <td>0.09964</td>\n",
       "    </tr>\n",
       "    <tr>\n",
       "      <th>330</th>\n",
       "      <td>16.03</td>\n",
       "      <td>15.51</td>\n",
       "      <td>105.80</td>\n",
       "      <td>793.2</td>\n",
       "      <td>0.09491</td>\n",
       "      <td>0.13710</td>\n",
       "      <td>0.12040</td>\n",
       "      <td>0.07041</td>\n",
       "      <td>0.1782</td>\n",
       "      <td>0.05976</td>\n",
       "      <td>...</td>\n",
       "      <td>18.76</td>\n",
       "      <td>21.98</td>\n",
       "      <td>124.30</td>\n",
       "      <td>1070.0</td>\n",
       "      <td>0.14350</td>\n",
       "      <td>0.44780</td>\n",
       "      <td>0.49560</td>\n",
       "      <td>0.19810</td>\n",
       "      <td>0.3019</td>\n",
       "      <td>0.09124</td>\n",
       "    </tr>\n",
       "    <tr>\n",
       "      <th>378</th>\n",
       "      <td>13.66</td>\n",
       "      <td>15.15</td>\n",
       "      <td>88.27</td>\n",
       "      <td>580.6</td>\n",
       "      <td>0.08268</td>\n",
       "      <td>0.07548</td>\n",
       "      <td>0.04249</td>\n",
       "      <td>0.02471</td>\n",
       "      <td>0.1792</td>\n",
       "      <td>0.05897</td>\n",
       "      <td>...</td>\n",
       "      <td>14.54</td>\n",
       "      <td>19.64</td>\n",
       "      <td>97.96</td>\n",
       "      <td>657.0</td>\n",
       "      <td>0.12750</td>\n",
       "      <td>0.31040</td>\n",
       "      <td>0.25690</td>\n",
       "      <td>0.10540</td>\n",
       "      <td>0.3387</td>\n",
       "      <td>0.09638</td>\n",
       "    </tr>\n",
       "    <tr>\n",
       "      <th>213</th>\n",
       "      <td>17.42</td>\n",
       "      <td>25.56</td>\n",
       "      <td>114.50</td>\n",
       "      <td>948.0</td>\n",
       "      <td>0.10060</td>\n",
       "      <td>0.11460</td>\n",
       "      <td>0.16820</td>\n",
       "      <td>0.06597</td>\n",
       "      <td>0.1308</td>\n",
       "      <td>0.05866</td>\n",
       "      <td>...</td>\n",
       "      <td>18.07</td>\n",
       "      <td>28.07</td>\n",
       "      <td>120.40</td>\n",
       "      <td>1021.0</td>\n",
       "      <td>0.12430</td>\n",
       "      <td>0.17930</td>\n",
       "      <td>0.28030</td>\n",
       "      <td>0.10990</td>\n",
       "      <td>0.1603</td>\n",
       "      <td>0.06818</td>\n",
       "    </tr>\n",
       "    <tr>\n",
       "      <th>89</th>\n",
       "      <td>14.64</td>\n",
       "      <td>15.24</td>\n",
       "      <td>95.77</td>\n",
       "      <td>651.9</td>\n",
       "      <td>0.11320</td>\n",
       "      <td>0.13390</td>\n",
       "      <td>0.09966</td>\n",
       "      <td>0.07064</td>\n",
       "      <td>0.2116</td>\n",
       "      <td>0.06346</td>\n",
       "      <td>...</td>\n",
       "      <td>16.34</td>\n",
       "      <td>18.24</td>\n",
       "      <td>109.40</td>\n",
       "      <td>803.6</td>\n",
       "      <td>0.12770</td>\n",
       "      <td>0.30890</td>\n",
       "      <td>0.26040</td>\n",
       "      <td>0.13970</td>\n",
       "      <td>0.3151</td>\n",
       "      <td>0.08473</td>\n",
       "    </tr>\n",
       "    <tr>\n",
       "      <th>...</th>\n",
       "      <td>...</td>\n",
       "      <td>...</td>\n",
       "      <td>...</td>\n",
       "      <td>...</td>\n",
       "      <td>...</td>\n",
       "      <td>...</td>\n",
       "      <td>...</td>\n",
       "      <td>...</td>\n",
       "      <td>...</td>\n",
       "      <td>...</td>\n",
       "      <td>...</td>\n",
       "      <td>...</td>\n",
       "      <td>...</td>\n",
       "      <td>...</td>\n",
       "      <td>...</td>\n",
       "      <td>...</td>\n",
       "      <td>...</td>\n",
       "      <td>...</td>\n",
       "      <td>...</td>\n",
       "      <td>...</td>\n",
       "      <td>...</td>\n",
       "    </tr>\n",
       "    <tr>\n",
       "      <th>37</th>\n",
       "      <td>13.03</td>\n",
       "      <td>18.42</td>\n",
       "      <td>82.61</td>\n",
       "      <td>523.8</td>\n",
       "      <td>0.08983</td>\n",
       "      <td>0.03766</td>\n",
       "      <td>0.02562</td>\n",
       "      <td>0.02923</td>\n",
       "      <td>0.1467</td>\n",
       "      <td>0.05863</td>\n",
       "      <td>...</td>\n",
       "      <td>13.30</td>\n",
       "      <td>22.81</td>\n",
       "      <td>84.46</td>\n",
       "      <td>545.9</td>\n",
       "      <td>0.09701</td>\n",
       "      <td>0.04619</td>\n",
       "      <td>0.04833</td>\n",
       "      <td>0.05013</td>\n",
       "      <td>0.1987</td>\n",
       "      <td>0.06169</td>\n",
       "    </tr>\n",
       "    <tr>\n",
       "      <th>415</th>\n",
       "      <td>11.89</td>\n",
       "      <td>21.17</td>\n",
       "      <td>76.39</td>\n",
       "      <td>433.8</td>\n",
       "      <td>0.09773</td>\n",
       "      <td>0.08120</td>\n",
       "      <td>0.02555</td>\n",
       "      <td>0.02179</td>\n",
       "      <td>0.2019</td>\n",
       "      <td>0.06290</td>\n",
       "      <td>...</td>\n",
       "      <td>13.05</td>\n",
       "      <td>27.21</td>\n",
       "      <td>85.09</td>\n",
       "      <td>522.9</td>\n",
       "      <td>0.14260</td>\n",
       "      <td>0.21870</td>\n",
       "      <td>0.11640</td>\n",
       "      <td>0.08263</td>\n",
       "      <td>0.3075</td>\n",
       "      <td>0.07351</td>\n",
       "    </tr>\n",
       "    <tr>\n",
       "      <th>458</th>\n",
       "      <td>13.00</td>\n",
       "      <td>25.13</td>\n",
       "      <td>82.61</td>\n",
       "      <td>520.2</td>\n",
       "      <td>0.08369</td>\n",
       "      <td>0.05073</td>\n",
       "      <td>0.01206</td>\n",
       "      <td>0.01762</td>\n",
       "      <td>0.1667</td>\n",
       "      <td>0.05449</td>\n",
       "      <td>...</td>\n",
       "      <td>14.34</td>\n",
       "      <td>31.88</td>\n",
       "      <td>91.06</td>\n",
       "      <td>628.5</td>\n",
       "      <td>0.12180</td>\n",
       "      <td>0.10930</td>\n",
       "      <td>0.04462</td>\n",
       "      <td>0.05921</td>\n",
       "      <td>0.2306</td>\n",
       "      <td>0.06291</td>\n",
       "    </tr>\n",
       "    <tr>\n",
       "      <th>476</th>\n",
       "      <td>14.20</td>\n",
       "      <td>20.53</td>\n",
       "      <td>92.41</td>\n",
       "      <td>618.4</td>\n",
       "      <td>0.08931</td>\n",
       "      <td>0.11080</td>\n",
       "      <td>0.05063</td>\n",
       "      <td>0.03058</td>\n",
       "      <td>0.1506</td>\n",
       "      <td>0.06009</td>\n",
       "      <td>...</td>\n",
       "      <td>16.45</td>\n",
       "      <td>27.26</td>\n",
       "      <td>112.10</td>\n",
       "      <td>828.5</td>\n",
       "      <td>0.11530</td>\n",
       "      <td>0.34290</td>\n",
       "      <td>0.25120</td>\n",
       "      <td>0.13390</td>\n",
       "      <td>0.2534</td>\n",
       "      <td>0.07858</td>\n",
       "    </tr>\n",
       "    <tr>\n",
       "      <th>129</th>\n",
       "      <td>19.79</td>\n",
       "      <td>25.12</td>\n",
       "      <td>130.40</td>\n",
       "      <td>1192.0</td>\n",
       "      <td>0.10150</td>\n",
       "      <td>0.15890</td>\n",
       "      <td>0.25450</td>\n",
       "      <td>0.11490</td>\n",
       "      <td>0.2202</td>\n",
       "      <td>0.06113</td>\n",
       "      <td>...</td>\n",
       "      <td>22.63</td>\n",
       "      <td>33.58</td>\n",
       "      <td>148.70</td>\n",
       "      <td>1589.0</td>\n",
       "      <td>0.12750</td>\n",
       "      <td>0.38610</td>\n",
       "      <td>0.56730</td>\n",
       "      <td>0.17320</td>\n",
       "      <td>0.3305</td>\n",
       "      <td>0.08465</td>\n",
       "    </tr>\n",
       "  </tbody>\n",
       "</table>\n",
       "<p>398 rows × 30 columns</p>\n",
       "</div>"
      ],
      "text/plain": [
       "     radius_mean  texture_mean  perimeter_mean  area_mean  smoothness_mean  \\\n",
       "78         20.18         23.97          143.70     1245.0          0.12860   \n",
       "330        16.03         15.51          105.80      793.2          0.09491   \n",
       "378        13.66         15.15           88.27      580.6          0.08268   \n",
       "213        17.42         25.56          114.50      948.0          0.10060   \n",
       "89         14.64         15.24           95.77      651.9          0.11320   \n",
       "..           ...           ...             ...        ...              ...   \n",
       "37         13.03         18.42           82.61      523.8          0.08983   \n",
       "415        11.89         21.17           76.39      433.8          0.09773   \n",
       "458        13.00         25.13           82.61      520.2          0.08369   \n",
       "476        14.20         20.53           92.41      618.4          0.08931   \n",
       "129        19.79         25.12          130.40     1192.0          0.10150   \n",
       "\n",
       "     compactness_mean  concavity_mean  concave points_mean  symmetry_mean  \\\n",
       "78            0.34540         0.37540              0.16040         0.2906   \n",
       "330           0.13710         0.12040              0.07041         0.1782   \n",
       "378           0.07548         0.04249              0.02471         0.1792   \n",
       "213           0.11460         0.16820              0.06597         0.1308   \n",
       "89            0.13390         0.09966              0.07064         0.2116   \n",
       "..                ...             ...                  ...            ...   \n",
       "37            0.03766         0.02562              0.02923         0.1467   \n",
       "415           0.08120         0.02555              0.02179         0.2019   \n",
       "458           0.05073         0.01206              0.01762         0.1667   \n",
       "476           0.11080         0.05063              0.03058         0.1506   \n",
       "129           0.15890         0.25450              0.11490         0.2202   \n",
       "\n",
       "     fractal_dimension_mean  ...  radius_worst  texture_worst  \\\n",
       "78                  0.08142  ...         23.37          31.72   \n",
       "330                 0.05976  ...         18.76          21.98   \n",
       "378                 0.05897  ...         14.54          19.64   \n",
       "213                 0.05866  ...         18.07          28.07   \n",
       "89                  0.06346  ...         16.34          18.24   \n",
       "..                      ...  ...           ...            ...   \n",
       "37                  0.05863  ...         13.30          22.81   \n",
       "415                 0.06290  ...         13.05          27.21   \n",
       "458                 0.05449  ...         14.34          31.88   \n",
       "476                 0.06009  ...         16.45          27.26   \n",
       "129                 0.06113  ...         22.63          33.58   \n",
       "\n",
       "     perimeter_worst  area_worst  smoothness_worst  compactness_worst  \\\n",
       "78            170.30      1623.0           0.16390            0.61640   \n",
       "330           124.30      1070.0           0.14350            0.44780   \n",
       "378            97.96       657.0           0.12750            0.31040   \n",
       "213           120.40      1021.0           0.12430            0.17930   \n",
       "89            109.40       803.6           0.12770            0.30890   \n",
       "..               ...         ...               ...                ...   \n",
       "37             84.46       545.9           0.09701            0.04619   \n",
       "415            85.09       522.9           0.14260            0.21870   \n",
       "458            91.06       628.5           0.12180            0.10930   \n",
       "476           112.10       828.5           0.11530            0.34290   \n",
       "129           148.70      1589.0           0.12750            0.38610   \n",
       "\n",
       "     concavity_worst  concave points_worst  symmetry_worst  \\\n",
       "78           0.76810               0.25080          0.5440   \n",
       "330          0.49560               0.19810          0.3019   \n",
       "378          0.25690               0.10540          0.3387   \n",
       "213          0.28030               0.10990          0.1603   \n",
       "89           0.26040               0.13970          0.3151   \n",
       "..               ...                   ...             ...   \n",
       "37           0.04833               0.05013          0.1987   \n",
       "415          0.11640               0.08263          0.3075   \n",
       "458          0.04462               0.05921          0.2306   \n",
       "476          0.25120               0.13390          0.2534   \n",
       "129          0.56730               0.17320          0.3305   \n",
       "\n",
       "     fractal_dimension_worst  \n",
       "78                   0.09964  \n",
       "330                  0.09124  \n",
       "378                  0.09638  \n",
       "213                  0.06818  \n",
       "89                   0.08473  \n",
       "..                       ...  \n",
       "37                   0.06169  \n",
       "415                  0.07351  \n",
       "458                  0.06291  \n",
       "476                  0.07858  \n",
       "129                  0.08465  \n",
       "\n",
       "[398 rows x 30 columns]"
      ]
     },
     "execution_count": 125,
     "metadata": {},
     "output_type": "execute_result"
    }
   ],
   "source": [
    "X_train"
   ]
  },
  {
   "cell_type": "code",
   "execution_count": 126,
   "metadata": {
    "id": "QeccNaRTpr3z"
   },
   "outputs": [],
   "source": [
    "# Scaling dos dados de treinamento\n",
    "from sklearn.preprocessing import StandardScaler\n",
    "\n",
    "# inicialização do scaler\n",
    "scaler = StandardScaler()\n",
    "\n",
    "X_train_scaled = scaler.fit_transform(X_train)"
   ]
  },
  {
   "cell_type": "markdown",
   "metadata": {},
   "source": [
    "Vamos visualizar a distribuição de uma das features ('radius_mean'; a primeira coluna do dataset)."
   ]
  },
  {
   "cell_type": "code",
   "execution_count": 127,
   "metadata": {
    "id": "Gjv2InqEpr30"
   },
   "outputs": [
    {
     "data": {
      "text/plain": [
       "<AxesSubplot:xlabel='radius_mean', ylabel='Count'>"
      ]
     },
     "execution_count": 127,
     "metadata": {},
     "output_type": "execute_result"
    },
    {
     "data": {
      "image/png": "[encoded data removed]",
      "text/plain": [
       "<Figure size 432x288 with 1 Axes>"
      ]
     },
     "metadata": {
      "needs_background": "light"
     },
     "output_type": "display_data"
    }
   ],
   "source": [
    "sns.histplot(X_train['radius_mean'], bins = 30, kde = True)"
   ]
  },
  {
   "cell_type": "code",
   "execution_count": 128,
   "metadata": {},
   "outputs": [
    {
     "data": {
      "text/plain": [
       "<AxesSubplot:ylabel='Count'>"
      ]
     },
     "execution_count": 128,
     "metadata": {},
     "output_type": "execute_result"
    },
    {
     "data": {
      "image/png": "[encoded data removed]",
      "text/plain": [
       "<Figure size 432x288 with 1 Axes>"
      ]
     },
     "metadata": {
      "needs_background": "light"
     },
     "output_type": "display_data"
    }
   ],
   "source": [
    "sns.histplot(X_train_scaled[:,0], bins = 30, kde = True)"
   ]
  },
  {
   "cell_type": "markdown",
   "metadata": {},
   "source": [
    "Observamos que mantemos o formato original da distribuição, mas alteramos sua escala, **padronizando-a** em termos do número de vezes que a diferença entre os valores e a média da distribuição original são maiores, ou menores, que o desvio-padrão. Lembrando que diferenças negativas indicam valores menores que a média."
   ]
  },
  {
   "cell_type": "markdown",
   "metadata": {},
   "source": [
    "Vamos printar os valores da média e do desvio-padrão da distribuição na nova escala. Verificaremos que a média e o desvio-padrão deverão ser muito próximos, ou iguais, a zero, e um, respectivamente."
   ]
  },
  {
   "cell_type": "code",
   "execution_count": 129,
   "metadata": {},
   "outputs": [
    {
     "name": "stdout",
     "output_type": "stream",
     "text": [
      "4.4632081391966094e-17\n",
      "1.0\n"
     ]
    }
   ],
   "source": [
    "print(X_train_scaled[:,0].mean())\n",
    "print(X_train_scaled[:,0].std())"
   ]
  },
  {
   "cell_type": "code",
   "execution_count": 130,
   "metadata": {
    "id": "HILomHqLpr30",
    "outputId": "31c2e983-126b-4446-da87-2f7770c4fd8b"
   },
   "outputs": [],
   "source": [
    "# Scaling dos dados de teste\n",
    "X_test_scaled = scaler.transform(X_test)"
   ]
  },
  {
   "cell_type": "markdown",
   "metadata": {
    "id": "o4Ks--W9pr31"
   },
   "source": [
    "Agora vamos para o nosso processo padrão de instância, fit e predict para o modelo:<br>\n",
    "Deixarei o link do Scikit-Learn para [KNeighborsClassifier](https://scikit-learn.org/stable/modules/generated/sklearn.neighbors.KNeighborsClassifier.html)."
   ]
  },
  {
   "cell_type": "code",
   "execution_count": 131,
   "metadata": {
    "id": "ExPnbYXmpr31"
   },
   "outputs": [],
   "source": [
    "from sklearn.neighbors import KNeighborsClassifier"
   ]
  },
  {
   "cell_type": "code",
   "execution_count": 132,
   "metadata": {
    "id": "XwqQD8B7pr31"
   },
   "outputs": [],
   "source": [
    "# Faça a chamada do modelo\n",
    "model = KNeighborsClassifier(n_neighbors = 5)"
   ]
  },
  {
   "cell_type": "code",
   "execution_count": 133,
   "metadata": {
    "id": "7UkscORxpr31",
    "outputId": "c0dc1b6f-72a8-4810-c721-298d87b6546c"
   },
   "outputs": [
    {
     "data": {
      "text/plain": [
       "KNeighborsClassifier()"
      ]
     },
     "execution_count": 133,
     "metadata": {},
     "output_type": "execute_result"
    }
   ],
   "source": [
    "# Fit do modelo \n",
    "model.fit(X_train_scaled, y_train)"
   ]
  },
  {
   "cell_type": "code",
   "execution_count": 134,
   "metadata": {
    "id": "9Iqn3Mudpr31",
    "outputId": "1adea8df-fac2-4c49-a788-e26975c9f643"
   },
   "outputs": [
    {
     "data": {
      "text/plain": [
       "array(['B', 'B', 'B', 'B', 'B', 'B', 'M', 'B', 'M', 'B', 'B', 'M', 'B',\n",
       "       'B', 'B', 'B', 'B', 'M', 'M', 'M', 'M', 'B', 'M', 'B', 'B', 'M',\n",
       "       'M', 'M', 'B', 'B', 'M', 'B', 'B', 'M', 'B', 'B', 'M', 'M', 'B',\n",
       "       'M', 'M', 'B', 'M', 'B', 'B', 'M', 'M', 'B', 'M', 'B', 'B', 'M',\n",
       "       'B', 'B', 'B', 'B', 'B', 'B', 'B', 'M', 'B', 'B', 'B', 'M', 'M',\n",
       "       'B', 'M', 'B', 'B', 'B', 'B', 'B', 'B', 'B', 'M', 'B', 'B', 'M',\n",
       "       'B', 'B', 'B', 'B', 'B', 'M', 'B', 'M', 'B', 'B', 'B', 'B', 'B',\n",
       "       'M', 'M', 'M', 'M', 'M', 'B', 'B', 'B', 'B', 'B', 'M', 'M', 'B',\n",
       "       'M', 'B', 'M', 'M', 'B', 'M', 'B', 'M', 'B', 'B', 'M', 'B', 'B',\n",
       "       'M', 'B', 'B', 'M', 'M', 'B', 'M', 'B', 'B', 'B', 'B', 'M', 'M',\n",
       "       'M', 'B', 'B', 'M', 'B', 'M', 'B', 'B', 'B', 'B', 'B', 'M', 'B',\n",
       "       'B', 'B', 'B', 'B', 'B', 'B', 'M', 'M', 'B', 'B', 'B', 'B', 'B',\n",
       "       'B', 'B', 'M', 'B', 'B', 'B', 'B', 'B', 'B', 'B', 'B', 'M', 'B',\n",
       "       'B', 'M'], dtype=object)"
      ]
     },
     "execution_count": 134,
     "metadata": {},
     "output_type": "execute_result"
    }
   ],
   "source": [
    "# Predict do modelo\n",
    "y_pred = model.predict(X_test_scaled)\n",
    "y_pred"
   ]
  },
  {
   "cell_type": "code",
   "execution_count": 135,
   "metadata": {
    "id": "z-MuWduIpr32",
    "outputId": "5cbabedc-a8b6-4726-ec2b-d186e5cc79ff"
   },
   "outputs": [
    {
     "name": "stdout",
     "output_type": "stream",
     "text": [
      "              precision    recall  f1-score   support\n",
      "\n",
      "           B       0.95      1.00      0.97       107\n",
      "           M       1.00      0.91      0.95        64\n",
      "\n",
      "    accuracy                           0.96       171\n",
      "   macro avg       0.97      0.95      0.96       171\n",
      "weighted avg       0.97      0.96      0.96       171\n",
      "\n"
     ]
    }
   ],
   "source": [
    "from sklearn.metrics import classification_report\n",
    "print(classification_report(y_test, y_pred))"
   ]
  },
  {
   "cell_type": "markdown",
   "metadata": {},
   "source": [
    "Matriz de confusão"
   ]
  },
  {
   "cell_type": "code",
   "execution_count": 136,
   "metadata": {
    "id": "R3IPeDUOpr32",
    "outputId": "79c9f47c-50b1-4492-d24f-7b202cef95f0"
   },
   "outputs": [
    {
     "data": {
      "text/plain": [
       "(<Figure size 432x288 with 1 Axes>,\n",
       " <AxesSubplot:xlabel='predicted label', ylabel='true label'>)"
      ]
     },
     "execution_count": 136,
     "metadata": {},
     "output_type": "execute_result"
    },
    {
     "data": {
      "image/png": "[encoded data removed]",
      "text/plain": [
       "<Figure size 432x288 with 1 Axes>"
      ]
     },
     "metadata": {
      "needs_background": "light"
     },
     "output_type": "display_data"
    }
   ],
   "source": [
    "from mlxtend.plotting import plot_confusion_matrix\n",
    "from sklearn.metrics import confusion_matrix\n",
    "cm = confusion_matrix(y_test, y_pred)\n",
    "\n",
    "plot_confusion_matrix(conf_mat = cm, show_normed = True, class_names = ['B', 'M'])"
   ]
  },
  {
   "cell_type": "markdown",
   "metadata": {
    "id": "b7TO3YXVpr32"
   },
   "source": [
    "### Definindo o valor de K vizinhos"
   ]
  },
  {
   "cell_type": "markdown",
   "metadata": {
    "id": "6EkBRiqrpr32"
   },
   "source": [
    "No exemplo acima, elaboramos o classificador utilizando os 5 vizinhos mais próximos a cada observação. Mas e se quiséssemos tentar otimizar esta escolha? Como poderíamos fazer?\n",
    "\n",
    "Utilizando **validação cruzada**, vamos criar um looping e fazer uma varredura nos valor de K, para encontramos seu valor ideal."
   ]
  },
  {
   "cell_type": "code",
   "execution_count": 137,
   "metadata": {},
   "outputs": [
    {
     "data": {
      "text/plain": [
       "78     1\n",
       "330    1\n",
       "378    0\n",
       "213    1\n",
       "89     0\n",
       "      ..\n",
       "37     0\n",
       "415    0\n",
       "458    0\n",
       "476    0\n",
       "129    1\n",
       "Name: diagnosis, Length: 398, dtype: int64"
      ]
     },
     "execution_count": 137,
     "metadata": {},
     "output_type": "execute_result"
    }
   ],
   "source": [
    "# Substituímos os labels por valores numéricos\n",
    "yy = (y_train == 'M')\n",
    "y_train = yy.astype(int)\n",
    "y_train"
   ]
  },
  {
   "cell_type": "code",
   "execution_count": 138,
   "metadata": {},
   "outputs": [],
   "source": [
    "# Vamos construir uma função que plote os erros de treino e validação em função da escolha para 'k'\n",
    "from sklearn.model_selection import KFold\n",
    "from sklearn.model_selection import cross_validate\n",
    "\n",
    "def plot_validation_k(k_list, X, y):\n",
    "    training_error = []\n",
    "    validation_error = []\n",
    "    \n",
    "    # para cada 'k' possível\n",
    "    for k in k_list:\n",
    "        # cria novo modelo KNN\n",
    "        knn = KNeighborsClassifier(n_neighbors = k)\n",
    "        \n",
    "        # cross-validation folds\n",
    "        kf5 = KFold(n_splits = 5, shuffle = True, random_state = 42)\n",
    "        \n",
    "        # cross-validation scores\n",
    "        cv_scores = cross_validate(estimator = knn, X = X, y = y,\n",
    "                                  scoring = 'neg_mean_absolute_error',\n",
    "                                  cv = kf5, return_train_score = True)\n",
    "        \n",
    "        # colocamos o retorno da função acima nas listas de erros de treinamento e validação\n",
    "        training_error.append(-1*np.mean(cv_scores['train_score']))\n",
    "        validation_error.append(-1*np.mean(cv_scores['test_score']))\n",
    "        \n",
    "    plt.plot(k_list, training_error)\n",
    "    plt.plot(k_list, validation_error)\n",
    "    \n",
    "    plt.title('Erros de treino e validação')\n",
    "    plt.ylabel('Erro médio absoluto')\n",
    "    plt.xlabel('K')\n",
    "    plt.legend(['Treinamento', 'Validação'])\n",
    "    plt.show()"
   ]
  },
  {
   "cell_type": "code",
   "execution_count": 139,
   "metadata": {},
   "outputs": [
    {
     "data": {
      "image/png": "[encoded data removed]",
      "text/plain": [
       "<Figure size 432x288 with 1 Axes>"
      ]
     },
     "metadata": {
      "needs_background": "light"
     },
     "output_type": "display_data"
    }
   ],
   "source": [
    "# Visualização do resultado\n",
    "plot_validation_k(range(1,15), X_train_scaled, y_train)"
   ]
  },
  {
   "cell_type": "markdown",
   "metadata": {},
   "source": [
    "### Exercicio\n",
    "  \n",
    "Utilizando a base de seguros, *'insurance.csv'*, responda aos exercícios propostos abaixo.\n",
    "\n",
    "- __1)__ O dataset contém valores contínuos para a coluna *charges*, valor a ser cobrado pela seguradora. Como poderíamos definir valores discretos para enquadrar diferentes categorias de preço cobrado; por exemplo, definindo um valor a ser pago \"baixo\", \"médio\", ou \"alto\"? Siga sua proposta e adeque o dataset para que contenha um *target* neste formato, e imprima a proporção resultante de instâncias em cada classe.\n",
    "- __2)__ Segmente o conjunto de dados em amostra de teste e treinamento, e defina o número ótimo de *k* para um classificador do tipo KNN que tente prever em qual das três classes definidas em (1) uma nova entrada será alocada. Não se esqueça de avaliar a necessidade de *scaling* dos dados.\n",
    "- __3)__ Treine o modelo com o número ótimo de 'k' definido em (2), e obtenha o erro da predição."
   ]
  },
  {
   "cell_type": "markdown",
   "metadata": {},
   "source": [
    "#### Exercício 1"
   ]
  },
  {
   "cell_type": "code",
   "execution_count": 220,
   "metadata": {},
   "outputs": [],
   "source": [
    "# Leitura do dataset\n",
    "df = pd.read_csv('./dados_modelo/insurance.csv')"
   ]
  },
  {
   "cell_type": "code",
   "execution_count": 221,
   "metadata": {},
   "outputs": [
    {
     "data": {
      "text/html": [
       "<div>\n",
       "<style scoped>\n",
       "    .dataframe tbody tr th:only-of-type {\n",
       "        vertical-align: middle;\n",
       "    }\n",
       "\n",
       "    .dataframe tbody tr th {\n",
       "        vertical-align: top;\n",
       "    }\n",
       "\n",
       "    .dataframe thead th {\n",
       "        text-align: right;\n",
       "    }\n",
       "</style>\n",
       "<table border=\"1\" class=\"dataframe\">\n",
       "  <thead>\n",
       "    <tr style=\"text-align: right;\">\n",
       "      <th></th>\n",
       "      <th>age</th>\n",
       "      <th>sex</th>\n",
       "      <th>bmi</th>\n",
       "      <th>children</th>\n",
       "      <th>smoker</th>\n",
       "      <th>region</th>\n",
       "      <th>charges</th>\n",
       "    </tr>\n",
       "  </thead>\n",
       "  <tbody>\n",
       "    <tr>\n",
       "      <th>0</th>\n",
       "      <td>19</td>\n",
       "      <td>female</td>\n",
       "      <td>27.900</td>\n",
       "      <td>0</td>\n",
       "      <td>yes</td>\n",
       "      <td>southwest</td>\n",
       "      <td>16884.92400</td>\n",
       "    </tr>\n",
       "    <tr>\n",
       "      <th>1</th>\n",
       "      <td>18</td>\n",
       "      <td>male</td>\n",
       "      <td>33.770</td>\n",
       "      <td>1</td>\n",
       "      <td>no</td>\n",
       "      <td>southeast</td>\n",
       "      <td>1725.55230</td>\n",
       "    </tr>\n",
       "    <tr>\n",
       "      <th>2</th>\n",
       "      <td>28</td>\n",
       "      <td>male</td>\n",
       "      <td>33.000</td>\n",
       "      <td>3</td>\n",
       "      <td>no</td>\n",
       "      <td>southeast</td>\n",
       "      <td>4449.46200</td>\n",
       "    </tr>\n",
       "    <tr>\n",
       "      <th>3</th>\n",
       "      <td>33</td>\n",
       "      <td>male</td>\n",
       "      <td>22.705</td>\n",
       "      <td>0</td>\n",
       "      <td>no</td>\n",
       "      <td>northwest</td>\n",
       "      <td>21984.47061</td>\n",
       "    </tr>\n",
       "    <tr>\n",
       "      <th>4</th>\n",
       "      <td>32</td>\n",
       "      <td>male</td>\n",
       "      <td>28.880</td>\n",
       "      <td>0</td>\n",
       "      <td>no</td>\n",
       "      <td>northwest</td>\n",
       "      <td>3866.85520</td>\n",
       "    </tr>\n",
       "    <tr>\n",
       "      <th>...</th>\n",
       "      <td>...</td>\n",
       "      <td>...</td>\n",
       "      <td>...</td>\n",
       "      <td>...</td>\n",
       "      <td>...</td>\n",
       "      <td>...</td>\n",
       "      <td>...</td>\n",
       "    </tr>\n",
       "    <tr>\n",
       "      <th>1333</th>\n",
       "      <td>50</td>\n",
       "      <td>male</td>\n",
       "      <td>30.970</td>\n",
       "      <td>3</td>\n",
       "      <td>no</td>\n",
       "      <td>northwest</td>\n",
       "      <td>10600.54830</td>\n",
       "    </tr>\n",
       "    <tr>\n",
       "      <th>1334</th>\n",
       "      <td>18</td>\n",
       "      <td>female</td>\n",
       "      <td>31.920</td>\n",
       "      <td>0</td>\n",
       "      <td>no</td>\n",
       "      <td>northeast</td>\n",
       "      <td>2205.98080</td>\n",
       "    </tr>\n",
       "    <tr>\n",
       "      <th>1335</th>\n",
       "      <td>18</td>\n",
       "      <td>female</td>\n",
       "      <td>36.850</td>\n",
       "      <td>0</td>\n",
       "      <td>no</td>\n",
       "      <td>southeast</td>\n",
       "      <td>1629.83350</td>\n",
       "    </tr>\n",
       "    <tr>\n",
       "      <th>1336</th>\n",
       "      <td>21</td>\n",
       "      <td>female</td>\n",
       "      <td>25.800</td>\n",
       "      <td>0</td>\n",
       "      <td>no</td>\n",
       "      <td>southwest</td>\n",
       "      <td>2007.94500</td>\n",
       "    </tr>\n",
       "    <tr>\n",
       "      <th>1337</th>\n",
       "      <td>61</td>\n",
       "      <td>female</td>\n",
       "      <td>29.070</td>\n",
       "      <td>0</td>\n",
       "      <td>yes</td>\n",
       "      <td>northwest</td>\n",
       "      <td>29141.36030</td>\n",
       "    </tr>\n",
       "  </tbody>\n",
       "</table>\n",
       "<p>1338 rows × 7 columns</p>\n",
       "</div>"
      ],
      "text/plain": [
       "      age     sex     bmi  children smoker     region      charges\n",
       "0      19  female  27.900         0    yes  southwest  16884.92400\n",
       "1      18    male  33.770         1     no  southeast   1725.55230\n",
       "2      28    male  33.000         3     no  southeast   4449.46200\n",
       "3      33    male  22.705         0     no  northwest  21984.47061\n",
       "4      32    male  28.880         0     no  northwest   3866.85520\n",
       "...   ...     ...     ...       ...    ...        ...          ...\n",
       "1333   50    male  30.970         3     no  northwest  10600.54830\n",
       "1334   18  female  31.920         0     no  northeast   2205.98080\n",
       "1335   18  female  36.850         0     no  southeast   1629.83350\n",
       "1336   21  female  25.800         0     no  southwest   2007.94500\n",
       "1337   61  female  29.070         0    yes  northwest  29141.36030\n",
       "\n",
       "[1338 rows x 7 columns]"
      ]
     },
     "execution_count": 221,
     "metadata": {},
     "output_type": "execute_result"
    }
   ],
   "source": [
    "df"
   ]
  },
  {
   "cell_type": "code",
   "execution_count": 222,
   "metadata": {},
   "outputs": [],
   "source": [
    "df.sex = np.where(df.sex == 'male', 1, 0,)\n",
    "df.smoker = np.where(df.smoker == 'yes', 1, 0,)\n",
    "df.drop('region', axis = 1, inplace=True)"
   ]
  },
  {
   "cell_type": "code",
   "execution_count": 223,
   "metadata": {},
   "outputs": [
    {
     "name": "stdout",
     "output_type": "stream",
     "text": [
      "<class 'pandas.core.frame.DataFrame'>\n",
      "RangeIndex: 1338 entries, 0 to 1337\n",
      "Data columns (total 7 columns):\n",
      " #   Column    Non-Null Count  Dtype  \n",
      "---  ------    --------------  -----  \n",
      " 0   age       1338 non-null   int64  \n",
      " 1   sex       1338 non-null   int64  \n",
      " 2   bmi       1338 non-null   float64\n",
      " 3   children  1338 non-null   int64  \n",
      " 4   smoker    1338 non-null   int64  \n",
      " 5   region    1338 non-null   object \n",
      " 6   charges   1338 non-null   float64\n",
      "dtypes: float64(2), int64(4), object(1)\n",
      "memory usage: 73.3+ KB\n"
     ]
    }
   ],
   "source": [
    "df.info()"
   ]
  },
  {
   "cell_type": "code",
   "execution_count": 224,
   "metadata": {},
   "outputs": [
    {
     "data": {
      "text/html": [
       "<div>\n",
       "<style scoped>\n",
       "    .dataframe tbody tr th:only-of-type {\n",
       "        vertical-align: middle;\n",
       "    }\n",
       "\n",
       "    .dataframe tbody tr th {\n",
       "        vertical-align: top;\n",
       "    }\n",
       "\n",
       "    .dataframe thead th {\n",
       "        text-align: right;\n",
       "    }\n",
       "</style>\n",
       "<table border=\"1\" class=\"dataframe\">\n",
       "  <thead>\n",
       "    <tr style=\"text-align: right;\">\n",
       "      <th></th>\n",
       "      <th>age</th>\n",
       "      <th>sex</th>\n",
       "      <th>bmi</th>\n",
       "      <th>children</th>\n",
       "      <th>smoker</th>\n",
       "      <th>charges</th>\n",
       "    </tr>\n",
       "  </thead>\n",
       "  <tbody>\n",
       "    <tr>\n",
       "      <th>count</th>\n",
       "      <td>1338.000000</td>\n",
       "      <td>1338.000000</td>\n",
       "      <td>1338.000000</td>\n",
       "      <td>1338.000000</td>\n",
       "      <td>1338.000000</td>\n",
       "      <td>1338.000000</td>\n",
       "    </tr>\n",
       "    <tr>\n",
       "      <th>mean</th>\n",
       "      <td>39.207025</td>\n",
       "      <td>0.505232</td>\n",
       "      <td>30.663397</td>\n",
       "      <td>1.094918</td>\n",
       "      <td>0.204783</td>\n",
       "      <td>13270.422265</td>\n",
       "    </tr>\n",
       "    <tr>\n",
       "      <th>std</th>\n",
       "      <td>14.049960</td>\n",
       "      <td>0.500160</td>\n",
       "      <td>6.098187</td>\n",
       "      <td>1.205493</td>\n",
       "      <td>0.403694</td>\n",
       "      <td>12110.011237</td>\n",
       "    </tr>\n",
       "    <tr>\n",
       "      <th>min</th>\n",
       "      <td>18.000000</td>\n",
       "      <td>0.000000</td>\n",
       "      <td>15.960000</td>\n",
       "      <td>0.000000</td>\n",
       "      <td>0.000000</td>\n",
       "      <td>1121.873900</td>\n",
       "    </tr>\n",
       "    <tr>\n",
       "      <th>25%</th>\n",
       "      <td>27.000000</td>\n",
       "      <td>0.000000</td>\n",
       "      <td>26.296250</td>\n",
       "      <td>0.000000</td>\n",
       "      <td>0.000000</td>\n",
       "      <td>4740.287150</td>\n",
       "    </tr>\n",
       "    <tr>\n",
       "      <th>50%</th>\n",
       "      <td>39.000000</td>\n",
       "      <td>1.000000</td>\n",
       "      <td>30.400000</td>\n",
       "      <td>1.000000</td>\n",
       "      <td>0.000000</td>\n",
       "      <td>9382.033000</td>\n",
       "    </tr>\n",
       "    <tr>\n",
       "      <th>75%</th>\n",
       "      <td>51.000000</td>\n",
       "      <td>1.000000</td>\n",
       "      <td>34.693750</td>\n",
       "      <td>2.000000</td>\n",
       "      <td>0.000000</td>\n",
       "      <td>16639.912515</td>\n",
       "    </tr>\n",
       "    <tr>\n",
       "      <th>max</th>\n",
       "      <td>64.000000</td>\n",
       "      <td>1.000000</td>\n",
       "      <td>53.130000</td>\n",
       "      <td>5.000000</td>\n",
       "      <td>1.000000</td>\n",
       "      <td>63770.428010</td>\n",
       "    </tr>\n",
       "  </tbody>\n",
       "</table>\n",
       "</div>"
      ],
      "text/plain": [
       "               age          sex          bmi     children       smoker  \\\n",
       "count  1338.000000  1338.000000  1338.000000  1338.000000  1338.000000   \n",
       "mean     39.207025     0.505232    30.663397     1.094918     0.204783   \n",
       "std      14.049960     0.500160     6.098187     1.205493     0.403694   \n",
       "min      18.000000     0.000000    15.960000     0.000000     0.000000   \n",
       "25%      27.000000     0.000000    26.296250     0.000000     0.000000   \n",
       "50%      39.000000     1.000000    30.400000     1.000000     0.000000   \n",
       "75%      51.000000     1.000000    34.693750     2.000000     0.000000   \n",
       "max      64.000000     1.000000    53.130000     5.000000     1.000000   \n",
       "\n",
       "            charges  \n",
       "count   1338.000000  \n",
       "mean   13270.422265  \n",
       "std    12110.011237  \n",
       "min     1121.873900  \n",
       "25%     4740.287150  \n",
       "50%     9382.033000  \n",
       "75%    16639.912515  \n",
       "max    63770.428010  "
      ]
     },
     "execution_count": 224,
     "metadata": {},
     "output_type": "execute_result"
    }
   ],
   "source": [
    "df.describe()"
   ]
  },
  {
   "cell_type": "code",
   "execution_count": 225,
   "metadata": {},
   "outputs": [
    {
     "data": {
      "text/html": [
       "<div>\n",
       "<style scoped>\n",
       "    .dataframe tbody tr th:only-of-type {\n",
       "        vertical-align: middle;\n",
       "    }\n",
       "\n",
       "    .dataframe tbody tr th {\n",
       "        vertical-align: top;\n",
       "    }\n",
       "\n",
       "    .dataframe thead th {\n",
       "        text-align: right;\n",
       "    }\n",
       "</style>\n",
       "<table border=\"1\" class=\"dataframe\">\n",
       "  <thead>\n",
       "    <tr style=\"text-align: right;\">\n",
       "      <th></th>\n",
       "      <th>age</th>\n",
       "      <th>sex</th>\n",
       "      <th>bmi</th>\n",
       "      <th>children</th>\n",
       "      <th>smoker</th>\n",
       "      <th>charges</th>\n",
       "    </tr>\n",
       "  </thead>\n",
       "  <tbody>\n",
       "    <tr>\n",
       "      <th>age</th>\n",
       "      <td>1.000000</td>\n",
       "      <td>-0.020856</td>\n",
       "      <td>0.109272</td>\n",
       "      <td>0.042469</td>\n",
       "      <td>-0.025019</td>\n",
       "      <td>0.299008</td>\n",
       "    </tr>\n",
       "    <tr>\n",
       "      <th>sex</th>\n",
       "      <td>-0.020856</td>\n",
       "      <td>1.000000</td>\n",
       "      <td>0.046371</td>\n",
       "      <td>0.017163</td>\n",
       "      <td>0.076185</td>\n",
       "      <td>0.057292</td>\n",
       "    </tr>\n",
       "    <tr>\n",
       "      <th>bmi</th>\n",
       "      <td>0.109272</td>\n",
       "      <td>0.046371</td>\n",
       "      <td>1.000000</td>\n",
       "      <td>0.012759</td>\n",
       "      <td>0.003750</td>\n",
       "      <td>0.198341</td>\n",
       "    </tr>\n",
       "    <tr>\n",
       "      <th>children</th>\n",
       "      <td>0.042469</td>\n",
       "      <td>0.017163</td>\n",
       "      <td>0.012759</td>\n",
       "      <td>1.000000</td>\n",
       "      <td>0.007673</td>\n",
       "      <td>0.067998</td>\n",
       "    </tr>\n",
       "    <tr>\n",
       "      <th>smoker</th>\n",
       "      <td>-0.025019</td>\n",
       "      <td>0.076185</td>\n",
       "      <td>0.003750</td>\n",
       "      <td>0.007673</td>\n",
       "      <td>1.000000</td>\n",
       "      <td>0.787251</td>\n",
       "    </tr>\n",
       "    <tr>\n",
       "      <th>charges</th>\n",
       "      <td>0.299008</td>\n",
       "      <td>0.057292</td>\n",
       "      <td>0.198341</td>\n",
       "      <td>0.067998</td>\n",
       "      <td>0.787251</td>\n",
       "      <td>1.000000</td>\n",
       "    </tr>\n",
       "  </tbody>\n",
       "</table>\n",
       "</div>"
      ],
      "text/plain": [
       "               age       sex       bmi  children    smoker   charges\n",
       "age       1.000000 -0.020856  0.109272  0.042469 -0.025019  0.299008\n",
       "sex      -0.020856  1.000000  0.046371  0.017163  0.076185  0.057292\n",
       "bmi       0.109272  0.046371  1.000000  0.012759  0.003750  0.198341\n",
       "children  0.042469  0.017163  0.012759  1.000000  0.007673  0.067998\n",
       "smoker   -0.025019  0.076185  0.003750  0.007673  1.000000  0.787251\n",
       "charges   0.299008  0.057292  0.198341  0.067998  0.787251  1.000000"
      ]
     },
     "execution_count": 225,
     "metadata": {},
     "output_type": "execute_result"
    }
   ],
   "source": [
    "df.corr()"
   ]
  },
  {
   "cell_type": "code",
   "execution_count": 226,
   "metadata": {},
   "outputs": [
    {
     "data": {
      "text/plain": [
       "<AxesSubplot:xlabel='charges', ylabel='Count'>"
      ]
     },
     "execution_count": 226,
     "metadata": {},
     "output_type": "execute_result"
    },
    {
     "data": {
      "image/png": "[encoded data removed]",
      "text/plain": [
       "<Figure size 432x288 with 1 Axes>"
      ]
     },
     "metadata": {
      "needs_background": "light"
     },
     "output_type": "display_data"
    }
   ],
   "source": [
    "# histograma\n",
    "sns.histplot(df['charges'])"
   ]
  },
  {
   "cell_type": "code",
   "execution_count": 227,
   "metadata": {},
   "outputs": [
    {
     "data": {
      "text/plain": [
       "<seaborn.axisgrid.JointGrid at 0x292bc0310>"
      ]
     },
     "execution_count": 227,
     "metadata": {},
     "output_type": "execute_result"
    },
    {
     "data": {
      "image/png": "[encoded data removed]",
      "text/plain": [
       "<Figure size 432x432 with 3 Axes>"
      ]
     },
     "metadata": {
      "needs_background": "light"
     },
     "output_type": "display_data"
    }
   ],
   "source": [
    "# jointplot entre idade e charges\n",
    "sns.jointplot(data = df, x = 'age', y ='charges', hue = 'charges')"
   ]
  },
  {
   "cell_type": "code",
   "execution_count": 228,
   "metadata": {},
   "outputs": [
    {
     "data": {
      "text/plain": [
       "<matplotlib.lines.Line2D at 0x292b2b160>"
      ]
     },
     "execution_count": 228,
     "metadata": {},
     "output_type": "execute_result"
    },
    {
     "data": {
      "image/png": "[encoded data removed]",
      "text/plain": [
       "<Figure size 432x432 with 3 Axes>"
      ]
     },
     "metadata": {
      "needs_background": "light"
     },
     "output_type": "display_data"
    }
   ],
   "source": [
    "# Definição de pontos de corte:\n",
    "\n",
    "grafico = sns.jointplot(data = df, x = 'age', y ='charges', hue = 'charges')\n",
    "grafico.ax_joint.axhline(y=14000)\n",
    "grafico.ax_joint.axhline(y=31000)"
   ]
  },
  {
   "cell_type": "code",
   "execution_count": 229,
   "metadata": {},
   "outputs": [],
   "source": [
    "# Criação de coluna com \"target\"\n",
    "df['target'] = pd.cut(df['charges'], [0, 14000,31000,df['charges'].max()], labels=[0,1,2])"
   ]
  },
  {
   "cell_type": "code",
   "execution_count": 230,
   "metadata": {},
   "outputs": [
    {
     "data": {
      "image/png": "[encoded data removed]",
      "text/plain": [
       "<Figure size 432x432 with 3 Axes>"
      ]
     },
     "metadata": {
      "needs_background": "light"
     },
     "output_type": "display_data"
    }
   ],
   "source": [
    "\n",
    "grafico = sns.jointplot(data = df, x = 'age', y ='charges', hue = 'target')"
   ]
  },
  {
   "cell_type": "code",
   "execution_count": 231,
   "metadata": {},
   "outputs": [
    {
     "data": {
      "text/plain": [
       "0    0.708520\n",
       "1    0.174888\n",
       "2    0.116592\n",
       "Name: target, dtype: float64"
      ]
     },
     "execution_count": 231,
     "metadata": {},
     "output_type": "execute_result"
    }
   ],
   "source": [
    "# Proporção dos valores\n",
    "df['target'].value_counts(normalize=True)"
   ]
  },
  {
   "cell_type": "markdown",
   "metadata": {},
   "source": [
    "#### Exercício 2"
   ]
  },
  {
   "cell_type": "markdown",
   "metadata": {},
   "source": [
    "- __2)__ Segmente o conjunto de dados em amostra de teste e treinamento, e defina o número ótimo de *k* para um classificador do tipo KNN que tente prever em qual das três classes definidas em (1) uma nova entrada será alocada. Não se esqueça de avaliar a necessidade de *scaling* dos dados."
   ]
  },
  {
   "cell_type": "code",
   "execution_count": 232,
   "metadata": {},
   "outputs": [],
   "source": [
    "X = df.drop('target', axis=1)\n",
    "y = df.target"
   ]
  },
  {
   "cell_type": "code",
   "execution_count": 233,
   "metadata": {},
   "outputs": [],
   "source": [
    "# Separação das amostras\n",
    "from random import random\n",
    "\n",
    "\n",
    "X_train, X_test, y_train, y_test = train_test_split(X, y, random_state=42, train_size=0.2, stratify=y )"
   ]
  },
  {
   "cell_type": "code",
   "execution_count": 234,
   "metadata": {},
   "outputs": [
    {
     "data": {
      "text/plain": [
       "0    0.707865\n",
       "1    0.176030\n",
       "2    0.116105\n",
       "Name: target, dtype: float64"
      ]
     },
     "execution_count": 234,
     "metadata": {},
     "output_type": "execute_result"
    }
   ],
   "source": [
    "# proporção dos valores em 'y'\n",
    "y_train.value_counts(normalize=True)"
   ]
  },
  {
   "cell_type": "code",
   "execution_count": 235,
   "metadata": {},
   "outputs": [
    {
     "data": {
      "text/plain": [
       "0    0.708683\n",
       "1    0.174603\n",
       "2    0.116713\n",
       "Name: target, dtype: float64"
      ]
     },
     "execution_count": 235,
     "metadata": {},
     "output_type": "execute_result"
    }
   ],
   "source": [
    "y_test.value_counts(normalize=True)"
   ]
  },
  {
   "cell_type": "code",
   "execution_count": 236,
   "metadata": {},
   "outputs": [],
   "source": [
    "# Como fica a matriz de atributos?\n",
    "\n",
    "\n"
   ]
  },
  {
   "cell_type": "code",
   "execution_count": 237,
   "metadata": {},
   "outputs": [
    {
     "ename": "ValueError",
     "evalue": "could not convert string to float: 'southeast'",
     "output_type": "error",
     "traceback": [
      "\u001b[0;31m---------------------------------------------------------------------------\u001b[0m",
      "\u001b[0;31mValueError\u001b[0m                                Traceback (most recent call last)",
      "\u001b[1;32m/Users/gustavoperbone/Developer/Curso-Python&Dados /topcoders-curso-python-dados/Modulo-8-ML1/Aula04.ipynb Célula: 95\u001b[0m in \u001b[0;36m<cell line: 5>\u001b[0;34m()\u001b[0m\n\u001b[1;32m      <a href='vscode-notebook-cell:/Users/gustavoperbone/Developer/Curso-Python%26Dados%20/topcoders-curso-python-dados/Modulo-8-ML1/Aula04.ipynb#Y163sZmlsZQ%3D%3D?line=0'>1</a>\u001b[0m \u001b[39m# Precisamos de scaling dos dados?\u001b[39;00m\n\u001b[1;32m      <a href='vscode-notebook-cell:/Users/gustavoperbone/Developer/Curso-Python%26Dados%20/topcoders-curso-python-dados/Modulo-8-ML1/Aula04.ipynb#Y163sZmlsZQ%3D%3D?line=2'>3</a>\u001b[0m scaler \u001b[39m=\u001b[39m StandardScaler()\n\u001b[0;32m----> <a href='vscode-notebook-cell:/Users/gustavoperbone/Developer/Curso-Python%26Dados%20/topcoders-curso-python-dados/Modulo-8-ML1/Aula04.ipynb#Y163sZmlsZQ%3D%3D?line=4'>5</a>\u001b[0m scaler\u001b[39m.\u001b[39;49mfit(X_train)\n\u001b[1;32m      <a href='vscode-notebook-cell:/Users/gustavoperbone/Developer/Curso-Python%26Dados%20/topcoders-curso-python-dados/Modulo-8-ML1/Aula04.ipynb#Y163sZmlsZQ%3D%3D?line=5'>6</a>\u001b[0m X_train_scaled \u001b[39m=\u001b[39m scaler\u001b[39m.\u001b[39mtransform(X_train)\n\u001b[1;32m      <a href='vscode-notebook-cell:/Users/gustavoperbone/Developer/Curso-Python%26Dados%20/topcoders-curso-python-dados/Modulo-8-ML1/Aula04.ipynb#Y163sZmlsZQ%3D%3D?line=6'>7</a>\u001b[0m X_test_scaled \u001b[39m=\u001b[39m scaler\u001b[39m.\u001b[39mtransform(X_test)\n",
      "File \u001b[0;32m~/opt/anaconda3/lib/python3.9/site-packages/sklearn/preprocessing/_data.py:806\u001b[0m, in \u001b[0;36mStandardScaler.fit\u001b[0;34m(self, X, y, sample_weight)\u001b[0m\n\u001b[1;32m    804\u001b[0m \u001b[39m# Reset internal state before fitting\u001b[39;00m\n\u001b[1;32m    805\u001b[0m \u001b[39mself\u001b[39m\u001b[39m.\u001b[39m_reset()\n\u001b[0;32m--> 806\u001b[0m \u001b[39mreturn\u001b[39;00m \u001b[39mself\u001b[39;49m\u001b[39m.\u001b[39;49mpartial_fit(X, y, sample_weight)\n",
      "File \u001b[0;32m~/opt/anaconda3/lib/python3.9/site-packages/sklearn/preprocessing/_data.py:841\u001b[0m, in \u001b[0;36mStandardScaler.partial_fit\u001b[0;34m(self, X, y, sample_weight)\u001b[0m\n\u001b[1;32m    809\u001b[0m \u001b[39m\"\"\"Online computation of mean and std on X for later scaling.\u001b[39;00m\n\u001b[1;32m    810\u001b[0m \n\u001b[1;32m    811\u001b[0m \u001b[39mAll of X is processed as a single batch. This is intended for cases\u001b[39;00m\n\u001b[0;32m   (...)\u001b[0m\n\u001b[1;32m    838\u001b[0m \u001b[39m    Fitted scaler.\u001b[39;00m\n\u001b[1;32m    839\u001b[0m \u001b[39m\"\"\"\u001b[39;00m\n\u001b[1;32m    840\u001b[0m first_call \u001b[39m=\u001b[39m \u001b[39mnot\u001b[39;00m \u001b[39mhasattr\u001b[39m(\u001b[39mself\u001b[39m, \u001b[39m\"\u001b[39m\u001b[39mn_samples_seen_\u001b[39m\u001b[39m\"\u001b[39m)\n\u001b[0;32m--> 841\u001b[0m X \u001b[39m=\u001b[39m \u001b[39mself\u001b[39;49m\u001b[39m.\u001b[39;49m_validate_data(\n\u001b[1;32m    842\u001b[0m     X,\n\u001b[1;32m    843\u001b[0m     accept_sparse\u001b[39m=\u001b[39;49m(\u001b[39m\"\u001b[39;49m\u001b[39mcsr\u001b[39;49m\u001b[39m\"\u001b[39;49m, \u001b[39m\"\u001b[39;49m\u001b[39mcsc\u001b[39;49m\u001b[39m\"\u001b[39;49m),\n\u001b[1;32m    844\u001b[0m     estimator\u001b[39m=\u001b[39;49m\u001b[39mself\u001b[39;49m,\n\u001b[1;32m    845\u001b[0m     dtype\u001b[39m=\u001b[39;49mFLOAT_DTYPES,\n\u001b[1;32m    846\u001b[0m     force_all_finite\u001b[39m=\u001b[39;49m\u001b[39m\"\u001b[39;49m\u001b[39mallow-nan\u001b[39;49m\u001b[39m\"\u001b[39;49m,\n\u001b[1;32m    847\u001b[0m     reset\u001b[39m=\u001b[39;49mfirst_call,\n\u001b[1;32m    848\u001b[0m )\n\u001b[1;32m    849\u001b[0m n_features \u001b[39m=\u001b[39m X\u001b[39m.\u001b[39mshape[\u001b[39m1\u001b[39m]\n\u001b[1;32m    851\u001b[0m \u001b[39mif\u001b[39;00m sample_weight \u001b[39mis\u001b[39;00m \u001b[39mnot\u001b[39;00m \u001b[39mNone\u001b[39;00m:\n",
      "File \u001b[0;32m~/opt/anaconda3/lib/python3.9/site-packages/sklearn/base.py:566\u001b[0m, in \u001b[0;36mBaseEstimator._validate_data\u001b[0;34m(self, X, y, reset, validate_separately, **check_params)\u001b[0m\n\u001b[1;32m    564\u001b[0m     \u001b[39mraise\u001b[39;00m \u001b[39mValueError\u001b[39;00m(\u001b[39m\"\u001b[39m\u001b[39mValidation should be done on X, y or both.\u001b[39m\u001b[39m\"\u001b[39m)\n\u001b[1;32m    565\u001b[0m \u001b[39melif\u001b[39;00m \u001b[39mnot\u001b[39;00m no_val_X \u001b[39mand\u001b[39;00m no_val_y:\n\u001b[0;32m--> 566\u001b[0m     X \u001b[39m=\u001b[39m check_array(X, \u001b[39m*\u001b[39;49m\u001b[39m*\u001b[39;49mcheck_params)\n\u001b[1;32m    567\u001b[0m     out \u001b[39m=\u001b[39m X\n\u001b[1;32m    568\u001b[0m \u001b[39melif\u001b[39;00m no_val_X \u001b[39mand\u001b[39;00m \u001b[39mnot\u001b[39;00m no_val_y:\n",
      "File \u001b[0;32m~/opt/anaconda3/lib/python3.9/site-packages/sklearn/utils/validation.py:746\u001b[0m, in \u001b[0;36mcheck_array\u001b[0;34m(array, accept_sparse, accept_large_sparse, dtype, order, copy, force_all_finite, ensure_2d, allow_nd, ensure_min_samples, ensure_min_features, estimator)\u001b[0m\n\u001b[1;32m    744\u001b[0m         array \u001b[39m=\u001b[39m array\u001b[39m.\u001b[39mastype(dtype, casting\u001b[39m=\u001b[39m\u001b[39m\"\u001b[39m\u001b[39munsafe\u001b[39m\u001b[39m\"\u001b[39m, copy\u001b[39m=\u001b[39m\u001b[39mFalse\u001b[39;00m)\n\u001b[1;32m    745\u001b[0m     \u001b[39melse\u001b[39;00m:\n\u001b[0;32m--> 746\u001b[0m         array \u001b[39m=\u001b[39m np\u001b[39m.\u001b[39;49masarray(array, order\u001b[39m=\u001b[39;49morder, dtype\u001b[39m=\u001b[39;49mdtype)\n\u001b[1;32m    747\u001b[0m \u001b[39mexcept\u001b[39;00m ComplexWarning \u001b[39mas\u001b[39;00m complex_warning:\n\u001b[1;32m    748\u001b[0m     \u001b[39mraise\u001b[39;00m \u001b[39mValueError\u001b[39;00m(\n\u001b[1;32m    749\u001b[0m         \u001b[39m\"\u001b[39m\u001b[39mComplex data not supported\u001b[39m\u001b[39m\\n\u001b[39;00m\u001b[39m{}\u001b[39;00m\u001b[39m\\n\u001b[39;00m\u001b[39m\"\u001b[39m\u001b[39m.\u001b[39mformat(array)\n\u001b[1;32m    750\u001b[0m     ) \u001b[39mfrom\u001b[39;00m \u001b[39mcomplex_warning\u001b[39;00m\n",
      "File \u001b[0;32m~/opt/anaconda3/lib/python3.9/site-packages/pandas/core/generic.py:2064\u001b[0m, in \u001b[0;36mNDFrame.__array__\u001b[0;34m(self, dtype)\u001b[0m\n\u001b[1;32m   2063\u001b[0m \u001b[39mdef\u001b[39;00m \u001b[39m__array__\u001b[39m(\u001b[39mself\u001b[39m, dtype: npt\u001b[39m.\u001b[39mDTypeLike \u001b[39m|\u001b[39m \u001b[39mNone\u001b[39;00m \u001b[39m=\u001b[39m \u001b[39mNone\u001b[39;00m) \u001b[39m-\u001b[39m\u001b[39m>\u001b[39m np\u001b[39m.\u001b[39mndarray:\n\u001b[0;32m-> 2064\u001b[0m     \u001b[39mreturn\u001b[39;00m np\u001b[39m.\u001b[39;49masarray(\u001b[39mself\u001b[39;49m\u001b[39m.\u001b[39;49m_values, dtype\u001b[39m=\u001b[39;49mdtype)\n",
      "\u001b[0;31mValueError\u001b[0m: could not convert string to float: 'southeast'"
     ]
    }
   ],
   "source": [
    "# Precisamos de scaling dos dados?\n",
    "\n",
    "scaler = StandardScaler()\n",
    "\n",
    "scaler.fit(X_train)\n",
    "X_train_scaled = scaler.transform(X_train)\n",
    "X_test_scaled = scaler.transform(X_test)"
   ]
  },
  {
   "cell_type": "code",
   "execution_count": 247,
   "metadata": {},
   "outputs": [],
   "source": [
    "# Vamos construir uma função que plote os erros de treino e validação em função da escolha para 'k'\n",
    "from sklearn.model_selection import KFold\n",
    "from sklearn.model_selection import cross_validate\n",
    "\n",
    "def plot_validation_k(k_list, X, y):\n",
    "    training_error = []\n",
    "    validation_error = []\n",
    "    \n",
    "    # para cada 'k' possível\n",
    "    for k in k_list:\n",
    "        # cria novo modelo KNN\n",
    "        knn = KNeighborsClassifier(n_neighbors = k)\n",
    "        \n",
    "        # cross-validation folds\n",
    "        kf5 = KFold(n_splits = 5, shuffle = True, random_state = 42)\n",
    "        \n",
    "        # cross-validation scores\n",
    "        cv_scores = cross_validate(estimator = knn, X = X, y = y,\n",
    "                                  scoring = 'neg_mean_absolute_error',\n",
    "                                  cv = kf5, return_train_score = True)\n",
    "        \n",
    "        # colocamos o retorno da função acima nas listas de erros de treinamento e validação\n",
    "        training_error.append(-1*np.mean(cv_scores['train_score']))\n",
    "        validation_error.append(-1*np.mean(cv_scores['test_score']))\n",
    "        \n",
    "    plt.plot(k_list, training_error)\n",
    "    plt.plot(k_list, validation_error)\n",
    "    \n",
    "    plt.title('Erros de treino e validação')\n",
    "    plt.ylabel('Erro médio absoluto')\n",
    "    plt.xlabel('K')\n",
    "    plt.legend(['Treinamento', 'Validação'])\n",
    "    plt.show()\n"
   ]
  },
  {
   "cell_type": "code",
   "execution_count": 248,
   "metadata": {},
   "outputs": [
    {
     "data": {
      "image/png": "[encoded data removed]",
      "text/plain": [
       "<Figure size 432x288 with 1 Axes>"
      ]
     },
     "metadata": {
      "needs_background": "light"
     },
     "output_type": "display_data"
    }
   ],
   "source": [
    "# Plot dos resultados\n",
    "plot_validation_k(range(1,15), X_train_scaled, y_train)"
   ]
  },
  {
   "cell_type": "markdown",
   "metadata": {},
   "source": [
    "Definamos, assim, $k_{opt} = 6$ ."
   ]
  },
  {
   "cell_type": "markdown",
   "metadata": {},
   "source": [
    "#### Exercício 3"
   ]
  },
  {
   "cell_type": "markdown",
   "metadata": {},
   "source": [
    "- __3)__ Treine o modelo com o número ótimo de 'k' definido em (2), e obtenha o erro da predição."
   ]
  },
  {
   "cell_type": "code",
   "execution_count": 249,
   "metadata": {},
   "outputs": [
    {
     "data": {
      "text/plain": [
       "array([0, 0, 0, ..., 0, 0, 0])"
      ]
     },
     "execution_count": 249,
     "metadata": {},
     "output_type": "execute_result"
    }
   ],
   "source": [
    "estimador = KNeighborsClassifier(n_neighbors=6)\n",
    "# Fit do modelo \n",
    "model.fit(X_train_scaled, y_train)\n",
    "# Predict do modelo\n",
    "y_pred = model.predict(X_test_scaled)\n",
    "y_pred\n"
   ]
  },
  {
   "cell_type": "code",
   "execution_count": 250,
   "metadata": {},
   "outputs": [
    {
     "data": {
      "text/plain": [
       "(<Figure size 432x288 with 1 Axes>,\n",
       " <AxesSubplot:xlabel='predicted label', ylabel='true label'>)"
      ]
     },
     "execution_count": 250,
     "metadata": {},
     "output_type": "execute_result"
    },
    {
     "data": {
      "image/png": "[encoded data removed]",
      "text/plain": [
       "<Figure size 432x288 with 1 Axes>"
      ]
     },
     "metadata": {
      "needs_background": "light"
     },
     "output_type": "display_data"
    }
   ],
   "source": [
    "# matriz de confusão\n",
    "\n",
    "from mlxtend.plotting import plot_confusion_matrix\n",
    "from sklearn.metrics import confusion_matrix\n",
    "cm = confusion_matrix(y_test, y_pred)\n",
    "\n",
    "plot_confusion_matrix(conf_mat = cm, show_normed = True, class_names = [0, 1, 2])"
   ]
  },
  {
   "cell_type": "code",
   "execution_count": 251,
   "metadata": {},
   "outputs": [
    {
     "name": "stdout",
     "output_type": "stream",
     "text": [
      "              precision    recall  f1-score   support\n",
      "\n",
      "           0       0.91      1.00      0.95       759\n",
      "           1       0.93      0.61      0.74       187\n",
      "           2       0.99      0.94      0.96       125\n",
      "\n",
      "    accuracy                           0.92      1071\n",
      "   macro avg       0.95      0.85      0.88      1071\n",
      "weighted avg       0.92      0.92      0.92      1071\n",
      "\n"
     ]
    }
   ],
   "source": [
    "from sklearn.metrics import classification_report\n",
    "print(classification_report(y_test, y_pred))"
   ]
  },
  {
   "cell_type": "markdown",
   "metadata": {},
   "source": [
    "Podemos definir uma \"acurácia média\" a partir da proporção existente em cada classe, para termos uma ideia da performance do nosso modelo:\n",
    "\n",
    "$A_{média} = \\frac{}{}$;\n",
    "\n",
    "$A_{média} = 0.$."
   ]
  }
 ],
 "metadata": {
  "colab": {
   "name": "Aula 3.1 - KNN.ipynb",
   "provenance": []
  },
  "kernelspec": {
   "display_name": "Python 3.9.12 ('base')",
   "language": "python",
   "name": "python3"
  },
  "language_info": {
   "codemirror_mode": {
    "name": "ipython",
    "version": 3
   },
   "file_extension": ".py",
   "mimetype": "text/x-python",
   "name": "python",
   "nbconvert_exporter": "python",
   "pygments_lexer": "ipython3",
   "version": "3.9.12"
  },
  "vscode": {
   "interpreter": {
    "hash": "cea1ecbc9060237308d6f43d2a8f2f7ecb9842b1b44e6cce898a5c7b51f4cadd"
   }
  }
 },
 "nbformat": 4,
 "nbformat_minor": 1
}
