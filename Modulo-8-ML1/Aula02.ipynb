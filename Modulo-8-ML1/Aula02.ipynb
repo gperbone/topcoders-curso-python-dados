{
 "cells": [
  {
   "cell_type": "markdown",
   "metadata": {},
   "source": [
    "# Validação cruzada (Cross Validation)\n",
    "\n",
    "Na aula de hoje, vamos explorar os seguintes tópicos em Python:\n",
    "\n",
    "- 1) Holdout set\n",
    "- 2) Validação cruzada"
   ]
  },
  {
   "cell_type": "code",
   "execution_count": 1,
   "metadata": {
    "ExecuteTime": {
     "end_time": "2022-02-07T22:16:13.709422Z",
     "start_time": "2022-02-07T22:16:07.847208Z"
    }
   },
   "outputs": [],
   "source": [
    "import pandas as pd\n",
    "import numpy as np\n",
    "import matplotlib.pyplot as plt\n",
    "import seaborn as sns"
   ]
  },
  {
   "cell_type": "markdown",
   "metadata": {},
   "source": [
    "____\n",
    "____\n",
    "____"
   ]
  },
  {
   "cell_type": "markdown",
   "metadata": {},
   "source": [
    "## 0) Estratégia \"Holdout set\": Conjuntos de treino, validação e teste\n",
    "\n",
    "Como vimos, no aprendizado de máquina nós temos alguns dados (__conjunto de treino__), e depois fazemos um experimento com uma amostra de dados que nunca vimos (__conjunto de teste__) para saber o quão bem o modelo consegue generalizar.\n",
    "\n",
    "Assim, temos o erro dentro do conjunto de treino, $E_{in}$, e o erro de generalização, pra dados daquele tipo fora desse conjunto, $E_{out}$. \n",
    "<br><br>\n",
    "\n",
    "<div>\n",
    "    <img src=\"images/treino_teste.png\" width=500>\n",
    "</div>\n",
    "\n",
    "O problema é que, __se usarmos o conjunto de teste de qualquer forma para aprendizado, o erro que obtivermos nele deixa de refletir o erro de generalização__. \n",
    "\n",
    "Por exemplo, se treinarmos 3 modelos, e compararmos eles usando o conjunto de teste, o erro no teste não reflete mais o $E_{out}$.\n",
    "\n",
    "Outro exemplo são certas transformações dos nossos dados. Imagina que pegamos nossos dados, \"normalizamos\" eles (ou seja, pegamos nossas features e transformamos elas de forma que tenham um range de 0 a 1), e então fazemos a divisão entre conjunto de treino e conjunto de teste. Nesse caso, você já usou o conjunto de teste para \"aprender\" algo (para normalizar, a gente usa o maior valor da feature na tabela). Logo, sua medida de $E_{out}$ não vale mais. \n",
    "\n",
    "O que fazer então? Nós usamos o __conjunto de validação__ (ou _hold-out set_).\n",
    "<br><br>\n",
    "<div>\n",
    "    <img src=\"images/treino_validacao.png\" width=500>\n",
    "</div>\n",
    "\n",
    "Com essa separação podemos treinar e validar nosso modelo sem necessitar usar o conjunto de teste e, dessa forma, assumir que o $E_{out}$ se __aproxima de certa forma do erro de generalização__.\n",
    "\n",
    "<img src=\"images/cv.png\" width=500 text=\"https://github.com/rasbt/python-machine-learning-book-3rd-edition/blob/master/ch06/ch06.ipynb\">\n",
    "\n",
    "\n",
    "Isso foi o que fizemos nas últimas aulas.\n",
    "\n",
    "Após validar e escolher o modelo, nós podemos juntar os dados de treino, validação e teste em uma única base, e treinarmos o modelo final. Entende-se que os erros do nosso algoritmo só tendem a diminuir, quando fazemos isso."
   ]
  },
  {
   "cell_type": "markdown",
   "metadata": {},
   "source": [
    "## 1) Validação cruzada (cross validation)\n",
    "\n",
    "O cross validation (CV) é uma das técnicas mais importantes no ferramental de um cientista de dados.\n",
    "\n",
    "Operacionalmente, o CV implementa diferentes conjuntos de treino e teste (aqui chamados de **validação**), criando efetivamente diferentes modelos treinados e avaliados em diferentes suconjuntos aleatórios (os chamados **folds**) da base de dados original. \n",
    "\n",
    "No fim, é possível inspecionar as métricas de interesse em cada fold, bem como ter uma ideia da performance média do modelo, olhando para **a distribuição das métricas de avaliação**.\n",
    "\n",
    "Note que este procedimento está intimamente relacionado com a avaliação da desejável habilidade de **generalização do modelo**!"
   ]
  },
  {
   "cell_type": "markdown",
   "metadata": {},
   "source": [
    "A forma mais comum de fazermos CV é através da técnica **k-fold**:\n",
    "\n",
    "<img src=https://scikit-learn.org/stable/_images/grid_search_cross_validation.png width=500>"
   ]
  },
  {
   "cell_type": "markdown",
   "metadata": {},
   "source": [
    "No extremo desta abordagem, podemos tomar o número $k$ de folds igual ao número de observações na base ($n$). Neste caso, utiliza-se **uma única** observação para teste, enquanto o resto do dataset é utilizado para treino. Essa abordagem é conhecida como **leave one out (LOO)**:\n",
    "\n",
    "<img src=https://assets.datacamp.com/production/repositories/3981/datasets/8a6236f142b1ee2e4a70aae2af9507c7c580f302/Screen%20Shot%202019-01-27%20at%209.25.41%20AM.png width=500>\n",
    "\n",
    "Note que o esforço computacional aumenta conforme $k$ aumenta, sendo máximo quando $k=n$. Por esse motivo, recomenda-se usar o LOO apenas nos casos em que o número de observções na base original é bem pequeno ($\\sim 10^2$).\n",
    "\n",
    "#### Como escolher o valor de k?\n",
    "- Um __k maior__ significa que cada modelo é treinado em um __conjunto de treinamento maior__ e testado em um conjunto de __validação menor__. Em teoria, isso deve levar a um erro de previsão __(bias) menor__, pois os modelos veem mais dados disponíveis. Porém, um K maior também vai consumir __mais tempo de treino__.\n",
    "\n",
    "- Um __k menor__ significa que o modelo é treinado em um __conjunto de treinamento menor__ e testado em um conjunto de __validação maior__. Aqui, o potencial para a distribuição de dados na validação diferir do conjunto de treinamento é maior e, portanto, devemos esperar um __erro de previsão mais alto__ em média.\n",
    "\n",
    "No gráfico abaixo, alguns dados gerados foram divididos em 3 (esquerda) e 10 (direita) folds. Cada linha representa o melhor modelo linear para um fold (ou seja, o modelo que teria o menor erro de previsão ao testar nesse fold). Quando k = 3, uma único fold tem uma distribuição altamente diferente dos outros dois. Isso pode ter um grande impacto no erro de previsão da validação cruzada. Quando k=10, alguns folds também podem diferir muito, mas, em média, o modelo estará mais próximo do modelo que, em geral, reduz mais o erro de previsão:\n",
    "\n",
    "<img src=\"images/kfolds.png\" text=\"https://cran.r-project.org/web/packages/cvms/vignettes/picking_the_number_of_folds_for_cross-validation.html\" width=700 />\n",
    "\n",
    "Uma abordagem para responder a essa pergunta é realizar uma análise de sensibilidade para diferentes valores de k. Ou seja, avalie o desempenho do mesmo modelo no mesmo conjunto de dados com diferentes valores de k e veja como eles se comparam (raramente isso é feito).\n",
    "\n",
    "Em geral, dividimos nosso dataset em 3, 5 ou 10 folds.\n",
    "\n",
    "Para se aprofundar no tema: https://stats.stackexchange.com/questions/61546/optimal-number-of-folds-in-k-fold-cross-validation-is-leave-one-out-cv-always\n"
   ]
  },
  {
   "cell_type": "markdown",
   "metadata": {},
   "source": [
    "### Sklearn\n",
    "\n",
    "Vamos implementar o procedimento de CV utilizando o sklearn!\n",
    "\n",
    "No [submódulo model_selection](https://scikit-learn.org/stable/modules/classes.html#module-sklearn.model_selection), temos três ferramentas muito importantes para o processo de CV:\n",
    "\n",
    "- [KFold](https://scikit-learn.org/stable/modules/generated/sklearn.model_selection.KFold.html#sklearn.model_selection.KFold): classe que cria os folds. Obs.: para fazer o LOO, basta colocar $k=n$ folds, ou então usar diretamente a classe que implementa o [LOO](https://scikit-learn.org/stable/modules/generated/sklearn.model_selection.LeaveOneOut.html#sklearn.model_selection.LeaveOneOut);\n",
    "\n",
    "- [Stratified K-Fold](https://scikit-learn.org/stable/modules/generated/sklearn.model_selection.StratifiedKFold.html?highlight=stratifiedkfold#sklearn.model_selection.StratifiedKFold): classe que cria os folds de forma estratificada, ou seja, preservando a proporção das classes em cada um dos folds;\n",
    "\n",
    "- [cross_validate](https://scikit-learn.org/stable/modules/generated/sklearn.model_selection.cross_validate.html#sklearn.model_selection.cross_validate): método que recebe os folds e os utiliza para o treinamento e avaliação cruzada de modelos, segundo a métrica definida.\n",
    "\n",
    "<img src=https://scikit-learn.org/stable/_images/sphx_glr_plot_cv_indices_006.png text=https://scikit-learn.org/stable/auto_examples/model_selection/plot_cv_indices.html>\n",
    "<img src=https://scikit-learn.org/stable/_images/sphx_glr_plot_cv_indices_009.png text=https://scikit-learn.org/stable/auto_examples/model_selection/plot_cv_indices.html>\n",
    "\n",
    "Para ilustrar o CV,  vamos utilizar os datasets artificiais que o sklearn proporciona:"
   ]
  },
  {
   "cell_type": "markdown",
   "metadata": {},
   "source": [
    "_______\n",
    "\n",
    "Vamos começar com um exemplo de **regressão**"
   ]
  },
  {
   "cell_type": "code",
   "execution_count": 2,
   "metadata": {},
   "outputs": [],
   "source": [
    "from sklearn.model_selection import train_test_split\n",
    "from sklearn.linear_model import LinearRegression"
   ]
  },
  {
   "cell_type": "code",
   "execution_count": 3,
   "metadata": {},
   "outputs": [
    {
     "data": {
      "text/html": [
       "<div>\n",
       "<style scoped>\n",
       "    .dataframe tbody tr th:only-of-type {\n",
       "        vertical-align: middle;\n",
       "    }\n",
       "\n",
       "    .dataframe tbody tr th {\n",
       "        vertical-align: top;\n",
       "    }\n",
       "\n",
       "    .dataframe thead th {\n",
       "        text-align: right;\n",
       "    }\n",
       "</style>\n",
       "<table border=\"1\" class=\"dataframe\">\n",
       "  <thead>\n",
       "    <tr style=\"text-align: right;\">\n",
       "      <th></th>\n",
       "      <th>X1</th>\n",
       "      <th>X2</th>\n",
       "      <th>X3</th>\n",
       "      <th>X4</th>\n",
       "      <th>X5</th>\n",
       "      <th>y</th>\n",
       "    </tr>\n",
       "  </thead>\n",
       "  <tbody>\n",
       "    <tr>\n",
       "      <th>0</th>\n",
       "      <td>-0.109610</td>\n",
       "      <td>0.546284</td>\n",
       "      <td>-0.088363</td>\n",
       "      <td>0.006422</td>\n",
       "      <td>-0.436386</td>\n",
       "      <td>79.870807</td>\n",
       "    </tr>\n",
       "    <tr>\n",
       "      <th>1</th>\n",
       "      <td>-1.024388</td>\n",
       "      <td>-0.926930</td>\n",
       "      <td>-0.252568</td>\n",
       "      <td>-0.059525</td>\n",
       "      <td>-3.241267</td>\n",
       "      <td>-115.324859</td>\n",
       "    </tr>\n",
       "    <tr>\n",
       "      <th>2</th>\n",
       "      <td>-2.650970</td>\n",
       "      <td>0.106430</td>\n",
       "      <td>1.091507</td>\n",
       "      <td>-0.254977</td>\n",
       "      <td>1.503993</td>\n",
       "      <td>35.552509</td>\n",
       "    </tr>\n",
       "    <tr>\n",
       "      <th>3</th>\n",
       "      <td>-0.850520</td>\n",
       "      <td>-0.138456</td>\n",
       "      <td>-0.580523</td>\n",
       "      <td>-1.224298</td>\n",
       "      <td>-0.209023</td>\n",
       "      <td>-145.413703</td>\n",
       "    </tr>\n",
       "    <tr>\n",
       "      <th>4</th>\n",
       "      <td>-0.322680</td>\n",
       "      <td>-0.756795</td>\n",
       "      <td>-0.250833</td>\n",
       "      <td>-1.421811</td>\n",
       "      <td>1.501334</td>\n",
       "      <td>-116.148875</td>\n",
       "    </tr>\n",
       "  </tbody>\n",
       "</table>\n",
       "</div>"
      ],
      "text/plain": [
       "         X1        X2        X3        X4        X5           y\n",
       "0 -0.109610  0.546284 -0.088363  0.006422 -0.436386   79.870807\n",
       "1 -1.024388 -0.926930 -0.252568 -0.059525 -3.241267 -115.324859\n",
       "2 -2.650970  0.106430  1.091507 -0.254977  1.503993   35.552509\n",
       "3 -0.850520 -0.138456 -0.580523 -1.224298 -0.209023 -145.413703\n",
       "4 -0.322680 -0.756795 -0.250833 -1.421811  1.501334 -116.148875"
      ]
     },
     "execution_count": 3,
     "metadata": {},
     "output_type": "execute_result"
    }
   ],
   "source": [
    "df = pd.read_csv('dados_modelo/exemplo_regressao.csv')\n",
    "df.head()"
   ]
  },
  {
   "cell_type": "code",
   "execution_count": 4,
   "metadata": {},
   "outputs": [],
   "source": [
    "X = df.drop(columns=['y'])\n",
    "y = df['y']"
   ]
  },
  {
   "cell_type": "code",
   "execution_count": 5,
   "metadata": {},
   "outputs": [],
   "source": [
    "X_train, X_test, y_train, y_test = train_test_split(X, y, test_size=0.2, random_state=42)"
   ]
  },
  {
   "cell_type": "code",
   "execution_count": 6,
   "metadata": {},
   "outputs": [
    {
     "data": {
      "text/html": [
       "<div>\n",
       "<style scoped>\n",
       "    .dataframe tbody tr th:only-of-type {\n",
       "        vertical-align: middle;\n",
       "    }\n",
       "\n",
       "    .dataframe tbody tr th {\n",
       "        vertical-align: top;\n",
       "    }\n",
       "\n",
       "    .dataframe thead th {\n",
       "        text-align: right;\n",
       "    }\n",
       "</style>\n",
       "<table border=\"1\" class=\"dataframe\">\n",
       "  <thead>\n",
       "    <tr style=\"text-align: right;\">\n",
       "      <th></th>\n",
       "      <th>X1</th>\n",
       "      <th>X2</th>\n",
       "      <th>X3</th>\n",
       "      <th>X4</th>\n",
       "      <th>X5</th>\n",
       "    </tr>\n",
       "  </thead>\n",
       "  <tbody>\n",
       "    <tr>\n",
       "      <th>count</th>\n",
       "      <td>400.000000</td>\n",
       "      <td>400.000000</td>\n",
       "      <td>400.000000</td>\n",
       "      <td>400.000000</td>\n",
       "      <td>400.000000</td>\n",
       "    </tr>\n",
       "    <tr>\n",
       "      <th>mean</th>\n",
       "      <td>0.044967</td>\n",
       "      <td>0.022925</td>\n",
       "      <td>0.067400</td>\n",
       "      <td>-0.028468</td>\n",
       "      <td>0.006883</td>\n",
       "    </tr>\n",
       "    <tr>\n",
       "      <th>std</th>\n",
       "      <td>0.950297</td>\n",
       "      <td>0.949412</td>\n",
       "      <td>0.998487</td>\n",
       "      <td>1.048410</td>\n",
       "      <td>0.939770</td>\n",
       "    </tr>\n",
       "    <tr>\n",
       "      <th>min</th>\n",
       "      <td>-2.562334</td>\n",
       "      <td>-2.703232</td>\n",
       "      <td>-3.019512</td>\n",
       "      <td>-2.940389</td>\n",
       "      <td>-3.241267</td>\n",
       "    </tr>\n",
       "    <tr>\n",
       "      <th>25%</th>\n",
       "      <td>-0.610014</td>\n",
       "      <td>-0.573617</td>\n",
       "      <td>-0.602655</td>\n",
       "      <td>-0.708278</td>\n",
       "      <td>-0.662693</td>\n",
       "    </tr>\n",
       "    <tr>\n",
       "      <th>50%</th>\n",
       "      <td>0.090084</td>\n",
       "      <td>0.032551</td>\n",
       "      <td>0.021889</td>\n",
       "      <td>-0.026913</td>\n",
       "      <td>0.016739</td>\n",
       "    </tr>\n",
       "    <tr>\n",
       "      <th>75%</th>\n",
       "      <td>0.658720</td>\n",
       "      <td>0.644112</td>\n",
       "      <td>0.737839</td>\n",
       "      <td>0.613122</td>\n",
       "      <td>0.634126</td>\n",
       "    </tr>\n",
       "    <tr>\n",
       "      <th>max</th>\n",
       "      <td>3.078881</td>\n",
       "      <td>3.109919</td>\n",
       "      <td>3.852731</td>\n",
       "      <td>2.558199</td>\n",
       "      <td>3.137749</td>\n",
       "    </tr>\n",
       "  </tbody>\n",
       "</table>\n",
       "</div>"
      ],
      "text/plain": [
       "               X1          X2          X3          X4          X5\n",
       "count  400.000000  400.000000  400.000000  400.000000  400.000000\n",
       "mean     0.044967    0.022925    0.067400   -0.028468    0.006883\n",
       "std      0.950297    0.949412    0.998487    1.048410    0.939770\n",
       "min     -2.562334   -2.703232   -3.019512   -2.940389   -3.241267\n",
       "25%     -0.610014   -0.573617   -0.602655   -0.708278   -0.662693\n",
       "50%      0.090084    0.032551    0.021889   -0.026913    0.016739\n",
       "75%      0.658720    0.644112    0.737839    0.613122    0.634126\n",
       "max      3.078881    3.109919    3.852731    2.558199    3.137749"
      ]
     },
     "execution_count": 6,
     "metadata": {},
     "output_type": "execute_result"
    }
   ],
   "source": [
    "X_train.describe()"
   ]
  },
  {
   "cell_type": "markdown",
   "metadata": {},
   "source": [
    "Vamos calcular a correlação entre as variáveis independentes:"
   ]
  },
  {
   "cell_type": "code",
   "execution_count": 7,
   "metadata": {
    "ExecuteTime": {
     "end_time": "2022-02-07T22:16:15.285682Z",
     "start_time": "2022-02-07T22:16:15.169715Z"
    }
   },
   "outputs": [
    {
     "data": {
      "text/plain": [
       "y     1.000000\n",
       "X2    0.728207\n",
       "X4    0.654894\n",
       "X5    0.170297\n",
       "X1    0.026012\n",
       "X3    0.010812\n",
       "Name: y, dtype: float64"
      ]
     },
     "execution_count": 7,
     "metadata": {},
     "output_type": "execute_result"
    }
   ],
   "source": [
    "df_temp = pd.concat([X_train, y_train], axis=1).corr()\n",
    "\n",
    "df_temp['y'].abs().sort_values(ascending=False)"
   ]
  },
  {
   "cell_type": "code",
   "execution_count": 8,
   "metadata": {},
   "outputs": [
    {
     "data": {
      "text/plain": [
       "<AxesSubplot:>"
      ]
     },
     "execution_count": 8,
     "metadata": {},
     "output_type": "execute_result"
    },
    {
     "data": {
      "image/png": "[encoded data removed]",
      "text/plain": [
       "<Figure size 432x288 with 2 Axes>"
      ]
     },
     "metadata": {
      "needs_background": "light"
     },
     "output_type": "display_data"
    }
   ],
   "source": [
    "sns.heatmap(df_temp, annot=True)"
   ]
  },
  {
   "cell_type": "markdown",
   "metadata": {},
   "source": [
    "Como é o pairplot desses dados?"
   ]
  },
  {
   "cell_type": "markdown",
   "metadata": {},
   "source": [
    "Os dados não têm variação de escala tão grande, então não nos preocuparemos em normaliza-los.\n",
    "\n",
    "**Mas nunca se esqueça que isso é bastante importante quando há grandes diferenças de escala!!**\n"
   ]
  },
  {
   "cell_type": "markdown",
   "metadata": {},
   "source": [
    "Agora, implementamos o CV com 5 folds:"
   ]
  },
  {
   "cell_type": "code",
   "execution_count": 9,
   "metadata": {
    "ExecuteTime": {
     "end_time": "2022-02-07T22:16:26.436821Z",
     "start_time": "2022-02-07T22:16:26.241730Z"
    }
   },
   "outputs": [],
   "source": [
    "from sklearn.model_selection import KFold"
   ]
  },
  {
   "cell_type": "code",
   "execution_count": 10,
   "metadata": {},
   "outputs": [],
   "source": [
    "kf = KFold(n_splits=5, shuffle=True, random_state=42)"
   ]
  },
  {
   "cell_type": "markdown",
   "metadata": {},
   "source": [
    "Como vimos acima, a classe KFold só gera os splits.\n",
    "\n",
    "Mas, na prática, vamos usar o `cross_validate()`, que tem o KFold como argumento!!!"
   ]
  },
  {
   "cell_type": "code",
   "execution_count": 11,
   "metadata": {
    "ExecuteTime": {
     "end_time": "2022-02-07T22:16:27.806140Z",
     "start_time": "2022-02-07T22:16:27.526470Z"
    }
   },
   "outputs": [],
   "source": [
    "from sklearn.model_selection import cross_validate\n",
    "from sklearn.linear_model import LinearRegression"
   ]
  },
  {
   "cell_type": "markdown",
   "metadata": {},
   "source": [
    "Vamos considerar nesse exemplo a métrica \"neg_mean_absolute_error\" e retornar o score do treino:"
   ]
  },
  {
   "cell_type": "code",
   "execution_count": 13,
   "metadata": {
    "ExecuteTime": {
     "end_time": "2022-02-07T22:16:28.267055Z",
     "start_time": "2022-02-07T22:16:27.810140Z"
    }
   },
   "outputs": [],
   "source": [
    "estimador = LinearRegression()\n",
    "\n",
    "kf5 = KFold(n_splits=5, shuffle=True, random_state=42)\n",
    "\n",
    "resultado_cv = cross_validate(estimator=estimador, X=X_train, y=y_train, \n",
    "                              scoring='neg_mean_absolute_error',\n",
    "                             cv=kf5, return_train_score=True)"
   ]
  },
  {
   "cell_type": "code",
   "execution_count": 14,
   "metadata": {},
   "outputs": [
    {
     "data": {
      "text/plain": [
       "{'fit_time': array([0.00169396, 0.00102615, 0.00061202, 0.00055099, 0.00053716]),\n",
       " 'score_time': array([0.00049996, 0.00043893, 0.00037622, 0.00036502, 0.00149083]),\n",
       " 'test_score': array([-20.84536878, -20.20615458, -19.53326373, -21.36598163,\n",
       "        -15.4900974 ]),\n",
       " 'train_score': array([-18.93848961, -19.05040951, -19.15834011, -18.78297146,\n",
       "        -20.16018709])}"
      ]
     },
     "execution_count": 14,
     "metadata": {},
     "output_type": "execute_result"
    }
   ],
   "source": [
    "resultado_cv"
   ]
  },
  {
   "cell_type": "code",
   "execution_count": 15,
   "metadata": {},
   "outputs": [
    {
     "data": {
      "text/plain": [
       "KFold(n_splits=5, random_state=42, shuffle=True)"
      ]
     },
     "execution_count": 15,
     "metadata": {},
     "output_type": "execute_result"
    }
   ],
   "source": [
    "kf5"
   ]
  },
  {
   "cell_type": "code",
   "execution_count": 16,
   "metadata": {},
   "outputs": [],
   "source": [
    "numeros = range(101, 126)"
   ]
  },
  {
   "cell_type": "code",
   "execution_count": 17,
   "metadata": {},
   "outputs": [
    {
     "name": "stdout",
     "output_type": "stream",
     "text": [
      "[ 1  2  3  4  5  6  7  9 10 12 13 14 15 17 18 19 20 21 22 24] [ 0  8 11 16 23]\n",
      "[ 0  2  3  4  6  7  8 10 11 12 14 15 16 17 18 19 20 21 23 24] [ 1  5  9 13 22]\n",
      "[ 0  1  5  6  7  8  9 10 11 13 14 16 17 18 19 20 21 22 23 24] [ 2  3  4 12 15]\n",
      "[ 0  1  2  3  4  5  6  7  8  9 10 11 12 13 14 15 16 19 22 23] [17 18 20 21 24]\n",
      "[ 0  1  2  3  4  5  8  9 11 12 13 15 16 17 18 20 21 22 23 24] [ 6  7 10 14 19]\n"
     ]
    }
   ],
   "source": [
    "for indice_train, indice_test in kf5.split(numeros):\n",
    "    print(indice_train, indice_test)"
   ]
  },
  {
   "cell_type": "markdown",
   "metadata": {},
   "source": [
    "Podemos converter o resultado em dataframe do pandas:"
   ]
  },
  {
   "cell_type": "code",
   "execution_count": 18,
   "metadata": {
    "ExecuteTime": {
     "end_time": "2022-02-07T22:16:28.466757Z",
     "start_time": "2022-02-07T22:16:28.301104Z"
    }
   },
   "outputs": [
    {
     "data": {
      "text/html": [
       "<div>\n",
       "<style scoped>\n",
       "    .dataframe tbody tr th:only-of-type {\n",
       "        vertical-align: middle;\n",
       "    }\n",
       "\n",
       "    .dataframe tbody tr th {\n",
       "        vertical-align: top;\n",
       "    }\n",
       "\n",
       "    .dataframe thead th {\n",
       "        text-align: right;\n",
       "    }\n",
       "</style>\n",
       "<table border=\"1\" class=\"dataframe\">\n",
       "  <thead>\n",
       "    <tr style=\"text-align: right;\">\n",
       "      <th></th>\n",
       "      <th>fit_time</th>\n",
       "      <th>score_time</th>\n",
       "      <th>test_score</th>\n",
       "      <th>train_score</th>\n",
       "    </tr>\n",
       "  </thead>\n",
       "  <tbody>\n",
       "    <tr>\n",
       "      <th>0</th>\n",
       "      <td>0.001694</td>\n",
       "      <td>0.000500</td>\n",
       "      <td>-20.845369</td>\n",
       "      <td>-18.938490</td>\n",
       "    </tr>\n",
       "    <tr>\n",
       "      <th>1</th>\n",
       "      <td>0.001026</td>\n",
       "      <td>0.000439</td>\n",
       "      <td>-20.206155</td>\n",
       "      <td>-19.050410</td>\n",
       "    </tr>\n",
       "    <tr>\n",
       "      <th>2</th>\n",
       "      <td>0.000612</td>\n",
       "      <td>0.000376</td>\n",
       "      <td>-19.533264</td>\n",
       "      <td>-19.158340</td>\n",
       "    </tr>\n",
       "    <tr>\n",
       "      <th>3</th>\n",
       "      <td>0.000551</td>\n",
       "      <td>0.000365</td>\n",
       "      <td>-21.365982</td>\n",
       "      <td>-18.782971</td>\n",
       "    </tr>\n",
       "    <tr>\n",
       "      <th>4</th>\n",
       "      <td>0.000537</td>\n",
       "      <td>0.001491</td>\n",
       "      <td>-15.490097</td>\n",
       "      <td>-20.160187</td>\n",
       "    </tr>\n",
       "  </tbody>\n",
       "</table>\n",
       "</div>"
      ],
      "text/plain": [
       "   fit_time  score_time  test_score  train_score\n",
       "0  0.001694    0.000500  -20.845369   -18.938490\n",
       "1  0.001026    0.000439  -20.206155   -19.050410\n",
       "2  0.000612    0.000376  -19.533264   -19.158340\n",
       "3  0.000551    0.000365  -21.365982   -18.782971\n",
       "4  0.000537    0.001491  -15.490097   -20.160187"
      ]
     },
     "execution_count": 18,
     "metadata": {},
     "output_type": "execute_result"
    }
   ],
   "source": [
    "df_result_cv = pd.DataFrame(resultado_cv)\n",
    "df_result_cv"
   ]
  },
  {
   "cell_type": "code",
   "execution_count": 19,
   "metadata": {},
   "outputs": [],
   "source": [
    "df_result_cv = df_result_cv.abs()"
   ]
  },
  {
   "cell_type": "markdown",
   "metadata": {},
   "source": [
    "Vamos olhar pros resultados mais de perto... O que podemos observar de cada um dos folds?"
   ]
  },
  {
   "cell_type": "code",
   "execution_count": 20,
   "metadata": {
    "ExecuteTime": {
     "end_time": "2022-02-07T22:16:28.607380Z",
     "start_time": "2022-02-07T22:16:28.469747Z"
    }
   },
   "outputs": [
    {
     "data": {
      "text/html": [
       "<div>\n",
       "<style scoped>\n",
       "    .dataframe tbody tr th:only-of-type {\n",
       "        vertical-align: middle;\n",
       "    }\n",
       "\n",
       "    .dataframe tbody tr th {\n",
       "        vertical-align: top;\n",
       "    }\n",
       "\n",
       "    .dataframe thead th {\n",
       "        text-align: right;\n",
       "    }\n",
       "</style>\n",
       "<table border=\"1\" class=\"dataframe\">\n",
       "  <thead>\n",
       "    <tr style=\"text-align: right;\">\n",
       "      <th></th>\n",
       "      <th>fit_time</th>\n",
       "      <th>score_time</th>\n",
       "      <th>test_score</th>\n",
       "      <th>train_score</th>\n",
       "    </tr>\n",
       "  </thead>\n",
       "  <tbody>\n",
       "    <tr>\n",
       "      <th>count</th>\n",
       "      <td>5.000000</td>\n",
       "      <td>5.000000</td>\n",
       "      <td>5.000000</td>\n",
       "      <td>5.000000</td>\n",
       "    </tr>\n",
       "    <tr>\n",
       "      <th>mean</th>\n",
       "      <td>0.000884</td>\n",
       "      <td>0.000634</td>\n",
       "      <td>19.488173</td>\n",
       "      <td>19.218080</td>\n",
       "    </tr>\n",
       "    <tr>\n",
       "      <th>std</th>\n",
       "      <td>0.000495</td>\n",
       "      <td>0.000482</td>\n",
       "      <td>2.338284</td>\n",
       "      <td>0.544688</td>\n",
       "    </tr>\n",
       "    <tr>\n",
       "      <th>min</th>\n",
       "      <td>0.000537</td>\n",
       "      <td>0.000365</td>\n",
       "      <td>15.490097</td>\n",
       "      <td>18.782971</td>\n",
       "    </tr>\n",
       "    <tr>\n",
       "      <th>25%</th>\n",
       "      <td>0.000551</td>\n",
       "      <td>0.000376</td>\n",
       "      <td>19.533264</td>\n",
       "      <td>18.938490</td>\n",
       "    </tr>\n",
       "    <tr>\n",
       "      <th>50%</th>\n",
       "      <td>0.000612</td>\n",
       "      <td>0.000439</td>\n",
       "      <td>20.206155</td>\n",
       "      <td>19.050410</td>\n",
       "    </tr>\n",
       "    <tr>\n",
       "      <th>75%</th>\n",
       "      <td>0.001026</td>\n",
       "      <td>0.000500</td>\n",
       "      <td>20.845369</td>\n",
       "      <td>19.158340</td>\n",
       "    </tr>\n",
       "    <tr>\n",
       "      <th>max</th>\n",
       "      <td>0.001694</td>\n",
       "      <td>0.001491</td>\n",
       "      <td>21.365982</td>\n",
       "      <td>20.160187</td>\n",
       "    </tr>\n",
       "  </tbody>\n",
       "</table>\n",
       "</div>"
      ],
      "text/plain": [
       "       fit_time  score_time  test_score  train_score\n",
       "count  5.000000    5.000000    5.000000     5.000000\n",
       "mean   0.000884    0.000634   19.488173    19.218080\n",
       "std    0.000495    0.000482    2.338284     0.544688\n",
       "min    0.000537    0.000365   15.490097    18.782971\n",
       "25%    0.000551    0.000376   19.533264    18.938490\n",
       "50%    0.000612    0.000439   20.206155    19.050410\n",
       "75%    0.001026    0.000500   20.845369    19.158340\n",
       "max    0.001694    0.001491   21.365982    20.160187"
      ]
     },
     "execution_count": 20,
     "metadata": {},
     "output_type": "execute_result"
    }
   ],
   "source": [
    "df_result_cv.describe()"
   ]
  },
  {
   "cell_type": "markdown",
   "metadata": {},
   "source": [
    "E na média e desvio padrão, como fica?"
   ]
  },
  {
   "cell_type": "code",
   "execution_count": 21,
   "metadata": {
    "ExecuteTime": {
     "end_time": "2022-02-07T22:16:28.782230Z",
     "start_time": "2022-02-07T22:16:28.611387Z"
    }
   },
   "outputs": [
    {
     "data": {
      "text/plain": [
       "<AxesSubplot:>"
      ]
     },
     "execution_count": 21,
     "metadata": {},
     "output_type": "execute_result"
    },
    {
     "data": {
      "image/png": "[encoded data removed]",
      "text/plain": [
       "<Figure size 432x288 with 1 Axes>"
      ]
     },
     "metadata": {
      "needs_background": "light"
     },
     "output_type": "display_data"
    }
   ],
   "source": [
    "df_result_cv['test_score'].hist()\n",
    "df_result_cv['train_score'].hist()"
   ]
  },
  {
   "cell_type": "markdown",
   "metadata": {},
   "source": [
    "Numa única celula:\n"
   ]
  },
  {
   "cell_type": "code",
   "execution_count": 22,
   "metadata": {
    "ExecuteTime": {
     "end_time": "2022-02-07T22:23:59.107785Z",
     "start_time": "2022-02-07T22:23:59.085792Z"
    }
   },
   "outputs": [],
   "source": [
    "estimador = LinearRegression()\n",
    "\n",
    "kf30 = KFold(n_splits=30, shuffle=True, random_state=42)\n",
    "\n",
    "resultado_cv = cross_validate(estimator=estimador, X=X_train, y=y_train, \n",
    "                              scoring='neg_mean_absolute_error',\n",
    "                             cv=kf30, return_train_score=True)\n",
    "\n",
    "df_result_cv = pd.DataFrame(resultado_cv)\n",
    "df_result_cv = df_result_cv.abs()"
   ]
  },
  {
   "cell_type": "markdown",
   "metadata": {},
   "source": [
    "Vamos agora aumentar a quantidade de folds para 30. É esperada alguma mudança?"
   ]
  },
  {
   "cell_type": "code",
   "execution_count": 23,
   "metadata": {
    "ExecuteTime": {
     "end_time": "2022-02-07T22:24:00.707928Z",
     "start_time": "2022-02-07T22:23:59.464639Z"
    },
    "scrolled": false
   },
   "outputs": [
    {
     "data": {
      "text/html": [
       "<div>\n",
       "<style scoped>\n",
       "    .dataframe tbody tr th:only-of-type {\n",
       "        vertical-align: middle;\n",
       "    }\n",
       "\n",
       "    .dataframe tbody tr th {\n",
       "        vertical-align: top;\n",
       "    }\n",
       "\n",
       "    .dataframe thead th {\n",
       "        text-align: right;\n",
       "    }\n",
       "</style>\n",
       "<table border=\"1\" class=\"dataframe\">\n",
       "  <thead>\n",
       "    <tr style=\"text-align: right;\">\n",
       "      <th></th>\n",
       "      <th>fit_time</th>\n",
       "      <th>score_time</th>\n",
       "      <th>test_score</th>\n",
       "      <th>train_score</th>\n",
       "    </tr>\n",
       "  </thead>\n",
       "  <tbody>\n",
       "    <tr>\n",
       "      <th>count</th>\n",
       "      <td>30.000000</td>\n",
       "      <td>30.000000</td>\n",
       "      <td>30.000000</td>\n",
       "      <td>30.000000</td>\n",
       "    </tr>\n",
       "    <tr>\n",
       "      <th>mean</th>\n",
       "      <td>0.000606</td>\n",
       "      <td>0.000378</td>\n",
       "      <td>19.578270</td>\n",
       "      <td>19.246443</td>\n",
       "    </tr>\n",
       "    <tr>\n",
       "      <th>std</th>\n",
       "      <td>0.000162</td>\n",
       "      <td>0.000084</td>\n",
       "      <td>4.107275</td>\n",
       "      <td>0.144776</td>\n",
       "    </tr>\n",
       "    <tr>\n",
       "      <th>min</th>\n",
       "      <td>0.000458</td>\n",
       "      <td>0.000311</td>\n",
       "      <td>12.334666</td>\n",
       "      <td>18.902230</td>\n",
       "    </tr>\n",
       "    <tr>\n",
       "      <th>25%</th>\n",
       "      <td>0.000485</td>\n",
       "      <td>0.000328</td>\n",
       "      <td>16.348630</td>\n",
       "      <td>19.151702</td>\n",
       "    </tr>\n",
       "    <tr>\n",
       "      <th>50%</th>\n",
       "      <td>0.000534</td>\n",
       "      <td>0.000340</td>\n",
       "      <td>19.312427</td>\n",
       "      <td>19.251370</td>\n",
       "    </tr>\n",
       "    <tr>\n",
       "      <th>75%</th>\n",
       "      <td>0.000645</td>\n",
       "      <td>0.000390</td>\n",
       "      <td>22.329986</td>\n",
       "      <td>19.358777</td>\n",
       "    </tr>\n",
       "    <tr>\n",
       "      <th>max</th>\n",
       "      <td>0.001061</td>\n",
       "      <td>0.000655</td>\n",
       "      <td>28.876091</td>\n",
       "      <td>19.471281</td>\n",
       "    </tr>\n",
       "  </tbody>\n",
       "</table>\n",
       "</div>"
      ],
      "text/plain": [
       "        fit_time  score_time  test_score  train_score\n",
       "count  30.000000   30.000000   30.000000    30.000000\n",
       "mean    0.000606    0.000378   19.578270    19.246443\n",
       "std     0.000162    0.000084    4.107275     0.144776\n",
       "min     0.000458    0.000311   12.334666    18.902230\n",
       "25%     0.000485    0.000328   16.348630    19.151702\n",
       "50%     0.000534    0.000340   19.312427    19.251370\n",
       "75%     0.000645    0.000390   22.329986    19.358777\n",
       "max     0.001061    0.000655   28.876091    19.471281"
      ]
     },
     "execution_count": 23,
     "metadata": {},
     "output_type": "execute_result"
    }
   ],
   "source": [
    "df_result_cv.describe()"
   ]
  },
  {
   "cell_type": "code",
   "execution_count": 24,
   "metadata": {},
   "outputs": [
    {
     "data": {
      "text/plain": [
       "<AxesSubplot:>"
      ]
     },
     "execution_count": 24,
     "metadata": {},
     "output_type": "execute_result"
    },
    {
     "data": {
      "image/png": "[encoded data removed]",
      "text/plain": [
       "<Figure size 432x288 with 1 Axes>"
      ]
     },
     "metadata": {
      "needs_background": "light"
     },
     "output_type": "display_data"
    }
   ],
   "source": [
    "df_result_cv['test_score'].hist()\n",
    "df_result_cv['train_score'].hist()"
   ]
  },
  {
   "cell_type": "code",
   "execution_count": 25,
   "metadata": {
    "ExecuteTime": {
     "end_time": "2022-02-07T22:30:57.080032Z",
     "start_time": "2022-02-07T22:30:57.058047Z"
    }
   },
   "outputs": [],
   "source": [
    "features = ['X1', 'X2', 'X3', 'X4', 'X5']\n",
    "target = 'y'"
   ]
  },
  {
   "cell_type": "code",
   "execution_count": 26,
   "metadata": {},
   "outputs": [],
   "source": [
    "from sklearn.metrics import mean_absolute_error"
   ]
  },
  {
   "cell_type": "code",
   "execution_count": 27,
   "metadata": {},
   "outputs": [],
   "source": [
    "estimador = LinearRegression()"
   ]
  },
  {
   "cell_type": "code",
   "execution_count": 28,
   "metadata": {},
   "outputs": [
    {
     "name": "stdout",
     "output_type": "stream",
     "text": [
      "Numero Fold 1 16.681597268240253\n",
      "Numero Fold 2 19.371606408540224\n",
      "Numero Fold 3 24.08620350261631\n",
      "Numero Fold 4 24.637821514734284\n",
      "Numero Fold 5 19.272479389589037\n",
      "Numero Fold 6 20.448363713706037\n",
      "Numero Fold 7 22.1052586164551\n",
      "Numero Fold 8 18.083462919526795\n",
      "Numero Fold 9 16.468918854395\n",
      "Numero Fold 10 21.01795670643853\n",
      "Numero Fold 11 24.1149332048246\n",
      "Numero Fold 12 17.060185156993743\n",
      "Numero Fold 13 23.69454986590866\n",
      "Numero Fold 14 18.59120760922092\n",
      "Numero Fold 15 17.292585367104078\n",
      "Numero Fold 16 16.03657162120282\n",
      "Numero Fold 17 17.564466108009867\n",
      "Numero Fold 18 20.681508601740088\n",
      "Numero Fold 19 17.426161132091515\n",
      "Numero Fold 20 18.837286227462442\n",
      "Numero Fold 21 21.923329499932162\n",
      "Numero Fold 22 20.895981887688407\n",
      "Numero Fold 23 12.241996573349024\n",
      "Numero Fold 24 24.761267472191832\n",
      "Numero Fold 25 20.48150697860064\n",
      "Numero Fold 26 22.542087714191016\n",
      "Numero Fold 27 12.592510505734017\n",
      "Numero Fold 28 20.201818008575614\n",
      "Numero Fold 29 23.61466871333841\n",
      "Numero Fold 30 22.220696302032348\n"
     ]
    }
   ],
   "source": [
    "i = 1\n",
    "for indice_train, indice_test in kf30.split(X):\n",
    "    X_train = df.iloc[indice_train].loc[:, features]\n",
    "    X_test = df.iloc[indice_test].loc[:, features]\n",
    "    y_train = df.iloc[indice_train].loc[:, target]\n",
    "    y_test = df.loc[indice_test][target]\n",
    "    \n",
    "    estimador.fit(X_train, y_train)\n",
    "    \n",
    "    print(f'Numero Fold {i} {mean_absolute_error(y_test, estimador.predict(X_test))}')\n",
    "    i += 1"
   ]
  },
  {
   "cell_type": "markdown",
   "metadata": {},
   "source": [
    "______\n",
    "_____\n",
    "____"
   ]
  },
  {
   "cell_type": "markdown",
   "metadata": {},
   "source": [
    "E quanto a quantidade de observações?"
   ]
  },
  {
   "cell_type": "code",
   "execution_count": 29,
   "metadata": {},
   "outputs": [],
   "source": [
    "from sklearn.linear_model import LinearRegression\n",
    "from sklearn.model_selection import train_test_split\n",
    "from sklearn.metrics import mean_absolute_error"
   ]
  },
  {
   "cell_type": "code",
   "execution_count": 30,
   "metadata": {},
   "outputs": [],
   "source": [
    "from sklearn.model_selection import learning_curve"
   ]
  },
  {
   "cell_type": "code",
   "execution_count": 31,
   "metadata": {},
   "outputs": [
    {
     "data": {
      "text/html": [
       "<div>\n",
       "<style scoped>\n",
       "    .dataframe tbody tr th:only-of-type {\n",
       "        vertical-align: middle;\n",
       "    }\n",
       "\n",
       "    .dataframe tbody tr th {\n",
       "        vertical-align: top;\n",
       "    }\n",
       "\n",
       "    .dataframe thead th {\n",
       "        text-align: right;\n",
       "    }\n",
       "</style>\n",
       "<table border=\"1\" class=\"dataframe\">\n",
       "  <thead>\n",
       "    <tr style=\"text-align: right;\">\n",
       "      <th></th>\n",
       "      <th>X1</th>\n",
       "      <th>X2</th>\n",
       "      <th>X3</th>\n",
       "      <th>X4</th>\n",
       "      <th>X5</th>\n",
       "      <th>y</th>\n",
       "    </tr>\n",
       "  </thead>\n",
       "  <tbody>\n",
       "    <tr>\n",
       "      <th>0</th>\n",
       "      <td>-0.109610</td>\n",
       "      <td>0.546284</td>\n",
       "      <td>-0.088363</td>\n",
       "      <td>0.006422</td>\n",
       "      <td>-0.436386</td>\n",
       "      <td>79.870807</td>\n",
       "    </tr>\n",
       "    <tr>\n",
       "      <th>1</th>\n",
       "      <td>-1.024388</td>\n",
       "      <td>-0.926930</td>\n",
       "      <td>-0.252568</td>\n",
       "      <td>-0.059525</td>\n",
       "      <td>-3.241267</td>\n",
       "      <td>-115.324859</td>\n",
       "    </tr>\n",
       "    <tr>\n",
       "      <th>2</th>\n",
       "      <td>-2.650970</td>\n",
       "      <td>0.106430</td>\n",
       "      <td>1.091507</td>\n",
       "      <td>-0.254977</td>\n",
       "      <td>1.503993</td>\n",
       "      <td>35.552509</td>\n",
       "    </tr>\n",
       "    <tr>\n",
       "      <th>3</th>\n",
       "      <td>-0.850520</td>\n",
       "      <td>-0.138456</td>\n",
       "      <td>-0.580523</td>\n",
       "      <td>-1.224298</td>\n",
       "      <td>-0.209023</td>\n",
       "      <td>-145.413703</td>\n",
       "    </tr>\n",
       "    <tr>\n",
       "      <th>4</th>\n",
       "      <td>-0.322680</td>\n",
       "      <td>-0.756795</td>\n",
       "      <td>-0.250833</td>\n",
       "      <td>-1.421811</td>\n",
       "      <td>1.501334</td>\n",
       "      <td>-116.148875</td>\n",
       "    </tr>\n",
       "  </tbody>\n",
       "</table>\n",
       "</div>"
      ],
      "text/plain": [
       "         X1        X2        X3        X4        X5           y\n",
       "0 -0.109610  0.546284 -0.088363  0.006422 -0.436386   79.870807\n",
       "1 -1.024388 -0.926930 -0.252568 -0.059525 -3.241267 -115.324859\n",
       "2 -2.650970  0.106430  1.091507 -0.254977  1.503993   35.552509\n",
       "3 -0.850520 -0.138456 -0.580523 -1.224298 -0.209023 -145.413703\n",
       "4 -0.322680 -0.756795 -0.250833 -1.421811  1.501334 -116.148875"
      ]
     },
     "execution_count": 31,
     "metadata": {},
     "output_type": "execute_result"
    }
   ],
   "source": [
    "df = pd.read_csv('dados_modelo/exemplo_regressao.csv')\n",
    "df.head()"
   ]
  },
  {
   "cell_type": "code",
   "execution_count": 32,
   "metadata": {},
   "outputs": [],
   "source": [
    "X = df.drop(columns=['y'])\n",
    "y = df['y']"
   ]
  },
  {
   "cell_type": "code",
   "execution_count": 33,
   "metadata": {},
   "outputs": [],
   "source": [
    "X_train, X_test, y_train, y_test = train_test_split(X, y, test_size=0.2, random_state=42)"
   ]
  },
  {
   "cell_type": "code",
   "execution_count": 34,
   "metadata": {},
   "outputs": [
    {
     "data": {
      "text/plain": [
       "(400, 5)"
      ]
     },
     "execution_count": 34,
     "metadata": {},
     "output_type": "execute_result"
    }
   ],
   "source": [
    "X_train.shape"
   ]
  },
  {
   "cell_type": "code",
   "execution_count": 35,
   "metadata": {},
   "outputs": [
    {
     "data": {
      "text/plain": [
       "array([0.1, 0.2, 0.3, 0.4, 0.5, 0.6, 0.7, 0.8, 0.9, 1. ])"
      ]
     },
     "execution_count": 35,
     "metadata": {},
     "output_type": "execute_result"
    }
   ],
   "source": [
    "np.linspace(0.1, 1, 10)"
   ]
  },
  {
   "cell_type": "code",
   "execution_count": 36,
   "metadata": {},
   "outputs": [
    {
     "data": {
      "text/plain": [
       "array([ 40.,  80., 120., 160., 200., 240., 280., 320., 360., 400.])"
      ]
     },
     "execution_count": 36,
     "metadata": {},
     "output_type": "execute_result"
    }
   ],
   "source": [
    "np.linspace(0.1, 1, 10) * X_train.shape[0]"
   ]
  },
  {
   "cell_type": "code",
   "execution_count": 37,
   "metadata": {},
   "outputs": [],
   "source": [
    "estimador = LinearRegression()"
   ]
  },
  {
   "cell_type": "markdown",
   "metadata": {},
   "source": [
    "import sklearn\n",
    "sklearn.metrics.get_scorer_names()"
   ]
  },
  {
   "cell_type": "code",
   "execution_count": 38,
   "metadata": {},
   "outputs": [],
   "source": [
    "train_sizes_abs, train_scores, test_scores = learning_curve(estimator=estimador, \n",
    "               X=X_train, y=y_train, \n",
    "               train_sizes=np.linspace(0.1, 1, 10),\n",
    "              scoring='neg_mean_absolute_error',\n",
    "            cv=5)"
   ]
  },
  {
   "cell_type": "code",
   "execution_count": 39,
   "metadata": {},
   "outputs": [
    {
     "data": {
      "text/plain": [
       "array([ 32,  64,  96, 128, 160, 192, 224, 256, 288, 320])"
      ]
     },
     "execution_count": 39,
     "metadata": {},
     "output_type": "execute_result"
    }
   ],
   "source": [
    "train_sizes_abs"
   ]
  },
  {
   "cell_type": "code",
   "execution_count": 40,
   "metadata": {
    "scrolled": true
   },
   "outputs": [
    {
     "data": {
      "text/plain": [
       "array([[-21.93632208, -24.23471545, -21.50960919, -22.85222903,\n",
       "        -22.87952086],\n",
       "       [-20.44679678, -22.12695351, -20.02441234, -22.32648152,\n",
       "        -22.03972954],\n",
       "       [-20.71198081, -20.07069889, -17.93344114, -20.59786536,\n",
       "        -20.76500231],\n",
       "       [-20.42188429, -20.72100633, -17.79087577, -20.37165284,\n",
       "        -20.6886544 ],\n",
       "       [-20.24207289, -20.01808872, -17.69799096, -20.06483883,\n",
       "        -20.35566359],\n",
       "       [-20.42971842, -19.47111047, -17.78310192, -19.92514979,\n",
       "        -20.12458215],\n",
       "       [-20.35250479, -19.64582263, -17.58460806, -20.18547471,\n",
       "        -20.06906023],\n",
       "       [-20.39438305, -19.7605425 , -17.5569511 , -20.00842244,\n",
       "        -20.08638988],\n",
       "       [-20.29810666, -19.64420063, -17.45069132, -20.13525203,\n",
       "        -20.18379314],\n",
       "       [-20.37749986, -19.72261793, -17.48433345, -19.89534079,\n",
       "        -20.15690081]])"
      ]
     },
     "execution_count": 40,
     "metadata": {},
     "output_type": "execute_result"
    }
   ],
   "source": [
    "test_scores"
   ]
  },
  {
   "cell_type": "code",
   "execution_count": 41,
   "metadata": {},
   "outputs": [
    {
     "data": {
      "text/plain": [
       "Text(0, 0.5, 'Mean Absolute Error')"
      ]
     },
     "execution_count": 41,
     "metadata": {},
     "output_type": "execute_result"
    },
    {
     "data": {
      "image/png": "[encoded data removed]",
      "text/plain": [
       "<Figure size 432x288 with 1 Axes>"
      ]
     },
     "metadata": {
      "needs_background": "light"
     },
     "output_type": "display_data"
    }
   ],
   "source": [
    "plt.plot(train_sizes_abs, -test_scores.mean(1), color='b')\n",
    "plt.plot(train_sizes_abs, -train_scores.mean(1), color='r')\n",
    "\n",
    "\n",
    "plt.xlabel('Test Sizes')\n",
    "plt.ylabel('Mean Absolute Error')"
   ]
  }
 ],
 "metadata": {
  "kernelspec": {
   "display_name": "Python 3.9.12 ('base')",
   "language": "python",
   "name": "python3"
  },
  "language_info": {
   "codemirror_mode": {
    "name": "ipython",
    "version": 3
   },
   "file_extension": ".py",
   "mimetype": "text/x-python",
   "name": "python",
   "nbconvert_exporter": "python",
   "pygments_lexer": "ipython3",
   "version": "3.9.12"
  },
  "toc": {
   "base_numbering": 1,
   "nav_menu": {
    "height": "249.667px",
    "width": "359.667px"
   },
   "number_sections": true,
   "sideBar": true,
   "skip_h1_title": false,
   "title_cell": "Table of Contents",
   "title_sidebar": "Contents",
   "toc_cell": false,
   "toc_position": {},
   "toc_section_display": true,
   "toc_window_display": false
  },
  "varInspector": {
   "cols": {
    "lenName": 16,
    "lenType": 16,
    "lenVar": 40
   },
   "kernels_config": {
    "python": {
     "delete_cmd_postfix": "",
     "delete_cmd_prefix": "del ",
     "library": "var_list.py",
     "varRefreshCmd": "print(var_dic_list())"
    },
    "r": {
     "delete_cmd_postfix": ") ",
     "delete_cmd_prefix": "rm(",
     "library": "var_list.r",
     "varRefreshCmd": "cat(var_dic_list()) "
    }
   },
   "types_to_exclude": [
    "module",
    "function",
    "builtin_function_or_method",
    "instance",
    "_Feature"
   ],
   "window_display": false
  },
  "vscode": {
   "interpreter": {
    "hash": "cea1ecbc9060237308d6f43d2a8f2f7ecb9842b1b44e6cce898a5c7b51f4cadd"
   }
  }
 },
 "nbformat": 4,
 "nbformat_minor": 2
}
