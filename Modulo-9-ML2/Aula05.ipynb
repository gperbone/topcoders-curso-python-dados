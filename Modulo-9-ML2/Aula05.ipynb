{
 "cells": [
  {
   "cell_type": "markdown",
   "id": "0dcc20e3",
   "metadata": {},
   "source": [
    "# Planejamento\n",
    "#### Finalização do curso: 25/11\n",
    "- Participação do Reginaldo\n",
    "- Participação da Michelle\n",
    "- Retrospectiva do curso\n",
    "- Próximos passos\n",
    "- Apresentação do Projeto (10 min)\n",
    "    - Quais as principais dificuldades\n",
    "    - Listar quais técnicas foram aplicadas\n",
    "- Avaliação de Rubricas\n",
    "  \n",
    "#### Hoje\n",
    "- Trabalhar no projeto: 19h - 20h\n",
    "    - Organizar o que será feito\n",
    "    - Divisão das tarefas\n",
    "- Finalização do algoritmo KMeans"
   ]
  }
 ],
 "metadata": {
  "kernelspec": {
   "display_name": "Python 3 (ipykernel)",
   "language": "python",
   "name": "python3"
  },
  "language_info": {
   "codemirror_mode": {
    "name": "ipython",
    "version": 3
   },
   "file_extension": ".py",
   "mimetype": "text/x-python",
   "name": "python",
   "nbconvert_exporter": "python",
   "pygments_lexer": "ipython3",
   "version": "3.10.6"
  }
 },
 "nbformat": 4,
 "nbformat_minor": 5
}
