{
 "cells": [
  {
   "cell_type": "markdown",
   "metadata": {},
   "source": [
    "# DBSCAN\n",
    "\n",
    "Na aula de hoje, vamos explorar os seguintes tópicos em Python:\n",
    "\n",
    "- 1) DBSCAN\n",
    "- 2) Aplicação - clusterização de estações"
   ]
  },
  {
   "cell_type": "markdown",
   "metadata": {},
   "source": [
    "## 1) DBSCAN\n",
    "\n",
    "O DBSCAN é um algoritmo de clusterização baseado no conceito de **densidade**.\n",
    "\n",
    "O nome do algoritmo é uma sigla, que explica bem seu funcionamento: **D**ensity-**B**ased **S**patial **C**lustering of **A**pplications with **N**oise.\n",
    "\n",
    "O algoritmo foi proposto com o objetivo de proporcionar uma técnica de clusterização que possa funcionar **mesmo quando os clusters a serem criados não forem uniformes**, tendo **tamanho, forma e densidade variáveis**. \n",
    "\n",
    "Além disso, por construção o método funciona bem em contextos em que há **ruídos/outliers**, sendo capaz de detectá-los sem influenciar a criação dos clusters. \n",
    "\n",
    "Por fim, uma vantagem enorme é o fato do algoritmo **não demandar a determinação prévia da quantidade de clusters**, o que é uma vantagem interessante se não houver indicações do problema de negócio para esta determinação (embora, como veremos, ainda há hiperparâmetros importantes a serem determinados).\n",
    "\n",
    "Vamos entender o funcionamento do algoritmo mais a fundo!"
   ]
  },
  {
   "cell_type": "markdown",
   "metadata": {},
   "source": [
    "O DBSCAN tem como princípio fundamental a **determinação de regiões de alta densidade de observações**, que são **separadas entre si por regiões de baixa densidade**.\n",
    "\n",
    "Lembrando que, por ser um algoritmo não-supervisionado de clusterização, quando nos referimos à \"regiões\" cuja densidade será aferida, estamos nos referindo a regiões **do espaço de features**.\n",
    "\n",
    "Uma pergunta natural é: **como determinar a densidade de uma região?** Para responder esta pergunta, precisamos de algumas definições:\n",
    "\n",
    "> **Densidade em um ponto $P$:** número de pontos dentro de um círculo de raio $\\epsilon$ centrado no ponto $P$ (região chamada de vizinhança-$\\epsilon$ de $P$);\n",
    "\n",
    "> **Região densa**: dizemos que uma região é densa se o círculo de raio $\\epsilon$ contém pelo menos um número mínimo de pontos (que chamaremos de $\\text{minPts}$. Uma região densa **formará um cluster**."
   ]
  },
  {
   "cell_type": "markdown",
   "metadata": {},
   "source": [
    "Para visualizar as definições acima, considere a figura a seguir:\n",
    "\n",
    "<img src=https://www.researchgate.net/publication/315326812/figure/fig2/AS:473095908663297@1489806262333/A-cluster-consists-of-core-points-red-and-border-points-green-Core-points-have-at.png width=500>\n",
    "\n",
    "<img src=https://www.researchgate.net/publication/335485895/figure/fig2/AS:797412515909651@1567129367940/A-single-DBSCAN-cluster-with-Core-Border-and-Noise-Points.ppm width=500>"
   ]
  },
  {
   "cell_type": "markdown",
   "metadata": {},
   "source": [
    "Dada a definição acima, podemos classificar pontos dentro de um cluster como:\n",
    "\n",
    "> **Core points (pontoa centrais)**: são pontos que estão no interior dos clusters (regiões densas). Matematicamente, um ponto é considerado core **se sua densidade é de pelo menos $\\text{minPts}$**, ou seja, se **há pelo menos $\\text{minPts}$ pontos dentro do círculo de raio $\\epsilon$ centrado no ponto**.\n",
    "\n",
    "> **Border points (pontos de fronteira)**: são pontos que estão na fronteira de um cluster. Matematicamente, estes pontos **têm densidade menor que $\\text{minPts}$**, mas que **fazem parte da vizinhança-$\\epsilon$ de um ponto central**.\n",
    "\n",
    "> **Noisy points (pontos de ruído/outliers)**: são pontos que não são centrais nem de fronteira. Estes pontos não fazem parte do cluster, e são considerados outliers.\n"
   ]
  },
  {
   "cell_type": "markdown",
   "metadata": {},
   "source": [
    "Olhando para as definições acima, e pras figuras, fica claro que $\\epsilon$ e $\\text{minPts}$ são os hiperparâmetros do modelo -- e que os clusters gerados são fortemente dependentes destes hiperparâmetros!\n",
    "\n",
    "\n",
    "> - $\\epsilon$ (`eps` no sklearn): determina o quão próximos (relativo a uma dada **métrica de distância**) os pontos devem estar entre si para serem considerados vizinhos, e, eventualmente, parte de um cluster. Na prática, **se a distância entre dois pontos for menor ou igual a $\\epsilon$, os pontos serão considerados vizinhos**;\n",
    "<br><br>\n",
    ">Se o valor de `eps` for muito pequeno, grande parte dos dados não serão clusterizados - muitos pontos serão considerados outliers, pois não haverá vizinhos suficientes para gerar uma região densa;<br><br>\n",
    ">Por outro lado, se o valor de `eps` for muito grande, os clusters se fundirão, e a maioria dos pontos estarão em um único, grande cluster.<br><br>\n",
    ">Portanto, a escolha de `eps` está muito relacionada com **a escala** das features, o que demanda cuidadosa análise exploratória.<br><br>\n",
    ">Além disso, note que o  `eps` depende também fortemente da **métrica de distância** (`metric` no sklearn) a ser utilizada.\n",
    "\n",
    "\n",
    "> - $\\text{minPts}$ (`min_samples` no sklearn): o número mínimo de pontos que devem ser vizinhos para formar uma região densa, que será um cluster.\n",
    "<br><br>\n",
    "Valores maiores de `min_samples` são preferíveis para datasets com outliers, formando clusters mais significativos (isto é, um cluster só será formado se realmente tiver uma alta densidade).\n",
    "\n",
    "Para algumas dicas práticas de como estimar bons valores para os hiper-parâmetros, [clique aqui](https://en.wikipedia.org/wiki/DBSCAN#Parameter_estimation).\n",
    "\n"
   ]
  },
  {
   "cell_type": "markdown",
   "metadata": {},
   "source": [
    "__________\n",
    "\n",
    "Agora que entendemos os princípios e principais hiperparâmetros do DBSCAN, vamos agora entender os passos do algoritmo (que é bem simples!)\n",
    "\n",
    "> **Passo 1**: o algoritmo escolhe aleatoriamente um dos pontos, e sua vizinhança-$\\epsilon$ é calculada;\n",
    "\n",
    "> **Passo 2**: se este ponto tem $\\text{minPts}$ em sua vizinhança-$\\epsilon$, a formação do cluster é iniciada (veja próximo passo). Se não, o ponto é marcado como outlier (mas pode ser considerado como border point de um outro cluster posteriormente). Se for um outlier, volte ao passo 1;\n",
    "\n",
    "> **Passo 3**: se o ponto for um core point, todos os pontos na vizinhança são agregados ao cluster, e o passo 1 é aplicado a cada um deles;\n",
    "\n",
    "> **Passo 4**: o processo do passo 3 é continuado até que todos os pontos tenham um cluster associado, ou seja marcado como noise."
   ]
  },
  {
   "cell_type": "markdown",
   "metadata": {},
   "source": [
    "Podemos visualizar a seguir o DBSCAN em funcionamento:\n",
    "\n",
    "\n",
    "<img src=\"http://data-analysis-stats.jp/wp-content/uploads/2019/09/DBSCAN_01.gif\" width=400>\n",
    "\n",
    "\n",
    "<img src=https://i.pinimg.com/originals/bb/3d/5e/bb3d5e522cbcb2dd07a81f8118de2041.gif width=500>\n"
   ]
  },
  {
   "cell_type": "markdown",
   "metadata": {},
   "source": [
    "A classe do sklearn é esta: [DBSCAN](https://scikit-learn.org/stable/modules/generated/sklearn.cluster.DBSCAN.html)\n"
   ]
  },
  {
   "cell_type": "markdown",
   "metadata": {},
   "source": [
    "Vamos agora ver o DBSCAN em ação, com o mesmo dataset artificial da aula passada!"
   ]
  },
  {
   "cell_type": "markdown",
   "metadata": {},
   "source": [
    "____\n"
   ]
  },
  {
   "cell_type": "markdown",
   "metadata": {},
   "source": [
    "<a href=\"https://www.naftaliharris.com/blog/visualizing-dbscan-clustering/\">DBSCAN Interactive Graph</a>\n",
    "  \n",
    "    \n",
    "![](https://upload.wikimedia.org/wikipedia/commons/thumb/0/05/DBSCAN-density-data.svg/353px-DBSCAN-density-data.svg.png)\n",
    "\n",
    "\n",
    "\n",
    "DBSCAN apresenta algumas grandes vantagens sobre outros algoritmos de agrupamento:\n",
    "- Em primeiro lugar, ele não requer um número pré-selecionado de clusters.\n",
    "- Ele também identifica outliers como ruídos, ao contrário do deslocamento da média, que simplesmente os joga em um cluster, mesmo se o ponto de dados for muito diferente.\n",
    "- Além disso, ele pode encontrar clusters de tamanhos e formatos arbitrários muito bem.\n",
    "\n",
    "A principal desvantagem do DBSCAN é que ele não funciona tão bem quanto os outros quando os clusters são de **densidade variável**. Isso ocorre porque a configuração do limite de distância ε e minPoints para identificar os pontos de vizinhança irá variar de cluster para cluster quando a densidade varia. Esta desvantagem também ocorre com dados dimensionais muito elevados, uma vez que novamente o limite de distância ε torna-se difícil de estimar."
   ]
  },
  {
   "cell_type": "code",
   "execution_count": 24,
   "metadata": {
    "ExecuteTime": {
     "end_time": "2022-03-07T23:07:57.233332Z",
     "start_time": "2022-03-07T23:07:56.902533Z"
    }
   },
   "outputs": [],
   "source": [
    "import pandas as pd\n",
    "import numpy as np\n",
    "\n",
    "from sklearn.preprocessing import StandardScaler\n",
    "\n",
    "from sklearn.datasets import make_blobs\n",
    "from matplotlib import pyplot as plt\n",
    "import seaborn as sns"
   ]
  },
  {
   "cell_type": "code",
   "execution_count": 2,
   "metadata": {
    "scrolled": false
   },
   "outputs": [
    {
     "data": {
      "text/plain": [
       "array([[ 8.36856841e-01,  2.13635938e+00],\n",
       "       [-1.41365810e+00,  7.40962324e+00],\n",
       "       [ 1.15521298e+00,  5.09961887e+00],\n",
       "       [-1.01861632e+00,  7.81491465e+00],\n",
       "       [ 1.27135141e+00,  1.89254207e+00],\n",
       "       [ 3.43761754e+00,  2.61654166e-01],\n",
       "       [-1.80822253e+00,  1.59701749e+00],\n",
       "       [ 1.41372442e+00,  4.38117707e+00],\n",
       "       [-2.04932168e-01,  8.43209665e+00],\n",
       "       [-7.11099611e-01,  8.66043846e+00],\n",
       "       [-1.71237268e+00,  2.77780226e+00],\n",
       "       [-2.67000792e+00,  8.35389140e+00],\n",
       "       [ 1.24258802e+00,  4.50399192e+00],\n",
       "       [-2.22783649e+00,  6.89479938e+00],\n",
       "       [ 1.45513831e+00, -2.91989981e-02],\n",
       "       [ 4.53791789e-01,  3.95647753e+00],\n",
       "       [ 1.06923853e+00,  4.53068484e+00],\n",
       "       [ 2.56936589e+00,  5.07048304e-01],\n",
       "       [-1.06690610e+00,  3.13165795e+00],\n",
       "       [-1.07859101e+00,  2.20451529e+00],\n",
       "       [ 2.71506328e+00,  1.29082190e+00],\n",
       "       [ 1.77710994e+00,  1.18655254e+00],\n",
       "       [ 7.34363910e-01,  5.03725437e+00],\n",
       "       [-1.99648151e+00,  2.85164868e+00],\n",
       "       [-1.91828017e+00,  2.60516867e+00],\n",
       "       [-5.55523811e-01,  4.69595848e+00],\n",
       "       [ 1.69747910e+00,  8.66123282e-01],\n",
       "       [ 5.94762432e-01,  4.70964730e+00],\n",
       "       [-2.88024255e+00,  2.30437816e+00],\n",
       "       [ 1.86725632e-01,  4.02683656e+00],\n",
       "       [-5.13333436e-01,  7.87437368e+00],\n",
       "       [-2.05701103e+00,  7.37851598e+00],\n",
       "       [ 1.87271752e+00,  4.18069237e+00],\n",
       "       [-1.13121396e+00,  6.76652230e+00],\n",
       "       [-1.64428957e+00,  7.94095139e+00],\n",
       "       [-2.41933824e+00,  7.43952498e+00],\n",
       "       [-2.01606928e+00,  7.48420129e+00],\n",
       "       [-2.62142780e+00,  7.98635066e+00],\n",
       "       [-2.20299950e+00,  2.47947561e+00],\n",
       "       [ 1.66382237e+00,  6.63091635e-01],\n",
       "       [ 6.69786996e-01,  3.59540802e+00],\n",
       "       [-1.98539037e+00,  2.05520738e+00],\n",
       "       [-4.74920358e-02,  5.47425256e+00],\n",
       "       [ 1.54462126e+00,  4.21078127e+00],\n",
       "       [-1.70200643e+00,  2.46098693e+00],\n",
       "       [-1.02192525e+00,  2.76820711e+00],\n",
       "       [-1.37842552e+00,  8.10269597e+00],\n",
       "       [-1.55220688e+00,  2.74574995e+00],\n",
       "       [-1.47904303e+00,  7.56915836e+00],\n",
       "       [ 1.98894313e+00,  1.50976729e+00],\n",
       "       [-1.94972418e+00,  3.48383870e+00],\n",
       "       [ 2.45509737e+00,  6.21231788e-01],\n",
       "       [-8.94327882e-01,  7.61714473e+00],\n",
       "       [ 1.69687788e+00,  7.54910622e-01],\n",
       "       [ 1.75644805e+00,  2.05538289e+00],\n",
       "       [-1.11064012e+00,  2.82213820e+00],\n",
       "       [-4.15017659e-02,  7.80870276e+00],\n",
       "       [-1.14091533e+00,  1.97550822e+00],\n",
       "       [-1.80634968e+00,  7.72830656e+00],\n",
       "       [ 1.39263752e+00,  9.28962707e-01],\n",
       "       [-2.25698670e+00,  7.30207720e+00],\n",
       "       [ 5.71670482e-01,  4.32288566e+00],\n",
       "       [-1.54994580e+00,  9.28293222e+00],\n",
       "       [-1.03819212e+00,  2.95323761e+00],\n",
       "       [-2.10956676e+00,  3.10677258e+00],\n",
       "       [-1.18652985e+00,  2.78427720e+00],\n",
       "       [-2.45809975e+00,  7.51178724e+00],\n",
       "       [ 2.36960214e+00,  9.50716912e-01],\n",
       "       [-2.66676007e+00,  7.84766052e+00],\n",
       "       [-1.49720702e+00,  3.21418433e+00],\n",
       "       [ 1.32222457e+00,  4.17880807e+00],\n",
       "       [-4.87271301e-01,  3.32858293e+00],\n",
       "       [-1.03718771e+00,  8.06300134e+00],\n",
       "       [-1.60496819e+00,  2.97425420e+00],\n",
       "       [-1.50372568e+00,  1.92385320e+00],\n",
       "       [-7.85412206e-01,  8.45312331e+00],\n",
       "       [-1.75783190e+00,  2.97449321e+00],\n",
       "       [ 1.19008992e+00,  4.72773123e+00],\n",
       "       [ 2.14043942e+00,  7.06066610e-01],\n",
       "       [-1.03540116e+00,  8.20559195e+00],\n",
       "       [ 1.25471244e+00,  8.96331565e-02],\n",
       "       [ 5.95676822e-01,  4.08614263e+00],\n",
       "       [ 1.27955338e+00,  1.05789418e+00],\n",
       "       [ 1.72955064e+00,  1.14729369e+00],\n",
       "       [-9.49041610e-01,  8.46424331e+00],\n",
       "       [ 9.35325115e-01,  5.33179296e+00],\n",
       "       [ 2.36923352e+00,  7.94735861e-01],\n",
       "       [ 4.28576743e-01,  4.97399710e+00],\n",
       "       [-2.04758277e+00,  6.65428520e+00],\n",
       "       [-1.45672617e+00,  7.48669893e+00],\n",
       "       [ 5.29417185e-01,  3.80792420e+00],\n",
       "       [ 1.78194802e+00,  9.08151155e-01],\n",
       "       [-1.95575053e+00,  8.61631686e+00],\n",
       "       [-1.74572014e+00,  3.01190457e+00],\n",
       "       [-1.17979111e+00,  3.12767494e+00],\n",
       "       [ 1.16411070e+00,  3.79132988e+00],\n",
       "       [ 1.36155806e+00,  1.36638252e+00],\n",
       "       [ 2.60137487e+00,  1.08799459e+00],\n",
       "       [ 2.72396035e-01,  5.46996004e+00],\n",
       "       [-3.12240736e+00,  3.28167398e+00],\n",
       "       [-5.88085172e-01,  8.61427320e+00],\n",
       "       [ 1.66909648e+00, -4.36378231e-01],\n",
       "       [-6.82774903e-01,  7.67490317e+00],\n",
       "       [ 2.36790645e+00,  5.52190878e-01],\n",
       "       [ 1.05241733e+00,  4.54498095e+00],\n",
       "       [ 2.22707373e+00,  1.26296996e+00],\n",
       "       [ 2.43934644e+00, -7.25099666e-02],\n",
       "       [ 1.34471770e+00,  4.85711133e+00],\n",
       "       [-1.31454942e+00,  6.83904013e+00],\n",
       "       [ 9.82570091e-01,  5.37530962e+00],\n",
       "       [-1.06295223e+00,  2.20755388e+00],\n",
       "       [-1.60712495e+00,  3.56452854e+00],\n",
       "       [ 1.57322172e+00,  4.83933793e-01],\n",
       "       [-2.17851338e+00,  8.08585131e+00],\n",
       "       [ 1.83375842e+00,  7.54036153e-01],\n",
       "       [ 2.10616050e+00,  3.49513189e+00],\n",
       "       [-1.64338755e+00,  7.52691964e+00],\n",
       "       [ 1.10550448e+00,  1.26389129e+00],\n",
       "       [ 1.61152972e+00,  1.82347242e+00],\n",
       "       [ 4.59534668e-01,  5.44982630e+00],\n",
       "       [-5.38023054e-01,  3.01641891e+00],\n",
       "       [ 1.67841499e+00,  6.09047389e-01],\n",
       "       [-1.01214966e+00,  3.60254338e+00],\n",
       "       [ 1.34195197e+00,  5.93573847e-01],\n",
       "       [ 1.42811550e+00,  1.62435083e+00],\n",
       "       [ 2.04505527e+00,  1.12515470e+00],\n",
       "       [ 1.67280531e+00,  6.59300571e-01],\n",
       "       [-1.35863899e+00,  2.32200809e+00],\n",
       "       [ 1.13078931e+00,  9.35620856e-01],\n",
       "       [-1.73896306e+00,  1.94799775e+00],\n",
       "       [-3.40258925e-01,  8.16733925e+00],\n",
       "       [-1.63793622e+00,  2.43329317e+00],\n",
       "       [-1.68754414e+00,  2.24107546e+00],\n",
       "       [ 2.43040639e+00, -6.35709334e-02],\n",
       "       [-1.37998039e+00,  7.18503804e+00],\n",
       "       [-1.25245465e+00,  2.33911505e+00],\n",
       "       [-2.39482483e+00,  3.39806103e+00],\n",
       "       [-2.09183352e+00,  7.48142543e+00],\n",
       "       [ 4.88382309e-01,  3.26801777e+00],\n",
       "       [-5.39428614e-01,  7.45631776e+00],\n",
       "       [-2.59201821e+00,  8.07635945e+00],\n",
       "       [-1.04656513e+00,  2.96483837e+00],\n",
       "       [ 1.25566754e+00,  3.38204112e+00],\n",
       "       [-1.62150422e+00,  4.27191636e+00],\n",
       "       [ 1.86922139e+00,  5.44132083e+00],\n",
       "       [-1.76404140e+00,  2.22222995e+00],\n",
       "       [-1.38181918e+00,  7.28761248e+00],\n",
       "       [ 7.93137001e-03,  4.17614316e+00],\n",
       "       [-1.10298500e+00,  7.30222786e+00],\n",
       "       [-1.79351372e+00,  7.58086944e+00],\n",
       "       [-1.51176949e+00,  7.94426307e+00],\n",
       "       [ 9.59360742e-01,  4.56078645e+00],\n",
       "       [-6.01337393e-01,  6.29994922e+00],\n",
       "       [ 2.24592863e-01,  4.77028154e+00],\n",
       "       [ 1.56724897e+00,  1.78090633e-02],\n",
       "       [-1.03395259e+00,  2.92105785e+00],\n",
       "       [-9.22268640e-01,  8.09888579e+00],\n",
       "       [-1.88609638e+00,  2.24834407e+00],\n",
       "       [ 1.86873582e+00,  9.56103760e-01],\n",
       "       [ 1.10123507e+00,  4.88977075e+00],\n",
       "       [-1.93213725e+00,  8.30643453e+00],\n",
       "       [ 6.70478769e-01,  4.04094275e+00],\n",
       "       [ 7.43873988e-01,  4.12240568e+00],\n",
       "       [ 1.64003761e+00,  1.81948989e+00],\n",
       "       [ 8.15468056e-01,  4.78526116e+00],\n",
       "       [-2.63274574e+00,  2.63109786e+00],\n",
       "       [-9.61076361e-01,  1.27407596e+00],\n",
       "       [ 2.13979079e-01,  4.88542535e+00],\n",
       "       [ 1.43472182e+00,  1.30662037e+00],\n",
       "       [ 1.21387411e+00,  3.64795042e+00],\n",
       "       [ 1.08272576e+00,  4.06271877e+00],\n",
       "       [-1.22605234e+00,  8.29620146e+00],\n",
       "       [ 1.48170052e+00,  6.90074595e-01],\n",
       "       [ 1.89593761e+00,  5.18540259e+00],\n",
       "       [-1.32356154e+00,  4.13050840e+00],\n",
       "       [-1.14989863e+00,  7.89325283e+00],\n",
       "       [ 2.46915842e+00,  1.67877140e+00],\n",
       "       [ 2.31102276e+00,  1.30380848e+00],\n",
       "       [ 5.72793810e-01,  4.08805543e+00],\n",
       "       [-9.67794989e-01,  3.12186125e+00],\n",
       "       [ 2.62492001e+00,  9.50194405e-01],\n",
       "       [ 1.68353782e+00,  4.19583243e+00],\n",
       "       [-2.22131717e+00,  2.73050691e+00],\n",
       "       [-1.57846247e+00,  3.03445802e+00],\n",
       "       [ 8.15155229e-02,  4.56742235e+00],\n",
       "       [ 1.43289271e+00,  4.37679234e+00],\n",
       "       [ 1.06269622e+00,  5.17635143e+00],\n",
       "       [ 7.67522789e-01,  4.39759671e+00],\n",
       "       [ 2.47019077e+00,  1.31451315e+00],\n",
       "       [-1.73163168e+00,  7.16447286e+00],\n",
       "       [ 3.47138300e-01,  3.45177657e+00],\n",
       "       [-1.00140436e+00,  2.84881778e+00],\n",
       "       [ 1.01618041e+00,  4.48527047e+00],\n",
       "       [ 5.59529363e-01,  4.21400660e+00],\n",
       "       [-2.11821046e+00,  2.03478126e+00],\n",
       "       [-1.36219420e+00,  2.38333321e+00],\n",
       "       [-2.78366586e+00,  2.99211541e+00],\n",
       "       [ 1.65225163e+00,  3.65582842e+00],\n",
       "       [-1.93960658e+00,  2.18943582e+00],\n",
       "       [-1.81487687e+00,  7.97832190e+00],\n",
       "       [ 1.20212540e+00,  3.64414685e+00],\n",
       "       [-9.69200946e-01,  3.26721702e+00],\n",
       "       [ 1.86985974e+00, -1.07938624e-01],\n",
       "       [-1.80701134e+00,  2.06773859e+00],\n",
       "       [ 1.21767506e+00,  3.89290127e+00],\n",
       "       [-1.48368917e+00,  6.00777418e+00],\n",
       "       [-1.56387985e+00,  2.85349910e+00],\n",
       "       [-6.86210297e-01,  8.68285664e+00],\n",
       "       [ 1.07627418e+00,  4.68480619e+00],\n",
       "       [-9.75986627e-01,  6.73761577e+00],\n",
       "       [ 1.37964693e+00,  4.54826443e+00],\n",
       "       [-1.64129611e+00,  2.68097255e+00],\n",
       "       [-1.84892963e-03,  4.58145668e+00],\n",
       "       [ 1.71444449e+00,  5.02521524e+00],\n",
       "       [-1.40524304e+00,  7.72611315e+00],\n",
       "       [-7.08184904e-01,  2.50421275e+00],\n",
       "       [-8.85798374e-01,  2.64585078e+00],\n",
       "       [ 1.98436909e+00,  4.89556738e-01],\n",
       "       [ 2.95195825e+00, -3.44327355e-01],\n",
       "       [ 4.31891060e-01,  4.33495456e+00],\n",
       "       [-1.86621694e+00,  7.62549400e+00],\n",
       "       [ 2.52706430e+00,  6.17812202e-01],\n",
       "       [ 2.04067185e+00,  4.54845114e-01],\n",
       "       [-2.58043836e+00,  3.18844294e+00],\n",
       "       [ 1.61990909e+00,  6.76452867e-02],\n",
       "       [-2.58802708e+00,  3.13117134e+00],\n",
       "       [ 4.43598630e-01,  3.11530945e+00],\n",
       "       [-4.56773649e-01,  7.30600872e+00],\n",
       "       [-1.12867566e+00,  7.80509789e+00],\n",
       "       [ 2.13003529e+00,  5.19209620e+00],\n",
       "       [ 1.00372519e+00,  4.19147702e+00],\n",
       "       [-1.39346767e+00,  8.74641672e+00],\n",
       "       [ 7.28098690e-01,  3.85531444e+00],\n",
       "       [ 8.93499638e-01,  1.01093082e+00],\n",
       "       [-1.10782972e+00,  2.92014479e+00],\n",
       "       [ 7.89338559e-01,  4.33748653e+00],\n",
       "       [ 1.97553917e+00,  7.18989132e-01],\n",
       "       [-1.24902582e+00,  3.08533972e+00],\n",
       "       [-1.07768797e+00,  8.88106128e+00],\n",
       "       [-1.86849125e+00,  3.07982487e+00],\n",
       "       [ 2.76808540e+00,  1.08782923e+00],\n",
       "       [ 2.77180174e-01,  4.84428322e+00],\n",
       "       [ 3.41085289e+00,  8.72309369e-01],\n",
       "       [-1.58084155e+00,  7.55307742e+00],\n",
       "       [-1.53027550e+00,  7.70542113e+00],\n",
       "       [-1.82455840e+00,  7.35958960e+00],\n",
       "       [-1.68568257e+00,  7.95339446e+00],\n",
       "       [-1.65104622e+00,  3.44598961e+00],\n",
       "       [-1.30440901e+00,  3.00311934e+00],\n",
       "       [-7.30698168e-01,  6.24208856e+00],\n",
       "       [ 2.40615694e+00,  4.87047502e+00],\n",
       "       [-1.53631328e+00,  3.01443916e+00],\n",
       "       [ 1.48859977e+00,  6.51633844e-01],\n",
       "       [ 5.14320434e-01,  4.62733684e+00],\n",
       "       [-1.81469750e+00,  3.29009724e+00],\n",
       "       [-1.93731055e+00,  3.91361274e+00],\n",
       "       [-6.14907097e-01,  3.94963585e+00],\n",
       "       [ 2.03169783e+00,  1.96807561e-01],\n",
       "       [ 2.14917144e+00,  1.03697228e+00],\n",
       "       [-1.36999388e+00,  7.76953035e+00],\n",
       "       [ 9.14338767e-01,  4.55014643e+00],\n",
       "       [ 3.33818506e-01,  4.93645836e+00],\n",
       "       [-2.15968109e+00,  3.41003096e+00],\n",
       "       [ 1.36678633e+00,  6.34971633e-01],\n",
       "       [-5.71099336e-01,  8.13306058e+00],\n",
       "       [-1.00552592e+00,  3.08400540e+00],\n",
       "       [ 1.49493180e+00,  3.85848832e+00],\n",
       "       [-5.90447667e-01,  7.69493053e+00],\n",
       "       [ 7.15177948e-01,  5.41334556e+00],\n",
       "       [ 2.11390250e+00,  1.24743587e+00],\n",
       "       [ 1.20083098e+00,  6.01671730e-01],\n",
       "       [-2.54576750e+00,  3.15025055e+00],\n",
       "       [-1.95866665e+00,  2.43008647e+00],\n",
       "       [ 2.33812285e+00,  3.43116792e+00],\n",
       "       [ 3.35320909e+00,  1.69958043e+00],\n",
       "       [ 1.84287117e+00,  7.26928839e-02],\n",
       "       [ 1.32000621e+00,  1.40428145e+00],\n",
       "       [ 2.09680545e+00,  4.84741412e+00],\n",
       "       [-1.24307904e+00,  8.15166254e+00],\n",
       "       [-1.85908090e+00,  7.78874716e+00],\n",
       "       [ 2.74666646e+00,  1.54543482e+00],\n",
       "       [ 2.60778282e+00,  1.08890025e+00],\n",
       "       [ 1.65991049e+00,  3.56289184e+00],\n",
       "       [ 2.35151259e+00,  8.28001297e-01],\n",
       "       [ 2.22322228e+00,  8.38773426e-01],\n",
       "       [ 3.22881491e+00,  1.13171965e+00],\n",
       "       [-1.55876720e+00,  7.24816210e+00],\n",
       "       [-6.46956784e-01,  3.42941343e+00],\n",
       "       [-1.32688818e+00,  8.51530794e+00],\n",
       "       [ 9.17198564e-01,  3.90570036e+00],\n",
       "       [ 2.29469533e+00, -7.65891994e-01],\n",
       "       [ 1.81559810e+00,  1.11969719e+00],\n",
       "       [-1.12016775e+00,  7.11031582e+00],\n",
       "       [-1.65507124e+00,  8.61416749e+00],\n",
       "       [-1.27567815e+00,  7.96776461e+00],\n",
       "       [ 1.97369770e+00,  1.57979848e+00],\n",
       "       [ 2.51834185e+00,  1.39176615e+00],\n",
       "       [ 4.38990142e-01,  4.53592883e+00],\n",
       "       [ 3.69478657e-01,  7.79110522e+00],\n",
       "       [-1.79145759e+00,  2.74966896e+00]])"
      ]
     },
     "execution_count": 2,
     "metadata": {},
     "output_type": "execute_result"
    }
   ],
   "source": [
    "X, _ = make_blobs(n_samples=300, n_features=2, centers=4, cluster_std=0.6, random_state=0)\n",
    "X"
   ]
  },
  {
   "cell_type": "code",
   "execution_count": 3,
   "metadata": {},
   "outputs": [
    {
     "data": {
      "text/plain": [
       "['X0', 'X1']"
      ]
     },
     "execution_count": 3,
     "metadata": {},
     "output_type": "execute_result"
    }
   ],
   "source": [
    "colunas = [f'X{i}' for i in range(X.shape[1])]\n",
    "colunas"
   ]
  },
  {
   "cell_type": "code",
   "execution_count": 4,
   "metadata": {},
   "outputs": [
    {
     "data": {
      "text/html": [
       "<div>\n",
       "<style scoped>\n",
       "    .dataframe tbody tr th:only-of-type {\n",
       "        vertical-align: middle;\n",
       "    }\n",
       "\n",
       "    .dataframe tbody tr th {\n",
       "        vertical-align: top;\n",
       "    }\n",
       "\n",
       "    .dataframe thead th {\n",
       "        text-align: right;\n",
       "    }\n",
       "</style>\n",
       "<table border=\"1\" class=\"dataframe\">\n",
       "  <thead>\n",
       "    <tr style=\"text-align: right;\">\n",
       "      <th></th>\n",
       "      <th>X0</th>\n",
       "      <th>X1</th>\n",
       "    </tr>\n",
       "  </thead>\n",
       "  <tbody>\n",
       "    <tr>\n",
       "      <th>0</th>\n",
       "      <td>0.516255</td>\n",
       "      <td>-0.707227</td>\n",
       "    </tr>\n",
       "    <tr>\n",
       "      <th>1</th>\n",
       "      <td>-0.861664</td>\n",
       "      <td>1.329068</td>\n",
       "    </tr>\n",
       "    <tr>\n",
       "      <th>2</th>\n",
       "      <td>0.711174</td>\n",
       "      <td>0.437049</td>\n",
       "    </tr>\n",
       "    <tr>\n",
       "      <th>3</th>\n",
       "      <td>-0.619792</td>\n",
       "      <td>1.485573</td>\n",
       "    </tr>\n",
       "    <tr>\n",
       "      <th>4</th>\n",
       "      <td>0.782282</td>\n",
       "      <td>-0.801378</td>\n",
       "    </tr>\n",
       "  </tbody>\n",
       "</table>\n",
       "</div>"
      ],
      "text/plain": [
       "         X0        X1\n",
       "0  0.516255 -0.707227\n",
       "1 -0.861664  1.329068\n",
       "2  0.711174  0.437049\n",
       "3 -0.619792  1.485573\n",
       "4  0.782282 -0.801378"
      ]
     },
     "execution_count": 4,
     "metadata": {},
     "output_type": "execute_result"
    }
   ],
   "source": [
    "X = StandardScaler().fit_transform(X)\n",
    "X_df = pd.DataFrame(data=X, columns=colunas)\n",
    "\n",
    "X_df.head()"
   ]
  },
  {
   "cell_type": "code",
   "execution_count": 5,
   "metadata": {},
   "outputs": [
    {
     "data": {
      "text/plain": [
       "<matplotlib.collections.PathCollection at 0x7f5dfa271cf0>"
      ]
     },
     "execution_count": 5,
     "metadata": {},
     "output_type": "execute_result"
    },
    {
     "data": {
      "image/png": "[encoded data removed]",
      "text/plain": [
       "<Figure size 640x480 with 1 Axes>"
      ]
     },
     "metadata": {},
     "output_type": "display_data"
    }
   ],
   "source": [
    "plt.scatter(X_df['X0'], X_df['X1'])"
   ]
  },
  {
   "cell_type": "markdown",
   "metadata": {},
   "source": [
    "https://scikit-learn.org/stable/modules/generated/sklearn.cluster.DBSCAN.html"
   ]
  },
  {
   "cell_type": "code",
   "execution_count": 6,
   "metadata": {
    "ExecuteTime": {
     "end_time": "2022-03-07T23:04:45.303285Z",
     "start_time": "2022-03-07T23:04:45.169361Z"
    }
   },
   "outputs": [],
   "source": [
    "from sklearn.cluster import DBSCAN"
   ]
  },
  {
   "cell_type": "code",
   "execution_count": 7,
   "metadata": {},
   "outputs": [],
   "source": [
    "modelo = DBSCAN().fit(X_df)"
   ]
  },
  {
   "cell_type": "code",
   "execution_count": 8,
   "metadata": {},
   "outputs": [
    {
     "data": {
      "text/plain": [
       "array([0, 0, 0, 0, 0, 0, 0, 0, 0, 0, 0, 0, 0, 0, 0, 0, 0, 0, 0, 0, 0, 0,\n",
       "       0, 0, 0, 0, 0, 0, 0, 0, 0, 0, 0, 0, 0, 0, 0, 0, 0, 0, 0, 0, 0, 0,\n",
       "       0, 0, 0, 0, 0, 0, 0, 0, 0, 0, 0, 0, 0, 0, 0, 0, 0, 0, 0, 0, 0, 0,\n",
       "       0, 0, 0, 0, 0, 0, 0, 0, 0, 0, 0, 0, 0, 0, 0, 0, 0, 0, 0, 0, 0, 0,\n",
       "       0, 0, 0, 0, 0, 0, 0, 0, 0, 0, 0, 0, 0, 0, 0, 0, 0, 0, 0, 0, 0, 0,\n",
       "       0, 0, 0, 0, 0, 0, 0, 0, 0, 0, 0, 0, 0, 0, 0, 0, 0, 0, 0, 0, 0, 0,\n",
       "       0, 0, 0, 0, 0, 0, 0, 0, 0, 0, 0, 0, 0, 0, 0, 0, 0, 0, 0, 0, 0, 0,\n",
       "       0, 0, 0, 0, 0, 0, 0, 0, 0, 0, 0, 0, 0, 0, 0, 0, 0, 0, 0, 0, 0, 0,\n",
       "       0, 0, 0, 0, 0, 0, 0, 0, 0, 0, 0, 0, 0, 0, 0, 0, 0, 0, 0, 0, 0, 0,\n",
       "       0, 0, 0, 0, 0, 0, 0, 0, 0, 0, 0, 0, 0, 0, 0, 0, 0, 0, 0, 0, 0, 0,\n",
       "       0, 0, 0, 0, 0, 0, 0, 0, 0, 0, 0, 0, 0, 0, 0, 0, 0, 0, 0, 0, 0, 0,\n",
       "       0, 0, 0, 0, 0, 0, 0, 0, 0, 0, 0, 0, 0, 0, 0, 0, 0, 0, 0, 0, 0, 0,\n",
       "       0, 0, 0, 0, 0, 0, 0, 0, 0, 0, 0, 0, 0, 0, 0, 0, 0, 0, 0, 0, 0, 0,\n",
       "       0, 0, 0, 0, 0, 0, 0, 0, 0, 0, 0, 0, 0, 0])"
      ]
     },
     "execution_count": 8,
     "metadata": {},
     "output_type": "execute_result"
    }
   ],
   "source": [
    "modelo.labels_"
   ]
  },
  {
   "cell_type": "code",
   "execution_count": 9,
   "metadata": {},
   "outputs": [
    {
     "data": {
      "text/plain": [
       "{'algorithm': 'auto',\n",
       " 'eps': 0.5,\n",
       " 'leaf_size': 30,\n",
       " 'metric': 'euclidean',\n",
       " 'metric_params': None,\n",
       " 'min_samples': 5,\n",
       " 'n_jobs': None,\n",
       " 'p': None}"
      ]
     },
     "execution_count": 9,
     "metadata": {},
     "output_type": "execute_result"
    }
   ],
   "source": [
    "modelo.get_params()"
   ]
  },
  {
   "cell_type": "markdown",
   "metadata": {},
   "source": [
    "Como podemos melhorar?"
   ]
  },
  {
   "cell_type": "code",
   "execution_count": 10,
   "metadata": {},
   "outputs": [
    {
     "data": {
      "text/plain": [
       "array([-1,  0, -1,  8, -1, -1, -1, -1, -1, -1,  1, -1, -1, -1, -1,  7,  2,\n",
       "        5,  3, -1, -1,  4, -1, -1,  1, -1,  4, -1, -1, -1, -1, -1, -1, -1,\n",
       "       -1, -1, -1, -1, -1,  4, -1,  1, -1, -1,  1,  3,  8,  1,  0, -1, -1,\n",
       "        5, -1,  4, -1,  3, -1, -1,  6, -1, -1,  7, -1,  3, -1,  3, -1,  5,\n",
       "       -1,  1, -1, -1,  8,  1, -1, -1,  1,  2,  5,  8, -1,  7, -1,  4, -1,\n",
       "       -1,  5,  9, -1,  0, -1,  4, -1,  1,  3, -1, -1, -1, -1, -1, -1, -1,\n",
       "       -1,  5,  2,  5, -1, -1, -1, -1, -1, -1,  4, -1,  4, -1,  0, -1, -1,\n",
       "       -1, -1,  4, -1,  4, -1,  5,  4, -1, -1,  1, -1,  1,  1, -1,  0, -1,\n",
       "       -1, -1, -1, -1, -1,  3, -1, -1, -1,  1,  0, -1, -1,  6,  0,  2, -1,\n",
       "        9, -1,  3,  8,  1,  4,  2, -1,  7,  7, -1, -1, -1, -1,  9, -1, -1,\n",
       "       -1, -1,  4, -1, -1,  8, -1, -1,  7,  3, -1, -1, -1,  1, -1, -1, -1,\n",
       "       -1, -1, -1, -1,  3,  2,  7, -1, -1, -1, -1,  1,  6, -1,  3, -1,  1,\n",
       "       -1, -1,  1, -1,  2, -1, -1,  1, -1, -1,  0, -1,  3, -1, -1,  7,  6,\n",
       "        5, -1, -1, -1, -1, -1, -1,  8, -1, -1, -1,  7, -1,  3, -1,  4,  3,\n",
       "       -1,  1, -1,  9, -1,  0,  0,  6, -1, -1,  3, -1, -1,  1,  4, -1, -1,\n",
       "       -1, -1, -1,  5,  0,  2,  9, -1,  4, -1,  3, -1, -1, -1,  5,  4, -1,\n",
       "        1, -1, -1, -1, -1, -1,  8,  6, -1, -1, -1,  5,  5, -1, -1, -1, -1,\n",
       "       -1, -1,  4, -1, -1,  8, -1, -1, -1, -1,  1])"
      ]
     },
     "execution_count": 10,
     "metadata": {},
     "output_type": "execute_result"
    }
   ],
   "source": [
    "modelo = DBSCAN(eps=0.1).fit(X_df)\n",
    "modelo.labels_"
   ]
  },
  {
   "cell_type": "markdown",
   "metadata": {},
   "source": [
    "Empiricamente"
   ]
  },
  {
   "cell_type": "code",
   "execution_count": 11,
   "metadata": {
    "ExecuteTime": {
     "end_time": "2022-03-07T23:28:53.772414Z",
     "start_time": "2022-03-07T23:28:53.759423Z"
    }
   },
   "outputs": [
    {
     "data": {
      "text/plain": [
       "array([2, 0, 1, 0, 2, 2, 1, 1, 0, 0, 1, 0, 1, 0, 2, 1, 1, 2, 1, 1, 2, 2,\n",
       "       1, 1, 1, 1, 2, 1, 1, 1, 0, 0, 1, 0, 0, 0, 0, 0, 1, 2, 1, 1, 1, 1,\n",
       "       1, 1, 0, 1, 0, 2, 1, 2, 0, 2, 2, 1, 0, 1, 0, 2, 0, 1, 0, 1, 1, 1,\n",
       "       0, 2, 0, 1, 1, 1, 0, 1, 1, 0, 1, 1, 2, 0, 2, 1, 2, 2, 0, 1, 2, 1,\n",
       "       0, 0, 1, 2, 0, 1, 1, 1, 2, 2, 1, 1, 0, 2, 0, 2, 1, 2, 2, 1, 0, 1,\n",
       "       1, 1, 2, 0, 2, 1, 0, 2, 2, 1, 1, 2, 1, 2, 2, 2, 2, 1, 2, 1, 0, 1,\n",
       "       1, 2, 0, 1, 1, 0, 1, 0, 0, 1, 1, 1, 1, 1, 0, 1, 0, 0, 0, 1, 0, 1,\n",
       "       2, 1, 0, 1, 2, 1, 0, 1, 1, 2, 1, 1, 1, 1, 2, 1, 1, 0, 2, 1, 1, 0,\n",
       "       2, 2, 1, 1, 2, 1, 1, 1, 1, 1, 1, 1, 2, 0, 1, 1, 1, 1, 1, 1, 1, 1,\n",
       "       1, 0, 1, 1, 2, 1, 1, 0, 1, 0, 1, 0, 1, 1, 1, 1, 0, 1, 1, 2, 2, 1,\n",
       "       0, 2, 2, 1, 2, 1, 1, 0, 0, 1, 1, 0, 1, 2, 1, 1, 2, 1, 0, 1, 2, 1,\n",
       "       2, 0, 0, 0, 0, 1, 1, 0, 1, 1, 2, 1, 1, 1, 1, 2, 2, 0, 1, 1, 1, 2,\n",
       "       0, 1, 1, 0, 1, 2, 2, 1, 1, 1, 2, 2, 2, 1, 0, 0, 2, 2, 1, 2, 2, 2,\n",
       "       0, 1, 0, 1, 2, 2, 0, 0, 0, 2, 2, 1, 0, 1])"
      ]
     },
     "execution_count": 11,
     "metadata": {},
     "output_type": "execute_result"
    }
   ],
   "source": [
    "modelo = DBSCAN(eps=0.4).fit(X_df)\n",
    "modelo.labels_"
   ]
  },
  {
   "cell_type": "markdown",
   "metadata": {},
   "source": [
    "Utilizando os vizinhos"
   ]
  },
  {
   "cell_type": "code",
   "execution_count": 12,
   "metadata": {},
   "outputs": [],
   "source": [
    "from sklearn.neighbors import NearestNeighbors"
   ]
  },
  {
   "cell_type": "code",
   "execution_count": 13,
   "metadata": {},
   "outputs": [
    {
     "data": {
      "text/html": [
       "<style>#sk-container-id-1 {color: black;background-color: white;}#sk-container-id-1 pre{padding: 0;}#sk-container-id-1 div.sk-toggleable {background-color: white;}#sk-container-id-1 label.sk-toggleable__label {cursor: pointer;display: block;width: 100%;margin-bottom: 0;padding: 0.3em;box-sizing: border-box;text-align: center;}#sk-container-id-1 label.sk-toggleable__label-arrow:before {content: \"▸\";float: left;margin-right: 0.25em;color: #696969;}#sk-container-id-1 label.sk-toggleable__label-arrow:hover:before {color: black;}#sk-container-id-1 div.sk-estimator:hover label.sk-toggleable__label-arrow:before {color: black;}#sk-container-id-1 div.sk-toggleable__content {max-height: 0;max-width: 0;overflow: hidden;text-align: left;background-color: #f0f8ff;}#sk-container-id-1 div.sk-toggleable__content pre {margin: 0.2em;color: black;border-radius: 0.25em;background-color: #f0f8ff;}#sk-container-id-1 input.sk-toggleable__control:checked~div.sk-toggleable__content {max-height: 200px;max-width: 100%;overflow: auto;}#sk-container-id-1 input.sk-toggleable__control:checked~label.sk-toggleable__label-arrow:before {content: \"▾\";}#sk-container-id-1 div.sk-estimator input.sk-toggleable__control:checked~label.sk-toggleable__label {background-color: #d4ebff;}#sk-container-id-1 div.sk-label input.sk-toggleable__control:checked~label.sk-toggleable__label {background-color: #d4ebff;}#sk-container-id-1 input.sk-hidden--visually {border: 0;clip: rect(1px 1px 1px 1px);clip: rect(1px, 1px, 1px, 1px);height: 1px;margin: -1px;overflow: hidden;padding: 0;position: absolute;width: 1px;}#sk-container-id-1 div.sk-estimator {font-family: monospace;background-color: #f0f8ff;border: 1px dotted black;border-radius: 0.25em;box-sizing: border-box;margin-bottom: 0.5em;}#sk-container-id-1 div.sk-estimator:hover {background-color: #d4ebff;}#sk-container-id-1 div.sk-parallel-item::after {content: \"\";width: 100%;border-bottom: 1px solid gray;flex-grow: 1;}#sk-container-id-1 div.sk-label:hover label.sk-toggleable__label {background-color: #d4ebff;}#sk-container-id-1 div.sk-serial::before {content: \"\";position: absolute;border-left: 1px solid gray;box-sizing: border-box;top: 0;bottom: 0;left: 50%;z-index: 0;}#sk-container-id-1 div.sk-serial {display: flex;flex-direction: column;align-items: center;background-color: white;padding-right: 0.2em;padding-left: 0.2em;position: relative;}#sk-container-id-1 div.sk-item {position: relative;z-index: 1;}#sk-container-id-1 div.sk-parallel {display: flex;align-items: stretch;justify-content: center;background-color: white;position: relative;}#sk-container-id-1 div.sk-item::before, #sk-container-id-1 div.sk-parallel-item::before {content: \"\";position: absolute;border-left: 1px solid gray;box-sizing: border-box;top: 0;bottom: 0;left: 50%;z-index: -1;}#sk-container-id-1 div.sk-parallel-item {display: flex;flex-direction: column;z-index: 1;position: relative;background-color: white;}#sk-container-id-1 div.sk-parallel-item:first-child::after {align-self: flex-end;width: 50%;}#sk-container-id-1 div.sk-parallel-item:last-child::after {align-self: flex-start;width: 50%;}#sk-container-id-1 div.sk-parallel-item:only-child::after {width: 0;}#sk-container-id-1 div.sk-dashed-wrapped {border: 1px dashed gray;margin: 0 0.4em 0.5em 0.4em;box-sizing: border-box;padding-bottom: 0.4em;background-color: white;}#sk-container-id-1 div.sk-label label {font-family: monospace;font-weight: bold;display: inline-block;line-height: 1.2em;}#sk-container-id-1 div.sk-label-container {text-align: center;}#sk-container-id-1 div.sk-container {/* jupyter's `normalize.less` sets `[hidden] { display: none; }` but bootstrap.min.css set `[hidden] { display: none !important; }` so we also need the `!important` here to be able to override the default hidden behavior on the sphinx rendered scikit-learn.org. See: https://github.com/scikit-learn/scikit-learn/issues/21755 */display: inline-block !important;position: relative;}#sk-container-id-1 div.sk-text-repr-fallback {display: none;}</style><div id=\"sk-container-id-1\" class=\"sk-top-container\"><div class=\"sk-text-repr-fallback\"><pre>NearestNeighbors(n_neighbors=2)</pre><b>In a Jupyter environment, please rerun this cell to show the HTML representation or trust the notebook. <br />On GitHub, the HTML representation is unable to render, please try loading this page with nbviewer.org.</b></div><div class=\"sk-container\" hidden><div class=\"sk-item\"><div class=\"sk-estimator sk-toggleable\"><input class=\"sk-toggleable__control sk-hidden--visually\" id=\"sk-estimator-id-1\" type=\"checkbox\" checked><label for=\"sk-estimator-id-1\" class=\"sk-toggleable__label sk-toggleable__label-arrow\">NearestNeighbors</label><div class=\"sk-toggleable__content\"><pre>NearestNeighbors(n_neighbors=2)</pre></div></div></div></div></div>"
      ],
      "text/plain": [
       "NearestNeighbors(n_neighbors=2)"
      ]
     },
     "execution_count": 13,
     "metadata": {},
     "output_type": "execute_result"
    }
   ],
   "source": [
    "vizinho_proximo = NearestNeighbors(n_neighbors=2)\n",
    "vizinhos = vizinho_proximo.fit(X_df)\n",
    "vizinhos"
   ]
  },
  {
   "cell_type": "code",
   "execution_count": 14,
   "metadata": {},
   "outputs": [],
   "source": [
    "distancias, indices = vizinho_proximo.kneighbors(X_df)"
   ]
  },
  {
   "cell_type": "code",
   "execution_count": 15,
   "metadata": {},
   "outputs": [
    {
     "data": {
      "text/plain": [
       "0.04"
      ]
     },
     "execution_count": 15,
     "metadata": {},
     "output_type": "execute_result"
    }
   ],
   "source": [
    "distancias.mean().round(2)"
   ]
  },
  {
   "cell_type": "code",
   "execution_count": 16,
   "metadata": {},
   "outputs": [
    {
     "data": {
      "text/plain": [
       "[<matplotlib.lines.Line2D at 0x7f5df734b0d0>]"
      ]
     },
     "execution_count": 16,
     "metadata": {},
     "output_type": "execute_result"
    },
    {
     "data": {
      "image/png": "[encoded data removed]",
      "text/plain": [
       "<Figure size 640x480 with 1 Axes>"
      ]
     },
     "metadata": {},
     "output_type": "display_data"
    }
   ],
   "source": [
    "plt.plot(np.sort(distancias[:,1]))"
   ]
  },
  {
   "cell_type": "code",
   "execution_count": 17,
   "metadata": {},
   "outputs": [],
   "source": [
    "# Método do joelho"
   ]
  },
  {
   "cell_type": "code",
   "execution_count": 18,
   "metadata": {},
   "outputs": [
    {
     "data": {
      "text/plain": [
       "array([-1,  0,  1,  0,  3, -1,  2,  1, -1,  4,  2, -1,  1, -1, -1,  1,  1,\n",
       "        3,  2,  6,  3,  3,  1,  2,  2, -1,  3,  1, -1, -1,  5,  0, -1, -1,\n",
       "        0,  0,  0, -1, -1,  3,  1,  2, -1,  1,  2,  2,  0,  2,  0,  3,  2,\n",
       "        3,  0,  3, -1,  2, -1, -1,  0,  3,  0,  1, -1,  2,  2,  2,  0,  3,\n",
       "       -1,  2,  1, -1,  0,  2,  2,  4,  2,  1,  3,  0, -1,  1,  3,  3,  0,\n",
       "        1,  3,  1, -1,  0,  1,  3, -1,  2,  2,  1,  3,  3, -1, -1,  4, -1,\n",
       "        5,  3,  1,  3, -1,  1,  0,  1,  6, -1,  3, -1,  3, -1,  0,  3,  3,\n",
       "       -1, -1,  3,  2,  3,  3,  3,  3,  6,  3,  2, -1,  2,  2, -1,  0,  6,\n",
       "        7,  0, -1,  5, -1,  2,  1, -1, -1,  2,  0, -1, -1,  0,  0,  1, -1,\n",
       "        1, -1,  2,  0,  2,  3,  1,  0,  1,  1, -1,  1, -1, -1,  1,  3,  1,\n",
       "        1,  0,  3, -1, -1,  0,  3,  3,  1,  2,  3,  1,  2,  2,  1,  1,  1,\n",
       "        1,  3,  0, -1,  2,  1,  1,  2,  6,  7, -1,  2,  0,  1,  2, -1,  2,\n",
       "        1, -1,  2,  4,  1, -1,  1,  2, -1, -1,  0,  2,  2,  3, -1,  1,  0,\n",
       "        3,  3,  7, -1,  7, -1, -1,  0, -1,  1, -1,  1,  3,  2,  1,  3,  2,\n",
       "       -1,  2,  3,  1, -1,  0,  0,  0,  0,  2,  2, -1, -1,  2,  3,  1,  2,\n",
       "       -1, -1,  3,  3,  0,  1,  1, -1,  3, -1,  2,  1,  5, -1,  3,  3,  7,\n",
       "        2, -1, -1, -1,  3, -1,  0,  0,  3,  3, -1,  3,  3, -1,  0, -1,  0,\n",
       "        1, -1,  3, -1, -1,  0, -1,  3,  1, -1,  2])"
      ]
     },
     "execution_count": 18,
     "metadata": {},
     "output_type": "execute_result"
    }
   ],
   "source": [
    "modelo = DBSCAN(eps=0.15).fit(X_df)\n",
    "modelo.labels_"
   ]
  },
  {
   "cell_type": "markdown",
   "metadata": {},
   "source": [
    "https://scikit-learn.org/stable/auto_examples/cluster/plot_dbscan.html"
   ]
  },
  {
   "cell_type": "code",
   "execution_count": 21,
   "metadata": {},
   "outputs": [
    {
     "name": "stdout",
     "output_type": "stream",
     "text": [
      "Estimated number of clusters: 4\n",
      "Estimated number of noise points: 22\n",
      "Silhouette Coefficient: 0.594\n"
     ]
    }
   ],
   "source": [
    "from sklearn import metrics\n",
    "\n",
    "db = DBSCAN(eps=0.3, min_samples=10).fit(X)\n",
    "core_samples_mask = np.zeros_like(db.labels_, dtype=bool)\n",
    "core_samples_mask[db.core_sample_indices_] = True\n",
    "labels = db.labels_\n",
    "\n",
    "# Number of clusters in labels, ignoring noise if present.\n",
    "n_clusters_ = len(set(labels)) - (1 if -1 in labels else 0)\n",
    "n_noise_ = list(labels).count(-1)\n",
    "\n",
    "print(\"Estimated number of clusters: %d\" % n_clusters_)\n",
    "print(\"Estimated number of noise points: %d\" % n_noise_)\n",
    "print(\"Silhouette Coefficient: %0.3f\" % metrics.silhouette_score(X, labels))"
   ]
  },
  {
   "cell_type": "code",
   "execution_count": 29,
   "metadata": {},
   "outputs": [
    {
     "data": {
      "text/plain": [
       "<AxesSubplot: ylabel='Count'>"
      ]
     },
     "execution_count": 29,
     "metadata": {},
     "output_type": "execute_result"
    },
    {
     "data": {
      "image/png": "[encoded data removed]",
      "text/plain": [
       "<Figure size 640x480 with 1 Axes>"
      ]
     },
     "metadata": {},
     "output_type": "display_data"
    }
   ],
   "source": [
    "sns.histplot(np.random.uniform(0.01, 0.5, 1000))"
   ]
  },
  {
   "cell_type": "code",
   "execution_count": 34,
   "metadata": {},
   "outputs": [],
   "source": [
    "def dbscan_hype_tunning(X, eps_range=(0.01, 0.5), min_samples_range=(2, 5)):\n",
    "    list_eps = []\n",
    "    list_min_samples = []\n",
    "    list_n_clusters = []\n",
    "    list_n_noise = []\n",
    "    list_silhouette_score = []\n",
    "        \n",
    "    for eps in np.random.uniform(eps_range[0], eps_range[1], 100):\n",
    "        for min_samples in range(min_samples_range[0], min_samples_range[1]):\n",
    "            db = DBSCAN(eps=eps, min_samples=min_samples, n_jobs=31).fit(X)\n",
    "            core_samples_mask = np.zeros_like(db.labels_, dtype=bool)\n",
    "            core_samples_mask[db.core_sample_indices_] = True\n",
    "            labels = db.labels_\n",
    "\n",
    "            if(len(set(labels)) <= 1):\n",
    "                continue\n",
    "            \n",
    "            n_clusters_ = len(set(labels)) - (1 if -1 in labels else 0)\n",
    "            n_noise_ = list(labels).count(-1)\n",
    "\n",
    "            list_eps.append(eps)\n",
    "            list_min_samples.append(min_samples)\n",
    "            list_n_clusters.append(n_clusters_)\n",
    "            list_n_noise.append(n_noise_)\n",
    "            list_silhouette_score.append(metrics.silhouette_score(X, labels))\n",
    "            \n",
    "    df = pd.DataFrame({\n",
    "        'eps': list_eps,\n",
    "        'min_samples': list_min_samples,\n",
    "        'n_clusters': list_n_clusters,\n",
    "        'n_noise': list_n_noise,\n",
    "        'silhouette_score': list_silhouette_score\n",
    "    })\n",
    "    return df"
   ]
  },
  {
   "cell_type": "code",
   "execution_count": 48,
   "metadata": {},
   "outputs": [],
   "source": [
    "df_result = dbscan_hype_tunning(X_df)"
   ]
  },
  {
   "cell_type": "code",
   "execution_count": 49,
   "metadata": {},
   "outputs": [
    {
     "data": {
      "text/html": [
       "<div>\n",
       "<style scoped>\n",
       "    .dataframe tbody tr th:only-of-type {\n",
       "        vertical-align: middle;\n",
       "    }\n",
       "\n",
       "    .dataframe tbody tr th {\n",
       "        vertical-align: top;\n",
       "    }\n",
       "\n",
       "    .dataframe thead th {\n",
       "        text-align: right;\n",
       "    }\n",
       "</style>\n",
       "<table border=\"1\" class=\"dataframe\">\n",
       "  <thead>\n",
       "    <tr style=\"text-align: right;\">\n",
       "      <th></th>\n",
       "      <th>eps</th>\n",
       "      <th>min_samples</th>\n",
       "      <th>n_clusters</th>\n",
       "      <th>n_noise</th>\n",
       "      <th>silhouette_score</th>\n",
       "    </tr>\n",
       "  </thead>\n",
       "  <tbody>\n",
       "    <tr>\n",
       "      <th>17</th>\n",
       "      <td>0.383521</td>\n",
       "      <td>4</td>\n",
       "      <td>4</td>\n",
       "      <td>0</td>\n",
       "      <td>0.656923</td>\n",
       "    </tr>\n",
       "    <tr>\n",
       "      <th>29</th>\n",
       "      <td>0.344659</td>\n",
       "      <td>4</td>\n",
       "      <td>4</td>\n",
       "      <td>0</td>\n",
       "      <td>0.656923</td>\n",
       "    </tr>\n",
       "    <tr>\n",
       "      <th>68</th>\n",
       "      <td>0.365494</td>\n",
       "      <td>4</td>\n",
       "      <td>4</td>\n",
       "      <td>0</td>\n",
       "      <td>0.656923</td>\n",
       "    </tr>\n",
       "    <tr>\n",
       "      <th>71</th>\n",
       "      <td>0.355011</td>\n",
       "      <td>4</td>\n",
       "      <td>4</td>\n",
       "      <td>0</td>\n",
       "      <td>0.656923</td>\n",
       "    </tr>\n",
       "    <tr>\n",
       "      <th>77</th>\n",
       "      <td>0.370835</td>\n",
       "      <td>4</td>\n",
       "      <td>4</td>\n",
       "      <td>0</td>\n",
       "      <td>0.656923</td>\n",
       "    </tr>\n",
       "    <tr>\n",
       "      <th>...</th>\n",
       "      <td>...</td>\n",
       "      <td>...</td>\n",
       "      <td>...</td>\n",
       "      <td>...</td>\n",
       "      <td>...</td>\n",
       "    </tr>\n",
       "    <tr>\n",
       "      <th>80</th>\n",
       "      <td>0.066973</td>\n",
       "      <td>4</td>\n",
       "      <td>9</td>\n",
       "      <td>249</td>\n",
       "      <td>-0.533730</td>\n",
       "    </tr>\n",
       "    <tr>\n",
       "      <th>179</th>\n",
       "      <td>0.066712</td>\n",
       "      <td>4</td>\n",
       "      <td>9</td>\n",
       "      <td>249</td>\n",
       "      <td>-0.533730</td>\n",
       "    </tr>\n",
       "    <tr>\n",
       "      <th>117</th>\n",
       "      <td>0.030188</td>\n",
       "      <td>2</td>\n",
       "      <td>25</td>\n",
       "      <td>246</td>\n",
       "      <td>-0.548137</td>\n",
       "    </tr>\n",
       "    <tr>\n",
       "      <th>145</th>\n",
       "      <td>0.029773</td>\n",
       "      <td>2</td>\n",
       "      <td>25</td>\n",
       "      <td>246</td>\n",
       "      <td>-0.548137</td>\n",
       "    </tr>\n",
       "    <tr>\n",
       "      <th>7</th>\n",
       "      <td>0.041306</td>\n",
       "      <td>3</td>\n",
       "      <td>7</td>\n",
       "      <td>274</td>\n",
       "      <td>-0.644137</td>\n",
       "    </tr>\n",
       "  </tbody>\n",
       "</table>\n",
       "<p>273 rows × 5 columns</p>\n",
       "</div>"
      ],
      "text/plain": [
       "          eps  min_samples  n_clusters  n_noise  silhouette_score\n",
       "17   0.383521            4           4        0          0.656923\n",
       "29   0.344659            4           4        0          0.656923\n",
       "68   0.365494            4           4        0          0.656923\n",
       "71   0.355011            4           4        0          0.656923\n",
       "77   0.370835            4           4        0          0.656923\n",
       "..        ...          ...         ...      ...               ...\n",
       "80   0.066973            4           9      249         -0.533730\n",
       "179  0.066712            4           9      249         -0.533730\n",
       "117  0.030188            2          25      246         -0.548137\n",
       "145  0.029773            2          25      246         -0.548137\n",
       "7    0.041306            3           7      274         -0.644137\n",
       "\n",
       "[273 rows x 5 columns]"
      ]
     },
     "execution_count": 49,
     "metadata": {},
     "output_type": "execute_result"
    }
   ],
   "source": [
    "df_result.sort_values(['silhouette_score', 'min_samples', 'n_noise'], \n",
    "                      ascending=[False, True, True])"
   ]
  },
  {
   "cell_type": "code",
   "execution_count": 50,
   "metadata": {},
   "outputs": [
    {
     "data": {
      "text/plain": [
       "<seaborn.axisgrid.FacetGrid at 0x7f5df3d98be0>"
      ]
     },
     "execution_count": 50,
     "metadata": {},
     "output_type": "execute_result"
    },
    {
     "data": {
      "image/png": "[encoded data removed]",
      "text/plain": [
       "<Figure size 500x500 with 1 Axes>"
      ]
     },
     "metadata": {},
     "output_type": "display_data"
    }
   ],
   "source": [
    "sns.displot(df_result['silhouette_score'])"
   ]
  },
  {
   "cell_type": "code",
   "execution_count": 52,
   "metadata": {},
   "outputs": [],
   "source": [
    "db = DBSCAN(eps=0.383521, min_samples=4, n_jobs=31).fit(X_df)"
   ]
  },
  {
   "cell_type": "code",
   "execution_count": 53,
   "metadata": {},
   "outputs": [
    {
     "data": {
      "text/html": [
       "<div>\n",
       "<style scoped>\n",
       "    .dataframe tbody tr th:only-of-type {\n",
       "        vertical-align: middle;\n",
       "    }\n",
       "\n",
       "    .dataframe tbody tr th {\n",
       "        vertical-align: top;\n",
       "    }\n",
       "\n",
       "    .dataframe thead th {\n",
       "        text-align: right;\n",
       "    }\n",
       "</style>\n",
       "<table border=\"1\" class=\"dataframe\">\n",
       "  <thead>\n",
       "    <tr style=\"text-align: right;\">\n",
       "      <th></th>\n",
       "      <th>X0</th>\n",
       "      <th>X1</th>\n",
       "      <th>label</th>\n",
       "    </tr>\n",
       "  </thead>\n",
       "  <tbody>\n",
       "    <tr>\n",
       "      <th>0</th>\n",
       "      <td>0.516255</td>\n",
       "      <td>-0.707227</td>\n",
       "      <td>2</td>\n",
       "    </tr>\n",
       "    <tr>\n",
       "      <th>1</th>\n",
       "      <td>-0.861664</td>\n",
       "      <td>1.329068</td>\n",
       "      <td>0</td>\n",
       "    </tr>\n",
       "    <tr>\n",
       "      <th>2</th>\n",
       "      <td>0.711174</td>\n",
       "      <td>0.437049</td>\n",
       "      <td>1</td>\n",
       "    </tr>\n",
       "    <tr>\n",
       "      <th>3</th>\n",
       "      <td>-0.619792</td>\n",
       "      <td>1.485573</td>\n",
       "      <td>0</td>\n",
       "    </tr>\n",
       "    <tr>\n",
       "      <th>4</th>\n",
       "      <td>0.782282</td>\n",
       "      <td>-0.801378</td>\n",
       "      <td>2</td>\n",
       "    </tr>\n",
       "  </tbody>\n",
       "</table>\n",
       "</div>"
      ],
      "text/plain": [
       "         X0        X1  label\n",
       "0  0.516255 -0.707227      2\n",
       "1 -0.861664  1.329068      0\n",
       "2  0.711174  0.437049      1\n",
       "3 -0.619792  1.485573      0\n",
       "4  0.782282 -0.801378      2"
      ]
     },
     "execution_count": 53,
     "metadata": {},
     "output_type": "execute_result"
    }
   ],
   "source": [
    "X_df_cluster = X_df.copy()\n",
    "X_df_cluster['label'] = db.labels_\n",
    "X_df_cluster.head()"
   ]
  },
  {
   "cell_type": "code",
   "execution_count": 54,
   "metadata": {},
   "outputs": [
    {
     "data": {
      "text/plain": [
       "<seaborn.axisgrid.JointGrid at 0x7f5df59e2e60>"
      ]
     },
     "execution_count": 54,
     "metadata": {},
     "output_type": "execute_result"
    },
    {
     "data": {
      "image/png": "[encoded data removed]",
      "text/plain": [
       "<Figure size 600x600 with 3 Axes>"
      ]
     },
     "metadata": {},
     "output_type": "display_data"
    }
   ],
   "source": [
    "sns.jointplot(data=X_df_cluster, x='X0', y='X1', hue='label')"
   ]
  },
  {
   "cell_type": "markdown",
   "metadata": {},
   "source": [
    "Quem são os outliers??"
   ]
  },
  {
   "cell_type": "code",
   "execution_count": 19,
   "metadata": {
    "ExecuteTime": {
     "end_time": "2022-03-07T23:29:17.929298Z",
     "start_time": "2022-03-07T23:29:17.020852Z"
    }
   },
   "outputs": [],
   "source": [
    "# os que tem o label -1"
   ]
  },
  {
   "cell_type": "markdown",
   "metadata": {},
   "source": [
    "____\n",
    "____\n",
    "_____"
   ]
  },
  {
   "cell_type": "markdown",
   "metadata": {},
   "source": [
    "## 2) Aplicação - clusterização de estações\n",
    "\n",
    "Vamos pegar os dados geográficos das estações da malha de transporte metropolitano de SP, e ver uma aplicação interessante do DBSCAN"
   ]
  },
  {
   "cell_type": "code",
   "execution_count": null,
   "metadata": {},
   "outputs": [],
   "source": []
  },
  {
   "cell_type": "markdown",
   "metadata": {},
   "source": [
    "<img src=\"https://i.redd.it/6jxo08iuzpxy.gif\" width=500>"
   ]
  },
  {
   "cell_type": "code",
   "execution_count": null,
   "metadata": {
    "ExecuteTime": {
     "end_time": "2022-03-08T00:24:17.770656Z",
     "start_time": "2022-03-08T00:24:17.751537Z"
    }
   },
   "outputs": [],
   "source": []
  },
  {
   "cell_type": "markdown",
   "metadata": {},
   "source": [
    "Vamos usar a [distância de Haversine](https://scikit-learn.org/stable/modules/generated/sklearn.metrics.pairwise.haversine_distances.html)\n",
    "\n",
    "Importante: primeiro ponto é a latitude, segundo é a longitude!"
   ]
  },
  {
   "cell_type": "markdown",
   "metadata": {},
   "source": [
    "Com o k-means..."
   ]
  },
  {
   "cell_type": "code",
   "execution_count": null,
   "metadata": {
    "ExecuteTime": {
     "end_time": "2022-03-08T00:28:54.195545Z",
     "start_time": "2022-03-08T00:28:54.183554Z"
    }
   },
   "outputs": [],
   "source": []
  },
  {
   "cell_type": "markdown",
   "metadata": {},
   "source": [
    "#### Faça o mesmo comparando o metrô de Nova York\n",
    "https://data.cityofnewyork.us/Transportation/Subway-Stations/arq3-7z49"
   ]
  },
  {
   "cell_type": "code",
   "execution_count": null,
   "metadata": {
    "scrolled": true
   },
   "outputs": [],
   "source": []
  }
 ],
 "metadata": {
  "kernelspec": {
   "display_name": "Python 3 (ipykernel)",
   "language": "python",
   "name": "python3"
  },
  "language_info": {
   "codemirror_mode": {
    "name": "ipython",
    "version": 3
   },
   "file_extension": ".py",
   "mimetype": "text/x-python",
   "name": "python",
   "nbconvert_exporter": "python",
   "pygments_lexer": "ipython3",
   "version": "3.10.6"
  }
 },
 "nbformat": 4,
 "nbformat_minor": 4
}
