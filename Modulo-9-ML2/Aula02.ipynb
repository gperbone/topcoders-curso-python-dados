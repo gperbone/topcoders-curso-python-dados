{
 "cells": [
  {
   "cell_type": "markdown",
   "metadata": {},
   "source": [
    "# Boosting\n",
    "\n",
    "A metodologia foi inicialmente criada para resolver uma classificação, a idéia principal por é encontrar hipóteses fracas, aprender repetidamente e combinar essas hipóteses fracas dentro de uma única hipótese.\n",
    "  \n",
    "É um método de ensemble? Sim.  \n",
    "**Métodos de ensemble** que tem como objetivo **combinar as predições de diversos estimadores mais simples** para gerar uma **predição final mais robusta**\n",
    "\n",
    "- **Métodos de boosting**: têm como procedimento geral a construção de estimadores de forma sequencial, de modo que estimadores posteriores tentam reduzir o **viés** do estimador conjunto, que leva em consideração estimadores anteriores. Ex.: **adaboost**."
   ]
  },
  {
   "cell_type": "markdown",
   "metadata": {},
   "source": [
    "## Métodos de Ensemble\n",
    "\n",
    "\n",
    "Há uma classe de algoritmos de Machine Learning, os chamados **métodos de ensemble** que tem como objetivo **combinar as predições de diversos estimadores mais simples** para gerar uma **predição final mais robusta**\n",
    "\n",
    "Os métodos de ensemble costuman ser divididos em duas classes:\n",
    "\n",
    "- **Métodos de média**: têm como procedimento geral construir diversos estimadores independentes, e tomar a média de suas predições como a predição final. O principal objetivo do método é reduzir **variância**, de modo que o modelo final seja melhor que todos os modelos individuais. Ex.: **random forest.**\n",
    "<br>\n",
    "\n",
    "- **Métodos de boosting**: têm como procedimento geral a construção de estimadores de forma sequencial, de modo que estimadores posteriores tentam reduzir o **viés** do estimador conjunto, que leva em consideração estimadores anteriores. Ex.: **adaboost**.\n",
    "\n",
    "Há, ainda, uma terceira classe de método de ensemble, o chamado [stacking ensemble](https://machinelearningmastery.com/stacking-ensemble-machine-learning-with-python/), que consiste em \"empilhar\" modelos de modo a produzir a mistura. Não veremos esta modalidade em detalhes, mas deixo como sugestão para estudos posteriores! :)\n",
    "\n",
    "Para mais detalhes sobre métodos de ensemble no contexto do sklearn, [clique aqui!](https://scikit-learn.org/stable/modules/ensemble.html)\n",
    "\n",
    "Na aula de hoje, vamos conhecer em detalhes os procedimentos de bagging e boosting, ilustrados pelos métodos Random Forest e AdaBoost, respectivamente. Vamos lá!"
   ]
  },
  {
   "cell_type": "markdown",
   "metadata": {},
   "source": [
    "______\n",
    "\n",
    "### Bagging vs Boosting\n",
    "\n",
    "Pra lembrar as principais diferenças entre os dois métodos de ensemble que estudamos:\n",
    "\n",
    "<img src=https://pluralsight2.imgix.net/guides/81232a78-2e99-4ccc-ba8e-8cd873625fdf_2.jpg width=600>"
   ]
  },
  {
   "cell_type": "code",
   "execution_count": 1,
   "metadata": {
    "ExecuteTime": {
     "end_time": "2022-02-21T21:19:03.606609Z",
     "start_time": "2022-02-21T21:18:59.520014Z"
    }
   },
   "outputs": [],
   "source": [
    "import pandas as pd\n",
    "import numpy as np\n",
    "import matplotlib.pyplot as plt\n",
    "import seaborn as sns"
   ]
  },
  {
   "cell_type": "markdown",
   "metadata": {},
   "source": [
    "____\n",
    "____\n",
    "____"
   ]
  },
  {
   "cell_type": "markdown",
   "metadata": {},
   "source": [
    "## Boosting & AdaBoost\n",
    "\n",
    "O AdaBoost significa **Adaptive Boosting**, e tem como procedimento geral **a criação sucessiva dos chamados weak learners**, que são modelos bem fracos de aprendizagem - geralmente, **árvores de um único nó (stumps)**.\n",
    "\n",
    "<img src=\"https://miro.medium.com/max/1744/1*nJ5VrsiS1yaOR77d4h8gyw.png\" width=300>"
   ]
  },
  {
   "cell_type": "markdown",
   "metadata": {},
   "source": [
    "O AdaBoost utiliza os **erros da árvore anterior para melhorar a próxima árvore**. As predições finais são feitas com base **nos pesos de cada stump**, cuja determinação faz parte do algoritmo!\n",
    "\n",
    "<img src=\"https://static.packt-cdn.com/products/9781788295758/graphics/image_04_046-1.png\" width=700>\n",
    "\n",
    "Vamos entender um pouco melhor..."
   ]
  },
  {
   "cell_type": "markdown",
   "metadata": {},
   "source": [
    "Aqui, o bootstrapping não é utilizado: o método começa treinando um classificador fraco **no dataset original**, e depois treina diversas cópias adicionais do classificador **no mesmo dataset**, mas dando **um peso maior às observações que foram classificadas erroneamente** (ou, no caso de regressões, a observações **com o maior erro**).\n",
    "\n",
    "Assim, após diversas iterações, classificadores/regressores vão sequencialmente \"focando nos casos mais difíceis\", e construindo um classificador encadeado que seja forte, apesar de utilizar diversos classificadores fracos em como elementos fundamentais.\n",
    "\n",
    "<img src=\"https://www.researchgate.net/profile/Zhuo_Wang8/publication/288699540/figure/fig9/AS:668373486686246@1536364065786/Illustration-of-AdaBoost-algorithm-for-creating-a-strong-classifier-based-on-multiple.png\" width=500>\n"
   ]
  },
  {
   "cell_type": "markdown",
   "metadata": {},
   "source": [
    "De forma resumida, as principais ideias por trás deste algoritmo são:\n",
    "\n",
    "- O algoritmo cria e combina um conjunto de **modelos fracos** (em geral, stumps);\n",
    "- Cada stump é criado **levando em consideração os erros do stump anterior**;\n",
    "- Alguns dos stumps têm **maior peso de decisão** do que outros na predição final;\n",
    "\n",
    "As classes no sklearn são:\n",
    "\n",
    "- [AdaBoostClassifier](https://scikit-learn.org/stable/modules/generated/sklearn.ensemble.AdaBoostClassifier.html)\n",
    "\n",
    "- [AdaBoostRegressor](https://scikit-learn.org/stable/modules/generated/sklearn.ensemble.AdaBoostRegressor.html#sklearn.ensemble.AdaBoostRegressor)\n",
    "\n",
    "Note que não há muitos hiperparâmetros. O mais importante, que deve ser tunado com o grid/random search, é:\n",
    "\n",
    "- `n_estimators` : o número de weak learners encadeados;\n",
    "\n",
    "Além disso, pode também ser interessante tunar os hiperparâmetros dos weak learners. Isso é possível de ser feito, como veremos a seguir!\n"
   ]
  },
  {
   "cell_type": "markdown",
   "metadata": {},
   "source": [
    "Uma animação para entendermos melhor...  \n",
    "- O projeto https://periodicos.uff.br/anaisdoser/article/download/29032/16865/100072\n",
    "- O resultado https://mateusmaia.shinyapps.io/adaboosting/"
   ]
  },
  {
   "cell_type": "markdown",
   "metadata": {},
   "source": [
    "Primeiro, vamos começar com nosso baseline:"
   ]
  },
  {
   "cell_type": "code",
   "execution_count": 20,
   "metadata": {
    "ExecuteTime": {
     "end_time": "2022-02-21T22:56:30.922991Z",
     "start_time": "2022-02-21T22:56:30.905001Z"
    }
   },
   "outputs": [],
   "source": [
    "from sklearn.model_selection import train_test_split\n",
    "\n",
    "from sklearn.pipeline import Pipeline\n",
    "from sklearn.compose import ColumnTransformer\n",
    "\n",
    "from sklearn.preprocessing import StandardScaler, OneHotEncoder, OrdinalEncoder\n",
    "from sklearn.impute import SimpleImputer\n",
    "\n",
    "from sklearn.metrics import classification_report\n",
    "\n",
    "from sklearn import set_config\n",
    "set_config(display=\"diagram\")"
   ]
  },
  {
   "cell_type": "code",
   "execution_count": 3,
   "metadata": {},
   "outputs": [
    {
     "data": {
      "text/html": [
       "<div>\n",
       "<style scoped>\n",
       "    .dataframe tbody tr th:only-of-type {\n",
       "        vertical-align: middle;\n",
       "    }\n",
       "\n",
       "    .dataframe tbody tr th {\n",
       "        vertical-align: top;\n",
       "    }\n",
       "\n",
       "    .dataframe thead th {\n",
       "        text-align: right;\n",
       "    }\n",
       "</style>\n",
       "<table border=\"1\" class=\"dataframe\">\n",
       "  <thead>\n",
       "    <tr style=\"text-align: right;\">\n",
       "      <th></th>\n",
       "      <th>Age</th>\n",
       "      <th>Sex</th>\n",
       "      <th>Job</th>\n",
       "      <th>Housing</th>\n",
       "      <th>Saving accounts</th>\n",
       "      <th>Checking account</th>\n",
       "      <th>Credit amount</th>\n",
       "      <th>Duration</th>\n",
       "      <th>Purpose</th>\n",
       "      <th>Risk</th>\n",
       "    </tr>\n",
       "  </thead>\n",
       "  <tbody>\n",
       "    <tr>\n",
       "      <th>0</th>\n",
       "      <td>67</td>\n",
       "      <td>male</td>\n",
       "      <td>2</td>\n",
       "      <td>own</td>\n",
       "      <td>NaN</td>\n",
       "      <td>little</td>\n",
       "      <td>1169</td>\n",
       "      <td>6</td>\n",
       "      <td>radio/TV</td>\n",
       "      <td>good</td>\n",
       "    </tr>\n",
       "    <tr>\n",
       "      <th>1</th>\n",
       "      <td>22</td>\n",
       "      <td>female</td>\n",
       "      <td>2</td>\n",
       "      <td>own</td>\n",
       "      <td>little</td>\n",
       "      <td>moderate</td>\n",
       "      <td>5951</td>\n",
       "      <td>48</td>\n",
       "      <td>radio/TV</td>\n",
       "      <td>bad</td>\n",
       "    </tr>\n",
       "    <tr>\n",
       "      <th>2</th>\n",
       "      <td>49</td>\n",
       "      <td>male</td>\n",
       "      <td>1</td>\n",
       "      <td>own</td>\n",
       "      <td>little</td>\n",
       "      <td>NaN</td>\n",
       "      <td>2096</td>\n",
       "      <td>12</td>\n",
       "      <td>education</td>\n",
       "      <td>good</td>\n",
       "    </tr>\n",
       "    <tr>\n",
       "      <th>3</th>\n",
       "      <td>45</td>\n",
       "      <td>male</td>\n",
       "      <td>2</td>\n",
       "      <td>free</td>\n",
       "      <td>little</td>\n",
       "      <td>little</td>\n",
       "      <td>7882</td>\n",
       "      <td>42</td>\n",
       "      <td>furniture/equipment</td>\n",
       "      <td>good</td>\n",
       "    </tr>\n",
       "    <tr>\n",
       "      <th>4</th>\n",
       "      <td>53</td>\n",
       "      <td>male</td>\n",
       "      <td>2</td>\n",
       "      <td>free</td>\n",
       "      <td>little</td>\n",
       "      <td>little</td>\n",
       "      <td>4870</td>\n",
       "      <td>24</td>\n",
       "      <td>car</td>\n",
       "      <td>bad</td>\n",
       "    </tr>\n",
       "  </tbody>\n",
       "</table>\n",
       "</div>"
      ],
      "text/plain": [
       "   Age     Sex  Job Housing Saving accounts Checking account  Credit amount  \\\n",
       "0   67    male    2     own             NaN           little           1169   \n",
       "1   22  female    2     own          little         moderate           5951   \n",
       "2   49    male    1     own          little              NaN           2096   \n",
       "3   45    male    2    free          little           little           7882   \n",
       "4   53    male    2    free          little           little           4870   \n",
       "\n",
       "   Duration              Purpose  Risk  \n",
       "0         6             radio/TV  good  \n",
       "1        48             radio/TV   bad  \n",
       "2        12            education  good  \n",
       "3        42  furniture/equipment  good  \n",
       "4        24                  car   bad  "
      ]
     },
     "execution_count": 3,
     "metadata": {},
     "output_type": "execute_result"
    }
   ],
   "source": [
    "df = pd.read_csv('dados/german_credit_data.csv', index_col=0)\n",
    "df.head()"
   ]
  },
  {
   "cell_type": "code",
   "execution_count": 4,
   "metadata": {},
   "outputs": [],
   "source": [
    "df['Risk'] = df['Risk'].replace({'good': 1, 'bad': 0})"
   ]
  },
  {
   "cell_type": "code",
   "execution_count": 5,
   "metadata": {},
   "outputs": [
    {
     "data": {
      "text/plain": [
       "Age                   0\n",
       "Sex                   0\n",
       "Job                   0\n",
       "Housing               0\n",
       "Saving accounts     183\n",
       "Checking account    394\n",
       "Credit amount         0\n",
       "Duration              0\n",
       "Purpose               0\n",
       "Risk                  0\n",
       "dtype: int64"
      ]
     },
     "execution_count": 5,
     "metadata": {},
     "output_type": "execute_result"
    }
   ],
   "source": [
    "df.isna().sum()"
   ]
  },
  {
   "cell_type": "code",
   "execution_count": 6,
   "metadata": {},
   "outputs": [
    {
     "data": {
      "text/html": [
       "<div>\n",
       "<style scoped>\n",
       "    .dataframe tbody tr th:only-of-type {\n",
       "        vertical-align: middle;\n",
       "    }\n",
       "\n",
       "    .dataframe tbody tr th {\n",
       "        vertical-align: top;\n",
       "    }\n",
       "\n",
       "    .dataframe thead th {\n",
       "        text-align: right;\n",
       "    }\n",
       "</style>\n",
       "<table border=\"1\" class=\"dataframe\">\n",
       "  <thead>\n",
       "    <tr style=\"text-align: right;\">\n",
       "      <th></th>\n",
       "      <th>Age</th>\n",
       "      <th>Job</th>\n",
       "      <th>Credit amount</th>\n",
       "      <th>Duration</th>\n",
       "      <th>Risk</th>\n",
       "    </tr>\n",
       "  </thead>\n",
       "  <tbody>\n",
       "    <tr>\n",
       "      <th>count</th>\n",
       "      <td>1000.000000</td>\n",
       "      <td>1000.000000</td>\n",
       "      <td>1000.000000</td>\n",
       "      <td>1000.000000</td>\n",
       "      <td>1000.000000</td>\n",
       "    </tr>\n",
       "    <tr>\n",
       "      <th>mean</th>\n",
       "      <td>35.546000</td>\n",
       "      <td>1.904000</td>\n",
       "      <td>3271.258000</td>\n",
       "      <td>20.903000</td>\n",
       "      <td>0.700000</td>\n",
       "    </tr>\n",
       "    <tr>\n",
       "      <th>std</th>\n",
       "      <td>11.375469</td>\n",
       "      <td>0.653614</td>\n",
       "      <td>2822.736876</td>\n",
       "      <td>12.058814</td>\n",
       "      <td>0.458487</td>\n",
       "    </tr>\n",
       "    <tr>\n",
       "      <th>min</th>\n",
       "      <td>19.000000</td>\n",
       "      <td>0.000000</td>\n",
       "      <td>250.000000</td>\n",
       "      <td>4.000000</td>\n",
       "      <td>0.000000</td>\n",
       "    </tr>\n",
       "    <tr>\n",
       "      <th>25%</th>\n",
       "      <td>27.000000</td>\n",
       "      <td>2.000000</td>\n",
       "      <td>1365.500000</td>\n",
       "      <td>12.000000</td>\n",
       "      <td>0.000000</td>\n",
       "    </tr>\n",
       "    <tr>\n",
       "      <th>50%</th>\n",
       "      <td>33.000000</td>\n",
       "      <td>2.000000</td>\n",
       "      <td>2319.500000</td>\n",
       "      <td>18.000000</td>\n",
       "      <td>1.000000</td>\n",
       "    </tr>\n",
       "    <tr>\n",
       "      <th>75%</th>\n",
       "      <td>42.000000</td>\n",
       "      <td>2.000000</td>\n",
       "      <td>3972.250000</td>\n",
       "      <td>24.000000</td>\n",
       "      <td>1.000000</td>\n",
       "    </tr>\n",
       "    <tr>\n",
       "      <th>max</th>\n",
       "      <td>75.000000</td>\n",
       "      <td>3.000000</td>\n",
       "      <td>18424.000000</td>\n",
       "      <td>72.000000</td>\n",
       "      <td>1.000000</td>\n",
       "    </tr>\n",
       "  </tbody>\n",
       "</table>\n",
       "</div>"
      ],
      "text/plain": [
       "               Age          Job  Credit amount     Duration         Risk\n",
       "count  1000.000000  1000.000000    1000.000000  1000.000000  1000.000000\n",
       "mean     35.546000     1.904000    3271.258000    20.903000     0.700000\n",
       "std      11.375469     0.653614    2822.736876    12.058814     0.458487\n",
       "min      19.000000     0.000000     250.000000     4.000000     0.000000\n",
       "25%      27.000000     2.000000    1365.500000    12.000000     0.000000\n",
       "50%      33.000000     2.000000    2319.500000    18.000000     1.000000\n",
       "75%      42.000000     2.000000    3972.250000    24.000000     1.000000\n",
       "max      75.000000     3.000000   18424.000000    72.000000     1.000000"
      ]
     },
     "execution_count": 6,
     "metadata": {},
     "output_type": "execute_result"
    }
   ],
   "source": [
    "df.describe()"
   ]
  },
  {
   "cell_type": "code",
   "execution_count": 8,
   "metadata": {},
   "outputs": [
    {
     "data": {
      "text/plain": [
       "2    630\n",
       "1    200\n",
       "3    148\n",
       "0     22\n",
       "Name: Job, dtype: int64"
      ]
     },
     "execution_count": 8,
     "metadata": {},
     "output_type": "execute_result"
    }
   ],
   "source": [
    "df['Job'].value_counts()"
   ]
  },
  {
   "cell_type": "code",
   "execution_count": 9,
   "metadata": {},
   "outputs": [],
   "source": [
    "target = 'Risk'\n",
    "\n",
    "feat_num = ['Age', 'Credit amount', 'Duration']\n",
    "\n",
    "feat_cat_or = ['Job', 'Saving accounts', 'Checking account']\n",
    "feat_cat_no = ['Sex', 'Housing', 'Purpose']"
   ]
  },
  {
   "cell_type": "code",
   "execution_count": 10,
   "metadata": {},
   "outputs": [
    {
     "data": {
      "text/plain": [
       "array(['little', 'moderate', nan, 'rich'], dtype=object)"
      ]
     },
     "execution_count": 10,
     "metadata": {},
     "output_type": "execute_result"
    }
   ],
   "source": [
    "df['Checking account'].unique()"
   ]
  },
  {
   "cell_type": "code",
   "execution_count": 11,
   "metadata": {},
   "outputs": [],
   "source": [
    "feat_cat_or_seq = {\n",
    "    'Job': [0, 1, 2, 3],\n",
    "    'Saving accounts': ['little', 'moderate', 'quite rich', 'rich'],\n",
    "    'Checking account': ['little', 'moderate', 'rich']\n",
    "}"
   ]
  },
  {
   "cell_type": "code",
   "execution_count": 12,
   "metadata": {},
   "outputs": [],
   "source": [
    "def cria_seq_replace(lista):\n",
    "    return dict([(valor, i) for i, valor in enumerate(feat_cat_or_seq[lista])])"
   ]
  },
  {
   "cell_type": "code",
   "execution_count": 13,
   "metadata": {},
   "outputs": [
    {
     "data": {
      "text/plain": [
       "{'little': 0, 'moderate': 1, 'quite rich': 2, 'rich': 3}"
      ]
     },
     "execution_count": 13,
     "metadata": {},
     "output_type": "execute_result"
    }
   ],
   "source": [
    "cria_seq_replace('Saving accounts')"
   ]
  },
  {
   "cell_type": "code",
   "execution_count": 14,
   "metadata": {},
   "outputs": [],
   "source": [
    "for feature in feat_cat_or:\n",
    "    df[feature] = df[feature].replace(cria_seq_replace(feature))"
   ]
  },
  {
   "cell_type": "code",
   "execution_count": 15,
   "metadata": {},
   "outputs": [
    {
     "data": {
      "text/html": [
       "<div>\n",
       "<style scoped>\n",
       "    .dataframe tbody tr th:only-of-type {\n",
       "        vertical-align: middle;\n",
       "    }\n",
       "\n",
       "    .dataframe tbody tr th {\n",
       "        vertical-align: top;\n",
       "    }\n",
       "\n",
       "    .dataframe thead th {\n",
       "        text-align: right;\n",
       "    }\n",
       "</style>\n",
       "<table border=\"1\" class=\"dataframe\">\n",
       "  <thead>\n",
       "    <tr style=\"text-align: right;\">\n",
       "      <th></th>\n",
       "      <th>Age</th>\n",
       "      <th>Sex</th>\n",
       "      <th>Job</th>\n",
       "      <th>Housing</th>\n",
       "      <th>Saving accounts</th>\n",
       "      <th>Checking account</th>\n",
       "      <th>Credit amount</th>\n",
       "      <th>Duration</th>\n",
       "      <th>Purpose</th>\n",
       "      <th>Risk</th>\n",
       "    </tr>\n",
       "  </thead>\n",
       "  <tbody>\n",
       "    <tr>\n",
       "      <th>0</th>\n",
       "      <td>67</td>\n",
       "      <td>male</td>\n",
       "      <td>2</td>\n",
       "      <td>own</td>\n",
       "      <td>NaN</td>\n",
       "      <td>0.0</td>\n",
       "      <td>1169</td>\n",
       "      <td>6</td>\n",
       "      <td>radio/TV</td>\n",
       "      <td>1</td>\n",
       "    </tr>\n",
       "    <tr>\n",
       "      <th>1</th>\n",
       "      <td>22</td>\n",
       "      <td>female</td>\n",
       "      <td>2</td>\n",
       "      <td>own</td>\n",
       "      <td>0.0</td>\n",
       "      <td>1.0</td>\n",
       "      <td>5951</td>\n",
       "      <td>48</td>\n",
       "      <td>radio/TV</td>\n",
       "      <td>0</td>\n",
       "    </tr>\n",
       "    <tr>\n",
       "      <th>2</th>\n",
       "      <td>49</td>\n",
       "      <td>male</td>\n",
       "      <td>1</td>\n",
       "      <td>own</td>\n",
       "      <td>0.0</td>\n",
       "      <td>NaN</td>\n",
       "      <td>2096</td>\n",
       "      <td>12</td>\n",
       "      <td>education</td>\n",
       "      <td>1</td>\n",
       "    </tr>\n",
       "    <tr>\n",
       "      <th>3</th>\n",
       "      <td>45</td>\n",
       "      <td>male</td>\n",
       "      <td>2</td>\n",
       "      <td>free</td>\n",
       "      <td>0.0</td>\n",
       "      <td>0.0</td>\n",
       "      <td>7882</td>\n",
       "      <td>42</td>\n",
       "      <td>furniture/equipment</td>\n",
       "      <td>1</td>\n",
       "    </tr>\n",
       "    <tr>\n",
       "      <th>4</th>\n",
       "      <td>53</td>\n",
       "      <td>male</td>\n",
       "      <td>2</td>\n",
       "      <td>free</td>\n",
       "      <td>0.0</td>\n",
       "      <td>0.0</td>\n",
       "      <td>4870</td>\n",
       "      <td>24</td>\n",
       "      <td>car</td>\n",
       "      <td>0</td>\n",
       "    </tr>\n",
       "  </tbody>\n",
       "</table>\n",
       "</div>"
      ],
      "text/plain": [
       "   Age     Sex  Job Housing  Saving accounts  Checking account  Credit amount  \\\n",
       "0   67    male    2     own              NaN               0.0           1169   \n",
       "1   22  female    2     own              0.0               1.0           5951   \n",
       "2   49    male    1     own              0.0               NaN           2096   \n",
       "3   45    male    2    free              0.0               0.0           7882   \n",
       "4   53    male    2    free              0.0               0.0           4870   \n",
       "\n",
       "   Duration              Purpose  Risk  \n",
       "0         6             radio/TV     1  \n",
       "1        48             radio/TV     0  \n",
       "2        12            education     1  \n",
       "3        42  furniture/equipment     1  \n",
       "4        24                  car     0  "
      ]
     },
     "execution_count": 15,
     "metadata": {},
     "output_type": "execute_result"
    }
   ],
   "source": [
    "df.head()"
   ]
  },
  {
   "cell_type": "code",
   "execution_count": 16,
   "metadata": {},
   "outputs": [],
   "source": [
    "X = df.drop(columns=target)\n",
    "y = df[target]\n",
    "\n",
    "X_train, X_test, y_train, y_test = train_test_split(X, y, train_size=0.8, \n",
    "                                                    random_state=42, stratify=y)"
   ]
  },
  {
   "cell_type": "markdown",
   "metadata": {},
   "source": [
    "#### Pipeline Customizado\n",
    "https://towardsdatascience.com/pipelines-custom-transformers-in-scikit-learn-the-step-by-step-guide-with-python-code-4a7d9b068156"
   ]
  },
  {
   "cell_type": "code",
   "execution_count": 17,
   "metadata": {},
   "outputs": [],
   "source": [
    "def cria_pipe_pre():\n",
    "    pipe_pre_num = Pipeline([\n",
    "        ('pre_inp_num', SimpleImputer(strategy='mean')),\n",
    "        ('pre_sc_std', StandardScaler())\n",
    "    ])\n",
    "\n",
    "    pipe_pre_cat_or = Pipeline([\n",
    "        ('pre_inp_cat_or', SimpleImputer(strategy='constant', fill_value=-1)),\n",
    "        ('pre_sc_std', StandardScaler())\n",
    "    ])\n",
    "\n",
    "    pipe_pre_cat_no = Pipeline([\n",
    "        ('pre_inp_cat_no', SimpleImputer(strategy='most_frequent')),\n",
    "        ('pre_tra_one', OneHotEncoder(drop='first'))\n",
    "    ])\n",
    "\n",
    "    pipe_pre = ColumnTransformer([\n",
    "        ('pipe_pre_num', pipe_pre_num, feat_num),\n",
    "        ('pipe_pre_cat_or', pipe_pre_cat_or, feat_cat_or),\n",
    "        ('pipe_pre_cat_no', pipe_pre_cat_no, feat_cat_no)\n",
    "    ])\n",
    "    \n",
    "    return pipe_pre"
   ]
  },
  {
   "cell_type": "code",
   "execution_count": 18,
   "metadata": {},
   "outputs": [],
   "source": [
    "pipe_pre = cria_pipe_pre()"
   ]
  },
  {
   "cell_type": "code",
   "execution_count": 21,
   "metadata": {},
   "outputs": [
    {
     "data": {
      "text/html": [
       "<style>#sk-1996b2bf-963c-4dc8-99bb-4e4892d0323b {color: black;background-color: white;}#sk-1996b2bf-963c-4dc8-99bb-4e4892d0323b pre{padding: 0;}#sk-1996b2bf-963c-4dc8-99bb-4e4892d0323b div.sk-toggleable {background-color: white;}#sk-1996b2bf-963c-4dc8-99bb-4e4892d0323b label.sk-toggleable__label {cursor: pointer;display: block;width: 100%;margin-bottom: 0;padding: 0.3em;box-sizing: border-box;text-align: center;}#sk-1996b2bf-963c-4dc8-99bb-4e4892d0323b label.sk-toggleable__label-arrow:before {content: \"▸\";float: left;margin-right: 0.25em;color: #696969;}#sk-1996b2bf-963c-4dc8-99bb-4e4892d0323b label.sk-toggleable__label-arrow:hover:before {color: black;}#sk-1996b2bf-963c-4dc8-99bb-4e4892d0323b div.sk-estimator:hover label.sk-toggleable__label-arrow:before {color: black;}#sk-1996b2bf-963c-4dc8-99bb-4e4892d0323b div.sk-toggleable__content {max-height: 0;max-width: 0;overflow: hidden;text-align: left;background-color: #f0f8ff;}#sk-1996b2bf-963c-4dc8-99bb-4e4892d0323b div.sk-toggleable__content pre {margin: 0.2em;color: black;border-radius: 0.25em;background-color: #f0f8ff;}#sk-1996b2bf-963c-4dc8-99bb-4e4892d0323b input.sk-toggleable__control:checked~div.sk-toggleable__content {max-height: 200px;max-width: 100%;overflow: auto;}#sk-1996b2bf-963c-4dc8-99bb-4e4892d0323b input.sk-toggleable__control:checked~label.sk-toggleable__label-arrow:before {content: \"▾\";}#sk-1996b2bf-963c-4dc8-99bb-4e4892d0323b div.sk-estimator input.sk-toggleable__control:checked~label.sk-toggleable__label {background-color: #d4ebff;}#sk-1996b2bf-963c-4dc8-99bb-4e4892d0323b div.sk-label input.sk-toggleable__control:checked~label.sk-toggleable__label {background-color: #d4ebff;}#sk-1996b2bf-963c-4dc8-99bb-4e4892d0323b input.sk-hidden--visually {border: 0;clip: rect(1px 1px 1px 1px);clip: rect(1px, 1px, 1px, 1px);height: 1px;margin: -1px;overflow: hidden;padding: 0;position: absolute;width: 1px;}#sk-1996b2bf-963c-4dc8-99bb-4e4892d0323b div.sk-estimator {font-family: monospace;background-color: #f0f8ff;border: 1px dotted black;border-radius: 0.25em;box-sizing: border-box;margin-bottom: 0.5em;}#sk-1996b2bf-963c-4dc8-99bb-4e4892d0323b div.sk-estimator:hover {background-color: #d4ebff;}#sk-1996b2bf-963c-4dc8-99bb-4e4892d0323b div.sk-parallel-item::after {content: \"\";width: 100%;border-bottom: 1px solid gray;flex-grow: 1;}#sk-1996b2bf-963c-4dc8-99bb-4e4892d0323b div.sk-label:hover label.sk-toggleable__label {background-color: #d4ebff;}#sk-1996b2bf-963c-4dc8-99bb-4e4892d0323b div.sk-serial::before {content: \"\";position: absolute;border-left: 1px solid gray;box-sizing: border-box;top: 2em;bottom: 0;left: 50%;}#sk-1996b2bf-963c-4dc8-99bb-4e4892d0323b div.sk-serial {display: flex;flex-direction: column;align-items: center;background-color: white;padding-right: 0.2em;padding-left: 0.2em;}#sk-1996b2bf-963c-4dc8-99bb-4e4892d0323b div.sk-item {z-index: 1;}#sk-1996b2bf-963c-4dc8-99bb-4e4892d0323b div.sk-parallel {display: flex;align-items: stretch;justify-content: center;background-color: white;}#sk-1996b2bf-963c-4dc8-99bb-4e4892d0323b div.sk-parallel::before {content: \"\";position: absolute;border-left: 1px solid gray;box-sizing: border-box;top: 2em;bottom: 0;left: 50%;}#sk-1996b2bf-963c-4dc8-99bb-4e4892d0323b div.sk-parallel-item {display: flex;flex-direction: column;position: relative;background-color: white;}#sk-1996b2bf-963c-4dc8-99bb-4e4892d0323b div.sk-parallel-item:first-child::after {align-self: flex-end;width: 50%;}#sk-1996b2bf-963c-4dc8-99bb-4e4892d0323b div.sk-parallel-item:last-child::after {align-self: flex-start;width: 50%;}#sk-1996b2bf-963c-4dc8-99bb-4e4892d0323b div.sk-parallel-item:only-child::after {width: 0;}#sk-1996b2bf-963c-4dc8-99bb-4e4892d0323b div.sk-dashed-wrapped {border: 1px dashed gray;margin: 0 0.4em 0.5em 0.4em;box-sizing: border-box;padding-bottom: 0.4em;background-color: white;position: relative;}#sk-1996b2bf-963c-4dc8-99bb-4e4892d0323b div.sk-label label {font-family: monospace;font-weight: bold;background-color: white;display: inline-block;line-height: 1.2em;}#sk-1996b2bf-963c-4dc8-99bb-4e4892d0323b div.sk-label-container {position: relative;z-index: 2;text-align: center;}#sk-1996b2bf-963c-4dc8-99bb-4e4892d0323b div.sk-container {/* jupyter's `normalize.less` sets `[hidden] { display: none; }` but bootstrap.min.css set `[hidden] { display: none !important; }` so we also need the `!important` here to be able to override the default hidden behavior on the sphinx rendered scikit-learn.org. See: https://github.com/scikit-learn/scikit-learn/issues/21755 */display: inline-block !important;position: relative;}#sk-1996b2bf-963c-4dc8-99bb-4e4892d0323b div.sk-text-repr-fallback {display: none;}</style><div id=\"sk-1996b2bf-963c-4dc8-99bb-4e4892d0323b\" class=\"sk-top-container\"><div class=\"sk-text-repr-fallback\"><pre>ColumnTransformer(transformers=[(&#x27;pipe_pre_num&#x27;,\n",
       "                                 Pipeline(steps=[(&#x27;pre_inp_num&#x27;,\n",
       "                                                  SimpleImputer()),\n",
       "                                                 (&#x27;pre_sc_std&#x27;,\n",
       "                                                  StandardScaler())]),\n",
       "                                 [&#x27;Age&#x27;, &#x27;Credit amount&#x27;, &#x27;Duration&#x27;]),\n",
       "                                (&#x27;pipe_pre_cat_or&#x27;,\n",
       "                                 Pipeline(steps=[(&#x27;pre_inp_cat_or&#x27;,\n",
       "                                                  SimpleImputer(fill_value=-1,\n",
       "                                                                strategy=&#x27;constant&#x27;)),\n",
       "                                                 (&#x27;pre_sc_std&#x27;,\n",
       "                                                  StandardScaler())]),\n",
       "                                 [&#x27;Job&#x27;, &#x27;Saving accounts&#x27;,\n",
       "                                  &#x27;Checking account&#x27;]),\n",
       "                                (&#x27;pipe_pre_cat_no&#x27;,\n",
       "                                 Pipeline(steps=[(&#x27;pre_inp_cat_no&#x27;,\n",
       "                                                  SimpleImputer(strategy=&#x27;most_frequent&#x27;)),\n",
       "                                                 (&#x27;pre_tra_one&#x27;,\n",
       "                                                  OneHotEncoder(drop=&#x27;first&#x27;))]),\n",
       "                                 [&#x27;Sex&#x27;, &#x27;Housing&#x27;, &#x27;Purpose&#x27;])])</pre><b>Please rerun this cell to show the HTML repr or trust the notebook.</b></div><div class=\"sk-container\" hidden><div class=\"sk-item sk-dashed-wrapped\"><div class=\"sk-label-container\"><div class=\"sk-label sk-toggleable\"><input class=\"sk-toggleable__control sk-hidden--visually\" id=\"971a2e90-e008-42b7-afad-d72060666c7c\" type=\"checkbox\" ><label for=\"971a2e90-e008-42b7-afad-d72060666c7c\" class=\"sk-toggleable__label sk-toggleable__label-arrow\">ColumnTransformer</label><div class=\"sk-toggleable__content\"><pre>ColumnTransformer(transformers=[(&#x27;pipe_pre_num&#x27;,\n",
       "                                 Pipeline(steps=[(&#x27;pre_inp_num&#x27;,\n",
       "                                                  SimpleImputer()),\n",
       "                                                 (&#x27;pre_sc_std&#x27;,\n",
       "                                                  StandardScaler())]),\n",
       "                                 [&#x27;Age&#x27;, &#x27;Credit amount&#x27;, &#x27;Duration&#x27;]),\n",
       "                                (&#x27;pipe_pre_cat_or&#x27;,\n",
       "                                 Pipeline(steps=[(&#x27;pre_inp_cat_or&#x27;,\n",
       "                                                  SimpleImputer(fill_value=-1,\n",
       "                                                                strategy=&#x27;constant&#x27;)),\n",
       "                                                 (&#x27;pre_sc_std&#x27;,\n",
       "                                                  StandardScaler())]),\n",
       "                                 [&#x27;Job&#x27;, &#x27;Saving accounts&#x27;,\n",
       "                                  &#x27;Checking account&#x27;]),\n",
       "                                (&#x27;pipe_pre_cat_no&#x27;,\n",
       "                                 Pipeline(steps=[(&#x27;pre_inp_cat_no&#x27;,\n",
       "                                                  SimpleImputer(strategy=&#x27;most_frequent&#x27;)),\n",
       "                                                 (&#x27;pre_tra_one&#x27;,\n",
       "                                                  OneHotEncoder(drop=&#x27;first&#x27;))]),\n",
       "                                 [&#x27;Sex&#x27;, &#x27;Housing&#x27;, &#x27;Purpose&#x27;])])</pre></div></div></div><div class=\"sk-parallel\"><div class=\"sk-parallel-item\"><div class=\"sk-item\"><div class=\"sk-label-container\"><div class=\"sk-label sk-toggleable\"><input class=\"sk-toggleable__control sk-hidden--visually\" id=\"ed606617-f2ba-4ef7-8e5a-597565703108\" type=\"checkbox\" ><label for=\"ed606617-f2ba-4ef7-8e5a-597565703108\" class=\"sk-toggleable__label sk-toggleable__label-arrow\">pipe_pre_num</label><div class=\"sk-toggleable__content\"><pre>[&#x27;Age&#x27;, &#x27;Credit amount&#x27;, &#x27;Duration&#x27;]</pre></div></div></div><div class=\"sk-serial\"><div class=\"sk-item\"><div class=\"sk-serial\"><div class=\"sk-item\"><div class=\"sk-estimator sk-toggleable\"><input class=\"sk-toggleable__control sk-hidden--visually\" id=\"69ce6a21-824e-4e64-91a8-3651197efa73\" type=\"checkbox\" ><label for=\"69ce6a21-824e-4e64-91a8-3651197efa73\" class=\"sk-toggleable__label sk-toggleable__label-arrow\">SimpleImputer</label><div class=\"sk-toggleable__content\"><pre>SimpleImputer()</pre></div></div></div><div class=\"sk-item\"><div class=\"sk-estimator sk-toggleable\"><input class=\"sk-toggleable__control sk-hidden--visually\" id=\"32067bc5-87a5-4a87-8d92-3b3bc96521cf\" type=\"checkbox\" ><label for=\"32067bc5-87a5-4a87-8d92-3b3bc96521cf\" class=\"sk-toggleable__label sk-toggleable__label-arrow\">StandardScaler</label><div class=\"sk-toggleable__content\"><pre>StandardScaler()</pre></div></div></div></div></div></div></div></div><div class=\"sk-parallel-item\"><div class=\"sk-item\"><div class=\"sk-label-container\"><div class=\"sk-label sk-toggleable\"><input class=\"sk-toggleable__control sk-hidden--visually\" id=\"1f6a397d-d4fa-4068-9203-9100ad79d0ee\" type=\"checkbox\" ><label for=\"1f6a397d-d4fa-4068-9203-9100ad79d0ee\" class=\"sk-toggleable__label sk-toggleable__label-arrow\">pipe_pre_cat_or</label><div class=\"sk-toggleable__content\"><pre>[&#x27;Job&#x27;, &#x27;Saving accounts&#x27;, &#x27;Checking account&#x27;]</pre></div></div></div><div class=\"sk-serial\"><div class=\"sk-item\"><div class=\"sk-serial\"><div class=\"sk-item\"><div class=\"sk-estimator sk-toggleable\"><input class=\"sk-toggleable__control sk-hidden--visually\" id=\"b45e113e-d240-4440-a012-b7b8c4e6b964\" type=\"checkbox\" ><label for=\"b45e113e-d240-4440-a012-b7b8c4e6b964\" class=\"sk-toggleable__label sk-toggleable__label-arrow\">SimpleImputer</label><div class=\"sk-toggleable__content\"><pre>SimpleImputer(fill_value=-1, strategy=&#x27;constant&#x27;)</pre></div></div></div><div class=\"sk-item\"><div class=\"sk-estimator sk-toggleable\"><input class=\"sk-toggleable__control sk-hidden--visually\" id=\"f71f51a3-56f7-4a1f-aa36-cc88ce4b33fc\" type=\"checkbox\" ><label for=\"f71f51a3-56f7-4a1f-aa36-cc88ce4b33fc\" class=\"sk-toggleable__label sk-toggleable__label-arrow\">StandardScaler</label><div class=\"sk-toggleable__content\"><pre>StandardScaler()</pre></div></div></div></div></div></div></div></div><div class=\"sk-parallel-item\"><div class=\"sk-item\"><div class=\"sk-label-container\"><div class=\"sk-label sk-toggleable\"><input class=\"sk-toggleable__control sk-hidden--visually\" id=\"68b7d2c7-58cb-45b2-9e98-05548d7f66f4\" type=\"checkbox\" ><label for=\"68b7d2c7-58cb-45b2-9e98-05548d7f66f4\" class=\"sk-toggleable__label sk-toggleable__label-arrow\">pipe_pre_cat_no</label><div class=\"sk-toggleable__content\"><pre>[&#x27;Sex&#x27;, &#x27;Housing&#x27;, &#x27;Purpose&#x27;]</pre></div></div></div><div class=\"sk-serial\"><div class=\"sk-item\"><div class=\"sk-serial\"><div class=\"sk-item\"><div class=\"sk-estimator sk-toggleable\"><input class=\"sk-toggleable__control sk-hidden--visually\" id=\"c784ee51-b2fb-47ba-a780-ac8d63e14dea\" type=\"checkbox\" ><label for=\"c784ee51-b2fb-47ba-a780-ac8d63e14dea\" class=\"sk-toggleable__label sk-toggleable__label-arrow\">SimpleImputer</label><div class=\"sk-toggleable__content\"><pre>SimpleImputer(strategy=&#x27;most_frequent&#x27;)</pre></div></div></div><div class=\"sk-item\"><div class=\"sk-estimator sk-toggleable\"><input class=\"sk-toggleable__control sk-hidden--visually\" id=\"e3f3d2ed-5cb4-4b09-b83e-ddc39de89bcc\" type=\"checkbox\" ><label for=\"e3f3d2ed-5cb4-4b09-b83e-ddc39de89bcc\" class=\"sk-toggleable__label sk-toggleable__label-arrow\">OneHotEncoder</label><div class=\"sk-toggleable__content\"><pre>OneHotEncoder(drop=&#x27;first&#x27;)</pre></div></div></div></div></div></div></div></div></div></div></div></div>"
      ],
      "text/plain": [
       "ColumnTransformer(transformers=[('pipe_pre_num',\n",
       "                                 Pipeline(steps=[('pre_inp_num',\n",
       "                                                  SimpleImputer()),\n",
       "                                                 ('pre_sc_std',\n",
       "                                                  StandardScaler())]),\n",
       "                                 ['Age', 'Credit amount', 'Duration']),\n",
       "                                ('pipe_pre_cat_or',\n",
       "                                 Pipeline(steps=[('pre_inp_cat_or',\n",
       "                                                  SimpleImputer(fill_value=-1,\n",
       "                                                                strategy='constant')),\n",
       "                                                 ('pre_sc_std',\n",
       "                                                  StandardScaler())]),\n",
       "                                 ['Job', 'Saving accounts',\n",
       "                                  'Checking account']),\n",
       "                                ('pipe_pre_cat_no',\n",
       "                                 Pipeline(steps=[('pre_inp_cat_no',\n",
       "                                                  SimpleImputer(strategy='most_frequent')),\n",
       "                                                 ('pre_tra_one',\n",
       "                                                  OneHotEncoder(drop='first'))]),\n",
       "                                 ['Sex', 'Housing', 'Purpose'])])"
      ]
     },
     "execution_count": 21,
     "metadata": {},
     "output_type": "execute_result"
    }
   ],
   "source": [
    "pipe_pre.fit(X_train)"
   ]
  },
  {
   "cell_type": "code",
   "execution_count": 22,
   "metadata": {},
   "outputs": [],
   "source": [
    "from sklearn.ensemble import AdaBoostClassifier\n",
    "\n",
    "pipe_ab= Pipeline([\n",
    "    ('pipe_pre', pipe_pre),\n",
    "    ('est_ab', AdaBoostClassifier(random_state=42))\n",
    "])"
   ]
  },
  {
   "cell_type": "code",
   "execution_count": 23,
   "metadata": {},
   "outputs": [
    {
     "data": {
      "text/html": [
       "<style>#sk-81099c81-176d-4c2a-beca-2f46eb4f39f2 {color: black;background-color: white;}#sk-81099c81-176d-4c2a-beca-2f46eb4f39f2 pre{padding: 0;}#sk-81099c81-176d-4c2a-beca-2f46eb4f39f2 div.sk-toggleable {background-color: white;}#sk-81099c81-176d-4c2a-beca-2f46eb4f39f2 label.sk-toggleable__label {cursor: pointer;display: block;width: 100%;margin-bottom: 0;padding: 0.3em;box-sizing: border-box;text-align: center;}#sk-81099c81-176d-4c2a-beca-2f46eb4f39f2 label.sk-toggleable__label-arrow:before {content: \"▸\";float: left;margin-right: 0.25em;color: #696969;}#sk-81099c81-176d-4c2a-beca-2f46eb4f39f2 label.sk-toggleable__label-arrow:hover:before {color: black;}#sk-81099c81-176d-4c2a-beca-2f46eb4f39f2 div.sk-estimator:hover label.sk-toggleable__label-arrow:before {color: black;}#sk-81099c81-176d-4c2a-beca-2f46eb4f39f2 div.sk-toggleable__content {max-height: 0;max-width: 0;overflow: hidden;text-align: left;background-color: #f0f8ff;}#sk-81099c81-176d-4c2a-beca-2f46eb4f39f2 div.sk-toggleable__content pre {margin: 0.2em;color: black;border-radius: 0.25em;background-color: #f0f8ff;}#sk-81099c81-176d-4c2a-beca-2f46eb4f39f2 input.sk-toggleable__control:checked~div.sk-toggleable__content {max-height: 200px;max-width: 100%;overflow: auto;}#sk-81099c81-176d-4c2a-beca-2f46eb4f39f2 input.sk-toggleable__control:checked~label.sk-toggleable__label-arrow:before {content: \"▾\";}#sk-81099c81-176d-4c2a-beca-2f46eb4f39f2 div.sk-estimator input.sk-toggleable__control:checked~label.sk-toggleable__label {background-color: #d4ebff;}#sk-81099c81-176d-4c2a-beca-2f46eb4f39f2 div.sk-label input.sk-toggleable__control:checked~label.sk-toggleable__label {background-color: #d4ebff;}#sk-81099c81-176d-4c2a-beca-2f46eb4f39f2 input.sk-hidden--visually {border: 0;clip: rect(1px 1px 1px 1px);clip: rect(1px, 1px, 1px, 1px);height: 1px;margin: -1px;overflow: hidden;padding: 0;position: absolute;width: 1px;}#sk-81099c81-176d-4c2a-beca-2f46eb4f39f2 div.sk-estimator {font-family: monospace;background-color: #f0f8ff;border: 1px dotted black;border-radius: 0.25em;box-sizing: border-box;margin-bottom: 0.5em;}#sk-81099c81-176d-4c2a-beca-2f46eb4f39f2 div.sk-estimator:hover {background-color: #d4ebff;}#sk-81099c81-176d-4c2a-beca-2f46eb4f39f2 div.sk-parallel-item::after {content: \"\";width: 100%;border-bottom: 1px solid gray;flex-grow: 1;}#sk-81099c81-176d-4c2a-beca-2f46eb4f39f2 div.sk-label:hover label.sk-toggleable__label {background-color: #d4ebff;}#sk-81099c81-176d-4c2a-beca-2f46eb4f39f2 div.sk-serial::before {content: \"\";position: absolute;border-left: 1px solid gray;box-sizing: border-box;top: 2em;bottom: 0;left: 50%;}#sk-81099c81-176d-4c2a-beca-2f46eb4f39f2 div.sk-serial {display: flex;flex-direction: column;align-items: center;background-color: white;padding-right: 0.2em;padding-left: 0.2em;}#sk-81099c81-176d-4c2a-beca-2f46eb4f39f2 div.sk-item {z-index: 1;}#sk-81099c81-176d-4c2a-beca-2f46eb4f39f2 div.sk-parallel {display: flex;align-items: stretch;justify-content: center;background-color: white;}#sk-81099c81-176d-4c2a-beca-2f46eb4f39f2 div.sk-parallel::before {content: \"\";position: absolute;border-left: 1px solid gray;box-sizing: border-box;top: 2em;bottom: 0;left: 50%;}#sk-81099c81-176d-4c2a-beca-2f46eb4f39f2 div.sk-parallel-item {display: flex;flex-direction: column;position: relative;background-color: white;}#sk-81099c81-176d-4c2a-beca-2f46eb4f39f2 div.sk-parallel-item:first-child::after {align-self: flex-end;width: 50%;}#sk-81099c81-176d-4c2a-beca-2f46eb4f39f2 div.sk-parallel-item:last-child::after {align-self: flex-start;width: 50%;}#sk-81099c81-176d-4c2a-beca-2f46eb4f39f2 div.sk-parallel-item:only-child::after {width: 0;}#sk-81099c81-176d-4c2a-beca-2f46eb4f39f2 div.sk-dashed-wrapped {border: 1px dashed gray;margin: 0 0.4em 0.5em 0.4em;box-sizing: border-box;padding-bottom: 0.4em;background-color: white;position: relative;}#sk-81099c81-176d-4c2a-beca-2f46eb4f39f2 div.sk-label label {font-family: monospace;font-weight: bold;background-color: white;display: inline-block;line-height: 1.2em;}#sk-81099c81-176d-4c2a-beca-2f46eb4f39f2 div.sk-label-container {position: relative;z-index: 2;text-align: center;}#sk-81099c81-176d-4c2a-beca-2f46eb4f39f2 div.sk-container {/* jupyter's `normalize.less` sets `[hidden] { display: none; }` but bootstrap.min.css set `[hidden] { display: none !important; }` so we also need the `!important` here to be able to override the default hidden behavior on the sphinx rendered scikit-learn.org. See: https://github.com/scikit-learn/scikit-learn/issues/21755 */display: inline-block !important;position: relative;}#sk-81099c81-176d-4c2a-beca-2f46eb4f39f2 div.sk-text-repr-fallback {display: none;}</style><div id=\"sk-81099c81-176d-4c2a-beca-2f46eb4f39f2\" class=\"sk-top-container\"><div class=\"sk-text-repr-fallback\"><pre>Pipeline(steps=[(&#x27;pipe_pre&#x27;,\n",
       "                 ColumnTransformer(transformers=[(&#x27;pipe_pre_num&#x27;,\n",
       "                                                  Pipeline(steps=[(&#x27;pre_inp_num&#x27;,\n",
       "                                                                   SimpleImputer()),\n",
       "                                                                  (&#x27;pre_sc_std&#x27;,\n",
       "                                                                   StandardScaler())]),\n",
       "                                                  [&#x27;Age&#x27;, &#x27;Credit amount&#x27;,\n",
       "                                                   &#x27;Duration&#x27;]),\n",
       "                                                 (&#x27;pipe_pre_cat_or&#x27;,\n",
       "                                                  Pipeline(steps=[(&#x27;pre_inp_cat_or&#x27;,\n",
       "                                                                   SimpleImputer(fill_value=-1,\n",
       "                                                                                 strategy=&#x27;constant&#x27;)),\n",
       "                                                                  (&#x27;pre_sc_std&#x27;,\n",
       "                                                                   StandardScaler())]),\n",
       "                                                  [&#x27;Job&#x27;, &#x27;Saving accounts&#x27;,\n",
       "                                                   &#x27;Checking account&#x27;]),\n",
       "                                                 (&#x27;pipe_pre_cat_no&#x27;,\n",
       "                                                  Pipeline(steps=[(&#x27;pre_inp_cat_no&#x27;,\n",
       "                                                                   SimpleImputer(strategy=&#x27;most_frequent&#x27;)),\n",
       "                                                                  (&#x27;pre_tra_one&#x27;,\n",
       "                                                                   OneHotEncoder(drop=&#x27;first&#x27;))]),\n",
       "                                                  [&#x27;Sex&#x27;, &#x27;Housing&#x27;,\n",
       "                                                   &#x27;Purpose&#x27;])])),\n",
       "                (&#x27;est_ab&#x27;, AdaBoostClassifier(random_state=42))])</pre><b>Please rerun this cell to show the HTML repr or trust the notebook.</b></div><div class=\"sk-container\" hidden><div class=\"sk-item sk-dashed-wrapped\"><div class=\"sk-label-container\"><div class=\"sk-label sk-toggleable\"><input class=\"sk-toggleable__control sk-hidden--visually\" id=\"9979fa84-b004-4041-b41f-448e5ff48e52\" type=\"checkbox\" ><label for=\"9979fa84-b004-4041-b41f-448e5ff48e52\" class=\"sk-toggleable__label sk-toggleable__label-arrow\">Pipeline</label><div class=\"sk-toggleable__content\"><pre>Pipeline(steps=[(&#x27;pipe_pre&#x27;,\n",
       "                 ColumnTransformer(transformers=[(&#x27;pipe_pre_num&#x27;,\n",
       "                                                  Pipeline(steps=[(&#x27;pre_inp_num&#x27;,\n",
       "                                                                   SimpleImputer()),\n",
       "                                                                  (&#x27;pre_sc_std&#x27;,\n",
       "                                                                   StandardScaler())]),\n",
       "                                                  [&#x27;Age&#x27;, &#x27;Credit amount&#x27;,\n",
       "                                                   &#x27;Duration&#x27;]),\n",
       "                                                 (&#x27;pipe_pre_cat_or&#x27;,\n",
       "                                                  Pipeline(steps=[(&#x27;pre_inp_cat_or&#x27;,\n",
       "                                                                   SimpleImputer(fill_value=-1,\n",
       "                                                                                 strategy=&#x27;constant&#x27;)),\n",
       "                                                                  (&#x27;pre_sc_std&#x27;,\n",
       "                                                                   StandardScaler())]),\n",
       "                                                  [&#x27;Job&#x27;, &#x27;Saving accounts&#x27;,\n",
       "                                                   &#x27;Checking account&#x27;]),\n",
       "                                                 (&#x27;pipe_pre_cat_no&#x27;,\n",
       "                                                  Pipeline(steps=[(&#x27;pre_inp_cat_no&#x27;,\n",
       "                                                                   SimpleImputer(strategy=&#x27;most_frequent&#x27;)),\n",
       "                                                                  (&#x27;pre_tra_one&#x27;,\n",
       "                                                                   OneHotEncoder(drop=&#x27;first&#x27;))]),\n",
       "                                                  [&#x27;Sex&#x27;, &#x27;Housing&#x27;,\n",
       "                                                   &#x27;Purpose&#x27;])])),\n",
       "                (&#x27;est_ab&#x27;, AdaBoostClassifier(random_state=42))])</pre></div></div></div><div class=\"sk-serial\"><div class=\"sk-item sk-dashed-wrapped\"><div class=\"sk-label-container\"><div class=\"sk-label sk-toggleable\"><input class=\"sk-toggleable__control sk-hidden--visually\" id=\"46c7fc09-9dcb-4c5d-915a-82f44ba144e4\" type=\"checkbox\" ><label for=\"46c7fc09-9dcb-4c5d-915a-82f44ba144e4\" class=\"sk-toggleable__label sk-toggleable__label-arrow\">pipe_pre: ColumnTransformer</label><div class=\"sk-toggleable__content\"><pre>ColumnTransformer(transformers=[(&#x27;pipe_pre_num&#x27;,\n",
       "                                 Pipeline(steps=[(&#x27;pre_inp_num&#x27;,\n",
       "                                                  SimpleImputer()),\n",
       "                                                 (&#x27;pre_sc_std&#x27;,\n",
       "                                                  StandardScaler())]),\n",
       "                                 [&#x27;Age&#x27;, &#x27;Credit amount&#x27;, &#x27;Duration&#x27;]),\n",
       "                                (&#x27;pipe_pre_cat_or&#x27;,\n",
       "                                 Pipeline(steps=[(&#x27;pre_inp_cat_or&#x27;,\n",
       "                                                  SimpleImputer(fill_value=-1,\n",
       "                                                                strategy=&#x27;constant&#x27;)),\n",
       "                                                 (&#x27;pre_sc_std&#x27;,\n",
       "                                                  StandardScaler())]),\n",
       "                                 [&#x27;Job&#x27;, &#x27;Saving accounts&#x27;,\n",
       "                                  &#x27;Checking account&#x27;]),\n",
       "                                (&#x27;pipe_pre_cat_no&#x27;,\n",
       "                                 Pipeline(steps=[(&#x27;pre_inp_cat_no&#x27;,\n",
       "                                                  SimpleImputer(strategy=&#x27;most_frequent&#x27;)),\n",
       "                                                 (&#x27;pre_tra_one&#x27;,\n",
       "                                                  OneHotEncoder(drop=&#x27;first&#x27;))]),\n",
       "                                 [&#x27;Sex&#x27;, &#x27;Housing&#x27;, &#x27;Purpose&#x27;])])</pre></div></div></div><div class=\"sk-parallel\"><div class=\"sk-parallel-item\"><div class=\"sk-item\"><div class=\"sk-label-container\"><div class=\"sk-label sk-toggleable\"><input class=\"sk-toggleable__control sk-hidden--visually\" id=\"341c4e38-eabb-4a97-b496-f6d3a47ec5a0\" type=\"checkbox\" ><label for=\"341c4e38-eabb-4a97-b496-f6d3a47ec5a0\" class=\"sk-toggleable__label sk-toggleable__label-arrow\">pipe_pre_num</label><div class=\"sk-toggleable__content\"><pre>[&#x27;Age&#x27;, &#x27;Credit amount&#x27;, &#x27;Duration&#x27;]</pre></div></div></div><div class=\"sk-serial\"><div class=\"sk-item\"><div class=\"sk-serial\"><div class=\"sk-item\"><div class=\"sk-estimator sk-toggleable\"><input class=\"sk-toggleable__control sk-hidden--visually\" id=\"fa59ac78-880e-4ae4-a420-d55ad81dbbe4\" type=\"checkbox\" ><label for=\"fa59ac78-880e-4ae4-a420-d55ad81dbbe4\" class=\"sk-toggleable__label sk-toggleable__label-arrow\">SimpleImputer</label><div class=\"sk-toggleable__content\"><pre>SimpleImputer()</pre></div></div></div><div class=\"sk-item\"><div class=\"sk-estimator sk-toggleable\"><input class=\"sk-toggleable__control sk-hidden--visually\" id=\"5d800c6b-6090-45fc-9667-57738c8595c3\" type=\"checkbox\" ><label for=\"5d800c6b-6090-45fc-9667-57738c8595c3\" class=\"sk-toggleable__label sk-toggleable__label-arrow\">StandardScaler</label><div class=\"sk-toggleable__content\"><pre>StandardScaler()</pre></div></div></div></div></div></div></div></div><div class=\"sk-parallel-item\"><div class=\"sk-item\"><div class=\"sk-label-container\"><div class=\"sk-label sk-toggleable\"><input class=\"sk-toggleable__control sk-hidden--visually\" id=\"d1d8013a-6138-41e4-958e-235c5a543f67\" type=\"checkbox\" ><label for=\"d1d8013a-6138-41e4-958e-235c5a543f67\" class=\"sk-toggleable__label sk-toggleable__label-arrow\">pipe_pre_cat_or</label><div class=\"sk-toggleable__content\"><pre>[&#x27;Job&#x27;, &#x27;Saving accounts&#x27;, &#x27;Checking account&#x27;]</pre></div></div></div><div class=\"sk-serial\"><div class=\"sk-item\"><div class=\"sk-serial\"><div class=\"sk-item\"><div class=\"sk-estimator sk-toggleable\"><input class=\"sk-toggleable__control sk-hidden--visually\" id=\"49fea1ed-0fc5-4070-a967-c7e627fdee22\" type=\"checkbox\" ><label for=\"49fea1ed-0fc5-4070-a967-c7e627fdee22\" class=\"sk-toggleable__label sk-toggleable__label-arrow\">SimpleImputer</label><div class=\"sk-toggleable__content\"><pre>SimpleImputer(fill_value=-1, strategy=&#x27;constant&#x27;)</pre></div></div></div><div class=\"sk-item\"><div class=\"sk-estimator sk-toggleable\"><input class=\"sk-toggleable__control sk-hidden--visually\" id=\"4eac6d5b-b022-41ad-9405-92bd321da07b\" type=\"checkbox\" ><label for=\"4eac6d5b-b022-41ad-9405-92bd321da07b\" class=\"sk-toggleable__label sk-toggleable__label-arrow\">StandardScaler</label><div class=\"sk-toggleable__content\"><pre>StandardScaler()</pre></div></div></div></div></div></div></div></div><div class=\"sk-parallel-item\"><div class=\"sk-item\"><div class=\"sk-label-container\"><div class=\"sk-label sk-toggleable\"><input class=\"sk-toggleable__control sk-hidden--visually\" id=\"70da1979-0f54-4ec2-b863-d6dd7e691cbb\" type=\"checkbox\" ><label for=\"70da1979-0f54-4ec2-b863-d6dd7e691cbb\" class=\"sk-toggleable__label sk-toggleable__label-arrow\">pipe_pre_cat_no</label><div class=\"sk-toggleable__content\"><pre>[&#x27;Sex&#x27;, &#x27;Housing&#x27;, &#x27;Purpose&#x27;]</pre></div></div></div><div class=\"sk-serial\"><div class=\"sk-item\"><div class=\"sk-serial\"><div class=\"sk-item\"><div class=\"sk-estimator sk-toggleable\"><input class=\"sk-toggleable__control sk-hidden--visually\" id=\"fa5ad84d-94a5-4156-a458-5ef058656bb5\" type=\"checkbox\" ><label for=\"fa5ad84d-94a5-4156-a458-5ef058656bb5\" class=\"sk-toggleable__label sk-toggleable__label-arrow\">SimpleImputer</label><div class=\"sk-toggleable__content\"><pre>SimpleImputer(strategy=&#x27;most_frequent&#x27;)</pre></div></div></div><div class=\"sk-item\"><div class=\"sk-estimator sk-toggleable\"><input class=\"sk-toggleable__control sk-hidden--visually\" id=\"1ac8086f-13f7-48be-80fa-9df159d07add\" type=\"checkbox\" ><label for=\"1ac8086f-13f7-48be-80fa-9df159d07add\" class=\"sk-toggleable__label sk-toggleable__label-arrow\">OneHotEncoder</label><div class=\"sk-toggleable__content\"><pre>OneHotEncoder(drop=&#x27;first&#x27;)</pre></div></div></div></div></div></div></div></div></div></div><div class=\"sk-item\"><div class=\"sk-estimator sk-toggleable\"><input class=\"sk-toggleable__control sk-hidden--visually\" id=\"3d904fbf-5b79-4c5a-91a1-2bfb2ba1613c\" type=\"checkbox\" ><label for=\"3d904fbf-5b79-4c5a-91a1-2bfb2ba1613c\" class=\"sk-toggleable__label sk-toggleable__label-arrow\">AdaBoostClassifier</label><div class=\"sk-toggleable__content\"><pre>AdaBoostClassifier(random_state=42)</pre></div></div></div></div></div></div></div>"
      ],
      "text/plain": [
       "Pipeline(steps=[('pipe_pre',\n",
       "                 ColumnTransformer(transformers=[('pipe_pre_num',\n",
       "                                                  Pipeline(steps=[('pre_inp_num',\n",
       "                                                                   SimpleImputer()),\n",
       "                                                                  ('pre_sc_std',\n",
       "                                                                   StandardScaler())]),\n",
       "                                                  ['Age', 'Credit amount',\n",
       "                                                   'Duration']),\n",
       "                                                 ('pipe_pre_cat_or',\n",
       "                                                  Pipeline(steps=[('pre_inp_cat_or',\n",
       "                                                                   SimpleImputer(fill_value=-1,\n",
       "                                                                                 strategy='constant')),\n",
       "                                                                  ('pre_sc_std',\n",
       "                                                                   StandardScaler())]),\n",
       "                                                  ['Job', 'Saving accounts',\n",
       "                                                   'Checking account']),\n",
       "                                                 ('pipe_pre_cat_no',\n",
       "                                                  Pipeline(steps=[('pre_inp_cat_no',\n",
       "                                                                   SimpleImputer(strategy='most_frequent')),\n",
       "                                                                  ('pre_tra_one',\n",
       "                                                                   OneHotEncoder(drop='first'))]),\n",
       "                                                  ['Sex', 'Housing',\n",
       "                                                   'Purpose'])])),\n",
       "                ('est_ab', AdaBoostClassifier(random_state=42))])"
      ]
     },
     "execution_count": 23,
     "metadata": {},
     "output_type": "execute_result"
    }
   ],
   "source": [
    "pipe_ab.fit(X_train, y_train)"
   ]
  },
  {
   "cell_type": "code",
   "execution_count": 28,
   "metadata": {},
   "outputs": [
    {
     "name": "stdout",
     "output_type": "stream",
     "text": [
      "              precision    recall  f1-score   support\n",
      "\n",
      "           0       0.60      0.45      0.51        60\n",
      "           1       0.79      0.87      0.83       140\n",
      "\n",
      "    accuracy                           0.74       200\n",
      "   macro avg       0.69      0.66      0.67       200\n",
      "weighted avg       0.73      0.74      0.73       200\n",
      "\n"
     ]
    }
   ],
   "source": [
    "y_pred = pipe_ab.predict(X_test)\n",
    "print(classification_report(y_test, y_pred))"
   ]
  },
  {
   "cell_type": "code",
   "execution_count": 29,
   "metadata": {},
   "outputs": [
    {
     "data": {
      "text/plain": [
       "[DecisionTreeClassifier(max_depth=1, random_state=1608637542),\n",
       " DecisionTreeClassifier(max_depth=1, random_state=1273642419),\n",
       " DecisionTreeClassifier(max_depth=1, random_state=1935803228),\n",
       " DecisionTreeClassifier(max_depth=1, random_state=787846414),\n",
       " DecisionTreeClassifier(max_depth=1, random_state=996406378),\n",
       " DecisionTreeClassifier(max_depth=1, random_state=1201263687),\n",
       " DecisionTreeClassifier(max_depth=1, random_state=423734972),\n",
       " DecisionTreeClassifier(max_depth=1, random_state=415968276),\n",
       " DecisionTreeClassifier(max_depth=1, random_state=670094950),\n",
       " DecisionTreeClassifier(max_depth=1, random_state=1914837113),\n",
       " DecisionTreeClassifier(max_depth=1, random_state=669991378),\n",
       " DecisionTreeClassifier(max_depth=1, random_state=429389014),\n",
       " DecisionTreeClassifier(max_depth=1, random_state=249467210),\n",
       " DecisionTreeClassifier(max_depth=1, random_state=1972458954),\n",
       " DecisionTreeClassifier(max_depth=1, random_state=1572714583),\n",
       " DecisionTreeClassifier(max_depth=1, random_state=1433267572),\n",
       " DecisionTreeClassifier(max_depth=1, random_state=434285667),\n",
       " DecisionTreeClassifier(max_depth=1, random_state=613608295),\n",
       " DecisionTreeClassifier(max_depth=1, random_state=893664919),\n",
       " DecisionTreeClassifier(max_depth=1, random_state=648061058),\n",
       " DecisionTreeClassifier(max_depth=1, random_state=88409749),\n",
       " DecisionTreeClassifier(max_depth=1, random_state=242285876),\n",
       " DecisionTreeClassifier(max_depth=1, random_state=2018247425),\n",
       " DecisionTreeClassifier(max_depth=1, random_state=953477463),\n",
       " DecisionTreeClassifier(max_depth=1, random_state=1427830251),\n",
       " DecisionTreeClassifier(max_depth=1, random_state=1883569565),\n",
       " DecisionTreeClassifier(max_depth=1, random_state=911989541),\n",
       " DecisionTreeClassifier(max_depth=1, random_state=3344769),\n",
       " DecisionTreeClassifier(max_depth=1, random_state=780932287),\n",
       " DecisionTreeClassifier(max_depth=1, random_state=2114032571),\n",
       " DecisionTreeClassifier(max_depth=1, random_state=787716372),\n",
       " DecisionTreeClassifier(max_depth=1, random_state=504579232),\n",
       " DecisionTreeClassifier(max_depth=1, random_state=1306710475),\n",
       " DecisionTreeClassifier(max_depth=1, random_state=479546681),\n",
       " DecisionTreeClassifier(max_depth=1, random_state=106328085),\n",
       " DecisionTreeClassifier(max_depth=1, random_state=30349564),\n",
       " DecisionTreeClassifier(max_depth=1, random_state=1855189739),\n",
       " DecisionTreeClassifier(max_depth=1, random_state=99052376),\n",
       " DecisionTreeClassifier(max_depth=1, random_state=1250819632),\n",
       " DecisionTreeClassifier(max_depth=1, random_state=106406362),\n",
       " DecisionTreeClassifier(max_depth=1, random_state=480404538),\n",
       " DecisionTreeClassifier(max_depth=1, random_state=1717389822),\n",
       " DecisionTreeClassifier(max_depth=1, random_state=599121577),\n",
       " DecisionTreeClassifier(max_depth=1, random_state=200427519),\n",
       " DecisionTreeClassifier(max_depth=1, random_state=1254751707),\n",
       " DecisionTreeClassifier(max_depth=1, random_state=2034764475),\n",
       " DecisionTreeClassifier(max_depth=1, random_state=1573512143),\n",
       " DecisionTreeClassifier(max_depth=1, random_state=999745294),\n",
       " DecisionTreeClassifier(max_depth=1, random_state=1958805693),\n",
       " DecisionTreeClassifier(max_depth=1, random_state=389151677)]"
      ]
     },
     "execution_count": 29,
     "metadata": {},
     "output_type": "execute_result"
    }
   ],
   "source": [
    "pipe_ab['est_ab'].estimators_"
   ]
  },
  {
   "cell_type": "markdown",
   "metadata": {},
   "source": [
    "Vamos deixar o base_estimator explícito"
   ]
  },
  {
   "cell_type": "code",
   "execution_count": 30,
   "metadata": {
    "ExecuteTime": {
     "end_time": "2022-02-21T22:59:30.917356Z",
     "start_time": "2022-02-21T22:59:30.906363Z"
    }
   },
   "outputs": [],
   "source": [
    "from sklearn.tree import DecisionTreeClassifier"
   ]
  },
  {
   "cell_type": "code",
   "execution_count": 31,
   "metadata": {},
   "outputs": [
    {
     "name": "stdout",
     "output_type": "stream",
     "text": [
      "              precision    recall  f1-score   support\n",
      "\n",
      "           0       0.52      0.48      0.50        60\n",
      "           1       0.78      0.81      0.80       140\n",
      "\n",
      "    accuracy                           0.71       200\n",
      "   macro avg       0.65      0.65      0.65       200\n",
      "weighted avg       0.70      0.71      0.71       200\n",
      "\n"
     ]
    }
   ],
   "source": [
    "basal = DecisionTreeClassifier(max_depth=2)\n",
    "\n",
    "pipe_ab = Pipeline([\n",
    "    ('pipe_pre', cria_pipe_pre()),\n",
    "    ('est_ab', AdaBoostClassifier(base_estimator=basal, random_state=42))\n",
    "])\n",
    "\n",
    "pipe_ab.fit(X_train, y_train)\n",
    "\n",
    "y_pred = pipe_ab.predict(X_test)\n",
    "print(classification_report(y_test, y_pred))"
   ]
  },
  {
   "cell_type": "markdown",
   "metadata": {},
   "source": [
    "Podemos, também, mudar o estimador basal. Por exemplo, uma regressão logística fortemente regularizada."
   ]
  },
  {
   "cell_type": "code",
   "execution_count": 32,
   "metadata": {
    "ExecuteTime": {
     "end_time": "2022-02-21T23:08:04.009810Z",
     "start_time": "2022-02-21T23:08:04.001816Z"
    }
   },
   "outputs": [],
   "source": [
    "from sklearn.linear_model import LogisticRegression"
   ]
  },
  {
   "cell_type": "code",
   "execution_count": 33,
   "metadata": {},
   "outputs": [
    {
     "name": "stdout",
     "output_type": "stream",
     "text": [
      "              precision    recall  f1-score   support\n",
      "\n",
      "           0       0.44      0.13      0.21        60\n",
      "           1       0.71      0.93      0.81       140\n",
      "\n",
      "    accuracy                           0.69       200\n",
      "   macro avg       0.58      0.53      0.51       200\n",
      "weighted avg       0.63      0.69      0.63       200\n",
      "\n"
     ]
    }
   ],
   "source": [
    "basal = LogisticRegression(C=0.1, random_state=42)\n",
    "\n",
    "pipe_ab = Pipeline([\n",
    "    ('pipe_pre', cria_pipe_pre()),\n",
    "    ('est_ab', AdaBoostClassifier(base_estimator=basal, random_state=42))\n",
    "])\n",
    "\n",
    "pipe_ab.fit(X_train, y_train)\n",
    "\n",
    "y_pred = pipe_ab.predict(X_test)\n",
    "print(classification_report(y_test, y_pred))"
   ]
  },
  {
   "cell_type": "markdown",
   "metadata": {},
   "source": [
    "Não ficou muito legal. Por isso que, apesar de ser possível usar outros estimadores basais, é comum usarmos stumps mesmo (árvores com uma única quebra)."
   ]
  },
  {
   "cell_type": "markdown",
   "metadata": {},
   "source": [
    "Vamos agora fazer o gridsearch!"
   ]
  },
  {
   "cell_type": "code",
   "execution_count": 34,
   "metadata": {},
   "outputs": [],
   "source": [
    "from sklearn.model_selection import GridSearchCV, StratifiedKFold"
   ]
  },
  {
   "cell_type": "code",
   "execution_count": 37,
   "metadata": {},
   "outputs": [
    {
     "name": "stdout",
     "output_type": "stream",
     "text": [
      "              precision    recall  f1-score   support\n",
      "\n",
      "           0       0.65      0.40      0.49        60\n",
      "           1       0.78      0.91      0.84       140\n",
      "\n",
      "    accuracy                           0.76       200\n",
      "   macro avg       0.71      0.65      0.67       200\n",
      "weighted avg       0.74      0.76      0.74       200\n",
      "\n"
     ]
    }
   ],
   "source": [
    "basal = DecisionTreeClassifier(max_depth=1)\n",
    "\n",
    "pipe_ab = Pipeline([\n",
    "    ('pipe_pre', cria_pipe_pre()),\n",
    "    ('est_ab', AdaBoostClassifier(base_estimator=basal, random_state=42))\n",
    "])\n",
    "\n",
    "espaco_hiper = {\n",
    "    'est_ab__learning_rate': [0.01, 0.015, 0.1, 0.15, 0.5],\n",
    "    'est_ab__n_estimators': [10, 50, 100, 200, 400, 800, 1600],\n",
    "    'est_ab__base_estimator__criterion': ['gini', 'entropy']\n",
    "}\n",
    "\n",
    "cv = StratifiedKFold(n_splits=5, shuffle=True, random_state=42)\n",
    "\n",
    "grid_ab = GridSearchCV(\n",
    "    estimator=pipe_ab,\n",
    "    param_grid=espaco_hiper,\n",
    "    scoring='f1',\n",
    "    cv=cv,\n",
    "    verbose=0,\n",
    "    n_jobs=31\n",
    ")\n",
    "\n",
    "grid_ab.fit(X_train, y_train)\n",
    "\n",
    "y_pred = grid_ab.predict(X_test)\n",
    "print(classification_report(y_test, y_pred))"
   ]
  },
  {
   "cell_type": "code",
   "execution_count": 38,
   "metadata": {},
   "outputs": [
    {
     "data": {
      "text/html": [
       "<style>#sk-ac522acb-44c8-4bb8-ad4a-055eaa44f7ff {color: black;background-color: white;}#sk-ac522acb-44c8-4bb8-ad4a-055eaa44f7ff pre{padding: 0;}#sk-ac522acb-44c8-4bb8-ad4a-055eaa44f7ff div.sk-toggleable {background-color: white;}#sk-ac522acb-44c8-4bb8-ad4a-055eaa44f7ff label.sk-toggleable__label {cursor: pointer;display: block;width: 100%;margin-bottom: 0;padding: 0.3em;box-sizing: border-box;text-align: center;}#sk-ac522acb-44c8-4bb8-ad4a-055eaa44f7ff label.sk-toggleable__label-arrow:before {content: \"▸\";float: left;margin-right: 0.25em;color: #696969;}#sk-ac522acb-44c8-4bb8-ad4a-055eaa44f7ff label.sk-toggleable__label-arrow:hover:before {color: black;}#sk-ac522acb-44c8-4bb8-ad4a-055eaa44f7ff div.sk-estimator:hover label.sk-toggleable__label-arrow:before {color: black;}#sk-ac522acb-44c8-4bb8-ad4a-055eaa44f7ff div.sk-toggleable__content {max-height: 0;max-width: 0;overflow: hidden;text-align: left;background-color: #f0f8ff;}#sk-ac522acb-44c8-4bb8-ad4a-055eaa44f7ff div.sk-toggleable__content pre {margin: 0.2em;color: black;border-radius: 0.25em;background-color: #f0f8ff;}#sk-ac522acb-44c8-4bb8-ad4a-055eaa44f7ff input.sk-toggleable__control:checked~div.sk-toggleable__content {max-height: 200px;max-width: 100%;overflow: auto;}#sk-ac522acb-44c8-4bb8-ad4a-055eaa44f7ff input.sk-toggleable__control:checked~label.sk-toggleable__label-arrow:before {content: \"▾\";}#sk-ac522acb-44c8-4bb8-ad4a-055eaa44f7ff div.sk-estimator input.sk-toggleable__control:checked~label.sk-toggleable__label {background-color: #d4ebff;}#sk-ac522acb-44c8-4bb8-ad4a-055eaa44f7ff div.sk-label input.sk-toggleable__control:checked~label.sk-toggleable__label {background-color: #d4ebff;}#sk-ac522acb-44c8-4bb8-ad4a-055eaa44f7ff input.sk-hidden--visually {border: 0;clip: rect(1px 1px 1px 1px);clip: rect(1px, 1px, 1px, 1px);height: 1px;margin: -1px;overflow: hidden;padding: 0;position: absolute;width: 1px;}#sk-ac522acb-44c8-4bb8-ad4a-055eaa44f7ff div.sk-estimator {font-family: monospace;background-color: #f0f8ff;border: 1px dotted black;border-radius: 0.25em;box-sizing: border-box;margin-bottom: 0.5em;}#sk-ac522acb-44c8-4bb8-ad4a-055eaa44f7ff div.sk-estimator:hover {background-color: #d4ebff;}#sk-ac522acb-44c8-4bb8-ad4a-055eaa44f7ff div.sk-parallel-item::after {content: \"\";width: 100%;border-bottom: 1px solid gray;flex-grow: 1;}#sk-ac522acb-44c8-4bb8-ad4a-055eaa44f7ff div.sk-label:hover label.sk-toggleable__label {background-color: #d4ebff;}#sk-ac522acb-44c8-4bb8-ad4a-055eaa44f7ff div.sk-serial::before {content: \"\";position: absolute;border-left: 1px solid gray;box-sizing: border-box;top: 2em;bottom: 0;left: 50%;}#sk-ac522acb-44c8-4bb8-ad4a-055eaa44f7ff div.sk-serial {display: flex;flex-direction: column;align-items: center;background-color: white;padding-right: 0.2em;padding-left: 0.2em;}#sk-ac522acb-44c8-4bb8-ad4a-055eaa44f7ff div.sk-item {z-index: 1;}#sk-ac522acb-44c8-4bb8-ad4a-055eaa44f7ff div.sk-parallel {display: flex;align-items: stretch;justify-content: center;background-color: white;}#sk-ac522acb-44c8-4bb8-ad4a-055eaa44f7ff div.sk-parallel::before {content: \"\";position: absolute;border-left: 1px solid gray;box-sizing: border-box;top: 2em;bottom: 0;left: 50%;}#sk-ac522acb-44c8-4bb8-ad4a-055eaa44f7ff div.sk-parallel-item {display: flex;flex-direction: column;position: relative;background-color: white;}#sk-ac522acb-44c8-4bb8-ad4a-055eaa44f7ff div.sk-parallel-item:first-child::after {align-self: flex-end;width: 50%;}#sk-ac522acb-44c8-4bb8-ad4a-055eaa44f7ff div.sk-parallel-item:last-child::after {align-self: flex-start;width: 50%;}#sk-ac522acb-44c8-4bb8-ad4a-055eaa44f7ff div.sk-parallel-item:only-child::after {width: 0;}#sk-ac522acb-44c8-4bb8-ad4a-055eaa44f7ff div.sk-dashed-wrapped {border: 1px dashed gray;margin: 0 0.4em 0.5em 0.4em;box-sizing: border-box;padding-bottom: 0.4em;background-color: white;position: relative;}#sk-ac522acb-44c8-4bb8-ad4a-055eaa44f7ff div.sk-label label {font-family: monospace;font-weight: bold;background-color: white;display: inline-block;line-height: 1.2em;}#sk-ac522acb-44c8-4bb8-ad4a-055eaa44f7ff div.sk-label-container {position: relative;z-index: 2;text-align: center;}#sk-ac522acb-44c8-4bb8-ad4a-055eaa44f7ff div.sk-container {/* jupyter's `normalize.less` sets `[hidden] { display: none; }` but bootstrap.min.css set `[hidden] { display: none !important; }` so we also need the `!important` here to be able to override the default hidden behavior on the sphinx rendered scikit-learn.org. See: https://github.com/scikit-learn/scikit-learn/issues/21755 */display: inline-block !important;position: relative;}#sk-ac522acb-44c8-4bb8-ad4a-055eaa44f7ff div.sk-text-repr-fallback {display: none;}</style><div id=\"sk-ac522acb-44c8-4bb8-ad4a-055eaa44f7ff\" class=\"sk-top-container\"><div class=\"sk-text-repr-fallback\"><pre>Pipeline(steps=[(&#x27;pipe_pre&#x27;,\n",
       "                 ColumnTransformer(transformers=[(&#x27;pipe_pre_num&#x27;,\n",
       "                                                  Pipeline(steps=[(&#x27;pre_inp_num&#x27;,\n",
       "                                                                   SimpleImputer()),\n",
       "                                                                  (&#x27;pre_sc_std&#x27;,\n",
       "                                                                   StandardScaler())]),\n",
       "                                                  [&#x27;Age&#x27;, &#x27;Credit amount&#x27;,\n",
       "                                                   &#x27;Duration&#x27;]),\n",
       "                                                 (&#x27;pipe_pre_cat_or&#x27;,\n",
       "                                                  Pipeline(steps=[(&#x27;pre_inp_cat_or&#x27;,\n",
       "                                                                   SimpleImputer(fill_value=-1,\n",
       "                                                                                 strategy=&#x27;constant&#x27;)),\n",
       "                                                                  (&#x27;pre_sc_std&#x27;,\n",
       "                                                                   StandardScaler())]),\n",
       "                                                  [&#x27;Job&#x27;, &#x27;Saving accounts&#x27;,\n",
       "                                                   &#x27;Checking account&#x27;]),\n",
       "                                                 (&#x27;pipe_pre_cat_no&#x27;,\n",
       "                                                  Pipeline(steps=[(&#x27;pre_inp_cat_no&#x27;,\n",
       "                                                                   SimpleImputer(strategy=&#x27;most_frequent&#x27;)),\n",
       "                                                                  (&#x27;pre_tra_one&#x27;,\n",
       "                                                                   OneHotEncoder(drop=&#x27;first&#x27;))]),\n",
       "                                                  [&#x27;Sex&#x27;, &#x27;Housing&#x27;,\n",
       "                                                   &#x27;Purpose&#x27;])])),\n",
       "                (&#x27;est_ab&#x27;,\n",
       "                 AdaBoostClassifier(base_estimator=DecisionTreeClassifier(max_depth=1),\n",
       "                                    learning_rate=0.015, n_estimators=1600,\n",
       "                                    random_state=42))])</pre><b>Please rerun this cell to show the HTML repr or trust the notebook.</b></div><div class=\"sk-container\" hidden><div class=\"sk-item sk-dashed-wrapped\"><div class=\"sk-label-container\"><div class=\"sk-label sk-toggleable\"><input class=\"sk-toggleable__control sk-hidden--visually\" id=\"effd7ca2-8700-4fc7-85d3-972993ccbff1\" type=\"checkbox\" ><label for=\"effd7ca2-8700-4fc7-85d3-972993ccbff1\" class=\"sk-toggleable__label sk-toggleable__label-arrow\">Pipeline</label><div class=\"sk-toggleable__content\"><pre>Pipeline(steps=[(&#x27;pipe_pre&#x27;,\n",
       "                 ColumnTransformer(transformers=[(&#x27;pipe_pre_num&#x27;,\n",
       "                                                  Pipeline(steps=[(&#x27;pre_inp_num&#x27;,\n",
       "                                                                   SimpleImputer()),\n",
       "                                                                  (&#x27;pre_sc_std&#x27;,\n",
       "                                                                   StandardScaler())]),\n",
       "                                                  [&#x27;Age&#x27;, &#x27;Credit amount&#x27;,\n",
       "                                                   &#x27;Duration&#x27;]),\n",
       "                                                 (&#x27;pipe_pre_cat_or&#x27;,\n",
       "                                                  Pipeline(steps=[(&#x27;pre_inp_cat_or&#x27;,\n",
       "                                                                   SimpleImputer(fill_value=-1,\n",
       "                                                                                 strategy=&#x27;constant&#x27;)),\n",
       "                                                                  (&#x27;pre_sc_std&#x27;,\n",
       "                                                                   StandardScaler())]),\n",
       "                                                  [&#x27;Job&#x27;, &#x27;Saving accounts&#x27;,\n",
       "                                                   &#x27;Checking account&#x27;]),\n",
       "                                                 (&#x27;pipe_pre_cat_no&#x27;,\n",
       "                                                  Pipeline(steps=[(&#x27;pre_inp_cat_no&#x27;,\n",
       "                                                                   SimpleImputer(strategy=&#x27;most_frequent&#x27;)),\n",
       "                                                                  (&#x27;pre_tra_one&#x27;,\n",
       "                                                                   OneHotEncoder(drop=&#x27;first&#x27;))]),\n",
       "                                                  [&#x27;Sex&#x27;, &#x27;Housing&#x27;,\n",
       "                                                   &#x27;Purpose&#x27;])])),\n",
       "                (&#x27;est_ab&#x27;,\n",
       "                 AdaBoostClassifier(base_estimator=DecisionTreeClassifier(max_depth=1),\n",
       "                                    learning_rate=0.015, n_estimators=1600,\n",
       "                                    random_state=42))])</pre></div></div></div><div class=\"sk-serial\"><div class=\"sk-item sk-dashed-wrapped\"><div class=\"sk-label-container\"><div class=\"sk-label sk-toggleable\"><input class=\"sk-toggleable__control sk-hidden--visually\" id=\"34912c50-be44-49c7-9b98-34f740da3da2\" type=\"checkbox\" ><label for=\"34912c50-be44-49c7-9b98-34f740da3da2\" class=\"sk-toggleable__label sk-toggleable__label-arrow\">pipe_pre: ColumnTransformer</label><div class=\"sk-toggleable__content\"><pre>ColumnTransformer(transformers=[(&#x27;pipe_pre_num&#x27;,\n",
       "                                 Pipeline(steps=[(&#x27;pre_inp_num&#x27;,\n",
       "                                                  SimpleImputer()),\n",
       "                                                 (&#x27;pre_sc_std&#x27;,\n",
       "                                                  StandardScaler())]),\n",
       "                                 [&#x27;Age&#x27;, &#x27;Credit amount&#x27;, &#x27;Duration&#x27;]),\n",
       "                                (&#x27;pipe_pre_cat_or&#x27;,\n",
       "                                 Pipeline(steps=[(&#x27;pre_inp_cat_or&#x27;,\n",
       "                                                  SimpleImputer(fill_value=-1,\n",
       "                                                                strategy=&#x27;constant&#x27;)),\n",
       "                                                 (&#x27;pre_sc_std&#x27;,\n",
       "                                                  StandardScaler())]),\n",
       "                                 [&#x27;Job&#x27;, &#x27;Saving accounts&#x27;,\n",
       "                                  &#x27;Checking account&#x27;]),\n",
       "                                (&#x27;pipe_pre_cat_no&#x27;,\n",
       "                                 Pipeline(steps=[(&#x27;pre_inp_cat_no&#x27;,\n",
       "                                                  SimpleImputer(strategy=&#x27;most_frequent&#x27;)),\n",
       "                                                 (&#x27;pre_tra_one&#x27;,\n",
       "                                                  OneHotEncoder(drop=&#x27;first&#x27;))]),\n",
       "                                 [&#x27;Sex&#x27;, &#x27;Housing&#x27;, &#x27;Purpose&#x27;])])</pre></div></div></div><div class=\"sk-parallel\"><div class=\"sk-parallel-item\"><div class=\"sk-item\"><div class=\"sk-label-container\"><div class=\"sk-label sk-toggleable\"><input class=\"sk-toggleable__control sk-hidden--visually\" id=\"56ac4d37-d536-4d6c-9834-66e4a0262bd2\" type=\"checkbox\" ><label for=\"56ac4d37-d536-4d6c-9834-66e4a0262bd2\" class=\"sk-toggleable__label sk-toggleable__label-arrow\">pipe_pre_num</label><div class=\"sk-toggleable__content\"><pre>[&#x27;Age&#x27;, &#x27;Credit amount&#x27;, &#x27;Duration&#x27;]</pre></div></div></div><div class=\"sk-serial\"><div class=\"sk-item\"><div class=\"sk-serial\"><div class=\"sk-item\"><div class=\"sk-estimator sk-toggleable\"><input class=\"sk-toggleable__control sk-hidden--visually\" id=\"7a6c1dd2-3ba3-4a1d-8f8a-346363260cf4\" type=\"checkbox\" ><label for=\"7a6c1dd2-3ba3-4a1d-8f8a-346363260cf4\" class=\"sk-toggleable__label sk-toggleable__label-arrow\">SimpleImputer</label><div class=\"sk-toggleable__content\"><pre>SimpleImputer()</pre></div></div></div><div class=\"sk-item\"><div class=\"sk-estimator sk-toggleable\"><input class=\"sk-toggleable__control sk-hidden--visually\" id=\"048a941c-3c4f-4f20-b09e-5ec54c8ed33e\" type=\"checkbox\" ><label for=\"048a941c-3c4f-4f20-b09e-5ec54c8ed33e\" class=\"sk-toggleable__label sk-toggleable__label-arrow\">StandardScaler</label><div class=\"sk-toggleable__content\"><pre>StandardScaler()</pre></div></div></div></div></div></div></div></div><div class=\"sk-parallel-item\"><div class=\"sk-item\"><div class=\"sk-label-container\"><div class=\"sk-label sk-toggleable\"><input class=\"sk-toggleable__control sk-hidden--visually\" id=\"0f81398d-33b8-43d2-bdbe-b12257e4d0ab\" type=\"checkbox\" ><label for=\"0f81398d-33b8-43d2-bdbe-b12257e4d0ab\" class=\"sk-toggleable__label sk-toggleable__label-arrow\">pipe_pre_cat_or</label><div class=\"sk-toggleable__content\"><pre>[&#x27;Job&#x27;, &#x27;Saving accounts&#x27;, &#x27;Checking account&#x27;]</pre></div></div></div><div class=\"sk-serial\"><div class=\"sk-item\"><div class=\"sk-serial\"><div class=\"sk-item\"><div class=\"sk-estimator sk-toggleable\"><input class=\"sk-toggleable__control sk-hidden--visually\" id=\"b6e1d520-b5c4-4028-a710-5970520942ef\" type=\"checkbox\" ><label for=\"b6e1d520-b5c4-4028-a710-5970520942ef\" class=\"sk-toggleable__label sk-toggleable__label-arrow\">SimpleImputer</label><div class=\"sk-toggleable__content\"><pre>SimpleImputer(fill_value=-1, strategy=&#x27;constant&#x27;)</pre></div></div></div><div class=\"sk-item\"><div class=\"sk-estimator sk-toggleable\"><input class=\"sk-toggleable__control sk-hidden--visually\" id=\"1e16a491-1e84-48b9-8710-96eb9d664f5d\" type=\"checkbox\" ><label for=\"1e16a491-1e84-48b9-8710-96eb9d664f5d\" class=\"sk-toggleable__label sk-toggleable__label-arrow\">StandardScaler</label><div class=\"sk-toggleable__content\"><pre>StandardScaler()</pre></div></div></div></div></div></div></div></div><div class=\"sk-parallel-item\"><div class=\"sk-item\"><div class=\"sk-label-container\"><div class=\"sk-label sk-toggleable\"><input class=\"sk-toggleable__control sk-hidden--visually\" id=\"f02ced40-a390-4b5b-8770-83a23449d4f4\" type=\"checkbox\" ><label for=\"f02ced40-a390-4b5b-8770-83a23449d4f4\" class=\"sk-toggleable__label sk-toggleable__label-arrow\">pipe_pre_cat_no</label><div class=\"sk-toggleable__content\"><pre>[&#x27;Sex&#x27;, &#x27;Housing&#x27;, &#x27;Purpose&#x27;]</pre></div></div></div><div class=\"sk-serial\"><div class=\"sk-item\"><div class=\"sk-serial\"><div class=\"sk-item\"><div class=\"sk-estimator sk-toggleable\"><input class=\"sk-toggleable__control sk-hidden--visually\" id=\"80902c87-5143-46a0-9283-4dd826e4774d\" type=\"checkbox\" ><label for=\"80902c87-5143-46a0-9283-4dd826e4774d\" class=\"sk-toggleable__label sk-toggleable__label-arrow\">SimpleImputer</label><div class=\"sk-toggleable__content\"><pre>SimpleImputer(strategy=&#x27;most_frequent&#x27;)</pre></div></div></div><div class=\"sk-item\"><div class=\"sk-estimator sk-toggleable\"><input class=\"sk-toggleable__control sk-hidden--visually\" id=\"9f413830-2a71-4705-b078-8049d135b005\" type=\"checkbox\" ><label for=\"9f413830-2a71-4705-b078-8049d135b005\" class=\"sk-toggleable__label sk-toggleable__label-arrow\">OneHotEncoder</label><div class=\"sk-toggleable__content\"><pre>OneHotEncoder(drop=&#x27;first&#x27;)</pre></div></div></div></div></div></div></div></div></div></div><div class=\"sk-item sk-dashed-wrapped\"><div class=\"sk-label-container\"><div class=\"sk-label sk-toggleable\"><input class=\"sk-toggleable__control sk-hidden--visually\" id=\"b4c3dd43-36e4-47ae-8fa3-81bd8f1e42a2\" type=\"checkbox\" ><label for=\"b4c3dd43-36e4-47ae-8fa3-81bd8f1e42a2\" class=\"sk-toggleable__label sk-toggleable__label-arrow\">est_ab: AdaBoostClassifier</label><div class=\"sk-toggleable__content\"><pre>AdaBoostClassifier(base_estimator=DecisionTreeClassifier(max_depth=1),\n",
       "                   learning_rate=0.015, n_estimators=1600, random_state=42)</pre></div></div></div><div class=\"sk-parallel\"><div class=\"sk-parallel-item\"><div class=\"sk-item\"><div class=\"sk-serial\"><div class=\"sk-item\"><div class=\"sk-estimator sk-toggleable\"><input class=\"sk-toggleable__control sk-hidden--visually\" id=\"0d00718d-87b9-4d37-ac23-c20a6fb8454e\" type=\"checkbox\" ><label for=\"0d00718d-87b9-4d37-ac23-c20a6fb8454e\" class=\"sk-toggleable__label sk-toggleable__label-arrow\">DecisionTreeClassifier</label><div class=\"sk-toggleable__content\"><pre>DecisionTreeClassifier(max_depth=1)</pre></div></div></div></div></div></div></div></div></div></div></div></div>"
      ],
      "text/plain": [
       "Pipeline(steps=[('pipe_pre',\n",
       "                 ColumnTransformer(transformers=[('pipe_pre_num',\n",
       "                                                  Pipeline(steps=[('pre_inp_num',\n",
       "                                                                   SimpleImputer()),\n",
       "                                                                  ('pre_sc_std',\n",
       "                                                                   StandardScaler())]),\n",
       "                                                  ['Age', 'Credit amount',\n",
       "                                                   'Duration']),\n",
       "                                                 ('pipe_pre_cat_or',\n",
       "                                                  Pipeline(steps=[('pre_inp_cat_or',\n",
       "                                                                   SimpleImputer(fill_value=-1,\n",
       "                                                                                 strategy='constant')),\n",
       "                                                                  ('pre_sc_std',\n",
       "                                                                   StandardScaler())]),\n",
       "                                                  ['Job', 'Saving accounts',\n",
       "                                                   'Checking account']),\n",
       "                                                 ('pipe_pre_cat_no',\n",
       "                                                  Pipeline(steps=[('pre_inp_cat_no',\n",
       "                                                                   SimpleImputer(strategy='most_frequent')),\n",
       "                                                                  ('pre_tra_one',\n",
       "                                                                   OneHotEncoder(drop='first'))]),\n",
       "                                                  ['Sex', 'Housing',\n",
       "                                                   'Purpose'])])),\n",
       "                ('est_ab',\n",
       "                 AdaBoostClassifier(base_estimator=DecisionTreeClassifier(max_depth=1),\n",
       "                                    learning_rate=0.015, n_estimators=1600,\n",
       "                                    random_state=42))])"
      ]
     },
     "execution_count": 38,
     "metadata": {},
     "output_type": "execute_result"
    }
   ],
   "source": [
    "grid_ab.best_estimator_"
   ]
  },
  {
   "cell_type": "code",
   "execution_count": 39,
   "metadata": {},
   "outputs": [
    {
     "data": {
      "text/plain": [
       "{'est_ab__base_estimator__criterion': 'gini',\n",
       " 'est_ab__learning_rate': 0.015,\n",
       " 'est_ab__n_estimators': 1600}"
      ]
     },
     "execution_count": 39,
     "metadata": {},
     "output_type": "execute_result"
    }
   ],
   "source": [
    "grid_ab.best_params_"
   ]
  },
  {
   "cell_type": "markdown",
   "metadata": {},
   "source": [
    "_________\n",
    "_______\n",
    "_________"
   ]
  },
  {
   "cell_type": "markdown",
   "metadata": {},
   "source": [
    "##  Gradient boosting\n",
    "\n",
    "Além dos métodos que estudamos, há ainda outras classes de métodos de ensemble!\n",
    "\n",
    "Em particular, a classe de modelos que se utilizam do procedimento de **gradient boosting**.\n",
    "\n",
    "O gradient boosting também é baseado no princípio de boosting (utilização de weak learners sequencialmente adicionados de modo a **sequencialmente minimizar os erros cometidos**).\n",
    "\n",
    "<img src=https://miro.medium.com/max/788/1*pEu2LNmxf9ttXHIALPcEBw.png width=600>"
   ]
  },
  {
   "cell_type": "markdown",
   "metadata": {},
   "source": [
    "Mas este método implementa o boosting através de um **gradiente** explícito.\n",
    "\n",
    "A ideia é que caminhemos na direção do **erro mínimo** de maneira iterativa **passo a passo**.\n",
    "\n",
    "Este caminho se dá justamente pelo **gradiente** da **função de custo/perda**, que mede justamente os erros cometidos.\n",
    "\n",
    "<img src=https://upload.wikimedia.org/wikipedia/commons/a/a3/Gradient_descent.gif width=400>\n",
    "\n",
    "Este método é conhecido como:\n",
    "\n",
    "### Gradiente descendente"
   ]
  },
  {
   "cell_type": "markdown",
   "metadata": {},
   "source": [
    "Deixei em ênfase porque este será um método de **enorme importância** no estudo de redes neurais (e é, em geral, um método de otimização muito utilizado).\n",
    "\n",
    "O objetivo geral do método é bem simples: determinar quais são os **parâmetros** da hipótese que minimizam a função de custo/perda. Para isso, o método \"percorre\" a função de erro, indo em direção ao seu mínimo (e este \"caminho\" feito na função se dá justamente pela **determinação iterativa dos parâmetros**, isto é, **a cada passo, chegamos mais perto dos parâmetros finais da hipótese**, conforme eles são ajustados aos dados."
   ]
  },
  {
   "cell_type": "markdown",
   "metadata": {},
   "source": [
    "> **Pequeno interlúdio matemático:** o gradiente descendente implementado pelo gradient boosting é, na verdade, um **gradiente descendente funcional**, isto é, desejamos encontrar não um conjunto de parâmetros que minimiza o erro, mas sim **introduzir sequencialmente weak learners (hipótese simples) que minimizam o erro**. Desta forma, o gradient boosting minimiza a função de custo ao ecolher iterativamente hipóteses simples que apontam na direção do mínimo, neste espaço funcional."
   ]
  },
  {
   "cell_type": "markdown",
   "metadata": {},
   "source": [
    "Apesar do interlúdio acima, não precisamos nos preocupar muito com os detalhes matemáticos: o que importa é entender que no caso do gradient boosting, há alguns pontos importantes:\n",
    "\n",
    "- Uma **função de custo/perda (loss)** é explicitamente minimizada por um procedimento de gradiente;\n",
    "\n",
    "- O gradiente está relacionado com o procedimento de **encadeamento progressivo entre weak learners**, seguindo a ideia do boosting.\n",
    "\n",
    "Pra quem quiser saber um pouco mais de detalhes (e se aventurar na matemática), sugiro [este post](https://www.gormanalysis.com/blog/gradient-boosting-explained/) ou então [este site](https://explained.ai/gradient-boosting/), que contém vários materiais ótimos para entender o método com todos os detalhes matemáticos.\n",
    "\n",
    "Os [vídeos do StatQuest](https://www.youtube.com/playlist?list=PLblh5JKOoLUJjeXUvUE0maghNuY2_5fY6) também são uma boa referência!"
   ]
  },
  {
   "cell_type": "markdown",
   "metadata": {},
   "source": [
    "As classes do sklearn são:\n",
    "\n",
    "- [GradientBoostingClassifier](https://scikit-learn.org/stable/modules/generated/sklearn.ensemble.GradientBoostingClassifier.html)\n",
    "\n",
    "- [GradientBoostingRegressor](https://scikit-learn.org/stable/modules/generated/sklearn.ensemble.GradientBoostingRegressor.html#sklearn.ensemble.GradientBoostingRegressor)\n",
    "\n",
    "E os principais hiperparâmetros a serem ajustados são:\n",
    "\n",
    "- `n_estimators` : novamente, o número de weak learners encadeados.\n",
    "\n",
    "- `learning_rate` : a constante que multiplica o gradiente no gradiente descendente. Essencialmente, controla o \"tamanho do passo\" a ser dado em direção ao mínimo.\n",
    "\n",
    "Segundo o próprio [User Guide](https://scikit-learn.org/stable/modules/ensemble.html#gradient-boosting): \"*Empirical evidence suggests that small values of `learning_rate` favor better test error. The lireature recommends to set the learning rate to a small constant (e.g. `learning_rate <= 0.1`) and choose `n_estimators` by early stopping.*\"\n",
    "\n",
    "Ainda sobre a learning rate, as ilustrações a seguir ajudam a entender sua importância:\n",
    "\n",
    "<img src=https://www.jeremyjordan.me/content/images/2018/02/Screen-Shot-2018-02-24-at-11.47.09-AM.png width=700>\n",
    "\n",
    "<img src=https://cdn-images-1.medium.com/max/1440/0*A351v9EkS6Ps2zIg.gif width=500>"
   ]
  },
  {
   "cell_type": "code",
   "execution_count": 44,
   "metadata": {},
   "outputs": [],
   "source": [
    "from sklearn.ensemble import GradientBoostingClassifier"
   ]
  },
  {
   "cell_type": "code",
   "execution_count": 45,
   "metadata": {},
   "outputs": [
    {
     "name": "stdout",
     "output_type": "stream",
     "text": [
      "              precision    recall  f1-score   support\n",
      "\n",
      "           0       0.71      0.40      0.51        60\n",
      "           1       0.78      0.93      0.85       140\n",
      "\n",
      "    accuracy                           0.77       200\n",
      "   macro avg       0.74      0.66      0.68       200\n",
      "weighted avg       0.76      0.77      0.75       200\n",
      "\n"
     ]
    }
   ],
   "source": [
    "pipe_gb = Pipeline([\n",
    "    ('pipe_pre', cria_pipe_pre()),\n",
    "    ('est_gb', GradientBoostingClassifier(learning_rate=0.1, \n",
    "                                          n_estimators=80, random_state=42))\n",
    "])\n",
    "    \n",
    "pipe_gb.fit(X_train, y_train)\n",
    "\n",
    "y_pred = pipe_gb.predict(X_test)\n",
    "print(classification_report(y_test, y_pred))"
   ]
  },
  {
   "cell_type": "markdown",
   "metadata": {},
   "source": [
    "Pra casa: grid search para otimizar os hiperparâmetros!"
   ]
  },
  {
   "cell_type": "code",
   "execution_count": null,
   "metadata": {},
   "outputs": [],
   "source": []
  }
 ],
 "metadata": {
  "kernelspec": {
   "display_name": "Python 3.9.12 ('base')",
   "language": "python",
   "name": "python3"
  },
  "language_info": {
   "codemirror_mode": {
    "name": "ipython",
    "version": 3
   },
   "file_extension": ".py",
   "mimetype": "text/x-python",
   "name": "python",
   "nbconvert_exporter": "python",
   "pygments_lexer": "ipython3",
   "version": "3.9.12"
  },
  "vscode": {
   "interpreter": {
    "hash": "cea1ecbc9060237308d6f43d2a8f2f7ecb9842b1b44e6cce898a5c7b51f4cadd"
   }
  }
 },
 "nbformat": 4,
 "nbformat_minor": 2
}
