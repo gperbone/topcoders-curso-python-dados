{
 "cells": [
  {
   "cell_type": "markdown",
   "id": "published-mississippi",
   "metadata": {},
   "source": [
    "## Exercícios Aulas 1 a 4\n",
    "Prof Roger Rendón"
   ]
  },
  {
   "cell_type": "code",
   "execution_count": 2,
   "id": "loose-storm",
   "metadata": {},
   "outputs": [],
   "source": [
    "#Imports\n",
    "import numpy as np\n",
    "import pandas as pd"
   ]
  },
  {
   "cell_type": "markdown",
   "id": "clear-killer",
   "metadata": {},
   "source": [
    "#### Numpy."
   ]
  },
  {
   "cell_type": "markdown",
   "id": "dcbab9d8",
   "metadata": {},
   "source": [
    "1. Gere uma array randomica de 10 elementos com duas dimensões, e explore o array (ndim, dtype e shape). "
   ]
  },
  {
   "cell_type": "code",
   "execution_count": 4,
   "id": "consecutive-fluid",
   "metadata": {},
   "outputs": [
    {
     "data": {
      "text/plain": [
       "array([[1, 2, 8, 8, 4],\n",
       "       [9, 9, 1, 2, 1]])"
      ]
     },
     "execution_count": 4,
     "metadata": {},
     "output_type": "execute_result"
    }
   ],
   "source": [
    "array_rand = np.random.randint(0,10,size = 10).reshape(2,-1)\n",
    "# array_rand = (np.random.random_sample((5,2))*11).astype('int')\n",
    "array_rand"
   ]
  },
  {
   "cell_type": "code",
   "execution_count": 6,
   "id": "external-margin",
   "metadata": {},
   "outputs": [
    {
     "name": "stdout",
     "output_type": "stream",
     "text": [
      "Número de dimensões: 2\n",
      "Dtype: int64\n",
      "Shape: (2, 5)\n"
     ]
    }
   ],
   "source": [
    "print(f\"Número de dimensões: {array_rand.ndim}\")\n",
    "print(f\"Dtype: {array_rand.dtype}\")\n",
    "print(f\"Shape: {array_rand.shape}\")"
   ]
  },
  {
   "cell_type": "markdown",
   "id": "fa9e6b58",
   "metadata": {},
   "source": [
    "2. Verifique os elementos da array e veja se tem valores NaN e transforme os valores NaN pra número"
   ]
  },
  {
   "cell_type": "code",
   "execution_count": 19,
   "id": "greatest-warrior",
   "metadata": {},
   "outputs": [
    {
     "data": {
      "text/plain": [
       "array([ 1.,  0., nan,  6.])"
      ]
     },
     "execution_count": 19,
     "metadata": {},
     "output_type": "execute_result"
    }
   ],
   "source": [
    "a =  np.array([1, 0, np.nan, 6.0])\n",
    "a"
   ]
  },
  {
   "cell_type": "code",
   "execution_count": 20,
   "id": "confident-letter",
   "metadata": {},
   "outputs": [
    {
     "name": "stdout",
     "output_type": "stream",
     "text": [
      "True se há NaN no array, False caso contrário\n",
      "True\n"
     ]
    }
   ],
   "source": [
    "print(\"True se há NaN no array, False caso contrário\")\n",
    "print(any(np.isnan(a)))"
   ]
  },
  {
   "cell_type": "code",
   "execution_count": 21,
   "id": "controversial-theology",
   "metadata": {},
   "outputs": [
    {
     "data": {
      "text/plain": [
       "array([1., 0., 0., 6.])"
      ]
     },
     "execution_count": 21,
     "metadata": {},
     "output_type": "execute_result"
    }
   ],
   "source": [
    "a = np.nan_to_num(a)\n",
    "a"
   ]
  },
  {
   "cell_type": "markdown",
   "id": "bdba04a6",
   "metadata": {},
   "source": [
    "3. Gere duas arrays de uma dimensão com 10 elementos cada, valores entre 1 e 50. \n",
    "\n",
    "    3a. Faça comparações entre as duas matrizes ( >, <, equal)"
   ]
  },
  {
   "cell_type": "code",
   "execution_count": 22,
   "id": "fewer-porcelain",
   "metadata": {},
   "outputs": [
    {
     "name": "stdout",
     "output_type": "stream",
     "text": [
      "Array 1: [26 39 21  2 17  5 15  1  2  7]\n",
      "Array 2: [26 48 10  6  5 40 33 22 28 39]\n"
     ]
    }
   ],
   "source": [
    "array_1 = np.random.randint(1,50,size = 10)\n",
    "array_2 = np.random.randint(1,50,size = 10)\n",
    "print(f\"Array 1: {array_1}\")\n",
    "print(f\"Array 2: {array_2}\")"
   ]
  },
  {
   "cell_type": "code",
   "execution_count": 23,
   "id": "outstanding-geography",
   "metadata": {},
   "outputs": [
    {
     "name": "stdout",
     "output_type": "stream",
     "text": [
      "É maior: [False False  True False  True False False False False False]\n",
      "É menor: [False  True False  True False  True  True  True  True  True]\n",
      "É igual: [ True False False False False False False False False False]\n"
     ]
    }
   ],
   "source": [
    "eh_maior = array_1 > array_2\n",
    "eh_menor = array_1 < array_2\n",
    "eh_igual = array_1 == array_2\n",
    "\n",
    "print(f\"É maior: {eh_maior}\")\n",
    "print(f\"É menor: {eh_menor}\")\n",
    "print(f\"É igual: {eh_igual}\")"
   ]
  },
  {
   "cell_type": "code",
   "execution_count": 24,
   "id": "norman-terminal",
   "metadata": {},
   "outputs": [
    {
     "name": "stdout",
     "output_type": "stream",
     "text": [
      "Elementos maiores em arr1 do que arr2: [21 17]\n",
      "Elementos menores em arr1 do que arr2: [39  2  5 15  1  2  7]\n",
      "Elementos iguais em ambos: [26]\n"
     ]
    }
   ],
   "source": [
    "print(f\"Elementos maiores em arr1 do que arr2: {array_1[eh_maior]}\")\n",
    "print(f\"Elementos menores em arr1 do que arr2: {array_1[eh_menor]}\")\n",
    "print(f\"Elementos iguais em ambos: {array_1[eh_igual]}\")"
   ]
  },
  {
   "cell_type": "markdown",
   "id": "ffab11c0",
   "metadata": {},
   "source": [
    "4. Faça uma array com arange de 12 elementos e de o reshape correto nele.\n",
    "\n",
    "    4a. Salve sua array em um arquivo de texto (Dica = Save Text and Headers)"
   ]
  },
  {
   "cell_type": "code",
   "execution_count": null,
   "id": "8598878b",
   "metadata": {},
   "outputs": [],
   "source": [
    "vetor_c = np.arange(0,24,2)"
   ]
  },
  {
   "cell_type": "code",
   "execution_count": 38,
   "id": "moderate-gallery",
   "metadata": {},
   "outputs": [],
   "source": [
    "# vetor_c = np.arange(0,24,2)\n",
    "array_12 = np.arange(12).reshape(3,4)\n",
    "np.savetxt('array.txt', array_12, fmt = '%d', header='col1,col2,col3,col4', comments = \"\", delimiter = \",\")"
   ]
  },
  {
   "cell_type": "code",
   "execution_count": 39,
   "id": "8d46da19",
   "metadata": {},
   "outputs": [
    {
     "data": {
      "text/html": [
       "<div>\n",
       "<style scoped>\n",
       "    .dataframe tbody tr th:only-of-type {\n",
       "        vertical-align: middle;\n",
       "    }\n",
       "\n",
       "    .dataframe tbody tr th {\n",
       "        vertical-align: top;\n",
       "    }\n",
       "\n",
       "    .dataframe thead th {\n",
       "        text-align: right;\n",
       "    }\n",
       "</style>\n",
       "<table border=\"1\" class=\"dataframe\">\n",
       "  <thead>\n",
       "    <tr style=\"text-align: right;\">\n",
       "      <th></th>\n",
       "      <th>col1</th>\n",
       "      <th>col2</th>\n",
       "      <th>col3</th>\n",
       "      <th>col4</th>\n",
       "    </tr>\n",
       "  </thead>\n",
       "  <tbody>\n",
       "    <tr>\n",
       "      <th>0</th>\n",
       "      <td>0</td>\n",
       "      <td>1</td>\n",
       "      <td>2</td>\n",
       "      <td>3</td>\n",
       "    </tr>\n",
       "    <tr>\n",
       "      <th>1</th>\n",
       "      <td>4</td>\n",
       "      <td>5</td>\n",
       "      <td>6</td>\n",
       "      <td>7</td>\n",
       "    </tr>\n",
       "    <tr>\n",
       "      <th>2</th>\n",
       "      <td>8</td>\n",
       "      <td>9</td>\n",
       "      <td>10</td>\n",
       "      <td>11</td>\n",
       "    </tr>\n",
       "  </tbody>\n",
       "</table>\n",
       "</div>"
      ],
      "text/plain": [
       "   col1  col2  col3  col4\n",
       "0     0     1     2     3\n",
       "1     4     5     6     7\n",
       "2     8     9    10    11"
      ]
     },
     "execution_count": 39,
     "metadata": {},
     "output_type": "execute_result"
    }
   ],
   "source": [
    "df1 = pd.read_csv('array.txt', sep=\",\")\n",
    "df1"
   ]
  },
  {
   "cell_type": "markdown",
   "id": "e6075da5",
   "metadata": {},
   "source": [
    "5. Carregue o arquvio da array anterior e faça uma subseleções:\n",
    "\n",
    "    5a. Elemento na linha 1 coluna 1 \n",
    "\n",
    "    5b. Elementos na coluna 2\n",
    "\n",
    "    5c. Elementos na linha 2 e escolha o maximo valor dessa seleção\n",
    "    \n",
    "    5d. Uma array nova com o resultado de uma seleção complexa ex. (arr1 > 3) & (arr1 % 2 == 0)\n",
    "    "
   ]
  },
  {
   "cell_type": "code",
   "execution_count": 44,
   "id": "upper-genealogy",
   "metadata": {},
   "outputs": [
    {
     "data": {
      "text/plain": [
       "array([[ 0.,  1.,  2.,  3.],\n",
       "       [ 4.,  5.,  6.,  7.],\n",
       "       [ 8.,  9., 10., 11.]])"
      ]
     },
     "execution_count": 44,
     "metadata": {},
     "output_type": "execute_result"
    }
   ],
   "source": [
    "load_arr = np.loadtxt('array.txt', delimiter = ',', skiprows = 1)\n",
    "load_arr "
   ]
  },
  {
   "cell_type": "code",
   "execution_count": 50,
   "id": "pretty-delight",
   "metadata": {},
   "outputs": [
    {
     "name": "stdout",
     "output_type": "stream",
     "text": [
      "Elemento na linha 1 e coluna 1: 5.0\n",
      "Elemento na coluna 2: [ 2.  6. 10.]\n",
      "Elemento máximo na linha 2: 11.0\n",
      "Resultado da seleção: [ 4.  6.  8. 10.]\n"
     ]
    }
   ],
   "source": [
    "print(f\"Elemento na linha 1 e coluna 1: {load_arr[1,1]}\")\n",
    "print(f\"Elemento na coluna 2: {load_arr[:,2]}\")\n",
    "print(f\"Elemento máximo na linha 2: {load_arr[2,:].max()}\")\n",
    "\n",
    "selecao = load_arr[(load_arr > 3) & (load_arr % 2 == 0)]\n",
    "print(f\"Resultado da seleção: {selecao}\")"
   ]
  },
  {
   "cell_type": "markdown",
   "id": "12ad5a20",
   "metadata": {},
   "source": [
    "6. Gere duas arrays em formato de matriz e faça um dot product nela "
   ]
  },
  {
   "cell_type": "code",
   "execution_count": 51,
   "id": "indirect-democrat",
   "metadata": {},
   "outputs": [
    {
     "name": "stdout",
     "output_type": "stream",
     "text": [
      "[[2 3]\n",
      " [1 3]]\n",
      "[[3 0]\n",
      " [3 0]]\n",
      "Produto\n",
      "[[15  0]\n",
      " [12  0]]\n"
     ]
    }
   ],
   "source": [
    "#usando np.matrix\n",
    "matrix1 = np.matrix(np.random.randint(0,4,size = 4).reshape(2,2))\n",
    "matrix2 = np.matrix(np.random.randint(0,4,size = 4).reshape(2,2))\n",
    "print(matrix1)\n",
    "print(matrix2)\n",
    "\n",
    "print(\"Produto\")\n",
    "print(matrix1*matrix2)"
   ]
  },
  {
   "cell_type": "code",
   "execution_count": 54,
   "id": "2ac159ff",
   "metadata": {},
   "outputs": [
    {
     "name": "stdout",
     "output_type": "stream",
     "text": [
      "[[1 2]\n",
      " [2 0]]\n",
      "[[2 3]\n",
      " [1 1]]\n",
      "Produto\n",
      "[[4 5]\n",
      " [4 6]]\n"
     ]
    }
   ],
   "source": [
    "#usando np.array\n",
    "matrix_1 = np.random.randint(0,4,size = 4).reshape(2,2)\n",
    "matrix_2 = np.random.randint(0,4,size = 4).reshape(2,2)\n",
    "print(matrix_1)\n",
    "print(matrix_2)\n",
    "\n",
    "print(\"Produto\")\n",
    "print(np.matmul(matrix_1,matrix_2))"
   ]
  },
  {
   "cell_type": "markdown",
   "id": "differential-vertical",
   "metadata": {},
   "source": [
    "#### Pandas"
   ]
  },
  {
   "cell_type": "markdown",
   "id": "8edb7d4c",
   "metadata": {},
   "source": [
    "1. Faça uma pandas Series com valores inteiros randomicos de tamanho 30 de numeros entre 5 e 15\n",
    "\n",
    "    1a. Divida sua serie em duas partes e gere duas series novas \n",
    "\n",
    "    1b. Adicione 5 valores a cada serie e mantenha os dois elementos como series\n",
    "\n",
    "    1c. Conte as aparições de cada elemento da Serie\n",
    "\n",
    "    1d. Faça comparações booleanas entre as duas series\n",
    "\n",
    "    1e. Junte as duas series em um dataframe\n",
    "\n",
    "    1f. Rename nas colunas utilizando inplace \n",
    "    \n",
    "    1g. Explore seu novo DataFrame"
   ]
  },
  {
   "cell_type": "code",
   "execution_count": 57,
   "id": "oriental-treasury",
   "metadata": {},
   "outputs": [
    {
     "name": "stdout",
     "output_type": "stream",
     "text": [
      "0     14\n",
      "1      5\n",
      "2     10\n",
      "3     10\n",
      "4     10\n",
      "5     15\n",
      "6     11\n",
      "7      5\n",
      "8     12\n",
      "9      5\n",
      "10     9\n",
      "11     6\n",
      "12     8\n",
      "13    15\n",
      "14    14\n",
      "15     5\n",
      "16    14\n",
      "17    14\n",
      "18     6\n",
      "19    15\n",
      "20    12\n",
      "21     6\n",
      "22    10\n",
      "23    15\n",
      "24    12\n",
      "25    15\n",
      "26     8\n",
      "27     6\n",
      "28    15\n",
      "29     5\n",
      "dtype: int64\n",
      "0     14\n",
      "1      5\n",
      "2     10\n",
      "3     10\n",
      "4     10\n",
      "5     15\n",
      "6     11\n",
      "7      5\n",
      "8     12\n",
      "9      5\n",
      "10     9\n",
      "11     6\n",
      "12     8\n",
      "13    15\n",
      "14    14\n",
      "dtype: int64\n",
      "0      5\n",
      "1     14\n",
      "2     14\n",
      "3      6\n",
      "4     15\n",
      "5     12\n",
      "6      6\n",
      "7     10\n",
      "8     15\n",
      "9     12\n",
      "10    15\n",
      "11     8\n",
      "12     6\n",
      "13    15\n",
      "14     5\n",
      "dtype: int64\n"
     ]
    }
   ],
   "source": [
    "#1\n",
    "serie = pd.Series(np.random.randint(5,16,size=30))\n",
    "print(serie)\n",
    "\n",
    "#1a\n",
    "serie1 = serie[:15].copy()\n",
    "serie2 = serie[15:].copy().reset_index(drop=True)\n",
    "print(serie1)\n",
    "print(serie2)"
   ]
  },
  {
   "cell_type": "code",
   "execution_count": 67,
   "id": "swiss-phoenix",
   "metadata": {},
   "outputs": [
    {
     "name": "stdout",
     "output_type": "stream",
     "text": [
      "0     14\n",
      "1      5\n",
      "2     10\n",
      "3     10\n",
      "4     10\n",
      "5     15\n",
      "6     11\n",
      "7      5\n",
      "8     12\n",
      "9      5\n",
      "10     9\n",
      "11     6\n",
      "12     8\n",
      "13    15\n",
      "14    14\n",
      "15    20\n",
      "16    21\n",
      "17    22\n",
      "18    23\n",
      "19    24\n",
      "20    20\n",
      "21    21\n",
      "22    22\n",
      "23    23\n",
      "24    24\n",
      "25    20\n",
      "26    21\n",
      "27    22\n",
      "28    23\n",
      "29    24\n",
      "30    20\n",
      "31    21\n",
      "32    22\n",
      "33    23\n",
      "34    24\n",
      "dtype: int64\n",
      "0      5\n",
      "1     14\n",
      "2     14\n",
      "3      6\n",
      "4     15\n",
      "5     12\n",
      "6      6\n",
      "7     10\n",
      "8     15\n",
      "9     12\n",
      "10    15\n",
      "11     8\n",
      "12     6\n",
      "13    15\n",
      "14     5\n",
      "15    25\n",
      "16    26\n",
      "17    27\n",
      "18    28\n",
      "19    29\n",
      "20    25\n",
      "21    26\n",
      "22    27\n",
      "23    28\n",
      "24    29\n",
      "25    25\n",
      "26    26\n",
      "27    27\n",
      "28    28\n",
      "29    29\n",
      "30    25\n",
      "31    26\n",
      "32    27\n",
      "33    28\n",
      "34    29\n",
      "dtype: int64\n"
     ]
    }
   ],
   "source": [
    "#1b\n",
    "novo_array1 = pd.Series([20,21,22,23,24])\n",
    "novo_array2 = pd.Series([25,26,27,28,29])\n",
    "serie1 = pd.concat([serie1, novo_array1]).reset_index(drop=True)\n",
    "serie2 = pd.concat([serie2, novo_array2]).reset_index(drop=True)\n",
    "print(serie1)\n",
    "print(serie2)"
   ]
  },
  {
   "cell_type": "code",
   "execution_count": 68,
   "id": "392a2b05",
   "metadata": {},
   "outputs": [
    {
     "name": "stdout",
     "output_type": "stream",
     "text": [
      "20    4\n",
      "21    4\n",
      "22    4\n",
      "23    4\n",
      "24    4\n",
      "5     3\n",
      "10    3\n",
      "14    2\n",
      "15    2\n",
      "11    1\n",
      "12    1\n",
      "9     1\n",
      "6     1\n",
      "8     1\n",
      "dtype: int64\n",
      "15    4\n",
      "25    4\n",
      "26    4\n",
      "27    4\n",
      "28    4\n",
      "29    4\n",
      "6     3\n",
      "5     2\n",
      "14    2\n",
      "12    2\n",
      "10    1\n",
      "8     1\n",
      "dtype: int64\n"
     ]
    }
   ],
   "source": [
    "#1c\n",
    "print(serie1.value_counts())\n",
    "print(serie2.value_counts())"
   ]
  },
  {
   "cell_type": "code",
   "execution_count": 79,
   "id": "fedab7cb",
   "metadata": {},
   "outputs": [
    {
     "name": "stdout",
     "output_type": "stream",
     "text": [
      "0     14\n",
      "3     10\n",
      "5     15\n",
      "6     11\n",
      "12     8\n",
      "14    14\n",
      "dtype: int64\n",
      "0      5\n",
      "1     14\n",
      "2     14\n",
      "3      6\n",
      "4     15\n",
      "5     12\n",
      "6      6\n",
      "7     10\n",
      "8     15\n",
      "9     12\n",
      "10    15\n",
      "11     8\n",
      "12     6\n",
      "14     5\n",
      "15    25\n",
      "16    26\n",
      "17    27\n",
      "18    28\n",
      "19    29\n",
      "20    25\n",
      "21    26\n",
      "22    27\n",
      "23    28\n",
      "24    29\n",
      "25    25\n",
      "26    26\n",
      "27    27\n",
      "28    28\n",
      "29    29\n",
      "30    25\n",
      "31    26\n",
      "32    27\n",
      "33    28\n",
      "34    29\n",
      "dtype: int64\n",
      "     0   1\n",
      "0   14   5\n",
      "1    5  14\n",
      "2   10  14\n",
      "3   10   6\n",
      "4   10  15\n",
      "5   15  12\n",
      "6   11   6\n",
      "7    5  10\n",
      "8   12  15\n",
      "9    5  12\n",
      "10   9  15\n",
      "11   6   8\n",
      "12   8   6\n",
      "13  15  15\n",
      "14  14   5\n",
      "15  20  25\n",
      "16  21  26\n",
      "17  22  27\n",
      "18  23  28\n",
      "19  24  29\n",
      "20  20  25\n",
      "21  21  26\n",
      "22  22  27\n",
      "23  23  28\n",
      "24  24  29\n",
      "25  20  25\n",
      "26  21  26\n",
      "27  22  27\n",
      "28  23  28\n",
      "29  24  29\n",
      "30  20  25\n",
      "31  21  26\n",
      "32  22  27\n",
      "33  23  28\n",
      "34  24  29\n",
      "    Série 1  Série 2\n",
      "0        14        5\n",
      "1         5       14\n",
      "2        10       14\n",
      "3        10        6\n",
      "4        10       15\n",
      "5        15       12\n",
      "6        11        6\n",
      "7         5       10\n",
      "8        12       15\n",
      "9         5       12\n",
      "10        9       15\n",
      "11        6        8\n",
      "12        8        6\n",
      "13       15       15\n",
      "14       14        5\n",
      "15       20       25\n",
      "16       21       26\n",
      "17       22       27\n",
      "18       23       28\n",
      "19       24       29\n",
      "20       20       25\n",
      "21       21       26\n",
      "22       22       27\n",
      "23       23       28\n",
      "24       24       29\n",
      "25       20       25\n",
      "26       21       26\n",
      "27       22       27\n",
      "28       23       28\n",
      "29       24       29\n",
      "30       20       25\n",
      "31       21       26\n",
      "32       22       27\n",
      "33       23       28\n",
      "34       24       29\n"
     ]
    }
   ],
   "source": [
    "#1d\n",
    "filtro1 = serie1>serie2\n",
    "filtro2 = serie1 != serie2\n",
    "print(serie1[filtro1])\n",
    "print(serie2[filtro2])\n",
    "\n",
    "#1e\n",
    "dataframe1 = pd.concat([serie1,serie2], axis=1)\n",
    "print(dataframe1)\n",
    "\n",
    "#1f\n",
    "dataframe1.rename(columns={0:'Série 1', 1: 'Série 2'}, inplace=True)\n",
    "print(dataframe1)"
   ]
  },
  {
   "cell_type": "markdown",
   "id": "combined-generation",
   "metadata": {},
   "source": [
    "2. Carregue o dataset da url (https://www.kaggle.com/datasets/andrewmvd/global-monkeypox-cases)\n",
    "\n",
    "    2a. Explore seu dataframe\n",
    "\n",
    "    2b. Faça uma lista com todas as colunas disponíveis \n",
    "\n",
    "    2c. Veja todos os paises que tem no dataframe\n",
    "\n",
    "    2d. Faça um groupby pais e veja quantos casos tem cada pais, gere um novo df com essa informação\n",
    "    \n",
    "    2e. Faça um groupby por status e pais e veja quantos casos confirmados tem por pais\n"
   ]
  },
  {
   "cell_type": "code",
   "execution_count": 28,
   "id": "funky-serbia",
   "metadata": {},
   "outputs": [
    {
     "name": "stdout",
     "output_type": "stream",
     "text": [
      "<class 'pandas.core.frame.DataFrame'>\n",
      "RangeIndex: 6500 entries, 0 to 6499\n",
      "Data columns (total 32 columns):\n",
      " #   Column                   Non-Null Count  Dtype  \n",
      "---  ------                   --------------  -----  \n",
      " 0   ID                       6499 non-null   float64\n",
      " 1   Status                   6499 non-null   object \n",
      " 2   Location                 3775 non-null   object \n",
      " 3   City                     655 non-null    object \n",
      " 4   Country                  6499 non-null   object \n",
      " 5   Age                      1212 non-null   object \n",
      " 6   Gender                   1145 non-null   object \n",
      " 7   Date_onset               29 non-null     object \n",
      " 8   Date_confirmation        6108 non-null   object \n",
      " 9   Symptoms                 136 non-null    object \n",
      " 10  Hospitalised (Y/N/NA)    180 non-null    object \n",
      " 11  Date_hospitalisation     20 non-null     object \n",
      " 12  Isolated (Y/N/NA)        251 non-null    object \n",
      " 13  Date_isolation           14 non-null     object \n",
      " 14  Outcome                  1 non-null      object \n",
      " 15  Contact_comment          58 non-null     object \n",
      " 16  Contact_ID               13 non-null     float64\n",
      " 17  Contact_location         6 non-null      object \n",
      " 18  Travel_history (Y/N/NA)  226 non-null    object \n",
      " 19  Travel_history_entry     21 non-null     object \n",
      " 20  Travel_history_start     5 non-null      object \n",
      " 21  Travel_history_location  58 non-null     object \n",
      " 22  Travel_history_country   55 non-null     object \n",
      " 23  Genomics_Metadata        24 non-null     object \n",
      " 24  Confirmation_method      96 non-null     object \n",
      " 25  Source                   6499 non-null   object \n",
      " 26  Source_II                1784 non-null   object \n",
      " 27  Date_entry               6498 non-null   object \n",
      " 28  Date_last_modified       6498 non-null   object \n",
      " 29  Source_III               243 non-null    object \n",
      " 30  Source_IV                38 non-null     object \n",
      " 31  Country_ISO3             6498 non-null   object \n",
      "dtypes: float64(2), object(30)\n",
      "memory usage: 1.6+ MB\n",
      "None\n",
      "['ID', 'Status', 'Location', 'City', 'Country', 'Age', 'Gender', 'Date_onset', 'Date_confirmation', 'Symptoms', 'Hospitalised (Y/N/NA)', 'Date_hospitalisation', 'Isolated (Y/N/NA)', 'Date_isolation', 'Outcome', 'Contact_comment', 'Contact_ID', 'Contact_location', 'Travel_history (Y/N/NA)', 'Travel_history_entry', 'Travel_history_start', 'Travel_history_location', 'Travel_history_country', 'Genomics_Metadata', 'Confirmation_method', 'Source', 'Source_II', 'Date_entry', 'Date_last_modified', 'Source_III', 'Source_IV', 'Country_ISO3']\n",
      "['England', 'Portugal', 'Spain', 'United States', 'Canada', 'Sweden', 'Italy', 'France', 'Belgium', 'Australia', 'Germany', 'Netherlands', 'Israel', 'Switzerland', 'Greece', 'Austria', 'Argentina', 'Denmark', 'Morocco', 'Slovenia', 'Scotland', 'Czech Republic', 'United Arab Emirates', 'Finland', 'Wales', 'Northern Ireland', 'Sudan', 'Bolivia', 'Iran', 'Ecuador', 'Malta', 'Ireland', 'Mexico', 'Pakistan', 'French Guiana', 'Thailand', 'Peru', 'Brazil', 'Malaysia', 'Hungary', 'Norway', 'Paraguay', 'Costa Rica', 'Gibraltar', 'Mauritius', 'Haiti', 'Uruguay', 'Latvia', nan, 'Cayman Islands', 'Kosovo', 'Turkey', 'Bahamas', 'Ghana', 'India', 'Iceland', 'Poland', 'Bangladesh', 'Uganda', 'Cambodia', 'Malawi', 'Venezuela', 'Romania', 'Georgia', 'Slovakia', 'Luxembourg', 'Nepal', 'Chile', 'Serbia', 'Lebanon', 'South Korea', 'Singapore', 'South Africa', 'Taiwan', 'Colombia', 'Croatia', 'Bulgaria', 'Somalia', 'Zambia', 'Fiji', 'Benin', 'Estonia', 'Puerto Rico']\n",
      "                 Country     0\n",
      "0              Argentina     8\n",
      "1              Australia    14\n",
      "2                Austria    37\n",
      "3                Bahamas     1\n",
      "4             Bangladesh     1\n",
      "5                Belgium   117\n",
      "6                  Benin     3\n",
      "7                Bolivia     3\n",
      "8                 Brazil    74\n",
      "9               Bulgaria     3\n",
      "10              Cambodia    11\n",
      "11                Canada   362\n",
      "12        Cayman Islands     1\n",
      "13                 Chile     7\n",
      "14              Colombia     3\n",
      "15            Costa Rica     1\n",
      "16               Croatia     1\n",
      "17        Czech Republic     8\n",
      "18               Denmark    18\n",
      "19               Ecuador     2\n",
      "20               England  1185\n",
      "21               Estonia     1\n",
      "22                  Fiji     1\n",
      "23               Finland     4\n",
      "24                France   499\n",
      "25         French Guiana     2\n",
      "26               Georgia     1\n",
      "27               Germany  1054\n",
      "28                 Ghana    18\n",
      "29             Gibraltar     1\n",
      "30                Greece     4\n",
      "31                 Haiti     1\n",
      "32               Hungary    19\n",
      "33               Iceland     4\n",
      "34                 India     1\n",
      "35                  Iran     6\n",
      "36               Ireland    39\n",
      "37                Israel    44\n",
      "38                 Italy   201\n",
      "39                Kosovo     1\n",
      "40                Latvia     2\n",
      "41               Lebanon     1\n",
      "42            Luxembourg     3\n",
      "43                Malawi     1\n",
      "44              Malaysia     3\n",
      "45                 Malta     4\n",
      "46             Mauritius     3\n",
      "47                Mexico    12\n",
      "48               Morocco     4\n",
      "49                 Nepal     1\n",
      "50           Netherlands   257\n",
      "51      Northern Ireland     6\n",
      "52                Norway    17\n",
      "53              Pakistan     1\n",
      "54              Paraguay     1\n",
      "55                  Peru     4\n",
      "56                Poland    12\n",
      "57              Portugal   402\n",
      "58           Puerto Rico     1\n",
      "59               Romania    11\n",
      "60              Scotland    34\n",
      "61                Serbia     1\n",
      "62             Singapore     1\n",
      "63              Slovakia     1\n",
      "64              Slovenia     9\n",
      "65               Somalia     3\n",
      "66          South Africa     2\n",
      "67           South Korea     2\n",
      "68                 Spain  1382\n",
      "69                 Sudan     1\n",
      "70                Sweden    28\n",
      "71           Switzerland    83\n",
      "72                Taiwan     1\n",
      "73              Thailand     9\n",
      "74                Turkey     5\n",
      "75                Uganda     6\n",
      "76  United Arab Emirates    13\n",
      "77         United States   395\n",
      "78               Uruguay     4\n",
      "79             Venezuela     1\n",
      "80                 Wales    10\n",
      "81                Zambia     1\n",
      "       Status               Country     0\n",
      "0   confirmed             Argentina     6\n",
      "1   confirmed             Australia    12\n",
      "2   confirmed               Austria    37\n",
      "3   confirmed               Belgium   117\n",
      "4   confirmed                 Benin     3\n",
      "5   confirmed                Brazil    37\n",
      "6   confirmed              Bulgaria     3\n",
      "7   confirmed                Canada   287\n",
      "8   confirmed                 Chile     6\n",
      "9   confirmed              Colombia     3\n",
      "10  confirmed               Croatia     1\n",
      "11  confirmed        Czech Republic     8\n",
      "12  confirmed               Denmark    18\n",
      "13  confirmed               England  1185\n",
      "14  confirmed               Estonia     1\n",
      "15  confirmed               Finland     4\n",
      "16  confirmed                France   498\n",
      "17  confirmed               Georgia     1\n",
      "18  confirmed               Germany  1054\n",
      "19  confirmed                 Ghana    18\n",
      "20  confirmed             Gibraltar     1\n",
      "21  confirmed                Greece     3\n",
      "22  confirmed               Hungary    19\n",
      "23  confirmed               Iceland     4\n",
      "24  confirmed               Ireland    39\n",
      "25  confirmed                Israel    42\n",
      "26  confirmed                 Italy   192\n",
      "27  confirmed                Latvia     2\n",
      "28  confirmed               Lebanon     1\n",
      "29  confirmed            Luxembourg     3\n",
      "30  confirmed                 Malta     4\n",
      "31  confirmed                Mexico    11\n",
      "32  confirmed               Morocco     1\n",
      "33  confirmed           Netherlands   257\n",
      "34  confirmed      Northern Ireland     6\n",
      "35  confirmed                Norway    17\n",
      "36  confirmed                  Peru     3\n",
      "37  confirmed                Poland    12\n",
      "38  confirmed              Portugal   402\n",
      "39  confirmed           Puerto Rico     1\n",
      "40  confirmed               Romania    11\n",
      "41  confirmed              Scotland    34\n",
      "42  confirmed                Serbia     1\n",
      "43  confirmed             Singapore     1\n",
      "44  confirmed              Slovenia     9\n",
      "45  confirmed          South Africa     2\n",
      "46  confirmed           South Korea     1\n",
      "47  confirmed                 Spain  1196\n",
      "48  confirmed                Sweden    28\n",
      "49  confirmed           Switzerland    83\n",
      "50  confirmed                Taiwan     1\n",
      "51  confirmed                Turkey     1\n",
      "52  confirmed  United Arab Emirates    13\n",
      "53  confirmed         United States   395\n",
      "54  confirmed             Venezuela     1\n",
      "55  confirmed                 Wales    10\n"
     ]
    }
   ],
   "source": [
    "import pandas as pd\n",
    "#2\n",
    "monkey_df = pd.read_csv('monkeypox_df.csv', sep=',')\n",
    "\n",
    "#2a\n",
    "print(monkey_df.info())\n",
    "\n",
    "#2b\n",
    "lista_cols = list(monkey_df.columns)\n",
    "print(lista_cols)\n",
    "\n",
    "#2c\n",
    "lista_paises = list(monkey_df['Country'].unique())\n",
    "print(lista_paises)\n",
    "# lista_paises_alt = list(monkey_df['Country'].drop_duplicates())\n",
    "# print(lista_paises_alt)\n",
    "\n",
    "#2d\n",
    "pd.set_option('display.max_rows', None )\n",
    "groupby_paises = monkey_df.groupby(['Country']).size().reset_index()\n",
    "print(groupby_paises)\n",
    "\n",
    "#2e\n",
    "groupby_status_paises = monkey_df.groupby(['Status', 'Country']).size().reset_index()\n",
    "groupby_status_paises = groupby_status_paises[groupby_status_paises.Status == 'confirmed']\n",
    "print(groupby_status_paises)"
   ]
  },
  {
   "cell_type": "markdown",
   "id": "threatened-consensus",
   "metadata": {},
   "source": [
    "3. Opcional(vamos discutir em aula)\n",
    "\n",
    "    3a. O que vocês fariam com a coluna Idade?\n",
    "    \n",
    "    3b. Faça o tratamento de acordo com a sua linha de pensamento\n",
    "    \n",
    "    3c. Esse tratamento que fez é útil (Sim / Não e Por que)?\n",
    "    \n",
    "    3d. O que podemos fazer com essa informação para ter um dado mais assertivo?"
   ]
  },
  {
   "cell_type": "code",
   "execution_count": null,
   "id": "circular-stone",
   "metadata": {},
   "outputs": [],
   "source": [
    "#3a -> 1. NaN em colunas vazias; 2. Quebrar ranges em duas colunas (limite inferior/superior);\n",
    "#3b"
   ]
  }
 ],
 "metadata": {
  "kernelspec": {
   "display_name": "Python 3.9.12 ('base')",
   "language": "python",
   "name": "python3"
  },
  "language_info": {
   "codemirror_mode": {
    "name": "ipython",
    "version": 3
   },
   "file_extension": ".py",
   "mimetype": "text/x-python",
   "name": "python",
   "nbconvert_exporter": "python",
   "pygments_lexer": "ipython3",
   "version": "3.9.12"
  },
  "vscode": {
   "interpreter": {
    "hash": "cea1ecbc9060237308d6f43d2a8f2f7ecb9842b1b44e6cce898a5c7b51f4cadd"
   }
  }
 },
 "nbformat": 4,
 "nbformat_minor": 5
}
