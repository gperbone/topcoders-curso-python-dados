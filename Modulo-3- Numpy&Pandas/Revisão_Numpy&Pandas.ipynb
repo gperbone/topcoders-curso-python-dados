{
 "cells": [
  {
   "cell_type": "markdown",
   "id": "floral-handy",
   "metadata": {},
   "source": [
    "### NUMPY"
   ]
  },
  {
   "cell_type": "code",
   "execution_count": 1,
   "id": "located-judgment",
   "metadata": {
    "execution": {
     "iopub.execute_input": "2022-07-11T19:19:49.969130Z",
     "iopub.status.busy": "2022-07-11T19:19:49.967152Z",
     "iopub.status.idle": "2022-07-11T19:19:50.382180Z",
     "shell.execute_reply": "2022-07-11T19:19:50.380948Z",
     "shell.execute_reply.started": "2022-07-11T19:19:49.968684Z"
    }
   },
   "outputs": [],
   "source": [
    "import numpy as np"
   ]
  },
  {
   "cell_type": "code",
   "execution_count": 4,
   "id": "sufficient-burton",
   "metadata": {
    "execution": {
     "iopub.execute_input": "2022-07-11T19:20:50.009423Z",
     "iopub.status.busy": "2022-07-11T19:20:50.008968Z",
     "iopub.status.idle": "2022-07-11T19:20:50.025082Z",
     "shell.execute_reply": "2022-07-11T19:20:50.023951Z",
     "shell.execute_reply.started": "2022-07-11T19:20:50.009379Z"
    },
    "tags": []
   },
   "outputs": [
    {
     "name": "stdout",
     "output_type": "stream",
     "text": [
      " Shape: (2, 4)\n",
      " Dtype: int64\n",
      " Dims: 2\n"
     ]
    }
   ],
   "source": [
    "#construção de uma array\n",
    "list1 = [[2,3,4,4],[3,40,100,0]]\n",
    "array1 = np.array(list1)\n",
    "print(f' Shape: {array1.shape}')\n",
    "print(f' Dtype: {array1.dtype}')\n",
    "print(f' Dims: {array1.ndim}')"
   ]
  },
  {
   "cell_type": "code",
   "execution_count": 5,
   "id": "cloudy-enough",
   "metadata": {
    "execution": {
     "iopub.execute_input": "2022-07-11T19:21:00.318403Z",
     "iopub.status.busy": "2022-07-11T19:21:00.318016Z",
     "iopub.status.idle": "2022-07-11T19:21:00.338296Z",
     "shell.execute_reply": "2022-07-11T19:21:00.337159Z",
     "shell.execute_reply.started": "2022-07-11T19:21:00.318374Z"
    }
   },
   "outputs": [
    {
     "data": {
      "text/plain": [
       "array([[  2,   3,   4,   4],\n",
       "       [  3,  40, 100,   0]])"
      ]
     },
     "execution_count": 5,
     "metadata": {},
     "output_type": "execute_result"
    }
   ],
   "source": [
    "array1"
   ]
  },
  {
   "cell_type": "code",
   "execution_count": 12,
   "id": "animal-choir",
   "metadata": {
    "execution": {
     "iopub.execute_input": "2022-07-11T19:21:36.794420Z",
     "iopub.status.busy": "2022-07-11T19:21:36.794080Z",
     "iopub.status.idle": "2022-07-11T19:21:36.800535Z",
     "shell.execute_reply": "2022-07-11T19:21:36.797805Z",
     "shell.execute_reply.started": "2022-07-11T19:21:36.794388Z"
    },
    "tags": []
   },
   "outputs": [],
   "source": [
    "array1 = array1.astype('float')"
   ]
  },
  {
   "cell_type": "code",
   "execution_count": 13,
   "id": "piano-stream",
   "metadata": {
    "execution": {
     "iopub.execute_input": "2022-07-11T19:21:37.263966Z",
     "iopub.status.busy": "2022-07-11T19:21:37.263637Z",
     "iopub.status.idle": "2022-07-11T19:21:37.270511Z",
     "shell.execute_reply": "2022-07-11T19:21:37.269370Z",
     "shell.execute_reply.started": "2022-07-11T19:21:37.263939Z"
    },
    "tags": []
   },
   "outputs": [
    {
     "data": {
      "text/plain": [
       "dtype('float64')"
      ]
     },
     "execution_count": 13,
     "metadata": {},
     "output_type": "execute_result"
    }
   ],
   "source": [
    "array1.dtype"
   ]
  },
  {
   "cell_type": "code",
   "execution_count": null,
   "id": "cleared-prototype",
   "metadata": {},
   "outputs": [],
   "source": [
    "#zeros = array feita de zeros\n",
    "npzeros = np.zeros(6)\n",
    "print(npzeros)\n",
    "print()\n",
    "#ones - array feita de qualquer numero\n",
    "npones = np.ones((2,2))*10\n",
    "print(npones)\n",
    "print()\n",
    "#empty - array dada um tamanho e tipo determinado com valores randomicos\n",
    "npempty = np.empty([2,2], dtype='int')\n",
    "print(npempty)\n",
    "print()\n",
    "#full - parecida a ones porem mais \"elegante\"\n",
    "npfull = np.full((2, 2), 99)\n",
    "print(npfull)\n",
    "print()\n",
    "#fulllike - cria um array baseada em uma existente com outro numero dado\n",
    "nplike = np.full_like(npfull, 4)\n",
    "print(nplike)\n",
    "print()\n",
    "# arange - cria um array com elementos separados por um step\n",
    "nparange = np.arange(0, 10, .1)\n",
    "print(nparange)\n",
    "print()\n",
    "#copias do array \n",
    "array = np.array([1, 2, 3])\n",
    "copyarr = array.copy()\n",
    "print(array)\n",
    "print(copyarr)"
   ]
  },
  {
   "cell_type": "code",
   "execution_count": null,
   "id": "julian-criterion",
   "metadata": {},
   "outputs": [],
   "source": [
    "#multipy, divide, add, subtract\n",
    "#numero especifico tmb\n",
    "array1 = 5*np.random.random_sample((3, 3))\n",
    "array2 = 6*np.random.random_sample((3, 3))\n",
    "print(array1)\n",
    "print('\\n')\n",
    "print(array2)\n",
    "print('\\n')\n",
    "print('Multi : \\n',np.multiply(array1, array2))\n",
    "print('Sub: \\n',np.subtract(array1, array2))\n",
    "print('Soma: \\n',np.add(array1, array2))\n",
    "print('Divisão: \\n',np.divide(array1, array2))\n",
    "stats = np.array([[1, 8, 3], [4, 5, 6]])\n",
    "#minimo do nosso array\n",
    "np.min(stats)\n",
    "#maximo do nosso array\n",
    "np.max(stats)\n",
    "#minima por linha\n",
    "np.min(stats, axis=0)\n",
    "#minima por coluna\n",
    "np.max(stats, axis=1)\n",
    "#maximo de uma coluna especifica\n",
    "np.max(stats[:, 1],axis=0)"
   ]
  },
  {
   "cell_type": "code",
   "execution_count": null,
   "id": "equivalent-pattern",
   "metadata": {},
   "outputs": [],
   "source": [
    "#array com lista de listas dim(2)\n",
    "array = np.array([[1, 2, 3, 4, 5, 6, 7], [8, 9, 10, 11, 12, 13, 14]])\n",
    "#numero especifico\n",
    "array[1,5]\n",
    "#numero especifico negativo\n",
    "array[1, -2]\n",
    "# : é chamado de slicing [startindex:endindex:stepsize]\n",
    "#primera linha\n",
    "array[0, :]\n",
    "#todos os elementos da 2 coluna\n",
    "array[:, 2]\n",
    "#elemento especificos com step\n",
    "array[0,1:6:2]\n",
    "#trocando um numero especifico\n",
    "array[1,5] = 20\n",
    "print(array)\n",
    "#trocar coluna inteira \n",
    "array[:, 2] = 5\n",
    "print(array)\n",
    "#voltar os valores originais \n",
    "array[:, 2] = [3, 10]\n",
    "print(array)\n"
   ]
  },
  {
   "cell_type": "code",
   "execution_count": null,
   "id": "comprehensive-insight",
   "metadata": {},
   "outputs": [],
   "source": [
    "#3D ARRAY"
   ]
  },
  {
   "cell_type": "markdown",
   "id": "funky-emperor",
   "metadata": {},
   "source": [
    "<div>\n",
    "<img src=\"../Imgs/arrays.png\" width=\"500\"/>\n",
    "</div>\n",
    "<img src=\"../Imgs/formato3d.png\" width=\"500\"/>"
   ]
  },
  {
   "cell_type": "code",
   "execution_count": 14,
   "id": "alive-princeton",
   "metadata": {
    "execution": {
     "iopub.execute_input": "2022-07-11T19:29:23.121580Z",
     "iopub.status.busy": "2022-07-11T19:29:23.121261Z",
     "iopub.status.idle": "2022-07-11T19:29:23.125386Z",
     "shell.execute_reply": "2022-07-11T19:29:23.124458Z",
     "shell.execute_reply.started": "2022-07-11T19:29:23.121550Z"
    }
   },
   "outputs": [],
   "source": [
    "#Retirando um elemento especifico [bloco][linha][coluna]\n",
    "array3d= np.array([[[1, 2], [3,4]],[[6,8],[0,7]]])\n",
    "array3d[1,1,1]"
   ]
  },
  {
   "cell_type": "code",
   "execution_count": null,
   "id": "veterinary-oregon",
   "metadata": {},
   "outputs": [],
   "source": [
    "#boolean simples, retorna a mesma array com True e False\n",
    "arr1 >10"
   ]
  },
  {
   "cell_type": "code",
   "execution_count": null,
   "id": "entertaining-attendance",
   "metadata": {},
   "outputs": [],
   "source": [
    "#Quando colocamos cochetes ele retorna os valores nos quais o nosso boolean é verdadeiro \n",
    "arr1[arr1 > 10]"
   ]
  },
  {
   "cell_type": "code",
   "execution_count": null,
   "id": "greek-brake",
   "metadata": {},
   "outputs": [],
   "source": [
    "#comparando arrays 1D\n",
    "a = np.array([1,2,3,4]) \n",
    "b = np.array([3,8,5,6])\n",
    "\n",
    "#funções\n",
    "np.greater(a, b)\n",
    "np.less(a, b)\n",
    "np.equal(a, b)\n",
    "np.not_equal(a, b)"
   ]
  },
  {
   "cell_type": "code",
   "execution_count": null,
   "id": "perceived-pulse",
   "metadata": {},
   "outputs": [],
   "source": [
    "# .any & .all\n",
    "#coluna\n",
    "np.any(arr1 > 10, axis=0)\n",
    "#linea\n",
    "np.any(arr1 > 10, axis=1)\n",
    "# filtro boolean or |\n",
    "filtor = (arr1 > 10) | (arr1 <= 20)\n",
    "#filtro boolean 2\n",
    "filtand2 = (arr > 15) & (arr % 2 == 0)"
   ]
  },
  {
   "cell_type": "code",
   "execution_count": null,
   "id": "professional-nylon",
   "metadata": {},
   "outputs": [],
   "source": [
    "#Matrizes obrigatoriamente tem duas dims\n",
    "mat1 = np.matrix([[1, 2],[3, 4]])\n",
    "#lembrar que multi de matriz funciona diferente / * normal é dot product\n",
    "mat1 * mat1 "
   ]
  },
  {
   "cell_type": "markdown",
   "id": "south-prerequisite",
   "metadata": {},
   "source": [
    "### PANDAS\n"
   ]
  },
  {
   "cell_type": "code",
   "execution_count": 1,
   "id": "sustainable-westminster",
   "metadata": {
    "execution": {
     "iopub.execute_input": "2022-07-11T20:56:38.865172Z",
     "iopub.status.busy": "2022-07-11T20:56:38.864831Z",
     "iopub.status.idle": "2022-07-11T20:56:40.985870Z",
     "shell.execute_reply": "2022-07-11T20:56:40.985186Z",
     "shell.execute_reply.started": "2022-07-11T20:56:38.865105Z"
    },
    "tags": []
   },
   "outputs": [],
   "source": [
    "import pandas as pd"
   ]
  },
  {
   "cell_type": "code",
   "execution_count": null,
   "id": "assumed-archive",
   "metadata": {},
   "outputs": [],
   "source": [
    "#Um grupo de series forma um dataframe\n",
    "ds1 = pd.Series(np.random.randint(10, 25, size=25))"
   ]
  },
  {
   "cell_type": "code",
   "execution_count": null,
   "id": "behind-rental",
   "metadata": {},
   "outputs": [],
   "source": [
    "#Matematica\n",
    "ds = ds1 + ds2\n",
    "print('Soma:')\n",
    "print(ds)\n",
    "print('\\n')\n",
    "print('Subtração:')\n",
    "ds = ds1 - ds2\n",
    "print(ds)\n",
    "print('\\n')\n",
    "print('Multiplicação:')\n",
    "ds = ds1 * ds2\n",
    "print(ds)\n",
    "print('\\n')\n",
    "print(\"Divisão:\")\n",
    "ds = ds1 / ds2\n",
    "print(ds)\n",
    "print('\\n')\n",
    "print('Media:')\n",
    "print(ds1.mean())\n",
    "print('\\n')\n",
    "print('Mediana:')\n",
    "print(ds1.median())\n",
    "print('\\n')\n",
    "print('Std Dev:')\n",
    "print(ds1.std())\n",
    "print('\\n')\n",
    "print('\\n')\n",
    "print(\"Igual:\")\n",
    "print(ds1 == ds2)\n",
    "print(\"Maior que:\")\n",
    "print(ds1 > ds2)\n",
    "print(\"Menor que:\")\n",
    "print(ds1 < ds2)"
   ]
  },
  {
   "cell_type": "code",
   "execution_count": null,
   "id": "arctic-anthropology",
   "metadata": {},
   "outputs": [],
   "source": [
    "#podemos criar uma series apartir de uma numpy array \n",
    "np_array = np.array([10, 20, 30, 40, 50])\n",
    "labels = ['a','b','c','d','f']\n",
    "ds_np = pd.Series(np_array, index=labels)"
   ]
  },
  {
   "cell_type": "code",
   "execution_count": null,
   "id": "interior-advice",
   "metadata": {},
   "outputs": [],
   "source": [
    "#Transformação serie para  float \n",
    "ds_dict = pd.to_numeric(ds_dict, errors='coerce')"
   ]
  },
  {
   "cell_type": "code",
   "execution_count": null,
   "id": "heavy-austin",
   "metadata": {},
   "outputs": [],
   "source": [
    "#adicionando valores a uma serie \n",
    "s = pd.Series(['10', '26', 'python', '300.12', '78'])\n",
    "ds1 = s.append(pd.Series(['23','Ruby'])).reset_index(drop=True)\n"
   ]
  },
  {
   "cell_type": "code",
   "execution_count": null,
   "id": "eight-third",
   "metadata": {},
   "outputs": [],
   "source": [
    "element_idx = [2,5,9,22]\n",
    "extract = ds1.take(element_idx)\n",
    "ds1[2:-1]\n",
    "ds1[5:7]\n",
    "#sortvalues coloca os items em ordem crescente ou decrescente \n",
    ".sort_values()"
   ]
  },
  {
   "cell_type": "code",
   "execution_count": 2,
   "id": "strategic-picnic",
   "metadata": {
    "execution": {
     "iopub.execute_input": "2022-07-11T20:56:52.882147Z",
     "iopub.status.busy": "2022-07-11T20:56:52.881743Z",
     "iopub.status.idle": "2022-07-11T20:56:53.119561Z",
     "shell.execute_reply": "2022-07-11T20:56:53.118590Z",
     "shell.execute_reply.started": "2022-07-11T20:56:52.882109Z"
    },
    "tags": []
   },
   "outputs": [],
   "source": [
    "#ler arquvios de excel \n",
    "df_excel = pd.read_excel('bases/inpe_EM_BRAmz_results.xlsx',sheet_name='Sem degracação',skiprows=10)"
   ]
  },
  {
   "cell_type": "code",
   "execution_count": null,
   "id": "sunrise-slave",
   "metadata": {},
   "outputs": [],
   "source": [
    "df_excel.head()\n",
    "df_excel.columns\n",
    "df_excel.shape"
   ]
  },
  {
   "cell_type": "code",
   "execution_count": null,
   "id": "apparent-commitment",
   "metadata": {},
   "outputs": [],
   "source": [
    "df_excel.drop(columns=['-','Unnamed: 16','Unnamed: 17','Unnamed: 18'],inplace=True)"
   ]
  },
  {
   "cell_type": "code",
   "execution_count": 3,
   "id": "human-tucson",
   "metadata": {
    "execution": {
     "iopub.execute_input": "2022-07-11T21:04:48.388248Z",
     "iopub.status.busy": "2022-07-11T21:04:48.380975Z",
     "iopub.status.idle": "2022-07-11T21:04:48.550503Z",
     "shell.execute_reply": "2022-07-11T21:04:48.548216Z",
     "shell.execute_reply.started": "2022-07-11T21:04:48.388135Z"
    }
   },
   "outputs": [],
   "source": [
    "#csv\n",
    "df_1 = pd.read_csv('bases/titles.csv')"
   ]
  },
  {
   "cell_type": "code",
   "execution_count": null,
   "id": "consistent-apparatus",
   "metadata": {},
   "outputs": [],
   "source": [
    "df_1.info()\n",
    "#nlargest - function toget the biggest elements of a colum\n",
    "df_1.nlargest(10, 'imdb_score')\n",
    "#df.select_dtypes - function to get all column of a dtype\n",
    "df_1.select_dtypes(include = 'number')\n",
    "#unique e nunique \n",
    "df_1['check_score'].unique()\n",
    "# df_1['type'].nunique()\n",
    "df_1_type_score = df_1.groupby(['type','score_cut'])\n",
    "#show groups\n",
    "df_1_type_score.groups\n",
    "#get groups keys\n",
    "df_1_type_score.groups.keys()\n",
    "#get_group - get group dataframe\n",
    "df_1_type_score.get_group(('MOVIE', 'Maior que 5'))\n"
   ]
  },
  {
   "cell_type": "code",
   "execution_count": null,
   "id": "fundamental-drilling",
   "metadata": {},
   "outputs": [],
   "source": [
    "#datetime\n",
    "df_1['release_year'] = df_1['release_year'].apply(lambda x : datetime.strptime(str(x), '%Y'))\n",
    "\n",
    "#to date time do proprio pandas\n",
    "pd.to_datetime(df_1['release_year'], format='%Y/%m/%d')"
   ]
  },
  {
   "cell_type": "code",
   "execution_count": null,
   "id": "excited-australia",
   "metadata": {},
   "outputs": [],
   "source": [
    "#utilizando dados como index \n",
    "df_1.set_index('release_year').groupby(pd.Grouper(freq='Y')).agg({'id':'count'})"
   ]
  },
  {
   "cell_type": "code",
   "execution_count": null,
   "id": "straight-citizenship",
   "metadata": {},
   "outputs": [],
   "source": [
    "df = pd.DataFrame({\n",
    "'ord_no':[70001,70006,70002,70004,70007,70005,70008,70010,70003,70011,70009,70012],\n",
    "'purch_amt':[150.5,270.65,65.26,110.5,948.5,2400.6,5760,1983.43,2480.4,250.45, 75.29,3045.6],\n",
    "'ord_date': ['2012-10-05','2012-09-10',np.nan,'2012-08-17','2012-09-10','2012-07-27','2012-09-10','2012-10-10','2012-10-10','2012-06-27','2012-08-17','2012-04-25'],\n",
    "'customer_id':[3002,3001,3001,3003,3002,3001,3001,3004,3003,3002,3001,3001],\n",
    "'salesman_id':[5002,5003,5001,np.nan,5002,5001,5001,np.nan,5003,5002,5003,np.nan]})"
   ]
  },
  {
   "cell_type": "code",
   "execution_count": null,
   "id": "vulnerable-gospel",
   "metadata": {},
   "outputs": [],
   "source": [
    "df['nan_test'] = None"
   ]
  },
  {
   "cell_type": "markdown",
   "id": "equipped-progressive",
   "metadata": {},
   "source": [
    "> NONE =! NaN"
   ]
  },
  {
   "cell_type": "code",
   "execution_count": null,
   "id": "medical-mills",
   "metadata": {},
   "outputs": [],
   "source": [
    "#nan values\n",
    "df.isna()\n",
    "# isna.any mostra uma Series com a resposta booleana agregada da coluna (se tiver ao menos um valor nan ele retorna True)\n",
    "df.isna().any()\n",
    "# isna.all mostra uma Series com a resposta booleana agregada da coluna (ele só retorna True se todos os valores forem NaN)\n",
    "df.isna().all()\n",
    "# sum duas veces traz o valor total do dataframe\n",
    "df.isna().sum().sum()\n",
    "# dropna\n",
    "df.dropna(axis=1)\n",
    "#drop duplicates\n",
    "df_replaced.drop_duplicates(subset=['customer_id'],keep='first')"
   ]
  }
 ],
 "metadata": {
  "kernelspec": {
   "display_name": "Python 3",
   "language": "python",
   "name": "python3"
  },
  "language_info": {
   "codemirror_mode": {
    "name": "ipython",
    "version": 3
   },
   "file_extension": ".py",
   "mimetype": "text/x-python",
   "name": "python",
   "nbconvert_exporter": "python",
   "pygments_lexer": "ipython3",
   "version": "3.7.7"
  }
 },
 "nbformat": 4,
 "nbformat_minor": 5
}
