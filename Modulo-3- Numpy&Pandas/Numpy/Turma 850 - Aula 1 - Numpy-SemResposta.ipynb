{
 "cells": [
  {
   "cell_type": "markdown",
   "id": "peaceful-zealand",
   "metadata": {
    "execution": {
     "iopub.execute_input": "2022-06-23T22:42:49.761772Z",
     "iopub.status.busy": "2022-06-23T22:42:49.761413Z",
     "iopub.status.idle": "2022-06-23T22:42:49.792967Z",
     "shell.execute_reply": "2022-06-23T22:42:49.770780Z",
     "shell.execute_reply.started": "2022-06-23T22:42:49.761738Z"
    },
    "tags": []
   },
   "source": [
    "<div>\n",
    "<img src=\"Imgs/logo-numpy.svg\" width=\"250\"/>\n",
    "</div>"
   ]
  },
  {
   "cell_type": "markdown",
   "id": "scheduled-baking",
   "metadata": {},
   "source": [
    "https://numpy.org\n",
    "\n",
    "- Abreviação para Numerical Python\n",
    "- É base para muitos outros pacotes, inclusive pacotes de Machinle Learning \n",
    "- Utilizado para computação de alta performance \n",
    "- Utilizado para analise e transformação de dados\n",
    "- É utilizado frequentemente em conjunto com Pandas (Próximo tema)"
   ]
  },
  {
   "cell_type": "markdown",
   "id": "beneficial-diameter",
   "metadata": {},
   "source": [
    "Curiosidade sobre Numpy\n",
    "https://numpy.org/case-studies/blackhole-image/"
   ]
  },
  {
   "cell_type": "code",
   "execution_count": 4,
   "id": "annual-tennis",
   "metadata": {
    "execution": {
     "iopub.execute_input": "2022-06-23T22:50:11.614546Z",
     "iopub.status.busy": "2022-06-23T22:50:11.611995Z",
     "iopub.status.idle": "2022-06-23T22:50:12.231114Z",
     "shell.execute_reply": "2022-06-23T22:50:12.230169Z",
     "shell.execute_reply.started": "2022-06-23T22:50:11.612344Z"
    }
   },
   "outputs": [],
   "source": [
    "import numpy as np"
   ]
  },
  {
   "cell_type": "markdown",
   "id": "hispanic-spanking",
   "metadata": {},
   "source": [
    "#### Conceitos principais"
   ]
  },
  {
   "cell_type": "code",
   "execution_count": 2,
   "id": "impaired-uruguay",
   "metadata": {
    "execution": {
     "iopub.execute_input": "2022-06-23T23:09:33.672085Z",
     "iopub.status.busy": "2022-06-23T23:09:33.671410Z",
     "iopub.status.idle": "2022-06-23T23:09:33.679814Z",
     "shell.execute_reply": "2022-06-23T23:09:33.678529Z",
     "shell.execute_reply.started": "2022-06-23T23:09:33.672036Z"
    },
    "tags": []
   },
   "outputs": [
    {
     "name": "stdout",
     "output_type": "stream",
     "text": [
      "List: [4, 2, 5, 6, 10]\n",
      "<class 'list'>\n",
      "[4, 2, 5, 6, 10]\n",
      "<class 'int'>\n",
      "<class 'int'>\n",
      "\n",
      "\n",
      "Numpy array: [ 4  2  5  6 10]\n",
      "Type: <class 'numpy.ndarray'>\n",
      "[ 4  2  5  6 10]\n",
      "<class 'numpy.int64'>\n",
      "<class 'numpy.int64'>\n"
     ]
    }
   ],
   "source": [
    "#numpy.ndarray VS Lists\n",
    "list1 = [4,2,5,6,10]\n",
    "array1 = np.array(list1)\n",
    "print(f'List: {list1}')\n",
    "print(type(list1))\n",
    "print(list1)\n",
    "print(type(list1[1]))\n",
    "print(type(list1[4]))\n",
    "print('\\n')\n",
    "print(f'Numpy array: {array1}')\n",
    "print(f'Type: {type(array1)}')\n",
    "print(array1)\n",
    "print(type(array1[0]))\n",
    "print(type(array1[3]))\n"
   ]
  },
  {
   "cell_type": "code",
   "execution_count": 5,
   "id": "chief-swedish",
   "metadata": {
    "execution": {
     "iopub.execute_input": "2022-06-23T23:03:01.448671Z",
     "iopub.status.busy": "2022-06-23T23:03:01.448081Z",
     "iopub.status.idle": "2022-06-23T23:03:01.487510Z",
     "shell.execute_reply": "2022-06-23T23:03:01.463121Z",
     "shell.execute_reply.started": "2022-06-23T23:03:01.448609Z"
    },
    "tags": []
   },
   "outputs": [
    {
     "data": {
      "text/plain": [
       "array([ 6,  4,  7,  8, 12])"
      ]
     },
     "execution_count": 5,
     "metadata": {},
     "output_type": "execute_result"
    }
   ],
   "source": [
    "# Soma de um numero na lista e no nparray\n",
    "array1 + 2"
   ]
  },
  {
   "cell_type": "code",
   "execution_count": 4,
   "id": "charged-patient",
   "metadata": {
    "tags": []
   },
   "outputs": [
    {
     "ename": "TypeError",
     "evalue": "can only concatenate list (not \"int\") to list",
     "output_type": "error",
     "traceback": [
      "\u001b[0;31m---------------------------------------------------------------------------\u001b[0m",
      "\u001b[0;31mTypeError\u001b[0m                                 Traceback (most recent call last)",
      "\u001b[1;32m/Users/gustavoperbone/Developer/Curso-Python&Dados /topcoders-curso-python-dados/Modulo-3- Numpy&Pandas/Numpy/Turma 850 - Aula 1 - Numpy-SemResposta.ipynb Cell 8'\u001b[0m in \u001b[0;36m<cell line: 1>\u001b[0;34m()\u001b[0m\n\u001b[0;32m----> <a href='vscode-notebook-cell:/Users/gustavoperbone/Developer/Curso-Python%26Dados%20/topcoders-curso-python-dados/Modulo-3-%20Numpy%26Pandas/Numpy/Turma%20850%20-%20Aula%201%20-%20Numpy-SemResposta.ipynb#ch0000007?line=0'>1</a>\u001b[0m list1 \u001b[39m+\u001b[39;49m \u001b[39m2\u001b[39;49m\n",
      "\u001b[0;31mTypeError\u001b[0m: can only concatenate list (not \"int\") to list"
     ]
    }
   ],
   "source": [
    "list1 + 2"
   ]
  },
  {
   "cell_type": "markdown",
   "id": "duplicate-mills",
   "metadata": {},
   "source": [
    ">Todos os itens de um array devem ser do mesmo tipo, diferentemente os itens de uma lista. Segue!"
   ]
  },
  {
   "cell_type": "markdown",
   "id": "julian-whole",
   "metadata": {},
   "source": [
    "i - integer\n",
    "b - boolean\n",
    "U - unsigned integer (Inteiros que não tem simbolos de + ou - associados )\n",
    "f - float\n",
    "c - complex float (Numeros Imaginarios)\n",
    "m - timedelta\n",
    "M - datetime\n",
    "O - object\n",
    "S - string\n",
    "U - unicode string"
   ]
  },
  {
   "cell_type": "code",
   "execution_count": 6,
   "id": "alternate-marsh",
   "metadata": {
    "execution": {
     "iopub.execute_input": "2022-06-24T17:26:45.399314Z",
     "iopub.status.busy": "2022-06-24T17:26:45.399001Z",
     "iopub.status.idle": "2022-06-24T17:26:45.408600Z",
     "shell.execute_reply": "2022-06-24T17:26:45.407627Z",
     "shell.execute_reply.started": "2022-06-24T17:26:45.399286Z"
    },
    "tags": []
   },
   "outputs": [],
   "source": [
    "#Testes com diferentes tipos\n",
    "#Str>Float>Int\n",
    "list2 = [[2,3,4,4],[3,40,100,0]]"
   ]
  },
  {
   "cell_type": "code",
   "execution_count": 7,
   "id": "behind-fireplace",
   "metadata": {
    "execution": {
     "iopub.execute_input": "2022-06-24T17:26:29.449994Z",
     "iopub.status.busy": "2022-06-24T17:26:29.449311Z",
     "iopub.status.idle": "2022-06-24T17:26:29.461285Z",
     "shell.execute_reply": "2022-06-24T17:26:29.459485Z",
     "shell.execute_reply.started": "2022-06-24T17:26:29.449954Z"
    },
    "tags": []
   },
   "outputs": [],
   "source": [
    "#dtype param \n",
    "nparray2 = np.array(list2)"
   ]
  },
  {
   "cell_type": "code",
   "execution_count": 9,
   "id": "vertical-orbit",
   "metadata": {
    "execution": {
     "iopub.execute_input": "2022-06-24T17:26:29.981251Z",
     "iopub.status.busy": "2022-06-24T17:26:29.980365Z",
     "iopub.status.idle": "2022-06-24T17:26:29.992976Z",
     "shell.execute_reply": "2022-06-24T17:26:29.991947Z",
     "shell.execute_reply.started": "2022-06-24T17:26:29.980855Z"
    },
    "tags": []
   },
   "outputs": [
    {
     "name": "stdout",
     "output_type": "stream",
     "text": [
      " Array: [[  2   3   4   4]\n",
      " [  3  40 100   0]]\n",
      "\n",
      "\n",
      " Shape: (2, 4)\n",
      " Dtype: int64\n",
      " Dims: 2\n",
      " Size: 8\n",
      " Dtype Especifica: <class 'numpy.int64'>\n"
     ]
    }
   ],
   "source": [
    "#ndim, shape, size, dtype\n",
    "print(f' Array: {nparray2}')\n",
    "print('\\n')\n",
    "print(f' Shape: {nparray2.shape}')\n",
    "print(f' Dtype: {nparray2.dtype}')\n",
    "print(f' Dims: {nparray2.ndim}')\n",
    "print(f' Size: {nparray2.size}')\n",
    "print(f' Dtype Especifica: {type(nparray2[1,2])}')"
   ]
  },
  {
   "cell_type": "code",
   "execution_count": 10,
   "id": "superb-corruption",
   "metadata": {
    "execution": {
     "iopub.execute_input": "2022-06-24T00:24:45.661279Z",
     "iopub.status.busy": "2022-06-24T00:24:45.660827Z",
     "iopub.status.idle": "2022-06-24T00:24:45.676322Z",
     "shell.execute_reply": "2022-06-24T00:24:45.670954Z",
     "shell.execute_reply.started": "2022-06-24T00:24:45.661247Z"
    },
    "tags": []
   },
   "outputs": [
    {
     "data": {
      "text/plain": [
       "array([[  2.,   3.,   4.,   4.],\n",
       "       [  3.,  40., 100.,   0.]])"
      ]
     },
     "execution_count": 10,
     "metadata": {},
     "output_type": "execute_result"
    }
   ],
   "source": [
    "#astype\n",
    "nparray2.astype('float')"
   ]
  },
  {
   "cell_type": "code",
   "execution_count": 11,
   "id": "juvenile-exhibition",
   "metadata": {
    "execution": {
     "iopub.execute_input": "2022-06-24T00:24:46.406054Z",
     "iopub.status.busy": "2022-06-24T00:24:46.405594Z",
     "iopub.status.idle": "2022-06-24T00:24:46.414700Z",
     "shell.execute_reply": "2022-06-24T00:24:46.412270Z",
     "shell.execute_reply.started": "2022-06-24T00:24:46.406023Z"
    },
    "tags": []
   },
   "outputs": [
    {
     "data": {
      "text/plain": [
       "dtype('int64')"
      ]
     },
     "execution_count": 11,
     "metadata": {},
     "output_type": "execute_result"
    }
   ],
   "source": [
    "nparray2.dtype"
   ]
  },
  {
   "cell_type": "code",
   "execution_count": 12,
   "id": "prepared-density",
   "metadata": {
    "execution": {
     "iopub.execute_input": "2022-06-24T17:06:44.573649Z",
     "iopub.status.busy": "2022-06-24T17:06:44.573290Z",
     "iopub.status.idle": "2022-06-24T17:06:44.599287Z",
     "shell.execute_reply": "2022-06-24T17:06:44.593912Z",
     "shell.execute_reply.started": "2022-06-24T17:06:44.573621Z"
    },
    "tags": []
   },
   "outputs": [
    {
     "name": "stdout",
     "output_type": "stream",
     "text": [
      "[0. 0. 0. 0. 0. 0.]\n",
      "\n",
      "[[10. 10.]\n",
      " [10. 10.]]\n",
      "\n",
      "[[4621819117588971520 4621819117588971520]\n",
      " [4621819117588971520 4621819117588971520]]\n",
      "\n",
      "[[99 99]\n",
      " [99 99]]\n",
      "\n",
      "[[4 4]\n",
      " [4 4]]\n",
      "\n",
      "[0.  0.1 0.2 0.3 0.4 0.5 0.6 0.7 0.8 0.9 1.  1.1 1.2 1.3 1.4 1.5 1.6 1.7\n",
      " 1.8 1.9 2.  2.1 2.2 2.3 2.4 2.5 2.6 2.7 2.8 2.9 3.  3.1 3.2 3.3 3.4 3.5\n",
      " 3.6 3.7 3.8 3.9 4.  4.1 4.2 4.3 4.4 4.5 4.6 4.7 4.8 4.9 5.  5.1 5.2 5.3\n",
      " 5.4 5.5 5.6 5.7 5.8 5.9 6.  6.1 6.2 6.3 6.4 6.5 6.6 6.7 6.8 6.9 7.  7.1\n",
      " 7.2 7.3 7.4 7.5 7.6 7.7 7.8 7.9 8.  8.1 8.2 8.3 8.4 8.5 8.6 8.7 8.8 8.9\n",
      " 9.  9.1 9.2 9.3 9.4 9.5 9.6 9.7 9.8 9.9]\n",
      "\n",
      "[1 2 3]\n",
      "[1 2 3]\n"
     ]
    }
   ],
   "source": [
    "#zeros = array feita de zeros\n",
    "npzeros = np.zeros(6)\n",
    "print(npzeros)\n",
    "print()\n",
    "#ones - array feita de qualquer numero\n",
    "npones = np.ones((2,2))*10\n",
    "print(npones)\n",
    "print()\n",
    "#empty - array dada um tamanho e tipo determinado com valores randomicos\n",
    "npempty = np.empty([2,2], dtype='int')\n",
    "print(npempty)\n",
    "print()\n",
    "#full - parecida a ones porem mais \"elegante\"\n",
    "npfull = np.full((2, 2), 99)\n",
    "print(npfull)\n",
    "print()\n",
    "#fulllike - cria um array baseada em uma existente com outro numero dado\n",
    "nplike = np.full_like(npfull, 4)\n",
    "print(nplike)\n",
    "print()\n",
    "# arange - cria um array com elementos separados por um step\n",
    "nparange = np.arange(0, 10, .1)\n",
    "print(nparange)\n",
    "print()\n",
    "#copias do array \n",
    "array = np.array([1, 2, 3])\n",
    "copyarr = array.copy()\n",
    "print(array)\n",
    "print(copyarr)"
   ]
  },
  {
   "cell_type": "markdown",
   "id": "three-wilderness",
   "metadata": {},
   "source": [
    "#### Operações entre ndarrays"
   ]
  },
  {
   "cell_type": "markdown",
   "id": "ordinary-conversation",
   "metadata": {},
   "source": [
    "> Numpy foi feito para manipular e realizar operações vetorizadas em grande escala, com velocidade"
   ]
  },
  {
   "cell_type": "code",
   "execution_count": 153,
   "id": "utility-salvation",
   "metadata": {
    "execution": {
     "iopub.execute_input": "2022-06-24T00:41:50.439403Z",
     "iopub.status.busy": "2022-06-24T00:41:50.438964Z",
     "iopub.status.idle": "2022-06-24T00:41:50.453663Z",
     "shell.execute_reply": "2022-06-24T00:41:50.446466Z",
     "shell.execute_reply.started": "2022-06-24T00:41:50.439376Z"
    }
   },
   "outputs": [],
   "source": [
    "#creating random arrays  = np.random.random_sample retorna array do tamanho pedido com numeros entre 0.0, 1.0"
   ]
  },
  {
   "cell_type": "code",
   "execution_count": 13,
   "id": "wrong-aside",
   "metadata": {
    "execution": {
     "iopub.execute_input": "2022-06-24T01:07:10.180688Z",
     "iopub.status.busy": "2022-06-24T01:07:10.180313Z",
     "iopub.status.idle": "2022-06-24T01:07:10.196245Z",
     "shell.execute_reply": "2022-06-24T01:07:10.195224Z",
     "shell.execute_reply.started": "2022-06-24T01:07:10.180651Z"
    },
    "tags": []
   },
   "outputs": [
    {
     "data": {
      "text/plain": [
       "array([[0.73033564, 0.40552425, 0.42633118],\n",
       "       [0.28168036, 0.44976223, 0.02759368],\n",
       "       [0.7444393 , 0.37057488, 0.27100324]])"
      ]
     },
     "execution_count": 13,
     "metadata": {},
     "output_type": "execute_result"
    }
   ],
   "source": [
    "np.random.random_sample((3, 3))"
   ]
  },
  {
   "cell_type": "code",
   "execution_count": 14,
   "id": "sized-circumstances",
   "metadata": {
    "execution": {
     "iopub.execute_input": "2022-06-24T17:29:59.298587Z",
     "iopub.status.busy": "2022-06-24T17:29:59.297914Z",
     "iopub.status.idle": "2022-06-24T17:29:59.314886Z",
     "shell.execute_reply": "2022-06-24T17:29:59.313652Z",
     "shell.execute_reply.started": "2022-06-24T17:29:59.298524Z"
    },
    "tags": []
   },
   "outputs": [
    {
     "name": "stdout",
     "output_type": "stream",
     "text": [
      "[[2.02824296 4.12079731 3.77604278]\n",
      " [1.00967925 3.29216953 4.05095716]\n",
      " [2.14336166 1.49651896 4.88906365]]\n",
      "\n",
      "\n",
      "[[5.95895632 4.33917931 3.72387861]\n",
      " [3.45324135 3.69240667 4.59309652]\n",
      " [3.69162347 1.2954379  4.2323701 ]]\n",
      "\n",
      "\n",
      "Multi : \n",
      " [[12.08621123 17.88087841 14.06152494]\n",
      " [ 3.48666615 12.15602872 18.60643726]\n",
      " [ 7.91248419  1.93864738 20.69232681]]\n",
      "Sub: \n",
      " [[-3.93071336 -0.21838201  0.05216417]\n",
      " [-2.44356209 -0.40023715 -0.54213936]\n",
      " [-1.54826181  0.20108107  0.65669355]]\n",
      "Soma: \n",
      " [[7.98719929 8.45997662 7.49992139]\n",
      " [4.4629206  6.9845762  8.64405369]\n",
      " [5.83498512 2.79195686 9.12143375]]\n",
      "Divisão: \n",
      " [[0.34036883 0.94967205 1.01400802]\n",
      " [0.29238595 0.89160535 0.88196648]\n",
      " [0.58060137 1.15522247 1.15515977]]\n"
     ]
    }
   ],
   "source": [
    "#multipy, divide, add, subtract\n",
    "#numero especifico tmb\n",
    "array1 = 5*np.random.random_sample((3, 3))\n",
    "array2 = 6*np.random.random_sample((3, 3))\n",
    "print(array1)\n",
    "print('\\n')\n",
    "print(array2)\n",
    "print('\\n')\n",
    "print('Multi : \\n',np.multiply(array1, array2))\n",
    "print('Sub: \\n',np.subtract(array1, array2))\n",
    "print('Soma: \\n',np.add(array1, array2))\n",
    "print('Divisão: \\n',np.divide(array1, array2))"
   ]
  },
  {
   "cell_type": "markdown",
   "id": "least-boost",
   "metadata": {},
   "source": [
    "##### DIY"
   ]
  },
  {
   "cell_type": "markdown",
   "id": "identified-jefferson",
   "metadata": {},
   "source": [
    "Ex 1\n",
    "1) Transforme a duas listas em duas arrays diferentes arr1 e arr2.\n",
    "2) Verifique o dtype dos array\n",
    "3) Transforme os dois array em float\n",
    "4) Compare as duas arrays e mostre os indices dos elementos que são iguais(dica = .where)\n",
    "5) Retorne os numeros do array que são iguais usando o output do paso 4 dica subsetting"
   ]
  },
  {
   "cell_type": "code",
   "execution_count": 17,
   "id": "recorded-banks",
   "metadata": {
    "execution": {
     "iopub.execute_input": "2022-06-24T18:28:06.748636Z",
     "iopub.status.busy": "2022-06-24T18:28:06.746631Z",
     "iopub.status.idle": "2022-06-24T18:28:06.789408Z",
     "shell.execute_reply": "2022-06-24T18:28:06.788427Z",
     "shell.execute_reply.started": "2022-06-24T18:28:06.748556Z"
    },
    "tags": []
   },
   "outputs": [
    {
     "name": "stdout",
     "output_type": "stream",
     "text": [
      "int64\n",
      "float64\n",
      "[1. 2. 3. 4. 5.]\n",
      "[1.  3.  2.2 4.  5. ]\n",
      "(array([0, 3, 4]),)\n",
      "[1 4 5]\n"
     ]
    }
   ],
   "source": [
    "list_1 = [1,2,3,4,5]\n",
    "list_2 = [1,3,2.2,4,5]\n",
    "\n",
    "#1\n",
    "arr1 = np.array(list_1)\n",
    "arr2 = np.array(list_2)\n",
    "#2\n",
    "print(arr1.dtype)\n",
    "print(arr2.dtype)\n",
    "#3\n",
    "print(arr1.astype(float))\n",
    "print(arr2.astype(float))\n",
    "#4\n",
    "print(np.where(arr1 == arr2))\n",
    "#5\n",
    "print(arr1[[0,3,4]])"
   ]
  },
  {
   "cell_type": "markdown",
   "id": "talented-prairie",
   "metadata": {},
   "source": [
    "#### Indexação, Slicing"
   ]
  },
  {
   "cell_type": "code",
   "execution_count": 5,
   "id": "atmospheric-thomson",
   "metadata": {
    "execution": {
     "iopub.execute_input": "2022-06-24T17:14:38.688189Z",
     "iopub.status.busy": "2022-06-24T17:14:38.685621Z",
     "iopub.status.idle": "2022-06-24T17:14:38.705751Z",
     "shell.execute_reply": "2022-06-24T17:14:38.702749Z",
     "shell.execute_reply.started": "2022-06-24T17:14:38.688136Z"
    },
    "tags": []
   },
   "outputs": [
    {
     "data": {
      "text/plain": [
       "array([[ 1,  2,  3,  4,  5,  6,  7],\n",
       "       [ 8,  9, 10, 11, 12, 13, 14]])"
      ]
     },
     "execution_count": 5,
     "metadata": {},
     "output_type": "execute_result"
    }
   ],
   "source": [
    "array = np.array([[1, 2, 3, 4, 5, 6, 7], [8, 9, 10, 11, 12, 13, 14]])\n",
    "array"
   ]
  },
  {
   "cell_type": "code",
   "execution_count": 6,
   "id": "frozen-advance",
   "metadata": {
    "execution": {
     "iopub.execute_input": "2022-06-24T17:17:39.532449Z",
     "iopub.status.busy": "2022-06-24T17:17:39.531992Z",
     "iopub.status.idle": "2022-06-24T17:17:39.542978Z",
     "shell.execute_reply": "2022-06-24T17:17:39.541981Z",
     "shell.execute_reply.started": "2022-06-24T17:17:39.532418Z"
    },
    "tags": []
   },
   "outputs": [
    {
     "name": "stdout",
     "output_type": "stream",
     "text": [
      "13\n",
      "13\n",
      "[1 2 3 4 5 6 7]\n",
      "[ 3 10]\n",
      "[2 4 6]\n"
     ]
    }
   ],
   "source": [
    "#seleção por index [linha, coluna]\n",
    "#numero especifico\n",
    "print(array[1,5])\n",
    "#numero especifico negativo\n",
    "print(array[1, -2])\n",
    "\n",
    "# : é chamado de slicing [startindex:endindex:stepsize]\n",
    "#primera linha\n",
    "print(array[0, :])\n",
    "#todos os elementos da 2 coluna\n",
    "print(array[:, 2])\n",
    "#elemento especificos com step\n",
    "print(array[0,1:6:2])"
   ]
  },
  {
   "cell_type": "markdown",
   "id": "earlier-paint",
   "metadata": {},
   "source": [
    "> conseguimos mudar também elementos especificos de uma array usando index e slicing"
   ]
  },
  {
   "cell_type": "code",
   "execution_count": 7,
   "id": "searching-passion",
   "metadata": {
    "execution": {
     "iopub.execute_input": "2022-06-24T17:20:58.513250Z",
     "iopub.status.busy": "2022-06-24T17:20:58.512697Z",
     "iopub.status.idle": "2022-06-24T17:20:58.522205Z",
     "shell.execute_reply": "2022-06-24T17:20:58.521329Z",
     "shell.execute_reply.started": "2022-06-24T17:20:58.513222Z"
    },
    "tags": []
   },
   "outputs": [
    {
     "name": "stdout",
     "output_type": "stream",
     "text": [
      "[[ 1  2  3  4  5  6  7]\n",
      " [ 8  9 10 11 12 20 14]]\n",
      "[[ 1  2  5  4  5  6  7]\n",
      " [ 8  9  5 11 12 20 14]]\n",
      "[[ 1  2  3  4  5  6  7]\n",
      " [ 8  9 10 11 12 20 14]]\n"
     ]
    }
   ],
   "source": [
    "#trocando um numero especifico\n",
    "array[1,5] = 20\n",
    "print(array)\n",
    "#trocar coluna inteira \n",
    "array[:, 2] = 5\n",
    "print(array)\n",
    "#voltar os valores originais \n",
    "array[:, 2] = [3, 10]\n",
    "print(array)"
   ]
  },
  {
   "cell_type": "markdown",
   "id": "disabled-heath",
   "metadata": {
    "execution": {
     "iopub.execute_input": "2022-06-24T16:58:47.984825Z",
     "iopub.status.busy": "2022-06-24T16:58:47.984085Z",
     "iopub.status.idle": "2022-06-24T16:58:48.042519Z",
     "shell.execute_reply": "2022-06-24T16:58:48.040862Z",
     "shell.execute_reply.started": "2022-06-24T16:58:47.984789Z"
    },
    "tags": []
   },
   "source": [
    "#### DIY"
   ]
  },
  {
   "cell_type": "markdown",
   "id": "lesbian-perry",
   "metadata": {},
   "source": [
    "Ex 2\n",
    "1) Gere uma array com 3 dimensões com shape. (2,2,2)\n",
    "2) Printe o ndim da array e o shape\n",
    "3) Retire um elemento especifico [bloco][linha][coluna]\n",
    "\n"
   ]
  },
  {
   "cell_type": "code",
   "execution_count": 9,
   "id": "5366a49e",
   "metadata": {},
   "outputs": [
    {
     "name": "stdout",
     "output_type": "stream",
     "text": [
      "[[[1 2]\n",
      "  [3 4]]\n",
      "\n",
      " [[6 8]\n",
      "  [0 7]]]\n",
      "3\n",
      "(2, 2, 2)\n",
      "7\n"
     ]
    }
   ],
   "source": [
    "#1 \n",
    "array3d= np.array([[[1, 2], [3,4]],[[6,8],[0,7]]])\n",
    "\n",
    "#2\n",
    "print(array3d)\n",
    "print(array3d.ndim)\n",
    "print(array3d.shape)\n",
    "\n",
    "#3\n",
    "print(array3d[1,1,1])"
   ]
  },
  {
   "cell_type": "markdown",
   "id": "metric-gothic",
   "metadata": {
    "heading_collapsed": "true",
    "tags": []
   },
   "source": [
    "##### Dica"
   ]
  },
  {
   "cell_type": "markdown",
   "id": "substantial-database",
   "metadata": {},
   "source": [
    "O array 3D é um conjunto de arrays de duas dimensões, \"um array de arrays de arrays\", os elementos são acessados para um indice para linha, um para coluna um para o bloco ( Parecido com um cubo). Tem apliações em diversas areas como: Jogos, Data Wharehouses, Analise de dados entre outros. \n",
    "\n",
    "Ordem [bloco][linha][coluna]"
   ]
  },
  {
   "cell_type": "markdown",
   "id": "intermediate-insulin",
   "metadata": {
    "execution": {
     "iopub.execute_input": "2022-06-24T17:37:00.185437Z",
     "iopub.status.busy": "2022-06-24T17:37:00.183727Z",
     "iopub.status.idle": "2022-06-24T17:37:00.200784Z",
     "shell.execute_reply": "2022-06-24T17:37:00.198669Z",
     "shell.execute_reply.started": "2022-06-24T17:37:00.185363Z"
    }
   },
   "source": [
    "<div>\n",
    "<img src=\"Imgs/arrays.png\" width=\"500\"/>\n",
    "</div>\n",
    "<img src=\"Imgs/formato3d.png\" width=\"500\"/>"
   ]
  },
  {
   "cell_type": "code",
   "execution_count": 11,
   "id": "c0698cfd",
   "metadata": {},
   "outputs": [
    {
     "data": {
      "text/plain": [
       "array([[[1., 1.],\n",
       "        [1., 1.],\n",
       "        [1., 1.]],\n",
       "\n",
       "       [[1., 1.],\n",
       "        [1., 1.],\n",
       "        [1., 1.]],\n",
       "\n",
       "       [[1., 1.],\n",
       "        [1., 1.],\n",
       "        [1., 1.]],\n",
       "\n",
       "       [[1., 1.],\n",
       "        [1., 1.],\n",
       "        [1., 1.]]])"
      ]
     },
     "execution_count": 11,
     "metadata": {},
     "output_type": "execute_result"
    }
   ],
   "source": [
    "vetor = np.ones((4,3,2))\n",
    "vetor"
   ]
  },
  {
   "cell_type": "markdown",
   "id": "cardiac-breathing",
   "metadata": {},
   "source": [
    "#### Transposição, Stacking e Redimensionamento"
   ]
  },
  {
   "cell_type": "markdown",
   "id": "documented-flexibility",
   "metadata": {},
   "source": [
    "<img src=\"Imgs/transpose.png\" width=\"500\"/>"
   ]
  },
  {
   "cell_type": "code",
   "execution_count": 12,
   "id": "indoor-oxford",
   "metadata": {
    "execution": {
     "iopub.execute_input": "2022-06-24T17:56:20.744127Z",
     "iopub.status.busy": "2022-06-24T17:56:20.742435Z",
     "iopub.status.idle": "2022-06-24T17:56:20.774813Z",
     "shell.execute_reply": "2022-06-24T17:56:20.772878Z",
     "shell.execute_reply.started": "2022-06-24T17:56:20.744028Z"
    }
   },
   "outputs": [
    {
     "data": {
      "text/plain": [
       "array([[ 1,  2,  3,  4,  5,  6,  7],\n",
       "       [ 8,  9, 10, 11, 12, 13, 14]])"
      ]
     },
     "execution_count": 12,
     "metadata": {},
     "output_type": "execute_result"
    }
   ],
   "source": [
    "array = np.array([[1, 2, 3, 4, 5, 6, 7], [8, 9, 10, 11, 12, 13, 14]])\n",
    "array"
   ]
  },
  {
   "cell_type": "code",
   "execution_count": 13,
   "id": "nuclear-ultimate",
   "metadata": {
    "execution": {
     "iopub.execute_input": "2022-06-24T17:56:31.174831Z",
     "iopub.status.busy": "2022-06-24T17:56:31.173979Z",
     "iopub.status.idle": "2022-06-24T17:56:31.197355Z",
     "shell.execute_reply": "2022-06-24T17:56:31.196099Z",
     "shell.execute_reply.started": "2022-06-24T17:56:31.174801Z"
    },
    "tags": []
   },
   "outputs": [
    {
     "data": {
      "text/plain": [
       "array([[ 1,  8],\n",
       "       [ 2,  9],\n",
       "       [ 3, 10],\n",
       "       [ 4, 11],\n",
       "       [ 5, 12],\n",
       "       [ 6, 13],\n",
       "       [ 7, 14]])"
      ]
     },
     "execution_count": 13,
     "metadata": {},
     "output_type": "execute_result"
    }
   ],
   "source": [
    "array.T"
   ]
  },
  {
   "cell_type": "code",
   "execution_count": 21,
   "id": "short-template",
   "metadata": {},
   "outputs": [
    {
     "data": {
      "text/plain": [
       "array([[ 7, 10],\n",
       "       [15, 22]])"
      ]
     },
     "execution_count": 21,
     "metadata": {},
     "output_type": "execute_result"
    }
   ],
   "source": [
    "array = np.array([[1,2],[3,4]])\n",
    "np.matmul(array, array)"
   ]
  },
  {
   "cell_type": "markdown",
   "id": "single-lewis",
   "metadata": {},
   "source": [
    "#### Estatistica"
   ]
  },
  {
   "cell_type": "code",
   "execution_count": 22,
   "id": "unavailable-ottawa",
   "metadata": {
    "execution": {
     "iopub.execute_input": "2022-06-24T18:04:00.983061Z",
     "iopub.status.busy": "2022-06-24T18:04:00.982324Z",
     "iopub.status.idle": "2022-06-24T18:04:01.044154Z",
     "shell.execute_reply": "2022-06-24T18:04:01.041562Z",
     "shell.execute_reply.started": "2022-06-24T18:04:00.983000Z"
    },
    "tags": []
   },
   "outputs": [
    {
     "data": {
      "text/plain": [
       "array([[1, 8, 3],\n",
       "       [4, 5, 6]])"
      ]
     },
     "execution_count": 22,
     "metadata": {},
     "output_type": "execute_result"
    }
   ],
   "source": [
    "stats = np.array([[1, 8, 3], [4, 5, 6]])\n",
    "stats"
   ]
  },
  {
   "cell_type": "code",
   "execution_count": 17,
   "id": "imported-shakespeare",
   "metadata": {
    "execution": {
     "iopub.execute_input": "2022-06-24T17:58:57.630164Z",
     "iopub.status.busy": "2022-06-24T17:58:57.629474Z",
     "iopub.status.idle": "2022-06-24T17:58:57.641829Z",
     "shell.execute_reply": "2022-06-24T17:58:57.640724Z",
     "shell.execute_reply.started": "2022-06-24T17:58:57.630075Z"
    },
    "tags": []
   },
   "outputs": [
    {
     "data": {
      "text/plain": [
       "1"
      ]
     },
     "execution_count": 17,
     "metadata": {},
     "output_type": "execute_result"
    }
   ],
   "source": [
    "#minimo do nosso array\n",
    "np.min(stats)"
   ]
  },
  {
   "cell_type": "code",
   "execution_count": 18,
   "id": "chubby-principal",
   "metadata": {
    "execution": {
     "iopub.execute_input": "2022-06-24T17:59:16.902308Z",
     "iopub.status.busy": "2022-06-24T17:59:16.901781Z",
     "iopub.status.idle": "2022-06-24T17:59:16.934590Z",
     "shell.execute_reply": "2022-06-24T17:59:16.932262Z",
     "shell.execute_reply.started": "2022-06-24T17:59:16.902280Z"
    },
    "tags": []
   },
   "outputs": [
    {
     "data": {
      "text/plain": [
       "8"
      ]
     },
     "execution_count": 18,
     "metadata": {},
     "output_type": "execute_result"
    }
   ],
   "source": [
    "#maximo do nosso array\n",
    "np.max(stats)"
   ]
  },
  {
   "cell_type": "code",
   "execution_count": 25,
   "id": "caring-jacksonville",
   "metadata": {
    "execution": {
     "iopub.execute_input": "2022-06-24T18:04:02.293816Z",
     "iopub.status.busy": "2022-06-24T18:04:02.293420Z",
     "iopub.status.idle": "2022-06-24T18:04:02.299665Z",
     "shell.execute_reply": "2022-06-24T18:04:02.298692Z",
     "shell.execute_reply.started": "2022-06-24T18:04:02.293782Z"
    },
    "tags": []
   },
   "outputs": [
    {
     "data": {
      "text/plain": [
       "array([1, 4])"
      ]
     },
     "execution_count": 25,
     "metadata": {},
     "output_type": "execute_result"
    }
   ],
   "source": [
    "#minima por linha\n",
    "np.min(stats, axis=1) "
   ]
  },
  {
   "cell_type": "code",
   "execution_count": 26,
   "id": "frequent-degree",
   "metadata": {
    "execution": {
     "iopub.execute_input": "2022-06-24T18:04:11.122557Z",
     "iopub.status.busy": "2022-06-24T18:04:11.122274Z",
     "iopub.status.idle": "2022-06-24T18:04:11.134704Z",
     "shell.execute_reply": "2022-06-24T18:04:11.132025Z",
     "shell.execute_reply.started": "2022-06-24T18:04:11.122531Z"
    },
    "tags": []
   },
   "outputs": [
    {
     "data": {
      "text/plain": [
       "array([4, 8, 6])"
      ]
     },
     "execution_count": 26,
     "metadata": {},
     "output_type": "execute_result"
    }
   ],
   "source": [
    "#minima por coluna\n",
    "np.max(stats, axis=0)"
   ]
  },
  {
   "cell_type": "code",
   "execution_count": 24,
   "id": "persistent-hydrogen",
   "metadata": {
    "execution": {
     "iopub.execute_input": "2022-06-24T18:05:48.733741Z",
     "iopub.status.busy": "2022-06-24T18:05:48.731574Z",
     "iopub.status.idle": "2022-06-24T18:05:48.740152Z",
     "shell.execute_reply": "2022-06-24T18:05:48.739081Z",
     "shell.execute_reply.started": "2022-06-24T18:05:48.733706Z"
    },
    "tags": []
   },
   "outputs": [
    {
     "data": {
      "text/plain": [
       "8"
      ]
     },
     "execution_count": 24,
     "metadata": {},
     "output_type": "execute_result"
    }
   ],
   "source": [
    "#maximo de uma coluna especifica\n",
    "np.max(stats[:, 1],axis=0)"
   ]
  },
  {
   "cell_type": "markdown",
   "id": "international-bristol",
   "metadata": {},
   "source": [
    "#### DIY - Grupos"
   ]
  },
  {
   "cell_type": "markdown",
   "id": "solid-framework",
   "metadata": {},
   "source": [
    "https://archive.ics.uci.edu/ml/datasets/Wine+Quality"
   ]
  },
  {
   "cell_type": "code",
   "execution_count": 27,
   "id": "ancient-opening",
   "metadata": {
    "execution": {
     "iopub.execute_input": "2022-06-24T18:12:52.580575Z",
     "iopub.status.busy": "2022-06-24T18:12:52.579985Z",
     "iopub.status.idle": "2022-06-24T18:12:52.604019Z",
     "shell.execute_reply": "2022-06-24T18:12:52.587740Z",
     "shell.execute_reply.started": "2022-06-24T18:12:52.580539Z"
    },
    "tags": []
   },
   "outputs": [],
   "source": [
    "url = 'https://archive.ics.uci.edu/ml/machine-learning-databases/wine-quality/winequality-red.csv'"
   ]
  },
  {
   "cell_type": "markdown",
   "id": "informed-intention",
   "metadata": {},
   "source": [
    "DICA = Procure por nan e substitua por 0 (dica: is_nan e nan_to_num)m"
   ]
  },
  {
   "cell_type": "markdown",
   "id": "dental-comparison",
   "metadata": {},
   "source": [
    "https://numpy.org/devdocs/user/basics.io.genfromtxt.html\n",
    "1) Verifique a url e veja quais são as colunas do arquivo\n",
    "2) Veja qual é o delimiter do arquivo ',' , ':', ';'\n",
    "3) Selecione as colunas (param usecols) Citric Acid, PH e  Alcohol\n",
    "4) Mostre o array e as caracteristicas dele ndim, shape, dype\n",
    "5) Procure o maximo e minimo da coluna PH \n",
    "6) Obtenha a media da coluna Alcohol"
   ]
  },
  {
   "cell_type": "code",
   "execution_count": 49,
   "id": "broken-jumping",
   "metadata": {
    "execution": {
     "iopub.execute_input": "2022-06-24T18:13:16.984902Z",
     "iopub.status.busy": "2022-06-24T18:13:16.984476Z",
     "iopub.status.idle": "2022-06-24T18:13:17.001457Z",
     "shell.execute_reply": "2022-06-24T18:13:17.000241Z",
     "shell.execute_reply.started": "2022-06-24T18:13:16.984848Z"
    },
    "tags": []
   },
   "outputs": [],
   "source": [
    "#Import data\n",
    "wine_arr = np.genfromtxt(url, delimiter=';', usecols=[2,8,10], skip_header = True)"
   ]
  },
  {
   "cell_type": "code",
   "execution_count": 57,
   "id": "connected-conspiracy",
   "metadata": {
    "tags": []
   },
   "outputs": [
    {
     "name": "stdout",
     "output_type": "stream",
     "text": [
      "[[ 0.    3.51  9.4 ]\n",
      " [ 0.    3.2   9.8 ]\n",
      " [ 0.04  3.26  9.8 ]\n",
      " ...\n",
      " [ 0.13  3.42 11.  ]\n",
      " [ 0.12  3.57 10.2 ]\n",
      " [ 0.47  3.39 11.  ]]\n",
      "2\n",
      "(1599, 3)\n",
      "float64\n",
      "[[False False False]\n",
      " [False False False]\n",
      " [False False False]\n",
      " ...\n",
      " [False False False]\n",
      " [False False False]\n",
      " [False False False]]\n",
      "[[ 0.    3.51  9.4 ]\n",
      " [ 0.    3.2   9.8 ]\n",
      " [ 0.04  3.26  9.8 ]\n",
      " ...\n",
      " [ 0.13  3.42 11.  ]\n",
      " [ 0.12  3.57 10.2 ]\n",
      " [ 0.47  3.39 11.  ]]\n"
     ]
    }
   ],
   "source": [
    "#Show array\n",
    "print(wine_arr)\n",
    "\n",
    "print(wine_arr.ndim)\n",
    "\n",
    "print(wine_arr.shape)\n",
    "\n",
    "print(wine_arr.dtype)\n",
    "print(np.isnan(wine_arr))\n",
    "print(np.nan_to_num(wine_arr))\n"
   ]
  },
  {
   "cell_type": "code",
   "execution_count": 51,
   "id": "filled-liechtenstein",
   "metadata": {
    "tags": []
   },
   "outputs": [
    {
     "name": "stdout",
     "output_type": "stream",
     "text": [
      "MIN: 2.74\n",
      "MAX: 4.01\n"
     ]
    }
   ],
   "source": [
    "#Max e Min de pH (coluna 1)\n",
    "ph_min = np.min(wine_arr[:,1])\n",
    "print(f\"MIN: {ph_min}\")\n",
    "ph_max = np.max(wine_arr[:,1])\n",
    "print(f\"MAX: {ph_max}\")"
   ]
  },
  {
   "cell_type": "code",
   "execution_count": 52,
   "id": "otherwise-liver",
   "metadata": {
    "tags": []
   },
   "outputs": [
    {
     "name": "stdout",
     "output_type": "stream",
     "text": [
      "MÉDIA ALCOOL: 10.422983114446529\n"
     ]
    }
   ],
   "source": [
    "#média alcool (coluna 2)\n",
    "alcool_med = np.average(wine_arr[:,2])\n",
    "print(f\"MÉDIA ALCOOL: {alcool_med}\")"
   ]
  },
  {
   "cell_type": "code",
   "execution_count": 53,
   "id": "83f27534",
   "metadata": {},
   "outputs": [
    {
     "name": "stdout",
     "output_type": "stream",
     "text": [
      "2.74\n",
      "4.01\n",
      "3.3111131957473416\n",
      "0.15433818141060165\n",
      "8.4\n",
      "14.9\n",
      "10.422983114446529\n",
      "1.0653343003437483\n",
      "0.0\n",
      "1.0\n",
      "0.2709756097560976\n",
      "0.19474021445233364\n"
     ]
    }
   ],
   "source": [
    "# Max Min Avg PH\n",
    "print(np.min(wine_arr[:,1]))\n",
    "print(np.max(wine_arr[:,1]))\n",
    "print(np.average(wine_arr[:,1]))\n",
    "print(np.std(wine_arr[:,1]))\n",
    "\n",
    "# Max Min Avg Alcool\n",
    "print(np.min(wine_arr[:,2]))\n",
    "print(np.max(wine_arr[:,2]))\n",
    "print(np.average(wine_arr[:,2]))\n",
    "print(np.std(wine_arr[:,2]))\n",
    "\n",
    "# Max Min Avg Acido Citrico\n",
    "print(np.min(wine_arr[:,0]))\n",
    "print(np.max(wine_arr[:,0]))\n",
    "print(np.average(wine_arr[:,0]))\n",
    "print(np.std(wine_arr[:,0]))"
   ]
  },
  {
   "cell_type": "markdown",
   "id": "colonial-irish",
   "metadata": {},
   "source": [
    "#### Extra"
   ]
  },
  {
   "cell_type": "markdown",
   "id": "russian-entertainment",
   "metadata": {},
   "source": [
    "1) Faça um for loop que itere por todos os elementos de uma array de 3 dimensões"
   ]
  },
  {
   "cell_type": "code",
   "execution_count": 313,
   "id": "framed-processing",
   "metadata": {
    "execution": {
     "iopub.execute_input": "2022-06-24T17:50:43.129777Z",
     "iopub.status.busy": "2022-06-24T17:50:43.129346Z",
     "iopub.status.idle": "2022-06-24T17:50:43.150465Z",
     "shell.execute_reply": "2022-06-24T17:50:43.147653Z",
     "shell.execute_reply.started": "2022-06-24T17:50:43.129751Z"
    },
    "tags": []
   },
   "outputs": [
    {
     "name": "stdout",
     "output_type": "stream",
     "text": [
      "Bloco 0 ,Linha 0 ,Coluna 0 - Elemento: 1\n",
      "Bloco 0 ,Linha 1 ,Coluna 0 - Elemento: 3\n",
      "Bloco 0 ,Linha 0 ,Coluna 1 - Elemento: 2\n",
      "Bloco 0 ,Linha 1 ,Coluna 1 - Elemento: 4\n",
      "Bloco 1 ,Linha 0 ,Coluna 0 - Elemento: 6\n",
      "Bloco 1 ,Linha 1 ,Coluna 0 - Elemento: 0\n",
      "Bloco 1 ,Linha 0 ,Coluna 1 - Elemento: 8\n",
      "Bloco 1 ,Linha 1 ,Coluna 1 - Elemento: 7\n"
     ]
    }
   ],
   "source": [
    "array3d= np.array([[[1, 2], [3,4]],[[6,8],[0,7]]])\n",
    "for b in range (2):\n",
    "    for c in range (2):\n",
    "        for l in range (2):\n",
    "            print(f'Bloco {b} ,Linha {l} ,Coluna {c} - Elemento: {array3d[b][l][c]}')"
   ]
  }
 ],
 "metadata": {
  "kernelspec": {
   "display_name": "Python 3.9.12 ('base')",
   "language": "python",
   "name": "python3"
  },
  "language_info": {
   "codemirror_mode": {
    "name": "ipython",
    "version": 3
   },
   "file_extension": ".py",
   "mimetype": "text/x-python",
   "name": "python",
   "nbconvert_exporter": "python",
   "pygments_lexer": "ipython3",
   "version": "3.9.12"
  },
  "vscode": {
   "interpreter": {
    "hash": "cea1ecbc9060237308d6f43d2a8f2f7ecb9842b1b44e6cce898a5c7b51f4cadd"
   }
  }
 },
 "nbformat": 4,
 "nbformat_minor": 5
}
