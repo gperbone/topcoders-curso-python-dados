{
 "cells": [
  {
   "cell_type": "markdown",
   "id": "buried-listening",
   "metadata": {
    "execution": {
     "iopub.execute_input": "2022-06-26T20:22:03.395135Z",
     "iopub.status.busy": "2022-06-26T20:22:03.394494Z",
     "iopub.status.idle": "2022-06-26T20:22:03.426688Z",
     "shell.execute_reply": "2022-06-26T20:22:03.417247Z",
     "shell.execute_reply.started": "2022-06-26T20:22:03.395026Z"
    }
   },
   "source": [
    "<div>\n",
    "<img src=\"Imgs/logo-numpy.svg\" width=\"250\"/>\n",
    "</div>"
   ]
  },
  {
   "cell_type": "markdown",
   "id": "brief-attitude",
   "metadata": {},
   "source": [
    "https://numpy.org\n",
    "\n",
    "- Abreviação para Numerical Python\n",
    "- É base para muitos outros pacotes, inclusive pacotes de Machinle Learning \n",
    "- Utilizado para computação de alta performance \n",
    "- Utilizado para analise e transformação de dados\n",
    "- É utilizado frequentemente em conjunto com Pandas (Próximo tema)"
   ]
  },
  {
   "cell_type": "code",
   "execution_count": 3,
   "id": "geological-sewing",
   "metadata": {
    "execution": {
     "iopub.execute_input": "2022-06-27T20:10:25.909263Z",
     "iopub.status.busy": "2022-06-27T20:10:25.908936Z",
     "iopub.status.idle": "2022-06-27T20:10:25.914571Z",
     "shell.execute_reply": "2022-06-27T20:10:25.912873Z",
     "shell.execute_reply.started": "2022-06-27T20:10:25.909233Z"
    },
    "tags": []
   },
   "outputs": [],
   "source": [
    "import numpy as np\n",
    "import random "
   ]
  },
  {
   "cell_type": "markdown",
   "id": "written-territory",
   "metadata": {
    "execution": {
     "iopub.execute_input": "2022-06-26T20:25:39.598428Z",
     "iopub.status.busy": "2022-06-26T20:25:39.598051Z",
     "iopub.status.idle": "2022-06-26T20:25:39.603810Z",
     "shell.execute_reply": "2022-06-26T20:25:39.600990Z",
     "shell.execute_reply.started": "2022-06-26T20:25:39.598393Z"
    }
   },
   "source": [
    "#### Boolean e Seleções Avançadas"
   ]
  },
  {
   "cell_type": "markdown",
   "id": "pregnant-class",
   "metadata": {},
   "source": [
    "Conceito super importante no numpy e no pandas é o de máscara booleana.\n",
    "<br>\n",
    "Ao aplicar qualquer operador booleanoo numpy retorna um array de True e False no qual ele aplicou elemento a elemento aquele operador.\n",
    "\n",
    "- '>'\n",
    "- '<'\n",
    "- '<='\n",
    "- '>='\n",
    "- '=='\n",
    "- 'in'\n",
    "\n",
    "\n"
   ]
  },
  {
   "cell_type": "code",
   "execution_count": 44,
   "id": "young-acrobat",
   "metadata": {
    "execution": {
     "iopub.execute_input": "2022-06-27T19:48:24.048380Z",
     "iopub.status.busy": "2022-06-27T19:48:24.048000Z",
     "iopub.status.idle": "2022-06-27T19:48:24.067813Z",
     "shell.execute_reply": "2022-06-27T19:48:24.063565Z",
     "shell.execute_reply.started": "2022-06-27T19:48:24.048351Z"
    },
    "tags": []
   },
   "outputs": [
    {
     "name": "stdout",
     "output_type": "stream",
     "text": [
      "[[ 1 10 20 30]\n",
      " [ 1  2 50 13]]\n"
     ]
    }
   ],
   "source": [
    "#Array 2d\n",
    "arr1 = np.array([[1, 10, 20, 30],[1,2,50,13]])\n",
    "print(arr1)"
   ]
  },
  {
   "cell_type": "code",
   "execution_count": 45,
   "id": "korean-washington",
   "metadata": {
    "execution": {
     "iopub.execute_input": "2022-06-26T23:36:56.987060Z",
     "iopub.status.busy": "2022-06-26T23:36:56.986766Z",
     "iopub.status.idle": "2022-06-26T23:36:56.994168Z",
     "shell.execute_reply": "2022-06-26T23:36:56.993203Z",
     "shell.execute_reply.started": "2022-06-26T23:36:56.987034Z"
    },
    "tags": []
   },
   "outputs": [
    {
     "data": {
      "text/plain": [
       "array([[False, False,  True,  True],\n",
       "       [False, False,  True,  True]])"
      ]
     },
     "execution_count": 45,
     "metadata": {},
     "output_type": "execute_result"
    }
   ],
   "source": [
    "#boolean simples, retorna a mesma array com True e False\n",
    "arr1 >10"
   ]
  },
  {
   "cell_type": "code",
   "execution_count": 46,
   "id": "greek-concord",
   "metadata": {
    "execution": {
     "iopub.execute_input": "2022-06-26T23:36:58.967294Z",
     "iopub.status.busy": "2022-06-26T23:36:58.966994Z",
     "iopub.status.idle": "2022-06-26T23:36:58.974126Z",
     "shell.execute_reply": "2022-06-26T23:36:58.972699Z",
     "shell.execute_reply.started": "2022-06-26T23:36:58.967267Z"
    },
    "tags": []
   },
   "outputs": [
    {
     "data": {
      "text/plain": [
       "array([20, 30, 50, 13])"
      ]
     },
     "execution_count": 46,
     "metadata": {},
     "output_type": "execute_result"
    }
   ],
   "source": [
    "#Quando colocamos cochetes ele retorna os valores nos quais o nosso boolean é verdadeiro \n",
    "arr1[arr1 > 10]"
   ]
  },
  {
   "cell_type": "code",
   "execution_count": 47,
   "id": "classical-digit",
   "metadata": {},
   "outputs": [
    {
     "data": {
      "text/plain": [
       "array([ True,  True,  True,  True])"
      ]
     },
     "execution_count": 47,
     "metadata": {},
     "output_type": "execute_result"
    }
   ],
   "source": [
    "#comparando arrays 1D\n",
    "a = np.array([1,2,3,4]) \n",
    "b = np.array([3,8,5,6])\n",
    "\n",
    "#funções\n",
    "np.greater(a, b)\n",
    "np.less(a, b)\n",
    "np.equal(a, b)\n",
    "np.not_equal(a, b)"
   ]
  },
  {
   "cell_type": "code",
   "execution_count": 48,
   "id": "facial-envelope",
   "metadata": {
    "execution": {
     "iopub.execute_input": "2022-06-26T23:29:27.886617Z",
     "iopub.status.busy": "2022-06-26T23:29:27.886294Z",
     "iopub.status.idle": "2022-06-26T23:29:27.893341Z",
     "shell.execute_reply": "2022-06-26T23:29:27.892329Z",
     "shell.execute_reply.started": "2022-06-26T23:29:27.886587Z"
    },
    "tags": []
   },
   "outputs": [
    {
     "data": {
      "text/plain": [
       "array([ True,  True])"
      ]
     },
     "execution_count": 48,
     "metadata": {},
     "output_type": "execute_result"
    }
   ],
   "source": [
    "# .any & .all\n",
    "#coluna\n",
    "np.any(arr1 > 10, axis=0)\n",
    "#linea\n",
    "np.any(arr1 > 10, axis=1)"
   ]
  },
  {
   "cell_type": "code",
   "execution_count": 49,
   "id": "authorized-accident",
   "metadata": {
    "execution": {
     "iopub.execute_input": "2022-06-27T19:48:26.115633Z",
     "iopub.status.busy": "2022-06-27T19:48:26.115317Z",
     "iopub.status.idle": "2022-06-27T19:48:26.133407Z",
     "shell.execute_reply": "2022-06-27T19:48:26.132140Z",
     "shell.execute_reply.started": "2022-06-27T19:48:26.115603Z"
    },
    "tags": []
   },
   "outputs": [
    {
     "data": {
      "text/plain": [
       "array([[False, False,  True, False],\n",
       "       [False, False, False,  True]])"
      ]
     },
     "execution_count": 49,
     "metadata": {},
     "output_type": "execute_result"
    }
   ],
   "source": [
    "#filtro boolean and &\n",
    "filtand = (arr1 > 10) & (arr1 <= 20)\n",
    "filtand"
   ]
  },
  {
   "cell_type": "code",
   "execution_count": 51,
   "id": "united-custody",
   "metadata": {},
   "outputs": [],
   "source": [
    "#filtro boolean 2\n",
    "filtand2 = (arr1 > 15) & (arr1 % 2 == 0)"
   ]
  },
  {
   "cell_type": "code",
   "execution_count": 52,
   "id": "residential-commander",
   "metadata": {
    "execution": {
     "iopub.execute_input": "2022-06-27T19:48:28.067464Z",
     "iopub.status.busy": "2022-06-27T19:48:28.066926Z",
     "iopub.status.idle": "2022-06-27T19:48:28.083716Z",
     "shell.execute_reply": "2022-06-27T19:48:28.082638Z",
     "shell.execute_reply.started": "2022-06-27T19:48:28.067422Z"
    },
    "tags": []
   },
   "outputs": [
    {
     "data": {
      "text/plain": [
       "array([20, 13])"
      ]
     },
     "execution_count": 52,
     "metadata": {},
     "output_type": "execute_result"
    }
   ],
   "source": [
    "#podemos gerar um filtro com o resultado da nossa pergunta booleana \n",
    "arr1[filtand]"
   ]
  },
  {
   "cell_type": "code",
   "execution_count": 53,
   "id": "green-proposition",
   "metadata": {
    "execution": {
     "iopub.execute_input": "2022-06-27T19:48:30.966059Z",
     "iopub.status.busy": "2022-06-27T19:48:30.965779Z",
     "iopub.status.idle": "2022-06-27T19:48:30.973631Z",
     "shell.execute_reply": "2022-06-27T19:48:30.972393Z",
     "shell.execute_reply.started": "2022-06-27T19:48:30.966033Z"
    },
    "tags": []
   },
   "outputs": [
    {
     "data": {
      "text/plain": [
       "array([[ True,  True,  True,  True],\n",
       "       [ True,  True,  True,  True]])"
      ]
     },
     "execution_count": 53,
     "metadata": {},
     "output_type": "execute_result"
    }
   ],
   "source": [
    "# filtro boolean or |\n",
    "filtor = (arr1 > 10) | (arr1 <= 20)\n",
    "filtor"
   ]
  },
  {
   "cell_type": "code",
   "execution_count": 54,
   "id": "enormous-terminology",
   "metadata": {
    "execution": {
     "iopub.execute_input": "2022-06-27T19:48:45.943218Z",
     "iopub.status.busy": "2022-06-27T19:48:45.942681Z",
     "iopub.status.idle": "2022-06-27T19:48:45.952744Z",
     "shell.execute_reply": "2022-06-27T19:48:45.951696Z",
     "shell.execute_reply.started": "2022-06-27T19:48:45.943186Z"
    }
   },
   "outputs": [
    {
     "data": {
      "text/plain": [
       "array([ 1, 10, 20, 30,  1,  2, 50, 13])"
      ]
     },
     "execution_count": 54,
     "metadata": {},
     "output_type": "execute_result"
    }
   ],
   "source": [
    "#Pegar valores do filtro \n",
    "arr1[filtor]"
   ]
  },
  {
   "cell_type": "code",
   "execution_count": 55,
   "id": "palestinian-gates",
   "metadata": {
    "execution": {
     "iopub.execute_input": "2022-06-26T23:37:31.933199Z",
     "iopub.status.busy": "2022-06-26T23:37:31.932900Z",
     "iopub.status.idle": "2022-06-26T23:37:31.939844Z",
     "shell.execute_reply": "2022-06-26T23:37:31.938840Z",
     "shell.execute_reply.started": "2022-06-26T23:37:31.933173Z"
    },
    "tags": []
   },
   "outputs": [],
   "source": [
    "#Filtro not \n",
    "filt = ~(arr1 == 1) "
   ]
  },
  {
   "cell_type": "code",
   "execution_count": 56,
   "id": "sensitive-journey",
   "metadata": {
    "execution": {
     "iopub.execute_input": "2022-06-26T23:37:35.689797Z",
     "iopub.status.busy": "2022-06-26T23:37:35.689416Z",
     "iopub.status.idle": "2022-06-26T23:37:35.710681Z",
     "shell.execute_reply": "2022-06-26T23:37:35.705191Z",
     "shell.execute_reply.started": "2022-06-26T23:37:35.689758Z"
    }
   },
   "outputs": [
    {
     "data": {
      "text/plain": [
       "array([[False,  True,  True,  True],\n",
       "       [False,  True,  True,  True]])"
      ]
     },
     "execution_count": 56,
     "metadata": {},
     "output_type": "execute_result"
    }
   ],
   "source": [
    "filt"
   ]
  },
  {
   "cell_type": "code",
   "execution_count": 57,
   "id": "commercial-auditor",
   "metadata": {
    "execution": {
     "iopub.execute_input": "2022-06-27T19:51:30.133093Z",
     "iopub.status.busy": "2022-06-27T19:51:30.132640Z",
     "iopub.status.idle": "2022-06-27T19:51:30.139478Z",
     "shell.execute_reply": "2022-06-27T19:51:30.137936Z",
     "shell.execute_reply.started": "2022-06-27T19:51:30.133059Z"
    },
    "tags": []
   },
   "outputs": [],
   "source": [
    "filtro2 = (arr1 > 15) & (arr1 % 2 == 0)\n",
    " \n",
    "# array nova sobre as condições do filtro\n",
    "new_arr = arr1[filtro2]"
   ]
  },
  {
   "cell_type": "code",
   "execution_count": 58,
   "id": "meaningful-witch",
   "metadata": {
    "execution": {
     "iopub.execute_input": "2022-06-27T19:51:34.272771Z",
     "iopub.status.busy": "2022-06-27T19:51:34.272473Z",
     "iopub.status.idle": "2022-06-27T19:51:34.277620Z",
     "shell.execute_reply": "2022-06-27T19:51:34.276643Z",
     "shell.execute_reply.started": "2022-06-27T19:51:34.272745Z"
    }
   },
   "outputs": [
    {
     "data": {
      "text/plain": [
       "array([20, 30, 50])"
      ]
     },
     "execution_count": 58,
     "metadata": {},
     "output_type": "execute_result"
    }
   ],
   "source": [
    "new_arr"
   ]
  },
  {
   "cell_type": "code",
   "execution_count": 59,
   "id": "attractive-poverty",
   "metadata": {
    "execution": {
     "iopub.execute_input": "2022-06-27T10:35:33.182594Z",
     "iopub.status.busy": "2022-06-27T10:35:33.182306Z",
     "iopub.status.idle": "2022-06-27T10:35:33.192327Z",
     "shell.execute_reply": "2022-06-27T10:35:33.191322Z",
     "shell.execute_reply.started": "2022-06-27T10:35:33.182568Z"
    },
    "tags": []
   },
   "outputs": [
    {
     "name": "stdout",
     "output_type": "stream",
     "text": [
      "[11 12 13 14 15 16 17 18 19 20 21 22 23 24 25 26 27 28 29 30 31 32 33 34\n",
      " 35 36 37 38 39]\n"
     ]
    }
   ],
   "source": [
    "arr = np.array([x for x in range(11, 40)])\n",
    " \n",
    "print(arr)\n",
    " \n",
    "# lambda + condition\n",
    "# A função filter extrai elementos de um iteravel e retorna True ou False\n",
    "new_arr = list(filter(lambda x: x > 15 and x % 2 == 0 and x % 10 != 0, arr))\n",
    " \n",
    "# Converting new list into numpy array\n",
    "new_arr = np.array(new_arr)"
   ]
  },
  {
   "cell_type": "markdown",
   "id": "needed-stanley",
   "metadata": {},
   "source": [
    "#### Vstack e Reorganizando Arrays"
   ]
  },
  {
   "cell_type": "code",
   "execution_count": 60,
   "id": "offshore-rugby",
   "metadata": {
    "execution": {
     "iopub.execute_input": "2022-06-27T19:53:41.549561Z",
     "iopub.status.busy": "2022-06-27T19:53:41.549297Z",
     "iopub.status.idle": "2022-06-27T19:53:41.555378Z",
     "shell.execute_reply": "2022-06-27T19:53:41.554393Z",
     "shell.execute_reply.started": "2022-06-27T19:53:41.549538Z"
    },
    "tags": []
   },
   "outputs": [
    {
     "data": {
      "text/plain": [
       "array([[12, 12],\n",
       "       [23, 34]])"
      ]
     },
     "execution_count": 60,
     "metadata": {},
     "output_type": "execute_result"
    }
   ],
   "source": [
    "#reshape em uma array 1D\n",
    "np.array([12, 12, 23, 34]).reshape(2, 2)"
   ]
  },
  {
   "cell_type": "code",
   "execution_count": 61,
   "id": "revised-basis",
   "metadata": {
    "execution": {
     "iopub.execute_input": "2022-06-27T10:30:21.296228Z",
     "iopub.status.busy": "2022-06-27T10:30:21.288107Z",
     "iopub.status.idle": "2022-06-27T10:30:21.416967Z",
     "shell.execute_reply": "2022-06-27T10:30:21.415433Z",
     "shell.execute_reply.started": "2022-06-27T10:30:21.296189Z"
    },
    "tags": []
   },
   "outputs": [
    {
     "name": "stdout",
     "output_type": "stream",
     "text": [
      "[-13 -13 -24 -35  -3]\n"
     ]
    }
   ],
   "source": [
    "#invert no array\n",
    "a = np.array((12, 12, 23, 34, 2))\n",
    "b = np.invert(a)\n",
    "print(b)"
   ]
  },
  {
   "cell_type": "code",
   "execution_count": 103,
   "id": "biological-spotlight",
   "metadata": {
    "execution": {
     "iopub.execute_input": "2022-06-27T20:06:36.492720Z",
     "iopub.status.busy": "2022-06-27T20:06:36.492421Z",
     "iopub.status.idle": "2022-06-27T20:06:36.499152Z",
     "shell.execute_reply": "2022-06-27T20:06:36.497756Z",
     "shell.execute_reply.started": "2022-06-27T20:06:36.492693Z"
    },
    "tags": []
   },
   "outputs": [
    {
     "name": "stdout",
     "output_type": "stream",
     "text": [
      "[1 2 3 4]\n",
      "[5 6 7 8]\n",
      "[[1 2 3 4]\n",
      " [5 6 7 8]]\n",
      "[[1 2 3 4]\n",
      " [5 6 7 8]\n",
      " [1 2 3 4]\n",
      " [5 6 7 8]]\n"
     ]
    }
   ],
   "source": [
    "#Vstack em duas arrays do mesmo tamanho\n",
    "a1 = np.array([1,2,3,4])\n",
    "a2 = np.array([5,6,7,8])\n",
    "print(a1)\n",
    "print(a2)\n",
    "vstack = np.vstack([a1,a2])\n",
    "print(vstack)\n",
    "vstack2 = np.vstack([vstack, vstack])\n",
    "print(vstack2)\n"
   ]
  },
  {
   "cell_type": "code",
   "execution_count": 104,
   "id": "institutional-diagram",
   "metadata": {
    "execution": {
     "iopub.execute_input": "2022-06-27T20:06:46.092462Z",
     "iopub.status.busy": "2022-06-27T20:06:46.092168Z",
     "iopub.status.idle": "2022-06-27T20:06:46.100627Z",
     "shell.execute_reply": "2022-06-27T20:06:46.099251Z",
     "shell.execute_reply.started": "2022-06-27T20:06:46.092435Z"
    },
    "tags": []
   },
   "outputs": [
    {
     "data": {
      "text/plain": [
       "(4,)"
      ]
     },
     "execution_count": 104,
     "metadata": {},
     "output_type": "execute_result"
    }
   ],
   "source": [
    "a1.shape"
   ]
  },
  {
   "cell_type": "code",
   "execution_count": 109,
   "id": "ceramic-galaxy",
   "metadata": {
    "execution": {
     "iopub.execute_input": "2022-06-27T20:03:21.053487Z",
     "iopub.status.busy": "2022-06-27T20:03:21.053191Z",
     "iopub.status.idle": "2022-06-27T20:03:21.058790Z",
     "shell.execute_reply": "2022-06-27T20:03:21.057269Z",
     "shell.execute_reply.started": "2022-06-27T20:03:21.053460Z"
    },
    "tags": []
   },
   "outputs": [
    {
     "name": "stdout",
     "output_type": "stream",
     "text": [
      "[[1 2 3 4]\n",
      " [5 6 7 8]\n",
      " [5 6 7 8]\n",
      " [5 6 7 8]]\n"
     ]
    }
   ],
   "source": [
    "vstack2 = np.vstack([a1,a2,a2,a2])\n",
    "print(vstack2)"
   ]
  },
  {
   "cell_type": "code",
   "execution_count": 114,
   "id": "individual-robinson",
   "metadata": {
    "execution": {
     "iopub.execute_input": "2022-06-27T20:03:53.204370Z",
     "iopub.status.busy": "2022-06-27T20:03:53.203990Z",
     "iopub.status.idle": "2022-06-27T20:03:53.212790Z",
     "shell.execute_reply": "2022-06-27T20:03:53.211493Z",
     "shell.execute_reply.started": "2022-06-27T20:03:53.204334Z"
    }
   },
   "outputs": [
    {
     "name": "stdout",
     "output_type": "stream",
     "text": [
      "[[[ 1  2]\n",
      "  [ 3  4]\n",
      "  [ 5  6]\n",
      "  [ 7  8]]\n",
      "\n",
      " [[ 9 10]\n",
      "  [11 12]\n",
      "  [13 14]\n",
      "  [15 16]]]\n"
     ]
    }
   ],
   "source": [
    "\n",
    "vstack2 = np.array([\n",
    "        [[1, 2], [3, 4], [5, 6], [7, 8]],\n",
    "        [[9, 10], [11, 12], [13, 14], [15, 16]]])\n",
    "print(vstack2)"
   ]
  },
  {
   "cell_type": "code",
   "execution_count": 117,
   "id": "packed-lighting",
   "metadata": {
    "execution": {
     "iopub.execute_input": "2022-06-27T20:05:23.851361Z",
     "iopub.status.busy": "2022-06-27T20:05:23.851036Z",
     "iopub.status.idle": "2022-06-27T20:05:23.865340Z",
     "shell.execute_reply": "2022-06-27T20:05:23.858473Z",
     "shell.execute_reply.started": "2022-06-27T20:05:23.851332Z"
    },
    "tags": []
   },
   "outputs": [
    {
     "data": {
      "text/plain": [
       "array([ 1,  9,  3, 11,  5, 13,  7, 15,  2, 10,  4, 12,  6, 14,  8, 16])"
      ]
     },
     "execution_count": 117,
     "metadata": {},
     "output_type": "execute_result"
    }
   ],
   "source": [
    "#flatten order= C(por linha), F(por coluna)\n",
    "vstack2.flatten('C')\n",
    "vstack2.flatten('F')"
   ]
  },
  {
   "cell_type": "markdown",
   "id": "described-threshold",
   "metadata": {},
   "source": [
    "##### DIY 1"
   ]
  },
  {
   "cell_type": "markdown",
   "id": "documentary-tissue",
   "metadata": {},
   "source": [
    "1. Crie 3 arrays 1D com 10 elementos com numeros inteiros de 1 a 10  e printe elas (dica = randint)\n",
    "2. Elabore um filtro boolean na arr 1 com &, pegue os valores do array com o filtro e printe\n",
    "3. Elabore um filtro boolean na arr 2 com |, pegue os valores do array com o filtro e printe\n",
    "4. Faça um reshape na arr1 \n",
    "5. Façã um vstack com as arr2 e arr3\n",
    "6. Aplique um flatten por linha na array nova"
   ]
  },
  {
   "cell_type": "code",
   "execution_count": 121,
   "id": "055ef2d7",
   "metadata": {},
   "outputs": [
    {
     "name": "stdout",
     "output_type": "stream",
     "text": [
      "[ 1  0  4  3  8  7 10  5  5  0]\n",
      "[ 8  1  8  0  8  7  7 10  0  7]\n",
      "[ 7 10  1  6  4  4  8  6  3  8]\n"
     ]
    }
   ],
   "source": [
    "#1\n",
    "diy_array1 = np.random.randint(11, size = 10)\n",
    "diy_array2 = np.random.randint(11, size = 10)\n",
    "diy_array3 = np.random.randint(11, size = 10)\n",
    "\n",
    "print(diy_array1)\n",
    "print(diy_array2)\n",
    "print(diy_array3)"
   ]
  },
  {
   "cell_type": "code",
   "execution_count": 128,
   "id": "edccab5f",
   "metadata": {},
   "outputs": [
    {
     "name": "stdout",
     "output_type": "stream",
     "text": [
      "[ 8 10]\n",
      "[ 0  4  8  7 10  0]\n",
      "[[ 1  0]\n",
      " [ 4  3]\n",
      " [ 8  7]\n",
      " [10  5]\n",
      " [ 5  0]]\n",
      "(2, 10)\n",
      "[[ 8  1  8  0  8  7  7 10  0  7]\n",
      " [ 7 10  1  6  4  4  8  6  3  8]]\n",
      "[ 8  1  8  0  8  7  7 10  0  7  7 10  1  6  4  4  8  6  3  8]\n"
     ]
    }
   ],
   "source": [
    "#2 \n",
    "filtand = (diy_array1 % 2 == 0) & (diy_array1 > 5)\n",
    "print(diy_array1[filtand])\n",
    "\n",
    "#3\n",
    "filtor = (diy_array1 % 2 == 0) | (diy_array1 > 5)\n",
    "print(diy_array1[filtor])\n",
    "\n",
    "#4\n",
    "diy_array1 = diy_array1.reshape(5,2)\n",
    "print(diy_array1)\n",
    "\n",
    "#5\n",
    "diy_vstack = np.vstack([diy_array2, diy_array3])\n",
    "print(diy_vstack.shape)\n",
    "print(diy_vstack)\n",
    "\n",
    "#6\n",
    "flatten = diy_vstack.flatten('C')\n",
    "print(flatten)"
   ]
  },
  {
   "cell_type": "code",
   "execution_count": 21,
   "id": "finnish-kernel",
   "metadata": {
    "execution": {
     "iopub.execute_input": "2022-06-27T20:11:55.698976Z",
     "iopub.status.busy": "2022-06-27T20:11:55.698643Z",
     "iopub.status.idle": "2022-06-27T20:11:55.711062Z",
     "shell.execute_reply": "2022-06-27T20:11:55.710107Z",
     "shell.execute_reply.started": "2022-06-27T20:11:55.698945Z"
    },
    "tags": []
   },
   "outputs": [
    {
     "name": "stdout",
     "output_type": "stream",
     "text": [
      "[10  4  7  4  1  5  2  1  5  6]\n",
      "[ 1  4 10  2  1  9  2  1  6  7]\n",
      "[ 8 10  8  7  7  1  5 10  1  7]\n"
     ]
    }
   ],
   "source": [
    "#1\n",
    "diy_array1 = np.random.randint(1, 11, 10)\n",
    "diy_array2 = np.random.randint(1, 11, 10)\n",
    "diy_array3 = np.random.randint(1, 11, 10)\n",
    "print(diy_array1)\n",
    "print(diy_array2)\n",
    "print(diy_array3)"
   ]
  },
  {
   "cell_type": "code",
   "execution_count": 23,
   "metadata": {},
   "outputs": [
    {
     "name": "stdout",
     "output_type": "stream",
     "text": [
      "[False False  True False False False False False False  True]\n",
      "[8 7]\n",
      "[ True  True  True  True  True  True False  True  True  True]\n",
      "[ 8 10  8  7  7  1 10  1  7]\n",
      "[[10  4  7  4  1]\n",
      " [ 5  2  1  5  6]]\n",
      "[[ 1  4 10  2  1  9  2  1  6  7]\n",
      " [ 8 10  8  7  7  1  5 10  1  7]]\n",
      "[ 1  4 10  2  1  9  2  1  6  7  8 10  8  7  7  1  5 10  1  7]\n",
      "[ 1  8  4 10 10  8  2  7  1  7  9  1  2  5  1 10  6  1  7  7]\n",
      "[[ 1  4 10  2  1  9  2  1  6  7]\n",
      " [ 8 10  8  7  7  1  5 10  1  7]]\n"
     ]
    }
   ],
   "source": [
    "#2\n",
    "diy_filterand = (diy_array1 > 5) & (diy_array2 > 5) & (diy_array3 > 5)\n",
    "print(diy_filterand)\n",
    "print(diy_array3[diy_filterand])\n",
    "\n",
    "#3\n",
    "diy_filteror = (diy_array1 > 5) | (diy_array2 > 5) | (diy_array3 > 5)\n",
    "print(diy_filteror)\n",
    "print(diy_array3[diy_filteror])\n",
    "\n",
    "#4\n",
    "diy_array1_copy = diy_array1.copy()\n",
    "diy_array1_copy = diy_array1_copy.reshape(2,-1)\n",
    "print(diy_array1_copy)\n",
    "\n",
    "#5\n",
    "diy_vstack = np.vstack([diy_array2, diy_array3])\n",
    "print(diy_vstack)\n",
    "\n",
    "#6\n",
    "print(diy_vstack.flatten('C')) #linha\n",
    "print(diy_vstack.flatten('F')) #coluna\n",
    "print(diy_vstack)\n"
   ]
  },
  {
   "cell_type": "markdown",
   "id": "industrial-subscription",
   "metadata": {},
   "source": [
    "#### Numpy Matrix"
   ]
  },
  {
   "cell_type": "markdown",
   "id": "micro-worcester",
   "metadata": {},
   "source": [
    "> Marizes em são obrigatoriamente elementos de duas dimensões "
   ]
  },
  {
   "cell_type": "code",
   "execution_count": 129,
   "id": "straight-sussex",
   "metadata": {
    "execution": {
     "iopub.execute_input": "2022-06-27T20:15:21.941051Z",
     "iopub.status.busy": "2022-06-27T20:15:21.940720Z",
     "iopub.status.idle": "2022-06-27T20:15:21.949757Z",
     "shell.execute_reply": "2022-06-27T20:15:21.948696Z",
     "shell.execute_reply.started": "2022-06-27T20:15:21.941021Z"
    },
    "tags": []
   },
   "outputs": [],
   "source": [
    "mat1 = np.matrix([[1, 2],[3, 4]])"
   ]
  },
  {
   "cell_type": "code",
   "execution_count": 130,
   "id": "wooden-blink",
   "metadata": {
    "execution": {
     "iopub.execute_input": "2022-06-27T20:16:01.771255Z",
     "iopub.status.busy": "2022-06-27T20:16:01.770722Z",
     "iopub.status.idle": "2022-06-27T20:16:01.801595Z",
     "shell.execute_reply": "2022-06-27T20:16:01.784535Z",
     "shell.execute_reply.started": "2022-06-27T20:16:01.771210Z"
    }
   },
   "outputs": [],
   "source": [
    "arr1 = np.array([5,6,7,8])"
   ]
  },
  {
   "cell_type": "code",
   "execution_count": 131,
   "id": "combined-olympus",
   "metadata": {
    "execution": {
     "iopub.execute_input": "2022-06-27T20:16:11.415180Z",
     "iopub.status.busy": "2022-06-27T20:16:11.414861Z",
     "iopub.status.idle": "2022-06-27T20:16:11.423340Z",
     "shell.execute_reply": "2022-06-27T20:16:11.421821Z",
     "shell.execute_reply.started": "2022-06-27T20:16:11.415151Z"
    }
   },
   "outputs": [
    {
     "data": {
      "text/plain": [
       "numpy.ndarray"
      ]
     },
     "execution_count": 131,
     "metadata": {},
     "output_type": "execute_result"
    }
   ],
   "source": [
    "type(arr1)"
   ]
  },
  {
   "cell_type": "code",
   "execution_count": 132,
   "id": "compact-raise",
   "metadata": {
    "execution": {
     "iopub.execute_input": "2022-06-27T20:15:42.737399Z",
     "iopub.status.busy": "2022-06-27T20:15:42.736876Z",
     "iopub.status.idle": "2022-06-27T20:15:42.744158Z",
     "shell.execute_reply": "2022-06-27T20:15:42.742517Z",
     "shell.execute_reply.started": "2022-06-27T20:15:42.737350Z"
    },
    "tags": []
   },
   "outputs": [
    {
     "data": {
      "text/plain": [
       "numpy.matrix"
      ]
     },
     "execution_count": 132,
     "metadata": {},
     "output_type": "execute_result"
    }
   ],
   "source": [
    "type(mat1)"
   ]
  },
  {
   "cell_type": "code",
   "execution_count": 133,
   "id": "acquired-chester",
   "metadata": {
    "execution": {
     "iopub.execute_input": "2022-06-27T20:16:36.442145Z",
     "iopub.status.busy": "2022-06-27T20:16:36.441883Z",
     "iopub.status.idle": "2022-06-27T20:16:36.447635Z",
     "shell.execute_reply": "2022-06-27T20:16:36.446603Z",
     "shell.execute_reply.started": "2022-06-27T20:16:36.442121Z"
    }
   },
   "outputs": [
    {
     "data": {
      "text/plain": [
       "2"
      ]
     },
     "execution_count": 133,
     "metadata": {},
     "output_type": "execute_result"
    }
   ],
   "source": [
    "mat1.ndim"
   ]
  },
  {
   "cell_type": "code",
   "execution_count": 136,
   "id": "provincial-break",
   "metadata": {
    "execution": {
     "iopub.execute_input": "2022-06-27T20:17:30.344428Z",
     "iopub.status.busy": "2022-06-27T20:17:30.344104Z",
     "iopub.status.idle": "2022-06-27T20:17:30.351030Z",
     "shell.execute_reply": "2022-06-27T20:17:30.347557Z",
     "shell.execute_reply.started": "2022-06-27T20:17:30.344397Z"
    },
    "tags": []
   },
   "outputs": [
    {
     "name": "stdout",
     "output_type": "stream",
     "text": [
      "[[1 2 3]]\n"
     ]
    }
   ],
   "source": [
    "#Se eu passar uma lista simples ele cria automaticamente uma matriz de duas dim\n",
    "mat2 = np.matrix([1, 2, 3])\n",
    "print(mat2)"
   ]
  },
  {
   "cell_type": "code",
   "execution_count": 135,
   "id": "hybrid-violence",
   "metadata": {
    "execution": {
     "iopub.execute_input": "2022-06-27T20:17:35.032183Z",
     "iopub.status.busy": "2022-06-27T20:17:35.031880Z",
     "iopub.status.idle": "2022-06-27T20:17:35.046082Z",
     "shell.execute_reply": "2022-06-27T20:17:35.044724Z",
     "shell.execute_reply.started": "2022-06-27T20:17:35.032152Z"
    }
   },
   "outputs": [
    {
     "data": {
      "text/plain": [
       "2"
      ]
     },
     "execution_count": 135,
     "metadata": {},
     "output_type": "execute_result"
    }
   ],
   "source": [
    "mat2.ndim"
   ]
  },
  {
   "cell_type": "code",
   "execution_count": 137,
   "id": "lined-stand",
   "metadata": {
    "execution": {
     "iopub.execute_input": "2022-06-27T20:18:00.626070Z",
     "iopub.status.busy": "2022-06-27T20:18:00.625759Z",
     "iopub.status.idle": "2022-06-27T20:18:00.644334Z",
     "shell.execute_reply": "2022-06-27T20:18:00.641691Z",
     "shell.execute_reply.started": "2022-06-27T20:18:00.626042Z"
    }
   },
   "outputs": [
    {
     "ename": "ValueError",
     "evalue": "matrix must be 2-dimensional",
     "output_type": "error",
     "traceback": [
      "\u001b[0;31m---------------------------------------------------------------------------\u001b[0m",
      "\u001b[0;31mValueError\u001b[0m                                Traceback (most recent call last)",
      "\u001b[1;32m/Users/gustavoperbone/Developer/Curso-Python&Dados /topcoders-curso-python-dados/Modulo-3- Numpy&Pandas/Numpy 2/Turma 850 - Aula 2 - Numpy-SemResposta.ipynb Cell 44'\u001b[0m in \u001b[0;36m<cell line: 2>\u001b[0;34m()\u001b[0m\n\u001b[1;32m      <a href='vscode-notebook-cell:/Users/gustavoperbone/Developer/Curso-Python%26Dados%20/topcoders-curso-python-dados/Modulo-3-%20Numpy%26Pandas/Numpy%202/Turma%20850%20-%20Aula%202%20-%20Numpy-SemResposta.ipynb#ch0000040?line=0'>1</a>\u001b[0m \u001b[39m#tentando criar uma matrix maior \u001b[39;00m\n\u001b[0;32m----> <a href='vscode-notebook-cell:/Users/gustavoperbone/Developer/Curso-Python%26Dados%20/topcoders-curso-python-dados/Modulo-3-%20Numpy%26Pandas/Numpy%202/Turma%20850%20-%20Aula%202%20-%20Numpy-SemResposta.ipynb#ch0000040?line=1'>2</a>\u001b[0m np\u001b[39m.\u001b[39;49mmatrix([[[\u001b[39m1\u001b[39;49m, \u001b[39m2\u001b[39;49m], [\u001b[39m3\u001b[39;49m, \u001b[39m4\u001b[39;49m]], \n\u001b[1;32m      <a href='vscode-notebook-cell:/Users/gustavoperbone/Developer/Curso-Python%26Dados%20/topcoders-curso-python-dados/Modulo-3-%20Numpy%26Pandas/Numpy%202/Turma%20850%20-%20Aula%202%20-%20Numpy-SemResposta.ipynb#ch0000040?line=2'>3</a>\u001b[0m           [[\u001b[39m5\u001b[39;49m, \u001b[39m6\u001b[39;49m], [\u001b[39m7\u001b[39;49m, \u001b[39m8\u001b[39;49m]], \n\u001b[1;32m      <a href='vscode-notebook-cell:/Users/gustavoperbone/Developer/Curso-Python%26Dados%20/topcoders-curso-python-dados/Modulo-3-%20Numpy%26Pandas/Numpy%202/Turma%20850%20-%20Aula%202%20-%20Numpy-SemResposta.ipynb#ch0000040?line=3'>4</a>\u001b[0m           [[\u001b[39m9\u001b[39;49m, \u001b[39m10\u001b[39;49m], [\u001b[39m11\u001b[39;49m, \u001b[39m12\u001b[39;49m]]])\n",
      "File \u001b[0;32m~/opt/anaconda3/lib/python3.9/site-packages/numpy/matrixlib/defmatrix.py:149\u001b[0m, in \u001b[0;36mmatrix.__new__\u001b[0;34m(subtype, data, dtype, copy)\u001b[0m\n\u001b[1;32m    147\u001b[0m shape \u001b[39m=\u001b[39m arr\u001b[39m.\u001b[39mshape\n\u001b[1;32m    148\u001b[0m \u001b[39mif\u001b[39;00m (ndim \u001b[39m>\u001b[39m \u001b[39m2\u001b[39m):\n\u001b[0;32m--> 149\u001b[0m     \u001b[39mraise\u001b[39;00m \u001b[39mValueError\u001b[39;00m(\u001b[39m\"\u001b[39m\u001b[39mmatrix must be 2-dimensional\u001b[39m\u001b[39m\"\u001b[39m)\n\u001b[1;32m    150\u001b[0m \u001b[39melif\u001b[39;00m ndim \u001b[39m==\u001b[39m \u001b[39m0\u001b[39m:\n\u001b[1;32m    151\u001b[0m     shape \u001b[39m=\u001b[39m (\u001b[39m1\u001b[39m, \u001b[39m1\u001b[39m)\n",
      "\u001b[0;31mValueError\u001b[0m: matrix must be 2-dimensional"
     ]
    }
   ],
   "source": [
    "#tentando criar uma matrix maior \n",
    "np.matrix([[[1, 2], [3, 4]], \n",
    "          [[5, 6], [7, 8]], \n",
    "          [[9, 10], [11, 12]]])"
   ]
  },
  {
   "cell_type": "code",
   "execution_count": 138,
   "id": "infinite-shark",
   "metadata": {
    "execution": {
     "iopub.execute_input": "2022-06-27T20:18:29.921613Z",
     "iopub.status.busy": "2022-06-27T20:18:29.921318Z",
     "iopub.status.idle": "2022-06-27T20:18:29.932600Z",
     "shell.execute_reply": "2022-06-27T20:18:29.925358Z",
     "shell.execute_reply.started": "2022-06-27T20:18:29.921587Z"
    },
    "tags": []
   },
   "outputs": [],
   "source": [
    "arr2 = np.array([[[1, 2], [3, 4]], \n",
    "          [[5, 6], [7, 8]], \n",
    "          [[9, 10], [11, 12]]])"
   ]
  },
  {
   "cell_type": "code",
   "execution_count": 139,
   "id": "three-worthy",
   "metadata": {
    "execution": {
     "iopub.execute_input": "2022-06-27T20:18:45.042522Z",
     "iopub.status.busy": "2022-06-27T20:18:45.042226Z",
     "iopub.status.idle": "2022-06-27T20:18:45.054677Z",
     "shell.execute_reply": "2022-06-27T20:18:45.053147Z",
     "shell.execute_reply.started": "2022-06-27T20:18:45.042495Z"
    },
    "tags": []
   },
   "outputs": [
    {
     "name": "stdout",
     "output_type": "stream",
     "text": [
      "3\n",
      "(3, 2, 2)\n"
     ]
    }
   ],
   "source": [
    "#bloco, linha, coluna\n",
    "print(arr2.ndim)\n",
    "print(arr2.shape)"
   ]
  },
  {
   "cell_type": "code",
   "execution_count": 142,
   "id": "institutional-transfer",
   "metadata": {
    "execution": {
     "iopub.execute_input": "2022-06-27T20:20:01.106549Z",
     "iopub.status.busy": "2022-06-27T20:20:01.106263Z",
     "iopub.status.idle": "2022-06-27T20:20:01.118041Z",
     "shell.execute_reply": "2022-06-27T20:20:01.114994Z",
     "shell.execute_reply.started": "2022-06-27T20:20:01.106523Z"
    }
   },
   "outputs": [
    {
     "name": "stdout",
     "output_type": "stream",
     "text": [
      "[[ 5 12]\n",
      " [24 36]]\n",
      "[[21 24]\n",
      " [47 54]]\n"
     ]
    }
   ],
   "source": [
    "#array multi Element Wise\n",
    "a = np.array([[1, 2], \n",
    "             [3, 4]])\n",
    "b = np.array([[5, 6], \n",
    "             [8, 9]])\n",
    "print(a * b)\n",
    "print(np.matmul(a,b))"
   ]
  },
  {
   "cell_type": "code",
   "execution_count": 141,
   "id": "purple-monte",
   "metadata": {
    "execution": {
     "iopub.execute_input": "2022-06-27T20:38:15.922868Z",
     "iopub.status.busy": "2022-06-27T20:38:15.922499Z",
     "iopub.status.idle": "2022-06-27T20:38:15.933188Z",
     "shell.execute_reply": "2022-06-27T20:38:15.932230Z",
     "shell.execute_reply.started": "2022-06-27T20:38:15.922839Z"
    },
    "tags": []
   },
   "outputs": [
    {
     "name": "stdout",
     "output_type": "stream",
     "text": [
      "[[1 2]\n",
      " [3 4]]\n",
      "[[5 6]\n",
      " [8 9]]\n",
      "[[21 24]\n",
      " [47 54]]\n"
     ]
    }
   ],
   "source": [
    "#matriz * Dot Product\n",
    "c = np.matrix([[1, 2], \n",
    "              [3, 4]])\n",
    "d = np.matrix([[5, 6], \n",
    "              [8, 9]])\n",
    "print(c)\n",
    "print(d)\n",
    "print(c * d)"
   ]
  },
  {
   "cell_type": "markdown",
   "id": "included-hypothesis",
   "metadata": {
    "execution": {
     "iopub.execute_input": "2022-06-27T20:36:30.340688Z",
     "iopub.status.busy": "2022-06-27T20:36:30.339284Z",
     "iopub.status.idle": "2022-06-27T20:36:30.360000Z",
     "shell.execute_reply": "2022-06-27T20:36:30.352693Z",
     "shell.execute_reply.started": "2022-06-27T20:36:30.340625Z"
    }
   },
   "source": [
    "<div>\n",
    "<img src=\"Imgs/dotprod.jpeg\" width=\"500\"/>\n",
    "</div>"
   ]
  },
  {
   "cell_type": "code",
   "execution_count": 143,
   "id": "undefined-fraction",
   "metadata": {
    "execution": {
     "iopub.execute_input": "2022-06-27T20:31:47.621999Z",
     "iopub.status.busy": "2022-06-27T20:31:47.621671Z",
     "iopub.status.idle": "2022-06-27T20:31:47.634645Z",
     "shell.execute_reply": "2022-06-27T20:31:47.626829Z",
     "shell.execute_reply.started": "2022-06-27T20:31:47.621969Z"
    },
    "tags": []
   },
   "outputs": [
    {
     "name": "stdout",
     "output_type": "stream",
     "text": [
      "[[ 6  8]\n",
      " [11 13]]\n",
      "[[4 4]\n",
      " [5 5]]\n",
      "[[0.2        0.33333333]\n",
      " [0.375      0.44444444]]\n"
     ]
    }
   ],
   "source": [
    "#Soma e subtração \n",
    "print(c+d)\n",
    "print(d-c)\n",
    "print(c/d)"
   ]
  },
  {
   "cell_type": "markdown",
   "id": "standard-watson",
   "metadata": {},
   "source": [
    "> It is no longer recommended to use the matrix class, even for linear algebra. Instead, use regular numpy arrays. The matrix class may be removed in the future. (05-2021)"
   ]
  },
  {
   "cell_type": "markdown",
   "id": "tough-grass",
   "metadata": {},
   "source": [
    "##### DIY "
   ]
  },
  {
   "cell_type": "markdown",
   "id": "turkish-foster",
   "metadata": {},
   "source": [
    "1. Crie uma matriz com numeros aleatorios de 1 ao 20 shape (2,2)\n",
    "2. Crie um array 2D com shape (2,2)\n",
    "3. Transforme a array em matrix \n",
    "4. Printe o type do array transformado\n",
    "5. Faça o Dot product das matrizes\n"
   ]
  },
  {
   "cell_type": "code",
   "execution_count": 148,
   "id": "402b7154",
   "metadata": {},
   "outputs": [
    {
     "name": "stdout",
     "output_type": "stream",
     "text": [
      "[[13  1]\n",
      " [ 7  1]]\n",
      "[[17 17]\n",
      " [10  9]]\n"
     ]
    }
   ],
   "source": [
    "#1\n",
    "matrix = np.matrix(np.random.randint(1,21,4)).reshape(2,2)\n",
    "print(matrix)\n",
    "\n",
    "#2\n",
    "array_2d = np.random.randint(1,21,4).reshape(2,2)\n",
    "print(array_2d)"
   ]
  },
  {
   "cell_type": "code",
   "execution_count": 154,
   "id": "e62202ef",
   "metadata": {},
   "outputs": [
    {
     "name": "stdout",
     "output_type": "stream",
     "text": [
      "[[17 17]\n",
      " [10  9]]\n",
      "<class 'numpy.matrix'>\n",
      "[[231 230]\n",
      " [129 128]]\n"
     ]
    }
   ],
   "source": [
    "#3\n",
    "matrix2 = np.matrix(array_2d)\n",
    "print(matrix2)\n",
    "#4\n",
    "print(type(matrix2))\n",
    "#5\n",
    "print(matrix * matrix2)"
   ]
  },
  {
   "cell_type": "code",
   "execution_count": 34,
   "id": "ef61abca",
   "metadata": {},
   "outputs": [
    {
     "name": "stdout",
     "output_type": "stream",
     "text": [
      "[[ 1 13]\n",
      " [ 5 13]]\n"
     ]
    }
   ],
   "source": [
    "#1\n",
    "diy_matrix = np.matrix(np.random.randint(1, 21, 4)).reshape(2,2)\n",
    "print(diy_matrix)\n",
    "\n",
    "#outra forma:\n",
    "# diy_matrix = np.matrix(np.random.randint(21, size=(2, 2)))"
   ]
  },
  {
   "cell_type": "code",
   "execution_count": 35,
   "id": "32d70590",
   "metadata": {},
   "outputs": [
    {
     "name": "stdout",
     "output_type": "stream",
     "text": [
      "[[14  6]\n",
      " [16  4]]\n"
     ]
    }
   ],
   "source": [
    "#2\n",
    "diy_arr = np.random.randint(1, 21, 4).reshape(2,2)\n",
    "print(diy_arr)"
   ]
  },
  {
   "cell_type": "code",
   "execution_count": 36,
   "id": "c76ba29c",
   "metadata": {},
   "outputs": [
    {
     "name": "stdout",
     "output_type": "stream",
     "text": [
      "[[14  6]\n",
      " [16  4]]\n",
      "<class 'numpy.matrix'>\n",
      "[[222  58]\n",
      " [278  82]]\n"
     ]
    }
   ],
   "source": [
    "#3\n",
    "diy_matrix2 = np.matrix(diy_arr)\n",
    "print(diy_matrix2)\n",
    "\n",
    "#4\n",
    "print(type(diy_matrix2))\n",
    "\n",
    "#5\n",
    "print(diy_matrix*diy_matrix2)"
   ]
  },
  {
   "cell_type": "markdown",
   "id": "hydraulic-minister",
   "metadata": {},
   "source": [
    "#### Grupo"
   ]
  },
  {
   "cell_type": "markdown",
   "id": "rotary-blond",
   "metadata": {},
   "source": [
    "https://archive.ics.uci.edu/ml/datasets/Wine+Quality"
   ]
  },
  {
   "cell_type": "markdown",
   "id": "alleged-sustainability",
   "metadata": {
    "execution": {
     "iopub.execute_input": "2022-06-27T20:44:58.345790Z",
     "iopub.status.busy": "2022-06-27T20:44:58.345428Z",
     "iopub.status.idle": "2022-06-27T20:44:59.842111Z",
     "shell.execute_reply": "2022-06-27T20:44:59.840986Z",
     "shell.execute_reply.started": "2022-06-27T20:44:58.345761Z"
    }
   },
   "source": [
    "1. Importe o mesmo dataset da aula passada \n",
    "2. Selecione as mesmas colunas Citric Acid, PH e  Alcohol\n",
    "3. Faça um filtro booleano com os vinhos com:\n",
    "    - um valor maior ou igual a 6 de Alcohol\n",
    "    - um valor de PH menor do que 3\n",
    "    - um valor de Citric Acid maior do que .20\n",
    "4. Faça um novo array com esses dados \n",
    "5. Quantos vinhos tem a nossa seleção?\n",
    "6. Quantos vinhos deixamos de fora?\n",
    "7. Faça um outro filtro segundo a sua criatividade \n",
    "8. Qual a sua conclusão?"
   ]
  },
  {
   "cell_type": "code",
   "execution_count": 7,
   "id": "05b44f1b",
   "metadata": {},
   "outputs": [
    {
     "name": "stdout",
     "output_type": "stream",
     "text": [
      "33\n",
      "Foram deixados de fora: 1566\n",
      "Dataset original: 1599\n",
      "Foram deixados de fora: 1564\n"
     ]
    }
   ],
   "source": [
    "#1 e #2 \n",
    "url = 'https://archive.ics.uci.edu/ml/machine-learning-databases/wine-quality/winequality-red.csv'\n",
    "wine_arr = np.genfromtxt(url, delimiter=';', usecols=[2,8,10], skip_header = True)\n",
    "\n",
    "#3 col0 = acid, col1 =pH , col 2=alcool\n",
    "filtro = (wine_arr[:,2] >= 6) & (wine_arr[:,1] <= 3) & (wine_arr[:,0] > .20)\n",
    "\n",
    "#4 \n",
    "new_wine_arr = wine_arr[filtro]\n",
    "\n",
    "#5\n",
    "print(len(new_wine_arr))\n",
    "\n",
    "#6\n",
    "print(f\"Foram deixados de fora: {(wine_arr.shape[0] - new_wine_arr.shape[0])}\")\n",
    "\n",
    "#7\n",
    "filtro2 = (wine_arr[:,1] <= 3)\n",
    "wine_filt2 = wine_arr[filtro2]\n",
    "print(f\"Dataset original: {(wine_arr.shape[0])}\")\n",
    "print(f\"Foram deixados de fora: {(wine_arr.shape[0] - wine_filt2.shape[0])}\")\n",
    "\n",
    "#8 O pH abaixo ou igual a 3 exclui a grande maioria dos vinhos do dataset"
   ]
  }
 ],
 "metadata": {
  "kernelspec": {
   "display_name": "Python 3.9.12 ('base')",
   "language": "python",
   "name": "python3"
  },
  "language_info": {
   "codemirror_mode": {
    "name": "ipython",
    "version": 3
   },
   "file_extension": ".py",
   "mimetype": "text/x-python",
   "name": "python",
   "nbconvert_exporter": "python",
   "pygments_lexer": "ipython3",
   "version": "3.9.12"
  },
  "vscode": {
   "interpreter": {
    "hash": "cea1ecbc9060237308d6f43d2a8f2f7ecb9842b1b44e6cce898a5c7b51f4cadd"
   }
  }
 },
 "nbformat": 4,
 "nbformat_minor": 5
}
