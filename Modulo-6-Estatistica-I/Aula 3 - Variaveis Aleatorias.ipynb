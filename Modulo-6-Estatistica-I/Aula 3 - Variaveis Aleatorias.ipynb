{
  "cells": [
    {
      "cell_type": "markdown",
      "metadata": {
        "id": "V2qfERJ93HAO"
      },
      "source": [
        "# Distribuição de Probabilidade\n",
        "\n",
        "* Distribuição de Probabilidade\n",
        "* Função de Densidade de Probabilidade\n",
        "* Valor Esperado\n",
        "* Variância\n",
        "* Distribuições V.A. Discretas\n",
        "* Distribuições V.A. Contínuas"
      ]
    },
    {
      "cell_type": "markdown",
      "metadata": {
        "id": "amyj1jR14Yec"
      },
      "source": [
        "Por que ao jogarmos uma moeda, às vezes obtemos cara e outras coroa?\n",
        "\n",
        "Por que, quando lançamos um dado, podemos tirar 1, 2, 3, 4, 5 ou 6?\n",
        "\n",
        "Quando uma variável tem resultados ou valores que tendem a variar de uma observação para outra em razão de fatores relacionados com a chave, chama-se *variável aleatória*.\n",
        "\n",
        "Do ponto de vista prático, é desejável que se defina uma V.A. associada a uma amostra ou experimento, de tal modo que seus resultados possíveis sejam *numéricos*.\n",
        "\n",
        "**Exemplo:** A jogada da moeda tem 2 resultados: K ou C (não são numéricos).\n",
        "\n",
        "Poderíamos pensar então considerar como nossa V.A. o n° de caras numa jogada, que tem os valores numéricos possíveis de 0 e 1. Ou ainda o n° de caras em 2 jogadas, com valores possíveis 0, 1 e 2.\n",
        "\n",
        "Uma V.A. é uma função com valores numéricos, cujo valor é determinado por fatores de chance.\n",
        "\n",
        "As variáveis aleatórias são **discretas** ou **contínuas**.\n",
        "* Discreta: Os valores podem ser contados (n° de acidentes numa semana, n° de defeitos em sapatos, n° livros na estante);\n",
        "* Contínua: Pode tomar qualquer valor de determinado intervalo (pesos de caixas de laranjas, alturas de pinheiros, duração de uma conversa telefônica, tempo necessário para completar um atendimento, etc.)."
      ]
    },
    {
      "cell_type": "code",
      "execution_count": 1,
      "metadata": {
        "id": "Ll-OeNe1Uiu3"
      },
      "outputs": [],
      "source": [
        "import numpy as np"
      ]
    },
    {
      "cell_type": "code",
      "execution_count": 2,
      "metadata": {
        "colab": {
          "base_uri": "https://localhost:8080/"
        },
        "id": "U-yPasJDUfcg",
        "outputId": "0e9d88c7-c7ff-4ee8-b6f2-77c70fc830b2"
      },
      "outputs": [
        {
          "data": {
            "text/plain": [
              "array([1, 3, 1, 4, 5])"
            ]
          },
          "execution_count": 2,
          "metadata": {},
          "output_type": "execute_result"
        }
      ],
      "source": [
        "# gera cinco números entre [1 e 6), portanto valores 1, 2, 3, 4 e 5.\n",
        "np.random.randint(1,6,5)"
      ]
    },
    {
      "cell_type": "code",
      "execution_count": 3,
      "metadata": {
        "colab": {
          "base_uri": "https://localhost:8080/"
        },
        "id": "6-GN5luWUqfC",
        "outputId": "d46a7047-1e33-4766-9ba5-a8fca63c2fc4"
      },
      "outputs": [
        {
          "data": {
            "text/plain": [
              "array([[[0.12700393, 0.15538336, 0.583204  , 0.88699876, 0.53260344],\n",
              "        [0.38986504, 0.81799264, 0.13085224, 0.03775211, 0.70548483],\n",
              "        [0.17160799, 0.07455194, 0.3658673 , 0.6918993 , 0.54560999],\n",
              "        [0.81047396, 0.61185145, 0.01375059, 0.07918964, 0.75492986],\n",
              "        [0.33303275, 0.34886183, 0.91849637, 0.89733414, 0.05065948],\n",
              "        [0.51594941, 0.76796604, 0.0895812 , 0.88403582, 0.87221408]]])"
            ]
          },
          "execution_count": 3,
          "metadata": {},
          "output_type": "execute_result"
        }
      ],
      "source": [
        "np.random.rand(1,6,5)"
      ]
    },
    {
      "cell_type": "markdown",
      "metadata": {
        "id": "eel3m45MDwix"
      },
      "source": [
        "## Valor esperado de uma Variável Aleatória\n",
        "\n",
        "Se uma V.A. X toma os valores $x_1,x_2,x_3,...,x_n,$ com as probabilidades correspondentes $p_1,p_2,p_3,...,p_n,$ então o seu *valor esperado, E(X)*, é"
      ]
    },
    {
      "cell_type": "markdown",
      "metadata": {
        "id": "ADSMjHODEMZe"
      },
      "source": [
        "$p_1*x_1+p_2*x_2+p_3*x_3+...+p_n*x_n$"
      ]
    },
    {
      "cell_type": "markdown",
      "metadata": {
        "id": "GvGOMSjUEYA-"
      },
      "source": [
        "Assim:\n",
        "\n",
        "$E(X) = \\sum_{i=1}^{n} p_i*x_i$"
      ]
    },
    {
      "cell_type": "markdown",
      "metadata": {
        "id": "Av4js4yrGCt9"
      },
      "source": [
        "Suponha-se que uma loja tenha compilado os seguintes dados sobre vendas de refrigeradores:\n",
        "\n",
        "|$x_{i}$ (número vendido)|P(x) Frequência relativa|\n",
        "|:--------:|:--------:|\n",
        "|0|0.20|\n",
        "|1|0.30|\n",
        "|2|0.30|\n",
        "|3|0.15|\n",
        "|4|0.05|\n",
        "|Total|1.00|"
      ]
    },
    {
      "cell_type": "markdown",
      "metadata": {
        "id": "OwXhhMwhGsRw"
      },
      "source": [
        "$E(X) = 0.20(0)+0.30*(1)+0.30(2)+0.15(3)+0.05(4)=1.55$"
      ]
    },
    {
      "cell_type": "markdown",
      "metadata": {
        "id": "YHqO-e8KG7jp"
      },
      "source": [
        "**Obs.1:** A firma obviamente não pode vender 1.55 refrigeradores em nenhum dia (é uma variável inteira).\n",
        "\n",
        "Analogamente, se jogamos um dado equilibrado, qual o valor esperado de uma jogada?\n",
        "\n",
        "$E(X) = \\frac{1}{6}(1)+\\frac{1}{6}(2)+\\frac{1}{6}(3)+\\frac{1}{6}(4)+\\frac{1}{6}(5)+\\frac{1}{6}(6)=3.5$"
      ]
    },
    {
      "cell_type": "markdown",
      "metadata": {
        "id": "g_IYI9c5Idk_"
      },
      "source": [
        "Aqui novamente, 3.5 é um evento impossível para uma *única* jogada, mas certamente em termos de média calculada para grande número de jogadas.\n",
        "\n",
        "**Obs.2:** Podemos calcular o valor esperado sem observações amostrais (dado) ou estimado a partir de dados amostrais (venda de refrigeradores)."
      ]
    },
    {
      "cell_type": "markdown",
      "metadata": {
        "id": "0SCmSAFSI-pf"
      },
      "source": [
        "## Somas de V.A.\n",
        "\n",
        "Há inúmeras situações em que temos que considerar uma V.A. que é, ela própria, a soma de 2 ou mais V.A. Em tais casos, devemos ser capazes de determinar a média e o dvp da V.A. resultante.\n",
        "\n",
        "Suponhamos duas V.A. (X e Y), com médias e desvio padrões conhecidos. A partir dessa informação, podemos calcular a média e o desvio padrão da soma das duas V.A. Se, para x, temos:\n",
        "\n",
        "$\\mu_{x+y}=\\mu_x+\\mu_y$\n",
        "\n",
        "$\\sigma_{x+y}=\\sqrt{\\sigma_x^2+\\sigma_y^2}$"
      ]
    },
    {
      "cell_type": "markdown",
      "metadata": {
        "id": "d81_p9UnNz_p"
      },
      "source": [
        "**Obs.3:** Os desvios padrões nunca se somam (somente as variâncias são aditivas).\n",
        "\n",
        "**Exemplo:** Queremos unir duas peças de cano, provenientes de uma distribuição com média 10m e desvio-padrão 3m. Calcule a média e o desvio-padrão da seção resultante da união das 2 peças:"
      ]
    },
    {
      "cell_type": "markdown",
      "metadata": {
        "id": "Y2pAtGniOiww"
      },
      "source": [
        "$\\mu_{x+y}=10+10=20$\n",
        "\n",
        "$\\sigma_{x+y}=\\sqrt{3^2+3^2}=4.24$"
      ]
    },
    {
      "cell_type": "markdown",
      "metadata": {
        "id": "SJRq_GW3OweL"
      },
      "source": [
        "A *média* da soma de 2 ou mais V.A. é igual à soma das médias das V.A.\n",
        "\n",
        "A *variância* de 2 ou mais V.A. é igual à soma das variâncias dessas V.A."
      ]
    },
    {
      "cell_type": "markdown",
      "metadata": {
        "id": "kSPtf9GUO_bJ"
      },
      "source": [
        "## Distribuições de Probabilidade"
      ]
    },
    {
      "cell_type": "markdown",
      "metadata": {
        "id": "prs1243yPhX9"
      },
      "source": [
        "Uma distribuição de probabilidades é uma **distribuição de frequências** para os resultados de um espaço amostral. As frequências são *relativas* ou *probabilidades*.\n",
        "\n",
        "Desse modo, as probabilidades indicam a % de vezes que, em grande n° de observações, podemos esperar a ocorrência dos vários resultados de uma V.A.\n",
        "\n",
        "**Exemplo:** Vamos considerar o número de caras na jogada de 2 moedas.\n",
        "\n",
        "|Resultado|Valor da V.A.|\n",
        "|:-------:|:-----------:|\n",
        "|CC|0|\n",
        "|KC|1|\n",
        "|CK|1|\n",
        "|KK|2|\n",
        "\n",
        "Se a moeda é equilibrada, sabemos que tempos $P(K)=P(C)=0.5$. De modo que:\n",
        "\n",
        "|Valor da V.A.|Probabilidade P(x)|\n",
        "|:-----------:|:-----------:|\n",
        "|0|0.25|\n",
        "|1|0.50|\n",
        "|2|0.25|\n",
        "\n"
      ]
    },
    {
      "cell_type": "markdown",
      "metadata": {
        "id": "bGxfiBNKQ4gx"
      },
      "source": [
        "Essa é a distribuição de probabilidades para o n° de caras em 2 jogadas de uma moeda.\n",
        "\n",
        "**Obs.1:** A soma de todas as probabilidades é 1 (resultados mutuamente excludentes). Podemos apresentar a **distribuição acumulada**:\n",
        "\n",
        "|n° caras |P(x ou menos)|\n",
        "|:-----------:|:-----------:|\n",
        "|0|0.25|\n",
        "|1|0.75|\n",
        "|2|1.00|"
      ]
    },
    {
      "cell_type": "code",
      "execution_count": 4,
      "metadata": {
        "id": "b6_WqsCL2sXL"
      },
      "outputs": [],
      "source": [
        "import matplotlib.pyplot as plt"
      ]
    },
    {
      "cell_type": "code",
      "execution_count": 5,
      "metadata": {
        "colab": {
          "base_uri": "https://localhost:8080/",
          "height": 279
        },
        "id": "ra3x7TRkRXpH",
        "outputId": "5dfea361-607e-4408-de06-25aadee154a6"
      },
      "outputs": [
        {
          "data": {
            "image/png": "[encoded data removed]",
            "text/plain": [
              "<Figure size 432x288 with 1 Axes>"
            ]
          },
          "metadata": {
            "needs_background": "light"
          },
          "output_type": "display_data"
        }
      ],
      "source": [
        "plt.bar([0,1,2],[0.25,0.50,0.25])\n",
        "plt.xlabel('Número de caras')\n",
        "plt.ylabel('Probabilidade')\n",
        "plt.show()"
      ]
    },
    {
      "cell_type": "code",
      "execution_count": 6,
      "metadata": {
        "colab": {
          "base_uri": "https://localhost:8080/",
          "height": 279
        },
        "id": "NRPabfoyRf2x",
        "outputId": "4b8fa1c8-71d9-4006-dd52-013e062e6b4a"
      },
      "outputs": [
        {
          "data": {
            "image/png": "[encoded data removed]",
            "text/plain": [
              "<Figure size 432x288 with 1 Axes>"
            ]
          },
          "metadata": {
            "needs_background": "light"
          },
          "output_type": "display_data"
        }
      ],
      "source": [
        "plt.bar([0,1,2],[0.25,0.75,1.00])\n",
        "plt.xlabel('Número de caras')\n",
        "plt.ylabel('Probabilidade')\n",
        "plt.show()"
      ]
    },
    {
      "cell_type": "markdown",
      "metadata": {
        "id": "kMQplotQQUJC"
      },
      "source": [
        "**Obs.2:** Alguns resultados são mais prováveis que outros.\n",
        "\n",
        "**Obs.3:** Conseguimos achar, sem muito esforço, a probabilidade de um dado resultado.\n",
        "\n",
        "**Obs.4:** Do ponto de vista prático, em geral, não é necessário calcular as probabilidades individuais para obter a distribuição de probabilidades (tabelas e fórmulas).\n",
        "\n",
        "**PROBLEMA:** Como usamos as distribuições para resolver problemas?\n",
        "\n",
        "Os tipos de distribuição podem ser considerados como *modelos* (simplificados e generalistas) para descrever situações que envolvem resultados gerados pela chance.\n",
        "* Jogada de moedas para o ar, n° de itens defeituosos numa remessa, hipóteses sobre exames recaem quase sempre no mesmo tipo.\n",
        "\n",
        "Há uma variedade de tipo de distribuição de probabilidades na estatística, cada uma com suas hipóteses que definem as condições sob as quais podem ser aplicadas.\n",
        "\n",
        "**Essência:** Confrontrar as hipóteses de uma distribuição de probabilidades com as especificações de determinado problema.\n",
        "\n",
        "\n"
      ]
    },
    {
      "cell_type": "markdown",
      "metadata": {
        "id": "TxJcJMmXWOgc"
      },
      "source": [
        "## Distribuições de Probabilidade para V.A. Discretas"
      ]
    },
    {
      "cell_type": "markdown",
      "metadata": {
        "id": "RCB0gwYGVAKt"
      },
      "source": [
        "### Função de Probabilidade\n",
        "\n",
        "Para uma V.A. X, com valores possíveis $x_1, x_2,...,x_n$, a **função de probabilidade** é uma função tal que:\n",
        "\n",
        "(1) $f(x_i)\\ge0$\n",
        "\n",
        "(2) $\\sum_{k=1}^{n} f(x_i)=1$\n",
        "\n",
        "(3) $f(x_i)=P(X=x_i)$"
      ]
    },
    {
      "cell_type": "markdown",
      "metadata": {
        "id": "T3mkzs5LWYv-"
      },
      "source": [
        "### Média e Variância\n",
        "\n",
        "São os 2 números frequentemente usados para definir uma distribuição de probabilidade para a V.A. X.\n",
        "\n",
        "A média (valor esperado) de X, é:\n",
        "\n",
        "$ \\mu = E(X) = \\sum_{i=1}^{n} x_i*f(x_i)$\n",
        "\n",
        "E a variância de X, denotada por $\\sigma^2$ ou V(X), é:\n",
        "\n",
        "$ \\sigma^2 = V(X) = E(X-\\mu)^2 = \\sum_{i=1}^{n} (x_i-\\mu)^2*f(x_i)$"
      ]
    },
    {
      "cell_type": "markdown",
      "metadata": {
        "id": "AXjPct9wX3Pa"
      },
      "source": [
        "### Distribuição Uniforme Discreta\n",
        "\n",
        "![](data:image/png;base64,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)\n",
        "\n",
        "A V.A. discreta mais simples é a que assume somente um n° finito de valores possíveis, cada um com probabilidade igual. Tal variável tem uma **distribuição uniforme discreta**, de modo que:\n",
        "\n",
        "$f(x_i)=1/n$\n",
        "\n",
        "**Exemplo:** O 1° dígito de um n° de serial de uma peça é igualmente provável de ser 0 a 9. Se uma peça for selecionada de uma grande baelada e X for o 1° dígito do n° de serial, então X terá uma distribuição discreta uniforme, com P=0.1 para cada possível valor:\n",
        "\n",
        "$f(x)=0.1$\n",
        "\n",
        "Suponha que a faixa da V.A. seja os inteiros consecutivos $(a,a+1,a+2,...,b)$, para $a \\le b$.\n",
        "\n",
        "A faixa de X, contém b-a+1 valores, cada um com $P = \\frac{1}{b-a+1}$.\n",
        "\n",
        "Desse modo,usando conhecimentos algébricos, chegamos à média de uma V.A. discreta na distribuição uniforme:\n",
        "\n",
        "$ \\mu = E(X) = \\frac{b+a}{2}$\n",
        "\n",
        "E a variância de X:\n",
        "\n",
        "$ \\sigma^2 = V(X) = \\frac{(b-a+1)^2-1}{12}$\n"
      ]
    },
    {
      "cell_type": "markdown",
      "metadata": {
        "id": "gMSKvTivbUl5"
      },
      "source": [
        "### Distribuição binomial\n",
        "\n",
        "Usamos a distribuição binomial para situações em que os resultados podem ser agrupados em 2 categorias (mutuamente excludentes).\n",
        "\n",
        "Geralmente, nós definimos essas 2 categorias em \"sucesso\" e \"falha\", de modo que $P(sucesso)+P(falha)=1$.\n",
        "\n",
        "**Utilidade:** Determinar a probabilidade de certo n° de sucessos num conjunto de observações.\n",
        "\n",
        "**Exemplo:** Suponhamos que se saiba que 80% dos eleitores registrados numa seção eleitoral têm mais de 30 anos. Poderemos saber a probabilidade de, numa mostra de 10 eleitores registrados, encontrarmos 7 ou mais com mais de 30.\n",
        "\n",
        "Em tal caso, $sucesso=eleitor com mais de 30 anos$ e $P(sucesso)=0.8$.\n",
        "\n",
        "A utilização da binomial exige certas hipóteses:\n",
        "* Há *n* observações ou provas idênticas;\n",
        "* Cada prova tem 2 resultados possíveis: sucesso ou falha;\n",
        "* As probabilidades *p* de sucesso e *1-p* de falha permanecem constantes em todas as provas;\n",
        "* Os resultados das provas são independentes uns dos outros.\n",
        "\n",
        "**Como obter as probabilidades?** \n",
        "\n",
        "(1) fórmula:\n",
        "\n",
        "$f(x) = {n \\choose x}p^x(1-p)^{n-x}$\n",
        "\n",
        "(2) tabela:\n",
        "\n",
        "![](https://www.yumpu.com/pt/image/facebook/17843179.jpg)"
      ]
    },
    {
      "cell_type": "code",
      "execution_count": 7,
      "metadata": {
        "id": "XNS6feReCEkX"
      },
      "outputs": [],
      "source": [
        "from itertools import combinations"
      ]
    },
    {
      "cell_type": "code",
      "execution_count": 8,
      "metadata": {
        "id": "Q_Koe-SICTOG"
      },
      "outputs": [],
      "source": [
        "comb = combinations(range(0,10),7)"
      ]
    },
    {
      "cell_type": "code",
      "execution_count": 9,
      "metadata": {
        "id": "kqrHudIaCdRe"
      },
      "outputs": [],
      "source": [
        "contador = 0\n",
        "for item in list(comb):\n",
        "  contador+=1"
      ]
    },
    {
      "cell_type": "code",
      "execution_count": 10,
      "metadata": {
        "colab": {
          "base_uri": "https://localhost:8080/"
        },
        "id": "M3youUEPCpvf",
        "outputId": "a59cb0d4-8b2f-4463-e0ed-6b9f78dd8322"
      },
      "outputs": [
        {
          "data": {
            "text/plain": [
              "120"
            ]
          },
          "execution_count": 10,
          "metadata": {},
          "output_type": "execute_result"
        }
      ],
      "source": [
        "contador"
      ]
    },
    {
      "cell_type": "code",
      "execution_count": 11,
      "metadata": {
        "colab": {
          "base_uri": "https://localhost:8080/"
        },
        "id": "1_7c_VF2DGsD",
        "outputId": "be100e6f-5217-4422-911f-be4061429e49"
      },
      "outputs": [
        {
          "data": {
            "text/plain": [
              "0.2013265920000001"
            ]
          },
          "execution_count": 11,
          "metadata": {},
          "output_type": "execute_result"
        }
      ],
      "source": [
        "120*(0.8**7)*(0.2**3)"
      ]
    },
    {
      "cell_type": "markdown",
      "metadata": {
        "id": "tKeeOXmj5G0C"
      },
      "source": [
        "Podemos obter a média de uma V.A. discreta na distribuição binomial\n",
        "\n",
        "$ \\mu = E(X) = 1p+0(1-p)=p$\n",
        "\n",
        "E a variância de X:\n",
        "\n",
        "$ \\sigma^2 = V(X) = (1-p)^2p+(0-p)^2(1-p)=p(1-p)$"
      ]
    },
    {
      "cell_type": "markdown",
      "metadata": {
        "id": "Fx1qKirW7PUF"
      },
      "source": [
        "### Distribuição de Poisson\n",
        "\n",
        "É útil para descrever as probabilidades do n° de ocorrências num campo ou intervalo contínuo (em geral tempo ou espaço).\n",
        "* Defeitos por cm²;\n",
        "* Acidentes por dia;\n",
        "* Clientes por hora;\n",
        "* Chamadas telefônicas por minuto, etc.\n",
        "\n",
        "**Obs.1:** A unidade de medida (tempo, espaço) é contínua, mas a V.A. é discreta (n° ocorrências).\n",
        "\n",
        "**Obs.2:** As falhas *não são* contáveis.\n",
        "\n",
        "A distribuição de Poisson baseia-se em 3 hipóteses:\n",
        "* A probabilidade de ocorrência é a mesma em todo campo de observação;\n",
        "* A probabilidade de mais de 1 ocorrência num único ponto é aproximadamente zero;\n",
        "* O número de ocorrências em qualquer intervalo é independente do n° de ocorrências em outros intervalos.\n",
        "\n",
        "$P(x) = \\frac{e^{-\\lambda t}(\\lambda t)^x}{x!}$\n",
        "\n",
        "### Outras distribuições\n",
        "\n",
        "![](https://geokrigagem.com.br/wp-content/uploads/2018/02/distribuicao-no-r.png)"
      ]
    },
    {
      "cell_type": "code",
      "execution_count": 12,
      "metadata": {
        "id": "nfjjMEdImhx1"
      },
      "outputs": [],
      "source": [
        "import math"
      ]
    },
    {
      "cell_type": "code",
      "execution_count": 13,
      "metadata": {
        "colab": {
          "base_uri": "https://localhost:8080/"
        },
        "id": "qvt3P1ZMmjwt",
        "outputId": "6c16df08-9942-43c0-981c-0a3cd00eacd9"
      },
      "outputs": [
        {
          "data": {
            "text/plain": [
              "0.36787944117144233"
            ]
          },
          "execution_count": 13,
          "metadata": {},
          "output_type": "execute_result"
        }
      ],
      "source": [
        "math.exp(-1)"
      ]
    },
    {
      "cell_type": "markdown",
      "metadata": {
        "id": "xHCYsQvR9WNM"
      },
      "source": [
        "**Exemplo:** Suponhamos que os navios cheguem a um porto com uma razão $\\lambda$=2 navios/hora, e que essa razão seja bem aproximada por um processo de Poisson.\n",
        "\n",
        "Observando o processo durante um período de 30 min, determine:\n",
        "\n",
        "a) A probabiidade de não chegar nenhum navio;\n",
        "\n",
        "b) Chegarem 3 navios."
      ]
    },
    {
      "cell_type": "code",
      "execution_count": 14,
      "metadata": {
        "id": "iSByIwPO-TLc"
      },
      "outputs": [],
      "source": [
        "import math"
      ]
    },
    {
      "cell_type": "code",
      "execution_count": 15,
      "metadata": {
        "colab": {
          "base_uri": "https://localhost:8080/"
        },
        "id": "cOmpK6nL_tQq",
        "outputId": "a1f3bafa-fa0e-421a-c582-530c9c4298ce"
      },
      "outputs": [
        {
          "data": {
            "text/plain": [
              "0.36787944117144233"
            ]
          },
          "execution_count": 15,
          "metadata": {},
          "output_type": "execute_result"
        }
      ],
      "source": [
        "#letra a\n",
        "math.exp(-2*0.5)*((2*0.5)**0)/1"
      ]
    },
    {
      "cell_type": "code",
      "execution_count": 16,
      "metadata": {
        "colab": {
          "base_uri": "https://localhost:8080/"
        },
        "id": "jBB2IOFr_1X2",
        "outputId": "36fa0cd2-a443-4cab-b600-572195ec5425"
      },
      "outputs": [
        {
          "data": {
            "text/plain": [
              "0.06131324019524039"
            ]
          },
          "execution_count": 16,
          "metadata": {},
          "output_type": "execute_result"
        }
      ],
      "source": [
        "#letra b\n",
        "math.exp(-2*0.5)*((2*0.5)**3)/6"
      ]
    },
    {
      "cell_type": "markdown",
      "metadata": {
        "id": "7Y_xCokZBU6X"
      },
      "source": [
        "## Distribuições de Probabilidade para V.A. Contínuas\n",
        "\n",
        "Quando uma variável apresenta um número infinito de resultados possíveis dentro de um intervalo, essa V.A. em questão é contínua e não podemos usar as distribuições acima para obter as probabilidades.\n",
        "\n",
        "As funções de densidade de probabilidade são usadas para descrever a distribuição de probabilidades de uma **variável aleatória contínua** X.\n",
        "\n",
        "**Obs.1:** Agora não falamos mais de probabilidade pontual, mas de intervalos, de modo que:\n",
        "\n",
        "(1) $f(x)>0$\n",
        "\n",
        "(2) $\\int_{-∞}^{∞} f(x) dx = 1$\n",
        "\n",
        "(3) $P(a \\le X \\le b)=\\int_{a}^{b} f(x)dx =$ área sob $f(x)$, de a e b, para qualquer a e b.\n"
      ]
    },
    {
      "cell_type": "markdown",
      "metadata": {
        "id": "H2gt_tdEDF2a"
      },
      "source": [
        "### Distribuição Uniforme Contínua\n",
        "\n",
        "Usada principalmente quando uma V.A. contínua assume qualquer valor numa escala contínua entre 2 pontos.\n",
        "* Relógio de ponteiro.\n",
        "\n",
        "Graficamente, a distribuição uniforme é representada por um retângulo limitado pelos pontos a e b (intervalo de resultados possíveis).\n",
        "\n",
        "Expressamos a média:\n",
        "\n",
        "$\\mu = \\frac{a+b}{2}$\n",
        "\n",
        "$\\sigma^2 = \\frac{(b-a)^2}{12}$"
      ]
    },
    {
      "cell_type": "markdown",
      "metadata": {
        "id": "erGPen7ZE_qL"
      },
      "source": [
        "### Distribuições Normais\n",
        "\n",
        "As distribuições normais são praticamente as mais usadas na estatística (teórica e aplicada), principalmente pela aproximação de muitos fenômenos naturais e físicos.\n",
        "\n",
        "Além disso, em experimentos binomiais, quando *n* é grande, as distribuições normais servem como aproximação.\n",
        "\n",
        "![](https://www.researchgate.net/profile/Maria-Gomes-14/publication/333943680/figure/fig5/AS:772533850759172@1561197831737/Figura-2-Probabilidades-associadas-a-distribuicao-normal-Fonte-Portal-Action-2015.png)"
      ]
    },
    {
      "cell_type": "markdown",
      "metadata": {
        "id": "-GQUcc-FG3pU"
      },
      "source": [
        "Em resumo, as características das curvas normais são:\n",
        "* Tem forma de sino;\n",
        "* É simétrica em relação à média;\n",
        "* Prolonga-se de -∞ a +∞;\n",
        "* Cada uma fica completamente especificada pela $\\mu$ e $\\sigma$;\n",
        "* A área total sob a curva normal é considerada 100%;\n",
        "* A área sob a curva entre 2 pontos é a probabilidade de uma variável normalmente distribuída tomar um valor entre esses pontos;\n",
        "* Como há um n° ilimitado de valores entre -∞ a +∞, a probabilidade de uma V.A. distribuída normalmente tomar *exatamente* determinado vaor é aproximadamente zero. Assim, as probabilidades se referem sempre a *intervalos de valores*;\n",
        "* A área sob a curva entre μ e um ponto arbitrário é função do n° de σ entre a μ e aquele ponto."
      ]
    },
    {
      "cell_type": "markdown",
      "metadata": {
        "id": "8jx5f38wIb81"
      },
      "source": [
        "**Fórmula:**\n",
        "\n",
        "A distribuição normal consiste em uma família de distribuições N(μ,σ) e seria inútil então procurar tabela para cada uma dessas necessidades.\n",
        "\n",
        "Além disso, o cálculo da fórmula possui certa complexidade:\n",
        "\n",
        "![](https://wikimedia.org/api/rest_v1/media/math/render/svg/362834b765239b64cf7719a3a3a04e172c883e3d)"
      ]
    },
    {
      "cell_type": "markdown",
      "metadata": {
        "id": "HB1OsOTvJgKX"
      },
      "source": [
        "Lidar com uma família infinita de distribuições normais pode ser completamente evitado desde que possamos trabalhar com valores relativos, ao invés de reais.\n",
        "\n",
        "Isso equivale a tomar a média como origem (referência) e o desvio-padrão como medida de afastamento a contar daquele ponto.\n",
        "\n",
        "A esta nova escala, damos o nome de escala z e conseguimos chegar no conceito de distribuição normal padronizada.\n",
        "\n",
        "$Z = \\frac{x-\\mu}{\\sigma}$"
      ]
    },
    {
      "cell_type": "code",
      "execution_count": null,
      "metadata": {
        "id": "uM5rjmOjSLMx"
      },
      "outputs": [],
      "source": [
        "P(a<=X<=b)"
      ]
    },
    {
      "cell_type": "code",
      "execution_count": null,
      "metadata": {
        "id": "-Y5QiiTBSPHG"
      },
      "outputs": [],
      "source": [
        "P(za<=Z<=zb)"
      ]
    },
    {
      "cell_type": "markdown",
      "metadata": {
        "id": "JICw0JRoQGng"
      },
      "source": [
        "# Exercícios"
      ]
    },
    {
      "cell_type": "code",
      "execution_count": 17,
      "metadata": {
        "id": "4w03RGk-9jGH"
      },
      "outputs": [],
      "source": [
        "from scipy import stats\n",
        "import matplotlib.pyplot as plt \n",
        "import numpy as np "
      ]
    },
    {
      "cell_type": "code",
      "execution_count": 18,
      "metadata": {
        "id": "QHsggOpP9kQx"
      },
      "outputs": [],
      "source": [
        "random_binomial = stats.binom(5, 0.2)"
      ]
    },
    {
      "cell_type": "code",
      "execution_count": 19,
      "metadata": {
        "id": "ghxII9-b91SB"
      },
      "outputs": [],
      "source": [
        "#Random variates of given type\n",
        "random_values = random_binomial.rvs(size=1000)"
      ]
    },
    {
      "cell_type": "code",
      "execution_count": 20,
      "metadata": {
        "colab": {
          "base_uri": "https://localhost:8080/",
          "height": 317
        },
        "id": "R5BR8ypl-PQm",
        "outputId": "f054a8f0-43ad-41a8-9bd8-fb272c37d4ac"
      },
      "outputs": [
        {
          "data": {
            "text/plain": [
              "(array([309., 414., 228.,  48.,   1.]),\n",
              " array([0. , 0.8, 1.6, 2.4, 3.2, 4. ]),\n",
              " <BarContainer object of 5 artists>)"
            ]
          },
          "execution_count": 20,
          "metadata": {},
          "output_type": "execute_result"
        },
        {
          "data": {
            "image/png": "[encoded data removed]",
            "text/plain": [
              "<Figure size 432x288 with 1 Axes>"
            ]
          },
          "metadata": {
            "needs_background": "light"
          },
          "output_type": "display_data"
        }
      ],
      "source": [
        "plt.hist(random_values,bins=5)"
      ]
    },
    {
      "cell_type": "code",
      "execution_count": null,
      "metadata": {
        "id": "7cYpKEze_bli"
      },
      "outputs": [],
      "source": []
    },
    {
      "cell_type": "code",
      "execution_count": 21,
      "metadata": {
        "id": "UACk7YQI_caL"
      },
      "outputs": [],
      "source": [
        "normal_variable = stats.norm()"
      ]
    },
    {
      "cell_type": "code",
      "execution_count": 22,
      "metadata": {
        "id": "mk8Qf-Vr_cWa"
      },
      "outputs": [],
      "source": [
        "# Generate random numbers\n",
        "normal_values = normal_variable.rvs(size=100000)"
      ]
    },
    {
      "cell_type": "code",
      "execution_count": 23,
      "metadata": {
        "colab": {
          "base_uri": "https://localhost:8080/",
          "height": 265
        },
        "id": "iuaGbo9l_cU5",
        "outputId": "51db8f2e-221d-4ae4-ca1e-b520019afac8"
      },
      "outputs": [
        {
          "data": {
            "image/png": "[encoded data removed]",
            "text/plain": [
              "<Figure size 432x288 with 1 Axes>"
            ]
          },
          "metadata": {
            "needs_background": "light"
          },
          "output_type": "display_data"
        }
      ],
      "source": [
        "plt.hist(normal_values);"
      ]
    },
    {
      "cell_type": "code",
      "execution_count": 26,
      "metadata": {
        "id": "kNlgJ1zh_pxy"
      },
      "outputs": [
        {
          "data": {
            "text/plain": [
              "0.3989422804014327"
            ]
          },
          "execution_count": 26,
          "metadata": {},
          "output_type": "execute_result"
        }
      ],
      "source": [
        "normal_variable.pdf(0.0)"
      ]
    },
    {
      "cell_type": "code",
      "execution_count": 24,
      "metadata": {
        "colab": {
          "base_uri": "https://localhost:8080/",
          "height": 265
        },
        "id": "TmNB-U4HBXej",
        "outputId": "884b617f-6a8d-4ce4-df12-a799b2e1b4f7"
      },
      "outputs": [
        {
          "data": {
            "image/png": "[encoded data removed]",
            "text/plain": [
              "<Figure size 432x288 with 1 Axes>"
            ]
          },
          "metadata": {
            "needs_background": "light"
          },
          "output_type": "display_data"
        }
      ],
      "source": [
        "# Percent point function (ppf): qual o ponto que está nessa % de funcao de prob acumulada\n",
        "# Display the probability density function (pdf)\n",
        "x = np.linspace(normal_variable.ppf(0.01), normal_variable.ppf(0.99), 100)\n",
        "plt.plot(x, normal_variable.pdf(x))\n",
        "plt.grid()\n",
        "\n"
      ]
    },
    {
      "cell_type": "code",
      "execution_count": 25,
      "metadata": {
        "colab": {
          "base_uri": "https://localhost:8080/",
          "height": 265
        },
        "id": "F10ZObDiB4TA",
        "outputId": "0f7b4e10-80fd-4b87-b799-49476a8cbab1"
      },
      "outputs": [
        {
          "data": {
            "image/png": "[encoded data removed]",
            "text/plain": [
              "<Figure size 432x288 with 1 Axes>"
            ]
          },
          "metadata": {
            "needs_background": "light"
          },
          "output_type": "display_data"
        }
      ],
      "source": [
        "# Cumulative distribution function\n",
        "plt.plot(x, normal_variable.cdf(x))\n",
        "plt.grid()"
      ]
    },
    {
      "cell_type": "code",
      "execution_count": null,
      "metadata": {
        "colab": {
          "base_uri": "https://localhost:8080/"
        },
        "id": "npFIPzPKOewt",
        "outputId": "0ca3b36d-ec34-43b6-ad2f-926d411919cb"
      },
      "outputs": [],
      "source": []
    },
    {
      "cell_type": "markdown",
      "metadata": {
        "id": "Ka6Afyt5NDMQ"
      },
      "source": [
        "## Chi-Squared\n",
        "\n",
        "Sendo $Z_{1}$,...$Z_{k}$ variáveis aleatórias com distribuição normal, então Q possui uma distribuição Chi-Squared se:\n",
        "\n",
        "Q = $\\sum_{i=1}^k$ $Z_{i}^2$"
      ]
    },
    {
      "cell_type": "code",
      "execution_count": 28,
      "metadata": {},
      "outputs": [],
      "source": [
        "chi_squared = stats.chi2(2.3)"
      ]
    },
    {
      "cell_type": "code",
      "execution_count": 31,
      "metadata": {},
      "outputs": [
        {
          "data": {
            "image/png": "[encoded data removed]",
            "text/plain": [
              "<Figure size 432x288 with 1 Axes>"
            ]
          },
          "metadata": {
            "needs_background": "light"
          },
          "output_type": "display_data"
        }
      ],
      "source": [
        "x = np.linspace(chi_squared.ppf(0.01), chi_squared.ppf(0.99), 100)\n",
        "plt.plot(x, chi_squared.pdf(x))\n",
        "plt.grid()\n",
        "\n"
      ]
    },
    {
      "cell_type": "code",
      "execution_count": null,
      "metadata": {},
      "outputs": [],
      "source": []
    },
    {
      "cell_type": "code",
      "execution_count": 32,
      "metadata": {
        "id": "7h1eaFwiDIC9"
      },
      "outputs": [],
      "source": [
        "a = 3.5\n",
        "c = 2.1\n",
        "\n",
        "weibull = stats.exponweib(a, c)"
      ]
    },
    {
      "cell_type": "code",
      "execution_count": 33,
      "metadata": {
        "colab": {
          "base_uri": "https://localhost:8080/",
          "height": 268
        },
        "id": "k1Db1utEE46Z",
        "outputId": "4c8d281e-00e1-4594-9bd3-adf91aad2ed2"
      },
      "outputs": [
        {
          "data": {
            "image/png": "[encoded data removed]",
            "text/plain": [
              "<Figure size 432x288 with 1 Axes>"
            ]
          },
          "metadata": {
            "needs_background": "light"
          },
          "output_type": "display_data"
        }
      ],
      "source": [
        "weibull_values = weibull.rvs(size=100000)\n",
        "plt.hist(weibull_values);"
      ]
    },
    {
      "cell_type": "code",
      "execution_count": 34,
      "metadata": {
        "colab": {
          "base_uri": "https://localhost:8080/",
          "height": 265
        },
        "id": "GkD8iD3-FEMz",
        "outputId": "5fa412d5-e23a-490c-abd7-f6be1666b492"
      },
      "outputs": [
        {
          "data": {
            "image/png": "[encoded data removed]",
            "text/plain": [
              "<Figure size 432x288 with 1 Axes>"
            ]
          },
          "metadata": {
            "needs_background": "light"
          },
          "output_type": "display_data"
        }
      ],
      "source": [
        "x = np.linspace(weibull.ppf(0.01), weibull.ppf(0.99), 100)\n",
        "plt.plot(x, weibull.pdf(x))\n",
        "plt.grid()\n"
      ]
    },
    {
      "cell_type": "code",
      "execution_count": null,
      "metadata": {
        "id": "ZhnJ40-kFPLT"
      },
      "outputs": [],
      "source": [
        "import pandas as pd "
      ]
    },
    {
      "cell_type": "code",
      "execution_count": null,
      "metadata": {
        "id": "1tz_OgnfLtTb"
      },
      "outputs": [],
      "source": [
        "df = pd.read_csv('/content/sample_data/california_housing_test.csv')"
      ]
    },
    {
      "cell_type": "code",
      "execution_count": null,
      "metadata": {
        "colab": {
          "base_uri": "https://localhost:8080/",
          "height": 334
        },
        "id": "fBMjHRlGL2HL",
        "outputId": "6fecb874-a9b4-443f-840b-6df0b9699746"
      },
      "outputs": [
        {
          "data": {
            "text/plain": [
              "(array([175., 546., 626., 496., 392., 258., 166., 105.,  70., 166.]),\n",
              " array([ 22500. ,  70250.1, 118000.2, 165750.3, 213500.4, 261250.5,\n",
              "        309000.6, 356750.7, 404500.8, 452250.9, 500001. ]),\n",
              " <a list of 10 Patch objects>)"
            ]
          },
          "metadata": {},
          "output_type": "display_data"
        },
        {
          "data": {
            "image/png": "[encoded data removed]",
            "text/plain": [
              "<Figure size 432x288 with 1 Axes>"
            ]
          },
          "metadata": {},
          "output_type": "display_data"
        }
      ],
      "source": [
        "plt.hist(df['median_house_value'].values)"
      ]
    },
    {
      "cell_type": "code",
      "execution_count": null,
      "metadata": {
        "id": "L54xyyMTL3fZ"
      },
      "outputs": [],
      "source": []
    }
  ],
  "metadata": {
    "colab": {
      "collapsed_sections": [],
      "provenance": []
    },
    "kernelspec": {
      "display_name": "Python 3.9.12 ('base')",
      "language": "python",
      "name": "python3"
    },
    "language_info": {
      "codemirror_mode": {
        "name": "ipython",
        "version": 3
      },
      "file_extension": ".py",
      "mimetype": "text/x-python",
      "name": "python",
      "nbconvert_exporter": "python",
      "pygments_lexer": "ipython3",
      "version": "3.9.12"
    },
    "vscode": {
      "interpreter": {
        "hash": "cea1ecbc9060237308d6f43d2a8f2f7ecb9842b1b44e6cce898a5c7b51f4cadd"
      }
    }
  },
  "nbformat": 4,
  "nbformat_minor": 0
}
