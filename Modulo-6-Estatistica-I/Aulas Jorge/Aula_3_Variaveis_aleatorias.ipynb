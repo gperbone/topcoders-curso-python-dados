{
 "cells": [
  {
   "cell_type": "code",
   "execution_count": 1,
   "id": "nB3qxRJiOjsr",
   "metadata": {
    "ExecuteTime": {
     "end_time": "2021-12-03T08:02:49.645714Z",
     "start_time": "2021-12-03T08:02:49.630142Z"
    },
    "id": "nB3qxRJiOjsr"
   },
   "outputs": [],
   "source": [
    "#Bibliotecas utilizadas\n",
    "import matplotlib.pyplot as plt\n",
    "import seaborn as sns\n",
    "import numpy as np\n",
    "import math\n",
    "from scipy import stats\n",
    "import pandas as pd"
   ]
  },
  {
   "cell_type": "markdown",
   "id": "ea3ac378",
   "metadata": {
    "id": "ea3ac378"
   },
   "source": [
    "## 3. Variáveis Aleatórias\n",
    "\n",
    "Como já vimos no estudo das probabilidades, o conjunto de todos os possíveis resultados de um experimento aleatório é chamado de **espaço amostral**. Os elementos desse conjunto podem ser numéricos ou não. Por exemplo, a idade de uma pessoa é um exemplo de um conjunto numérico.\n",
    "\n",
    "Porém, o estado civil de um indivíduo é algo não numérico. Desta forma, em muitas vezes, para podermos trabalhar probabilisticamente com uma variável não numérica, atribuímos valores para cada elemento do espaço amostral. \n",
    "\n",
    "O resultado de um experimento de probabilidades generalmente é uma contagem ou uma medida. Quando isso ocorre, o resultado é chamado de **variável aleatória**."
   ]
  },
  {
   "cell_type": "code",
   "execution_count": 2,
   "id": "cf1a3605",
   "metadata": {
    "colab": {
     "base_uri": "https://localhost:8080/"
    },
    "id": "cf1a3605",
    "outputId": "d64fc6c4-2948-4334-bd22-808acf509e6b"
   },
   "outputs": [
    {
     "name": "stdout",
     "output_type": "stream",
     "text": [
      " 5040 dos resultados foram cara, isto é, obtemos uma probabilidade de  0.50\n"
     ]
    }
   ],
   "source": [
    "## Lançamento de uma moeda:\n",
    "espaco_amostral = ['cara', 'coroa']\n",
    "\n",
    "num_lancamentos = 10000\n",
    "\n",
    "contador_caras = 0\n",
    "\n",
    "for i in range(num_lancamentos):\n",
    "    x = np.random.choice(espaco_amostral)\n",
    "    if(x == 'cara'):\n",
    "        contador_caras = contador_caras + 1\n",
    "\n",
    "probabilidade_caras = contador_caras / num_lancamentos\n",
    "\n",
    "print(\"{0: d} dos resultados foram cara, isto é, obtemos uma probabilidade de {1: .2f}\".format(contador_caras,probabilidade_caras ))"
   ]
  },
  {
   "cell_type": "markdown",
   "id": "992ae8a8",
   "metadata": {
    "id": "992ae8a8"
   },
   "source": [
    "**Definição:** Uma variável aleatória X representa um valor numérico associado a cada resultado de um experimento de probabilidade. A palavra aleatória indica que os valores assumidos por X são obtidos ao acaso.\n",
    "\n",
    "**Notação:** geralmente, as variáveis aleatórias são representadas por letras maiúsculas (X) enquanto que os valores assumidos por essas variáveis aleatórias são representadas por minúsculas (x). Dessa forma, se escrevermos X=x queremos dizer  que a variável aleatória X assume um valor numérico igual a x.\n",
    "As variáveis aleatórias podem ser de dois tipos: discretas ou contínuas.\n",
    "\n"
   ]
  },
  {
   "cell_type": "markdown",
   "id": "f1076476",
   "metadata": {
    "id": "f1076476"
   },
   "source": [
    "### Variáveis aleatórias discretas\n",
    "\n",
    "Uma variável aleatória é discreta se ela assume um número finito de valores ou assume um número finito de valores enumeráveis (contáveis). Podemos dizer que uma variável é discreta quando seus valores puderem ser listados.\n",
    "\n",
    "Por exemplo: o número de vezes que vou na academia durante uma semana pode ser um valor igual a 0, 1, 2, 3, … Assim, definimos a variável aleatória:\n",
    "\n",
    "- X: número de vezes que vou na academia durante uma semana\n",
    "\n",
    "Os valores que essa variável pode assumir são x=0, 1, 2, 3, … Dessa forma, se escrevermos X=3 estamos dizendo que “o número de vezes que fui na academia durante a semana (X) é igual a 3 (x)”. \n",
    "\n",
    "Exemplo:\n",
    "\n",
    "1) Lançamento de 2 moedas simultâneas\n",
    "\n",
    "Espaço amostral: S={ (cara, cara), (cara, coroa), (coroa, coroa), (coroa, cara) }\n",
    "\n",
    "A variável aleatória X é o número de caras\n",
    "\n",
    "| Ponto Amostral | X |\n",
    "|----------------|---|\n",
    "| (cara, cara)   | 2 |\n",
    "| (cara, coroa)  | 1 |\n",
    "| (coroa, cara)  | 1 |\n",
    "| (coroa, coroa) | 0 |"
   ]
  },
  {
   "cell_type": "markdown",
   "id": "e9873601",
   "metadata": {
    "id": "e9873601"
   },
   "source": [
    "2) Uma obra possui um registro da quantidade de acidentes diários ocorridos no mês de Abril/2021:"
   ]
  },
  {
   "cell_type": "code",
   "execution_count": 3,
   "id": "5d77ac57",
   "metadata": {
    "colab": {
     "base_uri": "https://localhost:8080/",
     "height": 334
    },
    "id": "5d77ac57",
    "outputId": "ec98faf7-93e0-4aa9-fb1c-412e0719f85a",
    "scrolled": true
   },
   "outputs": [
    {
     "data": {
      "image/png": "[encoded data removed]",
      "text/plain": [
       "<Figure size 864x360 with 1 Axes>"
      ]
     },
     "metadata": {
      "needs_background": "light"
     },
     "output_type": "display_data"
    }
   ],
   "source": [
    "acidentes_por_dia = [0,0,0,0,1,2,0,0,0,3,0,0,0,0,1,1,2,0,0,0,0,0,0,1,0,0,1,0,0,0]\n",
    "dias = range(1,31)\n",
    "plt.figure(figsize=(12,5))\n",
    "plt.bar(dias, acidentes_por_dia)\n",
    "plt.xticks(dias)\n",
    "plt.yticks([1,2,3])\n",
    "plt.xlabel('Dia')\n",
    "plt.ylabel('Acidentes')\n",
    "plt.grid()\n",
    "plt.show()\n"
   ]
  },
  {
   "cell_type": "markdown",
   "id": "8fda4d65",
   "metadata": {
    "id": "8fda4d65"
   },
   "source": [
    "Com esses dados, podemos construir a sua tabela de frequências."
   ]
  },
  {
   "cell_type": "code",
   "execution_count": 4,
   "id": "61d80ad0",
   "metadata": {
    "colab": {
     "base_uri": "https://localhost:8080/"
    },
    "id": "61d80ad0",
    "outputId": "34fda07f-01fb-4f45-e245-5927db5decd5",
    "scrolled": true
   },
   "outputs": [
    {
     "data": {
      "text/plain": [
       "acidentes_por_dia\n",
       "0                    22\n",
       "1                     5\n",
       "2                     2\n",
       "3                     1\n",
       "dtype: int64"
      ]
     },
     "execution_count": 4,
     "metadata": {},
     "output_type": "execute_result"
    }
   ],
   "source": [
    "acidentes = pd.DataFrame(data={'acidentes_por_dia':acidentes_por_dia},index=dias)\n",
    "freq = acidentes.value_counts()\n",
    "freq"
   ]
  },
  {
   "cell_type": "markdown",
   "id": "fbcc3bf2",
   "metadata": {
    "id": "fbcc3bf2"
   },
   "source": [
    "Em um dia, a probabilidade de:\n",
    "\n",
    "* Não ocorrer acidente:"
   ]
  },
  {
   "cell_type": "code",
   "execution_count": 5,
   "id": "0fc82362",
   "metadata": {
    "colab": {
     "base_uri": "https://localhost:8080/"
    },
    "id": "0fc82362",
    "outputId": "4810d88e-0755-4ee5-9f73-710799f29d45",
    "scrolled": true
   },
   "outputs": [
    {
     "data": {
      "text/plain": [
       "0.7333333333333333"
      ]
     },
     "execution_count": 5,
     "metadata": {},
     "output_type": "execute_result"
    }
   ],
   "source": [
    "acidentes.head()\n",
    "freq[0] / freq.sum()\n"
   ]
  },
  {
   "cell_type": "markdown",
   "id": "8600ba63",
   "metadata": {
    "id": "8600ba63"
   },
   "source": [
    "* Ocorrer 1 acidente:"
   ]
  },
  {
   "cell_type": "code",
   "execution_count": 6,
   "id": "4c31e78f",
   "metadata": {
    "colab": {
     "base_uri": "https://localhost:8080/"
    },
    "id": "4c31e78f",
    "outputId": "23c618e7-5590-45e0-d80e-dc848cc7148c"
   },
   "outputs": [
    {
     "data": {
      "text/plain": [
       "0.16666666666666666"
      ]
     },
     "execution_count": 6,
     "metadata": {},
     "output_type": "execute_result"
    }
   ],
   "source": [
    "freq[1]/freq.sum()"
   ]
  },
  {
   "cell_type": "markdown",
   "id": "0d2dfccc",
   "metadata": {
    "id": "0d2dfccc"
   },
   "source": [
    "* Ocorrerem 2 acidentes:"
   ]
  },
  {
   "cell_type": "code",
   "execution_count": 7,
   "id": "12fc5813",
   "metadata": {
    "colab": {
     "base_uri": "https://localhost:8080/"
    },
    "id": "12fc5813",
    "outputId": "b64111e7-655f-44b4-db6b-364449b442c2"
   },
   "outputs": [
    {
     "data": {
      "text/plain": [
       "0.06666666666666667"
      ]
     },
     "execution_count": 7,
     "metadata": {},
     "output_type": "execute_result"
    }
   ],
   "source": [
    "freq[2]/freq.sum()"
   ]
  },
  {
   "cell_type": "markdown",
   "id": "31d10de4",
   "metadata": {
    "id": "31d10de4"
   },
   "source": [
    "* Ocorrerem 3 acidentes:"
   ]
  },
  {
   "cell_type": "code",
   "execution_count": 8,
   "id": "33eb5913",
   "metadata": {
    "colab": {
     "base_uri": "https://localhost:8080/"
    },
    "id": "33eb5913",
    "outputId": "a3395316-35db-4fef-f254-6036cba15b9e",
    "scrolled": true
   },
   "outputs": [
    {
     "data": {
      "text/plain": [
       "0.03333333333333333"
      ]
     },
     "execution_count": 8,
     "metadata": {},
     "output_type": "execute_result"
    }
   ],
   "source": [
    "freq[3]/freq.sum()"
   ]
  },
  {
   "cell_type": "markdown",
   "id": "c071f6cb",
   "metadata": {
    "id": "c071f6cb"
   },
   "source": [
    "Outro modo de calcular essas probabilidades:"
   ]
  },
  {
   "cell_type": "code",
   "execution_count": 9,
   "id": "5418dbb2",
   "metadata": {
    "colab": {
     "base_uri": "https://localhost:8080/"
    },
    "id": "5418dbb2",
    "outputId": "b1e3b2eb-4cdd-4399-a64e-52dc926abb27"
   },
   "outputs": [
    {
     "data": {
      "text/plain": [
       "acidentes_por_dia\n",
       "0                    0.733333\n",
       "1                    0.166667\n",
       "2                    0.066667\n",
       "3                    0.033333\n",
       "dtype: float64"
      ]
     },
     "execution_count": 9,
     "metadata": {},
     "output_type": "execute_result"
    }
   ],
   "source": [
    "dist_prob = acidentes.value_counts(normalize=True)\n",
    "dist_prob"
   ]
  },
  {
   "cell_type": "markdown",
   "id": "2ce26aa2",
   "metadata": {
    "id": "2ce26aa2"
   },
   "source": [
    "Essa tabela é denominada **distribuição de probabilidade**\n",
    "    \n",
    "| Número de acidentes | Probabilidades |\n",
    "|---------------------|----------------|\n",
    "| 0                   | 0.73           |\n",
    "| 1                   | 0.17           |\n",
    "| 2                   | 0.07           |\n",
    "| 3                   | 0.03           |\n",
    "|                     | **Soma = 1**   |\n",
    "\n",
    "Relação entre a variável aleatória $X$ (número de acidentes) e os valores da função $P$, que é denominada probabilidade:\n",
    "  \n",
    "$$f(x_i) = P(X = x_i)$$\n",
    "  \n",
    "A função $P(X = x_i)$ determina a distribuição de probabilidade da variável aleatória $X$."
   ]
  },
  {
   "cell_type": "markdown",
   "id": "e11ae13b",
   "metadata": {
    "id": "e11ae13b"
   },
   "source": [
    "**Voltando no exemplo das moedas:**\n",
    "\n",
    "Espaço amostral de 2 moedas S = {(cara, cara), (cara, coroa), (coroa, coroa), (coroa, cara)}\n",
    "\n",
    "* Qual a probabilidade de não aparecer cara $(x_i = 0)$? \n",
    "    - A = [(coroa,coroa)]\n",
    "    - $p_{A} = 1/4$\n",
    "\n",
    "* Qual a probabilidade de aparecer uma cara $(x_i = 1)$?\n",
    "    - B = [(cara, coroa),(coroa, cara)]?\n",
    "    - $p_{B} = 1/2$\n",
    "\n",
    "* Qual a probabilidade de aparecerem duas caras $(x_i = 2)$?\n",
    "    - C = [(cara, cara)]? \n",
    "    - $p_{C} = 1/4$\n",
    "\n",
    "Essa tabela é a distribuição de probabilidade:\n",
    "\n",
    "| Número de caras  | $$P(X=x_i)$$  |\n",
    "|------------------|--------------|\n",
    "| 2                |  1/4         |\n",
    "| 1                |  2/4=1/2     |\n",
    "| 0                |  1/4         |\n",
    "|                  | **soma = 1** |"
   ]
  },
  {
   "cell_type": "markdown",
   "id": "7ebfdb6c",
   "metadata": {
    "id": "7ebfdb6c"
   },
   "source": [
    "Represetação gráfica da tabela de distribuição de probabilidade"
   ]
  },
  {
   "cell_type": "code",
   "execution_count": 10,
   "id": "6b41fe34",
   "metadata": {
    "ExecuteTime": {
     "end_time": "2021-12-03T21:49:58.092250Z",
     "start_time": "2021-12-03T21:49:57.709595Z"
    },
    "colab": {
     "base_uri": "https://localhost:8080/",
     "height": 297
    },
    "id": "6b41fe34",
    "outputId": "8d607b19-fc37-4cda-e67f-4b6dbb5712ed",
    "scrolled": true
   },
   "outputs": [
    {
     "data": {
      "image/png": "[encoded data removed]",
      "text/plain": [
       "<Figure size 432x288 with 1 Axes>"
      ]
     },
     "metadata": {
      "needs_background": "light"
     },
     "output_type": "display_data"
    }
   ],
   "source": [
    "plt.bar(x=[0,1,2], height=[1/4,1/2,1/4])\n",
    "plt.title('Distribuição de Probabilidade do lançamento de 2 moedas simultaneamente')\n",
    "plt.ylabel(r'$P(X=x_i)$')\n",
    "plt.xlabel(r'$x_i$')\n",
    "plt.xticks([0,1,2])\n",
    "plt.yticks([1/4,1/2])\n",
    "plt.grid()\n",
    "plt.show()"
   ]
  },
  {
   "cell_type": "code",
   "execution_count": 11,
   "id": "7bcd5b4c",
   "metadata": {
    "colab": {
     "base_uri": "https://localhost:8080/",
     "height": 380
    },
    "id": "7bcd5b4c",
    "outputId": "29b017f6-f086-46a2-fc63-8d2903e2902b"
   },
   "outputs": [
    {
     "ename": "FileNotFoundError",
     "evalue": "[Errno 2] No such file or directory: 'weather.csv'",
     "output_type": "error",
     "traceback": [
      "\u001b[0;31m---------------------------------------------------------------------------\u001b[0m",
      "\u001b[0;31mFileNotFoundError\u001b[0m                         Traceback (most recent call last)",
      "Input \u001b[0;32mIn [11]\u001b[0m, in \u001b[0;36m<cell line: 3>\u001b[0;34m()\u001b[0m\n\u001b[1;32m      1\u001b[0m \u001b[38;5;66;03m## Exercício: Identificar variáveis discretas no dataset 'weather'\u001b[39;00m\n\u001b[0;32m----> 3\u001b[0m df_weather \u001b[38;5;241m=\u001b[39m \u001b[43mpd\u001b[49m\u001b[38;5;241;43m.\u001b[39;49m\u001b[43mread_csv\u001b[49m\u001b[43m(\u001b[49m\u001b[38;5;124;43m'\u001b[39;49m\u001b[38;5;124;43mweather.csv\u001b[39;49m\u001b[38;5;124;43m'\u001b[39;49m\u001b[43m)\u001b[49m\n\u001b[1;32m      5\u001b[0m df_weather\u001b[38;5;241m.\u001b[39mnunique()\n",
      "File \u001b[0;32m~/opt/anaconda3/lib/python3.9/site-packages/pandas/util/_decorators.py:311\u001b[0m, in \u001b[0;36mdeprecate_nonkeyword_arguments.<locals>.decorate.<locals>.wrapper\u001b[0;34m(*args, **kwargs)\u001b[0m\n\u001b[1;32m    305\u001b[0m \u001b[38;5;28;01mif\u001b[39;00m \u001b[38;5;28mlen\u001b[39m(args) \u001b[38;5;241m>\u001b[39m num_allow_args:\n\u001b[1;32m    306\u001b[0m     warnings\u001b[38;5;241m.\u001b[39mwarn(\n\u001b[1;32m    307\u001b[0m         msg\u001b[38;5;241m.\u001b[39mformat(arguments\u001b[38;5;241m=\u001b[39marguments),\n\u001b[1;32m    308\u001b[0m         \u001b[38;5;167;01mFutureWarning\u001b[39;00m,\n\u001b[1;32m    309\u001b[0m         stacklevel\u001b[38;5;241m=\u001b[39mstacklevel,\n\u001b[1;32m    310\u001b[0m     )\n\u001b[0;32m--> 311\u001b[0m \u001b[38;5;28;01mreturn\u001b[39;00m \u001b[43mfunc\u001b[49m\u001b[43m(\u001b[49m\u001b[38;5;241;43m*\u001b[39;49m\u001b[43margs\u001b[49m\u001b[43m,\u001b[49m\u001b[43m \u001b[49m\u001b[38;5;241;43m*\u001b[39;49m\u001b[38;5;241;43m*\u001b[39;49m\u001b[43mkwargs\u001b[49m\u001b[43m)\u001b[49m\n",
      "File \u001b[0;32m~/opt/anaconda3/lib/python3.9/site-packages/pandas/io/parsers/readers.py:680\u001b[0m, in \u001b[0;36mread_csv\u001b[0;34m(filepath_or_buffer, sep, delimiter, header, names, index_col, usecols, squeeze, prefix, mangle_dupe_cols, dtype, engine, converters, true_values, false_values, skipinitialspace, skiprows, skipfooter, nrows, na_values, keep_default_na, na_filter, verbose, skip_blank_lines, parse_dates, infer_datetime_format, keep_date_col, date_parser, dayfirst, cache_dates, iterator, chunksize, compression, thousands, decimal, lineterminator, quotechar, quoting, doublequote, escapechar, comment, encoding, encoding_errors, dialect, error_bad_lines, warn_bad_lines, on_bad_lines, delim_whitespace, low_memory, memory_map, float_precision, storage_options)\u001b[0m\n\u001b[1;32m    665\u001b[0m kwds_defaults \u001b[38;5;241m=\u001b[39m _refine_defaults_read(\n\u001b[1;32m    666\u001b[0m     dialect,\n\u001b[1;32m    667\u001b[0m     delimiter,\n\u001b[0;32m   (...)\u001b[0m\n\u001b[1;32m    676\u001b[0m     defaults\u001b[38;5;241m=\u001b[39m{\u001b[38;5;124m\"\u001b[39m\u001b[38;5;124mdelimiter\u001b[39m\u001b[38;5;124m\"\u001b[39m: \u001b[38;5;124m\"\u001b[39m\u001b[38;5;124m,\u001b[39m\u001b[38;5;124m\"\u001b[39m},\n\u001b[1;32m    677\u001b[0m )\n\u001b[1;32m    678\u001b[0m kwds\u001b[38;5;241m.\u001b[39mupdate(kwds_defaults)\n\u001b[0;32m--> 680\u001b[0m \u001b[38;5;28;01mreturn\u001b[39;00m \u001b[43m_read\u001b[49m\u001b[43m(\u001b[49m\u001b[43mfilepath_or_buffer\u001b[49m\u001b[43m,\u001b[49m\u001b[43m \u001b[49m\u001b[43mkwds\u001b[49m\u001b[43m)\u001b[49m\n",
      "File \u001b[0;32m~/opt/anaconda3/lib/python3.9/site-packages/pandas/io/parsers/readers.py:575\u001b[0m, in \u001b[0;36m_read\u001b[0;34m(filepath_or_buffer, kwds)\u001b[0m\n\u001b[1;32m    572\u001b[0m _validate_names(kwds\u001b[38;5;241m.\u001b[39mget(\u001b[38;5;124m\"\u001b[39m\u001b[38;5;124mnames\u001b[39m\u001b[38;5;124m\"\u001b[39m, \u001b[38;5;28;01mNone\u001b[39;00m))\n\u001b[1;32m    574\u001b[0m \u001b[38;5;66;03m# Create the parser.\u001b[39;00m\n\u001b[0;32m--> 575\u001b[0m parser \u001b[38;5;241m=\u001b[39m \u001b[43mTextFileReader\u001b[49m\u001b[43m(\u001b[49m\u001b[43mfilepath_or_buffer\u001b[49m\u001b[43m,\u001b[49m\u001b[43m \u001b[49m\u001b[38;5;241;43m*\u001b[39;49m\u001b[38;5;241;43m*\u001b[39;49m\u001b[43mkwds\u001b[49m\u001b[43m)\u001b[49m\n\u001b[1;32m    577\u001b[0m \u001b[38;5;28;01mif\u001b[39;00m chunksize \u001b[38;5;129;01mor\u001b[39;00m iterator:\n\u001b[1;32m    578\u001b[0m     \u001b[38;5;28;01mreturn\u001b[39;00m parser\n",
      "File \u001b[0;32m~/opt/anaconda3/lib/python3.9/site-packages/pandas/io/parsers/readers.py:933\u001b[0m, in \u001b[0;36mTextFileReader.__init__\u001b[0;34m(self, f, engine, **kwds)\u001b[0m\n\u001b[1;32m    930\u001b[0m     \u001b[38;5;28mself\u001b[39m\u001b[38;5;241m.\u001b[39moptions[\u001b[38;5;124m\"\u001b[39m\u001b[38;5;124mhas_index_names\u001b[39m\u001b[38;5;124m\"\u001b[39m] \u001b[38;5;241m=\u001b[39m kwds[\u001b[38;5;124m\"\u001b[39m\u001b[38;5;124mhas_index_names\u001b[39m\u001b[38;5;124m\"\u001b[39m]\n\u001b[1;32m    932\u001b[0m \u001b[38;5;28mself\u001b[39m\u001b[38;5;241m.\u001b[39mhandles: IOHandles \u001b[38;5;241m|\u001b[39m \u001b[38;5;28;01mNone\u001b[39;00m \u001b[38;5;241m=\u001b[39m \u001b[38;5;28;01mNone\u001b[39;00m\n\u001b[0;32m--> 933\u001b[0m \u001b[38;5;28mself\u001b[39m\u001b[38;5;241m.\u001b[39m_engine \u001b[38;5;241m=\u001b[39m \u001b[38;5;28;43mself\u001b[39;49m\u001b[38;5;241;43m.\u001b[39;49m\u001b[43m_make_engine\u001b[49m\u001b[43m(\u001b[49m\u001b[43mf\u001b[49m\u001b[43m,\u001b[49m\u001b[43m \u001b[49m\u001b[38;5;28;43mself\u001b[39;49m\u001b[38;5;241;43m.\u001b[39;49m\u001b[43mengine\u001b[49m\u001b[43m)\u001b[49m\n",
      "File \u001b[0;32m~/opt/anaconda3/lib/python3.9/site-packages/pandas/io/parsers/readers.py:1217\u001b[0m, in \u001b[0;36mTextFileReader._make_engine\u001b[0;34m(self, f, engine)\u001b[0m\n\u001b[1;32m   1213\u001b[0m     mode \u001b[38;5;241m=\u001b[39m \u001b[38;5;124m\"\u001b[39m\u001b[38;5;124mrb\u001b[39m\u001b[38;5;124m\"\u001b[39m\n\u001b[1;32m   1214\u001b[0m \u001b[38;5;66;03m# error: No overload variant of \"get_handle\" matches argument types\u001b[39;00m\n\u001b[1;32m   1215\u001b[0m \u001b[38;5;66;03m# \"Union[str, PathLike[str], ReadCsvBuffer[bytes], ReadCsvBuffer[str]]\"\u001b[39;00m\n\u001b[1;32m   1216\u001b[0m \u001b[38;5;66;03m# , \"str\", \"bool\", \"Any\", \"Any\", \"Any\", \"Any\", \"Any\"\u001b[39;00m\n\u001b[0;32m-> 1217\u001b[0m \u001b[38;5;28mself\u001b[39m\u001b[38;5;241m.\u001b[39mhandles \u001b[38;5;241m=\u001b[39m \u001b[43mget_handle\u001b[49m\u001b[43m(\u001b[49m\u001b[43m  \u001b[49m\u001b[38;5;66;43;03m# type: ignore[call-overload]\u001b[39;49;00m\n\u001b[1;32m   1218\u001b[0m \u001b[43m    \u001b[49m\u001b[43mf\u001b[49m\u001b[43m,\u001b[49m\n\u001b[1;32m   1219\u001b[0m \u001b[43m    \u001b[49m\u001b[43mmode\u001b[49m\u001b[43m,\u001b[49m\n\u001b[1;32m   1220\u001b[0m \u001b[43m    \u001b[49m\u001b[43mencoding\u001b[49m\u001b[38;5;241;43m=\u001b[39;49m\u001b[38;5;28;43mself\u001b[39;49m\u001b[38;5;241;43m.\u001b[39;49m\u001b[43moptions\u001b[49m\u001b[38;5;241;43m.\u001b[39;49m\u001b[43mget\u001b[49m\u001b[43m(\u001b[49m\u001b[38;5;124;43m\"\u001b[39;49m\u001b[38;5;124;43mencoding\u001b[39;49m\u001b[38;5;124;43m\"\u001b[39;49m\u001b[43m,\u001b[49m\u001b[43m \u001b[49m\u001b[38;5;28;43;01mNone\u001b[39;49;00m\u001b[43m)\u001b[49m\u001b[43m,\u001b[49m\n\u001b[1;32m   1221\u001b[0m \u001b[43m    \u001b[49m\u001b[43mcompression\u001b[49m\u001b[38;5;241;43m=\u001b[39;49m\u001b[38;5;28;43mself\u001b[39;49m\u001b[38;5;241;43m.\u001b[39;49m\u001b[43moptions\u001b[49m\u001b[38;5;241;43m.\u001b[39;49m\u001b[43mget\u001b[49m\u001b[43m(\u001b[49m\u001b[38;5;124;43m\"\u001b[39;49m\u001b[38;5;124;43mcompression\u001b[39;49m\u001b[38;5;124;43m\"\u001b[39;49m\u001b[43m,\u001b[49m\u001b[43m \u001b[49m\u001b[38;5;28;43;01mNone\u001b[39;49;00m\u001b[43m)\u001b[49m\u001b[43m,\u001b[49m\n\u001b[1;32m   1222\u001b[0m \u001b[43m    \u001b[49m\u001b[43mmemory_map\u001b[49m\u001b[38;5;241;43m=\u001b[39;49m\u001b[38;5;28;43mself\u001b[39;49m\u001b[38;5;241;43m.\u001b[39;49m\u001b[43moptions\u001b[49m\u001b[38;5;241;43m.\u001b[39;49m\u001b[43mget\u001b[49m\u001b[43m(\u001b[49m\u001b[38;5;124;43m\"\u001b[39;49m\u001b[38;5;124;43mmemory_map\u001b[39;49m\u001b[38;5;124;43m\"\u001b[39;49m\u001b[43m,\u001b[49m\u001b[43m \u001b[49m\u001b[38;5;28;43;01mFalse\u001b[39;49;00m\u001b[43m)\u001b[49m\u001b[43m,\u001b[49m\n\u001b[1;32m   1223\u001b[0m \u001b[43m    \u001b[49m\u001b[43mis_text\u001b[49m\u001b[38;5;241;43m=\u001b[39;49m\u001b[43mis_text\u001b[49m\u001b[43m,\u001b[49m\n\u001b[1;32m   1224\u001b[0m \u001b[43m    \u001b[49m\u001b[43merrors\u001b[49m\u001b[38;5;241;43m=\u001b[39;49m\u001b[38;5;28;43mself\u001b[39;49m\u001b[38;5;241;43m.\u001b[39;49m\u001b[43moptions\u001b[49m\u001b[38;5;241;43m.\u001b[39;49m\u001b[43mget\u001b[49m\u001b[43m(\u001b[49m\u001b[38;5;124;43m\"\u001b[39;49m\u001b[38;5;124;43mencoding_errors\u001b[39;49m\u001b[38;5;124;43m\"\u001b[39;49m\u001b[43m,\u001b[49m\u001b[43m \u001b[49m\u001b[38;5;124;43m\"\u001b[39;49m\u001b[38;5;124;43mstrict\u001b[39;49m\u001b[38;5;124;43m\"\u001b[39;49m\u001b[43m)\u001b[49m\u001b[43m,\u001b[49m\n\u001b[1;32m   1225\u001b[0m \u001b[43m    \u001b[49m\u001b[43mstorage_options\u001b[49m\u001b[38;5;241;43m=\u001b[39;49m\u001b[38;5;28;43mself\u001b[39;49m\u001b[38;5;241;43m.\u001b[39;49m\u001b[43moptions\u001b[49m\u001b[38;5;241;43m.\u001b[39;49m\u001b[43mget\u001b[49m\u001b[43m(\u001b[49m\u001b[38;5;124;43m\"\u001b[39;49m\u001b[38;5;124;43mstorage_options\u001b[39;49m\u001b[38;5;124;43m\"\u001b[39;49m\u001b[43m,\u001b[49m\u001b[43m \u001b[49m\u001b[38;5;28;43;01mNone\u001b[39;49;00m\u001b[43m)\u001b[49m\u001b[43m,\u001b[49m\n\u001b[1;32m   1226\u001b[0m \u001b[43m\u001b[49m\u001b[43m)\u001b[49m\n\u001b[1;32m   1227\u001b[0m \u001b[38;5;28;01massert\u001b[39;00m \u001b[38;5;28mself\u001b[39m\u001b[38;5;241m.\u001b[39mhandles \u001b[38;5;129;01mis\u001b[39;00m \u001b[38;5;129;01mnot\u001b[39;00m \u001b[38;5;28;01mNone\u001b[39;00m\n\u001b[1;32m   1228\u001b[0m f \u001b[38;5;241m=\u001b[39m \u001b[38;5;28mself\u001b[39m\u001b[38;5;241m.\u001b[39mhandles\u001b[38;5;241m.\u001b[39mhandle\n",
      "File \u001b[0;32m~/opt/anaconda3/lib/python3.9/site-packages/pandas/io/common.py:789\u001b[0m, in \u001b[0;36mget_handle\u001b[0;34m(path_or_buf, mode, encoding, compression, memory_map, is_text, errors, storage_options)\u001b[0m\n\u001b[1;32m    784\u001b[0m \u001b[38;5;28;01melif\u001b[39;00m \u001b[38;5;28misinstance\u001b[39m(handle, \u001b[38;5;28mstr\u001b[39m):\n\u001b[1;32m    785\u001b[0m     \u001b[38;5;66;03m# Check whether the filename is to be opened in binary mode.\u001b[39;00m\n\u001b[1;32m    786\u001b[0m     \u001b[38;5;66;03m# Binary mode does not support 'encoding' and 'newline'.\u001b[39;00m\n\u001b[1;32m    787\u001b[0m     \u001b[38;5;28;01mif\u001b[39;00m ioargs\u001b[38;5;241m.\u001b[39mencoding \u001b[38;5;129;01mand\u001b[39;00m \u001b[38;5;124m\"\u001b[39m\u001b[38;5;124mb\u001b[39m\u001b[38;5;124m\"\u001b[39m \u001b[38;5;129;01mnot\u001b[39;00m \u001b[38;5;129;01min\u001b[39;00m ioargs\u001b[38;5;241m.\u001b[39mmode:\n\u001b[1;32m    788\u001b[0m         \u001b[38;5;66;03m# Encoding\u001b[39;00m\n\u001b[0;32m--> 789\u001b[0m         handle \u001b[38;5;241m=\u001b[39m \u001b[38;5;28;43mopen\u001b[39;49m\u001b[43m(\u001b[49m\n\u001b[1;32m    790\u001b[0m \u001b[43m            \u001b[49m\u001b[43mhandle\u001b[49m\u001b[43m,\u001b[49m\n\u001b[1;32m    791\u001b[0m \u001b[43m            \u001b[49m\u001b[43mioargs\u001b[49m\u001b[38;5;241;43m.\u001b[39;49m\u001b[43mmode\u001b[49m\u001b[43m,\u001b[49m\n\u001b[1;32m    792\u001b[0m \u001b[43m            \u001b[49m\u001b[43mencoding\u001b[49m\u001b[38;5;241;43m=\u001b[39;49m\u001b[43mioargs\u001b[49m\u001b[38;5;241;43m.\u001b[39;49m\u001b[43mencoding\u001b[49m\u001b[43m,\u001b[49m\n\u001b[1;32m    793\u001b[0m \u001b[43m            \u001b[49m\u001b[43merrors\u001b[49m\u001b[38;5;241;43m=\u001b[39;49m\u001b[43merrors\u001b[49m\u001b[43m,\u001b[49m\n\u001b[1;32m    794\u001b[0m \u001b[43m            \u001b[49m\u001b[43mnewline\u001b[49m\u001b[38;5;241;43m=\u001b[39;49m\u001b[38;5;124;43m\"\u001b[39;49m\u001b[38;5;124;43m\"\u001b[39;49m\u001b[43m,\u001b[49m\n\u001b[1;32m    795\u001b[0m \u001b[43m        \u001b[49m\u001b[43m)\u001b[49m\n\u001b[1;32m    796\u001b[0m     \u001b[38;5;28;01melse\u001b[39;00m:\n\u001b[1;32m    797\u001b[0m         \u001b[38;5;66;03m# Binary mode\u001b[39;00m\n\u001b[1;32m    798\u001b[0m         handle \u001b[38;5;241m=\u001b[39m \u001b[38;5;28mopen\u001b[39m(handle, ioargs\u001b[38;5;241m.\u001b[39mmode)\n",
      "\u001b[0;31mFileNotFoundError\u001b[0m: [Errno 2] No such file or directory: 'weather.csv'"
     ]
    }
   ],
   "source": [
    "## Exercício: Identificar variáveis discretas no dataset 'weather'\n",
    "\n",
    "df_weather = pd.read_csv('weather.csv')\n",
    "\n",
    "df_weather.nunique()\n"
   ]
  },
  {
   "cell_type": "markdown",
   "id": "13135654",
   "metadata": {
    "id": "13135654"
   },
   "source": [
    "Experimento que mostra a distribuição de probabilidade:\n",
    "\n",
    "https://www.youtube.com/watch?v=Vo9Esp1yaC8"
   ]
  },
  {
   "cell_type": "markdown",
   "id": "8d3f5970",
   "metadata": {
    "id": "8d3f5970"
   },
   "source": [
    "### Variáveis aleatórias contínuas\n",
    "\n",
    "Uma variável aleatória é contínua se ela possui um número incontável de possíveis resultados. Ou seja, uma variável é dita contínua quando os valores que ela pode assumir poderem ser representados como um intervalo na reta de números reais. Neste caso, os valores assumidos por uma variável contínua não podem ser listados, visto que são infinitos os possíveis valores dessa variável.\n",
    "\n",
    "Por exemplo: consideremos o tempo que fico na academia em minutos (incluindo frações de minutos). Neste caso, podemos definir uma variável aleatória Y da seguinte forma:\n",
    "\n",
    "Y: tempo que fico na academia em minutos\n",
    "\n",
    "Perceba que os valores de Y podem assumir qualquer valor em um intervalo real. Suponhamos, para facilitar, que o tempo máximo que fico na academia seja de 90 minutos. Neste caso, os valores y pertencem ao intervalo [0, 90]\n"
   ]
  },
  {
   "cell_type": "markdown",
   "id": "dd0b52c6",
   "metadata": {
    "id": "dd0b52c6"
   },
   "source": [
    "## 3.1 Distribuições de Probabilidade\n",
    "\n",
    "Uma **distribuição de probabilidade** é uma função que descreve o comportamento aleatório de um fenômeno dependente do acaso.\n",
    "\n",
    "A distribuição de probabilidade pode **modelar incertezas** e descrever fenômenos físicos, biológicos, econômicos, entre outros.\n",
    "\n",
    "Para representar a distribuição matematicamente, frequentemente utilizamos a função de probabilidade (variáveis aleatórias discretas) ou [função densidade de probabilidade](https://en.wikipedia.org/wiki/Probability_density_function) (variáveis aleatórias contínuas) . Esta última função é tal que a **probabilidade** da variável aleatória cair em uma faixa particular é dada **pela integral da densidade dessa variável sobre tal faixa** - isto é, é dada pela área abaixo da função densidade mas acima do eixo horizontal e entre o menor e o maior valor dessa faixa.\n",
    "\n",
    "<img src=\"https://work.thaslwanter.at/Stats/html/_images/PDF.png\" width=400>\n",
    "\n",
    "Há muitas distribuições de probabilidade diferentes.\n",
    "\n",
    "Entre as distribuições de probabilidade, a **distribuição normal** tem uma importância particular.\n",
    "\n",
    "### 3.1.2 Função Distribuição de Probabilidade Acumulada\n",
    "\n",
    "A Função Distribuição de Probabilidade Acumulada (Cumulative Distribution Function - CDF) é uma função que nos retorna a soma das probabilidades de todos os valores assumidos pela variável aleatória até um certo valor $x_i$. Ela é representada por $P(X \\leq x_i)$.\n",
    "\n",
    "<img src='cdf.png' width=400>"
   ]
  },
  {
   "cell_type": "markdown",
   "id": "AdbaYf5ZOjs6",
   "metadata": {
    "id": "AdbaYf5ZOjs6"
   },
   "source": [
    "## 3.2 Esperança e variância de uma variável aleatória discreta\n",
    "\n",
    "Em Estatística, em teoria das probabilidades, o valor esperado, também chamado esperança matemática ou expectância, de uma variável aleatória é a soma do produto de cada probabilidade de saída da experiência pelo seu respectivo valor.\n",
    "\n",
    "\n",
    "A média, valor esperado ou esperança de uma variável X é dada pela expressão:\n",
    "$$ [ E(X) = \\sum_{i=1}^{k} x_{i} p_{i}]$$\n",
    "\n",
    "    \n",
    "Já a Variância é:\n",
    "$$ Var(X) = \\sum_{i=1}^{n}p_i(x_i-\\mu)^{2}$$\n",
    "\n",
    "Uma forma alternativa para calcular a variância, utilizando a Esperança, é:\n",
    "\n",
    "$$ [ Var(X) = E(X^2) - [E(X)]^2 ]$$"
   ]
  },
  {
   "cell_type": "markdown",
   "id": "otf24WthOjs6",
   "metadata": {
    "id": "otf24WthOjs6"
   },
   "source": [
    "Exemplo:\n",
    "    \n",
    "Sabendo que um grupo de amigos compra um cartão de rifa a cada mês e que todo mês são vendidos mil bilhetes do sorteio por 1,00 real cada. Cada bilhete tem uma chance igual de ganhar o prêmio, sendo o primeiro prêmio de 300,00 reais, o segundo de 200,00 reais e o terceiro de 100,00 reais. Qual o ganho líquido potencial ao se comprar um desses bilhetes, ou seja, qual será o valor esperado de X?\n",
    "\n",
    "\n",
    "|  X | P(X) |\n",
    "|---|---|\n",
    "| 300 - 1 = 299  | 1/1000  |\n",
    "| 200 - 1 = 199  | 1/1000  |\n",
    "| 100 - 1 = 99  | 1/1000  |\n",
    "|  0 - 1 = -1 | 997/1000  |\n",
    "\n",
    "O valor esperado da rifa é:\n",
    "\n",
    "$$[E(X) = (299 * 0.001) + (199 * 0.001) + (99 * 0.001) + ((-1) * 0.997) = - 0.4 ]$$\n",
    "\n",
    "Sabendo que:\n",
    "\n",
    "$$[E(X^2) = (299^2 * 0.001) + (199^2 * 0.001) + (99^2 * 0.001) + ((-1)^2 * 0.997)) = 139.8]$$\n",
    "\n",
    "A variância da rifa será:\n",
    "\n",
    "$$[Var(X) = E(X^2) - [E(X)]^2 = 139.8 - (-0.4)^2 = 139.64 ]$$\n",
    "\n",
    "Calculando o desvio padrão:\n",
    "\n",
    "$$ Dp(X) = \\sqrt{Var(X)} = \\sqrt{139.64} \\approx 11.82$$"
   ]
  },
  {
   "cell_type": "code",
   "execution_count": 12,
   "id": "48616880",
   "metadata": {
    "colab": {
     "base_uri": "https://localhost:8080/"
    },
    "id": "48616880",
    "outputId": "50718da8-121c-4c72-b771-9c62d96bfcc5"
   },
   "outputs": [
    {
     "name": "stdout",
     "output_type": "stream",
     "text": [
      "Esperança =  -0.4\n"
     ]
    }
   ],
   "source": [
    "#Calculando a Esperança e a variância\n",
    "\n",
    "prob = [1/1000, 1/1000, 1/1000, 997/1000]\n",
    "\n",
    "X = [299, 199, 99, -1]\n",
    "\n",
    "#Calculando a esperança de X\n",
    "\n",
    "esperanca = np.sum([i*p for i,p in zip(X,prob)])\n",
    "print(f'Esperança =  {esperanca}')"
   ]
  },
  {
   "cell_type": "code",
   "execution_count": 13,
   "id": "a0c8ceb7",
   "metadata": {
    "colab": {
     "base_uri": "https://localhost:8080/"
    },
    "id": "a0c8ceb7",
    "outputId": "89dd4588-d96e-4e5e-bafd-c9e1e3df8e00"
   },
   "outputs": [
    {
     "name": "stdout",
     "output_type": "stream",
     "text": [
      "Var(X) = 139.64\n"
     ]
    }
   ],
   "source": [
    "#Calculando a variância de X\n",
    "#Primeira maneira    \n",
    "variancia = np.sum([(p*(i-esperanca)**2) for i,p in zip(X,prob)])\n",
    "\n",
    "print(f'Var(X) = {variancia}')"
   ]
  },
  {
   "cell_type": "code",
   "execution_count": 14,
   "id": "zmRzP55NOjs7",
   "metadata": {
    "ExecuteTime": {
     "end_time": "2021-12-03T22:54:37.502961Z",
     "start_time": "2021-12-03T22:54:37.322964Z"
    },
    "colab": {
     "base_uri": "https://localhost:8080/"
    },
    "id": "zmRzP55NOjs7",
    "outputId": "2cc561fa-f90e-4015-d8b1-c26e3b1c2cfe"
   },
   "outputs": [
    {
     "name": "stdout",
     "output_type": "stream",
     "text": [
      "Var(X) = 139.64000000000001\n"
     ]
    }
   ],
   "source": [
    "#Segunda maneira\n",
    "variancia = 0\n",
    "ex2 = np.sum([p*(i)**2 for i,p in zip(X,prob)]) #E(X^2)\n",
    "\n",
    "variancia = ex2 - (esperanca)**2\n",
    "print(f'Var(X) = {variancia}')"
   ]
  },
  {
   "cell_type": "markdown",
   "id": "AI6KJfVeOjs9",
   "metadata": {
    "id": "AI6KJfVeOjs9"
   },
   "source": [
    "## 3.3 Principais modelos discretos :\n",
    "\n",
    "\n",
    "#### **3.3.1 Bernoulli** \n",
    "\n",
    "\n",
    "Uma **distribuição de Bernoulli** tem apenas dois resultados possíveis, a saber 1 *(sucesso)* e 0 *(falha)*, e uma única tentativa, por exemplo, um sorteio. Portanto, a variável aleatória X que tem uma distribuição de Bernoulli pode assumir o valor 1 com a probabilidade de sucesso, p, e o valor 0 com a probabilidade de falha, q ou 1-p. As probabilidades de sucesso e fracasso não precisam ser igualmente prováveis. \n",
    "\n",
    "$$ P(X=x) = p^{x} * (1-p) ^{1-x} $$\n",
    "\n",
    "https://docs.scipy.org/doc/scipy/reference/generated/scipy.stats.bernoulli.html\n"
   ]
  },
  {
   "cell_type": "code",
   "execution_count": 15,
   "id": "iIC7qVBrOjs-",
   "metadata": {
    "ExecuteTime": {
     "end_time": "2021-12-03T08:03:12.625185Z",
     "start_time": "2021-12-03T08:03:10.139189Z"
    },
    "colab": {
     "base_uri": "https://localhost:8080/",
     "height": 416
    },
    "id": "iIC7qVBrOjs-",
    "outputId": "f6c16af3-c512-4081-c931-6e45b2b74d6e"
   },
   "outputs": [
    {
     "data": {
      "text/plain": [
       "<seaborn.axisgrid.FacetGrid at 0x15b633c40>"
      ]
     },
     "execution_count": 15,
     "metadata": {},
     "output_type": "execute_result"
    },
    {
     "data": {
      "image/png": "[encoded data removed]",
      "text/plain": [
       "<Figure size 360x360 with 1 Axes>"
      ]
     },
     "metadata": {
      "needs_background": "light"
     },
     "output_type": "display_data"
    }
   ],
   "source": [
    "from scipy.stats import bernoulli\n",
    "\n",
    "X = bernoulli(0.6) #40% falha e 60% de sucesso\n",
    "X_samples = X.rvs(100000)\n",
    "ax = sns.displot(X_samples, kind='hist', discrete=True, shrink=0.2)\n",
    "ax.set(title='Distribuição Bernoulli', xlabel='Reultado', ylabel='Frequência')"
   ]
  },
  {
   "cell_type": "markdown",
   "id": "0EBp30N6Ojs-",
   "metadata": {
    "id": "0EBp30N6Ojs-"
   },
   "source": [
    "#### **3.3.2 Binomial**\n",
    "\n",
    "Uma distribuição em que apenas dois resultados são possíveis (Ex: sucesso ou fracasso, vitória ou derrota) e em que a probabilidade de sucesso e fracasso é a mesma para todas as tentativas é chamada de Distribuição Binomial. No entanto, os resultados não precisam ser igualmente prováveis e cada estudo é independente um do outro. Os parâmetros de uma distribuição binomial são **n** e **p** onde n é o número total de tentativas e p é a probabilidade de sucesso em cada tentativa. Além do k que é o número de sucesso desejado. Sua função de distribuição de probabilidade é dada por:\n",
    "\n",
    "\n",
    "\n",
    "$$f(k, n, p)  =  \\binom{n}{k} \\cdot p^k(1-p)^{n-k}$$\n",
    "\n",
    "onde,\n",
    "\n",
    "$$ \\binom{n}{k} = \\frac{n!}{k!(n-k)!} ]$$\n",
    "\n",
    "conhecido como **coeficiente binomial**.\n",
    "\n",
    "\n",
    "- probabilidade de sucesso é p e a probabilidade de insucesso q = 1 - p\n",
    "\n",
    "https://numpy.org/doc/stable/reference/random/generated/numpy.random.binomial.html\n",
    "\n",
    "https://docs.scipy.org/doc/scipy/reference/generated/scipy.stats.binom.html"
   ]
  },
  {
   "cell_type": "markdown",
   "id": "a5f95253",
   "metadata": {
    "id": "a5f95253"
   },
   "source": [
    "Exemplo\n",
    "\n",
    "Uma companhia perfura 9 poços de exploração para tentar encontrar petróleo, cada um com uma probabilidade estimada de sucesso igual a 0.1. Qual é a probabilidade dos 9 poços falharem (não possuírem petróleo)?"
   ]
  },
  {
   "cell_type": "code",
   "execution_count": 16,
   "id": "C2UrhvVjOjs-",
   "metadata": {
    "ExecuteTime": {
     "end_time": "2021-12-03T21:19:43.072500Z",
     "start_time": "2021-12-03T21:19:42.885161Z"
    },
    "id": "C2UrhvVjOjs-",
    "scrolled": false
   },
   "outputs": [
    {
     "data": {
      "text/plain": [
       "<seaborn.axisgrid.FacetGrid at 0x105f05cd0>"
      ]
     },
     "execution_count": 16,
     "metadata": {},
     "output_type": "execute_result"
    },
    {
     "data": {
      "image/png": "[encoded data removed]",
      "text/plain": [
       "<Figure size 360x360 with 1 Axes>"
      ]
     },
     "metadata": {
      "needs_background": "light"
     },
     "output_type": "display_data"
    }
   ],
   "source": [
    "from numpy.random import binomial\n",
    "\n",
    "data_binom = binomial(n=9, p=0.1, size=20000)\n",
    "\n",
    "ax = sns.displot(\n",
    "    data_binom,\n",
    "    kind='hist',\n",
    "    color='skyblue',\n",
    ")\n",
    "ax.set(title='Distribuição Binomial', xlabel='#Sucesso', ylabel='Frequência')"
   ]
  },
  {
   "cell_type": "code",
   "execution_count": 17,
   "id": "f8299dd7",
   "metadata": {
    "id": "f8299dd7"
   },
   "outputs": [
    {
     "data": {
      "text/plain": [
       "2.916000000000004e-06"
      ]
     },
     "execution_count": 17,
     "metadata": {},
     "output_type": "execute_result"
    }
   ],
   "source": [
    "from scipy.stats import binom\n",
    "\n",
    "binom.pmf(7,9,0.1) # (k, n, p)"
   ]
  },
  {
   "cell_type": "markdown",
   "id": "aaxlSFo2Ojs_",
   "metadata": {
    "id": "aaxlSFo2Ojs_"
   },
   "source": [
    "**Exercício**: Uma prova de Estatística contém 6 questões, cada um contendo 5 alternativas e apenas uma correta. Qual a probabilidade de alguém, no chute, acertar pelo menos 3 questões?  "
   ]
  },
  {
   "cell_type": "code",
   "execution_count": 18,
   "id": "Cxk1hDqUOjtA",
   "metadata": {
    "id": "Cxk1hDqUOjtA"
   },
   "outputs": [
    {
     "data": {
      "text/plain": [
       "<seaborn.axisgrid.FacetGrid at 0x15f9ec3d0>"
      ]
     },
     "execution_count": 18,
     "metadata": {},
     "output_type": "execute_result"
    },
    {
     "data": {
      "image/png": "[encoded data removed]",
      "text/plain": [
       "<Figure size 360x360 with 1 Axes>"
      ]
     },
     "metadata": {
      "needs_background": "light"
     },
     "output_type": "display_data"
    }
   ],
   "source": [
    "data_binom = np.random.binomial(6,0.2, 1000000)\n",
    "ax =sns.displot(data_binom, kind = 'hist',color='skyblue')\n",
    "ax.set(title='Distribuição Binomial', xlabel='#Sucesso', ylabel='Frequência')"
   ]
  },
  {
   "cell_type": "code",
   "execution_count": 19,
   "id": "1_t4GbfFOjtA",
   "metadata": {
    "id": "1_t4GbfFOjtA"
   },
   "outputs": [
    {
     "data": {
      "text/plain": [
       "0.098691"
      ]
     },
     "execution_count": 19,
     "metadata": {},
     "output_type": "execute_result"
    }
   ],
   "source": [
    "(np.sum(data_binom >= 3)/1000000)"
   ]
  },
  {
   "cell_type": "markdown",
   "id": "a16efcc5",
   "metadata": {
    "id": "a16efcc5"
   },
   "source": [
    "Utilizando a biblioteca Scipy:"
   ]
  },
  {
   "cell_type": "code",
   "execution_count": 20,
   "id": "2e19bc07",
   "metadata": {
    "id": "2e19bc07"
   },
   "outputs": [
    {
     "data": {
      "text/plain": [
       "0.09888000000000001"
      ]
     },
     "execution_count": 20,
     "metadata": {},
     "output_type": "execute_result"
    }
   ],
   "source": [
    "binom.pmf(3,6,0.2) + binom.pmf(4,6,0.2) + binom.pmf(5,6,0.2) + binom.pmf(6,6,0.2)"
   ]
  },
  {
   "cell_type": "code",
   "execution_count": 21,
   "id": "f779ee3a",
   "metadata": {
    "id": "f779ee3a"
   },
   "outputs": [
    {
     "data": {
      "text/plain": [
       "0.9375"
      ]
     },
     "execution_count": 21,
     "metadata": {},
     "output_type": "execute_result"
    }
   ],
   "source": [
    "# Meninos e meninas tem a mesma probabilidade de nascer. Qual a probabilidade de que em \n",
    "# uma familia selecionada aleatoriamente de 4 filhos, tenha pelo menos uma menina?\n",
    "\n",
    "# n = 4\n",
    "# p = 0.5\n",
    "# k = {1, 2, 3, 4}\n",
    "\n",
    "1 - binom.pmf(0,4,0.5)"
   ]
  },
  {
   "cell_type": "markdown",
   "id": "HDAjTEhhOjtA",
   "metadata": {
    "id": "HDAjTEhhOjtA"
   },
   "source": [
    "### **3.3.3 Modelo Poisson**\n",
    "\n",
    "Dizemos que um modelo tem distribuição de Poisson se \n",
    "\n",
    "$$ P(X=k) = \\frac{e^{-\\lambda}\\lambda^{k}}{k!} $$\n",
    " \n",
    "onde $\\lambda$ é  número esperado de ocorrências que ocorrem num dado intervalo de tempo.\n",
    "\n",
    "Esse modelo descreve experimentos onde a probabilidade de ocorrência de k eventos em um determinado intervalo de tempo é independente da ocorrência do último evento.\n",
    "\n",
    "A distribuição de Poisson representa um modelo probabilístico adequado para o estudo de um grande número de fenômenos observáveis. Eis alguns exemplos:\n",
    "\n",
    "* Chamadas telefônicas por unidade de tempo;\n",
    "* Defeitos por unidade de área;\n",
    "* Acidentes por unidade de tempo;\n",
    "* Chegada de clientes a um supermercado por unidade de tempo;\n",
    "* Número de glóbulos visíveis ao microscópio por unidade de área;\n",
    "* Número de partículas emitidas por uma fonte de material radioativo por unidade de tempo.\n",
    "\n",
    "[Calculadora de Poisson](http://www.elektro-energetika.cz/calculations/po.php?language=portugues)"
   ]
  },
  {
   "cell_type": "code",
   "execution_count": 24,
   "id": "O0QRhfkxOjtA",
   "metadata": {
    "ExecuteTime": {
     "end_time": "2021-12-03T21:22:15.121327Z",
     "start_time": "2021-12-03T21:22:14.850444Z"
    },
    "id": "O0QRhfkxOjtA"
   },
   "outputs": [
    {
     "data": {
      "text/plain": [
       "<seaborn.axisgrid.FacetGrid at 0x15fb439a0>"
      ]
     },
     "execution_count": 24,
     "metadata": {},
     "output_type": "execute_result"
    },
    {
     "data": {
      "image/png": "[encoded data removed]",
      "text/plain": [
       "<Figure size 360x360 with 1 Axes>"
      ]
     },
     "metadata": {
      "needs_background": "light"
     },
     "output_type": "display_data"
    }
   ],
   "source": [
    "from scipy.stats import poisson\n",
    "data_poisson = poisson.rvs(mu=3, size=20000)\n",
    "\n",
    "ax = sns.displot(data_poisson,\n",
    "                  bins=30,\n",
    "                  kde=False,\n",
    "                  color='skyblue',\n",
    "                  )\n",
    "ax.set(xlabel='Distribuição Poisson', ylabel='Frequência')"
   ]
  },
  {
   "cell_type": "markdown",
   "id": "j6RcJVvIOjtA",
   "metadata": {
    "id": "j6RcJVvIOjtA"
   },
   "source": [
    "Exercício: O número médio de acidentes por mês, em um certo cruzamento, é três. Qual a probabilidade de, em qualquer mês, ocorrerem quatro acidentes nesse cruzamento?"
   ]
  },
  {
   "cell_type": "code",
   "execution_count": 35,
   "id": "ad28fa39",
   "metadata": {},
   "outputs": [
    {
     "data": {
      "text/plain": [
       "2     0.22265\n",
       "3     0.22145\n",
       "4     0.16380\n",
       "1     0.15100\n",
       "5     0.10285\n",
       "0     0.05225\n",
       "6     0.05215\n",
       "7     0.02135\n",
       "8     0.00800\n",
       "9     0.00330\n",
       "10    0.00100\n",
       "11    0.00020\n",
       "dtype: float64"
      ]
     },
     "execution_count": 35,
     "metadata": {},
     "output_type": "execute_result"
    }
   ],
   "source": [
    "pd.DataFrame(data_poisson).value_counts(normalize=True)"
   ]
  },
  {
   "cell_type": "code",
   "execution_count": 25,
   "id": "DTU8gJ5EOjtB",
   "metadata": {
    "ExecuteTime": {
     "end_time": "2021-12-04T00:00:39.209255Z",
     "start_time": "2021-12-04T00:00:39.187315Z"
    },
    "id": "DTU8gJ5EOjtB"
   },
   "outputs": [
    {
     "name": "stdout",
     "output_type": "stream",
     "text": [
      "0.16803135574154082\n"
     ]
    }
   ],
   "source": [
    "def fat(n):\n",
    "    if n==0 or n==1:\n",
    "        return 1\n",
    "    else:\n",
    "        return n * fat(n-1)\n",
    "\n",
    "lam = 3\n",
    "k = 4\n",
    "p = np.exp(-lam) * lam**k / fat(k) #P(x=4)\n",
    "print(p)"
   ]
  },
  {
   "cell_type": "markdown",
   "id": "c96eafee",
   "metadata": {
    "id": "c96eafee"
   },
   "source": [
    "**Exercício**\n",
    "\n",
    "Você trabalha em uma empresa de Telemarketing que foi contratada para substituir o atendimento de uma operação de call center. Para poder definir o número de atendentes que serão necessárias para essa operação, é importante ter uma idéia da quantidade de chamadas que esse serviço recebe, mas a única informação que a empresa anterior passou foi que eles recebiam uma média de 510 chamadas por hora. Com base nessa informação e sabendo que a quantidade de chamadas telefônicas por unidade de tempo segue uma distribuição de poisson:\n",
    "\n",
    "Raciocínio:\n",
    "\n",
    "* É um evento determinístico?\n",
    "\n",
    "* Qual é a variável aleatória deste exemplo?\n",
    "\n",
    "* Existe um modelo de distribuição que modele essa variável aleatória? Qual?\n",
    "\n",
    "* Para esse modelo, quais são os parâmetros que precisamos para o cálculo de uma probabilidade?\n",
    "\n",
    "Questões:\n",
    "- a) Qual a probabilidade dessa operação receber  12 chamadas em um minuto?\n",
    "- b) Qual é a probabilidade dessa operação receber no máximo 10 chamadas em um minuto?\n",
    "- c) Qual é a probabilidade dessa operação receber mais do que 13 chamadas em um minuto?"
   ]
  },
  {
   "cell_type": "code",
   "execution_count": 36,
   "id": "856b1f77",
   "metadata": {
    "id": "856b1f77"
   },
   "outputs": [
    {
     "data": {
      "text/plain": [
       "0.060420880284544225"
      ]
     },
     "execution_count": 36,
     "metadata": {},
     "output_type": "execute_result"
    }
   ],
   "source": [
    "'''Resposta'''\n",
    "#A\n",
    "from scipy.stats import poisson\n",
    "lamb = 8.5\n",
    "k = 12\n",
    "poisson.pmf(k=k,mu=lamb)"
   ]
  },
  {
   "cell_type": "code",
   "execution_count": 37,
   "id": "000daad8",
   "metadata": {
    "id": "000daad8"
   },
   "outputs": [
    {
     "data": {
      "text/plain": [
       "0.7633619791340178"
      ]
     },
     "execution_count": 37,
     "metadata": {},
     "output_type": "execute_result"
    }
   ],
   "source": [
    "#B\n",
    "poisson.cdf(k=10,mu=lamb)"
   ]
  },
  {
   "cell_type": "code",
   "execution_count": 38,
   "id": "2bd07c0f",
   "metadata": {
    "id": "2bd07c0f"
   },
   "outputs": [
    {
     "data": {
      "text/plain": [
       "0.051411114111327816"
      ]
     },
     "execution_count": 38,
     "metadata": {},
     "output_type": "execute_result"
    }
   ],
   "source": [
    "#C\n",
    "1 - poisson.cdf(k=13, mu=lamb)"
   ]
  },
  {
   "cell_type": "markdown",
   "id": "byJt0iLLOjtC",
   "metadata": {
    "id": "byJt0iLLOjtC"
   },
   "source": [
    "### 3.3.4 Uniforme\n",
    "\n",
    "A distribuição uniforme discreta é uma distribuição de probabilidade simétrica em que um número finito de valores é igualmente provável de ser observado; cada um dos n valores tem a mesma probabilidade 1/n.\n",
    "\n",
    "**Exemplo**\n",
    "\n",
    "No lançamento de um dado, a variável aleatória X pode tomar os valores 1,2,3,4,5,6\n",
    "\n",
    "Como cada um desdes valores está associada uma só probabilidade de realização e $\\sum P(x_i)=1$, a função probabilidade resulta da distribuição de probabilidade:\n",
    "\n",
    "\n",
    "| X | P(X) |\n",
    "|---|------|\n",
    "| 1 | 1/6  |\n",
    "| 2 | 1/6  |\n",
    "| 3 | 1/6  |\n",
    "| 4 | 1/6  |\n",
    "| 5 | 1/6  |\n",
    "| 6 | 1/6  |"
   ]
  },
  {
   "cell_type": "code",
   "execution_count": 39,
   "id": "iP4VDIBTOjtC",
   "metadata": {
    "ExecuteTime": {
     "end_time": "2021-12-03T21:27:00.334077Z",
     "start_time": "2021-12-03T21:27:00.216172Z"
    },
    "id": "iP4VDIBTOjtC"
   },
   "outputs": [
    {
     "data": {
      "text/plain": [
       "<BarContainer object of 6 artists>"
      ]
     },
     "execution_count": 39,
     "metadata": {},
     "output_type": "execute_result"
    },
    {
     "data": {
      "image/png": "[encoded data removed]",
      "text/plain": [
       "<Figure size 432x288 with 1 Axes>"
      ]
     },
     "metadata": {
      "needs_background": "light"
     },
     "output_type": "display_data"
    }
   ],
   "source": [
    "plt.bar(x=[1, 2, 3, 4, 5, 6], height=1/6)"
   ]
  },
  {
   "cell_type": "markdown",
   "id": "84810755",
   "metadata": {
    "id": "84810755"
   },
   "source": [
    "DOC Scipy: https://docs.scipy.org/doc/scipy/reference/generated/scipy.stats.uniform.html"
   ]
  },
  {
   "cell_type": "code",
   "execution_count": 42,
   "id": "eVIQacjiOjtD",
   "metadata": {
    "ExecuteTime": {
     "end_time": "2021-12-03T21:29:08.646401Z",
     "start_time": "2021-12-03T21:29:08.377589Z"
    },
    "id": "eVIQacjiOjtD"
   },
   "outputs": [
    {
     "data": {
      "text/plain": [
       "<seaborn.axisgrid.FacetGrid at 0x16a20ea00>"
      ]
     },
     "execution_count": 42,
     "metadata": {},
     "output_type": "execute_result"
    },
    {
     "data": {
      "image/png": "[encoded data removed]",
      "text/plain": [
       "<Figure size 360x360 with 1 Axes>"
      ]
     },
     "metadata": {
      "needs_background": "light"
     },
     "output_type": "display_data"
    }
   ],
   "source": [
    "from scipy.stats import uniform\n",
    "# random numbers from uniform distribution\n",
    "n = 60000\n",
    "start = 1\n",
    "width = 5\n",
    "data_uniform = uniform.rvs(size=n, loc = start, scale=width)\n",
    "\n",
    "ax = sns.displot(data_uniform,\n",
    "                  bins=6,\n",
    "                  color='skyblue',\n",
    "                  )\n",
    "ax.set(xlabel='Uniform Distribution ', ylabel='Frequency')"
   ]
  },
  {
   "cell_type": "markdown",
   "id": "dx6HtsvyOjtE",
   "metadata": {
    "id": "dx6HtsvyOjtE"
   },
   "source": [
    "**Diversas distribuições de probabilidade**\n",
    "\n",
    "http://ucla.jamesyxu.com/wp-content/uploads/2011/08/A-probability-and-statistics-cheatsheet.pdf"
   ]
  },
  {
   "cell_type": "markdown",
   "id": "b77a561f",
   "metadata": {
    "ExecuteTime": {
     "end_time": "2021-10-15T23:16:07.672080Z",
     "start_time": "2021-10-15T23:16:07.661109Z"
    },
    "id": "b77a561f"
   },
   "source": [
    "## 3.4 Principais modelos contínuos :\n",
    "\n",
    "### 3.4.1 Uniforme\n",
    "\n",
    "Uma variável aleatória contínua X tem distribuição uniforme com parâmetros a e b (com a<b) se sua função de densidade de probabilidade é dada por:\n",
    "\n",
    "$$[f(x) = \\frac{1}{b-a} ]$$\n",
    "\n",
    "Se $a \\leq x \\leq b$, então $f(x) = \\frac{1}{b-a}$. Caso $x$ não pertença ao intervalo entre a e b, então $f(x) = 0$.\n",
    "\n",
    "\n",
    "<center><img src=https://media.geeksforgeeks.org/wp-content/uploads/probability-distribution-1.jpg width=\"200\" height=\"500\" />"
   ]
  },
  {
   "cell_type": "markdown",
   "id": "14grbM0cOjtE",
   "metadata": {
    "id": "14grbM0cOjtE"
   },
   "source": [
    "Esperança (média): $$ E(X) = \\frac{a+b}{2}$$\n",
    "\n",
    "Variância: $$Var(X) = \\frac{(b-a)^2}{12}$$\n",
    "\n",
    "Função acumulada: \n",
    "$$ \n",
    "F(x) = P(X < x) = \n",
    "  \\begin{cases}\n",
    "      0, & x<a \\\\\n",
    "      \\frac{x-a}{b-a}, & a \\le x \\leq b \\\\\n",
    "      1, & x > b\n",
    "  \\end{cases}\n",
    "$$"
   ]
  },
  {
   "cell_type": "markdown",
   "id": "d85a404e",
   "metadata": {
    "id": "d85a404e"
   },
   "source": [
    "## 3.4.2 Distribuição Normal\n",
    "\n",
    "É representada por uma **curva simétrica em torno do seu ponto médio**, apresentando assim seu famoso formato de **sino** (bell shape).\n",
    "\n",
    "A curva de distribuição normal representa o comportamento de **diversos processos e fenômenos comuns**, como por exemplo: altura ou peso de uma população, a pressão sanguínea de um grupo de pessoas, o tempo que um grupo de estudantes gasta para realizar uma prova, etc.\n",
    "\n",
    "A distribuição normal serve também como base para a inferência estatística clássica, sendo a premissa em diversos modelos e métodos.\n",
    "\n",
    "Na distribuição normal, a média, mediana e moda dos dados possuem o mesmo valor. \n",
    "\n",
    "<img src=\"https://dietassessmentprimer.cancer.gov/images/learn/distribution1.jpg\">\n",
    "\n",
    "Usaremos a notação X ~ N($\\mu$,$\\sigma^2$) para representar uma variável aleatória **com distribuição normal** de média $\\mu$ e variância $\\sigma^2$.\n",
    "\n",
    "<img src=\"https://upload.wikimedia.org/wikipedia/commons/thumb/7/74/Normal_Distribution_PDF.svg/1280px-Normal_Distribution_PDF.svg.png\" width=500>\n",
    "\n",
    "A equação da distribuição normal é:\n",
    "\n",
    "<img src=\"https://www.onlinemathlearning.com/image-files/normal-distribution-formula.png\" width=200>\n",
    "\n"
   ]
  },
  {
   "cell_type": "markdown",
   "id": "VwwEZWA_OjtE",
   "metadata": {
    "id": "VwwEZWA_OjtE"
   },
   "source": [
    "Em resumo, a distribuição normal (distribuição teórica da variável aleatória contínua):\n",
    "- formato em sino\n",
    "- simétrica em torno do x (média), ou seja, a média, moda e mediana estão no mesmo ponto\n",
    "- a curva normal ou curva de Gauss\n",
    "- Área sob a curva é igual a 1\n",
    "- assintótica nas abcissas, ou seja, aproxima do eixo mas não toca\n"
   ]
  },
  {
   "cell_type": "markdown",
   "id": "60d26913",
   "metadata": {
    "id": "60d26913"
   },
   "source": [
    "Na distribuição normal, os dados são distribuídos de forma muito particular, tal que o **desvio padrão** determina a proporção de dados em cada faixa:\n",
    "\n",
    "<img src=\"https://miro.medium.com/max/24000/1*IdGgdrY_n_9_YfkaCh-dag.png\" width=500>\n",
    "\n",
    "<img src=\"https://miro.medium.com/max/24000/1*IZ2II2HYKeoMrdLU5jW6Dw.png\" width=500>"
   ]
  },
  {
   "cell_type": "markdown",
   "id": "334bccf8",
   "metadata": {
    "id": "334bccf8"
   },
   "source": [
    "**Exemplo:** \n",
    "\n",
    "Dado que $X \\sim N(10,100)$, calcule:\n",
    "\n",
    "a) $P(X = 15)$"
   ]
  },
  {
   "cell_type": "code",
   "execution_count": 43,
   "id": "8c16fe2c",
   "metadata": {
    "colab": {
     "base_uri": "https://localhost:8080/"
    },
    "id": "8c16fe2c",
    "outputId": "753314cb-e774-455d-f478-75905e96d24f"
   },
   "outputs": [
    {
     "data": {
      "text/plain": [
       "0.03520653267642995"
      ]
     },
     "execution_count": 43,
     "metadata": {},
     "output_type": "execute_result"
    }
   ],
   "source": [
    "from scipy.stats import norm\n",
    "\n",
    "norm.pdf(15,loc=10, scale=10)"
   ]
  },
  {
   "cell_type": "markdown",
   "id": "abee25be",
   "metadata": {
    "id": "abee25be"
   },
   "source": [
    "b) $P(X \\leq 20)$"
   ]
  },
  {
   "cell_type": "code",
   "execution_count": 44,
   "id": "29ec94f4",
   "metadata": {
    "colab": {
     "base_uri": "https://localhost:8080/"
    },
    "id": "29ec94f4",
    "outputId": "46e54021-12e4-49c5-be74-e27a0393d857"
   },
   "outputs": [
    {
     "data": {
      "text/plain": [
       "0.8413447460685429"
      ]
     },
     "execution_count": 44,
     "metadata": {},
     "output_type": "execute_result"
    }
   ],
   "source": [
    "norm.cdf(20,loc=10,scale=10)"
   ]
  },
  {
   "cell_type": "markdown",
   "id": "e37d5d30",
   "metadata": {
    "id": "e37d5d30"
   },
   "source": [
    "c) Plote a distribuição"
   ]
  },
  {
   "cell_type": "code",
   "execution_count": 45,
   "id": "0414218c",
   "metadata": {
    "colab": {
     "base_uri": "https://localhost:8080/",
     "height": 265
    },
    "id": "0414218c",
    "outputId": "e55a9648-c3c8-4cbf-e2b3-f80db586225a"
   },
   "outputs": [
    {
     "data": {
      "image/png": "[encoded data removed]",
      "text/plain": [
       "<Figure size 432x288 with 1 Axes>"
      ]
     },
     "metadata": {
      "needs_background": "light"
     },
     "output_type": "display_data"
    }
   ],
   "source": [
    "x = np.linspace(-30, 50, 400)\n",
    "\n",
    "mu = 10 #média\n",
    "sigma = 10 #desvio padrão\n",
    "\n",
    "# usando o scipy\n",
    "y = norm(loc=mu, scale=sigma).pdf(x) #probability density function (pdf)\n",
    "\n",
    "plt.plot(x, y)\n",
    "\n",
    "plt.show()"
   ]
  },
  {
   "cell_type": "markdown",
   "id": "oVcsMQQkOjtF",
   "metadata": {
    "id": "oVcsMQQkOjtF"
   },
   "source": [
    "### Z-Score\n",
    "\n",
    "O **z-score** de uma observação nada mais é que **o número de desvios padrões que a obervação está com relação à média**:\n",
    "\n",
    "$$ z = \\frac{x - \\mu}{\\sigma} $$\n",
    "\n",
    "$$ z \\sigma = x - \\mu $$\n",
    "\n",
    "$$  x = \\mu + z \\sigma  $$\n",
    "\n",
    "Como vimos acima, em uma distribuição normal, 99.73% das observações são esperadas de estar entre 3 desvios-padrão da média. Assim, obervações para além desta faixa são muito improváveis de ocorrer (0.27% de chance), de forma que podem ser consideradas outliers.\n",
    "\n",
    "Assim, é comum considerar outliers os pontos tais que $|z| > 3$ (embora seja comum também variar este z-score limite, para 2.5 o, 3.5, etc.)\n",
    "\n",
    "**OBS.: naturalmente, este método é altamente dependente da hipótese de que seus dados são normalmente distribuídos! Por isso, funciona apenas aproximadamente para outros casos. Mas é uma boa aproximação, em geral.**"
   ]
  },
  {
   "cell_type": "markdown",
   "id": "WToRoG6JOjtF",
   "metadata": {
    "id": "WToRoG6JOjtF"
   },
   "source": [
    "Exemplo:\n",
    "\n",
    "Suponha que as medidas da corrente elétrica em pedaço de fio sigam a\n",
    "distribuição Normal, com uma média de 10 miliamperes e uma variância de 4\n",
    "miliamperes. Qual a probabilidade de a medida exceder 13 miliamperes?\n"
   ]
  },
  {
   "cell_type": "markdown",
   "id": "3af46dc7",
   "metadata": {
    "id": "3af46dc7"
   },
   "source": [
    "Como, $z = \\frac{13 - 10}{2} = 1,5$. Assim,\n",
    "$$P(X > 13) = P(z > 1,5)$$\n",
    "$$=1-P(z \\leq 1,5)$$\n",
    "Da tabela, temos\n",
    "$$P(z \\leq 1,5) = 0.9332$$\n",
    "Assim,\n",
    "\n",
    "$$P(X > 13)=1-0.9332=0.0668$$"
   ]
  },
  {
   "cell_type": "markdown",
   "id": "58127f63",
   "metadata": {
    "id": "58127f63"
   },
   "source": [
    "Utilizar o Z-Score é o mesmo que utilizar uma distribuição normal de média 0 e desvio padrão igual a 1. Logo, podemos calcular $P(z \\leq 1,5)$ utilizando a CDF de uma distribuição Normal com esses parâmetros. Assim, o resultado seria:"
   ]
  },
  {
   "cell_type": "code",
   "execution_count": null,
   "id": "35645602",
   "metadata": {
    "colab": {
     "base_uri": "https://localhost:8080/"
    },
    "id": "35645602",
    "outputId": "c891fc33-c030-443b-cb0e-13baa21e517b"
   },
   "outputs": [
    {
     "data": {
      "text/plain": [
       "0.06680720126885809"
      ]
     },
     "execution_count": 19,
     "metadata": {},
     "output_type": "execute_result"
    }
   ],
   "source": [
    "rv = norm()\n",
    "\n",
    "1 - rv.cdf(1.5)"
   ]
  },
  {
   "cell_type": "markdown",
   "id": "d0e24feb",
   "metadata": {
    "id": "d0e24feb"
   },
   "source": [
    "Exercício\n",
    "\n",
    "Para o problema anterior, calcule a probabilidade da medida ser menor ou igual a 11 mA."
   ]
  },
  {
   "cell_type": "markdown",
   "id": "EQ7WHyU-OjtF",
   "metadata": {
    "id": "EQ7WHyU-OjtF"
   },
   "source": [
    "Tabela de Distribuição Normal Padrão (https://zscoregeek.com/using-z-score-table/)"
   ]
  },
  {
   "cell_type": "markdown",
   "id": "5ddc523f",
   "metadata": {
    "id": "5ddc523f"
   },
   "source": [
    "<img src=\"https://zscoregeek.com/wp-content/uploads/2021/09/positive-z-score-table-493x1024.png\" width=500>\n",
    "     \n",
    "     "
   ]
  },
  {
   "cell_type": "markdown",
   "id": "58b089b2",
   "metadata": {
    "id": "58b089b2"
   },
   "source": [
    "Diversas distribuições de probabilidade\n",
    "\n",
    "http://ucla.jamesyxu.com/wp-content/uploads/2011/08/A-probability-and-statistics-cheatsheet.pdf"
   ]
  }
 ],
 "metadata": {
  "colab": {
   "provenance": []
  },
  "kernelspec": {
   "display_name": "Python 3 (ipykernel)",
   "language": "python",
   "name": "python3"
  },
  "language_info": {
   "codemirror_mode": {
    "name": "ipython",
    "version": 3
   },
   "file_extension": ".py",
   "mimetype": "text/x-python",
   "name": "python",
   "nbconvert_exporter": "python",
   "pygments_lexer": "ipython3",
   "version": "3.9.12"
  },
  "varInspector": {
   "cols": {
    "lenName": 16,
    "lenType": 16,
    "lenVar": 40
   },
   "kernels_config": {
    "python": {
     "delete_cmd_postfix": "",
     "delete_cmd_prefix": "del ",
     "library": "var_list.py",
     "varRefreshCmd": "print(var_dic_list())"
    },
    "r": {
     "delete_cmd_postfix": ") ",
     "delete_cmd_prefix": "rm(",
     "library": "var_list.r",
     "varRefreshCmd": "cat(var_dic_list()) "
    }
   },
   "types_to_exclude": [
    "module",
    "function",
    "builtin_function_or_method",
    "instance",
    "_Feature"
   ],
   "window_display": false
  },
  "vscode": {
   "interpreter": {
    "hash": "04c99251120b9783bb57db04925b02d6d9a65330f6ca271b364357389b908c1b"
   }
  }
 },
 "nbformat": 4,
 "nbformat_minor": 5
}
