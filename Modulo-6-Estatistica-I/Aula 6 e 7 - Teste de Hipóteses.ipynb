{
  "cells": [
    {
      "cell_type": "markdown",
      "metadata": {
        "id": "NhmAdebuEb8b"
      },
      "source": [
        "## Estatística - Aula 6"
      ]
    },
    {
      "cell_type": "code",
      "execution_count": null,
      "metadata": {
        "id": "G_uNg4Zh4qYZ"
      },
      "outputs": [],
      "source": [
        "import matplotlib.pyplot as plt \n",
        "import numpy as np \n",
        "from scipy import stats"
      ]
    },
    {
      "cell_type": "markdown",
      "metadata": {
        "id": "7Ow3bMNZEbqa"
      },
      "source": [
        "### Recap dos conteúdos até o momento\n",
        "\n",
        "$\\bullet$ Probabilidade. \n",
        "\n",
        "$\\bullet$ Distribuição.\n",
        "\n",
        "$\\bullet$ Parâmetros e estimadores.\n",
        "\n",
        "$\\bullet$ Intervalo de confiança.\n",
        "\n",
        "\n",
        "\n"
      ]
    },
    {
      "cell_type": "code",
      "execution_count": null,
      "metadata": {
        "id": "tAI4w17ANrzO"
      },
      "outputs": [],
      "source": []
    },
    {
      "cell_type": "markdown",
      "metadata": {
        "id": "9a042eqIEbne"
      },
      "source": [
        "Os passos que geralmente fazemos para o Intervalo de Confiança (e que faremos para Teste de Hipóteses).\n",
        "\n",
        "- Indicar qual é o parâmetro de interesse $\\theta$.\n",
        "\n",
        "- Determinar um estimador $\\hat{\\theta}$.\n",
        "\n",
        "- Estabelecer uma estatística de teste, que depende de $\\hat{\\theta}$ e $\\theta$. "
      ]
    },
    {
      "cell_type": "code",
      "execution_count": null,
      "metadata": {
        "id": "1yQr4Gi5yVo_"
      },
      "outputs": [],
      "source": []
    },
    {
      "cell_type": "code",
      "execution_count": null,
      "metadata": {
        "id": "EDc8hYxHyX9H"
      },
      "outputs": [],
      "source": []
    },
    {
      "cell_type": "code",
      "execution_count": null,
      "metadata": {
        "id": "5XhnVviSyX4p"
      },
      "outputs": [],
      "source": []
    },
    {
      "cell_type": "code",
      "execution_count": null,
      "metadata": {
        "id": "OyjPU_pwyX1T"
      },
      "outputs": [],
      "source": []
    },
    {
      "cell_type": "markdown",
      "metadata": {
        "id": "KnlzJ0pnyYdX"
      },
      "source": [
        "## Teste de Hipóteses"
      ]
    },
    {
      "cell_type": "markdown",
      "metadata": {
        "id": "6Vr8wnz0ycjP"
      },
      "source": [
        "O teste de hipótese **sempre** se refere a um parâmetro $\\theta$, mas nem sempre isso é tão nítido. \n",
        "\n",
        "✍ Para isso, usaremos sempre a estatística de teste, daí a importância de compreender diferentes distribuições.\n",
        "\n"
      ]
    },
    {
      "cell_type": "markdown",
      "metadata": {
        "id": "UROqoETPzLTW"
      },
      "source": [
        "Como o próprio nome diz, faremos testes para verificar se as hipóteses sobre os nossos parâmetros parecem ser válidas ou não. Para isso, temos alguns termos novos.\n",
        "\n",
        "$\\bullet$ Hipótese nula ($H_{0}$) - é a nossa hipótese de partida, onde sempre será ela que será rejeitada ou não. Para isso, toda a matemática (que não será desenvolvida de uma forma profunda aqui) sempre é feita inicialmente considerando que a hipótese nula é inicialmente verdadeira. \n",
        "\n",
        "$\\bullet$ Hipótese alternativa ($H_{1}$) - é a hipótese complementar à hipótese nula. **Geralmente** é a hipótese que queremos evidenciar algo sobre o nosso parâmetro. "
      ]
    },
    {
      "cell_type": "markdown",
      "metadata": {
        "id": "vpUuXFzT0u2v"
      },
      "source": [
        "Por conta disso, a hipótese alternativa é o que queremos provar. Isso é, se queremos provar que a a média (parâmetro $\\theta$) de uma distribuição é igual a 0, precisamos coletar evidências de que $\\theta$ seja diferente de zero."
      ]
    },
    {
      "cell_type": "markdown",
      "metadata": {
        "id": "6437XhwF4x_e"
      },
      "source": [
        "Temos dois tipos de testes de hipótese:\n",
        "\n",
        "$\\bullet$ Teste unilateral - $\\theta$ $\\lt$ $\\theta_{0}$\n",
        "\n",
        "$\\bullet$ Teste bilateral - $\\theta$ = $\\theta_{0}$"
      ]
    },
    {
      "cell_type": "code",
      "execution_count": null,
      "metadata": {
        "id": "TFWtAa7x4xY0"
      },
      "outputs": [],
      "source": []
    },
    {
      "cell_type": "code",
      "execution_count": null,
      "metadata": {
        "id": "32-1VebT4xQw"
      },
      "outputs": [],
      "source": []
    },
    {
      "cell_type": "code",
      "execution_count": null,
      "metadata": {
        "id": "i7jDHilt4xNp"
      },
      "outputs": [],
      "source": []
    },
    {
      "cell_type": "markdown",
      "metadata": {
        "id": "z_kpz6h4359V"
      },
      "source": [
        "O teste de hipóteses é feito sob incertezas. E o que isso significa?\n",
        "\n",
        "Provavelmente, teremos erros.\n",
        "\n",
        "Erro tipo I: Rejeitar $H_{0}$ quando $H_{0}$ é verdadeiro. \n",
        "\n",
        "Erro tipo II: Aceitar $H_{0}$ quando $H_{0}$ é falso. \n"
      ]
    },
    {
      "cell_type": "code",
      "execution_count": null,
      "metadata": {
        "id": "_CCZgFb5adKJ"
      },
      "outputs": [],
      "source": []
    },
    {
      "cell_type": "code",
      "execution_count": null,
      "metadata": {
        "id": "tokQs5Zs40I_"
      },
      "outputs": [],
      "source": [
        "mu1 = 3\n",
        "sigma1 = 2\n",
        "n = 10\n",
        "\n",
        "\n",
        "alpha = 0.05\n",
        "cutoff1 = stats.norm.ppf(alpha/2)\n",
        "cutoff2 = stats.norm.ppf(1-alpha/2)"
      ]
    },
    {
      "cell_type": "code",
      "execution_count": null,
      "metadata": {
        "colab": {
          "base_uri": "https://localhost:8080/",
          "height": 537
        },
        "id": "7VCJ_OEHyXyt",
        "outputId": "b42db8d9-c732-46ea-8782-658165c6358e"
      },
      "outputs": [
        {
          "data": {
            "image/png": "[encoded data removed]",
            "text/plain": [
              "<Figure size 864x720 with 1 Axes>"
            ]
          },
          "metadata": {
            "needs_background": "light"
          },
          "output_type": "display_data"
        }
      ],
      "source": [
        "plt.figure(figsize=(12,10))\n",
        "\n",
        "\n",
        "plt.fill_between(x=np.arange(-4,cutoff1,0.01), \n",
        "                 y1= stats.norm.pdf(np.arange(-4,cutoff1,0.01)) ,\n",
        "                 facecolor='red',\n",
        "                 alpha=0.35)\n",
        "\n",
        "plt.fill_between(x=np.arange(cutoff1,cutoff2,0.01), \n",
        "                 y1= stats.norm.pdf(np.arange(cutoff1,cutoff2,0.01)) ,\n",
        "                 facecolor='grey',\n",
        "                 alpha=0.35)\n",
        "\n",
        "plt.fill_between(x=np.arange(cutoff2,4,0.01), \n",
        "                 y1= stats.norm.pdf(np.arange(cutoff2,4,0.01)) ,\n",
        "                 facecolor='red',\n",
        "                 alpha=0.5)\n",
        "\n",
        "plt.fill_between(x=np.arange(-4,cutoff1,0.01), \n",
        "                 y1= stats.norm.pdf(np.arange(-4,cutoff1,0.01),loc=mu1, scale=sigma1/np.sqrt(n)) ,\n",
        "                 facecolor='grey',\n",
        "                 alpha=0.35)\n",
        "\n",
        "plt.fill_between(x=np.arange(cutoff1,cutoff2,0.01), \n",
        "                 y1= stats.norm.pdf(np.arange(cutoff1,cutoff2,0.01),loc=mu1, scale=sigma1/np.sqrt(n)) ,\n",
        "                 facecolor='blue',\n",
        "                 alpha=0.35)\n",
        "\n",
        "plt.fill_between(x=np.arange(cutoff2,10,0.01), \n",
        "                 y1= stats.norm.pdf(np.arange(cutoff2,10,0.01),loc=mu1, scale=sigma1/np.sqrt(n)),\n",
        "                 facecolor='grey',\n",
        "                 alpha=0.35)\n",
        "\n",
        "plt.text(x=-0.8, y=0.15, s= \"Null Hypothesis\")\n",
        "plt.text(x=2.5, y=0.13, s= \"Alternative\")\n",
        "plt.text(x=2.1, y=0.01, s= \"Type 1 Error\")\n",
        "plt.text(x=-3.2, y=0.01, s= \"Type 1 Error\")\n",
        "plt.text(x=0, y=0.02, s= \"Type 2 Error\");\n",
        "\n",
        "#Source code: https://www.kaggle.com/code/hamelg/python-for-data-24-hypothesis-testing/notebook"
      ]
    },
    {
      "cell_type": "code",
      "execution_count": null,
      "metadata": {
        "id": "d4Rm9RdUyXuj"
      },
      "outputs": [],
      "source": []
    },
    {
      "cell_type": "markdown",
      "metadata": {
        "id": "3yGuB7gKLJd1"
      },
      "source": [
        "Montaremos testes de hipóteses para alguns parâmetros que são importantes em diversas aplicações práticas."
      ]
    },
    {
      "cell_type": "markdown",
      "metadata": {
        "id": "yn9JxNJuLc01"
      },
      "source": [
        "### Teste para a média $\\mu$ de uma N($\\mu$, $\\sigma$), com $\\sigma$ conhecido. "
      ]
    },
    {
      "cell_type": "markdown",
      "metadata": {
        "id": "M72157UNNWnj"
      },
      "source": [
        "1º Passo - Definir qual é o parâmetro de interesse"
      ]
    },
    {
      "cell_type": "markdown",
      "metadata": {
        "id": "1QB_o0vBNblF"
      },
      "source": [
        "Parâmetro de interesse: média ($\\mu$)"
      ]
    },
    {
      "cell_type": "markdown",
      "metadata": {
        "id": "Z2LfSzeZNc3u"
      },
      "source": [
        "2º passo - Determinar o estimador"
      ]
    },
    {
      "cell_type": "markdown",
      "metadata": {
        "id": "BngQxnheNjz6"
      },
      "source": [
        "$\\bar{X}$ = $\\frac{1}{n} \\sum_{i=1}^{n} X_{i}$"
      ]
    },
    {
      "cell_type": "markdown",
      "metadata": {
        "id": "T01kCsMiNjO0"
      },
      "source": [
        "3º passo - Identificar a estatística de teste."
      ]
    },
    {
      "cell_type": "markdown",
      "metadata": {
        "id": "-Pa6C03vNr1c"
      },
      "source": [
        "$\\bar{x}$ ~ N($\\mu$, $\\sigma$ / $\\sqrt{n}$)"
      ]
    },
    {
      "cell_type": "markdown",
      "metadata": {
        "id": "3QL-PVD5NsPW"
      },
      "source": [
        "4º passo - Determinar o teste de hipótese e a regra de rejeição."
      ]
    },
    {
      "cell_type": "markdown",
      "metadata": {
        "id": "SLg3fTFbN0Su"
      },
      "source": []
    },
    {
      "cell_type": "markdown",
      "metadata": {
        "id": "mfWX5wGMN2ws"
      },
      "source": [
        "Meninos de uma certa idade são conhecidos por terem um peso médio $\\mu$ de 85 quilos. É feita uma queixa de que os meninos que vivem em um orfanato municipal são subnutridos. Como uma evidência, os meninos (da mesma idade) são pesados ​​e encontrados com um peso médio de 80,94 quilos. Sabe-se que o desvio padrão da população é de 11,6 quilos (a parte irreal deste exemplo!). Com base nos dados disponíveis, o que se deve concluir sobre a reclamação?\n",
        "\n",
        "Vamos considerar o $\\alpha$ igual a 0.05\n",
        "\n",
        "Fonte: https://online.stat.psu.edu/stat415/lesson/10/10.1"
      ]
    },
    {
      "cell_type": "markdown",
      "metadata": {
        "id": "U88veuBKkGiv"
      },
      "source": [
        "Hipótese nula: $\\mu$ = 85\n",
        "Hipótese alternativa: $\\mu$ != 85\n",
        "\n",
        "\n",
        "$\\sigma$ = 11.6\n",
        "\n",
        "Dado que $n$ = 25"
      ]
    },
    {
      "cell_type": "code",
      "execution_count": null,
      "metadata": {
        "id": "sfcE3NTqN2Pj"
      },
      "outputs": [],
      "source": [
        "x_barra = 80.94\n",
        "\n"
      ]
    },
    {
      "cell_type": "code",
      "execution_count": null,
      "metadata": {
        "id": "5UWO4AX_yXfT"
      },
      "outputs": [],
      "source": [
        "z = (x_barra - 85)/(11.6/np.sqrt(25))"
      ]
    },
    {
      "cell_type": "markdown",
      "metadata": {
        "id": "s2-kiJrmnXt0"
      },
      "source": [
        "Vemos que esse valor de z é, na verdade, -1.75. Usando o nosso teste de hipótese com nível de significância de 0.05, observamos que o valor z está dentro do intervalo entre $z_{\\alpha/2}$ e $z_{1 - \\alpha/2}$.\n",
        "\n",
        "Logo, não podemos rejeitar a hipótese nula. "
      ]
    },
    {
      "cell_type": "code",
      "execution_count": null,
      "metadata": {
        "id": "zxqNMEbqyXap"
      },
      "outputs": [],
      "source": []
    },
    {
      "cell_type": "markdown",
      "metadata": {
        "id": "DRMWJ3idakUB"
      },
      "source": [
        "Mas antes, o que será importante de todas as estatísticas... **p-valor**\n",
        "\n",
        "O p-valor pode ser visto como o valor de $\\alpha$ que torna a nossa estatística de teste \"indeterminada\". Com isso, não precisamos calcular outras estatísticas derivadas. Podemos calcular apenas esse **p-valor** e comparar com o nosso nível $\\alpha$. Se **p-valor** < $\\alpha$, então rejeita a hipótese."
      ]
    },
    {
      "cell_type": "markdown",
      "metadata": {
        "id": "ZxpIQ2o9Rkg-"
      },
      "source": [
        "### Teste para a média $\\mu$ de uma N($\\mu$, $\\sigma$), com $\\sigma$ desconhecido. "
      ]
    },
    {
      "cell_type": "markdown",
      "metadata": {
        "id": "Sp1jBm2IRtW6"
      },
      "source": [
        "Avaliando o exemplo anterior, vemos que tem algo \"estranho\". Na realidade, **dificilmente** (para não dizer nunca) temos essa informação do desvio padrão, e atuamos com a incerteza desse parâmetro. Por conta disso, mudam-se algumas premissas que vimos para o teste anterior.\n",
        "Quais são?"
      ]
    },
    {
      "cell_type": "markdown",
      "metadata": {
        "id": "HvtV9FmySOpe"
      },
      "source": [
        "Exemplo: repita o exemplo anterior, dessa vez sem o conhecimento anterior de $\\sigma$. "
      ]
    },
    {
      "cell_type": "markdown",
      "metadata": {},
      "source": [
        "Parâmetro de interesse: $\\mu$ \n",
        "\n",
        "Estimador para o nosso caso: $\\bar{x}$ \n",
        "\n",
        "Estatística de teste: t (pois não conhecemos o desvio padrão). \n",
        "\n",
        "Hipótese Nula: $\\mu$ = 85 \n",
        "\n",
        "Hipótese alternativa: $\\mu$ != 85 "
      ]
    },
    {
      "cell_type": "code",
      "execution_count": null,
      "metadata": {
        "id": "xeO6JNagv12U"
      },
      "outputs": [],
      "source": [
        "x_barra = 80.94\n",
        "media = 85\n",
        "S = 11.6\n",
        "n = 25\n",
        "\n",
        "t = (x_barra - media)/(S/np.sqrt(n))"
      ]
    },
    {
      "cell_type": "code",
      "execution_count": null,
      "metadata": {
        "colab": {
          "base_uri": "https://localhost:8080/"
        },
        "id": "R5zU2IVD16h-",
        "outputId": "9b3927aa-b649-4204-c072-4b10167a7c18"
      },
      "outputs": [
        {
          "data": {
            "text/plain": [
              "-1.750000000000001"
            ]
          },
          "metadata": {},
          "output_type": "display_data"
        }
      ],
      "source": [
        "t"
      ]
    },
    {
      "cell_type": "code",
      "execution_count": null,
      "metadata": {
        "colab": {
          "base_uri": "https://localhost:8080/"
        },
        "id": "aYVDhONzzl0t",
        "outputId": "2ec773a4-5128-4d06-fe85-1f9147ffca3e"
      },
      "outputs": [
        {
          "data": {
            "text/plain": [
              "-1.9623390808264078"
            ]
          },
          "metadata": {},
          "output_type": "display_data"
        }
      ],
      "source": [
        "stats.t.ppf(0.025, df=1000)"
      ]
    },
    {
      "cell_type": "code",
      "execution_count": null,
      "metadata": {
        "id": "IQP6SVdeSukC"
      },
      "outputs": [],
      "source": []
    },
    {
      "cell_type": "markdown",
      "metadata": {
        "id": "-qIFy79xS25a"
      },
      "source": [
        "### Teste de hipótese para $\\sigma^2$"
      ]
    },
    {
      "cell_type": "markdown",
      "metadata": {
        "id": "YCFaxJ4o_nYT"
      },
      "source": [
        "Exemplo: Um fabricante de video-games está preocupado com a média e a variação do tempo de vida útil do controle (ou manete). O fabricante projetou os controles de modo que o tempo médio média de vida útil seja de 800 horas (ou menos) com um desvio padrão inferior a 40 horas. Os testes foram executados em uma amostra aleatória de n = 40 controles, e a média da amostra e o desvio padrão da amostra foram de 825 horas e 48,5 horas, respectivamente.\n",
        "\n",
        "Os dados fornecem evidências suficientes, no nível, para concluir que o desvio padrão da população excede 40 horas?"
      ]
    },
    {
      "cell_type": "code",
      "execution_count": null,
      "metadata": {
        "id": "Znl44IvtSuf6"
      },
      "outputs": [],
      "source": []
    },
    {
      "cell_type": "code",
      "execution_count": null,
      "metadata": {
        "colab": {
          "base_uri": "https://localhost:8080/"
        },
        "id": "Mm5qzixeSuek",
        "outputId": "831a169e-d6fb-4164-ceed-a3ccaa53a75e"
      },
      "outputs": [
        {
          "data": {
            "text/plain": [
              "0.029284224147292814"
            ]
          },
          "execution_count": 6,
          "metadata": {},
          "output_type": "execute_result"
        }
      ],
      "source": [
        "chi2 = 57.336\n",
        "\n",
        "1 - stats.chi2.cdf(chi2,df=39)"
      ]
    },
    {
      "cell_type": "markdown",
      "metadata": {
        "id": "PmuqR4ykTE31"
      },
      "source": [
        "Teste $\\chi^2$ para Goodness of Fit. "
      ]
    },
    {
      "cell_type": "markdown",
      "metadata": {
        "id": "XDbvH4nYssXn"
      },
      "source": [
        "Hipótese nula: O_i = E_i \n",
        "Hipótese alternativa: O_i != E_i\n",
        "\n",
        "Estatística de teste\n",
        "\n",
        "$\\chi^2$ = $\\sum_{i=1}^{n}$ $\\frac{(O_{i} - E_{i})^2}{(E_{i})}$"
      ]
    },
    {
      "cell_type": "markdown",
      "metadata": {
        "id": "SaHvYV8Wtcvs"
      },
      "source": [
        "Regra de rejeição:\n",
        "\n",
        "Rejeita se $\\chi^2$ > $\\chi^2_{a, n-p-1}$, onde p é a quantidade de paramêtros estimados na distribuição"
      ]
    },
    {
      "cell_type": "code",
      "execution_count": null,
      "metadata": {
        "id": "qoVTnBGLV48S"
      },
      "outputs": [],
      "source": []
    },
    {
      "cell_type": "code",
      "execution_count": null,
      "metadata": {
        "id": "HfacUM1EV7Ko"
      },
      "outputs": [],
      "source": [
        "vals = np.load('values_squad3.npy')"
      ]
    },
    {
      "cell_type": "code",
      "execution_count": null,
      "metadata": {
        "colab": {
          "base_uri": "https://localhost:8080/",
          "height": 265
        },
        "id": "fC92EupqV7Hl",
        "outputId": "8cdf6f3c-2b30-4e85-c3b1-006b19e3af90"
      },
      "outputs": [
        {
          "data": {
            "image/png": "[encoded data removed]",
            "text/plain": [
              "<Figure size 432x288 with 1 Axes>"
            ]
          },
          "metadata": {
            "needs_background": "light"
          },
          "output_type": "display_data"
        }
      ],
      "source": [
        "plt.hist(vals,bins=15);"
      ]
    },
    {
      "cell_type": "code",
      "execution_count": null,
      "metadata": {
        "id": "5TGlgWN9uWfp"
      },
      "outputs": [],
      "source": [
        "#Estimador de variância para a distribuição acima? Considerando distribuição normal"
      ]
    },
    {
      "cell_type": "code",
      "execution_count": null,
      "metadata": {
        "id": "Rne_ZecsvvK0"
      },
      "outputs": [],
      "source": [
        "mean = np.mean(vals)"
      ]
    },
    {
      "cell_type": "code",
      "execution_count": null,
      "metadata": {
        "id": "OZ6MXhXquWcA"
      },
      "outputs": [],
      "source": [
        "S2 = np.std(vals)"
      ]
    },
    {
      "cell_type": "code",
      "execution_count": null,
      "metadata": {
        "id": "YaxudJ31vIFd"
      },
      "outputs": [],
      "source": [
        "normal_distribution = stats.norm(scale=S2)"
      ]
    },
    {
      "cell_type": "code",
      "execution_count": null,
      "metadata": {
        "id": "OYb-2KuUuWaK"
      },
      "outputs": [],
      "source": [
        "k = 15\n",
        "interval = np.linspace(np.min(vals),np.max(vals),k)\n",
        "\n",
        "hist, bins = np.histogram(vals, bins=interval)"
      ]
    },
    {
      "cell_type": "code",
      "execution_count": null,
      "metadata": {
        "colab": {
          "base_uri": "https://localhost:8080/"
        },
        "id": "ZNHq7IrfV7FM",
        "outputId": "109cf3c7-aa11-44bf-efe9-10f67dbf1768"
      },
      "outputs": [
        {
          "data": {
            "text/plain": [
              "array([  10,   50,  185,  564, 1466, 2891, 4132, 4331, 3307, 1987,  768,\n",
              "        240,   60,    9])"
            ]
          },
          "execution_count": 15,
          "metadata": {},
          "output_type": "execute_result"
        }
      ],
      "source": [
        "hist"
      ]
    },
    {
      "cell_type": "code",
      "execution_count": null,
      "metadata": {
        "id": "udIv6hRFxBVY"
      },
      "outputs": [],
      "source": [
        "norm_cdf = stats.norm.cdf(interval, scale=S2)"
      ]
    },
    {
      "cell_type": "code",
      "execution_count": null,
      "metadata": {
        "id": "qp2zbdbgxBRj"
      },
      "outputs": [],
      "source": [
        "area_bins = norm_cdf[1:] - norm_cdf[:-1]\n",
        "frequencia_teorica = area_bins * vals.shape[0]"
      ]
    },
    {
      "cell_type": "code",
      "execution_count": null,
      "metadata": {
        "colab": {
          "base_uri": "https://localhost:8080/"
        },
        "id": "X74KCR770HIM",
        "outputId": "a7adafc0-3b07-478d-f91f-50686f210110"
      },
      "outputs": [
        {
          "data": {
            "text/plain": [
              "20000"
            ]
          },
          "execution_count": 18,
          "metadata": {},
          "output_type": "execute_result"
        }
      ],
      "source": [
        "vals.shape[0]"
      ]
    },
    {
      "cell_type": "code",
      "execution_count": null,
      "metadata": {
        "id": "lusQSSdocFI9"
      },
      "outputs": [],
      "source": [
        "chi_calc = np.sum((frequencia_teorica - hist)**2/frequencia_teorica)"
      ]
    },
    {
      "cell_type": "code",
      "execution_count": null,
      "metadata": {
        "id": "NOkVTK-ccEbR"
      },
      "outputs": [],
      "source": []
    },
    {
      "cell_type": "code",
      "execution_count": null,
      "metadata": {
        "id": "NTOdkU1FcEXz"
      },
      "outputs": [],
      "source": [
        "#Para fazer a regra de rejeição, precisamos saber quem é chi_(a, k - p - 1)\n",
        "chi_cut = stats.chi2.ppf(0.95,df=k-1-1)"
      ]
    },
    {
      "cell_type": "code",
      "execution_count": null,
      "metadata": {
        "colab": {
          "base_uri": "https://localhost:8080/"
        },
        "id": "NOvCQeS3eRND",
        "outputId": "f8cfbb27-88cd-46d4-e8d4-31d6e6801c11"
      },
      "outputs": [
        {
          "name": "stdout",
          "output_type": "stream",
          "text": [
            "Hipótese nula não rejeitada pois Chi_calc (20.622788363210688 < Chi_cut (22.362032494826934\n"
          ]
        }
      ],
      "source": [
        "if chi_calc > chi_cut:\n",
        "  print(f'Hipótese nula rejeitada pois Chi_calc ({chi_calc}) > Chi_cut ({chi_cut})')\n",
        "else:\n",
        "  print(f'Hipótese nula não rejeitada pois Chi_calc ({chi_calc}) < Chi_cut ({chi_cut})')"
      ]
    },
    {
      "cell_type": "markdown",
      "metadata": {
        "id": "IFv3NcqFV7nM"
      },
      "source": [
        "### Teste de igualdade de médias entre duas variáveis aleatórias. "
      ]
    },
    {
      "cell_type": "markdown",
      "metadata": {},
      "source": [
        "![Teoria](test_equal_means.jpg)"
      ]
    },
    {
      "cell_type": "markdown",
      "metadata": {},
      "source": [
        "SOURCE: https://www.itl.nist.gov/div898/handbook/eda/section3/eda353.htm#:~:text=The%20two%2Dsample%20t%2Dtest,a%20current%20process%20or%20treatment"
      ]
    },
    {
      "cell_type": "markdown",
      "metadata": {
        "id": "_VbTane9XA_M"
      },
      "source": [
        "Agora tudo vai depender sobre o que determinamos sobre a variância destas variáveis. Vamos desenvolver um pouquinho mais no quadro."
      ]
    },
    {
      "cell_type": "markdown",
      "metadata": {
        "id": "OT97k035XRir"
      },
      "source": [
        "Exercícios: Considere a base de dados Students Performance (https://www.kaggle.com/datasets/spscientist/students-performance-in-exams).\n",
        "\n",
        "Faça testes estatísticos para verificar os seguintes pressupostos:"
      ]
    },
    {
      "cell_type": "markdown",
      "metadata": {
        "id": "GjrYIn5hYLvO"
      },
      "source": [
        "a) A média de *writting* para as meninas e meninos foi igual."
      ]
    },
    {
      "cell_type": "markdown",
      "metadata": {
        "id": "l9Kk0rlOAi4Y"
      },
      "source": [
        "Parâmetro de interesse: $\\mu_{1} e \\mu_{2}$ \n",
        "\n",
        "Estimador para o nosso caso: $\\bar{x_1}$ e $\\bar{x_2}$ \n",
        "\n",
        "Estatística de teste: t (pois não conhecemos o desvio padrão). \n",
        "\n",
        "Hipótese Nula: $\\mu_{1} = \\mu_{2}$\n",
        "\n",
        "Hipótese alternativa: $\\mu \\ne \\mu_{2}$"
      ]
    },
    {
      "cell_type": "code",
      "execution_count": 1,
      "metadata": {},
      "outputs": [],
      "source": [
        "import numpy as np\n",
        "import pandas as pd\n",
        "from scipy import stats\n",
        "import matplotlib.pyplot as plt"
      ]
    },
    {
      "cell_type": "code",
      "execution_count": 2,
      "metadata": {},
      "outputs": [
        {
          "data": {
            "text/html": [
              "<div>\n",
              "<style scoped>\n",
              "    .dataframe tbody tr th:only-of-type {\n",
              "        vertical-align: middle;\n",
              "    }\n",
              "\n",
              "    .dataframe tbody tr th {\n",
              "        vertical-align: top;\n",
              "    }\n",
              "\n",
              "    .dataframe thead th {\n",
              "        text-align: right;\n",
              "    }\n",
              "</style>\n",
              "<table border=\"1\" class=\"dataframe\">\n",
              "  <thead>\n",
              "    <tr style=\"text-align: right;\">\n",
              "      <th></th>\n",
              "      <th>gender</th>\n",
              "      <th>race/ethnicity</th>\n",
              "      <th>parental level of education</th>\n",
              "      <th>lunch</th>\n",
              "      <th>test preparation course</th>\n",
              "      <th>math score</th>\n",
              "      <th>reading score</th>\n",
              "      <th>writing score</th>\n",
              "    </tr>\n",
              "  </thead>\n",
              "  <tbody>\n",
              "    <tr>\n",
              "      <th>0</th>\n",
              "      <td>female</td>\n",
              "      <td>group B</td>\n",
              "      <td>bachelor's degree</td>\n",
              "      <td>standard</td>\n",
              "      <td>none</td>\n",
              "      <td>72</td>\n",
              "      <td>72</td>\n",
              "      <td>74</td>\n",
              "    </tr>\n",
              "    <tr>\n",
              "      <th>1</th>\n",
              "      <td>female</td>\n",
              "      <td>group C</td>\n",
              "      <td>some college</td>\n",
              "      <td>standard</td>\n",
              "      <td>completed</td>\n",
              "      <td>69</td>\n",
              "      <td>90</td>\n",
              "      <td>88</td>\n",
              "    </tr>\n",
              "    <tr>\n",
              "      <th>2</th>\n",
              "      <td>female</td>\n",
              "      <td>group B</td>\n",
              "      <td>master's degree</td>\n",
              "      <td>standard</td>\n",
              "      <td>none</td>\n",
              "      <td>90</td>\n",
              "      <td>95</td>\n",
              "      <td>93</td>\n",
              "    </tr>\n",
              "    <tr>\n",
              "      <th>3</th>\n",
              "      <td>male</td>\n",
              "      <td>group A</td>\n",
              "      <td>associate's degree</td>\n",
              "      <td>free/reduced</td>\n",
              "      <td>none</td>\n",
              "      <td>47</td>\n",
              "      <td>57</td>\n",
              "      <td>44</td>\n",
              "    </tr>\n",
              "    <tr>\n",
              "      <th>4</th>\n",
              "      <td>male</td>\n",
              "      <td>group C</td>\n",
              "      <td>some college</td>\n",
              "      <td>standard</td>\n",
              "      <td>none</td>\n",
              "      <td>76</td>\n",
              "      <td>78</td>\n",
              "      <td>75</td>\n",
              "    </tr>\n",
              "  </tbody>\n",
              "</table>\n",
              "</div>"
            ],
            "text/plain": [
              "   gender race/ethnicity parental level of education         lunch  \\\n",
              "0  female        group B           bachelor's degree      standard   \n",
              "1  female        group C                some college      standard   \n",
              "2  female        group B             master's degree      standard   \n",
              "3    male        group A          associate's degree  free/reduced   \n",
              "4    male        group C                some college      standard   \n",
              "\n",
              "  test preparation course  math score  reading score  writing score  \n",
              "0                    none          72             72             74  \n",
              "1               completed          69             90             88  \n",
              "2                    none          90             95             93  \n",
              "3                    none          47             57             44  \n",
              "4                    none          76             78             75  "
            ]
          },
          "execution_count": 2,
          "metadata": {},
          "output_type": "execute_result"
        }
      ],
      "source": [
        "df = pd.read_csv('StudentsPerformance.csv')\n",
        "df.head()"
      ]
    },
    {
      "cell_type": "code",
      "execution_count": 3,
      "metadata": {},
      "outputs": [
        {
          "data": {
            "text/plain": [
              "(array([  3.,   2.,  15.,  54.,  96.,  89., 114.,  70.,  32.,   7.]),\n",
              " array([ 15. ,  23.5,  32. ,  40.5,  49. ,  57.5,  66. ,  74.5,  83. ,\n",
              "         91.5, 100. ]),\n",
              " <BarContainer object of 10 artists>)"
            ]
          },
          "execution_count": 3,
          "metadata": {},
          "output_type": "execute_result"
        },
        {
          "data": {
            "image/png": "[encoded data removed]",
            "text/plain": [
              "<Figure size 432x288 with 1 Axes>"
            ]
          },
          "metadata": {
            "needs_background": "light"
          },
          "output_type": "display_data"
        }
      ],
      "source": [
        "vals_male = df[df['gender'] == 'male']['writing score'].values\n",
        "vals_female = df[df['gender'] == 'female']['writing score'].values\n",
        "plt.hist(vals_male)"
      ]
    },
    {
      "cell_type": "code",
      "execution_count": 4,
      "metadata": {},
      "outputs": [
        {
          "data": {
            "text/plain": [
              "(array([  1.,   2.,   7.,  15.,  36.,  68., 108., 141.,  82.,  58.]),\n",
              " array([ 10.,  19.,  28.,  37.,  46.,  55.,  64.,  73.,  82.,  91., 100.]),\n",
              " <BarContainer object of 10 artists>)"
            ]
          },
          "execution_count": 4,
          "metadata": {},
          "output_type": "execute_result"
        },
        {
          "data": {
            "image/png": "[encoded data removed]",
            "text/plain": [
              "<Figure size 432x288 with 1 Axes>"
            ]
          },
          "metadata": {
            "needs_background": "light"
          },
          "output_type": "display_data"
        }
      ],
      "source": [
        "plt.hist(vals_female)"
      ]
    },
    {
      "cell_type": "code",
      "execution_count": 8,
      "metadata": {},
      "outputs": [],
      "source": [
        "mean_male = vals_male.mean()\n",
        "var_male = vals_male.var(ddof=1)\n",
        "cnt_male = vals_male.shape[0]\n",
        "\n",
        "mean_female = vals_female.mean()\n",
        "var_female = vals_female.var(ddof=1)\n",
        "cnt_female = vals_female.shape[0]"
      ]
    },
    {
      "cell_type": "code",
      "execution_count": 21,
      "metadata": {
        "id": "0k3w8mMDO4-W"
      },
      "outputs": [],
      "source": [
        "#Calculando o dvp_pooled\n",
        "pooled_var = (var_male*(cnt_male - 1) + var_female*(cnt_female - 1)) / (cnt_male+cnt_female - 2)"
      ]
    },
    {
      "cell_type": "code",
      "execution_count": 22,
      "metadata": {},
      "outputs": [
        {
          "data": {
            "text/plain": [
              "210.1665947765699"
            ]
          },
          "execution_count": 22,
          "metadata": {},
          "output_type": "execute_result"
        }
      ],
      "source": [
        "pooled_var"
      ]
    },
    {
      "cell_type": "code",
      "execution_count": 23,
      "metadata": {
        "id": "lEkaWS91RgfE"
      },
      "outputs": [],
      "source": [
        "#Calculando a estatística de teste (t ou z?)\n",
        "t = (mean_male - mean_female)/(np.sqrt(pooled_var*(1/cnt_male + 1/cnt_female)))"
      ]
    },
    {
      "cell_type": "code",
      "execution_count": 24,
      "metadata": {},
      "outputs": [
        {
          "data": {
            "text/plain": [
              "-9.979557910004507"
            ]
          },
          "execution_count": 24,
          "metadata": {},
          "output_type": "execute_result"
        }
      ],
      "source": [
        "t"
      ]
    },
    {
      "cell_type": "code",
      "execution_count": 26,
      "metadata": {
        "id": "yrhyZAxAOGQT"
      },
      "outputs": [
        {
          "data": {
            "text/plain": [
              "-1.962343846216334"
            ]
          },
          "execution_count": 26,
          "metadata": {},
          "output_type": "execute_result"
        }
      ],
      "source": [
        "#Encontrando o valor de t_limite (usa 2,5% pq eh bi caudal)\n",
        "stats.t.ppf(0.025, df=cnt_male+cnt_female-2)"
      ]
    },
    {
      "cell_type": "code",
      "execution_count": 29,
      "metadata": {},
      "outputs": [
        {
          "data": {
            "text/plain": [
              "1.009938853433967e-22"
            ]
          },
          "execution_count": 29,
          "metadata": {},
          "output_type": "execute_result"
        }
      ],
      "source": [
        "#Encontrando o p_value\n",
        "p_value = stats.t.cdf(t,df=cnt_male+cnt_female-2)\n",
        "p_value"
      ]
    },
    {
      "cell_type": "code",
      "execution_count": 34,
      "metadata": {},
      "outputs": [
        {
          "data": {
            "text/plain": [
              "2.019877706867934e-22"
            ]
          },
          "execution_count": 34,
          "metadata": {},
          "output_type": "execute_result"
        }
      ],
      "source": [
        "from scipy.stats import ttest_ind\n",
        "tstat, pval = ttest_ind(vals_male,vals_female)\n",
        "pval\n"
      ]
    },
    {
      "cell_type": "markdown",
      "metadata": {},
      "source": [
        "#### Como o p_value é extremamente baixo, rejeitamos a Hipotese Nula.  Também podemos afirmar isso já que Tvalue<Tlimite. "
      ]
    },
    {
      "cell_type": "markdown",
      "metadata": {
        "id": "tGwTaaWLYqyN"
      },
      "source": [
        "b) Independente do tipo de alimentação (*standard* ou *reduced*) do aluno, a média em matemática desses grupos é igual."
      ]
    },
    {
      "cell_type": "code",
      "execution_count": 36,
      "metadata": {
        "id": "pv2_T4o0PIYa"
      },
      "outputs": [
        {
          "data": {
            "text/plain": [
              "(array([  1.,   3.,  10.,  39.,  95., 131., 141., 111.,  77.,  37.]),\n",
              " array([ 19. ,  27.1,  35.2,  43.3,  51.4,  59.5,  67.6,  75.7,  83.8,\n",
              "         91.9, 100. ]),\n",
              " <BarContainer object of 10 artists>)"
            ]
          },
          "execution_count": 36,
          "metadata": {},
          "output_type": "execute_result"
        },
        {
          "data": {
            "image/png": "[encoded data removed]",
            "text/plain": [
              "<Figure size 432x288 with 1 Axes>"
            ]
          },
          "metadata": {
            "needs_background": "light"
          },
          "output_type": "display_data"
        }
      ],
      "source": [
        "#Calculando as médias\n",
        "vals_std = df[df['lunch'] == 'standard']['math score'].values\n",
        "vals_rdc = df[df['lunch'] == 'free/reduced']['math score'].values\n",
        "plt.hist(vals_std)\n"
      ]
    },
    {
      "cell_type": "code",
      "execution_count": 37,
      "metadata": {},
      "outputs": [
        {
          "data": {
            "text/plain": [
              "(array([ 2.,  1.,  9., 21., 63., 79., 93., 65., 15.,  7.]),\n",
              " array([  0.,  10.,  20.,  30.,  40.,  50.,  60.,  70.,  80.,  90., 100.]),\n",
              " <BarContainer object of 10 artists>)"
            ]
          },
          "execution_count": 37,
          "metadata": {},
          "output_type": "execute_result"
        },
        {
          "data": {
            "image/png": "[encoded data removed]",
            "text/plain": [
              "<Figure size 432x288 with 1 Axes>"
            ]
          },
          "metadata": {
            "needs_background": "light"
          },
          "output_type": "display_data"
        }
      ],
      "source": [
        "plt.hist(vals_rdc)"
      ]
    },
    {
      "cell_type": "code",
      "execution_count": 38,
      "metadata": {},
      "outputs": [],
      "source": [
        "mean_std = vals_std.mean()\n",
        "var_std = vals_std.var(ddof=1)\n",
        "cnt_std = vals_std.shape[0]\n",
        "\n",
        "mean_rdc = vals_rdc.mean()\n",
        "var_rdc = vals_rdc.var(ddof=1)\n",
        "cnt_rdc = vals_rdc.shape[0]"
      ]
    },
    {
      "cell_type": "code",
      "execution_count": 39,
      "metadata": {
        "id": "SZ08lDTuPIYg"
      },
      "outputs": [
        {
          "data": {
            "text/plain": [
              "201.81467050270427"
            ]
          },
          "execution_count": 39,
          "metadata": {},
          "output_type": "execute_result"
        }
      ],
      "source": [
        "#Calculando o dvp_pooled\n",
        "pooled_var = (var_std*(cnt_std - 1) + var_rdc*(cnt_rdc - 1)) / (cnt_std+cnt_rdc - 2)\n",
        "pooled_var"
      ]
    },
    {
      "cell_type": "code",
      "execution_count": 40,
      "metadata": {
        "id": "8OT5ELJ3PIYh"
      },
      "outputs": [
        {
          "data": {
            "text/plain": [
              "11.837180472914612"
            ]
          },
          "execution_count": 40,
          "metadata": {},
          "output_type": "execute_result"
        }
      ],
      "source": [
        "#Calculando a estatística de teste (t ou z?)\n",
        "t = (mean_std - mean_rdc)/(np.sqrt(pooled_var*(1/cnt_std + 1/cnt_rdc)))\n",
        "t"
      ]
    },
    {
      "cell_type": "code",
      "execution_count": 41,
      "metadata": {
        "id": "nKqEuCc_PIYi"
      },
      "outputs": [
        {
          "data": {
            "text/plain": [
              "-1.962343846216334"
            ]
          },
          "execution_count": 41,
          "metadata": {},
          "output_type": "execute_result"
        }
      ],
      "source": [
        "#Encontrando o valor de z_limite\n",
        "stats.t.ppf(0.025, df=cnt_std+cnt_rdc-2)"
      ]
    },
    {
      "cell_type": "code",
      "execution_count": 42,
      "metadata": {},
      "outputs": [
        {
          "data": {
            "text/plain": [
              "1.0"
            ]
          },
          "execution_count": 42,
          "metadata": {},
          "output_type": "execute_result"
        }
      ],
      "source": [
        "#Encontrando o p_value\n",
        "p_value = stats.t.cdf(t,df=cnt_male+cnt_female-2)\n",
        "p_value"
      ]
    },
    {
      "cell_type": "markdown",
      "metadata": {},
      "source": [
        "#### Como o p_value é maior que o grau de significancia (5%), NÃO rejeitamos a Hipotese Nula.  Também podemos afirmar isso já que Tvalue>Tlimite. "
      ]
    },
    {
      "cell_type": "markdown",
      "metadata": {
        "id": "03sCJU11lWoU"
      },
      "source": [
        "### Teste para duas proporções."
      ]
    },
    {
      "cell_type": "code",
      "execution_count": null,
      "metadata": {
        "id": "3E_XFpoBlZNR"
      },
      "outputs": [],
      "source": []
    }
  ],
  "metadata": {
    "colab": {
      "collapsed_sections": [],
      "provenance": []
    },
    "kernelspec": {
      "display_name": "Python 3.9.12 ('base')",
      "language": "python",
      "name": "python3"
    },
    "language_info": {
      "codemirror_mode": {
        "name": "ipython",
        "version": 3
      },
      "file_extension": ".py",
      "mimetype": "text/x-python",
      "name": "python",
      "nbconvert_exporter": "python",
      "pygments_lexer": "ipython3",
      "version": "3.9.12"
    },
    "vscode": {
      "interpreter": {
        "hash": "cea1ecbc9060237308d6f43d2a8f2f7ecb9842b1b44e6cce898a5c7b51f4cadd"
      }
    }
  },
  "nbformat": 4,
  "nbformat_minor": 0
}
