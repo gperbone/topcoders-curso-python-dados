{
 "cells": [
  {
   "cell_type": "markdown",
   "metadata": {},
   "source": [
    "# Estrutura de Dados\n",
    "Vocês já conhecem as variáveis e as listas, mas no Python vamos além disso!<br>\n",
    "Hoje aprenderemos novas maneiras de armazenar e esturar nossos dados.<br><br>\n",
    "<div>\n",
    "<img src=\"https://www.phylos.net/wp-content/uploads/2021/03/EstruturaDado.jpg\" width=\"500\"/>\n",
    "</div>"
   ]
  },
  {
   "cell_type": "markdown",
   "metadata": {},
   "source": [
    "## 📍 Tópicos de Hoje 📍\n",
    "<br>\n",
    "\n",
    "👶 [Tuplas: O Que São e Por Que Usar](#um)\n",
    "\n",
    "🚶‍ [Dicionários: Muito Além do Livro que Você Usou na Escola](#dois)\n",
    "\n",
    "🏃 [Estrutura de Dados Aplicadas às Funções](#tres)\n",
    "    \n",
    "🏆 [Exercícios](#quatro)\n",
    "\n",
    "🚀 [O Futuro...](#cinco)"
   ]
  },
  {
   "cell_type": "markdown",
   "metadata": {},
   "source": [
    "## 📜  Tuplas: O Que São e Por Que Usar 📜 <a class=\"anchor\" id=\"um\"></a>\n",
    "<br>\n",
    "\n",
    "<div align=\"justify\">\n",
    "&emsp; Tuplas podem ser pensadas como listas mas com algumas restrições: não podemos alterar uma tupla nem em ordem, nem conteúdo. Por que deveriamos usa-las então? Velocidade e organização de código. Um programador ao ver uma tupla sabe que seu conteúdo não pode ser alterado indiscriminadamente, além disso, a capacidade de alteração numa lista exige algoritmos mais complexos e lentos, então trabalhar com tuplas nos permite maior desempenho.<br>\n",
    "&emsp; As tuplas são declaradas entre parênteses, possuem algumas funções nativas semelhantes as listas, como len() e type(), e também são consultadas da mesma maneira com os colchetes. Além disso é importante notar que tuplas aceitam dados mistos dentro de sí.\n",
    "</div>"
   ]
  },
  {
   "cell_type": "code",
   "execution_count": null,
   "metadata": {},
   "outputs": [],
   "source": [
    "nossaPrimeiraTupla = (\"Manga\", \"Pera\", 7, True, 0.34)\n",
    "print(nossaPrimeiraTupla[1])\n",
    "print(len(nossaPrimeiraTupla))\n",
    "print(type(nossaPrimeiraTupla))"
   ]
  },
  {
   "cell_type": "markdown",
   "metadata": {},
   "source": [
    "---\n",
    "<div align=\"justify\">\n",
    "&emsp; Para alterarmos uma tupla precisamos fazer um <i>cast</i> para listas, alterar a lista, e retornar para uma tupla.\n",
    "</div>"
   ]
  },
  {
   "cell_type": "code",
   "execution_count": null,
   "metadata": {},
   "outputs": [],
   "source": [
    "print(f\"Tupla antes de alterar: {nossaPrimeiraTupla}\")\n",
    "\n",
    "listaAuxiliar = list(nossaPrimeiraTupla)\n",
    "listaAuxiliar.append(\"AlteracaoNaTupla\")\n",
    "nossaPrimeiraTupla = tuple(listaAuxiliar)\n",
    "\n",
    "print(f\"Tupla depois de alterar: {nossaPrimeiraTupla}\")"
   ]
  },
  {
   "cell_type": "markdown",
   "metadata": {},
   "source": [
    "---\n",
    "<div align=\"justify\">\n",
    "&emsp; Tuplas podem ser desempacotadas, isso é, desmembrar seus valores para variaveis individuais, ou mesmo para as listas usando <b>*</b>.\n",
    "</div>"
   ]
  },
  {
   "cell_type": "code",
   "execution_count": null,
   "metadata": {},
   "outputs": [],
   "source": [
    "x, y = 5, 10\n",
    "print(x)\n",
    "print(y)"
   ]
  },
  {
   "cell_type": "code",
   "execution_count": null,
   "metadata": {},
   "outputs": [],
   "source": [
    "nossaPrimeiraTupla = (\"Manga\", \"Pera\", 7, True, 0.34)\n",
    "(fruta1, fruta2, *restoTupla, vddFalso, ultimoNumero) = nossaPrimeiraTupla\n",
    "print(fruta1)\n",
    "print(fruta2)\n",
    "print(restoTupla) # Note que restoTupla é uma lista com tudo que sobrou do desempacotamento\n",
    "print(vddFalso) \n",
    "print(ultimoNumero) "
   ]
  },
  {
   "cell_type": "markdown",
   "metadata": {},
   "source": [
    "---\n",
    "<div align=\"justify\">\n",
    "&emsp; Tuplas podem ser percorridas em loop igualmente as listas, além disso podemos concatenar tuplas com o + e multiplicar elas por inteiros usando *.\n",
    "</div>"
   ]
  },
  {
   "cell_type": "code",
   "execution_count": null,
   "metadata": {},
   "outputs": [],
   "source": [
    "nossaPrimeiraTupla = (\"Manga\", \"Pera\", 7, True, 0.34)\n",
    "for item in nossaPrimeiraTupla:\n",
    "    print(item)\n",
    "print()\n",
    "    \n",
    "tuplaDois = (\"Brian\", 10)\n",
    "tuplaTres = nossaPrimeiraTupla + tuplaDois\n",
    "print(f\"Tupla concatenada: {tuplaTres}\")\n",
    "\n",
    "tuplaTres = tuplaTres * 2\n",
    "print(f\"Tupla dobrada: {tuplaTres}\")"
   ]
  },
  {
   "cell_type": "markdown",
   "metadata": {},
   "source": [
    "---\n",
    "<div align=\"justify\">\n",
    "&emsp; Por fim tuplas também possuem os métodos count() e index() que, respectivamente, contam quantos dados iguais ao que passarmos a tupla possui, e em qual <i>index</i> está o primeiro dado igual ao que passamos.\n",
    "</div>"
   ]
  },
  {
   "cell_type": "code",
   "execution_count": null,
   "metadata": {},
   "outputs": [],
   "source": [
    "repeticoesManga = tuplaTres.count(\"Manga\")\n",
    "print(f\"Manga aparece {repeticoesManga} vezes na tupla\")\n",
    "\n",
    "indexPrimeiroTrue = tuplaTres.index(True)\n",
    "print(f\"O primeiro True está na index \\\"{indexPrimeiroTrue}\\\"\")"
   ]
  },
  {
   "cell_type": "markdown",
   "metadata": {},
   "source": [
    "## 📚 Dicionários: Muito Além do Livro que Você Usou na Escola 📚 <a class=\"anchor\" id=\"dois\"></a>\n",
    "<br>\n",
    "<div align=\"justify\">\n",
    "&emsp; Dicionários também podem ser pensados analogamente a listas, mas não pensaremos mais no conceito de <i>index</i> e sim em palavras-chave. Assim como um dicionário real possui palavras e suas definições, um dicionário em Python também! Entretanto devemos nos atentar que um dicionário não pode ter duas definições para uma mesma palavra (mas pode ter uma definição única definida por uma lista!)<br>\n",
    "&emsp; Dicionarios são declarados entre chaves, e acessados com colchetes (usando as palavras-chave e não as <i>indexes</i>) ou com a função get() usando a palavra-chave como parâmetro. Além disso com a função keys() podemos listar todas as palavras-chave de um dado dicionário.\n",
    "</div>"
   ]
  },
  {
   "cell_type": "code",
   "execution_count": null,
   "metadata": {},
   "outputs": [],
   "source": [
    "pessoa = {\n",
    "    \"nome\": \"Lucas\",\n",
    "    \"idade\": 32,\n",
    "    \"profissao\": \"Empresario\",\n",
    "    \"filhos\": [\"Ana\", \"Claudio\", \"Luiza\"]\n",
    "}\n",
    "\n",
    "print(\"Dicionario:\",pessoa,\"\\n\")\n",
    "print(\"Chaves:\",pessoa.keys(),\"\\n\")\n",
    "print(\"Nome:\",pessoa[\"nome\"],\"\\n\")\n",
    "\n",
    "# values() retorna os valores armezenados\n",
    "print(\"Valores:\",pessoa.values(),\"\\n\")\n",
    "# items() retorna uma lista de tuplas contendo palavra chave e valor associado\n",
    "print(\"Itens:\",pessoa.items())"
   ]
  },
  {
   "cell_type": "code",
   "execution_count": null,
   "metadata": {},
   "outputs": [],
   "source": [
    "list(pessoa.keys())[1]"
   ]
  },
  {
   "cell_type": "markdown",
   "metadata": {},
   "source": [
    "---\n",
    "<div align=\"justify\">\n",
    "&emsp; Podemos adicionar itens de um dicionário usando <b>nomeDic[\"novaPalavraChave\"] = valor</b>, podemos atualizar da mesma maneira mas usando uma palavra-chave já existente, ou mesmo usar o método update() com o parâmetro <b>{\"palavraChave\": novoValor}</b>. Já para apagar itens temos várias maneiras: podemos usar o método pop() com a palavra-chave a ser deletada como parâmetro, ou o método popitem() para deletar o último item, ou mesmo a <b>del dicionario[\"chaveParaDeletar\"]</b>, por fim temos o método clear() que limpa o dicionário todo.<br>\n",
    "</div>"
   ]
  },
  {
   "cell_type": "code",
   "execution_count": null,
   "metadata": {},
   "outputs": [],
   "source": [
    "print(\"Dicionario inicialmente:\",pessoa,\"\\n\")\n",
    "\n",
    "# adicionar palavra chave\n",
    "pessoa[\"Nacionalidade\"] = \"Brasileiro\"\n",
    "\n",
    "print(\"Dicionario incrementado:\",pessoa,\"\\n\")\n",
    "\n",
    "# alterar palavras chaves\n",
    "pessoa[\"nome\"] = \"Pedro\"\n",
    "pessoa.update({\"idade\": 35, \"Nacionalidade\": \"Chileno\", \"Cachorro\":\"Billy\"})\n",
    "\n",
    "print(\"Dicionario atualizado:\",pessoa,\"\\n\")\n",
    "\n",
    "# apagar palavras chaves\n",
    "pessoa.pop(\"nome\")\n",
    "print(\"Dicionario sem nome:\",pessoa,\"\\n\")\n",
    "\n",
    "pessoa.popitem()\n",
    "print(\"Dicionario ultima chave:\",pessoa,\"\\n\")\n",
    "\n",
    "del pessoa[\"profissao\"]\n",
    "print(\"Dicionario sem profissao:\",pessoa,\"\\n\")\n",
    "\n",
    "pessoa.clear()\n",
    "print(\"Dicionario vazio:\",pessoa,\"\\n\")"
   ]
  },
  {
   "cell_type": "markdown",
   "metadata": {},
   "source": [
    "---\n",
    "<div align=\"justify\">\n",
    "&emsp; Dicionário podem ser usados em <i>loops</i> normalmente também, apenas uma atenção ao uso juntamente do  método items() que pode ser interessante.<br>\n",
    "</div>"
   ]
  },
  {
   "cell_type": "code",
   "execution_count": null,
   "metadata": {},
   "outputs": [],
   "source": [
    "pessoa = {\n",
    "    \"nome\": \"Lucas\",\n",
    "    \"idade\": 32,\n",
    "    \"profissao\": \"Empresario\"\n",
    "}\n",
    "\n",
    "for dado in pessoa:\n",
    "    print(pessoa[dado])\n",
    "    \n",
    "for dado in pessoa.values():\n",
    "    print(dado)\n",
    "    \n",
    "# lista = [1, 2, 3]\n",
    "# for i in range(len(lista)):\n",
    "#     print(lista[i])\n",
    "\n",
    "\n",
    "print()\n",
    "    \n",
    "for chave, dado in pessoa.items():\n",
    "    print(f\"A chave \\'{chave}\\' possui valor: \\'{dado}\\'\")"
   ]
  },
  {
   "cell_type": "markdown",
   "metadata": {},
   "source": [
    "---\n",
    "<div align=\"justify\">\n",
    "&emsp; Assim como listas podem armazenar listas, dicionários podem armazenar dicionários, formando dicionários de mais de uma dimensão. Veja o exemplo:<br>\n",
    "</div>"
   ]
  },
  {
   "cell_type": "code",
   "execution_count": null,
   "metadata": {},
   "outputs": [],
   "source": [
    "filhos = {\n",
    "  \"filho1\" : {\n",
    "    \"nome\" : \"Gabriel\",\n",
    "    \"ano\" : 2004\n",
    "  },\n",
    "  \"filho2\" : {\n",
    "    \"nome\" : \"Pedro\",\n",
    "    \"ano\" : 2007\n",
    "  },\n",
    "  \"filho3\" : {\n",
    "    \"nome\" : \"Gustavo\",\n",
    "    \"ano\" : 2011\n",
    "  }\n",
    "}\n",
    "\n",
    "print(\"Primeiro filho:\", filhos[\"filho1\"][\"nome\"])"
   ]
  },
  {
   "cell_type": "code",
   "execution_count": null,
   "metadata": {},
   "outputs": [],
   "source": [
    "for filho in filhos.values():\n",
    "    for chave, dado in filho.items(): \n",
    "        print(f\"Dado: {chave} - {dado}\")"
   ]
  },
  {
   "cell_type": "markdown",
   "metadata": {},
   "source": [
    "---\n",
    "<div align=\"justify\">\n",
    "&emsp; No contexto de dicionários o comando <b>in</b> tem muita força. Imagine que você quer adicionar valores em uma chave mas não sabe sequer se ela existe naquele contexto, como poderiamos fazer?<br>\n",
    "</div>"
   ]
  },
  {
   "cell_type": "code",
   "execution_count": null,
   "metadata": {},
   "outputs": [],
   "source": [
    "estudante = {\n",
    "    'nome': \"Brian\",\n",
    "    'escola': \"USP\"\n",
    "}\n",
    "\n",
    "materias = [\"Calculo\", \"Mecanica\", \"Algebra Linear\", \"Intro. Comp.\"]\n",
    "\n",
    "for materia in materias:\n",
    "    if 'materias' in estudante:\n",
    "        estudante[\"materias\"].append(materia)\n",
    "    else:\n",
    "        estudante[\"materias\"] = [materia]\n",
    "        \n",
    "print(estudante)"
   ]
  },
  {
   "cell_type": "markdown",
   "metadata": {},
   "source": [
    "## 🎯 Exercícios 🎯 <a class=\"anchor\" id=\"quatro\"></a>\n",
    "\n",
    "**1)** Escreva uma função que conta a quantidade de vogais em um texto e armazena tal quantidade em um dicionário, onde a chave é a vogal considerada."
   ]
  },
  {
   "cell_type": "code",
   "execution_count": 8,
   "metadata": {},
   "outputs": [
    {
     "name": "stdout",
     "output_type": "stream",
     "text": [
      "{'o': 2, 'a': 1, 'u': 1, 'e': 1}\n"
     ]
    }
   ],
   "source": [
    "#para este codigo, nao vamos considerar acentuacoes\n",
    "texto = \"Ola, tudo bem?\"\n",
    "\n",
    "def is_vowel(elem):\n",
    "    if elem.lower() in \"aeiou\":\n",
    "        return True\n",
    "    else: \n",
    "        return False\n",
    "\n",
    "texto = texto.lower()\n",
    "contador = 0\n",
    "dict = {}\n",
    "while contador < len(texto):\n",
    "    if is_vowel(texto[contador]):\n",
    "        if texto[contador] in dict.keys():\n",
    "            dict[texto[contador]] += 1\n",
    "        else:\n",
    "            dict[texto[contador]] = 1\n",
    "    contador += 1\n",
    "\n",
    "print(dict)"
   ]
  },
  {
   "cell_type": "markdown",
   "metadata": {},
   "source": [
    "**2)** Escreva um programa que lê duas notas de vários alunos e armazena tais notas em um dicionário, onde a chave é o nome\n",
    "do aluno. A entrada de dados deve terminar quando for lida uma string vazia como nome. Escreva uma função que retorna a média do aluno, dado seu nome. "
   ]
  },
  {
   "cell_type": "code",
   "execution_count": 16,
   "metadata": {},
   "outputs": [
    {
     "name": "stdout",
     "output_type": "stream",
     "text": [
      "{'Gustavo': [7.0, 10.0], 'Maria': [8.0, 8.0]}\n"
     ]
    }
   ],
   "source": [
    "nome = \"begin\"\n",
    "dict_notas = {}\n",
    "\n",
    "while nome != \"\":\n",
    "    nome = input(\"Digite o nome: \")\n",
    "\n",
    "    if nome != \"\":\n",
    "        dict_notas[nome] = []\n",
    "        dict_notas[nome].append(float(input(\"Digite a 1a nota: \")))\n",
    "        dict_notas[nome].append(float(input(\"Digite a 2a nota: \")))\n",
    "\n",
    "print(dict_notas)\n"
   ]
  },
  {
   "cell_type": "code",
   "execution_count": 14,
   "metadata": {},
   "outputs": [
    {
     "name": "stdout",
     "output_type": "stream",
     "text": [
      "A média de Gustavo é 8.5\n"
     ]
    }
   ],
   "source": [
    "def media(dict_notas, aluno):\n",
    "    if aluno in dict_notas.keys():\n",
    "        print(f\"A média de {aluno} é {sum(dict_notas[aluno])/len(dict_notas[aluno])}\")\n",
    "    else:\n",
    "        print(\"O aluno não tem notas registradas!\")\n",
    "\n",
    "nome = input(\"Digite o nome do aluno para saber sua média: \")\n",
    "\n",
    "media(dict_notas, nome)"
   ]
  },
  {
   "cell_type": "markdown",
   "metadata": {},
   "source": [
    "**3)** Uma pista de Kart permite 10 voltas para cada um de 6 corredores. Escreva um programa que leia todos os tempos\n",
    "em segundos e os guarde em um dicionário, onde a chave é o nome do corredor. Ao final diga de quem foi a melhor volta da\n",
    "prova e em que volta; e ainda a classificação final em ordem. O campeão é o que tem a menor média de\n",
    "tempos. (Para facilitar use listas no código e não trabalhe com _input_).\n",
    "\n",
    "Dica: Para ordenar uma lista bidimensional usem o paramêtro \"key= lambda x: x[<i>index referência</i>]\" no método de sort."
   ]
  },
  {
   "cell_type": "code",
   "execution_count": 21,
   "metadata": {},
   "outputs": [
    {
     "name": "stdout",
     "output_type": "stream",
     "text": [
      "{'jogador 1': [72, 99, 58, 51, 69, 35], 'jogador 2': [73, 77, 43, 76, 97, 90], 'jogador 3': [83, 39, 35, 74, 86, 50], 'jogador 4': [69, 58, 66, 95, 67, 48], 'jogador 5': [43, 78, 43, 30, 57, 88], 'jogador 6': [40, 86, 70, 59, 74, 65]}\n",
      "('jogador 5', 3, 30)\n",
      "A melhor volta foi do jogador 5, que completou em 30 segundos a sua 3a volta!\n",
      "O vencedor foi o jogador 5, que completou suas voltas com média de 56.5 segundos \n"
     ]
    }
   ],
   "source": [
    "import random\n",
    "lista = {\n",
    "    \"jogador 1\": random.choices(range(30, 100), k=6),\n",
    "    \"jogador 2\": random.choices(range(30, 100), k=6),\n",
    "    \"jogador 3\": random.choices(range(30, 100), k=6),\n",
    "    \"jogador 4\": random.choices(range(30, 100), k=6),\n",
    "    \"jogador 5\": random.choices(range(30, 100), k=6),\n",
    "    \"jogador 6\": random.choices(range(30, 100), k=6),\n",
    "}\n",
    "\n",
    "#melhor volta\n",
    "\n",
    "melhor_volta = (\"jogador 1\", 0, lista[\"jogador 1\"][0])\n",
    "for i in lista:\n",
    "    for index, j in enumerate(lista[i]):\n",
    "        if lista[i][index] < melhor_volta[2]:\n",
    "            melhor_volta = (i, index, j)\n",
    "\n",
    "print(lista)\n",
    "print(melhor_volta)\n",
    "print(f\"A melhor volta foi do {melhor_volta[0]}, que completou em {melhor_volta[2]} segundos a sua {melhor_volta[1]}a volta!\")\n",
    "\n",
    "\n",
    "#Melhor media de tempos\n",
    "\n",
    "melhor_media = (\"jogador 1\", sum(lista[\"jogador 1\"])/len(lista[\"jogador 1\"]))\n",
    "\n",
    "for i in lista:\n",
    "    if (sum(lista[i])/len(lista[i])) < melhor_media[1]:\n",
    "        melhor_media = (i, (sum(lista[i])/len(lista[i])))\n",
    "\n",
    "print(f\"O vencedor foi o {melhor_media[0]}, que completou suas voltas com média de {melhor_media[1]} segundos \")\n",
    "  \n"
   ]
  },
  {
   "cell_type": "markdown",
   "metadata": {},
   "source": [
    "**4)** Escreva um programa para armazenar uma agenda de telefones em um dicionário. Cada pessoa pode ter um ou mais telefones e a chave do dicionário é o nome da pessoa. Seu programa deve ter as seguintes funções:\n",
    "- incluirNovoNome: essa função acrescenta um novo nome na agenda, com um ou mais telefones. Ela deve receber como argumentos o nome e os telefones.\n",
    "- incluirTelefone: essa função acrescenta um telefone em um nome existente na agenda. Caso o nome não exista na agenda, você deve perguntar se a pessoa deseja incluí-lo. Caso a resposta seja afirmativa, use a função anterior para incluir o novo nome.\n",
    "- excluirTelefone: essa função exclui um telefone de uma pessoa que já está na agenda. Se a pessoa tiver apenas um telefone, ela deve ser excluída da agenda.\n",
    "- excluirNome: essa função exclui uma pessoa da agenda.\n",
    "- consultarTelefone – essa função retorna os telefones de uma pessoa na agenda. "
   ]
  },
  {
   "cell_type": "code",
   "execution_count": 27,
   "metadata": {},
   "outputs": [
    {
     "name": "stdout",
     "output_type": "stream",
     "text": [
      "{}\n",
      "\n",
      "    ::: LISTA DE OPÇÕES :::\n",
      "    [1] Incluir novo nome\n",
      "    [2] Incluir telefone\n",
      "    [3] Excluir telefone\n",
      "    [4] Excluir nome\n",
      "    [5] Consultar telefone\n",
      "    [0] Sair\n",
      "    \n",
      "Contato Gustavo adicionado.\n",
      "{'Gustavo': ['1234']}\n",
      "\n",
      "    ::: LISTA DE OPÇÕES :::\n",
      "    [1] Incluir novo nome\n",
      "    [2] Incluir telefone\n",
      "    [3] Excluir telefone\n",
      "    [4] Excluir nome\n",
      "    [5] Consultar telefone\n",
      "    [0] Sair\n",
      "    \n",
      "O contato que você tentou alterar não existe, ou a opção digitada é invalida. Tente Novamente!\n",
      "{'Gustavo': ['1234']}\n",
      "\n",
      "    ::: LISTA DE OPÇÕES :::\n",
      "    [1] Incluir novo nome\n",
      "    [2] Incluir telefone\n",
      "    [3] Excluir telefone\n",
      "    [4] Excluir nome\n",
      "    [5] Consultar telefone\n",
      "    [0] Sair\n",
      "    \n",
      "Até mais\n"
     ]
    }
   ],
   "source": [
    "def incluirNovoNome(lista_contatos, nome, tel):\n",
    "    lista_contatos[nome] = tel\n",
    "    print(f\"Contato {nome} adicionado.\")\n",
    "    return lista_contatos\n",
    "\n",
    "def incluirTelefone(lista_contatos, nome, tel):\n",
    "    if nome in lista_contatos:\n",
    "        lista_contatos[nome].append(tel)\n",
    "        return lista_contatos\n",
    "    else:\n",
    "        print(\"Contato inexistente. Deseja adicionar? (S ou N): \")\n",
    "        opt = input(\"Contato inexistente. Deseja adicionar? (S ou N): \").upper()\n",
    "\n",
    "        if opt == \"S\":\n",
    "            return incluirNovoNome(lista_contatos, nome, tel)\n",
    "        else:\n",
    "            return lista_contatos\n",
    "\n",
    "\n",
    "def excluirTelefone(lista_contatos, nome, tel):\n",
    "    for i in range(len(lista_contatos[nome])):\n",
    "        if lista_contatos[nome][i] == tel:\n",
    "            lista_contatos[nome].pop(i)\n",
    "            print(\"Telefone informado foi excluido.\")\n",
    "            return lista_contatos\n",
    "        else:\n",
    "            print(\"Telefone informado não existe para o contato informado.\")\n",
    "            \n",
    "    return lista_contatos\n",
    "\n",
    "def excluirNome(lista_contatos, nome):\n",
    "    del lista_contatos[nome]\n",
    "    print(f\"{nome} foi excluído da lista de contatos.\")\n",
    "\n",
    "    return lista_contatos\n",
    "\n",
    "def consultarTelefone(lista_contatos, nome):\n",
    "    print(f\"{nome}: {(', ').join(lista_contatos[nome])}\")\n",
    "    return lista_contatos\n",
    "\n",
    "def menu(lista_contatos):\n",
    "    lista_contatos = lista_contatos\n",
    "\n",
    "    print('''\n",
    "    ::: LISTA DE OPÇÕES :::\n",
    "    [1] Incluir novo nome\n",
    "    [2] Incluir telefone\n",
    "    [3] Excluir telefone\n",
    "    [4] Excluir nome\n",
    "    [5] Consultar telefone\n",
    "    [0] Sair\n",
    "    ''')\n",
    "\n",
    "    \n",
    "    opt = input(\"Digite a opção desejada: \")\n",
    "\n",
    "    while not(opt.isdigit()):\n",
    "      opt = input(\"Digite apenas números! Digite a opção desejada: \")\n",
    "\n",
    "    opt = int(opt)\n",
    "    \n",
    "    if opt == 0:\n",
    "        print(\"Até mais\")\n",
    "        return 0, lista_contatos\n",
    "\n",
    "    nome = input(\"Digite o nome: \")\n",
    "    contato_na_lista = nome in lista_contatos\n",
    "\n",
    "    if opt == 1:\n",
    "        if contato_na_lista == False:\n",
    "            qtd_tel = int(input(\"Quantos telefones quer incluir? \"))\n",
    "            tels = []\n",
    "            for i in range(qtd_tel):\n",
    "                tels.append(input(f\"Digite o {i+1} telefone: \"))\n",
    "            lista_contatos = incluirNovoNome(lista_contatos, nome, tels)\n",
    "            return 1, lista_contatos\n",
    "        else:\n",
    "            print(\"Contato já existe\")\n",
    "            return 1, lista_contatos\n",
    "    elif opt == 2 and contato_na_lista == True:\n",
    "        tel = input(\"Digite o telefone a ser incluso: \")\n",
    "        lista_contatos = incluirTelefone(lista_contatos, nome,tel)\n",
    "        return 2, lista_contatos\n",
    "    elif opt == 3 and contato_na_lista == True:\n",
    "        tel = input(\"Digite o telefone a ser excluido: \")\n",
    "        lista_contatos = excluirTelefone(lista_contatos, nome,tel)\n",
    "        return 3, lista_contatos\n",
    "    elif opt == 4 and contato_na_lista == True:\n",
    "        lista_contatos = excluirNome(lista_contatos, nome)\n",
    "        return 4, lista_contatos\n",
    "    elif opt == 5 and contato_na_lista == True:\n",
    "        lista_contatos = consultarTelefone(lista_contatos, nome)\n",
    "        return 5, lista_contatos\n",
    "    else:\n",
    "        print(\"O contato que você tentou alterar não existe, ou a opção digitada é invalida. Tente Novamente!\")\n",
    "        return 6, lista_contatos\n",
    "\n",
    "    \n",
    "\n",
    "active = -1\n",
    "lista_contatos = {}\n",
    "while active != 0:\n",
    "    print(lista_contatos)\n",
    "    active, lista_contatos = menu(lista_contatos)"
   ]
  },
  {
   "cell_type": "markdown",
   "metadata": {},
   "source": [
    "## 🌌 O futuro... 🌌 <a class=\"anchor\" id=\"cinco\"></a>\n",
    "\n",
    "&emsp; Vimos hoje as últimas formas nativas de se estruturar dados com Python, mas claro que esse conceito vai muuuito além do que vimos! Temos listas ligadas, _hashmaps_, matrizes esparsas, grafos, árvores binárias e diversas outras maneiras de estruturar nossos dados de forma que a visualização e processamento seja a mais eficiênte para o problema que estivermos atacando. Normalmente o conhecimento de estrutura de dados anda de mão dadas com os algoritimos de percorrimento dessas estruturas (na aula de hoje utilizamos os _fors_ para essa tarefa). <br>\n",
    "&emsp; Caso se interessem pelo conteúdo e tenham curiosidade/necessidade de conhecer mais a respeito me perguntem pelo meio que se sentirem mais confortáveis! 🚀 \n",
    "\n",
    "# Acabooou! 🎉 Agradeço pela atenção de todos! 😄\n",
    "## Qualquer dúvida não hesitem em me chamar. 👩‍💻"
   ]
  }
 ],
 "metadata": {
  "interpreter": {
   "hash": "31f2aee4e71d21fbe5cf8b01ff0e069b9275f58929596ceb00d14d90e3e16cd6"
  },
  "kernelspec": {
   "display_name": "Python 3.8.9 64-bit",
   "language": "python",
   "name": "python3"
  },
  "language_info": {
   "codemirror_mode": {
    "name": "ipython",
    "version": 3
   },
   "file_extension": ".py",
   "mimetype": "text/x-python",
   "name": "python",
   "nbconvert_exporter": "python",
   "pygments_lexer": "ipython3",
   "version": "3.8.9"
  }
 },
 "nbformat": 4,
 "nbformat_minor": 4
}
