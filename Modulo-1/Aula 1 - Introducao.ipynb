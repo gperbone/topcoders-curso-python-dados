{
 "cells": [
  {
   "cell_type": "code",
   "execution_count": null,
   "metadata": {},
   "outputs": [],
   "source": []
  },
  {
   "cell_type": "markdown",
   "metadata": {
    "id": "jQKvjTK5s1Os"
   },
   "source": [
    "# Bem vindos a Let's Code!\n",
    "Parabéns por este passo dado em direção seu futuro.<br>\n",
    "Vamos programar?<br><br>\n",
    "<div>\n",
    "<img src=\"https://cio.com.br/wp-content/uploads/2020/10/linguagem-programacao-python-1024x576.jpg\" width=\"500\"/>\n",
    "</div>"
   ]
  },
  {
   "cell_type": "markdown",
   "metadata": {
    "id": "_IBM2UARs1Ox"
   },
   "source": [
    "## 👨‍🏫 O Professor 👨‍🏫\n",
    "\n",
    "#### Brian Andrade Nunes\n",
    "- Graduando de Engenharia de Computação - POLI - USP<br />\n",
    "- Professor na Let's Code\n",
    "- E-mail: brian.nunes@usp.br<br />\n",
    "- WhatsApp: (11) 96391-3887<br />"
   ]
  },
  {
   "cell_type": "markdown",
   "metadata": {
    "id": "SaAO0Mc0s1Oz"
   },
   "source": [
    "## 📍 Tópicos de Hoje 📍\n",
    "<br>\n",
    "\n",
    "🖖 Conversa, Apresentação e o Curso\n",
    "\n",
    "👣 [Primeiros Passos: Seu Computador Sabe Python?](#um)\n",
    "\n",
    "👶 [Ambiente de Desenvolvimento: O Que São? Qual Usar?](#dois)\n",
    "\n",
    "🚶‍♂️ [Varíaveis: Conceito de Memória e Dados](#tres)\n",
    "\n",
    "🏃 [Operadores Matemáticos e Comunicação com o Usuário](#quatro)\n",
    "    \n",
    "🏆 [Exercícios](#cinco)\n",
    "\n",
    "🚀 [O Futuro...](#seis)"
   ]
  },
  {
   "cell_type": "markdown",
   "metadata": {
    "id": "tgpLO0Dds1Oz"
   },
   "source": [
    "## 💻🎓  Primeiros passos: Seu computador sabe Python? 💻🎓 <a class=\"anchor\" id=\"um\"></a>\n",
    "<br>\n",
    "\n",
    "<div align=\"justify\">\n",
    "&emsp; Antes de aprendermos Python nosso computador precisa entender Python, se você usa Linux ou MacOS seu computador já entende, mas se usa Windows não tema! Iremos ensinar nosso computador.<br>\n",
    "&emsp; Iremos instalar o Python, mas ele não é um programa normal que você abre e \"roda\", ele serve apenas para seu computador entender o que escrevermos na linguagem. Para isso vamos nesse link: <a href=\"https://www.python.org\">Instalador Python</a>, e na aba de <i>downloads</i> clicar na opçao mais a direita que aparecer.<br>\n",
    "&emsp; Basta iniciarmos o instalador baixado, mas <strong>cuidado</strong>, você <strong>deve</strong> marcar a opção de adicionar o Python no seu PATH do Windows para que funcione!<br>\n",
    "</div>\n",
    "\n",
    "<img src=\"https://phoenixnap.com/kb/wp-content/uploads/2021/04/python-setup.png\" width=\"500\"/><br>\n",
    "\n",
    "<div align=\"justify\">\n",
    "&emsp; Em seguida podemos seguir sem grandes novidades e perigos 😁<br><br>\n",
    "&emsp; Para conferir a instalação devemos abrir o terminal do nosso computador. Em Windows devemos usar: <b>Windows + R</b> escrever <b>\"cmd\"</b> e pressionar <b>Enter</b>; No Linux usamos <b>Ctrl + Alt + T</b>; E no MacOS apertaremos <b>Control + Espaço</b> e procuraremos por <b>Terminal</b> na barra do <i>Spotlight</i>. E dentro do terminal escreveremos <b>\"python --version\"</b> ou <b>\"python3 --version\"</b>, a saida esperada é algo como <b>\"Python 3.9.5\"</b>, ou seja, nossa nova linguagem do coração seguida da versão que instalamos dela!\n",
    "</div>"
   ]
  },
  {
   "cell_type": "markdown",
   "metadata": {
    "id": "YQwHtbA0s1O0"
   },
   "source": [
    "## 🔧 Ambiente de desenvolvimento: O que são? Qual usar? 🔧<a class=\"anchor\" id=\"dois\"></a>\n",
    "\n",
    "&emsp; Ambientes de Desenvolvimentos, ou IDEs, são nosso campo de batalha, é onde a criança chora e a mãe não vê! É aqui que vamos escrever nossos códigos, inclusive, se você está lendo isso no seu computador, é por quê já está em uma IDE: o _Jupyter Notebook_ (ou qualquer leitor de _notebooks_ de Python como o _Google Colab_). <br>\n",
    "&emsp; No curso usarei principalmente o _Jupyter Notebook_ por ter a capacidade de desenvolver esses materiais com muuuuito carinho para vocês, onde texto, imagens e códigos podem ser misturados, além de ter a capacidade de rodar pequenos trechos de códigos um por vez o que nos ajuda a entender o que está acontecendo e manter a organização, mas não me limitarei a ele e também usarei o _Visual Studio Code_ por ser uma ferramenta mais robusta que conta com ferramentas que facilitam nosso desenvolvimento (como o _debug_ que veremos mais a frente!).<br>\n",
    "&emsp; Qual IDE usar vai depender muito de suas necessidades, mas recomendo que todos usem um leitor de _notebooks_ no curso para que vocês possam acompanhar o material fornecido e também consiguirem rodar pequenos pedaços isolados de código sem ter que criar um arquivo novo para cada um.<br>\n",
    "\n",
    "### Instalação do _Jupyter Notebook_\n",
    "&emsp; Para instalar o _Jupyter Notebook_ devemos abrir nosso terminal e escrever **\"pip install notebook\"**, o **pip** é um amigo nosso que servirá para instalar complementos para o Python. Após a instalação ser completa basta escrever **\"jupyter notebook\"** e seu navegador padrão será aberto rodando o _Jupyter_, note que você não pode fechar o terminal que usou para abrir, se não sua IDE não irá funcionar.<br>\n",
    "&emsp; Na tela inicial do _Jupyter_ temos o **_new_** e o **_upload_**, no _new_ podemos iniciar um _notebook_ novo na opção Python3, e no _upload_ adicionar um que baixamos, por exemplo. Vamos tentar com este que estou usando?<br>\n",
    "&emsp; Agora dentro de um _notebook_ podemos brincar com os blocos de _markdown_ onde escrevemos textos (desde texto puro até o uso de HTML para estilizar nosso conteúdo, nesse link vocês podem consultar muitas funcionalidades: <a href=\"https://medium.com/analytics-vidhya/the-ultimate-markdown-guide-for-jupyter-notebook-d5e5abf728fd\">Tutorial de Markdown</a>), e os blocos de código onde programaremos e iremos rodar usando os botões estilo multimídia na barra superior. Não se preocupem com o resto, aprenderemos com o tempo.<br>\n",
    "\n",
    "### Instalação do _Visual Studio Code_\n",
    "&emsp; Para instalar o _Visual Studio Code_ basta baixarmos no site: <a href=\"https://code.visualstudio.com\">Visual Studio Code</a>, e seguir a instalação, apenas percebam que na última tela devemos marcar tudo como na foto abaixo: <br>\n",
    "<img src=\"https://s3-sa-east-1.amazonaws.com/lcpi/627ae5e6-7486-400b-adcf-fe1f7fe71d0e.png\" width=\"500\"/><br>\n",
    "&emsp; E para finalmente rodarmos Python precisaremos de algumas gracinhas que nos ajudarão muito: as extensões. Elas podem ser fácilmente baixadas clicando aqui:<br>\n",
    "\n",
    "<img src=\"https://image.ibb.co/nqiKtd/Screenshot_32.png\" width=\"500\"/><br>\n",
    "\n",
    "&emsp; Em seguida podemos clicar em _file_ criar um arquivo com terminação _\".py\"_ e ser feliz! 😄<br>"
   ]
  },
  {
   "cell_type": "markdown",
   "metadata": {
    "id": "BBAZrBgxs1O1"
   },
   "source": [
    "## 📥 Varíaveis: Conceito de memória e dados 📤 <a class=\"anchor\" id=\"tres\"></a>\n",
    "\n",
    "&emsp; Váriaveis como o próprio diz são \"coisas\" variáveis, e usaremos elas para armazenar nossos dados.<br>\n",
    "&emsp; Dados possuem tipos: **_string_** que armazena texto, **_int_** que armazena números inteiros, **_float_** que armazena números decimais (separados por ponto!), e **_boolean_** que armazenará _true_ ou _false_. Embora o Python faça o trabalho de saber o que é o que sozinho, você precisa entender os tipos de dados para trabalhar com eles.<br>"
   ]
  },
  {
   "cell_type": "code",
   "execution_count": null,
   "metadata": {
    "id": "CgO0rcYns1O3"
   },
   "outputs": [],
   "source": [
    "variavel_inteira = 10\n",
    "variavel_float = 3.14159\n",
    "nome = 'Brian'\n",
    "varLogica = False\n",
    "\n",
    "variavelInteira = 'teste'\n",
    "\n",
    "variavelInteira"
   ]
  },
  {
   "cell_type": "markdown",
   "metadata": {
    "id": "4QsQbPYas1O5"
   },
   "source": [
    "&emsp; Os tipos podem ser explicitados usando :**tipoDado** depois do nome da variável, além disso podemos fazer o _cast_ (mudança de tipo) usando _tipoDado(dadoQueQuerConverter)_ entre variaveis de diferentes tipos, mas note que isso pode gerar problemas se feito deliberadamente:<br>"
   ]
  },
  {
   "cell_type": "code",
   "execution_count": null,
   "metadata": {
    "id": "OXnF2aAIs1O6",
    "outputId": "b9355084-1d27-40c5-9b5d-7b55df574c2b"
   },
   "outputs": [],
   "source": [
    "idade:int = 7 # variavel para armazenar idade\n",
    "nome:str = 'Brian'\n",
    "\n",
    "pi:float = 3.14159\n",
    "\n",
    "print(type(pi))\n",
    "\n",
    "pi:float = True\n",
    "\n",
    "print(type(pi))"
   ]
  },
  {
   "cell_type": "code",
   "execution_count": null,
   "metadata": {},
   "outputs": [],
   "source": [
    "nota = 7\n",
    "\n",
    "idade = \"15\"\n",
    "\n",
    "notaTxt = str(nota)\n",
    "\n",
    "notaInteira = int(nota)\n",
    "\n",
    "idadeFloat = float(idade)\n",
    "\n",
    "notaFloat = float(nota)\n",
    "\n",
    "notaFloat"
   ]
  },
  {
   "cell_type": "code",
   "execution_count": null,
   "metadata": {},
   "outputs": [],
   "source": [
    "letra = 'a'\n",
    "\n",
    "aInteiro = int(letra)"
   ]
  },
  {
   "cell_type": "markdown",
   "metadata": {
    "id": "ma2p-IxQs1O8"
   },
   "source": [
    "&emsp; Sempre tente usar nomes que façam sentidos no seu programa para não se atrapalharem, isso fará mais sentido nos exercícios.<br>\n",
    "&emsp; No Python podemos definir muitas variáveis numa mesma linha com valores diferentes ou o mesmo valor.<br>"
   ]
  },
  {
   "cell_type": "code",
   "execution_count": null,
   "metadata": {
    "id": "lZSiGjaPs1O9"
   },
   "outputs": [],
   "source": [
    "x, y, z = 0, 5, 9\n",
    "\n",
    "x = y = z = 0"
   ]
  },
  {
   "cell_type": "markdown",
   "metadata": {
    "id": "zIgx0dBbs1O9"
   },
   "source": [
    "## 🧮 Operadores Matemáticos e Comunicação com o Usuário 🧮 <a class=\"anchor\" id=\"quatro\"></a>\n",
    "\n",
    "### Operadores Matemáticos\n",
    "\n",
    "&emsp; O Python faz operações matemáticas entre variáveis e dados puros, a seguir temos uma tabela com os operadores e suas funções:<br>\n",
    "\n",
    "| Operador | Função           |\n",
    "|----------|------------------|\n",
    "| +        | Adição           |\n",
    "| -        | Subtração        |\n",
    "| *        | Multiplicação    |\n",
    "| /        | Divisão          |\n",
    "| %        | Resto de divisão |\n",
    "| **       | Potênciação      |\n",
    "| //       | Divisão Inteira  |\n",
    "\n",
    "&emsp; Além disso, fazemos uso de parênteses para definir ordem de contas assim como na matemática.<br>"
   ]
  },
  {
   "cell_type": "code",
   "execution_count": null,
   "metadata": {
    "id": "kbxrzgZes1O-"
   },
   "outputs": [],
   "source": [
    "a = 32\n",
    "b = 3\n",
    "a**(1/5)"
   ]
  },
  {
   "cell_type": "code",
   "execution_count": null,
   "metadata": {},
   "outputs": [],
   "source": [
    "(5-1)*2"
   ]
  },
  {
   "cell_type": "code",
   "execution_count": null,
   "metadata": {},
   "outputs": [],
   "source": [
    "1 + 5.7"
   ]
  },
  {
   "cell_type": "code",
   "execution_count": null,
   "metadata": {},
   "outputs": [],
   "source": [
    "1 + int(\"1\")"
   ]
  },
  {
   "cell_type": "code",
   "execution_count": null,
   "metadata": {},
   "outputs": [],
   "source": [
    "str(1) + \"1\""
   ]
  },
  {
   "cell_type": "code",
   "execution_count": null,
   "metadata": {},
   "outputs": [],
   "source": [
    "'ola' * 10"
   ]
  },
  {
   "cell_type": "markdown",
   "metadata": {
    "id": "4iaYXSkds1O-"
   },
   "source": [
    "### input() e print()\n",
    "\n",
    "&emsp; A funcão input() irá ler uma entrada de usuário em formato de _string_ (portanto se você espera outro tipo de dado deverá fazer o _cast_), e podemos colocar outra _string_ dentro dos parênteses que será a pergunta feita ao usuário.<br>\n",
    "&emsp; A funcão print() irá imprimir algo para o usuário, e receberá o que ela deve imprimir dentro dos parênteses, podendo ser variáveis, textos e a mistura dos dois.<br>"
   ]
  },
  {
   "cell_type": "code",
   "execution_count": null,
   "metadata": {
    "id": "i9myEkNcs1O_",
    "outputId": "bae63b1b-9e5d-42ee-fbb2-78f95b9a0507"
   },
   "outputs": [],
   "source": [
    "nome = input(\"Qual o seu nome? \")\n",
    "nacionalidade = input(\"Qual sua nacionalidade? \")\n",
    "print(f\"Olá, {nome} voce é: {nacionalidade}!\")"
   ]
  },
  {
   "cell_type": "code",
   "execution_count": null,
   "metadata": {},
   "outputs": [],
   "source": [
    "nota = float(input(\"Qual sua nota? \"))\n",
    "print(type(nota))\n",
    "print(nota)"
   ]
  },
  {
   "cell_type": "markdown",
   "metadata": {
    "id": "ksWegZoKs1PA"
   },
   "source": [
    "## 🎯 Exercícios 🎯 <a class=\"anchor\" id=\"cinco\"></a>\n",
    "\n",
    "**1)** Faça um Programa que mostre a mensagem \"Alo mundo\" na tela."
   ]
  },
  {
   "cell_type": "code",
   "execution_count": 2,
   "metadata": {
    "id": "Ajg4JjQSs1PA"
   },
   "outputs": [
    {
     "name": "stdout",
     "output_type": "stream",
     "text": [
      "Alo mundo\n"
     ]
    }
   ],
   "source": [
    "print(\"Alo mundo\")"
   ]
  },
  {
   "cell_type": "markdown",
   "metadata": {
    "id": "UbK0yPCys1PB"
   },
   "source": [
    "**2)** Faça um Programa que peça as 4 notas bimestrais e mostre a média."
   ]
  },
  {
   "cell_type": "code",
   "execution_count": 1,
   "metadata": {
    "id": "6Q6tE9z9s1PB"
   },
   "outputs": [
    {
     "name": "stdout",
     "output_type": "stream",
     "text": [
      "9.0\n"
     ]
    }
   ],
   "source": [
    "media = 0\n",
    "for i in range(4):\n",
    "    media += float(input(f\"Digite a {i+1}a nota: \"))/4\n",
    "\n",
    "print(media)"
   ]
  },
  {
   "cell_type": "markdown",
   "metadata": {
    "id": "ED1eOWnfs1PB"
   },
   "source": [
    "**3)** Faça um Programa que pergunte quanto você ganha por hora e o número de horas trabalhadas no mês. Calcule e mostre o total do seu salário no referido mês."
   ]
  },
  {
   "cell_type": "code",
   "execution_count": null,
   "metadata": {
    "id": "elBT1_j-s1PB"
   },
   "outputs": [],
   "source": [
    "ganho_hora = float(input('Quanto você ganha por hora trabalhada? '))\n",
    "horas_trabalhadas = float(input('Quantas horas você trabalhou neste mês? '))\n",
    "\n",
    "salario = ganho_hora * horas_trabalhadas\n",
    "print('Seu salário neste mês será', salario)"
   ]
  },
  {
   "cell_type": "markdown",
   "metadata": {
    "id": "d4cKZGA5s1PC"
   },
   "source": [
    "**4)** Faça um Programa que peça a temperatura em graus Fahrenheit, transforme e mostre a temperatura em graus Celsius.<br>\n",
    "\n",
    "$$ C = \\frac{5 * (F-32)}{9} $$"
   ]
  },
  {
   "cell_type": "code",
   "execution_count": 6,
   "metadata": {
    "id": "_xL0P4KFs1PC"
   },
   "outputs": [
    {
     "name": "stdout",
     "output_type": "stream",
     "text": [
      "A temperatura 32.0 °F em Celsius é 0.0 °C\n"
     ]
    }
   ],
   "source": [
    "tempF = float(input('Qual é a temperatura em Fahrenheit?'))\n",
    "\n",
    "tempC = (5*(tempF - 32))/9\n",
    "\n",
    "print('A temperatura', tempF, '°F em Celsius é', tempC, '°C')"
   ]
  },
  {
   "cell_type": "markdown",
   "metadata": {
    "id": "0WjyN3o2s1PC"
   },
   "source": [
    "**5)** Faça um Programa que pergunte quanto você ganha por hora e o número de horas trabalhadas no mês. Calcule e mostre o total do seu salário no referido mês, sabendo-se que são descontados 11% para o Imposto de Renda, 8% para o INSS e 5% para o sindicato, faça um programa que nos dê:\n",
    "- Salário bruto.\n",
    "- Quanto pagou ao INSS.\n",
    "- Quanto pagou ao sindicato.\n",
    "- O salário líquido."
   ]
  },
  {
   "cell_type": "code",
   "execution_count": null,
   "metadata": {
    "id": "jUAsGTQ-s1PC"
   },
   "outputs": [],
   "source": [
    "ganho_hora = float(input('Quanto você ganha por hora? '))\n",
    "horas_trabalhadas = float(input('Quantas horas você trabalhou neste mês? '))\n",
    "\n",
    "salario_bruto = ganho_hora * horas_trabalhadas\n",
    "imposto_renda = 0.11 * salario_bruto\n",
    "inss = 0.08 * salario_bruto\n",
    "sindicato = 0.05 * salario_bruto\n",
    "salario_liquido = salario_bruto - imposto_renda - inss - sindicato\n",
    "\n",
    "print('Seu salário bruto é:', salario_bruto)\n",
    "print('O valor pago em IR:', imposto_renda)\n",
    "print('O valor pago em INSS:', inss)\n",
    "print('O valor pago ao sindicato:', sindicato)\n",
    "print('Portanto, seu salário líquido será:', salario_liquido)"
   ]
  },
  {
   "cell_type": "markdown",
   "metadata": {
    "id": "AaZKq2Wfs1PC"
   },
   "source": [
    "**6)** João Papo-de-Pescador, homem de bem, comprou um microcomputador para controlar o rendimento diário de seu trabalho. Toda vez que ele traz um peso de peixes maior que o estabelecido pelo regulamento de pesca do estado de São Paulo (50 quilos) deve pagar uma multa de R$ 4,00 por quilo excedente. João precisa que você faça um programa que leia a variável peso (peso de peixes) e calcule o excesso. Gravar na variável excesso a quantidade de quilos além do limite e na variável multa o valor da multa que João deverá pagar. Imprima os dados do programa com as mensagens adequadas."
   ]
  },
  {
   "cell_type": "code",
   "execution_count": 14,
   "metadata": {
    "id": "lvQpZRQKs1PC"
   },
   "outputs": [
    {
     "name": "stdout",
     "output_type": "stream",
     "text": [
      "O excendente nesta pesca foi de 2.00 kgs de peixe\n",
      "Portanto, deverá pagar uma multa de R$8.00\n"
     ]
    }
   ],
   "source": [
    "quilos_total = float(input(\"Digite a quantidade de quilos de peixe: \"))\n",
    "\n",
    "if quilos_total > 50:\n",
    "    quilos_excendente = quilos_total - 50\n",
    "    multa = quilos_excendente * 4\n",
    "    print(f\"O excendente nesta pesca foi de {quilos_excendente:.2f} kgs de peixe\")\n",
    "    print(f\"Portanto, deverá pagar uma multa de R${multa:.2f}\") \n",
    "elif quilos_total > 0:\n",
    "    print('Este valor entá dentro do permitido, e não será aplicada multa.')\n",
    "else:\n",
    "    print('Valor inválido')"
   ]
  },
  {
   "cell_type": "markdown",
   "metadata": {
    "id": "70DJrG3ds1PD"
   },
   "source": [
    "**7)** Faça um Programa para uma loja de tintas. O programa deverá pedir o tamanho em metros quadrados da área a ser pintada. Considere que a cobertura da tinta é de 1 litro para cada 6 metros quadrados e que a tinta é vendida em latas de 18 litros, que custam 80,00 reais ou em galões de 3,6 litros, que custam 25,00 reais.<br>\n",
    "&emsp; Informe ao usuário as quantidades de tinta a serem compradas e os respectivos preços em 3 situações:\n",
    "- Comprar apenas latas de 18 litros;\n",
    "- Comprar apenas galões de 3,6 litros;\n",
    "- Misturar latas e galões, de forma que o desperdício de tinta seja menor. Podem considerar latas pela metade (valores decimais para quantidade de latas)"
   ]
  },
  {
   "cell_type": "code",
   "execution_count": null,
   "metadata": {
    "id": "JvBYJ4Fks1PD"
   },
   "outputs": [],
   "source": [
    "area_m2 = float(input(\"Qual a área a ser pintada? \"))\n",
    "litros_tinta = area_m2 / 6.0\n",
    "\n",
    "print(litros_tinta)\n",
    "\n",
    "#caso 1 - apenas latas de 18L inteiras, independente de desperdício\n",
    "sobra = 0\n",
    "total_latas = litros_tinta // 18\n",
    "\n",
    "if litros_tinta % 18 != 0:\n",
    "  total_latas = total_latas + 1\n",
    "  sobra = 18 - (litros_tinta % 18)\n",
    "\n",
    "custo = total_latas * 80\n",
    "print('Serão utilizadas', total_latas, 'latas, no valor de R$', custo, 'havendo sobra de', sobra, 'L na ultima lata.')\n",
    "\n",
    "\n",
    "#caso 2 - apenas galões 3,6L inteiros, independente de desperdício\n",
    "sobra = 0\n",
    "total_galoes = litros_tinta // 3.6\n",
    "\n",
    "if litros_tinta % 3.6 != 0:\n",
    "  total_galoes = total_galoes + 1\n",
    "  sobra = 3.6 - (litros_tinta % 3.6)\n",
    "\n",
    "custo = total_galoes * 25\n",
    "print('Serão utilizados', total_galoes, 'galões, no valor de R$', custo, 'havendo sobra de', sobra, 'L no último galão.')\n",
    "\n",
    "\n",
    "#caso 3 - misturar latas e galões, sendo possível ter meias latas\n",
    "desperdicio = 0\n",
    "latas_inteiras = litros_tinta // 18\n",
    "resto = litros_tinta % 18\n",
    "latas_meias = resto // 9\n",
    "resto2 = litros_tinta % 9\n",
    "galoes = resto2 // 3.6\n",
    "\n",
    "if resto2 % 3.6 > 0:\n",
    "  galoes = galoes+1\n",
    "  desperdicio = 3.6 - (resto2 % 3.6)\n",
    "\n",
    "custo_total = latas_inteiras * 80 + latas_meias * 40 + galoes * 25\n",
    "print('Serão utilizados', latas_inteiras, 'latas,', latas_meias, 'meia-latas, e', galoes, 'galões, no valor de R$', custo_total, 'havendo desperdício no último galão de', desperdicio, 'L.')"
   ]
  },
  {
   "cell_type": "markdown",
   "metadata": {
    "id": "n6wuRFjVs1PD"
   },
   "source": [
    "## 🌌 O futuro... 🌌 <a class=\"anchor\" id=\"seis\"></a>\n",
    "\n",
    "&emsp; Treinem bastante esses conteúdos, se habituem com os ambientes de programação e com os diferentes dados que podemos lidar, na próxima aula iremos entender condicionais e a partir dai teremos cada vez mais possibilidades de exercícios e, portanto, de aplicações dos nossos conhecimentos.\n",
    "\n",
    "# Acabooou! 🎉 Agradeço pela atenção de todos! 😄\n",
    "## Qualquer duvida não hesitem em me chamar. 👩‍💻"
   ]
  }
 ],
 "metadata": {
  "colab": {
   "name": "Aula 1 - Introducao.ipynb",
   "provenance": []
  },
  "interpreter": {
   "hash": "31f2aee4e71d21fbe5cf8b01ff0e069b9275f58929596ceb00d14d90e3e16cd6"
  },
  "kernelspec": {
   "display_name": "Python 3.8.9 64-bit",
   "language": "python",
   "name": "python3"
  },
  "language_info": {
   "codemirror_mode": {
    "name": "ipython",
    "version": 3
   },
   "file_extension": ".py",
   "mimetype": "text/x-python",
   "name": "python",
   "nbconvert_exporter": "python",
   "pygments_lexer": "ipython3",
   "version": "3.8.9"
  }
 },
 "nbformat": 4,
 "nbformat_minor": 1
}
