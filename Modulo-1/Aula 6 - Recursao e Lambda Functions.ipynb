{
 "cells": [
  {
   "cell_type": "markdown",
   "metadata": {},
   "source": [
    "# Recursividade"
   ]
  },
  {
   "cell_type": "markdown",
   "metadata": {},
   "source": [
    "5! = 5.4.3.2.1\n",
    "\n",
    "4! = 4.3.2.1\n",
    "\n",
    "3! = 3.2.1\n",
    "\n",
    "5! = 5.4!\n",
    "\n",
    "4! = 4.3!\n",
    "\n",
    "3! = 3.2!\n",
    "\n",
    "2! = 2.1!\n",
    "\n",
    "1! = 1.0!\n",
    "\n",
    "0! = 1\n",
    "\n",
    "5! = 5.4.3!"
   ]
  },
  {
   "cell_type": "code",
   "execution_count": null,
   "metadata": {},
   "outputs": [],
   "source": []
  },
  {
   "cell_type": "markdown",
   "metadata": {},
   "source": [
    "Função que retorna o N-ésimo elemento de fibonacci"
   ]
  },
  {
   "cell_type": "code",
   "execution_count": null,
   "metadata": {},
   "outputs": [],
   "source": [
    "def fibo(n):\n",
    "    if n == 1:\n",
    "        return 0\n",
    "    elif n == 2:\n",
    "        return 1\n",
    "    else:\n",
    "        return fibo(n-1) + fibo(n-2)\n",
    "\n"
   ]
  },
  {
   "cell_type": "code",
   "execution_count": null,
   "metadata": {},
   "outputs": [],
   "source": [
    "%%timeit\n",
    "\n",
    "def fibonacci(n, memo=[]):\n",
    "    if n < len(memo):\n",
    "        return memo[n]\n",
    "    elif n == 0:\n",
    "        memo.append(0)\n",
    "        return 0\n",
    "    elif n == 1 and len(memo) != 0:\n",
    "        memo.append(1)\n",
    "        return 1\n",
    "    else:\n",
    "        output = fibonacci(n - 1, memo) + fibonacci(n - 2, memo)\n",
    "        memo.append(output)\n",
    "        return output\n",
    "\n",
    "fibonacci(10)"
   ]
  },
  {
   "cell_type": "code",
   "execution_count": 17,
   "metadata": {},
   "outputs": [
    {
     "data": {
      "text/plain": [
       "55"
      ]
     },
     "execution_count": 17,
     "metadata": {},
     "output_type": "execute_result"
    }
   ],
   "source": [
    "def fibo_ot(n):\n",
    "    lista = [0, 1]\n",
    "\n",
    "    for i in range(2, n+1):\n",
    "        if i+1 > len(lista):\n",
    "            lista.append(lista[i-1] + lista[i-2])\n",
    "    \n",
    "    return lista[n-1]\n",
    "\n",
    "fibo_ot(11)"
   ]
  },
  {
   "cell_type": "markdown",
   "metadata": {},
   "source": [
    "Função que soma listas com sublistas"
   ]
  },
  {
   "cell_type": "code",
   "execution_count": 2,
   "metadata": {},
   "outputs": [
    {
     "name": "stdout",
     "output_type": "stream",
     "text": [
      "14\n"
     ]
    }
   ],
   "source": [
    "def somaTudo(lista):\n",
    "    soma = 0\n",
    "\n",
    "    for i in lista:\n",
    "        if type(i) == int:\n",
    "            soma += i\n",
    "        elif type(i) == list:\n",
    "            soma += somaTudo(i)\n",
    "    \n",
    "    return soma\n",
    "\n",
    "listaGabarito = [[0, 3, 5, 1], 2, 3, [2, [5, 6, 7, [1, 4, 6]], 3], 2, [3, 5, 10, [6]]]\n",
    "#listaGabarito = [[0, 3, 5, 1], 2, 3]\n",
    "print(somaTudo(listaGabarito))"
   ]
  },
  {
   "cell_type": "markdown",
   "metadata": {},
   "source": [
    "# Funções Lambda"
   ]
  },
  {
   "cell_type": "markdown",
   "metadata": {},
   "source": [
    "lambda (parametros): (retorno/expressao)"
   ]
  },
  {
   "cell_type": "code",
   "execution_count": null,
   "metadata": {},
   "outputs": [],
   "source": [
    "somaDois = lambda x: x + 2"
   ]
  },
  {
   "cell_type": "code",
   "execution_count": null,
   "metadata": {},
   "outputs": [],
   "source": [
    "somaDois(7)"
   ]
  },
  {
   "cell_type": "code",
   "execution_count": null,
   "metadata": {},
   "outputs": [],
   "source": [
    "calculaArea = lambda x, y: x*y\n",
    "calculaArea(3, 2)"
   ]
  },
  {
   "cell_type": "code",
   "execution_count": null,
   "metadata": {},
   "outputs": [],
   "source": [
    "type(calculaArea)"
   ]
  },
  {
   "cell_type": "markdown",
   "metadata": {},
   "source": [
    "Funções anônimas"
   ]
  },
  {
   "cell_type": "code",
   "execution_count": null,
   "metadata": {},
   "outputs": [],
   "source": [
    "def funcaoMultiplicadora(n):\n",
    "    return lambda x : x * n"
   ]
  },
  {
   "cell_type": "code",
   "execution_count": null,
   "metadata": {},
   "outputs": [],
   "source": [
    "dobradora = funcaoMultiplicadora(2)"
   ]
  },
  {
   "cell_type": "code",
   "execution_count": null,
   "metadata": {},
   "outputs": [],
   "source": [
    "dobradora = lambda x : x * 2"
   ]
  },
  {
   "cell_type": "code",
   "execution_count": null,
   "metadata": {},
   "outputs": [],
   "source": [
    "dobradora(10)"
   ]
  },
  {
   "cell_type": "code",
   "execution_count": null,
   "metadata": {},
   "outputs": [],
   "source": [
    "triplicadora = funcaoMultiplicadora(3)"
   ]
  },
  {
   "cell_type": "code",
   "execution_count": null,
   "metadata": {},
   "outputs": [],
   "source": [
    "triplicadora(5)"
   ]
  },
  {
   "cell_type": "code",
   "execution_count": null,
   "metadata": {},
   "outputs": [],
   "source": [
    "listaTeste = [[\"c\", 1], [\"d\", 2], [\"a\", 5],[\"b\", 3], [\"a\", 3]]"
   ]
  },
  {
   "cell_type": "code",
   "execution_count": null,
   "metadata": {},
   "outputs": [],
   "source": [
    "segundaColuna = lambda x : x[1]"
   ]
  },
  {
   "cell_type": "code",
   "execution_count": null,
   "metadata": {},
   "outputs": [],
   "source": [
    "segundaColuna(listaTeste)"
   ]
  },
  {
   "cell_type": "code",
   "execution_count": null,
   "metadata": {},
   "outputs": [],
   "source": [
    "def colunaDois(x):\n",
    "    return x[1]"
   ]
  },
  {
   "cell_type": "code",
   "execution_count": null,
   "metadata": {},
   "outputs": [],
   "source": [
    "listaTeste.sort(key = colunaDois)\n",
    "listaTeste"
   ]
  },
  {
   "cell_type": "code",
   "execution_count": null,
   "metadata": {},
   "outputs": [],
   "source": [
    "listaTeste.sort(key = lambda x : [x[1], x[0]])\n",
    "listaTeste"
   ]
  },
  {
   "cell_type": "markdown",
   "metadata": {},
   "source": [
    "Aplicação prática"
   ]
  },
  {
   "cell_type": "code",
   "execution_count": null,
   "metadata": {},
   "outputs": [],
   "source": [
    "dicionarioFormulas = {\n",
    "    \"Q\": lambda x : x**2,\n",
    "    \"C\": lambda r : 3.14159*r**2,\n",
    "    \"T\": lambda x : 3**(1/2)/4*x**2\n",
    "}\n",
    "\n",
    "def calculaArea(lado, funcao):\n",
    "    return funcao(lado)\n",
    "\n",
    "formaGeometrica = input(\"Qual forma você deseja calcular a área?(Q/C/T) \")\n",
    "tamanhoLado = int(input(\"Qual o tamanho da referência? \"))\n",
    "\n",
    "print(calculaArea(tamanhoLado, dicionarioFormulas[formaGeometrica]))"
   ]
  }
 ],
 "metadata": {
  "interpreter": {
   "hash": "31f2aee4e71d21fbe5cf8b01ff0e069b9275f58929596ceb00d14d90e3e16cd6"
  },
  "kernelspec": {
   "display_name": "Python 3.8.9 64-bit",
   "language": "python",
   "name": "python3"
  },
  "language_info": {
   "codemirror_mode": {
    "name": "ipython",
    "version": 3
   },
   "file_extension": ".py",
   "mimetype": "text/x-python",
   "name": "python",
   "nbconvert_exporter": "python",
   "pygments_lexer": "ipython3",
   "version": "3.8.9"
  }
 },
 "nbformat": 4,
 "nbformat_minor": 4
}
